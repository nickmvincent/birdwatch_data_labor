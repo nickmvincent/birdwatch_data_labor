{
 "cells": [
  {
   "cell_type": "code",
   "metadata": {
    "tags": [],
    "cell_id": "00000-b7ff3eec-d123-40b7-b868-2b04471dd12b",
    "deepnote_to_be_reexecuted": false,
    "source_hash": "7b038cfe",
    "execution_start": 1639087242171,
    "execution_millis": 737,
    "deepnote_cell_type": "code"
   },
   "source": "import pandas as pd\nimport regex as re\nimport pickle\nimport gensim\nimport pyLDAvis\n# from pyLDAvis import gensim\n\nnotes = pd.read_csv('notes-2.tsv', sep=\"\\t\")\nratings = pd.read_csv('ratings-2.tsv', sep=\"\\t\")\ntweets = pd.read_csv('noted-tweets.csv', sep=\",\")",
   "execution_count": null,
   "outputs": [
    {
     "name": "stderr",
     "text": "/shared-libs/python3.8/py-core/lib/python3.8/site-packages/ipykernel/ipkernel.py:283: DeprecationWarning: `should_run_async` will not call `transform_cell` automatically in the future. Please pass the result to `transformed_cell` argument and any exception that happen during thetransform in `preprocessing_exc_tuple` in IPython 7.17 and above.\n  and should_run_async(code)\n",
     "output_type": "stream"
    }
   ]
  },
  {
   "cell_type": "code",
   "metadata": {
    "tags": [],
    "cell_id": "00000-43953380-bcda-43ec-81c8-9fe175d01295",
    "deepnote_to_be_reexecuted": false,
    "source_hash": "4006ff20",
    "execution_start": 1639087245392,
    "execution_millis": 13,
    "deepnote_output_heights": [
     null,
     21.1875
    ],
    "deepnote_cell_type": "code"
   },
   "source": "print(len(tweets), len(notes), len(ratings))",
   "execution_count": null,
   "outputs": [
    {
     "name": "stdout",
     "text": "12708 16268 93778\n/shared-libs/python3.8/py-core/lib/python3.8/site-packages/ipykernel/ipkernel.py:283: DeprecationWarning: `should_run_async` will not call `transform_cell` automatically in the future. Please pass the result to `transformed_cell` argument and any exception that happen during thetransform in `preprocessing_exc_tuple` in IPython 7.17 and above.\n  and should_run_async(code)\n",
     "output_type": "stream"
    }
   ]
  },
  {
   "cell_type": "code",
   "metadata": {
    "tags": [],
    "cell_id": "00003-1f50e78d-9030-412e-8887-0ab04daf8170",
    "deepnote_to_be_reexecuted": false,
    "source_hash": "53dcd5c8",
    "execution_start": 1639022873433,
    "execution_millis": 300,
    "deepnote_cell_type": "code"
   },
   "source": "with open('temp.pickle', 'rb') as handle:\n    d = pickle.load(handle)\ntweets = d['tweets']",
   "execution_count": null,
   "outputs": []
  },
  {
   "cell_type": "code",
   "metadata": {
    "tags": [],
    "cell_id": "00004-c0903f3f-525f-4614-8166-672752a4148c",
    "deepnote_to_be_reexecuted": false,
    "source_hash": "d36541de",
    "execution_start": 1639022883601,
    "execution_millis": 24,
    "deepnote_cell_type": "code"
   },
   "source": "tweets.head()",
   "execution_count": null,
   "outputs": [
    {
     "output_type": "execute_result",
     "execution_count": 15,
     "data": {
      "application/vnd.deepnote.dataframe.v2+json": {
       "row_count": 5,
       "column_count": 15,
       "columns": [
        {
         "name": "Unnamed: 0",
         "dtype": "int64",
         "stats": {
          "unique_count": 5,
          "nan_count": 0,
          "min": "1",
          "max": "5",
          "histogram": [
           {
            "bin_start": 1,
            "bin_end": 1.4,
            "count": 1
           },
           {
            "bin_start": 1.4,
            "bin_end": 1.8,
            "count": 0
           },
           {
            "bin_start": 1.8,
            "bin_end": 2.2,
            "count": 1
           },
           {
            "bin_start": 2.2,
            "bin_end": 2.6,
            "count": 0
           },
           {
            "bin_start": 2.6,
            "bin_end": 3,
            "count": 0
           },
           {
            "bin_start": 3,
            "bin_end": 3.4000000000000004,
            "count": 1
           },
           {
            "bin_start": 3.4000000000000004,
            "bin_end": 3.8000000000000003,
            "count": 0
           },
           {
            "bin_start": 3.8000000000000003,
            "bin_end": 4.2,
            "count": 1
           },
           {
            "bin_start": 4.2,
            "bin_end": 4.6,
            "count": 0
           },
           {
            "bin_start": 4.6,
            "bin_end": 5,
            "count": 1
           }
          ]
         }
        },
        {
         "name": "tweetId",
         "dtype": "int64",
         "stats": {
          "unique_count": 5,
          "nan_count": 0,
          "min": "1352754599590035459",
          "max": "1361810447431827459",
          "histogram": [
           {
            "bin_start": 1352754599590035500,
            "bin_end": 1353660184374214700,
            "count": 1
           },
           {
            "bin_start": 1353660184374214700,
            "bin_end": 1354565769158393900,
            "count": 0
           },
           {
            "bin_start": 1354565769158393900,
            "bin_end": 1355471353942573000,
            "count": 0
           },
           {
            "bin_start": 1355471353942573000,
            "bin_end": 1356376938726752300,
            "count": 2
           },
           {
            "bin_start": 1356376938726752300,
            "bin_end": 1357282523510931500,
            "count": 1
           },
           {
            "bin_start": 1357282523510931500,
            "bin_end": 1358188108295110700,
            "count": 0
           },
           {
            "bin_start": 1358188108295110700,
            "bin_end": 1359093693079289900,
            "count": 0
           },
           {
            "bin_start": 1359093693079289900,
            "bin_end": 1359999277863469000,
            "count": 0
           },
           {
            "bin_start": 1359999277863469000,
            "bin_end": 1360904862647648300,
            "count": 0
           },
           {
            "bin_start": 1360904862647648300,
            "bin_end": 1361810447431827500,
            "count": 1
           }
          ]
         }
        },
        {
         "name": "username",
         "dtype": "object",
         "stats": {
          "unique_count": 5,
          "nan_count": 0,
          "categories": [
           {
            "name": "rjnln02",
            "count": 1
           },
           {
            "name": "luscsmoothie",
            "count": 1
           },
           {
            "name": "3 others",
            "count": 3
           }
          ]
         }
        },
        {
         "name": "userId",
         "dtype": "float64",
         "stats": {
          "unique_count": 5,
          "nan_count": 0,
          "min": "39344374.0",
          "max": "9.305525523027928e+17",
          "histogram": [
           {
            "bin_start": 39344374,
            "bin_end": 93055255265689220,
            "count": 3
           },
           {
            "bin_start": 93055255265689220,
            "bin_end": 186110510492034080,
            "count": 0
           },
           {
            "bin_start": 186110510492034080,
            "bin_end": 279165765718378940,
            "count": 0
           },
           {
            "bin_start": 279165765718378940,
            "bin_end": 372221020944723800,
            "count": 0
           },
           {
            "bin_start": 372221020944723800,
            "bin_end": 465276276171068600,
            "count": 0
           },
           {
            "bin_start": 465276276171068600,
            "bin_end": 558331531397413500,
            "count": 0
           },
           {
            "bin_start": 558331531397413500,
            "bin_end": 651386786623758300,
            "count": 0
           },
           {
            "bin_start": 651386786623758300,
            "bin_end": 744442041850103200,
            "count": 0
           },
           {
            "bin_start": 744442041850103200,
            "bin_end": 837497297076448000,
            "count": 0
           },
           {
            "bin_start": 837497297076448000,
            "bin_end": 930552552302792800,
            "count": 2
           }
          ]
         }
        },
        {
         "name": "text",
         "dtype": "object",
         "stats": {
          "unique_count": 5,
          "nan_count": 0,
          "categories": [
           {
            "name": "@AF632 @alwsbord1 Black Lives Matter is a racist, domestic terror organization and should be dealt with just as ISIS and al Qaeda have been.",
            "count": 1
           },
           {
            "name": "@nobelprize To remind u what BLM did. Disqualify! RT @NextLAMayor: #BlackLivesMatter movement nominated for Nobel peace prize. https://t.co/2qDB0db13x",
            "count": 1
           },
           {
            "name": "3 others",
            "count": 3
           }
          ]
         }
        },
        {
         "name": "time",
         "dtype": "object",
         "stats": {
          "unique_count": 5,
          "nan_count": 0,
          "categories": [
           {
            "name": "2021-01-30 22:27:22",
            "count": 1
           },
           {
            "name": "2021-01-30 14:54:17",
            "count": 1
           },
           {
            "name": "3 others",
            "count": 3
           }
          ]
         }
        },
        {
         "name": "link",
         "dtype": "object",
         "stats": {
          "unique_count": 5,
          "nan_count": 0,
          "categories": [
           {
            "name": "https://twitter.com/rjnln02/status/1355643797280083973",
            "count": 1
           },
           {
            "name": "https://twitter.com/luscsmoothie/status/1355529775197130753",
            "count": 1
           },
           {
            "name": "3 others",
            "count": 3
           }
          ]
         }
        },
        {
         "name": "links",
         "dtype": "object",
         "stats": {
          "unique_count": 5,
          "nan_count": 0,
          "categories": [
           {
            "name": "[]",
            "count": 4
           },
           {
            "name": "['https://t.co/2qDB0db13x']",
            "count": 1
           }
          ]
         }
        },
        {
         "name": "clean_text",
         "dtype": "object",
         "stats": {
          "unique_count": 5,
          "nan_count": 0,
          "categories": [
           {
            "name": "['af', 'alwsbord', 'black', 'life', 'matter', 'racist', 'domestic', 'terror', 'organization', 'deal', 'isis', 'al', 'qaeda']",
            "count": 1
           },
           {
            "name": "['nobelprize', 'remind', 'u', 'blm', 'disqualify', 'rt', 'nextlamayor', 'blacklivesmatter', 'movement', 'nominate', 'nobel', 'peace', 'prize']",
            "count": 1
           },
           {
            "name": "3 others",
            "count": 3
           }
          ]
         }
        },
        {
         "name": "word_count",
         "dtype": "int64",
         "stats": {
          "unique_count": 5,
          "nan_count": 0,
          "min": "77",
          "max": "284",
          "histogram": [
           {
            "bin_start": 77,
            "bin_end": 97.7,
            "count": 1
           },
           {
            "bin_start": 97.7,
            "bin_end": 118.4,
            "count": 0
           },
           {
            "bin_start": 118.4,
            "bin_end": 139.1,
            "count": 2
           },
           {
            "bin_start": 139.1,
            "bin_end": 159.8,
            "count": 0
           },
           {
            "bin_start": 159.8,
            "bin_end": 180.5,
            "count": 0
           },
           {
            "bin_start": 180.5,
            "bin_end": 201.2,
            "count": 0
           },
           {
            "bin_start": 201.2,
            "bin_end": 221.9,
            "count": 0
           },
           {
            "bin_start": 221.9,
            "bin_end": 242.6,
            "count": 1
           },
           {
            "bin_start": 242.6,
            "bin_end": 263.29999999999995,
            "count": 0
           },
           {
            "bin_start": 263.29999999999995,
            "bin_end": 284,
            "count": 1
           }
          ]
         }
        },
        {
         "name": "num_links",
         "dtype": "int64",
         "stats": {
          "unique_count": 2,
          "nan_count": 0,
          "min": "0",
          "max": "1",
          "histogram": [
           {
            "bin_start": 0,
            "bin_end": 0.1,
            "count": 4
           },
           {
            "bin_start": 0.1,
            "bin_end": 0.2,
            "count": 0
           },
           {
            "bin_start": 0.2,
            "bin_end": 0.30000000000000004,
            "count": 0
           },
           {
            "bin_start": 0.30000000000000004,
            "bin_end": 0.4,
            "count": 0
           },
           {
            "bin_start": 0.4,
            "bin_end": 0.5,
            "count": 0
           },
           {
            "bin_start": 0.5,
            "bin_end": 0.6000000000000001,
            "count": 0
           },
           {
            "bin_start": 0.6000000000000001,
            "bin_end": 0.7000000000000001,
            "count": 0
           },
           {
            "bin_start": 0.7000000000000001,
            "bin_end": 0.8,
            "count": 0
           },
           {
            "bin_start": 0.8,
            "bin_end": 0.9,
            "count": 0
           },
           {
            "bin_start": 0.9,
            "bin_end": 1,
            "count": 1
           }
          ]
         }
        },
        {
         "name": "has_links",
         "dtype": "int64",
         "stats": {
          "unique_count": 2,
          "nan_count": 0,
          "min": "0",
          "max": "1",
          "histogram": [
           {
            "bin_start": 0,
            "bin_end": 0.1,
            "count": 4
           },
           {
            "bin_start": 0.1,
            "bin_end": 0.2,
            "count": 0
           },
           {
            "bin_start": 0.2,
            "bin_end": 0.30000000000000004,
            "count": 0
           },
           {
            "bin_start": 0.30000000000000004,
            "bin_end": 0.4,
            "count": 0
           },
           {
            "bin_start": 0.4,
            "bin_end": 0.5,
            "count": 0
           },
           {
            "bin_start": 0.5,
            "bin_end": 0.6000000000000001,
            "count": 0
           },
           {
            "bin_start": 0.6000000000000001,
            "bin_end": 0.7000000000000001,
            "count": 0
           },
           {
            "bin_start": 0.7000000000000001,
            "bin_end": 0.8,
            "count": 0
           },
           {
            "bin_start": 0.8,
            "bin_end": 0.9,
            "count": 0
           },
           {
            "bin_start": 0.9,
            "bin_end": 1,
            "count": 1
           }
          ]
         }
        },
        {
         "name": "polarity",
         "dtype": "float64",
         "stats": {
          "unique_count": 5,
          "nan_count": 0,
          "min": "-0.5",
          "max": "0.16818181818181818",
          "histogram": [
           {
            "bin_start": -0.5,
            "bin_end": -0.43318181818181817,
            "count": 1
           },
           {
            "bin_start": -0.43318181818181817,
            "bin_end": -0.36636363636363634,
            "count": 0
           },
           {
            "bin_start": -0.36636363636363634,
            "bin_end": -0.29954545454545456,
            "count": 0
           },
           {
            "bin_start": -0.29954545454545456,
            "bin_end": -0.23272727272727273,
            "count": 0
           },
           {
            "bin_start": -0.23272727272727273,
            "bin_end": -0.1659090909090909,
            "count": 0
           },
           {
            "bin_start": -0.1659090909090909,
            "bin_end": -0.09909090909090912,
            "count": 0
           },
           {
            "bin_start": -0.09909090909090912,
            "bin_end": -0.032272727272727286,
            "count": 1
           },
           {
            "bin_start": -0.032272727272727286,
            "bin_end": 0.034545454545454546,
            "count": 2
           },
           {
            "bin_start": 0.034545454545454546,
            "bin_end": 0.10136363636363632,
            "count": 0
           },
           {
            "bin_start": 0.10136363636363632,
            "bin_end": 0.16818181818181818,
            "count": 1
           }
          ]
         }
        },
        {
         "name": "subjectivity",
         "dtype": "float64",
         "stats": {
          "unique_count": 5,
          "nan_count": 0,
          "min": "0.0",
          "max": "0.6666666666666666",
          "histogram": [
           {
            "bin_start": 0,
            "bin_end": 0.06666666666666667,
            "count": 1
           },
           {
            "bin_start": 0.06666666666666667,
            "bin_end": 0.13333333333333333,
            "count": 0
           },
           {
            "bin_start": 0.13333333333333333,
            "bin_end": 0.2,
            "count": 0
           },
           {
            "bin_start": 0.2,
            "bin_end": 0.26666666666666666,
            "count": 0
           },
           {
            "bin_start": 0.26666666666666666,
            "bin_end": 0.3333333333333333,
            "count": 1
           },
           {
            "bin_start": 0.3333333333333333,
            "bin_end": 0.4,
            "count": 1
           },
           {
            "bin_start": 0.4,
            "bin_end": 0.4666666666666667,
            "count": 0
           },
           {
            "bin_start": 0.4666666666666667,
            "bin_end": 0.5333333333333333,
            "count": 1
           },
           {
            "bin_start": 0.5333333333333333,
            "bin_end": 0.6,
            "count": 0
           },
           {
            "bin_start": 0.6,
            "bin_end": 0.6666666666666666,
            "count": 1
           }
          ]
         }
        },
        {
         "name": "clean_text_as_str",
         "dtype": "object",
         "stats": {
          "unique_count": 5,
          "nan_count": 0,
          "categories": [
           {
            "name": "af alwsbord black life matter racist domestic terror organization deal isis al qaeda",
            "count": 1
           },
           {
            "name": "nobelprize remind u blm disqualify rt nextlamayor blacklivesmatter movement nominate nobel peace prize",
            "count": 1
           },
           {
            "name": "3 others",
            "count": 3
           }
          ]
         }
        },
        {
         "name": "_deepnote_index_column",
         "dtype": "int64"
        }
       ],
       "rows_top": [
        {
         "Unnamed: 0": 1,
         "tweetId": 1355643797280084000,
         "username": "rjnln02",
         "userId": 1629330452,
         "text": "@AF632 @alwsbord1 Black Lives Matter is a racist, domestic terror organization and should be dealt …",
         "time": "2021-01-30 22:27:22",
         "link": "https://twitter.com/rjnln02/status/1355643797280083973",
         "links": "[]",
         "clean_text": "['af', 'alwsbord', 'black', 'life', 'matter', 'racist', 'domestic', 'terror', 'organization', 'deal…",
         "word_count": 132,
         "num_links": 0,
         "has_links": 0,
         "polarity": -0.08333333333333333,
         "subjectivity": 0.26666666666666666,
         "clean_text_as_str": "af alwsbord black life matter racist domestic terror organization deal isis al qaeda",
         "_deepnote_index_column": 1
        },
        {
         "Unnamed: 0": 2,
         "tweetId": 1355529775197130800,
         "username": "luscsmoothie",
         "userId": 307579230,
         "text": "@nobelprize To remind u what BLM did. Disqualify! RT @NextLAMayor: #BlackLivesMatter movement nomin…",
         "time": "2021-01-30 14:54:17",
         "link": "https://twitter.com/luscsmoothie/status/1355529775197130753",
         "links": "['https://t.co/2qDB0db13x']",
         "clean_text": "['nobelprize', 'remind', 'u', 'blm', 'disqualify', 'rt', 'nextlamayor', 'blacklivesmatter', 'moveme…",
         "word_count": 119,
         "num_links": 1,
         "has_links": 1,
         "polarity": 0,
         "subjectivity": 0,
         "clean_text_as_str": "nobelprize remind u blm disqualify rt nextlamayor blacklivesmatter movement nominate nobel peace pr…",
         "_deepnote_index_column": 2
        },
        {
         "Unnamed: 0": 3,
         "tweetId": 1352754599590035500,
         "username": "DonaldJTrumpJr",
         "userId": 39344374,
         "text": "Donald Trump is the first president in modern history did not start a new war.",
         "time": "2021-01-22 23:06:44",
         "link": "https://twitter.com/DonaldJTrumpJr/status/1352754599590035459",
         "links": "[]",
         "clean_text": "['donald', 'trump', 'president', 'modern', 'history', 'start', 'new', 'war']",
         "word_count": 77,
         "num_links": 0,
         "has_links": 0,
         "polarity": 0.16818181818181818,
         "subjectivity": 0.37727272727272726,
         "clean_text_as_str": "donald trump president modern history start new war",
         "_deepnote_index_column": 3
        },
        {
         "Unnamed: 0": 4,
         "tweetId": 1356441140959064000,
         "username": "FionaRamshackle",
         "userId": 866404250431230000,
         "text": "@dcexaminer Go get those Antifa bastards! And the random anarchists. And the Boogaloo Boys. And the…",
         "time": "2021-02-02 03:15:44",
         "link": "https://twitter.com/FionaRamshackle/status/1356441140959064064",
         "links": "[]",
         "clean_text": "['dcexaminer', 'antifa', 'bastard', 'random', 'anarchist', 'boogaloo', 'boy', 'blm', 'people', 'fas…",
         "word_count": 284,
         "num_links": 0,
         "has_links": 0,
         "polarity": -0.5,
         "subjectivity": 0.5,
         "clean_text_as_str": "dcexaminer antifa bastard random anarchist boogaloo boy blm people fascist thug need deal dare dres…",
         "_deepnote_index_column": 4
        },
        {
         "Unnamed: 0": 5,
         "tweetId": 1361810447431827500,
         "username": "DanCrenshawTX",
         "userId": 930552552302792800,
         "text": "This raises the obvious question: can we ever rely on renewables to power the grid during extreme w…",
         "time": "2021-02-16 22:51:26",
         "link": "https://twitter.com/DanCrenshawTX/status/1361810447431827459",
         "links": "[]",
         "clean_text": "['raise', 'obvious', 'question', 'rely', 'renewable', 'power', 'grid', 'extreme', 'weather', 'need'…",
         "word_count": 231,
         "num_links": 0,
         "has_links": 0,
         "polarity": 0.0037878787878787845,
         "subjectivity": 0.6666666666666666,
         "clean_text_as_str": "raise obvious question rely renewable power grid extreme weather need gas nuclear subsidize investm…",
         "_deepnote_index_column": 5
        }
       ],
       "rows_bottom": null
      },
      "text/plain": "   Unnamed: 0              tweetId         username        userId  \\\n1           1  1355643797280083973          rjnln02  1.629330e+09   \n2           2  1355529775197130753     luscsmoothie  3.075792e+08   \n3           3  1352754599590035459   DonaldJTrumpJr  3.934437e+07   \n4           4  1356441140959064064  FionaRamshackle  8.664043e+17   \n5           5  1361810447431827459    DanCrenshawTX  9.305526e+17   \n\n                                                text                 time  \\\n1  @AF632 @alwsbord1 Black Lives Matter is a raci...  2021-01-30 22:27:22   \n2  @nobelprize To remind u what BLM did. Disquali...  2021-01-30 14:54:17   \n3  Donald Trump is the first president in modern ...  2021-01-22 23:06:44   \n4  @dcexaminer Go get those Antifa bastards! And ...  2021-02-02 03:15:44   \n5  This raises the obvious question: can we ever ...  2021-02-16 22:51:26   \n\n                                                link  \\\n1  https://twitter.com/rjnln02/status/13556437972...   \n2  https://twitter.com/luscsmoothie/status/135552...   \n3  https://twitter.com/DonaldJTrumpJr/status/1352...   \n4  https://twitter.com/FionaRamshackle/status/135...   \n5  https://twitter.com/DanCrenshawTX/status/13618...   \n\n                       links  \\\n1                         []   \n2  [https://t.co/2qDB0db13x]   \n3                         []   \n4                         []   \n5                         []   \n\n                                          clean_text  word_count  num_links  \\\n1  [af, alwsbord, black, life, matter, racist, do...         132          0   \n2  [nobelprize, remind, u, blm, disqualify, rt, n...         119          1   \n3  [donald, trump, president, modern, history, st...          77          0   \n4  [dcexaminer, antifa, bastard, random, anarchis...         284          0   \n5  [raise, obvious, question, rely, renewable, po...         231          0   \n\n   has_links  polarity  subjectivity  \\\n1          0 -0.083333      0.266667   \n2          1  0.000000      0.000000   \n3          0  0.168182      0.377273   \n4          0 -0.500000      0.500000   \n5          0  0.003788      0.666667   \n\n                                   clean_text_as_str  \n1  af alwsbord black life matter racist domestic ...  \n2  nobelprize remind u blm disqualify rt nextlama...  \n3  donald trump president modern history start ne...  \n4  dcexaminer antifa bastard random anarchist boo...  \n5  raise obvious question rely renewable power gr...  ",
      "text/html": "<div>\n<style scoped>\n    .dataframe tbody tr th:only-of-type {\n        vertical-align: middle;\n    }\n\n    .dataframe tbody tr th {\n        vertical-align: top;\n    }\n\n    .dataframe thead th {\n        text-align: right;\n    }\n</style>\n<table border=\"1\" class=\"dataframe\">\n  <thead>\n    <tr style=\"text-align: right;\">\n      <th></th>\n      <th>Unnamed: 0</th>\n      <th>tweetId</th>\n      <th>username</th>\n      <th>userId</th>\n      <th>text</th>\n      <th>time</th>\n      <th>link</th>\n      <th>links</th>\n      <th>clean_text</th>\n      <th>word_count</th>\n      <th>num_links</th>\n      <th>has_links</th>\n      <th>polarity</th>\n      <th>subjectivity</th>\n      <th>clean_text_as_str</th>\n    </tr>\n  </thead>\n  <tbody>\n    <tr>\n      <th>1</th>\n      <td>1</td>\n      <td>1355643797280083973</td>\n      <td>rjnln02</td>\n      <td>1.629330e+09</td>\n      <td>@AF632 @alwsbord1 Black Lives Matter is a raci...</td>\n      <td>2021-01-30 22:27:22</td>\n      <td>https://twitter.com/rjnln02/status/13556437972...</td>\n      <td>[]</td>\n      <td>[af, alwsbord, black, life, matter, racist, do...</td>\n      <td>132</td>\n      <td>0</td>\n      <td>0</td>\n      <td>-0.083333</td>\n      <td>0.266667</td>\n      <td>af alwsbord black life matter racist domestic ...</td>\n    </tr>\n    <tr>\n      <th>2</th>\n      <td>2</td>\n      <td>1355529775197130753</td>\n      <td>luscsmoothie</td>\n      <td>3.075792e+08</td>\n      <td>@nobelprize To remind u what BLM did. Disquali...</td>\n      <td>2021-01-30 14:54:17</td>\n      <td>https://twitter.com/luscsmoothie/status/135552...</td>\n      <td>[https://t.co/2qDB0db13x]</td>\n      <td>[nobelprize, remind, u, blm, disqualify, rt, n...</td>\n      <td>119</td>\n      <td>1</td>\n      <td>1</td>\n      <td>0.000000</td>\n      <td>0.000000</td>\n      <td>nobelprize remind u blm disqualify rt nextlama...</td>\n    </tr>\n    <tr>\n      <th>3</th>\n      <td>3</td>\n      <td>1352754599590035459</td>\n      <td>DonaldJTrumpJr</td>\n      <td>3.934437e+07</td>\n      <td>Donald Trump is the first president in modern ...</td>\n      <td>2021-01-22 23:06:44</td>\n      <td>https://twitter.com/DonaldJTrumpJr/status/1352...</td>\n      <td>[]</td>\n      <td>[donald, trump, president, modern, history, st...</td>\n      <td>77</td>\n      <td>0</td>\n      <td>0</td>\n      <td>0.168182</td>\n      <td>0.377273</td>\n      <td>donald trump president modern history start ne...</td>\n    </tr>\n    <tr>\n      <th>4</th>\n      <td>4</td>\n      <td>1356441140959064064</td>\n      <td>FionaRamshackle</td>\n      <td>8.664043e+17</td>\n      <td>@dcexaminer Go get those Antifa bastards! And ...</td>\n      <td>2021-02-02 03:15:44</td>\n      <td>https://twitter.com/FionaRamshackle/status/135...</td>\n      <td>[]</td>\n      <td>[dcexaminer, antifa, bastard, random, anarchis...</td>\n      <td>284</td>\n      <td>0</td>\n      <td>0</td>\n      <td>-0.500000</td>\n      <td>0.500000</td>\n      <td>dcexaminer antifa bastard random anarchist boo...</td>\n    </tr>\n    <tr>\n      <th>5</th>\n      <td>5</td>\n      <td>1361810447431827459</td>\n      <td>DanCrenshawTX</td>\n      <td>9.305526e+17</td>\n      <td>This raises the obvious question: can we ever ...</td>\n      <td>2021-02-16 22:51:26</td>\n      <td>https://twitter.com/DanCrenshawTX/status/13618...</td>\n      <td>[]</td>\n      <td>[raise, obvious, question, rely, renewable, po...</td>\n      <td>231</td>\n      <td>0</td>\n      <td>0</td>\n      <td>0.003788</td>\n      <td>0.666667</td>\n      <td>raise obvious question rely renewable power gr...</td>\n    </tr>\n  </tbody>\n</table>\n</div>"
     },
     "metadata": {}
    }
   ]
  },
  {
   "cell_type": "code",
   "metadata": {
    "tags": [],
    "cell_id": "00006-e0d8b1f5-b0a5-4502-b22d-920e2d6d3fdc",
    "deepnote_to_be_reexecuted": false,
    "source_hash": "1831ad3c",
    "execution_start": 1639024952118,
    "execution_millis": 1270,
    "deepnote_cell_type": "code"
   },
   "source": "the import gensim.corpora as corpora\n\n# Create Dictionary\ndictionary = corpora.Dictionary(tweets['clean_text'])\n\n# Term Document Frequency\ncorpus = [dictionary.doc2bow(text) for text in tweets['clean_text']]\n\n# View\nprint(corpus[:1][0][:30])",
   "execution_count": null,
   "outputs": [
    {
     "name": "stdout",
     "text": "[(0, 1), (1, 1), (2, 1), (3, 1), (4, 1), (5, 1), (6, 1), (7, 1), (8, 1), (9, 1), (10, 1), (11, 1), (12, 1)]\n",
     "output_type": "stream"
    }
   ]
  },
  {
   "cell_type": "code",
   "metadata": {
    "tags": [],
    "cell_id": "00005-171b2263-38e5-41b0-ad1e-c7a98b35dd2d",
    "deepnote_to_be_reexecuted": false,
    "source_hash": "ed21b5e4",
    "execution_start": 1639024992912,
    "execution_millis": 29280,
    "deepnote_cell_type": "code"
   },
   "source": "from pprint import pprint\nnum_topics = 10\n\n# Build LDA model\nlda_model = gensim.models.LdaMulticore(corpus=corpus,\n                                       id2word=dictionary,\n                                       num_topics=num_topics)\n\n# Print the Keyword in the 10 topics\npprint(lda_model.print_topics())\ndoc_lda = lda_model[corpus]",
   "execution_count": null,
   "outputs": [
    {
     "name": "stdout",
     "text": "[(0,\n  '0.013*\"biden\" + 0.012*\"president\" + 0.012*\"trump\" + 0.008*\"people\" + '\n  '0.008*\"vote\" + 0.007*\"ivermectin\" + 0.007*\"not\" + 0.007*\"amp\" + 0.007*\"s\" + '\n  '0.007*\"million\"'),\n (1,\n  '0.019*\"not\" + 0.013*\"people\" + 0.012*\"know\" + 0.012*\"trump\" + 0.008*\"covid\" '\n  '+ 0.006*\"win\" + 0.006*\"want\" + 0.006*\"vaccine\" + 0.006*\"biden\" + 0.006*\"s\"'),\n (2,\n  '0.055*\"tweet\" + 0.031*\"birdwatch\" + 0.030*\"try\" + 0.027*\"add\" + '\n  '0.027*\"context\" + 0.025*\"want\" + 0.022*\"mislead\" + 0.022*\"hit\" + '\n  '0.022*\"open\" + 0.021*\"helpful\"'),\n (3,\n  '0.020*\"earthquake\" + 0.019*\"likely\" + 0.013*\"people\" + 0.011*\"risk\" + '\n  '0.009*\"san\" + 0.008*\"francisco\" + 0.008*\"covid\" + 0.008*\"california\" + '\n  '0.008*\"not\" + 0.007*\"ivermectin\"'),\n (4,\n  '0.011*\"not\" + 0.006*\"stop\" + 0.006*\"want\" + 0.006*\"hour\" + 0.005*\"trump\" + '\n  '0.005*\"election\" + 0.005*\"french\" + 0.005*\"likely\" + 0.005*\"white\" + '\n  '0.004*\"kill\"'),\n (5,\n  '0.016*\"covid\" + 0.015*\"not\" + 0.011*\"people\" + 0.011*\"vaccine\" + '\n  '0.009*\"mask\" + 0.009*\"death\" + 0.008*\"get\" + 0.007*\"amp\" + 0.006*\"s\" + '\n  '0.005*\"vaccinate\"'),\n (6,\n  '0.016*\"covid\" + 0.011*\"vaccine\" + 0.007*\"not\" + 0.007*\"amp\" + '\n  '0.005*\"people\" + 0.005*\"biden\" + 0.005*\"report\" + 0.005*\"s\" + 0.005*\"say\" + '\n  '0.004*\"fauci\"'),\n (7,\n  '0.010*\"covid\" + 0.008*\"want\" + 0.007*\"tweet\" + 0.006*\"not\" + 0.006*\"m\" + '\n  '0.006*\"vaccine\" + 0.005*\"try\" + 0.005*\"biden\" + 0.005*\"man\" + 0.005*\"open\"'),\n (8,\n  '0.018*\"not\" + 0.015*\"biden\" + 0.011*\"people\" + 0.010*\"trump\" + '\n  '0.009*\"president\" + 0.009*\"joe\" + 0.007*\"vaccine\" + 0.007*\"covid\" + '\n  '0.007*\"amp\" + 0.006*\"s\"'),\n (9,\n  '0.017*\"not\" + 0.011*\"trump\" + 0.009*\"say\" + 0.009*\"election\" + '\n  '0.007*\"covid\" + 0.007*\"go\" + 0.007*\"new\" + 0.006*\"s\" + 0.005*\"break\" + '\n  '0.005*\"know\"')]\n",
     "output_type": "stream"
    }
   ]
  },
  {
   "cell_type": "code",
   "metadata": {
    "tags": [],
    "cell_id": "00008-a4b15f56-b2d7-4a40-ae74-5d115e58bc12",
    "deepnote_to_be_reexecuted": false,
    "source_hash": "d0114b28",
    "execution_start": 1639025148860,
    "execution_millis": 1799,
    "deepnote_cell_type": "code"
   },
   "source": "!pip install pyLDAvis.gensim",
   "execution_count": null,
   "outputs": [
    {
     "name": "stderr",
     "text": "/shared-libs/python3.8/py-core/lib/python3.8/site-packages/ipykernel/ipkernel.py:283: DeprecationWarning: `should_run_async` will not call `transform_cell` automatically in the future. Please pass the result to `transformed_cell` argument and any exception that happen during thetransform in `preprocessing_exc_tuple` in IPython 7.17 and above.\n  and should_run_async(code)\n\u001b[31mERROR: Could not find a version that satisfies the requirement pyLDAvis.gensim (from versions: none)\u001b[0m\n\u001b[31mERROR: No matching distribution found for pyLDAvis.gensim\u001b[0m\n",
     "output_type": "stream"
    }
   ]
  },
  {
   "cell_type": "code",
   "metadata": {
    "tags": [],
    "cell_id": "00009-2d54e3d3-8e48-462e-975b-4149e1e8f360",
    "deepnote_to_be_reexecuted": false,
    "source_hash": "10707556",
    "execution_start": 1639026419121,
    "execution_millis": 37,
    "deepnote_cell_type": "code"
   },
   "source": "import pyLDAvis.gensim_models as gensimvis",
   "execution_count": null,
   "outputs": [
    {
     "name": "stderr",
     "text": "/shared-libs/python3.8/py-core/lib/python3.8/site-packages/ipykernel/ipkernel.py:283: DeprecationWarning: `should_run_async` will not call `transform_cell` automatically in the future. Please pass the result to `transformed_cell` argument and any exception that happen during thetransform in `preprocessing_exc_tuple` in IPython 7.17 and above.\n  and should_run_async(code)\n",
     "output_type": "stream"
    }
   ]
  },
  {
   "cell_type": "code",
   "metadata": {
    "tags": [],
    "cell_id": "00007-5ff7c447-9e1b-491b-b9f5-3e58c3cfd3c6",
    "deepnote_to_be_reexecuted": false,
    "source_hash": "9efe9834",
    "execution_start": 1639026481835,
    "execution_millis": 11402,
    "deepnote_output_heights": [
     null,
     607
    ],
    "deepnote_cell_type": "code"
   },
   "source": "\n# import pyLDAvis.gensim\n\n# Visualize the topics\npyLDAvis.enable_notebook()\n\nfilepath = 'ldavis_prepared_'+str(num_topics)\n\nif True:\n    LDAvis_prepared = gensimvis.prepare(lda_model, corpus, dictionary)\n    with open(filepath, 'wb') as f:\n        pickle.dump(LDAvis_prepared, f)\n\n# load the pre-prepared pyLDAvis data from disk\nwith open(filepath, 'rb') as f:\n    LDAvis_prepared = pickle.load(f)\n\npyLDAvis.save_html(LDAvis_prepared, filepath +'.html')\n\nLDAvis_prepared",
   "execution_count": null,
   "outputs": [
    {
     "name": "stderr",
     "text": "/shared-libs/python3.8/py-core/lib/python3.8/site-packages/ipykernel/ipkernel.py:283: DeprecationWarning: `should_run_async` will not call `transform_cell` automatically in the future. Please pass the result to `transformed_cell` argument and any exception that happen during thetransform in `preprocessing_exc_tuple` in IPython 7.17 and above.\n  and should_run_async(code)\n",
     "output_type": "stream"
    },
    {
     "output_type": "execute_result",
     "execution_count": 36,
     "data": {
      "text/plain": "PreparedData(topic_coordinates=              x         y  topics  cluster       Freq\ntopic                                                \n0     -0.048666 -0.061965       1        1  13.669354\n2      0.223441  0.046006       2        1  11.223962\n3     -0.101903  0.121210       3        1  10.690959\n9     -0.044920 -0.074385       4        1  10.544984\n6     -0.011265 -0.012237       5        1  10.372597\n5     -0.081717  0.027112       6        1   9.899284\n1      0.009247 -0.038721       7        1   9.087326\n4     -0.006943  0.066138       8        1   8.916311\n8      0.019223 -0.073829       9        1   8.471077\n7      0.043503  0.000670      10        1   7.124145, topic_info=          Term         Freq        Total Category  logprob  loglift\n111      tweet  1220.000000  1220.000000  Default  30.0000  30.0000\n102  birdwatch   650.000000   650.000000  Default  29.0000  29.0000\n103    context   565.000000   565.000000  Default  28.0000  28.0000\n101        add   589.000000   589.000000  Default  27.0000  27.0000\n110        try   776.000000   776.000000  Default  26.0000  26.0000\n..         ...          ...          ...      ...      ...      ...\n77        come    32.061643   288.651411  Topic10  -5.7951   0.4441\n32       trump    35.233683   941.473637  Topic10  -5.7008  -0.6438\n432        get    32.378142   348.183760  Topic10  -5.7853   0.2664\n118       year    32.035169   376.475406  Topic10  -5.7959   0.1777\n105    helpful    31.719375   456.499151  Topic10  -5.8058  -0.0250\n\n[799 rows x 6 columns], token_table=       Topic      Freq    Term\nterm                          \n1000       1  0.015319       _\n1000       2  0.068937       _\n1000       4  0.061277       _\n1000       5  0.022979       _\n1000       6  0.520859       _\n...      ...       ...     ...\n676       10  0.065297    york\n10828     10  0.875509  yorker\n5392       1  0.093288    zinc\n5392       3  0.093288    zinc\n5392       6  0.746303    zinc\n\n[2514 rows x 3 columns], R=30, lambda_step=0.01, plot_opts={'xlab': 'PC1', 'ylab': 'PC2'}, topic_order=[1, 3, 4, 10, 7, 6, 2, 5, 9, 8])",
      "text/html": "\n<link rel=\"stylesheet\" type=\"text/css\" href=\"https://cdn.jsdelivr.net/gh/bmabey/pyLDAvis@3.3.1/pyLDAvis/js/ldavis.v1.0.0.css\">\n\n\n<div id=\"ldavis_el1131405949541317125440895552\"></div>\n<script type=\"text/javascript\">\n\nvar ldavis_el1131405949541317125440895552_data = {\"mdsDat\": {\"x\": [-0.04866586197119501, 0.22344067867223832, -0.10190298289143056, -0.04492000441955887, -0.011264502066446304, -0.08171728313157665, 0.00924715705633446, -0.006943005193258528, 0.019222506424819437, 0.043503297520073946], \"y\": [-0.0619650397591025, 0.046006190694980034, 0.12120964523428501, -0.07438512423185561, -0.012237018054926746, 0.027112434032765545, -0.03872075759820991, 0.06613848237356852, -0.07382892203122551, 0.0006701093397211907], \"topics\": [1, 2, 3, 4, 5, 6, 7, 8, 9, 10], \"cluster\": [1, 1, 1, 1, 1, 1, 1, 1, 1, 1], \"Freq\": [13.669353528123422, 11.223962194691536, 10.690959298769933, 10.544984085589117, 10.372597447807314, 9.899284150261877, 9.087326123224331, 8.916311328895604, 8.471076881625809, 7.124144961011057]}, \"tinfo\": {\"Term\": [\"tweet\", \"birdwatch\", \"context\", \"add\", \"try\", \"mislead\", \"earthquake\", \"helpful\", \"menu\", \"contribute\", \"open\", \"likely\", \"hit\", \"want\", \"ivermectin\", \"note\", \"president\", \"san\", \"francisco\", \"trump\", \"afghanistan\", \"not\", \"risk\", \"biden\", \"write\", \"covid\", \"bay\", \"angeles\", \"california\", \"area\", \"hurricane\", \"ventilator\", \"shocking\", \"communion\", \"loki\", \"management\", \"manufacturer\", \"dire\", \"fighter\", \"defy\", \"versus\", \"equate\", \"wellbeing\", \"destroyer\", \"commemorate\", \"transmissible\", \"ticket\", \"creation\", \"thefirstontv\", \"truthful\", \"condo\", \"title\", \"giveaway\", \"covering\", \"enormous\", \"lunch\", \"destruction\", \"needle\", \"controversial\", \"balance\", \"patience\", \"pack\", \"hydroxychloroquine\", \"intelligence\", \"q\", \"fat\", \"delaware\", \"variant\", \"hamas\", \"delta\", \"president\", \"rally\", \"airport\", \"ivermectin\", \"million\", \"hunter\", \"great\", \"rt\", \"vote\", \"drug\", \"advance\", \"biden\", \"peaceful\", \"trump\", \"fbi\", \"harris\", \"america\", \"job\", \"day\", \"insurrection\", \"time\", \"s\", \"amp\", \"today\", \"life\", \"people\", \"win\", \"know\", \"like\", \"think\", \"american\", \"right\", \"not\", \"child\", \"covid\", \"new\", \"vaccine\", \"say\", \"mask\", \"academy\", \"belief\", \"breakthrough\", \"fighting\", \"atlantic\", \"forensic\", \"cap\", \"bro\", \"fetus\", \"meaningful\", \"witch\", \"howto\", \"nuremberg\", \"hype\", \"correction\", \"clarence\", \"evade\", \"disrespect\", \"sars\", \"bonus\", \"estimate\", \"crew\", \"bid\", \"lebanon\", \"boxing\", \"repthomasmassie\", \"web\", \"tlaib\", \"christianity\", \"aghamilton\", \"birdwatch\", \"guide\", \"context\", \"menu\", \"tweet\", \"helpful\", \"jump\", \"mislead\", \"add\", \"contribute\", \"note\", \"open\", \"write\", \"try\", \"site\", \"hit\", \"welcome\", \"refugee\", \"want\", \"d\", \"rate\", \"help\", \"check\", \"like\", \"promise\", \"go\", \"afghanistan\", \"vaccine\", \"start\", \"not\", \"people\", \"graph\", \"quake\", \"prophylaxis\", \"cuban\", \"ne\", \"hostage\", \"heavy\", \"stake\", \"walensky\", \"bn\", \"lee\", \"eviction\", \"intercept\", \"corp\", \"digital\", \"cater\", \"lewis\", \"gabbard\", \"haha\", \"maryland\", \"sikh\", \"elder\", \"useful\", \"map\", \"restrictive\", \"forecast\", \"repair\", \"triple\", \"nc\", \"torture\", \"bay\", \"francisco\", \"earthquake\", \"warning\", \"likely\", \"smoke\", \"angeles\", \"san\", \"risk\", \"area\", \"california\", \"salton\", \"near\", \"los\", \"sea\", \"critical\", \"ivermectin\", \"pm\", \"level\", \"warn\", \"strong\", \"enjoy\", \"high\", \"major\", \"today\", \"people\", \"state\", \"year\", \"need\", \"amp\", \"covid\", \"vaccine\", \"not\", \"say\", \"take\", \"hit\", \"know\", \"verita\", \"resignation\", \"screw\", \"australian\", \"miller\", \"rey\", \"rebekah\", \"asleep\", \"penny\", \"fourth\", \"obamas\", \"slap\", \"select\", \"preserve\", \"percentage\", \"colony\", \"manmade\", \"demographic\", \"initial\", \"impressive\", \"amy\", \"checker\", \"misinformed\", \"deem\", \"orleans\", \"satan\", \"paragraph\", \"bizarre\", \"essential\", \"journey\", \"overturn\", \"pride\", \"censorship\", \"alabama\", \"usually\", \"bless\", \"capitalism\", \"lindell\", \"horse\", \"mrandyngo\", \"suspend\", \"mike\", \"capita\", \"audit\", \"amazing\", \"presidential\", \"election\", \"war\", \"afghanistan\", \"prime\", \"case\", \"say\", \"not\", \"county\", \"rightwe\", \"go\", \"trump\", \"break\", \"new\", \"york\", \"god\", \"believe\", \"news\", \"think\", \"leave\", \"twitter\", \"fact\", \"s\", \"know\", \"maricopa\", \"claim\", \"covid\", \"win\", \"virus\", \"president\", \"people\", \"amp\", \"death\", \"vaccine\", \"month\", \"biden\", \"time\", \"cuba\", \"faucis\", \"statewide\", \"haiti\", \"ha\", \"nintendo\", \"ambassador\", \"eureka\", \"doocy\", \"cnbc\", \"vaxx\", \"handgun\", \"da\", \"scottgottliebmd\", \"onlyfan\", \"intelligent\", \"rebel\", \"muzzle\", \"import\", \"island\", \"eventually\", \"cooper\", \"ultimate\", \"truck\", \"disclose\", \"discriminate\", \"yellow\", \"marriage\", \"curriculum\", \"back\", \"peter\", \"relate\", \"slur\", \"function\", \"regard\", \"anthony\", \"nih\", \"recognize\", \"introduce\", \"trillion\", \"recover\", \"special\", \"eradicate\", \"head\", \"treatment\", \"communism\", \"treat\", \"fund\", \"fauci\", \"covid\", \"gain\", \"target\", \"billion\", \"vaccine\", \"general\", \"evidence\", \"report\", \"texas\", \"house\", \"amp\", \"research\", \"state\", \"democrats\", \"work\", \"come\", \"right\", \"say\", \"s\", \"biden\", \"not\", \"people\", \"like\", \"require\", \"ask\", \"white\", \"want\", \"need\", \"new\", \"vote\", \"trump\", \"tweet\", \"take\", \"death\", \"try\", \"foreshock\", \"gallon\", \"explode\", \"gainoffunction\", \"theorist\", \"icymi\", \"van\", \"worship\", \"cousin\", \"traditional\", \"beta\", \"london\", \"reproductive\", \"spell\", \"decrease\", \"walgreen\", \"dick\", \"housegop\", \"realcandaceo\", \"nc_governor\", \"manor\", \"wwii\", \"hannity\", \"rondesantisfl\", \"legalization\", \"longterm\", \"berlin\", \"welfare\", \"myth\", \"nut\", \"nope\", \"donaldjtrumpjr\", \"flow\", \"average\", \"porn\", \"babbitt\", \"chase\", \"klan\", \"harvesting\", \"injection\", \"zinc\", \"effective\", \"tucker\", \"ashli\", \"patient\", \"british\", \"_\", \"jab\", \"fda\", \"icu\", \"death\", \"mask\", \"wear\", \"datum\", \"get\", \"dose\", \"covid\", \"trumpwon\", \"carlson\", \"mandate\", \"body\", \"adverse\", \"vaccinate\", \"government\", \"vaccinated\", \"heart\", \"vaccine\", \"not\", \"hospital\", \"people\", \"warn\", \"doctor\", \"florida\", \"protect\", \"amp\", \"stop\", \"report\", \"s\", \"old\", \"let\", \"leave\", \"year\", \"take\", \"work\", \"die\", \"think\", \"m\", \"swarm\", \"jonathan\", \"bishop\", \"nose\", \"theft\", \"infected\", \"negotiate\", \"champion\", \"trap\", \"lifesave\", \"scheme\", \"slight\", \"village\", \"rapid\", \"bomber\", \"secret\", \"timing\", \"discord\", \"martin\", \"warming\", \"discourage\", \"kamalas\", \"antivax\", \"crony\", \"morally\", \"speculation\", \"shape\", \"bot\", \"helicopter\", \"coach\", \"y\", \"las\", \"virology\", \"que\", \"lightfoot\", \"de\", \"prevent\", \"mild\", \"immunity\", \"por\", \"know\", \"n\", \"wuhan\", \"institute\", \"left\", \"hold\", \"trust\", \"not\", \"trump\", \"people\", \"win\", \"natural\", \"fully\", \"border\", \"good\", \"unvaccinated\", \"tell\", \"live\", \"day\", \"vaccinated\", \"long\", \"covid\", \"kid\", \"lie\", \"american\", \"s\", \"want\", \"biden\", \"vaccine\", \"say\", \"come\", \"amp\", \"get\", \"like\", \"tweet\", \"try\", \"m\", \"french\", \"rogan\", \"professional\", \"newsom\", \"emoji\", \"explosion\", \"gen\", \"hypocrite\", \"ten\", \"childhood\", \"monthold\", \"ring\", \"cnnopinion\", \"gore\", \"sakurai\", \"saveamerica\", \"outta\", \"opener\", \"criticize\", \"demonize\", \"coordinate\", \"parasitic\", \"trucker\", \"category\", \"cigarette\", \"paycheck\", \"appeal\", \"broad\", \"moscow\", \"counsel\", \"castro\", \"gavin\", \"august\", \"debunk\", \"teacher\", \"taste\", \"athlete\", \"women\", \"compete\", \"valley\", \"unarmed\", \"hour\", \"chicago\", \"officer\", \"shoot\", \"stop\", \"white\", \"san\", \"early\", \"police\", \"school\", \"kill\", \"lie\", \"not\", \"able\", \"election\", \"likely\", \"want\", \"child\", \"mandate\", \"earthquake\", \"trump\", \"los\", \"say\", \"like\", \"right\", \"work\", \"kid\", \"win\", \"s\", \"hit\", \"people\", \"tweet\", \"try\", \"amp\", \"haitian\", \"antisemitism\", \"field\", \"unproven\", \"discharge\", \"hillary\", \"wipe\", \"diabetes\", \"ruling\", \"shirt\", \"cbp\", \"plea\", \"cow\", \"liability\", \"indias\", \"sayin\", \"cancellation\", \"vet\", \"bombshell\", \"ministry\", \"swallow\", \"gut\", \"entry\", \"bury\", \"anytime\", \"urinate\", \"bankrupt\", \"barack\", \"blog\", \"degenerate\", \"barr\", \"slide\", \"slavery\", \"dramatic\", \"bible\", \"enemy\", \"memorial\", \"sick\", \"debt\", \"joe\", \"odd\", \"biden\", \"afghanistan\", \"al\", \"president\", \"social\", \"not\", \"unvaccinated\", \"flee\", \"indoor\", \"trump\", \"people\", \"cnn\", \"america\", \"election\", \"cancel\", \"medium\", \"americans\", \"end\", \"make\", \"amp\", \"student\", \"s\", \"vaccine\", \"american\", \"covid\", \"want\", \"call\", \"force\", \"win\", \"work\", \"mask\", \"tweet\", \"try\", \"take\", \"time\", \"like\", \"crt\", \"reef\", \"pill\", \"detect\", \"outstanding\", \"adams\", \"yorker\", \"shipping\", \"react\", \"gulf\", \"tyrannical\", \"beauty\", \"karen\", \"predictable\", \"floridian\", \"organ\", \"distract\", \"operative\", \"supplement\", \"cocacola\", \"dump\", \"dehumanize\", \"substance\", \"tower\", \"rick\", \"audio\", \"jampj\", \"decent\", \"marines\", \"worsen\", \"payer\", \"net\", \"kneel\", \"veteran\", \"instruction\", \"flight\", \"pic\", \"invest\", \"whistleblower\", \"beat\", \"anti\", \"spacex\", \"blow\", \"waste\", \"view\", \"man\", \"respond\", \"display\", \"match\", \"m\", \"test\", \"migrant\", \"covid\", \"ve\", \"want\", \"woman\", \"flag\", \"police\", \"border\", \"tweet\", \"new\", \"vaccine\", \"vaccinate\", \"open\", \"try\", \"biden\", \"not\", \"mask\", \"child\", \"time\", \"amp\", \"hit\", \"add\", \"die\", \"state\", \"come\", \"trump\", \"get\", \"year\", \"helpful\"], \"Freq\": [1220.0, 650.0, 565.0, 589.0, 776.0, 488.0, 416.0, 456.0, 445.0, 458.0, 520.0, 443.0, 598.0, 877.0, 280.0, 241.0, 529.0, 220.0, 166.0, 941.0, 205.0, 1633.0, 284.0, 878.0, 183.0, 1209.0, 129.0, 146.0, 197.0, 161.0, 26.817541477962273, 18.16639353868087, 16.924638167185492, 15.55885414386746, 11.313017250557001, 9.652112005252825, 10.684829430471956, 9.19147997322151, 16.006014037323258, 10.4181725369163, 8.680486164788928, 8.285887208257554, 8.113126877611684, 8.100130233203338, 8.039582995112251, 8.113794805680666, 7.8227976717186865, 7.6808873790994765, 7.613830931870935, 7.578451929598559, 7.251359021216169, 7.399233587825807, 6.691796543718173, 6.543431770869361, 6.401129548651964, 8.236652376571797, 7.808455166963412, 6.080191582713173, 6.074838153952352, 10.373017068555816, 8.806493296054677, 13.024755058566571, 53.46623544794887, 16.814634239362828, 39.49075569537306, 19.02491473502654, 19.381234057169227, 90.4656841791348, 21.490702727598386, 78.20145614770955, 251.1017280224817, 38.194535056353054, 37.23676739923406, 144.79568538285733, 132.0035081742563, 16.921327362501707, 84.27021174261256, 43.094295303063745, 152.08428595466157, 61.8271601082557, 19.22793897475043, 266.21127548734654, 19.34891928525385, 238.08623803838037, 41.28720090611871, 37.55923954004143, 102.89891507801609, 55.69458001410199, 103.53420353253316, 40.57152098230866, 101.39716326220271, 141.47639712987333, 142.43662229149987, 85.92180542330395, 64.79017140986437, 169.7564080144325, 91.71862543321627, 105.1654592448862, 101.92213706993638, 77.96637371460604, 76.66434357259308, 82.549836182888, 144.26509980237844, 73.74802485662788, 116.39278985719453, 81.642357918776, 78.8846141536304, 65.9989199535773, 63.98722653672107, 20.144758836043263, 18.245157377349575, 17.01020149930139, 13.898880558468827, 13.890208948899113, 31.937361191966964, 12.934845555484143, 11.869180795944217, 11.373905579542468, 11.355565990240736, 11.257473299441108, 67.22503106765436, 9.620474812816763, 9.61005593142023, 8.900346586789906, 8.815731469495152, 8.870113372282058, 8.545198125406518, 8.47652782994289, 9.441390081093367, 8.70756877181751, 7.760648431674112, 7.398206946595433, 7.134923137688701, 7.081840575040708, 7.014385058717739, 7.012895335531323, 7.0554386985624085, 6.586605464712418, 6.4050196602634655, 520.3968026428215, 92.31649619794266, 442.7224366223262, 347.6528507973279, 914.6057576534747, 354.67286326967815, 88.53597208026144, 373.460674182738, 443.5443038093975, 348.56910158821245, 189.08841185361206, 359.40364039724545, 135.30611709237198, 492.35101783632524, 86.6071772657356, 361.22405023946965, 91.56223142172847, 26.012163346475415, 410.7589282032871, 114.43102762506086, 109.48010970989696, 120.72302305505552, 87.69115842070345, 144.135035245538, 27.725875570717484, 108.34572053585453, 63.06626512156892, 110.66875708606601, 42.310581582263545, 84.54725201999442, 52.84726852950851, 51.03025481468338, 21.090542851565456, 12.43403550408977, 12.126142311521908, 28.12002175329822, 10.055274816529396, 9.350658394491996, 10.199303746309921, 7.755572861811512, 7.519980415392735, 8.824414527590193, 7.740978961241157, 7.247392790030332, 7.4636244307378705, 7.064468270827596, 7.216998189113685, 6.832610828292016, 6.285759313347543, 6.262018220272609, 5.933077832070152, 5.886579219955823, 7.0125321558326625, 5.8762896639715025, 25.319830198750402, 5.996458753788386, 31.527549332994642, 5.4510809889898155, 7.52626939790167, 5.027919547190193, 11.170779406977713, 106.41532072258266, 133.45642113233978, 317.5006811517408, 62.96142670168758, 299.790464557691, 9.636032022057137, 102.04207716658004, 147.12908149906062, 176.8465269020728, 106.08791069641491, 125.69527176935158, 56.31094920693284, 70.89592074767089, 102.11114551195627, 59.239486817285076, 49.308288691677724, 117.6779826058648, 36.056047542094014, 32.314677352832234, 83.20760553305821, 42.50266332397422, 17.417736563532532, 71.44752489971923, 35.0335318912077, 90.05876711076641, 198.65181372040095, 89.16972296278782, 90.57512644983142, 90.74827230082683, 113.40984017207239, 128.50550433988408, 112.51559693550914, 119.8284464165138, 80.36305603220761, 65.03411037971436, 62.54868829105726, 53.81801936925014, 49.716295757774645, 15.767425152270969, 15.741452343619827, 14.34545155853279, 11.94593756966709, 11.198319996785065, 11.193850160492344, 11.198376289665454, 10.69478744531447, 10.483564754753893, 10.667428197496358, 8.505241360546508, 8.397306118050858, 7.729928598463414, 9.794775965726076, 7.36621076480674, 7.165913886764641, 7.160917893630232, 7.017501339421178, 7.524560821438001, 7.303465086017169, 16.17853024184305, 6.284744179011826, 5.941002600320479, 5.757163672219472, 7.506307854972286, 5.670185724322359, 5.661841212754564, 13.355988876108961, 5.3867011343376365, 25.06156129421863, 36.28020211287397, 9.08295430912285, 11.661224523760358, 16.53394896141611, 20.058146579095023, 13.09113450568352, 14.727074613926332, 62.0981799203591, 21.710182819329987, 21.311071745079225, 23.18397582536442, 11.775489991450574, 72.68336966730712, 22.008338968253177, 30.119672714186052, 143.08408119388628, 45.228467534122075, 75.07369611332373, 19.40043509183996, 81.59535341919566, 145.17612800982272, 271.05098900815557, 57.600894492801395, 30.024637620796025, 111.62530254564116, 178.2904621112767, 85.6800810376874, 109.26554858137318, 25.638461627828086, 40.30106455061618, 53.851258416364644, 53.82309381717712, 70.3256858283179, 60.53597259002799, 47.322933128015826, 57.47817601355619, 97.55813302540565, 85.26484296115525, 33.48119661884005, 44.70875350338906, 112.29361162160406, 64.4847147684967, 48.775525508936504, 64.25287526446897, 79.5416002891178, 68.4913587141926, 53.51587633041087, 65.1406176199819, 48.063518630597805, 51.96452444649775, 49.57877769868558, 21.017236673321378, 19.200739689174206, 17.25837181069073, 15.666155368557735, 11.736609766118118, 10.888087788623777, 10.738545099611988, 10.893428567048955, 8.898052123035432, 11.420771491489273, 8.662864961267358, 8.368556811303362, 29.730420162557472, 7.469485437742809, 7.466652056546508, 7.459621520131288, 7.19666722263946, 6.966365354848934, 8.764565707356065, 11.251216066197982, 6.904068925567607, 6.7154081604650395, 6.696199666822975, 18.431460395180014, 7.3520731575310645, 6.491070906171596, 7.474202381096084, 6.504561283782355, 6.303459988065484, 24.96091033159844, 26.117488944521195, 15.474989438993191, 11.982385601633505, 18.891306776228536, 10.334622384558363, 13.988161380761207, 21.841324142967142, 22.333676037654932, 23.69095360169915, 24.13311646889841, 25.10119239661513, 19.37301641076341, 12.949535377640036, 35.15069937909083, 58.69248271729714, 20.833887214120907, 41.781073951823466, 48.35937682801736, 66.14367241650666, 245.68383837424577, 21.27916702391279, 28.97378368785874, 34.014824767079865, 174.1931000609687, 26.168610375467228, 43.76936180748237, 80.41267479039688, 49.24438489598057, 45.25027928517625, 104.19086348799198, 33.663140759529114, 62.85608927388039, 49.33804321569491, 64.26761235631734, 57.273171743912435, 65.81288710714139, 73.1743160045375, 77.21342347876791, 84.30239765551202, 105.07418179796515, 84.30352654245674, 59.889027857732735, 33.14733588132206, 38.98800044981729, 43.15705495763693, 62.93798359135117, 49.328665594714245, 50.889183891719064, 46.36067177510908, 47.907032543753374, 46.64585148087847, 40.51906408587522, 40.56069715060234, 40.68551417896177, 26.344770837854846, 15.76500547812839, 15.758138919997819, 10.791372293019904, 10.234917707275965, 11.212158657427574, 9.297089573405096, 8.98075569567432, 8.208071012374242, 10.628135556766155, 7.350428014567617, 6.689670530149753, 8.396387391929128, 10.336198587348607, 6.3333369908958215, 7.207974208663636, 7.699275761023417, 6.147569573864456, 5.6869915221371885, 5.684456623443008, 5.679232550108565, 5.604696811672105, 5.417558384368518, 5.391186573474787, 5.384278676209492, 5.235485066510179, 5.128510040261856, 6.412586669220703, 10.770037890089391, 5.725585226903098, 9.961210017741552, 10.637593268908264, 11.503443576575773, 18.987749870563796, 8.438319764544769, 27.543708027232324, 9.205446252019442, 11.030378122925473, 6.987403928138174, 18.61802628724926, 15.952576048551665, 50.82185491126001, 38.60742424451741, 35.679928214043905, 53.03039434827463, 14.69740229359091, 68.224785095398, 52.20586186649832, 70.75058065640673, 22.812134653879188, 127.89535253955235, 137.92393682336032, 61.87729648277405, 63.87018030835219, 111.99164701942352, 30.082350257077177, 231.61324705417564, 18.955858219742858, 24.529028187803544, 67.67561045913187, 33.382123521331856, 26.160447733478925, 73.11108104795844, 65.97696580921641, 62.915162765615975, 35.81804695109832, 165.92226964074308, 217.87303921363196, 39.92263606074942, 167.95511178870964, 61.47904293002723, 45.762575562537315, 48.43473041223976, 47.17119166205887, 106.42659145471475, 66.1481865387682, 66.12680951817302, 84.49029754145349, 47.23891624532882, 52.92980984084259, 52.35425316544321, 55.51074584109943, 50.35235485143546, 50.701645821603755, 49.29938145882364, 49.56657035037114, 49.59304103424689, 17.1731235016498, 14.223960036170826, 13.078655575588126, 12.660012511390043, 11.725402376803247, 11.612733124727576, 11.599977760745427, 11.212293565807663, 14.368799377200373, 9.320724415427952, 9.232372667781261, 14.587876783168353, 9.117140136819225, 9.070454972584228, 8.201850834204654, 20.219197061679942, 7.217061933359777, 7.0419444473162915, 7.109165575425385, 6.696661548511313, 6.724118991331923, 7.605968302174373, 7.178201185749825, 7.271835197060085, 6.115952907641984, 5.612972803967521, 5.610782358533339, 5.60346613776809, 5.600483861371454, 5.323354761137273, 24.92534892914618, 14.08496240459354, 13.485601136931765, 31.8202405079697, 9.10249282889714, 65.9184628935553, 39.41702294502627, 13.700112213357368, 45.93053993847846, 14.810590977983653, 165.17686517896314, 33.0529366602792, 36.07284850088184, 12.99475122635111, 27.62215305010088, 34.58670697502051, 35.13849735448533, 251.08703178570852, 164.12964525786703, 170.19932691291348, 86.50288807445914, 31.138871529660822, 38.53020982427689, 51.07891531452568, 59.74009070228702, 36.53987853993087, 62.28497907981649, 40.88570350274715, 64.62496163476925, 48.08886457753087, 45.76829909487481, 110.83775644881297, 45.597376278584015, 52.895591496295445, 57.84122997805443, 78.68185159739545, 85.2977463877364, 84.35211869209986, 84.84036854903603, 68.69596804758073, 49.92255730057678, 60.51609756455915, 48.832431408475564, 51.58415980437143, 56.89863189653512, 50.53567858731536, 40.89023540485638, 62.83820829793342, 38.991172291807985, 23.13277220201437, 41.17653053305378, 15.221709467889493, 14.599258458268872, 14.526640120663926, 12.330721166318503, 13.26088076982261, 11.62489226732707, 11.067302584177446, 10.542225709967134, 9.869943734522835, 9.522430556982076, 8.58180006325074, 7.81827724237526, 7.531136550836357, 7.167382323163105, 13.42718206018426, 7.141837312427646, 7.144367707191849, 7.032126734824993, 6.904319535443887, 6.870003359604966, 6.7004285245605, 6.650908484064339, 7.316839905658675, 7.647404965840654, 5.998256260964059, 6.306362148321597, 8.58112677556621, 15.927060079278348, 22.025078075081318, 16.957096575150075, 25.660906807786624, 10.978354909001325, 18.486750918784757, 26.007452662086212, 9.014836131063761, 13.631359429455706, 15.898672980734311, 75.54571568559093, 30.212191830730262, 48.08071264718007, 37.860822840393254, 80.77599867105327, 59.40636039898389, 56.00898605782919, 32.60998653920663, 54.10374620202152, 53.63334458700932, 58.421459512631884, 56.357339117612675, 143.74552340212603, 25.964095084809788, 67.00671430174394, 62.21651732800229, 78.77225152975278, 49.012033038573584, 41.60214354656611, 53.30176460514097, 71.86677350957007, 37.12771772915141, 55.39809839952484, 53.9039371416725, 48.294070374640334, 43.6730536294781, 37.05676840799591, 42.81577185187697, 46.45452865667896, 45.385614979114514, 46.14419600657459, 46.29550685756554, 42.919214021333474, 40.141488523267434, 32.63899679520632, 26.930271350254667, 12.268314731224185, 11.87923516214518, 11.265802358067377, 11.09064441619588, 10.415485552534738, 9.653069374981333, 8.277584354494573, 8.15229346569834, 7.704330234991709, 7.174410102490374, 7.101525242207909, 8.410610329336574, 11.313496584991736, 6.687167514044678, 7.072973620966832, 9.813943118350204, 13.648503530108794, 8.935283294557072, 7.024186781228087, 8.249902155466279, 5.684326554724397, 5.612636420603455, 5.50980426843884, 6.928947850494822, 5.268264992426047, 10.991854129125338, 5.018333822731068, 5.016283167906205, 13.04670289503221, 6.916650485975099, 12.001838281768507, 10.359554425401528, 11.215485276883651, 15.508150962862914, 20.349003400384554, 41.17045316521438, 14.255446301594871, 118.53701282064476, 9.926914761195185, 188.66898478997268, 66.1385465296149, 22.489930800405283, 118.71875123835831, 31.950907464273193, 229.05592224259058, 36.76928329532746, 13.10566314167019, 12.953258971065436, 128.58044985164116, 143.25748715328194, 30.668734349782973, 61.926861104203056, 69.81468537709804, 27.415700697407598, 48.174016697225674, 50.664885079129185, 37.14684593761131, 40.26319649855501, 81.67542489455218, 26.002457808054142, 74.69765227650396, 85.54401530862584, 49.07026554506347, 83.62712021594147, 71.23250877945173, 39.81615009982947, 39.25562659719062, 46.442413566735276, 45.18246031658248, 47.07441057732293, 59.77921318717849, 52.47645171300192, 41.07269568171204, 38.91610555300231, 39.71963548163802, 20.33684557296131, 15.67076661959002, 12.038602038141795, 11.171659456479677, 9.752658710346891, 9.121343477368647, 9.33880171601913, 8.325835187027883, 8.376051736416255, 8.15075538540903, 8.93532663213415, 7.785038558381084, 7.729131433915747, 7.011174327713791, 16.458807908700653, 6.846433498060258, 6.700723615023401, 8.199508959529688, 6.426806185768821, 6.422133252607634, 6.792774509593313, 8.036786851723551, 6.204503873454135, 7.795433963773922, 5.761039572104711, 5.492861790472766, 9.563726342492924, 4.944988287333892, 5.487145452309323, 4.709865465760162, 7.291041189723734, 12.683975942046954, 18.745090450467487, 25.275977665376605, 24.471705631786445, 30.70318775062811, 27.327205167023408, 14.715346238089406, 21.21937850238199, 29.52326292632598, 12.670457682529202, 11.133256509053936, 20.57671094937039, 13.068993001285927, 28.523520221578483, 54.05787465440359, 12.611963208093545, 15.231301117305678, 11.793761932415668, 66.01690310611825, 39.28712183181465, 21.486136860630502, 107.18242874824793, 41.31211515054761, 81.61980362186377, 39.99571957674418, 23.07970644050038, 40.00298231350297, 35.36295965506748, 75.63093616880221, 46.90113459425584, 62.00615487616807, 36.600223295354795, 47.959624497049184, 55.346416651286155, 54.71156022073119, 67.0005524695141, 41.30427826500452, 36.73090348446734, 39.16631503889041, 47.176421760941366, 42.528947436446266, 39.22912544371752, 33.64564629041516, 33.968335082588204, 32.06164340332316, 35.23368294076103, 32.37814169386025, 32.03516876493554, 31.719374665428784], \"Total\": [1220.0, 650.0, 565.0, 589.0, 776.0, 488.0, 416.0, 456.0, 445.0, 458.0, 520.0, 443.0, 598.0, 877.0, 280.0, 241.0, 529.0, 220.0, 166.0, 941.0, 205.0, 1633.0, 284.0, 878.0, 183.0, 1209.0, 129.0, 146.0, 197.0, 161.0, 27.710321169075858, 19.053644322325347, 17.811319266384515, 16.458846979369344, 12.20000428331153, 10.538586305042797, 11.687206978366051, 10.077768809051811, 17.634206039660576, 11.479625166944377, 9.566852499305618, 9.172382422122562, 8.999434340175204, 8.986646191859792, 8.926234718156344, 9.008969921410714, 8.709194068947888, 8.56841651772508, 8.500358273858316, 8.464882157228793, 8.138925988394236, 8.353775819677676, 7.578201972194311, 7.429913907099009, 7.2882425575152014, 9.402294674209594, 8.915721993465274, 6.966626689368575, 6.961396739076849, 11.907275629615945, 10.163974319014034, 15.255627867713157, 65.61266135279728, 20.10895642112445, 50.600248527852024, 23.174141722841785, 24.83139273098805, 146.31786909743934, 28.131729492519337, 128.49775643354135, 529.0518700119015, 56.940963637721254, 55.43416177842458, 280.4577783942446, 258.8089251315133, 21.827715412712326, 154.0416709259903, 71.63890038425502, 359.29985644227236, 115.88398003752638, 26.49531536651025, 878.9326483573661, 27.387332405618178, 941.4736365661591, 81.43235260770324, 72.72711384544368, 328.6516928895321, 131.4995088898851, 349.2896804351911, 83.10951314962733, 387.5729976942623, 684.1978174936886, 782.0813161266084, 322.54404276380774, 199.0171590781231, 1137.6557953403164, 377.966915933165, 539.5345074091427, 556.174185901257, 324.63407163024146, 327.17773021522993, 401.2731334958961, 1633.5280381585787, 309.5147263651924, 1209.78713531777, 459.4227138842432, 972.0708290881137, 586.035409765991, 429.28231062467273, 21.09472084062997, 19.116349005197513, 17.953981137048306, 14.766596447483726, 14.757977711051582, 34.03466598634505, 13.865338386881957, 12.775459172656841, 12.247848358548481, 12.228243072631235, 12.12606609663424, 72.7195629087446, 10.489429005074241, 10.479521370201404, 9.76803827594872, 9.684688384074661, 9.751526808895969, 9.416215169380159, 9.345307110181277, 10.430295999844091, 9.681770724221602, 8.629331705883896, 8.267916308665892, 8.002993939579605, 7.950109652612202, 7.882169117145665, 7.880629625367812, 7.938042244584521, 7.455351647397851, 7.272741361151139, 650.6900591483187, 111.13152136938017, 565.0125880836139, 445.3181842458375, 1220.309908315886, 456.4991509620857, 108.16375526941002, 488.2819212371255, 589.5261773324198, 458.8612703783243, 241.1511418443948, 520.6659850276823, 183.707368770327, 776.8625059316083, 116.88828676569578, 598.1462349842288, 131.556679625129, 32.84923415850416, 877.1800077547331, 217.08255688735017, 219.12045643270292, 273.71125236731166, 193.60253919339084, 556.174185901257, 44.667632473904014, 433.59105366797576, 205.62893900569986, 972.0708290881137, 171.50345728975196, 1633.5280381585787, 1137.6557953403164, 53.83705224634416, 22.5644432411848, 13.345364977061356, 13.036952062028908, 30.254361568005393, 10.967992245577593, 10.276241478066476, 11.29991717511997, 8.665941095732363, 8.430439924451974, 9.893174288262104, 8.713295252028596, 8.158745107029628, 8.433737276051097, 7.987028728936445, 8.204951271554865, 7.805776071635079, 7.196108817759622, 7.17276619266446, 6.843836313232522, 6.79734714978985, 8.10363605144472, 6.797733671482121, 29.359767560249878, 6.953712642188341, 36.678036512123434, 6.361849619794474, 8.827727094688564, 5.938533528281716, 13.283119012771285, 129.89751291173062, 166.9867875517994, 416.9604199960911, 78.95649309437133, 443.0464663086412, 11.519333851605857, 146.65414164949195, 220.08918725549546, 284.13515719093897, 161.84703411665683, 197.40684634957424, 83.65300850734235, 109.48530380939853, 173.8003172415368, 98.71438436495927, 88.28500977800192, 280.4577783942446, 63.090777057794305, 55.74857027916151, 210.51730240527013, 88.41377947297688, 25.38507690122413, 219.6317242054654, 73.70206738198692, 322.54404276380774, 1137.6557953403164, 334.4926648591667, 376.4754060600752, 391.5849002705218, 782.0813161266084, 1209.78713531777, 972.0708290881137, 1633.5280381585787, 586.035409765991, 326.89051136703665, 598.1462349842288, 539.5345074091427, 52.12709142415879, 16.65960308915887, 16.63390361966901, 15.354636496660394, 12.873773387015017, 12.09038442202344, 12.086475590230384, 12.120791837670975, 11.597564778970867, 11.377411412972794, 11.593428966511496, 9.40011900514524, 9.289817736388859, 8.64418534948366, 10.968515216989573, 8.262175019612167, 8.05822028161452, 8.05327135271066, 7.90983317222315, 8.524095351143702, 8.34256663891736, 18.544603787798845, 7.2100594220152505, 6.8362350873312145, 6.649313000601131, 8.675043184377703, 6.562238084948903, 6.5540355122871565, 15.51234470626803, 6.278977783875226, 29.24250804511407, 46.81310374356322, 10.790532618783367, 14.169530191173157, 20.831849215115938, 25.782839149959155, 16.188813569931575, 18.684619469583943, 102.47264116261012, 30.685575837204038, 30.483031930340967, 34.04006427197658, 14.903519471104948, 148.554837955024, 33.241457640537746, 50.784880972910656, 432.71000249516675, 90.87896773427244, 205.62893900569986, 29.385536943640993, 239.59707698688783, 586.035409765991, 1633.5280381585787, 153.02514203691953, 56.42404302296924, 433.59105366797576, 941.4736365661591, 296.6963756920043, 459.4227138842432, 45.94380707642202, 104.04988619005499, 174.56681918120373, 181.61063712592374, 324.63407163024146, 246.05435001380192, 152.703328862345, 226.25823921764072, 684.1978174936886, 539.5345074091427, 77.15912951551296, 148.20200997071615, 1209.78713531777, 377.966915933165, 193.06770528296684, 529.0518700119015, 1137.6557953403164, 782.0813161266084, 338.16802009170215, 972.0708290881137, 224.10781828391706, 878.9326483573661, 387.5729976942623, 21.9127637189573, 20.097929086345427, 18.169820613927207, 16.561292862571133, 12.631859466952864, 11.78300523195982, 11.633295762662893, 11.902961840766057, 9.792863859791966, 12.59660831379525, 9.561544245468324, 9.264444238499639, 33.04096661339699, 8.364286447080843, 8.361470418856667, 8.354530232228864, 8.09166486886772, 7.861418015199004, 9.892372983965886, 12.708668668164659, 7.798954320125651, 7.6104173157211275, 7.591495781470705, 20.92559028206098, 8.34898988617337, 7.386188194339183, 8.512386324718781, 7.41106971524173, 7.198872706846885, 28.605012503348778, 30.942915143914906, 18.2639769262458, 14.109609184264523, 23.124430675346883, 12.094231248689795, 16.758515325922957, 28.326718700368207, 30.06484662363865, 32.33963936442649, 33.73696094502526, 37.49647776042099, 27.44640524058848, 16.833123818445987, 60.76838800263944, 118.94777260685149, 30.976444449732586, 79.17757108578927, 99.50108791800983, 157.1658797555105, 1209.78713531777, 32.93796992685966, 54.83378412232876, 72.2594202357039, 972.0708290881137, 47.76312415478667, 112.11065735390713, 317.1586731232891, 163.0722311142153, 143.11248156989623, 782.0813161266084, 83.24236609829362, 334.4926648591667, 203.42610849691357, 375.68297559082777, 288.6514107414484, 401.2731334958961, 586.035409765991, 684.1978174936886, 878.9326483573661, 1633.5280381585787, 1137.6557953403164, 556.174185901257, 89.92742001578218, 154.48296070474768, 226.92509870178242, 877.1800077547331, 391.5849002705218, 459.4227138842432, 359.29985644227236, 941.4736365661591, 1220.309908315886, 326.89051136703665, 338.16802009170215, 776.8625059316083, 27.237603554055543, 16.657040493838796, 16.651621655056296, 11.68362250909023, 11.137175733173061, 12.208780607363977, 10.303508577339741, 10.01833861460238, 9.251165792375428, 11.988125058771635, 8.307873523827327, 7.581687430211381, 9.540693370134008, 11.764543909593442, 7.2254811626250826, 8.263467034284668, 8.852333445730608, 7.077723326602362, 6.5787570472836245, 6.58533939252881, 6.581856642583276, 6.4973691049463, 6.3093857238446445, 6.283450516891167, 6.2765772500451105, 6.127371144500497, 6.021825180355079, 7.54423806406833, 12.68289337178035, 6.743845085263421, 11.798139764062647, 12.87113407791685, 14.01983798492184, 24.191003735598507, 10.16892305563827, 36.287774661473854, 11.179346381643162, 13.782537840726418, 8.305600614996731, 25.579678606006272, 21.43902062288334, 82.51621269679782, 60.52741341896929, 55.734492913308024, 92.0744407395833, 19.775514555526044, 130.55365069308166, 101.50264029568585, 151.02235214296024, 35.83879312749204, 338.16802009170215, 429.28231062467273, 144.13130806113296, 150.8798579475393, 348.1837600254279, 56.62231088036631, 1209.78713531777, 29.777827790920163, 44.763892203606886, 214.49246587945908, 72.09572561659131, 49.625826734708234, 254.51557262344699, 215.71909127913815, 200.13523198660369, 81.89706570696286, 972.0708290881137, 1633.5280381585787, 97.96270576218879, 1137.6557953403164, 210.51730240527013, 127.44971408887355, 151.20368255200606, 148.12460727630952, 782.0813161266084, 307.9569511874055, 317.1586731232891, 684.1978174936886, 159.8684195222391, 230.03261747452072, 246.05435001380192, 376.4754060600752, 326.89051136703665, 375.68297559082777, 285.8505504290812, 324.63407163024146, 381.4571706334546, 18.09573988729759, 15.118321034674494, 13.972267648093066, 13.55337045754732, 12.618617623904493, 12.505867996714375, 12.493178216255464, 12.10594579664174, 15.69942170694045, 10.21736670735218, 10.128461578614232, 16.004867852669268, 10.032155418599652, 9.988793205435751, 9.095045572251315, 22.622047717421964, 8.112943522888244, 7.936405940347416, 8.03588492237128, 7.589529592674175, 7.622803206890667, 8.631816899660475, 8.172703181409839, 8.294237976572848, 7.009438273211004, 6.505969966751025, 6.516711427796569, 6.518573781479147, 6.527067076132272, 6.216689480336007, 30.015733929292804, 17.46812078122622, 16.741487724358482, 43.08504778384216, 11.1253916882423, 113.49378576626633, 75.0847944329243, 19.075864672560385, 95.48932590808259, 21.351728295910696, 539.5345074091427, 63.734587454106446, 75.95767331291583, 18.449352714135934, 54.93409616120785, 77.576051019132, 81.41294583415785, 1633.5280381585787, 941.4736365661591, 1137.6557953403164, 377.966915933165, 72.03332297858996, 106.48465213057237, 183.2070044336592, 259.59538189771376, 104.71047221538011, 301.5151427203272, 140.31003230893938, 349.2896804351911, 200.13523198660369, 182.51838278442702, 1209.78713531777, 190.66809747803654, 267.7768219418223, 327.17773021522993, 684.1978174936886, 877.1800077547331, 878.9326483573661, 972.0708290881137, 586.035409765991, 288.6514107414484, 782.0813161266084, 348.1837600254279, 556.174185901257, 1220.309908315886, 776.8625059316083, 381.4571706334546, 63.73761756502154, 40.00457273603965, 24.07666329169644, 43.48741359548898, 16.121928810540126, 15.498658986618802, 15.546399694607775, 13.229856081369967, 14.245875633913137, 12.526397915769243, 11.966230658207788, 11.446152670857831, 10.771225202107038, 10.433288066821929, 9.480544840749609, 8.717049848950227, 8.432107100832457, 8.066126194406946, 15.122831118481617, 8.045687116964814, 8.055636898337493, 7.932685470962574, 7.803339426889947, 7.769410342351447, 7.599256508054678, 7.551009010797712, 8.328144463990043, 8.75296250574031, 6.897002786985388, 7.252685625626566, 9.923927570432143, 19.291563003614943, 28.82511946660503, 21.811969705689723, 35.778067918621026, 13.397666591539547, 24.761326560525273, 38.399043103739245, 10.81196473678489, 18.388104025786742, 22.915169320671552, 194.7956653115707, 56.24652829574704, 118.60950464663657, 91.78543583308601, 307.9569511874055, 226.92509870178242, 220.08918725549546, 86.87125298633896, 216.98174857482462, 213.6736830096141, 259.6267562967907, 267.7768219418223, 1633.5280381585787, 61.23402105838065, 432.71000249516675, 443.0464663086412, 877.1800077547331, 309.5147263651924, 214.49246587945908, 416.9604199960911, 941.4736365661591, 173.8003172415368, 586.035409765991, 556.174185901257, 401.2731334958961, 375.68297559082777, 190.66809747803654, 377.966915933165, 684.1978174936886, 598.1462349842288, 1137.6557953403164, 1220.309908315886, 776.8625059316083, 782.0813161266084, 33.5404195409558, 28.141785959317122, 13.191026747198384, 12.778812363973472, 12.16661791060577, 11.990063557333473, 11.339681863721461, 10.553008057170581, 9.177009916701667, 9.052244308895157, 8.60473461753462, 8.098127457814202, 8.022786561377949, 9.540985618283765, 12.834295696827835, 7.586605651121504, 8.062573556204242, 11.202364455697678, 15.588521361649345, 10.23080062652598, 8.118589762576814, 9.55217728988334, 6.583993811509921, 6.513338879904978, 6.409265292648441, 8.075283866542504, 6.1905749081260195, 12.947872046684969, 5.917558181231015, 5.915567613233175, 15.809648494302989, 8.242833002810224, 14.850405510772019, 12.767918564153074, 14.005127919512724, 21.286076021973297, 29.566296712954355, 72.16704013313304, 19.566990757216086, 285.4989265860371, 12.989452107098876, 878.9326483573661, 205.62893900569986, 42.59403378550226, 529.0518700119015, 72.85831966258696, 1633.5280381585787, 104.71047221538011, 19.57134702679529, 19.1954780451291, 941.4736365661591, 1137.6557953403164, 89.89781130013519, 328.6516928895321, 432.71000249516675, 74.38400544847914, 219.39292116507536, 246.84075023940818, 145.78557382572606, 173.76689621477132, 782.0813161266084, 71.92367659478624, 684.1978174936886, 972.0708290881137, 327.17773021522993, 1209.78713531777, 877.1800077547331, 214.24418408740078, 212.63654078543925, 377.966915933165, 375.68297559082777, 429.28231062467273, 1220.309908315886, 776.8625059316083, 326.89051136703665, 387.5729976942623, 556.174185901257, 21.254449744499723, 16.57624865284265, 12.944185352452143, 12.078108911039317, 10.658087861654156, 10.026266836266325, 10.27973841338998, 9.230938721906888, 9.28754175970783, 9.055988143997235, 9.94190709007405, 8.690123515755552, 8.646216228851069, 7.925627465036651, 18.618630517058413, 7.751555868547788, 7.617052835624413, 9.336460568849734, 7.331498005872459, 7.337244911865766, 7.76130904403013, 9.201868585083153, 7.111316335621012, 8.959598684757813, 6.66746853030092, 6.398522595890085, 11.279231525775264, 5.849917280234537, 6.506567569908333, 5.614824066117291, 8.69642395674689, 15.50253816525429, 23.576594437667005, 32.53235586284209, 33.5484048763086, 45.038973061225015, 41.499817225242225, 19.98631198428889, 31.989516810615484, 50.384888512204796, 17.284482834003697, 14.615726091418175, 33.64017629666438, 19.175663014078786, 68.05436083216479, 198.84870749377438, 19.28233403892181, 26.60780277642865, 17.249565982191232, 381.4571706334546, 152.01103185712842, 51.79650433909303, 1209.78713531777, 197.83674330370476, 877.1800077547331, 207.49319079200575, 66.77150910054257, 216.98174857482462, 183.2070044336592, 1220.309908315886, 459.4227138842432, 972.0708290881137, 254.51557262344699, 520.6659850276823, 776.8625059316083, 878.9326483573661, 1633.5280381585787, 429.28231062467273, 309.5147263651924, 387.5729976942623, 782.0813161266084, 598.1462349842288, 589.5261773324198, 285.8505504290812, 334.4926648591667, 288.6514107414484, 941.4736365661591, 348.1837600254279, 376.4754060600752, 456.4991509620857], \"Category\": [\"Default\", \"Default\", \"Default\", \"Default\", \"Default\", \"Default\", \"Default\", \"Default\", \"Default\", \"Default\", \"Default\", \"Default\", \"Default\", \"Default\", \"Default\", \"Default\", \"Default\", \"Default\", \"Default\", \"Default\", \"Default\", \"Default\", \"Default\", \"Default\", \"Default\", \"Default\", \"Default\", \"Default\", \"Default\", \"Default\", \"Topic1\", \"Topic1\", \"Topic1\", \"Topic1\", \"Topic1\", \"Topic1\", \"Topic1\", \"Topic1\", \"Topic1\", \"Topic1\", \"Topic1\", \"Topic1\", \"Topic1\", \"Topic1\", \"Topic1\", \"Topic1\", \"Topic1\", \"Topic1\", \"Topic1\", \"Topic1\", \"Topic1\", \"Topic1\", \"Topic1\", \"Topic1\", \"Topic1\", \"Topic1\", \"Topic1\", \"Topic1\", \"Topic1\", \"Topic1\", \"Topic1\", \"Topic1\", \"Topic1\", \"Topic1\", \"Topic1\", \"Topic1\", \"Topic1\", \"Topic1\", \"Topic1\", \"Topic1\", \"Topic1\", \"Topic1\", \"Topic1\", \"Topic1\", \"Topic1\", \"Topic1\", \"Topic1\", \"Topic1\", \"Topic1\", \"Topic1\", \"Topic1\", \"Topic1\", \"Topic1\", \"Topic1\", \"Topic1\", \"Topic1\", \"Topic1\", \"Topic1\", \"Topic1\", \"Topic1\", \"Topic1\", \"Topic1\", \"Topic1\", \"Topic1\", \"Topic1\", \"Topic1\", \"Topic1\", \"Topic1\", \"Topic1\", \"Topic1\", \"Topic1\", \"Topic1\", \"Topic1\", \"Topic1\", \"Topic1\", \"Topic1\", \"Topic1\", \"Topic1\", \"Topic1\", \"Topic2\", \"Topic2\", \"Topic2\", \"Topic2\", \"Topic2\", \"Topic2\", \"Topic2\", \"Topic2\", \"Topic2\", \"Topic2\", \"Topic2\", \"Topic2\", \"Topic2\", \"Topic2\", \"Topic2\", \"Topic2\", \"Topic2\", \"Topic2\", \"Topic2\", \"Topic2\", \"Topic2\", \"Topic2\", \"Topic2\", \"Topic2\", \"Topic2\", \"Topic2\", \"Topic2\", \"Topic2\", \"Topic2\", \"Topic2\", \"Topic2\", \"Topic2\", \"Topic2\", \"Topic2\", \"Topic2\", \"Topic2\", \"Topic2\", \"Topic2\", \"Topic2\", \"Topic2\", \"Topic2\", \"Topic2\", \"Topic2\", \"Topic2\", \"Topic2\", \"Topic2\", \"Topic2\", \"Topic2\", \"Topic2\", \"Topic2\", \"Topic2\", \"Topic2\", \"Topic2\", \"Topic2\", \"Topic2\", \"Topic2\", \"Topic2\", \"Topic2\", \"Topic2\", \"Topic2\", \"Topic2\", \"Topic3\", \"Topic3\", \"Topic3\", \"Topic3\", \"Topic3\", \"Topic3\", \"Topic3\", \"Topic3\", \"Topic3\", \"Topic3\", \"Topic3\", \"Topic3\", \"Topic3\", \"Topic3\", \"Topic3\", \"Topic3\", \"Topic3\", \"Topic3\", \"Topic3\", \"Topic3\", \"Topic3\", \"Topic3\", \"Topic3\", \"Topic3\", \"Topic3\", \"Topic3\", \"Topic3\", \"Topic3\", \"Topic3\", \"Topic3\", \"Topic3\", \"Topic3\", \"Topic3\", \"Topic3\", \"Topic3\", \"Topic3\", \"Topic3\", \"Topic3\", \"Topic3\", \"Topic3\", \"Topic3\", \"Topic3\", \"Topic3\", \"Topic3\", \"Topic3\", \"Topic3\", \"Topic3\", \"Topic3\", \"Topic3\", \"Topic3\", \"Topic3\", \"Topic3\", \"Topic3\", \"Topic3\", \"Topic3\", \"Topic3\", \"Topic3\", \"Topic3\", \"Topic3\", \"Topic3\", \"Topic3\", \"Topic3\", \"Topic3\", \"Topic3\", \"Topic3\", \"Topic3\", \"Topic3\", \"Topic4\", \"Topic4\", \"Topic4\", \"Topic4\", \"Topic4\", \"Topic4\", \"Topic4\", \"Topic4\", \"Topic4\", \"Topic4\", \"Topic4\", \"Topic4\", \"Topic4\", \"Topic4\", \"Topic4\", \"Topic4\", \"Topic4\", \"Topic4\", \"Topic4\", \"Topic4\", \"Topic4\", \"Topic4\", \"Topic4\", \"Topic4\", \"Topic4\", \"Topic4\", \"Topic4\", \"Topic4\", \"Topic4\", \"Topic4\", \"Topic4\", \"Topic4\", \"Topic4\", \"Topic4\", \"Topic4\", \"Topic4\", \"Topic4\", \"Topic4\", \"Topic4\", \"Topic4\", \"Topic4\", \"Topic4\", \"Topic4\", \"Topic4\", \"Topic4\", \"Topic4\", \"Topic4\", \"Topic4\", \"Topic4\", \"Topic4\", \"Topic4\", \"Topic4\", \"Topic4\", \"Topic4\", \"Topic4\", \"Topic4\", \"Topic4\", \"Topic4\", \"Topic4\", \"Topic4\", \"Topic4\", \"Topic4\", \"Topic4\", \"Topic4\", \"Topic4\", \"Topic4\", \"Topic4\", \"Topic4\", \"Topic4\", \"Topic4\", \"Topic4\", \"Topic4\", \"Topic4\", \"Topic4\", \"Topic4\", \"Topic4\", \"Topic4\", \"Topic4\", \"Topic4\", \"Topic4\", \"Topic4\", \"Topic4\", \"Topic5\", \"Topic5\", \"Topic5\", \"Topic5\", \"Topic5\", \"Topic5\", \"Topic5\", \"Topic5\", \"Topic5\", \"Topic5\", \"Topic5\", \"Topic5\", \"Topic5\", \"Topic5\", \"Topic5\", \"Topic5\", \"Topic5\", \"Topic5\", \"Topic5\", \"Topic5\", \"Topic5\", \"Topic5\", \"Topic5\", \"Topic5\", \"Topic5\", \"Topic5\", \"Topic5\", \"Topic5\", \"Topic5\", \"Topic5\", \"Topic5\", \"Topic5\", \"Topic5\", \"Topic5\", \"Topic5\", \"Topic5\", \"Topic5\", \"Topic5\", \"Topic5\", \"Topic5\", \"Topic5\", \"Topic5\", \"Topic5\", \"Topic5\", \"Topic5\", \"Topic5\", \"Topic5\", \"Topic5\", \"Topic5\", \"Topic5\", \"Topic5\", \"Topic5\", \"Topic5\", \"Topic5\", \"Topic5\", \"Topic5\", \"Topic5\", \"Topic5\", \"Topic5\", \"Topic5\", \"Topic5\", \"Topic5\", \"Topic5\", \"Topic5\", \"Topic5\", \"Topic5\", \"Topic5\", \"Topic5\", \"Topic5\", \"Topic5\", \"Topic5\", \"Topic5\", \"Topic5\", \"Topic5\", \"Topic5\", \"Topic5\", \"Topic5\", \"Topic5\", \"Topic5\", \"Topic5\", \"Topic5\", \"Topic5\", \"Topic5\", \"Topic5\", \"Topic6\", \"Topic6\", \"Topic6\", \"Topic6\", \"Topic6\", \"Topic6\", \"Topic6\", \"Topic6\", \"Topic6\", \"Topic6\", \"Topic6\", \"Topic6\", \"Topic6\", \"Topic6\", \"Topic6\", \"Topic6\", \"Topic6\", \"Topic6\", \"Topic6\", \"Topic6\", \"Topic6\", \"Topic6\", \"Topic6\", \"Topic6\", \"Topic6\", \"Topic6\", \"Topic6\", \"Topic6\", \"Topic6\", \"Topic6\", \"Topic6\", \"Topic6\", \"Topic6\", \"Topic6\", \"Topic6\", \"Topic6\", \"Topic6\", \"Topic6\", \"Topic6\", \"Topic6\", \"Topic6\", \"Topic6\", \"Topic6\", \"Topic6\", \"Topic6\", \"Topic6\", \"Topic6\", \"Topic6\", \"Topic6\", \"Topic6\", \"Topic6\", \"Topic6\", \"Topic6\", \"Topic6\", \"Topic6\", \"Topic6\", \"Topic6\", \"Topic6\", \"Topic6\", \"Topic6\", \"Topic6\", \"Topic6\", \"Topic6\", \"Topic6\", \"Topic6\", \"Topic6\", \"Topic6\", \"Topic6\", \"Topic6\", \"Topic6\", \"Topic6\", \"Topic6\", \"Topic6\", \"Topic6\", \"Topic6\", \"Topic6\", \"Topic6\", \"Topic6\", \"Topic6\", \"Topic6\", \"Topic6\", \"Topic6\", \"Topic6\", \"Topic6\", \"Topic6\", \"Topic6\", \"Topic6\", \"Topic7\", \"Topic7\", \"Topic7\", \"Topic7\", \"Topic7\", \"Topic7\", \"Topic7\", \"Topic7\", \"Topic7\", \"Topic7\", \"Topic7\", \"Topic7\", \"Topic7\", \"Topic7\", \"Topic7\", \"Topic7\", \"Topic7\", \"Topic7\", \"Topic7\", \"Topic7\", \"Topic7\", \"Topic7\", \"Topic7\", \"Topic7\", \"Topic7\", \"Topic7\", \"Topic7\", \"Topic7\", \"Topic7\", \"Topic7\", \"Topic7\", \"Topic7\", \"Topic7\", \"Topic7\", \"Topic7\", \"Topic7\", \"Topic7\", \"Topic7\", \"Topic7\", \"Topic7\", \"Topic7\", \"Topic7\", \"Topic7\", \"Topic7\", \"Topic7\", \"Topic7\", \"Topic7\", \"Topic7\", \"Topic7\", \"Topic7\", \"Topic7\", \"Topic7\", \"Topic7\", \"Topic7\", \"Topic7\", \"Topic7\", \"Topic7\", \"Topic7\", \"Topic7\", \"Topic7\", \"Topic7\", \"Topic7\", \"Topic7\", \"Topic7\", \"Topic7\", \"Topic7\", \"Topic7\", \"Topic7\", \"Topic7\", \"Topic7\", \"Topic7\", \"Topic7\", \"Topic7\", \"Topic7\", \"Topic7\", \"Topic7\", \"Topic7\", \"Topic8\", \"Topic8\", \"Topic8\", \"Topic8\", \"Topic8\", \"Topic8\", \"Topic8\", \"Topic8\", \"Topic8\", \"Topic8\", \"Topic8\", \"Topic8\", \"Topic8\", \"Topic8\", \"Topic8\", \"Topic8\", \"Topic8\", \"Topic8\", \"Topic8\", \"Topic8\", \"Topic8\", \"Topic8\", \"Topic8\", \"Topic8\", \"Topic8\", \"Topic8\", \"Topic8\", \"Topic8\", \"Topic8\", \"Topic8\", \"Topic8\", \"Topic8\", \"Topic8\", \"Topic8\", \"Topic8\", \"Topic8\", \"Topic8\", \"Topic8\", \"Topic8\", \"Topic8\", \"Topic8\", \"Topic8\", \"Topic8\", \"Topic8\", \"Topic8\", \"Topic8\", \"Topic8\", \"Topic8\", \"Topic8\", \"Topic8\", \"Topic8\", \"Topic8\", \"Topic8\", \"Topic8\", \"Topic8\", \"Topic8\", \"Topic8\", \"Topic8\", \"Topic8\", \"Topic8\", \"Topic8\", \"Topic8\", \"Topic8\", \"Topic8\", \"Topic8\", \"Topic8\", \"Topic8\", \"Topic8\", \"Topic8\", \"Topic8\", \"Topic8\", \"Topic8\", \"Topic8\", \"Topic8\", \"Topic8\", \"Topic9\", \"Topic9\", \"Topic9\", \"Topic9\", \"Topic9\", \"Topic9\", \"Topic9\", \"Topic9\", \"Topic9\", \"Topic9\", \"Topic9\", \"Topic9\", \"Topic9\", \"Topic9\", \"Topic9\", \"Topic9\", \"Topic9\", \"Topic9\", \"Topic9\", \"Topic9\", \"Topic9\", \"Topic9\", \"Topic9\", \"Topic9\", \"Topic9\", \"Topic9\", \"Topic9\", \"Topic9\", \"Topic9\", \"Topic9\", \"Topic9\", \"Topic9\", \"Topic9\", \"Topic9\", \"Topic9\", \"Topic9\", \"Topic9\", \"Topic9\", \"Topic9\", \"Topic9\", \"Topic9\", \"Topic9\", \"Topic9\", \"Topic9\", \"Topic9\", \"Topic9\", \"Topic9\", \"Topic9\", \"Topic9\", \"Topic9\", \"Topic9\", \"Topic9\", \"Topic9\", \"Topic9\", \"Topic9\", \"Topic9\", \"Topic9\", \"Topic9\", \"Topic9\", \"Topic9\", \"Topic9\", \"Topic9\", \"Topic9\", \"Topic9\", \"Topic9\", \"Topic9\", \"Topic9\", \"Topic9\", \"Topic9\", \"Topic9\", \"Topic9\", \"Topic9\", \"Topic9\", \"Topic9\", \"Topic9\", \"Topic9\", \"Topic9\", \"Topic10\", \"Topic10\", \"Topic10\", \"Topic10\", \"Topic10\", \"Topic10\", \"Topic10\", \"Topic10\", \"Topic10\", \"Topic10\", \"Topic10\", \"Topic10\", \"Topic10\", \"Topic10\", \"Topic10\", \"Topic10\", \"Topic10\", \"Topic10\", \"Topic10\", \"Topic10\", \"Topic10\", \"Topic10\", \"Topic10\", \"Topic10\", \"Topic10\", \"Topic10\", \"Topic10\", \"Topic10\", \"Topic10\", \"Topic10\", \"Topic10\", \"Topic10\", \"Topic10\", \"Topic10\", \"Topic10\", \"Topic10\", \"Topic10\", \"Topic10\", \"Topic10\", \"Topic10\", \"Topic10\", \"Topic10\", \"Topic10\", \"Topic10\", \"Topic10\", \"Topic10\", \"Topic10\", \"Topic10\", \"Topic10\", \"Topic10\", \"Topic10\", \"Topic10\", \"Topic10\", \"Topic10\", \"Topic10\", \"Topic10\", \"Topic10\", \"Topic10\", \"Topic10\", \"Topic10\", \"Topic10\", \"Topic10\", \"Topic10\", \"Topic10\", \"Topic10\", \"Topic10\", \"Topic10\", \"Topic10\", \"Topic10\", \"Topic10\", \"Topic10\", \"Topic10\", \"Topic10\", \"Topic10\", \"Topic10\", \"Topic10\", \"Topic10\", \"Topic10\", \"Topic10\", \"Topic10\"], \"logprob\": [30.0, 29.0, 28.0, 27.0, 26.0, 25.0, 24.0, 23.0, 22.0, 21.0, 20.0, 19.0, 18.0, 17.0, 16.0, 15.0, 14.0, 13.0, 12.0, 11.0, 10.0, 9.0, 8.0, 7.0, 6.0, 5.0, 4.0, 3.0, 2.0, 1.0, -6.6254, -7.0149, -7.0857, -7.1698, -7.4885, -7.6473, -7.5456, -7.6962, -7.1415, -7.5709, -7.7534, -7.7999, -7.8209, -7.8226, -7.8301, -7.8209, -7.8574, -7.8757, -7.8845, -7.8891, -7.9332, -7.9131, -8.0136, -8.036, -8.058, -7.8058, -7.8592, -8.1094, -8.1103, -7.5752, -7.7389, -7.3476, -5.9354, -7.0922, -6.2384, -6.9687, -6.9501, -5.4095, -6.8468, -5.5551, -4.3886, -6.2717, -6.2971, -4.9391, -5.0316, -7.0859, -5.4804, -6.151, -4.89, -5.7901, -6.9581, -4.3301, -6.9518, -4.4418, -6.1939, -6.2885, -5.2807, -5.8946, -5.2745, -6.2114, -5.2954, -4.9623, -4.9555, -5.461, -5.7433, -4.7801, -5.3957, -5.2589, -5.2902, -5.5582, -5.575, -5.501, -4.9428, -5.6138, -5.1575, -5.5121, -5.5464, -5.7248, -5.7557, -6.7144, -6.8134, -6.8835, -7.0855, -7.0861, -6.2536, -7.1574, -7.2434, -7.286, -7.2876, -7.2963, -5.5093, -7.4534, -7.4545, -7.5312, -7.5408, -7.5346, -7.572, -7.58, -7.4722, -7.5531, -7.6683, -7.7161, -7.7523, -7.7598, -7.7694, -7.7696, -7.7635, -7.8323, -7.8602, -3.4627, -5.1921, -3.6244, -3.8661, -2.8988, -3.8461, -5.2339, -3.7945, -3.6225, -3.8635, -4.4751, -3.8329, -4.8098, -3.5181, -5.2559, -3.8278, -5.2003, -6.4588, -3.6993, -4.9774, -5.0216, -4.9238, -5.2435, -4.7466, -6.395, -5.032, -5.5731, -5.0108, -5.9723, -5.28, -5.7499, -5.7363, -6.6199, -7.1482, -7.1733, -6.3322, -7.3606, -7.4332, -7.3464, -7.6203, -7.6511, -7.4912, -7.6221, -7.688, -7.6586, -7.7136, -7.6922, -7.747, -7.8304, -7.8342, -7.8881, -7.896, -7.721, -7.8977, -6.4371, -7.8775, -6.2178, -7.9729, -7.6503, -8.0537, -7.2554, -5.0013, -4.7749, -3.9082, -5.5262, -3.9656, -7.4032, -5.0433, -4.6774, -4.4934, -5.0044, -4.8348, -5.6378, -5.4075, -5.0426, -5.5871, -5.7706, -4.9007, -6.0836, -6.1932, -5.2473, -5.9191, -6.8112, -5.3997, -6.1124, -5.1682, -4.3771, -5.1781, -5.1625, -5.1606, -4.9377, -4.8127, -4.9456, -4.8826, -5.2821, -5.4938, -5.5327, -5.6831, -5.7486, -6.897, -6.8986, -6.9915, -7.1745, -7.2392, -7.2396, -7.2392, -7.2852, -7.3051, -7.2877, -7.5142, -7.527, -7.6098, -7.3731, -7.658, -7.6856, -7.6863, -7.7065, -7.6368, -7.6666, -6.8712, -7.8168, -7.873, -7.9045, -7.6392, -7.9197, -7.9212, -7.063, -7.971, -6.4336, -6.0637, -7.4485, -7.1987, -6.8495, -6.6563, -7.083, -6.9652, -5.5262, -6.5771, -6.5957, -6.5115, -7.1889, -5.3688, -6.5635, -6.2497, -4.6915, -5.8432, -5.3365, -6.6896, -5.2532, -4.677, -4.0526, -5.6014, -6.2529, -4.9398, -4.4715, -5.2043, -4.9611, -6.4108, -5.9585, -5.6687, -5.6692, -5.4018, -5.5517, -5.7979, -5.6035, -5.0745, -5.2092, -6.1439, -5.8548, -4.9338, -5.4885, -5.7677, -5.4921, -5.2786, -5.4282, -5.6749, -5.4784, -5.7824, -5.7044, -5.7514, -6.5931, -6.6835, -6.7901, -6.8869, -7.1757, -7.2508, -7.2646, -7.2503, -7.4526, -7.203, -7.4794, -7.514, -6.2463, -7.6276, -7.628, -7.6289, -7.6648, -7.6974, -7.4677, -7.218, -7.7063, -7.734, -7.7369, -6.7244, -7.6435, -7.768, -7.627, -7.7659, -7.7973, -6.4211, -6.3758, -6.8992, -7.155, -6.6997, -7.3029, -7.0002, -6.5546, -6.5323, -6.4734, -6.4549, -6.4155, -6.6746, -7.0774, -6.0788, -5.5661, -6.6019, -5.906, -5.7598, -5.4466, -4.1344, -6.5807, -6.2721, -6.1116, -4.4783, -6.3739, -5.8595, -5.2513, -5.7416, -5.8262, -4.9922, -6.122, -5.4976, -5.7397, -5.4754, -5.5906, -5.4516, -5.3456, -5.2919, -5.204, -4.9838, -5.204, -5.546, -6.1375, -5.9752, -5.8736, -5.4963, -5.7399, -5.7088, -5.802, -5.7692, -5.7959, -5.9367, -5.9356, -5.9326, -6.3205, -6.8339, -6.8344, -7.213, -7.2659, -7.1747, -7.362, -7.3967, -7.4866, -7.2282, -7.597, -7.6912, -7.4639, -7.2561, -7.7459, -7.6166, -7.5506, -7.7757, -7.8536, -7.854, -7.8549, -7.8681, -7.9021, -7.907, -7.9083, -7.9363, -7.9569, -7.7335, -7.215, -7.8468, -7.293, -7.2273, -7.1491, -6.6479, -7.459, -6.276, -7.3719, -7.1911, -7.6476, -6.6676, -6.8221, -5.6634, -5.9383, -6.0172, -5.6209, -6.9041, -5.3689, -5.6365, -5.3326, -6.4644, -4.7405, -4.665, -5.4666, -5.4349, -4.8733, -6.1878, -4.1467, -6.6496, -6.3919, -5.377, -6.0837, -6.3275, -5.2998, -5.4024, -5.45, -6.0133, -4.4802, -4.2078, -5.9048, -4.468, -5.473, -5.7683, -5.7115, -5.738, -4.9243, -5.3998, -5.4002, -5.1551, -5.7365, -5.6228, -5.6337, -5.5752, -5.6727, -5.6658, -5.6938, -5.6884, -5.6879, -6.6628, -6.8512, -6.9352, -6.9677, -7.0444, -7.0541, -7.0552, -7.0891, -6.8411, -7.2739, -7.2834, -6.826, -7.296, -7.3011, -7.4018, -6.4995, -7.5297, -7.5543, -7.5448, -7.6045, -7.6005, -7.4772, -7.5351, -7.5221, -7.6953, -7.7811, -7.7815, -7.7828, -7.7833, -7.8341, -6.2903, -6.861, -6.9045, -6.0461, -7.2976, -5.3177, -5.832, -6.8888, -5.679, -6.8108, -4.3991, -6.008, -5.9206, -6.9416, -6.1875, -5.9627, -5.9469, -3.9804, -4.4055, -4.3692, -5.046, -6.0677, -5.8547, -5.5728, -5.4162, -5.9078, -5.3744, -5.7954, -5.3376, -5.6331, -5.6826, -4.7981, -5.6863, -5.5378, -5.4485, -5.1407, -5.06, -5.0712, -5.0654, -5.2765, -5.5957, -5.4032, -5.6178, -5.5629, -5.4649, -5.5835, -5.7953, -5.3466, -5.8238, -6.3459, -5.7693, -6.7644, -6.8062, -6.8112, -6.9751, -6.9023, -7.034, -7.0832, -7.1318, -7.1977, -7.2335, -7.3375, -7.4307, -7.4681, -7.5176, -6.8899, -7.5212, -7.5208, -7.5367, -7.555, -7.56, -7.585, -7.5924, -7.497, -7.4528, -7.6957, -7.6456, -7.3376, -6.7191, -6.395, -6.6565, -6.2422, -7.0912, -6.5701, -6.2288, -7.2883, -6.8748, -6.7209, -5.1624, -6.0789, -5.6143, -5.8532, -5.0955, -5.4028, -5.4616, -6.0025, -5.4963, -5.505, -5.4195, -5.4554, -4.5191, -6.2304, -5.2824, -5.3565, -5.1206, -5.5951, -5.759, -5.5112, -5.2123, -5.8728, -5.4726, -5.5, -5.6099, -5.7104, -5.8747, -5.7303, -5.6487, -5.672, -5.6554, -5.6521, -5.7278, -5.7947, -5.9504, -6.1427, -6.9289, -6.9611, -7.0142, -7.0298, -7.0926, -7.1687, -7.3224, -7.3376, -7.3942, -7.4654, -7.4756, -7.3064, -7.0099, -7.5357, -7.4797, -7.1521, -6.8223, -7.2459, -7.4866, -7.3257, -7.6982, -7.7109, -7.7294, -7.5002, -7.7742, -7.0388, -7.8228, -7.8232, -6.8674, -7.502, -6.9509, -7.098, -7.0186, -6.6946, -6.4229, -5.7182, -6.7788, -4.6607, -7.1407, -4.1959, -5.2442, -6.3229, -4.6592, -5.9717, -4.002, -5.8313, -6.8629, -6.8746, -4.5794, -4.4713, -6.0127, -5.31, -5.1901, -6.1248, -5.5611, -5.5107, -5.8211, -5.7405, -5.0332, -6.1777, -5.1225, -4.9869, -5.5427, -5.0096, -5.17, -5.7517, -5.7658, -5.5977, -5.6252, -5.5842, -5.3453, -5.4756, -5.7206, -5.7745, -5.7541, -6.2503, -6.511, -6.7746, -6.8494, -6.9852, -7.0521, -7.0286, -7.1434, -7.1374, -7.1647, -7.0728, -7.2106, -7.2178, -7.3153, -6.4619, -7.339, -7.3606, -7.1587, -7.4023, -7.403, -7.3469, -7.1787, -7.4375, -7.2092, -7.5116, -7.5593, -7.0048, -7.6644, -7.5604, -7.7131, -7.2761, -6.7224, -6.3318, -6.0329, -6.0652, -5.8384, -5.9549, -6.5739, -6.2079, -5.8776, -6.7235, -6.8528, -6.2386, -6.6925, -5.912, -5.2727, -6.7281, -6.5394, -6.7952, -5.0729, -5.5919, -6.1954, -4.5882, -5.5416, -4.8607, -5.574, -6.1238, -5.5738, -5.6971, -4.9369, -5.4147, -5.1355, -5.6627, -5.3924, -5.2492, -5.2607, -5.0581, -5.5418, -5.6591, -5.5949, -5.4089, -5.5126, -5.5933, -5.7469, -5.7373, -5.7951, -5.7008, -5.7853, -5.7959, -5.8058], \"loglift\": [30.0, 29.0, 28.0, 27.0, 26.0, 25.0, 24.0, 23.0, 22.0, 21.0, 20.0, 19.0, 18.0, 17.0, 16.0, 15.0, 14.0, 13.0, 12.0, 11.0, 10.0, 9.0, 8.0, 7.0, 6.0, 5.0, 4.0, 3.0, 2.0, 1.0, 1.9573, 1.9423, 1.939, 1.9338, 1.9145, 1.9021, 1.9003, 1.898, 1.8931, 1.893, 1.8928, 1.8884, 1.8863, 1.8862, 1.8854, 1.8854, 1.8827, 1.8807, 1.8799, 1.8794, 1.8745, 1.8687, 1.8656, 1.863, 1.8602, 1.8577, 1.8574, 1.8539, 1.8538, 1.8521, 1.8467, 1.8319, 1.7853, 1.8111, 1.7421, 1.7927, 1.7422, 1.5092, 1.7207, 1.4934, 1.2448, 1.5907, 1.5921, 1.3289, 1.3168, 1.7354, 1.3868, 1.4818, 1.1303, 1.3618, 1.6694, 0.7956, 1.6426, 0.6152, 1.3108, 1.3292, 0.8288, 1.1309, 0.774, 1.2729, 0.6492, 0.4139, 0.287, 0.6672, 0.8678, 0.0877, 0.5739, 0.3548, 0.2931, 0.5636, 0.5389, 0.4088, -0.4368, 0.5557, -0.3512, 0.2624, -0.5214, -0.1937, 0.0866, 2.141, 2.1405, 2.1331, 2.1266, 2.1265, 2.1235, 2.1177, 2.1135, 2.1131, 2.1131, 2.1128, 2.1086, 2.1006, 2.1005, 2.0941, 2.0931, 2.0924, 2.0901, 2.0895, 2.0875, 2.0811, 2.081, 2.076, 2.0723, 2.0715, 2.0705, 2.0705, 2.0693, 2.0632, 2.0601, 1.9637, 2.0016, 1.9432, 1.9395, 1.8988, 1.9347, 1.9869, 1.919, 1.9026, 1.9122, 1.9439, 1.8165, 1.8813, 1.731, 1.8873, 1.6828, 1.8247, 1.9538, 1.4284, 1.5468, 1.4932, 1.3685, 1.3951, 0.8368, 1.7102, 0.8003, 1.0052, 0.0142, 0.7876, -0.7741, -0.8822, 2.1822, 2.1682, 2.165, 2.1633, 2.1626, 2.1489, 2.1414, 2.1333, 2.1248, 2.1215, 2.1214, 2.1174, 2.1173, 2.1136, 2.113, 2.1075, 2.1026, 2.1005, 2.1, 2.093, 2.0919, 2.0912, 2.0901, 2.0877, 2.0877, 2.0845, 2.0813, 2.0763, 2.0693, 2.0626, 2.0364, 2.0116, 1.9633, 2.0094, 1.8452, 2.0573, 1.8731, 1.833, 1.7616, 1.8134, 1.7844, 1.84, 1.8012, 1.7039, 1.7251, 1.6533, 1.3673, 1.6763, 1.6904, 1.3075, 1.5033, 1.8591, 1.1128, 1.492, 0.96, 0.4906, 0.9137, 0.8111, 0.7737, 0.3048, -0.0065, 0.0794, -0.3767, 0.2489, 0.6211, -0.0221, -0.0693, 2.2022, 2.1945, 2.1944, 2.1815, 2.1747, 2.1729, 2.1728, 2.1704, 2.1685, 2.1677, 2.1663, 2.1495, 2.1485, 2.1377, 2.1363, 2.1347, 2.1322, 2.1321, 2.1298, 2.1248, 2.1165, 2.113, 2.1122, 2.1092, 2.1055, 2.1048, 2.1034, 2.1032, 2.0998, 2.0962, 2.0952, 1.9946, 2.0773, 2.0547, 2.0185, 1.9984, 2.0371, 2.0115, 1.7486, 1.9035, 1.8916, 1.8654, 2.0139, 1.5347, 1.8371, 1.7271, 1.1429, 1.5517, 1.2419, 1.8343, 1.1723, 0.8541, 0.4533, 1.2725, 1.6186, 0.8926, 0.5855, 1.0074, 0.8133, 1.6662, 1.301, 1.0734, 1.0334, 0.72, 0.8472, 1.078, 0.8792, 0.3017, 0.4046, 1.4146, 1.0511, -0.1276, 0.4811, 0.8737, 0.1413, -0.4109, -0.1857, 0.406, -0.4534, 0.7099, -0.5786, 0.1932, 2.2243, 2.2203, 2.2145, 2.2104, 2.1925, 2.187, 2.186, 2.1774, 2.1702, 2.168, 2.1673, 2.1643, 2.1604, 2.1529, 2.1528, 2.1527, 2.1488, 2.1451, 2.145, 2.1442, 2.1441, 2.1409, 2.1405, 2.1391, 2.1388, 2.1368, 2.1359, 2.1355, 2.1332, 2.1297, 2.0965, 2.1003, 2.1026, 2.0638, 2.1088, 2.0853, 2.006, 1.9687, 1.9548, 1.931, 1.8647, 1.9176, 2.0037, 1.7186, 1.5596, 1.8694, 1.6268, 1.5445, 1.4005, 0.6718, 1.8291, 1.6281, 1.5125, 0.5467, 1.6643, 1.3255, 0.8938, 1.0686, 1.1146, 0.2503, 1.3606, 0.5942, 0.8494, 0.5003, 0.6486, 0.4582, 0.1855, 0.0843, -0.0783, -0.4778, -0.3363, 0.0374, 1.268, 0.8892, 0.6062, -0.3686, 0.1943, 0.0657, 0.2183, -0.7122, -0.9983, 0.1782, 0.1453, -0.6834, 2.2794, 2.2577, 2.2576, 2.2333, 2.2282, 2.2276, 2.2099, 2.2034, 2.1931, 2.1923, 2.1903, 2.1875, 2.1849, 2.1833, 2.1809, 2.1761, 2.1732, 2.1718, 2.167, 2.1656, 2.1652, 2.1649, 2.1603, 2.1596, 2.1594, 2.1554, 2.1521, 2.1502, 2.1492, 2.149, 2.1435, 2.1221, 2.1149, 2.0705, 2.1262, 2.037, 2.1184, 2.09, 2.1399, 1.995, 2.0171, 1.828, 1.8631, 1.8667, 1.761, 2.0159, 1.6637, 1.6478, 1.5544, 1.861, 1.3404, 1.1773, 1.4671, 1.4531, 1.1784, 1.6802, 0.6596, 1.8611, 1.7112, 1.1592, 1.5427, 1.6724, 1.0653, 1.128, 1.1555, 1.4857, 0.5448, 0.2981, 1.4151, 0.3997, 1.0818, 1.2885, 1.1743, 1.1684, 0.3182, 0.7746, 0.7449, 0.2211, 1.0936, 0.8435, 0.7652, 0.3984, 0.4421, 0.3099, 0.5552, 0.4333, 0.2726, 2.346, 2.3373, 2.3322, 2.3301, 2.3249, 2.3242, 2.3241, 2.3216, 2.3097, 2.3064, 2.3057, 2.3056, 2.3027, 2.3018, 2.2949, 2.286, 2.2813, 2.2787, 2.2758, 2.2731, 2.2728, 2.2718, 2.2685, 2.2667, 2.2619, 2.2506, 2.2486, 2.247, 2.2452, 2.2432, 2.2125, 2.183, 2.182, 2.0952, 2.1976, 1.855, 1.7539, 2.0673, 1.6664, 2.0325, 1.2146, 1.7417, 1.6537, 2.0478, 1.7108, 1.5905, 1.5581, 0.5256, 0.6515, 0.4985, 0.9237, 1.5596, 1.3817, 1.121, 0.9292, 1.3455, 0.8212, 1.1652, 0.711, 0.9723, 1.015, 0.0082, 0.9676, 0.7765, 0.6655, 0.2355, 0.0677, 0.0546, -0.0404, 0.2546, 0.6435, -0.1608, 0.434, 0.0204, -0.6673, -0.3343, 0.1652, 2.4031, 2.3916, 2.3773, 2.3627, 2.3598, 2.3575, 2.3494, 2.3469, 2.3456, 2.3426, 2.3392, 2.335, 2.3299, 2.3259, 2.3177, 2.3085, 2.3043, 2.2992, 2.2984, 2.2981, 2.2972, 2.2968, 2.2949, 2.2943, 2.2914, 2.2904, 2.2878, 2.2823, 2.2777, 2.2775, 2.2719, 2.2256, 2.1482, 2.1655, 2.0849, 2.2181, 2.1251, 2.0276, 2.2355, 2.118, 2.0517, 1.4701, 1.7958, 1.5143, 1.5318, 1.079, 1.0771, 1.0488, 1.4375, 1.0284, 1.035, 0.9257, 0.8588, -0.0132, 1.5593, 0.552, 0.4542, 0.0071, 0.5743, 0.7772, 0.3603, -0.1553, 0.8737, 0.0585, 0.0834, 0.3, 0.2653, 0.7792, 0.2394, -0.2725, -0.1614, -0.7877, -0.8545, -0.4787, -0.5523, 2.4413, 2.4245, 2.396, 2.3955, 2.3916, 2.3905, 2.3835, 2.3794, 2.3654, 2.3638, 2.358, 2.3474, 2.3465, 2.3424, 2.3424, 2.3423, 2.3376, 2.3362, 2.3356, 2.3331, 2.3237, 2.3219, 2.3216, 2.3197, 2.3173, 2.3154, 2.3072, 2.3047, 2.3037, 2.3036, 2.2764, 2.2931, 2.2555, 2.2595, 2.2464, 2.1518, 2.0949, 1.9072, 2.1518, 1.5895, 2.1996, 0.9298, 1.3342, 1.8299, 0.9742, 1.6442, 0.504, 1.422, 2.0675, 2.0752, 0.4776, 0.3964, 1.3931, 0.7995, 0.6443, 1.4704, 0.9525, 0.885, 1.1013, 1.0062, 0.2093, 1.4511, 0.2537, 0.0381, 0.5713, -0.2033, -0.0423, 0.7857, 0.779, 0.3719, 0.3505, 0.2581, -0.5477, -0.2264, 0.3942, 0.17, -0.1707, 2.5975, 2.5855, 2.5692, 2.5637, 2.5529, 2.5471, 2.5457, 2.5385, 2.5384, 2.5364, 2.5349, 2.5317, 2.5296, 2.5191, 2.5184, 2.5175, 2.5135, 2.5118, 2.51, 2.5085, 2.5084, 2.5063, 2.5053, 2.5025, 2.4956, 2.4891, 2.4767, 2.4736, 2.4713, 2.4659, 2.4654, 2.441, 2.4124, 2.3893, 2.3262, 2.2585, 2.2239, 2.3355, 2.2312, 2.1072, 2.3311, 2.3695, 2.1501, 2.2583, 1.7721, 1.3392, 2.2171, 2.0838, 2.2615, 0.8876, 1.2886, 1.7618, 0.218, 1.0754, 0.267, 0.9954, 1.5794, 0.9508, 0.9967, -0.1393, 0.3598, -0.1105, 0.7024, 0.2569, 0.0, -0.135, -0.5521, 0.3005, 0.5103, 0.3496, -0.1664, -0.002, -0.0682, 0.5021, 0.3545, 0.4441, -0.6438, 0.2664, 0.1777, -0.025]}, \"token.table\": {\"Topic\": [1, 2, 4, 5, 6, 7, 8, 9, 10, 1, 3, 4, 6, 7, 8, 10, 2, 10, 1, 2, 3, 4, 5, 6, 7, 8, 9, 10, 1, 2, 4, 8, 10, 2, 3, 4, 5, 6, 7, 9, 2, 4, 5, 9, 2, 1, 2, 1, 2, 3, 5, 7, 8, 9, 3, 4, 1, 2, 3, 4, 5, 7, 8, 5, 1, 2, 3, 4, 5, 6, 7, 8, 9, 10, 1, 2, 3, 4, 5, 6, 7, 8, 9, 10, 1, 2, 3, 4, 5, 6, 7, 8, 9, 10, 1, 2, 3, 4, 5, 6, 7, 8, 9, 10, 4, 1, 2, 3, 4, 6, 8, 10, 3, 5, 8, 10, 8, 9, 10, 9, 7, 9, 8, 1, 2, 3, 4, 5, 6, 7, 8, 10, 1, 2, 3, 5, 6, 9, 1, 2, 3, 4, 5, 6, 7, 8, 9, 10, 4, 3, 4, 7, 8, 2, 10, 1, 2, 3, 4, 5, 6, 7, 8, 9, 2, 7, 8, 4, 1, 6, 7, 6, 9, 5, 9, 10, 1, 9, 9, 1, 9, 1, 9, 3, 4, 5, 6, 8, 9, 1, 2, 3, 4, 7, 8, 9, 10, 10, 2, 1, 2, 3, 4, 5, 6, 7, 8, 9, 10, 6, 6, 5, 8, 9, 2, 1, 2, 3, 4, 5, 6, 7, 8, 9, 10, 1, 2, 3, 4, 5, 7, 9, 10, 1, 2, 3, 4, 5, 6, 7, 8, 9, 10, 7, 4, 1, 2, 4, 8, 10, 9, 6, 7, 9, 10, 3, 1, 2, 3, 4, 5, 6, 7, 8, 9, 10, 7, 7, 9, 2, 1, 2, 3, 4, 5, 6, 7, 8, 9, 10, 7, 2, 1, 2, 3, 4, 5, 6, 7, 8, 9, 10, 2, 1, 6, 2, 8, 9, 1, 2, 3, 4, 5, 6, 7, 8, 1, 2, 3, 4, 5, 6, 7, 8, 9, 10, 1, 2, 3, 4, 6, 7, 8, 9, 9, 2, 2, 4, 8, 1, 2, 4, 1, 2, 3, 4, 5, 6, 8, 9, 1, 2, 3, 4, 5, 6, 7, 8, 9, 10, 8, 8, 3, 9, 4, 7, 6, 10, 1, 2, 3, 4, 5, 6, 7, 8, 9, 10, 4, 9, 1, 2, 4, 7, 8, 9, 1, 2, 3, 4, 5, 6, 7, 8, 9, 10, 8, 2, 8, 1, 2, 3, 4, 5, 6, 7, 8, 9, 10, 2, 5, 1, 2, 3, 4, 5, 6, 7, 8, 9, 10, 8, 7, 10, 4, 1, 2, 3, 4, 5, 6, 7, 8, 9, 10, 1, 1, 2, 5, 4, 8, 1, 1, 2, 4, 5, 6, 7, 8, 9, 10, 1, 2, 4, 5, 6, 7, 8, 9, 10, 1, 5, 8, 3, 2, 8, 1, 2, 3, 4, 6, 7, 8, 6, 1, 1, 2, 3, 4, 5, 6, 7, 8, 9, 10, 9, 1, 2, 3, 4, 7, 8, 9, 8, 9, 7, 10, 5, 3, 5, 1, 2, 3, 5, 6, 7, 8, 9, 10, 5, 9, 1, 2, 3, 4, 5, 6, 7, 8, 9, 10, 1, 2, 3, 4, 5, 6, 7, 8, 9, 10, 1, 2, 3, 4, 5, 7, 8, 9, 10, 1, 2, 3, 4, 5, 6, 7, 8, 9, 10, 1, 2, 7, 9, 2, 4, 7, 8, 10, 6, 4, 1, 9, 10, 1, 8, 1, 2, 3, 6, 1, 2, 3, 4, 5, 6, 7, 8, 9, 10, 4, 8, 1, 1, 10, 9, 6, 1, 2, 3, 4, 5, 6, 7, 8, 9, 10, 3, 1, 9, 5, 7, 7, 5, 1, 2, 8, 10, 2, 10, 1, 2, 3, 4, 5, 6, 7, 8, 9, 2, 6, 5, 1, 2, 3, 5, 6, 7, 9, 10, 2, 9, 1, 2, 3, 4, 5, 7, 8, 9, 10, 10, 1, 2, 3, 4, 5, 7, 8, 9, 10, 1, 3, 4, 5, 6, 7, 8, 10, 1, 2, 3, 4, 5, 6, 7, 8, 9, 10, 3, 1, 2, 3, 4, 5, 6, 7, 8, 9, 10, 8, 1, 2, 3, 4, 5, 6, 7, 8, 9, 10, 3, 4, 5, 7, 9, 2, 3, 7, 9, 1, 9, 1, 4, 5, 9, 4, 8, 2, 5, 2, 5, 3, 1, 2, 3, 4, 5, 6, 7, 8, 9, 10, 6, 8, 1, 2, 3, 4, 5, 6, 7, 8, 9, 10, 1, 2, 3, 10, 1, 2, 3, 4, 5, 6, 7, 8, 9, 10, 5, 1, 2, 3, 4, 5, 6, 7, 8, 9, 10, 1, 2, 3, 4, 5, 6, 7, 8, 9, 10, 2, 9, 1, 10, 2, 1, 3, 5, 7, 8, 9, 10, 1, 3, 8, 9, 1, 2, 4, 6, 8, 10, 1, 2, 3, 4, 5, 6, 8, 9, 10, 3, 10, 2, 6, 1, 2, 3, 4, 5, 6, 7, 8, 9, 10, 3, 4, 5, 6, 8, 2, 6, 9, 6, 4, 1, 3, 4, 5, 6, 8, 9, 8, 1, 2, 3, 4, 5, 6, 7, 9, 10, 2, 4, 5, 7, 1, 2, 3, 4, 5, 6, 7, 8, 9, 10, 3, 1, 2, 3, 5, 7, 10, 6, 6, 3, 7, 8, 8, 1, 2, 3, 4, 5, 9, 10, 1, 2, 3, 4, 5, 6, 7, 8, 9, 10, 1, 1, 2, 3, 4, 5, 6, 7, 8, 9, 10, 1, 2, 3, 4, 6, 7, 8, 9, 10, 1, 2, 3, 4, 5, 6, 7, 8, 9, 10, 8, 1, 2, 3, 4, 5, 6, 7, 8, 9, 10, 3, 8, 1, 2, 3, 4, 5, 6, 7, 8, 9, 10, 1, 2, 5, 7, 8, 9, 10, 9, 5, 3, 5, 9, 1, 2, 4, 8, 5, 6, 1, 3, 4, 5, 6, 7, 8, 9, 10, 4, 6, 1, 2, 3, 4, 5, 7, 8, 9, 10, 1, 2, 3, 4, 5, 6, 7, 9, 3, 7, 1, 2, 3, 4, 5, 6, 7, 8, 9, 10, 2, 4, 5, 6, 7, 8, 9, 10, 1, 2, 3, 4, 5, 6, 7, 8, 10, 9, 1, 2, 3, 4, 5, 6, 7, 8, 9, 10, 1, 2, 3, 4, 5, 6, 7, 8, 9, 10, 4, 8, 9, 10, 3, 5, 6, 8, 9, 10, 3, 1, 2, 3, 4, 5, 6, 7, 8, 9, 10, 1, 2, 3, 4, 5, 6, 7, 8, 9, 10, 6, 2, 5, 7, 9, 1, 2, 3, 4, 6, 7, 10, 1, 1, 3, 5, 6, 8, 9, 2, 8, 3, 6, 9, 10, 6, 1, 2, 3, 4, 5, 7, 8, 9, 10, 5, 4, 2, 9, 1, 4, 7, 8, 9, 10, 7, 4, 5, 6, 9, 7, 8, 10, 1, 2, 10, 1, 2, 3, 4, 5, 6, 7, 8, 9, 10, 1, 4, 5, 3, 1, 2, 3, 5, 7, 8, 10, 9, 10, 5, 10, 1, 3, 6, 10, 2, 4, 5, 6, 7, 8, 9, 6, 10, 1, 2, 4, 5, 6, 7, 8, 9, 10, 1, 2, 3, 4, 5, 6, 7, 8, 9, 10, 7, 4, 1, 2, 5, 6, 7, 8, 9, 7, 10, 1, 2, 3, 4, 5, 6, 7, 8, 9, 10, 1, 2, 3, 4, 5, 6, 7, 8, 9, 10, 4, 6, 1, 10, 1, 2, 3, 4, 5, 6, 7, 8, 9, 10, 7, 8, 9, 10, 1, 2, 3, 4, 5, 6, 7, 8, 9, 10, 2, 3, 1, 2, 3, 4, 5, 6, 7, 8, 9, 6, 1, 2, 3, 4, 5, 6, 7, 8, 9, 10, 2, 3, 4, 5, 6, 7, 8, 9, 10, 3, 9, 1, 2, 3, 4, 5, 6, 7, 8, 9, 10, 1, 2, 3, 4, 5, 6, 7, 8, 9, 10, 7, 3, 7, 1, 2, 3, 4, 5, 6, 7, 8, 9, 10, 1, 2, 3, 4, 5, 6, 7, 8, 9, 10, 4, 6, 1, 2, 3, 4, 5, 6, 7, 8, 9, 10, 1, 6, 1, 2, 3, 4, 5, 6, 7, 8, 9, 10, 6, 1, 2, 3, 4, 5, 6, 7, 8, 9, 10, 1, 1, 2, 3, 4, 5, 6, 7, 8, 9, 10, 1, 2, 3, 4, 5, 6, 7, 8, 9, 10, 1, 2, 3, 4, 5, 6, 7, 8, 9, 10, 1, 2, 3, 4, 5, 6, 7, 8, 9, 10, 1, 1, 2, 3, 4, 5, 6, 8, 9, 10, 4, 6, 1, 3, 4, 5, 8, 2, 4, 7, 8, 10, 5, 7, 3, 1, 2, 3, 4, 5, 6, 7, 8, 9, 10, 2, 3, 8, 10, 2, 1, 2, 3, 4, 5, 6, 7, 8, 9, 10, 2, 3, 5, 9, 10, 2, 3, 4, 5, 7, 8, 9, 10, 1, 2, 5, 6, 7, 8, 10, 2, 3, 4, 6, 7, 8, 9, 10, 2, 7, 4, 1, 2, 3, 4, 5, 6, 7, 8, 9, 10, 9, 4, 1, 2, 4, 5, 6, 7, 8, 9, 10, 1, 2, 3, 4, 5, 6, 7, 8, 9, 10, 8, 7, 8, 4, 5, 10, 5, 6, 8, 1, 2, 3, 4, 5, 6, 7, 8, 9, 10, 1, 2, 3, 4, 5, 7, 8, 9, 10, 3, 6, 3, 4, 1, 2, 3, 4, 5, 6, 7, 8, 10, 1, 2, 3, 4, 5, 6, 7, 8, 9, 10, 1, 7, 2, 10, 1, 2, 3, 4, 5, 6, 7, 8, 9, 10, 1, 2, 3, 4, 5, 6, 7, 8, 9, 10, 2, 8, 2, 4, 5, 8, 5, 4, 6, 7, 1, 2, 3, 4, 5, 6, 7, 8, 9, 10, 1, 2, 3, 4, 5, 6, 7, 8, 9, 2, 6, 4, 1, 9, 10, 1, 2, 3, 4, 5, 6, 7, 8, 9, 10, 1, 2, 3, 4, 5, 6, 7, 8, 9, 10, 5, 1, 2, 4, 5, 6, 7, 8, 9, 10, 8, 10, 10, 4, 10, 8, 2, 4, 8, 9, 1, 9, 4, 8, 1, 10, 1, 2, 3, 4, 5, 6, 7, 8, 9, 8, 9, 10, 1, 2, 5, 6, 7, 8, 4, 1, 2, 3, 4, 5, 6, 7, 8, 9, 10, 4, 5, 7, 8, 1, 5, 8, 9, 10, 10, 9, 1, 2, 3, 4, 5, 6, 7, 1, 2, 3, 4, 5, 6, 7, 8, 9, 10, 4, 7, 8, 9, 4, 6, 10, 4, 1, 2, 3, 4, 5, 6, 7, 8, 9, 10, 1, 2, 3, 4, 7, 8, 9, 10, 1, 2, 3, 5, 6, 7, 8, 9, 10, 4, 5, 10, 4, 5, 10, 8, 2, 5, 8, 9, 3, 1, 2, 3, 4, 5, 6, 7, 8, 9, 10, 1, 2, 3, 4, 8, 3, 8, 1, 2, 3, 4, 5, 7, 8, 9, 1, 2, 3, 4, 5, 6, 7, 1, 2, 3, 4, 5, 6, 7, 8, 9, 10, 10, 6, 4, 5, 5, 6, 1, 5, 10, 2, 6, 2, 5, 2, 5, 3, 1, 2, 3, 4, 5, 6, 7, 8, 9, 10, 6, 2, 1, 2, 3, 4, 5, 7, 8, 9, 10, 1, 2, 4, 5, 6, 7, 10, 4, 2, 8, 10, 3, 4, 10, 1, 2, 3, 4, 5, 6, 7, 8, 9, 10, 2, 4, 7, 9, 10, 8, 1, 2, 3, 4, 5, 6, 7, 8, 9, 10, 8, 6, 1, 2, 4, 5, 6, 7, 9, 10, 9, 1, 2, 3, 4, 5, 6, 7, 8, 9, 10, 8, 1, 3, 6, 8, 10, 1, 3, 4, 5, 6, 8, 9, 10, 2, 4, 8, 1, 2, 3, 4, 5, 6, 7, 8, 9, 10, 9, 7, 1, 2, 3, 4, 5, 6, 7, 8, 9, 10, 5, 4, 1, 2, 3, 6, 8, 9, 10, 2, 7, 4, 7, 10, 9, 1, 1, 2, 3, 4, 5, 6, 7, 8, 9, 1, 2, 3, 6, 8, 9, 10, 3, 1, 2, 3, 4, 5, 7, 9, 10, 4, 1, 7, 9, 9, 5, 7, 5, 8, 9, 3, 9, 1, 2, 3, 4, 5, 6, 7, 8, 9, 7, 10, 1, 2, 5, 7, 9, 10, 7, 6, 3, 1, 2, 3, 4, 5, 6, 7, 8, 9, 10, 1, 2, 3, 4, 5, 6, 7, 8, 9, 10, 5, 1, 2, 3, 4, 5, 6, 7, 8, 9, 10, 1, 2, 3, 4, 5, 6, 7, 8, 9, 10, 1, 2, 4, 5, 6, 8, 9, 10, 10, 3, 4, 6, 7, 9, 7, 1, 2, 3, 4, 5, 6, 7, 8, 9, 10, 2, 3, 4, 5, 7, 8, 9, 10, 5, 8, 1, 2, 5, 6, 8, 9, 1, 2, 3, 4, 5, 6, 7, 8, 9, 10, 8, 1, 2, 3, 4, 5, 6, 7, 8, 9, 10, 1, 2, 3, 4, 5, 6, 7, 8, 9, 10, 1, 7, 6, 1, 2, 3, 4, 5, 6, 7, 8, 9, 10, 1, 1, 2, 3, 4, 5, 6, 7, 8, 9, 10, 7, 1, 2, 1, 2, 3, 4, 5, 6, 7, 8, 9, 10, 3, 8, 10, 6, 1, 2, 7, 1, 5, 9, 10, 1, 3, 5, 6, 7, 8, 9, 1, 2, 4, 5, 6, 9, 3, 5, 7, 8, 1, 2, 3, 4, 5, 6, 7, 8, 9, 10, 1, 5, 6, 8, 10, 1, 2, 3, 4, 6, 7, 8, 9, 1, 1, 2, 3, 4, 5, 6, 7, 8, 9, 10, 1, 2, 3, 5, 6, 8, 9, 1, 2, 3, 4, 5, 6, 7, 8, 9, 10, 1, 2, 3, 4, 5, 6, 7, 8, 9, 10, 10, 5, 1, 2, 8, 9, 3, 4, 5, 6, 7, 9, 9, 3, 2, 3, 4, 1, 2, 3, 4, 5, 6, 7, 8, 9, 10, 1, 2, 3, 4, 5, 6, 7, 8, 9, 10, 1, 2, 3, 4, 5, 6, 7, 8, 9, 10, 2, 4, 5, 8, 6, 1, 2, 4, 5, 6, 7, 9, 5, 1, 2, 3, 4, 5, 6, 7, 8, 9, 10, 1, 2, 4, 5, 1, 9, 10, 2, 3, 4, 10, 1, 2, 4, 5, 7, 9, 10, 7, 5, 7, 1, 2, 3, 4, 5, 6, 7, 8, 9, 10, 1, 2, 3, 4, 5, 6, 7, 8, 9, 10, 3, 6, 1, 2, 3, 4, 5, 6, 7, 8, 9, 10, 2, 3, 4, 5, 6, 7, 8, 9, 10, 7, 2, 3, 4, 5, 6, 7, 8, 9, 10, 1, 3, 4, 7, 2, 7, 10, 1, 2, 3, 4, 5, 6, 7, 8, 9, 10, 2, 1, 2, 4, 5, 6, 7, 8, 9, 10, 6, 1, 1, 8, 10, 1, 2, 3, 4, 5, 6, 7, 8, 9, 10, 1, 2, 3, 4, 5, 6, 7, 8, 9, 10, 9, 2, 1, 2, 3, 4, 5, 6, 7, 8, 9, 10, 2, 3, 5, 8, 9, 10, 1, 2, 3, 4, 5, 6, 7, 8, 9, 10, 10, 6, 1, 2, 3, 4, 5, 6, 7, 8, 9, 10, 1, 2, 5, 6, 7, 8, 9, 10, 6, 1, 2, 3, 7, 8, 1, 2, 3, 4, 5, 6, 7, 8, 9, 10, 5, 1, 2, 4, 5, 6, 7, 9, 10, 10, 1, 3, 6], \"Freq\": [0.015319372452493084, 0.06893717603621888, 0.06127748980997234, 0.022979058678739627, 0.5208586633847649, 0.03063874490498617, 0.23745027301364283, 0.007659686226246542, 0.03063874490498617, 0.3919389840023465, 0.03266158200019554, 0.03266158200019554, 0.01633079100009777, 0.01633079100009777, 0.42460056600254203, 0.06532316400039108, 0.9481045116026632, 0.8976421779885029, 0.006785110066019164, 0.7531472173281272, 0.003392555033009582, 0.001696277516504791, 0.028836717780581445, 0.005088832549514372, 0.04749577046213414, 0.04410321542912456, 0.04240693791261977, 0.06615482314368684, 0.7171079014222931, 0.15097008450995644, 0.03774252112748911, 0.03774252112748911, 0.03774252112748911, 0.02015079779619271, 0.02015079779619271, 0.02015079779619271, 0.282111169146698, 0.5239207427010105, 0.10075398898096355, 0.02015079779619271, 0.30637710968422444, 0.36473465438598146, 0.004863128725146419, 0.3209664958596637, 0.8249984018475135, 0.6674584554537396, 0.3066701011544209, 0.07043239940850848, 0.09390986587801131, 0.023477466469502828, 0.023477466469502828, 0.046954932939005656, 0.21129719822552545, 0.5165042623290622, 0.07057397009697226, 0.8468876411636671, 0.1504145833214766, 0.03008291666429532, 0.03008291666429532, 0.6618241666144971, 0.06016583332859064, 0.03008291666429532, 0.03008291666429532, 0.9455617930135105, 0.31340170225327524, 0.0699829043866537, 0.07606837433331923, 0.060854699466655386, 0.05172649454665708, 0.12779486887997632, 0.021299144813329386, 0.030427349733327693, 0.1886495683466317, 0.06389743443998816, 0.2353460914022066, 0.018338656472899218, 0.07946751138256328, 0.02139509921838242, 0.08863683961901288, 0.1100319388373953, 0.17727367923802576, 0.07641106863708007, 0.14976569452867694, 0.045846641182248044, 0.18230377259976316, 0.028358364626629825, 0.06887031409324386, 0.1174846534531807, 0.06887031409324386, 0.06076792419992105, 0.07697270398656667, 0.08912628882655087, 0.20661094227973156, 0.10533106861319648, 0.18156679755920946, 0.023015509549758947, 0.14448625439570895, 0.08694748052131157, 0.13297849962082947, 0.13553577845969156, 0.07799700458529421, 0.0511455767772421, 0.1048484323933463, 0.06009605271325947, 0.8390703128873552, 0.006818764125939462, 0.020456292377818385, 0.6955139408458251, 0.006818764125939462, 0.07500640538533408, 0.19092539552630494, 0.006818764125939462, 0.05967115705370076, 0.8353961987518107, 0.05967115705370076, 0.05967115705370076, 0.05785536134368474, 0.11571072268736948, 0.7521196974679016, 0.9594273810138513, 0.8565097550493029, 0.9361447414077435, 0.8405233639098374, 0.018536020856815, 0.006178673618938334, 0.6549394036074634, 0.04942938895150667, 0.018536020856815, 0.04942938895150667, 0.012357347237876667, 0.17918153494921168, 0.006178673618938334, 0.01794221042892497, 0.01794221042892497, 0.1614798938603247, 0.01794221042892497, 0.6459195754412989, 0.1614798938603247, 0.15535693962953945, 0.01941961745369243, 0.006473205817897477, 0.06473205817897477, 0.2524550268980016, 0.18772296871902683, 0.07120526399687224, 0.12299091054005205, 0.03236602908948739, 0.09062488145056467, 0.9075314671944456, 0.040385558405186935, 0.12115667521556081, 0.08077111681037387, 0.7269400512933649, 0.9486394595592886, 0.7814303888231344, 0.0201945627708757, 0.0807782510835028, 0.17501954401425607, 0.49140102742464203, 0.047120646465376635, 0.006731520923625233, 0.06731520923625234, 0.1009728138543785, 0.013463041847250466, 0.17345981881506806, 0.03469196376301361, 0.7632232027862995, 0.9117767133754664, 0.16535072474540446, 0.7854159425406713, 0.041337681186351116, 0.771609729756373, 0.22045992278753515, 0.8739726996124634, 0.034958907984498536, 0.06991781596899707, 0.8398226690182478, 0.08398226690182478, 0.8076794278729721, 0.07723276816409605, 0.8495604498050565, 0.12650502639073224, 0.8222826715397596, 0.8160279409816744, 0.0076983768017139095, 0.0076983768017139095, 0.015396753603427819, 0.14626915923256428, 0.0076983768017139095, 0.019847220655410773, 0.09923610327705387, 0.11908332393246464, 0.05954166196623232, 0.019847220655410773, 0.05954166196623232, 0.019847220655410773, 0.5954166196623232, 0.9205853041669282, 0.9416023946364449, 0.11456930987119388, 0.12029777536475357, 0.07447005141627602, 0.30933713665222345, 0.0801985169098357, 0.05728465493559694, 0.10311237888407448, 0.022913861974238774, 0.09738391339051479, 0.02864232746779847, 0.8303130446747996, 0.8425742134763737, 0.07140241815333542, 0.07140241815333542, 0.7854265996866896, 0.846646209113541, 0.3026397989619869, 0.044372000599689806, 0.0420965133894493, 0.05916266746625307, 0.09557046283010112, 0.04892297502017081, 0.09557046283010112, 0.03413230815360754, 0.21503354136772754, 0.06257589828161383, 0.2352634430853097, 0.013839026063841747, 0.013839026063841747, 0.027678052127683494, 0.4705268861706194, 0.013839026063841747, 0.06919513031920874, 0.13839026063841747, 0.004610489983398037, 0.7991515971223265, 0.004610489983398037, 0.0015368299944660125, 0.03073659988932025, 0.003073659988932025, 0.03381025987825228, 0.029199769894854236, 0.046104899833980376, 0.046104899833980376, 0.9304144701074517, 0.9154665074291282, 0.07757097611971754, 0.03878548805985877, 0.7757097611971754, 0.07757097611971754, 0.03878548805985877, 0.844943107760009, 0.02972636026580978, 0.17835816159485868, 0.1486318013290489, 0.6242535655820054, 0.9489421752234413, 0.16644537380505195, 0.05548179126835065, 0.013870447817087662, 0.013870447817087662, 0.1941862694392273, 0.4577247779638929, 0.013870447817087662, 0.027740895634175325, 0.027740895634175325, 0.013870447817087662, 0.879599770715579, 0.06414976615166243, 0.8980967261232741, 0.8628710057830122, 0.08187459887993326, 0.00545830659199555, 0.0327498395519733, 0.15829089116787096, 0.12008274502390211, 0.02729153295997775, 0.2783736361917731, 0.060041372511951054, 0.038208146143968856, 0.19104073071984426, 0.9204467420538307, 0.8804910002341891, 0.18200424549862557, 0.0876316737585975, 0.07752032678645163, 0.2898586132015148, 0.06066808183287519, 0.1179657146750351, 0.026963591925722306, 0.04044538788858346, 0.06740897981430577, 0.05055673486072933, 0.9468652033347773, 0.2022703373289594, 0.7585137649835978, 0.9393008766122045, 0.9139762674355674, 0.9211865236294189, 0.035459763070244184, 0.005065680438606311, 0.6382757352643953, 0.12157633052655148, 0.05065680438606312, 0.06078816526327574, 0.015197041315818935, 0.07091952614048837, 0.25204884898052, 0.07001356916125555, 0.04200814149675333, 0.12135685321284295, 0.060678426606421476, 0.03267299894191925, 0.12135685321284295, 0.037340570219336296, 0.18670285109668147, 0.07468114043867259, 0.17476875467541522, 0.04033125107894197, 0.06721875179823662, 0.04033125107894197, 0.05377500143858929, 0.05377500143858929, 0.18821250503506254, 0.36298125971047773, 0.8682091333744695, 0.9375898111725383, 0.13419648988801702, 0.8051789393281021, 0.06709824494400851, 0.12354209845956322, 0.06177104922978161, 0.803023639987161, 0.04467886730901493, 0.022339433654507464, 0.022339433654507464, 0.06701830096352239, 0.13403660192704478, 0.5584858413626866, 0.08935773461802986, 0.06701830096352239, 0.08347347242927558, 0.07512612518634802, 0.10851551415805825, 0.3422412369600299, 0.15442592399415983, 0.04591040983610157, 0.05008408345756535, 0.06677877794342046, 0.016694694485855116, 0.058431430700492906, 0.9068990010381636, 0.9009692745719257, 0.8531433969958822, 0.9297207125595368, 0.8340644820750981, 0.9086444119922844, 0.8050560106786102, 0.08945066785317891, 0.07231310115212543, 0.454539492956217, 0.09813920870645594, 0.08780876568472373, 0.10846965172818815, 0.05165221510866102, 0.030991329065196613, 0.005165221510866102, 0.07231310115212543, 0.02066088604346441, 0.8627846775851296, 0.0539240423490706, 0.10667325045292932, 0.03555775015097644, 0.01777887507548822, 0.07111550030195288, 0.5333662522646466, 0.23112537598134686, 0.23908393913602793, 0.03877036850854507, 0.09692592127136267, 0.06784814488995387, 0.1098493774408777, 0.04200123255092383, 0.07430987297471138, 0.15831233807655903, 0.05492468872043885, 0.11954196956801397, 0.9579769124924117, 0.9389228477832051, 0.9211427450278185, 0.12145584262694342, 0.033737734063039836, 0.09446565537651155, 0.30363960656735856, 0.10121320218911951, 0.09446565537651155, 0.04723282768825578, 0.04723282768825578, 0.04048528087564781, 0.12145584262694342, 0.9293019706033545, 0.8732509359645076, 0.1001136720665241, 0.044494965362899604, 0.011123741340724901, 0.15573237877014862, 0.08898993072579921, 0.05561870670362451, 0.022247482681449802, 0.17797986145159841, 0.34483598156247197, 0.011123741340724901, 0.9283994914565361, 0.8042865926978476, 0.8177456350539454, 0.8472345336892398, 0.1039315897432827, 0.02771509059820872, 0.13164668034149143, 0.07275211282029789, 0.19747002051223714, 0.01732193162388045, 0.17321931623880452, 0.11432474871761097, 0.05196579487164135, 0.11086036239283488, 0.8962345549493178, 0.9721215599158012, 0.29054335188807295, 0.6779344877388369, 0.09249012777462738, 0.8324111499716464, 0.8600643389535306, 0.007079488288158381, 0.7840533279135407, 0.0035397441440791905, 0.02654808108059393, 0.0017698720720395952, 0.04955641801710867, 0.0371673135128315, 0.042476929728950286, 0.04778654594506907, 0.002179307918437995, 0.7605784635348602, 0.002179307918437995, 0.019613771265941955, 0.002179307918437995, 0.06319992963470186, 0.03268961877656992, 0.050124082124073883, 0.06537923755313985, 0.861895999450774, 0.9197918733759626, 0.8689567427554544, 0.8299997700755493, 0.9213723109746799, 0.827279756728964, 0.267929828093923, 0.11762772940708814, 0.03920924313569605, 0.3790226836450618, 0.026139495423797364, 0.013069747711898682, 0.16337184639873353, 0.864755878290863, 0.9421374308673695, 0.09588463673779334, 0.02810411766452563, 0.10663032878599431, 0.09257826995373149, 0.2033415572198031, 0.19176927347558667, 0.09175167825771603, 0.03306366784061839, 0.06943370246529862, 0.0884453114736542, 0.8725147984988547, 0.9336614278088345, 0.927070632195679, 0.555020610216995, 0.1359234147470192, 0.0679617073735096, 0.19255817089161054, 0.045307804915673065, 0.8596274003293402, 0.06612518464071847, 0.8439593872000737, 0.9409794297392078, 0.9583455683334163, 0.9204605449881873, 0.8334638275091834, 0.11055701731233168, 0.5251458322335755, 0.05067196626815202, 0.08752430537226258, 0.06909813582020731, 0.05067196626815202, 0.05067196626815202, 0.02763925432808292, 0.02763925432808292, 0.907963751515551, 0.0605309167677034, 0.13918358809233283, 0.0994168486373806, 0.06627789909158706, 0.09278905872822188, 0.07953347890990448, 0.4241785541861572, 0.03313894954579353, 0.013255579818317412, 0.03313894954579353, 0.026511159636634824, 0.29774713032009165, 0.05153315717078509, 0.11451812704618909, 0.11738108022234381, 0.054396110346939815, 0.005725906352309454, 0.18609195645005727, 0.06584792305155873, 0.05153315717078509, 0.06012201669924927, 0.03524422040372995, 0.008811055100932488, 0.08811055100932488, 0.008811055100932488, 0.06167738570652742, 0.5815296366615442, 0.12335477141305484, 0.0704884408074599, 0.017622110201864976, 0.10054173659230138, 0.053227978195924265, 0.05618508809569783, 0.1596839345877728, 0.12124150589071638, 0.378510067171017, 0.026613989097962133, 0.01774265939864142, 0.03548531879728284, 0.053227978195924265, 0.1533194366585794, 0.05110647888619313, 0.05110647888619313, 0.7154907044067038, 0.0458463868001406, 0.0916927736002812, 0.0458463868001406, 0.7793885756023903, 0.8547129404536704, 0.8303945252858629, 0.8776760780387863, 0.8711085819069282, 0.8452274281871037, 0.8693886384085661, 0.7651604646520358, 0.1610864136109549, 0.6070144893178844, 0.09338684451044375, 0.17899145197835054, 0.12451579268059167, 0.23104212309460315, 0.024578949265383312, 0.058989478236919954, 0.09340000720845659, 0.24087370280075648, 0.08848421735537992, 0.08356842750230327, 0.024578949265383312, 0.024578949265383312, 0.13272632603306989, 0.8692119877028436, 0.8700313470107581, 0.8902097433463545, 0.8972913249048762, 0.9107385999761989, 0.9475971159905614, 0.9037165227726843, 0.05247497329455541, 0.06296996795346649, 0.13643493056584408, 0.16791991454257732, 0.10145161503614046, 0.17141824609554768, 0.05597330484752577, 0.027986652423762887, 0.10494994658911082, 0.11894327280099226, 0.876421036854355, 0.8930548190306009, 0.90411321213689, 0.8384247789774651, 0.8820113351829852, 0.918297352038725, 0.8123269868209471, 0.03758296047225219, 0.03758296047225219, 0.33824664425026973, 0.5637444070837828, 0.9557980396695249, 0.9189906058234885, 0.06276985442604775, 0.05492362262279178, 0.10200101344232759, 0.1255397088520955, 0.13338594065535148, 0.3609266629497746, 0.09415478163907164, 0.015692463606511938, 0.03923115901627985, 0.07769323153238776, 0.8546255468562654, 0.9190365687562199, 0.0883044143246676, 0.07064353145973407, 0.10596529718960111, 0.03532176572986703, 0.5298264859480055, 0.017660882864933516, 0.017660882864933516, 0.12362618005453463, 0.15664260309547678, 0.783213015477384, 0.5350178685606303, 0.025887961381965984, 0.07766388414589795, 0.06903456368524262, 0.08629320460655328, 0.0604052432245873, 0.04314660230327664, 0.07766388414589795, 0.025887961381965984, 0.9019097114016202, 0.09209030289062424, 0.06906772716796818, 0.12662416647460834, 0.03453386358398409, 0.12662416647460834, 0.06906772716796818, 0.37987249942382495, 0.01151128786132803, 0.08057901502929621, 0.007194927518607459, 0.7626623169723907, 0.021584782555822378, 0.014389855037214919, 0.06235603849459798, 0.0023983091728691534, 0.12711038616206513, 0.0023983091728691534, 0.07271298335088082, 0.012118830558480136, 0.06059415279240068, 0.012118830558480136, 0.024237661116960272, 0.6180603584824869, 0.1333071361432815, 0.012118830558480136, 0.012118830558480136, 0.048475322233920544, 0.8638097707697566, 0.0647084648807321, 0.04622033205766579, 0.05777541507208224, 0.3304753742123104, 0.030043215837482765, 0.011555083014416448, 0.087818630909565, 0.1548381123931804, 0.16177116220183027, 0.05546439846919895, 0.9304097652505054, 0.04801572485058014, 0.06859389264368591, 0.150906563816109, 0.15776595308047758, 0.10975022822989745, 0.11660961749426604, 0.020578167793105773, 0.04801572485058014, 0.25379740278163787, 0.013718778528737182, 0.046979067394465515, 0.046979067394465515, 0.09395813478893103, 0.046979067394465515, 0.7516650783114482, 0.11817966956229045, 0.6696847941863125, 0.0787864463748603, 0.0787864463748603, 0.8232437316199305, 0.9113009780645598, 0.8721834341212233, 0.11881335999016239, 0.7722868399360555, 0.059406679995081195, 0.8380422332123091, 0.06446478717017762, 0.9295820213428556, 0.9241397348957692, 0.9229323957546445, 0.8975562251898433, 0.9181371419885572, 0.05351855159549554, 0.07135806879399405, 0.008919758599249256, 0.13379637898873883, 0.39246937836696727, 0.08027782739324331, 0.044598792996246285, 0.017839517198498512, 0.035679034396997024, 0.1427161375879881, 0.9608673756493603, 0.9678256688498449, 0.21656669904898476, 0.01767891420808039, 0.07071565683232156, 0.25192452746514554, 0.06629592828030145, 0.06629592828030145, 0.053036742624241164, 0.053036742624241164, 0.10165375669646223, 0.10165375669646223, 0.81987933910288, 0.04315154416330948, 0.04315154416330948, 0.08630308832661895, 0.04453892925671463, 0.012725408359061323, 0.10816597105202123, 0.03817622507718397, 0.41993847584902366, 0.025450816718122646, 0.20360653374498117, 0.025450816718122646, 0.07635245015436794, 0.04453892925671463, 0.9453710339195414, 0.503485392317175, 0.0122801315199311, 0.12280131519931099, 0.0245602630398622, 0.0245602630398622, 0.0245602630398622, 0.12280131519931099, 0.0368403945597933, 0.0491205260797244, 0.0859609206395177, 0.18540301884250046, 0.09270150942125023, 0.052972291097857276, 0.0066215363872321594, 0.0662153638723216, 0.47012908349348337, 0.0066215363872321594, 0.07945843664678592, 0.013243072774464319, 0.0331076819361608, 0.8981169327037319, 0.9097093221002418, 0.9073274954378365, 0.05670796846486478, 0.9480857724926616, 0.07488223745955999, 0.05990578996764799, 0.22464671237867997, 0.23962315987059196, 0.014976447491911998, 0.029952894983823995, 0.34445829231397596, 0.1532853101982544, 0.05109510339941813, 0.10219020679883627, 0.6642363441924357, 0.06660897875983683, 0.022202992919945607, 0.06660897875983683, 0.06660897875983683, 0.08881197167978243, 0.6882927805183139, 0.1851806750167575, 0.013227191072625535, 0.07936314643575322, 0.13888550626256813, 0.13227191072625535, 0.3174525857430129, 0.08597674197206598, 0.0066135955363127675, 0.03306797768156384, 0.05370964309559711, 0.8593542895295537, 0.1426550008745447, 0.8559300052472681, 0.2633601910243017, 0.0376228844320431, 0.09405721108010776, 0.06113718720207004, 0.051731466094059264, 0.042325744986048484, 0.028217163324032325, 0.14578867717416702, 0.1834115616062101, 0.08935435052610236, 0.8724567355022624, 0.0272642729844457, 0.0272642729844457, 0.0272642729844457, 0.0545285459688914, 0.9402178359217226, 0.02938180737255383, 0.02938180737255383, 0.9545626856782975, 0.8789345517204171, 0.005988497740815568, 0.7964701995284705, 0.005988497740815568, 0.005988497740815568, 0.02994248870407784, 0.14372394577957365, 0.005988497740815568, 0.988427280573061, 0.0657371730098394, 0.009391024715691343, 0.09391024715691343, 0.018782049431382685, 0.08451922244122209, 0.2817307414707403, 0.3662499639119624, 0.009391024715691343, 0.07512819772553074, 0.04324430789407961, 0.04324430789407961, 0.8216418499875127, 0.08648861578815922, 0.07035098958684843, 0.010050141369549776, 0.050250706847748884, 0.020100282739099553, 0.48240678573838924, 0.010050141369549776, 0.14070197917369687, 0.020100282739099553, 0.09045127232594799, 0.09045127232594799, 0.8337839451777482, 0.09108029446446286, 0.030360098154820953, 0.030360098154820953, 0.63756206125124, 0.12144039261928381, 0.060720196309641906, 0.9414888226182976, 0.9605547879839863, 0.05183613167127077, 0.05183613167127077, 0.8293781067403323, 0.9648536185006685, 0.041873307816267843, 0.020936653908133922, 0.020936653908133922, 0.20936653908133923, 0.5443530016114819, 0.041873307816267843, 0.10468326954066962, 0.07180116613760001, 0.051696839619072, 0.083289352719616, 0.04308069968256, 0.051696839619072, 0.321669224296448, 0.14073028562969603, 0.080417306074112, 0.06318502620108801, 0.091905492656128, 0.9237019580217273, 0.055351695559609275, 0.24908263001824174, 0.05073905426297517, 0.2583079126115099, 0.07610858139446275, 0.06457697815287748, 0.06688329880119454, 0.05996433685624338, 0.06688329880119454, 0.048432733614658115, 0.17299394222422923, 0.048053872840063676, 0.13455084395217828, 0.3844309827205094, 0.009610774568012735, 0.07688619654410188, 0.05766464740807641, 0.03844309827205094, 0.06727542197608914, 0.10400801355795532, 0.07704297300589283, 0.16179024331237493, 0.10400801355795532, 0.13482520276031243, 0.057782229754419615, 0.23112891901767846, 0.04237363515324105, 0.05393008110412498, 0.04237363515324105, 0.958470612136188, 0.20396896602472925, 0.023178291593719234, 0.09734882469362079, 0.0788061914186454, 0.11589145796859616, 0.30595344903709387, 0.04172092486869462, 0.023178291593719234, 0.0788061914186454, 0.027813949912463082, 0.9473029794914745, 0.03714913645064606, 0.5453069906022897, 0.045442249216857473, 0.05842574899310247, 0.05193399910497997, 0.05842574899310247, 0.07140924876934747, 0.012983499776244993, 0.03895049932873498, 0.032458749440612486, 0.08439274854559246, 0.03599338829084105, 0.8278479306893441, 0.06298842950897184, 0.008998347072710262, 0.05399008243626158, 0.008998347072710262, 0.8833933826760587, 0.8375053935057044, 0.9499789030581033, 0.8364973622221452, 0.9661081494525305, 0.983887513980083, 0.7464880538391436, 0.03554705018281636, 0.1066411505484491, 0.07109410036563273, 0.8635164499943697, 0.7924701736183017, 0.5225011414691342, 0.027500060077322853, 0.06875015019330713, 0.013750030038661426, 0.013750030038661426, 0.1512503304252757, 0.04125009011598428, 0.06875015019330713, 0.12375027034795284, 0.12040068459280155, 0.8428047921496109, 0.016455924418409217, 0.016455924418409217, 0.032911848836818434, 0.032911848836818434, 0.5759573546443225, 0.24683886627613824, 0.032911848836818434, 0.016455924418409217, 0.016455924418409217, 0.03663134904899213, 0.18315674524496064, 0.012210449682997376, 0.17094629556196328, 0.08547314778098164, 0.43957618858790554, 0.06105224841498688, 0.012210449682997376, 0.8758065893264113, 0.9192490179762953, 0.11691152527794887, 0.4420717049572442, 0.054802277474038534, 0.02922788131948722, 0.1315254659376925, 0.025574396154551315, 0.08403015879352575, 0.06210924780391034, 0.018267425824679513, 0.04018833681429493, 0.777657525215166, 0.00219058457807089, 0.0219058457807089, 0.00219058457807089, 0.046002276139488686, 0.03285876867106335, 0.04819286071755958, 0.07009870649826848, 0.23675996802426422, 0.03187153415711249, 0.32326841787928384, 0.09561460247133746, 0.0500838393897482, 0.1320392129366089, 0.08195537354686068, 0.04097768677343034, 0.009106152616317854, 0.9174263295103284, 0.008359159863527074, 0.6035313421466548, 0.10532541428044115, 0.011702823808937906, 0.02674931156328664, 0.00334366394541083, 0.04346763129034079, 0.07523243877174367, 0.04848312720845704, 0.07188877482633284, 0.18046806734912668, 0.07734345743534, 0.06445288119611667, 0.02578115247844667, 0.012890576239223335, 0.012890576239223335, 0.4511701683728167, 0.02578115247844667, 0.09023403367456334, 0.10312460991378668, 0.6050395432046535, 0.06831091616826733, 0.2732436646730693, 0.04879351154876238, 0.2347832251166488, 0.20415932618839028, 0.40831865237678056, 0.020415932618839026, 0.09187169678477562, 0.03062389892825854, 0.9117438977067205, 0.04620226012526885, 0.02566792229181603, 0.15914111820925939, 0.0872709357921745, 0.04620226012526885, 0.1642747026676226, 0.02566792229181603, 0.39015241883560364, 0.020534337833452824, 0.03593509120854244, 0.20962532178123108, 0.006987510726041036, 0.03493755363020518, 0.04891257508228725, 0.31443798267184664, 0.04192506435624622, 0.12577519306873866, 0.12577519306873866, 0.027950042904164144, 0.05590008580832829, 0.8477302266744977, 0.9213476720711034, 0.041254373376318064, 0.013751457792106021, 0.013751457792106021, 0.7788263534945716, 0.04581331491144539, 0.04581331491144539, 0.04581331491144539, 0.04581331491144539, 0.04581331491144539, 0.04581331491144539, 0.9743661877918413, 0.8077709226733026, 0.04572288241546996, 0.015240960805156653, 0.06096384322062661, 0.015240960805156653, 0.04572288241546996, 0.9542420542635729, 0.9070393454164761, 0.05580545061562897, 0.6417626820797332, 0.027902725307814485, 0.27902725307814485, 0.9009908813796789, 0.010472374692042475, 0.0418894987681699, 0.10472374692042476, 0.0418894987681699, 0.2094474938408495, 0.4817292358339539, 0.010472374692042475, 0.0837789975363398, 0.010472374692042475, 0.9097918178568181, 0.9385160149489198, 0.07791623503322923, 0.8570785853655214, 0.052095602810670945, 0.10419120562134189, 0.052095602810670945, 0.052095602810670945, 0.6772428365387223, 0.052095602810670945, 0.9595495493117886, 0.8849744169803482, 0.15637413048109114, 0.7427771197851829, 0.039093532620272785, 0.7046317668391353, 0.21680977441204163, 0.05420244360301041, 0.11923070604244264, 0.1490383825530533, 0.7153842362546559, 0.4933249930869538, 0.048129267618239394, 0.024064633809119697, 0.0721939014273591, 0.10829085214103865, 0.024064633809119697, 0.03609695071367955, 0.03609695071367955, 0.08422621833191894, 0.060161584522799245, 0.8453944423561188, 0.09945816968895516, 0.8378687736380965, 0.8579750817277959, 0.030921804313625005, 0.030921804313625005, 0.06184360862725001, 0.7421233035270001, 0.12368721725450002, 0.030921804313625005, 0.030921804313625005, 0.20013697390215734, 0.7505136521330901, 0.8655509311966807, 0.07868644829060734, 0.5170118683467957, 0.4207406928615303, 0.03565599092046867, 0.028524792736374937, 0.019703920944064403, 0.08866764424828982, 0.06896372330422541, 0.5123019445456746, 0.019703920944064403, 0.19703920944064404, 0.08866764424828982, 0.08865852232173825, 0.8865852232173824, 0.4258571037470049, 0.030418364553357495, 0.053232137968375615, 0.08365050252173312, 0.08365050252173312, 0.15209182276678748, 0.09885968479841185, 0.03802295569169687, 0.030418364553357495, 0.16462408654918786, 0.038529041532788647, 0.07705808306557729, 0.04903696195082191, 0.042031681672133066, 0.05253960209016634, 0.07005280278688844, 0.04553432181147749, 0.4168141765819863, 0.04553432181147749, 0.9260287546408376, 0.7963079615985083, 0.027735723417957506, 0.822826461399406, 0.07396192911455335, 0.009245241139319169, 0.018490482278638337, 0.04622620569659584, 0.009245241139319169, 0.9268037184980921, 0.9252602280874325, 0.13636261306375597, 0.11538374951548581, 0.03146829532240522, 0.03146829532240522, 0.03146829532240522, 0.08916017008014812, 0.24125693080510668, 0.19405448782149887, 0.11013903362841827, 0.01573414766120261, 0.1348089099106179, 0.06933029652546062, 0.12710554363001114, 0.06933029652546062, 0.04622019768364042, 0.1348089099106179, 0.06547861338515726, 0.22339762213759534, 0.073181979665764, 0.053923563964247155, 0.14511115609566058, 0.7981113585261332, 0.16965978740379162, 0.8058839901680102, 0.1946122047025545, 0.050043138352085445, 0.10008627670417089, 0.15754321333063936, 0.055603487057872714, 0.04077589050910666, 0.30581917881829995, 0.03336209223472363, 0.04077589050910666, 0.02038794525455333, 0.8014599953445728, 0.05724714252461234, 0.05724714252461234, 0.05724714252461234, 0.12598842490799744, 0.016256570955870638, 0.048769712867611906, 0.2479127070770272, 0.1503732813418034, 0.21133542242631828, 0.024384856433805953, 0.05283385560657957, 0.10566771121315914, 0.016256570955870638, 0.8746726603628676, 0.9097181286574701, 0.018203630711706477, 0.12742541498194535, 0.036407261423412954, 0.018203630711706477, 0.10922178427023886, 0.036407261423412954, 0.5097016599277814, 0.036407261423412954, 0.09101815355853238, 0.7966125167923432, 0.13041628760896448, 0.02173604793482741, 0.052166515043585784, 0.16084675471772283, 0.052166515043585784, 0.23040210810917056, 0.09563861091324061, 0.15215233554379187, 0.09998582050020609, 0.004347209586965483, 0.017937679746628302, 0.5740057518921057, 0.05381303923988491, 0.07175071898651321, 0.08968839873314151, 0.05381303923988491, 0.10762607847976982, 0.017937679746628302, 0.017937679746628302, 0.8967718181715284, 0.838487795712561, 0.05228234429879696, 0.011203359492599348, 0.09709578226919435, 0.09336132910499456, 0.13444031391119218, 0.08215796961239522, 0.19792601770258847, 0.20912937719518784, 0.03734453164199783, 0.085892422776595, 0.3266050038151967, 0.05527161603026406, 0.0854197702285899, 0.0602963083966517, 0.08039507786220226, 0.09044446259497754, 0.04019753893110113, 0.0854197702285899, 0.07034569312942698, 0.11054323206052812, 0.8808531843653814, 0.08988447580293597, 0.8089602822264238, 0.18339578244666868, 0.2589116928658852, 0.0647279232164713, 0.08630389762196174, 0.10787987202745217, 0.023373972272614636, 0.09349588909045854, 0.09709188482470694, 0.07191991468496811, 0.014383982936993622, 0.013542597574449892, 0.004514199191483297, 0.6771298787224946, 0.042884892319091324, 0.01579969717019154, 0.0925410834254076, 0.011285497978708243, 0.1399401749359822, 0.0022570995957416485, 0.0022570995957416485, 0.8027993304556184, 0.10703991072741578, 0.18530392711158614, 0.04276244471805834, 0.09977903767546946, 0.18530392711158614, 0.02138122235902917, 0.01425414823935278, 0.292210038906732, 0.11403318591482224, 0.01425414823935278, 0.02850829647870556, 0.9016390277048488, 0.9232773131884227, 0.0602679019624677, 0.0602679019624677, 0.18628260606580926, 0.010957800356812309, 0.06574680214087386, 0.1588881051737785, 0.2520294082066831, 0.08218350267609231, 0.10409910338971694, 0.016436700535218465, 0.8160106319800218, 0.005753729428527237, 0.011507458857054474, 0.5868804017097782, 0.005753729428527237, 0.011507458857054474, 0.06904475314232685, 0.07479848257085409, 0.21288798885550778, 0.011507458857054474, 0.005753729428527237, 0.8508561236592515, 0.09699647260151681, 0.07864578859582444, 0.11534715660720916, 0.049808999444022145, 0.0838888411688794, 0.13107631432637407, 0.10748257774762673, 0.07340273602276948, 0.09175342002846185, 0.17302073491081377, 0.05427256170805347, 0.027136280854026733, 0.47488491494546786, 0.06784070213506684, 0.0407044212810401, 0.0407044212810401, 0.027136280854026733, 0.20352210640520052, 0.027136280854026733, 0.0407044212810401, 0.13236122933088823, 0.06330319663651177, 0.03452901634718823, 0.08632254086797059, 0.17264508173594117, 0.09207737692583529, 0.08632254086797059, 0.057548360578647054, 0.23019344231458821, 0.04028385240505294, 0.07040528538732552, 0.05531843851861291, 0.08549213225603813, 0.060347387474850446, 0.11566582599346335, 0.05531843851861291, 0.07543423434356306, 0.14081057077465103, 0.07040528538732552, 0.271563243636827, 0.9488938753782299, 0.22378408399190647, 0.023310842082490256, 0.11655421041245129, 0.004662168416498051, 0.07925686308046687, 0.31702745232186746, 0.19581107349291815, 0.023310842082490256, 0.023310842082490256, 0.8686781640818463, 0.9115968830407546, 0.9412000677631426, 0.8515053788725304, 0.06812043030980243, 0.034060215154901215, 0.034060215154901215, 0.2851250414324188, 0.4276875621486282, 0.09072160409213326, 0.19440343734028553, 0.7684543265367859, 0.9445330119623194, 0.8710926136476325, 0.8767012718289348, 0.1490860406217764, 0.0372715101554441, 0.0698840815414577, 0.02795363261658308, 0.0745430203108882, 0.32146677509070537, 0.048918857079020384, 0.06522514277202718, 0.10948506108161705, 0.09550824477332552, 0.057972473106420085, 0.11594494621284017, 0.11594494621284017, 0.6956696772770411, 0.8995568647649604, 0.11850883730399446, 0.04102228983599809, 0.07292851526399659, 0.13218293391599384, 0.10939277289599489, 0.07292851526399659, 0.10027670848799532, 0.10483474069199511, 0.21878554579198978, 0.027348193223998722, 0.03382229467926073, 0.03382229467926073, 0.03382229467926073, 0.6764458935852146, 0.16911147339630364, 0.7814637091214918, 0.002245585371038769, 0.002245585371038769, 0.020210268339348924, 0.04491170742077539, 0.03368378056558154, 0.04940287816285292, 0.06287639038908555, 0.019306322169028254, 0.03861264433805651, 0.09653161084514127, 0.019306322169028254, 0.03861264433805651, 0.38612644338056507, 0.40543276554959334, 0.029377147822345566, 0.05875429564469113, 0.6756743999139481, 0.029377147822345566, 0.029377147822345566, 0.029377147822345566, 0.0881314434670367, 0.029377147822345566, 0.2096890530867409, 0.7339116858035931, 0.9321276396012735, 0.5100287786942603, 0.04636625260856912, 0.11205177713737538, 0.04636625260856912, 0.09659635960118568, 0.015455417536189708, 0.02318312630428456, 0.06182167014475883, 0.03477468945642684, 0.054093961376663974, 0.8796965485443228, 0.8321706727796936, 0.0061439915538939295, 0.7639029498674785, 0.0061439915538939295, 0.024575966215575718, 0.0020479971846313096, 0.043007940877257504, 0.0409599436926262, 0.049151932431151436, 0.061439915538939294, 0.14278841427772027, 0.017848551784715033, 0.04908351740796634, 0.2141826214165804, 0.1695612419547928, 0.13832627633154151, 0.031234965623251308, 0.04462137946178758, 0.15617482811625655, 0.040159241515608825, 0.9192535489406567, 0.8559887063890809, 0.8699431021431472, 0.7169492310236066, 0.2607088112813115, 0.03258860141016394, 0.8904246010664275, 0.8673099802664259, 0.07884636184240236, 0.03138013565146469, 0.015690067825732346, 0.015690067825732346, 0.015690067825732346, 0.03138013565146469, 0.015690067825732346, 0.5177722382491674, 0.1412106104315911, 0.12552054260585876, 0.09414040695439407, 0.027764927637649706, 0.013882463818824853, 0.08329478291294912, 0.05552985527529941, 0.15270710200707338, 0.43035637838357044, 0.05552985527529941, 0.15270710200707338, 0.013882463818824853, 0.8419587051564099, 0.9111147721265682, 0.9254863943191111, 0.033053085511396824, 0.01826729186852121, 0.027400937802781813, 0.6484888613325029, 0.03653458373704242, 0.009133645934260606, 0.1461383349481697, 0.009133645934260606, 0.10047010527686666, 0.009133645934260606, 0.12002505706305479, 0.017876072328540077, 0.23238894027102097, 0.10725643397124045, 0.12513250629978054, 0.09959526011615184, 0.10214898473451471, 0.08171918778761177, 0.053628216985620224, 0.06128939084070883, 0.8612489613023623, 0.9605241990693957, 0.0645055660782885, 0.8385723590177505, 0.17848486268064848, 0.06747598467195247, 0.037002959336232, 0.23725426868525223, 0.11100887800869601, 0.08924243134032424, 0.07182927400562683, 0.0652993400051153, 0.03917960400306918, 0.1023022993413473, 0.18721370365781687, 0.07158171022210645, 0.1211382788374109, 0.29733941169182676, 0.14866970584591338, 0.011012570803400991, 0.06607542482040595, 0.03854399781190347, 0.03854399781190347, 0.016518856205101486, 0.0229951592270305, 0.9428015283082505, 0.10590707775698018, 0.03530235925232672, 0.776651903551188, 0.03530235925232672, 0.9335479178235427, 0.08475912474320897, 0.8475912474320898, 0.9591710077371072, 0.08815275687727182, 0.05203461343450073, 0.07346063073105985, 0.16589859106764349, 0.06427805188967738, 0.1334534791614254, 0.15365515261246684, 0.08815275687727182, 0.14018737031177256, 0.04101551882484175, 0.016587107858610266, 0.783740846319335, 0.004146776964652567, 0.004146776964652567, 0.09952264715166159, 0.004146776964652567, 0.04146776964652567, 0.03317421571722053, 0.008293553929305133, 0.9533407390585816, 0.889700152382079, 0.9488133348446209, 0.07698554117255563, 0.7698554117255563, 0.07698554117255563, 0.09274130292316274, 0.03372411015387736, 0.1939136333847948, 0.01686205507693868, 0.08431027538469339, 0.03372411015387736, 0.01686205507693868, 0.4046893218465283, 0.06744822030775471, 0.05901719276928538, 0.01876543227840364, 0.03753086455680728, 0.28148148417605456, 0.0938271613920182, 0.01876543227840364, 0.293991772361657, 0.0500411527424097, 0.16263374641283154, 0.03753086455680728, 0.006255144092801213, 0.837173325903743, 0.015364936888617111, 0.6895015428766929, 0.007682468444308556, 0.0345711079993885, 0.003841234222154278, 0.05377727911015989, 0.0441741935547742, 0.057618513332314165, 0.09218962133170266, 0.8678267400346156, 0.8568557582400428, 0.9030445137346874, 0.9023488591163583, 0.9382546034339015, 0.9487545526088257, 0.03419679319083176, 0.8549198297707942, 0.06839358638166353, 0.03419679319083176, 0.8521445405412029, 0.065549580041631, 0.9143222056757667, 0.882425002935431, 0.8854803955145228, 0.09838671061272476, 0.010860777344587168, 0.021721554689174336, 0.010860777344587168, 0.010860777344587168, 0.05430388672293584, 0.5756211992631199, 0.20635476954715617, 0.010860777344587168, 0.09774699610128451, 0.9270284262659751, 0.11498979407784925, 0.8049285585449448, 0.6937513927461727, 0.036513231197166984, 0.10953969359150095, 0.036513231197166984, 0.07302646239433397, 0.036513231197166984, 0.9484749781217525, 0.1494300830675648, 0.04658702589753491, 0.1749210972379141, 0.07032003909061874, 0.07383604104514967, 0.14767208209029933, 0.1494300830675648, 0.04043402247710577, 0.12569706987448098, 0.021975012215818355, 0.9117004263722586, 0.8402569660639438, 0.06463515123568798, 0.06463515123568798, 0.07228947500460925, 0.1445789500092185, 0.04819298333640616, 0.04819298333640616, 0.6506052750414832, 0.927057182298979, 0.8643973605583873, 0.03170035452516142, 0.01585017726258071, 0.5706063814529055, 0.03170035452516142, 0.1743519498883878, 0.09510106357548426, 0.07925088631290354, 0.0506955081349007, 0.08756496859664667, 0.20739071509732104, 0.023043412788591226, 0.08295628603892842, 0.03686946046174596, 0.013826047673154736, 0.24886885811678525, 0.06452155580805544, 0.1843473023087298, 0.04683461620254511, 0.7025192430381767, 0.18733846481018043, 0.04683461620254511, 0.09833883042762714, 0.7867106434210172, 0.8832108285280892, 0.9254776102733453, 0.4744336316103627, 0.01323121681781888, 0.005670521493350949, 0.12097112519148691, 0.03213295512898871, 0.01890173831116983, 0.02457225980452078, 0.04158382428457363, 0.22493068590292098, 0.04158382428457363, 0.019690899748951142, 0.17721809774056027, 0.05907269924685342, 0.5907269924685342, 0.019690899748951142, 0.019690899748951142, 0.05907269924685342, 0.039381799497902284, 0.11986448212280842, 0.0665913789571158, 0.026636551582846318, 0.053273103165692635, 0.026636551582846318, 0.5194127558655032, 0.013318275791423159, 0.026636551582846318, 0.14650103370565473, 0.7690154491187734, 0.042723080506598524, 0.1708923220263941, 0.6465765807322293, 0.2722427708346229, 0.03403034635432786, 0.955281872797226, 0.6268521175004814, 0.13432545375010316, 0.13432545375010316, 0.08955030250006878, 0.8991885962374327, 0.033755363757171496, 0.0472575092600401, 0.2497896918030691, 0.040506436508605796, 0.15527467328298888, 0.3173004193174121, 0.0270042910057372, 0.0472575092600401, 0.0540085820114744, 0.0270042910057372, 0.7707472025267451, 0.039525497565474105, 0.059288246348211164, 0.059288246348211164, 0.059288246348211164, 0.9306677667840983, 0.044317512704004684, 0.02320990811051211, 0.02320990811051211, 0.04641981622102422, 0.02320990811051211, 0.02320990811051211, 0.7427170595363876, 0.04641981622102422, 0.09283963244204844, 0.6673578663292313, 0.03512409822785428, 0.03512409822785428, 0.01756204911392714, 0.1404963929114171, 0.0878102455696357, 0.9010097431091411, 0.0958376974102808, 0.49744328655812414, 0.027382199260080228, 0.09127399753360076, 0.06845549815020058, 0.12321989667036103, 0.05020069864348042, 0.013691099630040114, 0.027382199260080228, 0.0045636998766800385, 0.8613689399176027, 0.912026383840608, 0.9101081550101675, 0.8650877308243639, 0.7317516126193166, 0.23283005856069167, 0.32003005926776606, 0.6667292901411792, 0.965236485955836, 0.7914948602620314, 0.1826526600604688, 0.08268404824062985, 0.8268404824062985, 0.10950517557465532, 0.821288816809915, 0.7859349558409603, 0.09458987737768124, 0.06621291416437687, 0.05360093051401937, 0.1481908078917006, 0.25223967300714994, 0.20809773023089873, 0.06936591007696624, 0.012611983650357499, 0.050447934601429996, 0.04098894686366187, 0.8385134800624697, 0.8880804123795404, 0.12232086718455296, 0.022240157669918718, 0.022240157669918718, 0.022240157669918718, 0.36696260155365884, 0.07784055184471551, 0.011120078834959359, 0.2112814978642278, 0.1334409460195123, 0.06006556798368679, 0.08409179517716152, 0.18019670395106038, 0.4084458622890702, 0.12013113596737358, 0.14415736316084832, 0.012013113596737358, 0.9604070345716638, 0.051860941625711816, 0.2593047081285591, 0.6741922411342537, 0.8628484248253021, 0.9098139162525525, 0.899891761428262, 0.20684165739406238, 0.07974618116397586, 0.09469859013222133, 0.07226997667985312, 0.16447649865070021, 0.09220652197084708, 0.07476204484122737, 0.11961927174596379, 0.059809635872981895, 0.03738102242061368, 0.08861470628690304, 0.5316882377214183, 0.01772294125738061, 0.33673588389023157, 0.01772294125738061, 0.961021604054457, 0.05631122933952166, 0.014077807334880415, 0.6229429745684583, 0.07742794034184228, 0.04927232567208145, 0.04223342200464124, 0.045752873838361345, 0.05983068117324176, 0.017597259168600516, 0.017597259168600516, 0.9748885522995565, 0.7957411276748346, 0.6002325519983923, 0.027917793116204292, 0.19542455181343005, 0.08375337934861288, 0.027917793116204292, 0.013958896558102146, 0.027917793116204292, 0.013958896558102146, 0.8717436368288572, 0.20608075090987946, 0.03069287779508843, 0.04823166510656753, 0.14323342971041267, 0.11254055191532424, 0.12277151118035372, 0.1154636831339041, 0.06723201802733655, 0.10961742069674439, 0.04384696827869775, 0.9493125290981048, 0.011954142688271977, 0.6694319905432307, 0.2032204257006236, 0.10758728419444778, 0.011954142688271977, 0.009087225160581174, 0.6679110493027164, 0.004543612580290587, 0.004543612580290587, 0.040892513222615286, 0.2544423044962729, 0.013630837740871763, 0.004543612580290587, 0.8560446334914315, 0.922185611064929, 0.917741683095161, 0.11262118107565271, 0.0307148675660871, 0.13651052251594267, 0.2474253220601461, 0.1245658517957977, 0.04436591981768137, 0.11774032567000056, 0.0938509842297106, 0.04436591981768137, 0.04607230134913065, 0.922678773868418, 0.888585095588759, 0.1965614080705963, 0.03276023467843272, 0.028080201152942328, 0.13104093871373088, 0.08892063698431737, 0.14976107281569243, 0.009360067050980777, 0.25272181037648095, 0.07020050288235583, 0.042120301729413494, 0.8368914723673789, 0.9618908685439634, 0.08104188717242071, 0.010130235896552589, 0.5976839178966027, 0.1823442461379466, 0.11143259486207847, 0.010130235896552589, 0.010130235896552589, 0.08840932637851948, 0.8840932637851948, 0.8611579071851374, 0.9207097884382953, 0.8666507536242635, 0.8837587372822923, 0.9544492322971423, 0.010894974686599775, 0.23968944310519505, 0.1307396962391973, 0.06536984811959864, 0.010894974686599775, 0.02178994937319955, 0.02178994937319955, 0.4140090380907914, 0.06536984811959864, 0.09699718856539591, 0.013856741223627986, 0.06928370611813993, 0.013856741223627986, 0.027713482447255973, 0.5681263901687474, 0.2078511183544198, 0.8826973034892736, 0.02566553144895983, 0.744300412019835, 0.02566553144895983, 0.017110354299306553, 0.11977248009514586, 0.017110354299306553, 0.04277588574826638, 0.008555177149653276, 0.9574346872708492, 0.06733822852679891, 0.06733822852679891, 0.8080587423215868, 0.8492225910210112, 0.06248099073390484, 0.9372148610085727, 0.85048422272268, 0.07087368522689, 0.07087368522689, 0.8681057541019133, 0.08681057541019133, 0.04117580550708901, 0.013725268502363004, 0.02745053700472601, 0.08235161101417802, 0.06862634251181501, 0.10980214801890403, 0.13725268502363003, 0.09607687951654102, 0.43920859207561613, 0.20525836220764232, 0.7526139947613552, 0.07286928770702351, 0.03643464385351176, 0.6922582332167234, 0.07286928770702351, 0.03643464385351176, 0.03643464385351176, 0.9222298951060639, 0.8500117026929928, 0.8849622386629423, 0.2215698773687092, 0.24489302235488913, 0.05830786246544979, 0.08746179369817468, 0.08746179369817468, 0.05830786246544979, 0.017492358739634936, 0.14576965616362447, 0.040815503725814856, 0.029153931232724896, 0.10762567847386811, 0.01195840871931868, 0.2660745940048406, 0.08968806539489009, 0.18834493732926919, 0.08370886103523076, 0.050823237057104384, 0.03288562397812637, 0.06577124795625273, 0.10164647411420877, 0.9356173823185389, 0.1331354913143353, 0.04221369236795997, 0.05195531368364304, 0.04221369236795997, 0.0681913492097815, 0.21431566894502754, 0.08442738473591994, 0.2630237755234429, 0.07793297052546456, 0.02597765684182152, 0.05655227080896614, 0.011310454161793227, 0.48634952895710876, 0.011310454161793227, 0.1696568124268984, 0.10179408745613905, 0.011310454161793227, 0.09048363329434582, 0.011310454161793227, 0.05655227080896614, 0.19465078348087203, 0.013903627391490859, 0.16684352869789032, 0.09732539174043602, 0.11122901913192687, 0.055614509565963435, 0.3614943121787623, 0.8437256503336292, 0.8183866373821637, 0.09841540719622385, 0.6889078503735669, 0.13122054292829846, 0.06561027146414923, 0.8622187109720669, 0.9394476327510238, 0.10095123245393683, 0.024473026049439232, 0.19884333665169376, 0.09483297594157704, 0.12542425850337607, 0.15295641280899522, 0.061182565123598084, 0.061182565123598084, 0.12542425850337607, 0.055064308611238275, 0.01823693213966592, 0.05471079641899775, 0.09118466069832959, 0.5288710320503116, 0.12765852497766142, 0.03647386427933184, 0.1094215928379955, 0.03647386427933184, 0.14927972616238816, 0.8210384938931349, 0.13975041948527644, 0.027950083897055288, 0.027950083897055288, 0.027950083897055288, 0.7267021813234376, 0.027950083897055288, 0.1160804053959722, 0.0762814092602103, 0.0762814092602103, 0.06301507721495633, 0.10944723937334522, 0.1525628185204206, 0.20562814670143648, 0.10944723937334522, 0.02321608107919444, 0.06633166022626982, 0.9125448188704345, 0.10525551865892221, 0.013156939832365277, 0.05262775932946111, 0.026313879664730554, 0.013156939832365277, 0.1381478682398354, 0.11183398857510486, 0.16446174790456597, 0.10525551865892221, 0.2565603267311229, 0.10424828239513845, 0.02452900762238552, 0.04292576333917466, 0.04905801524477104, 0.3004803433742226, 0.07358702286715656, 0.21462881669587328, 0.09811603048954208, 0.01839675571678914, 0.061322519055963795, 0.941136801798449, 0.9509758008093855, 0.8978937065897342, 0.24027052862412446, 0.05852743645972262, 0.052366653674488665, 0.2156273974831886, 0.05852743645972262, 0.154019569630849, 0.08317056760065847, 0.061607827852339606, 0.06468821924495659, 0.00924117417785094, 0.9185694952559988, 0.260596069903905, 0.036122227511432375, 0.08514525056266203, 0.12900795539797277, 0.04386270483531075, 0.10836668253429714, 0.04128254572735129, 0.0928857278865404, 0.10062620521041878, 0.10062620521041878, 0.8628187759783601, 0.8379444398676825, 0.8818295222320754, 0.26663025385025013, 0.015501758944781986, 0.27903166100607574, 0.09301055366869192, 0.05580633220121515, 0.043404925045389564, 0.04960562862330235, 0.07750879472390992, 0.07130809114599714, 0.04960562862330235, 0.8281187565528743, 0.07528352332298857, 0.8928971354051499, 0.917574678781931, 0.888003852803105, 0.06369661371398902, 0.8917525919958463, 0.31574598282274136, 0.5304532511422054, 0.11366855381618689, 0.03788951793872896, 0.1345128172587436, 0.10088461294405769, 0.49601601364161696, 0.1933621748094439, 0.050442306472028846, 0.008407051078671474, 0.008407051078671474, 0.059282162470384384, 0.029641081235192192, 0.029641081235192192, 0.7113859496446125, 0.11856432494076877, 0.029641081235192192, 0.9062355365305087, 0.860190788282373, 0.0477883771267985, 0.8970518411487169, 0.252795182739326, 0.04036225606762348, 0.01593246950037769, 0.18906530473781524, 0.050983902401208606, 0.025491951200604303, 0.17419499987079606, 0.07647585360181292, 0.13701923770324814, 0.03717576216754794, 0.06716406629935037, 0.06716406629935037, 0.6380586298438286, 0.13432813259870074, 0.10074609944902556, 0.08598141153446703, 0.024566117581276296, 0.024566117581276296, 0.2579442346034011, 0.03684917637191444, 0.42990705767233517, 0.03684917637191444, 0.08598141153446703, 0.9450810833991593, 0.020595665098823254, 0.6333167017888152, 0.010297832549411627, 0.011585061618088081, 0.05277639181573459, 0.011585061618088081, 0.06564868250249913, 0.0553508499530875, 0.06693591157117558, 0.07079759877720494, 0.03304287903657882, 0.03304287903657882, 0.03304287903657882, 0.13217151614631528, 0.6443361412132871, 0.06608575807315764, 0.04956431855486823, 0.00573624777796035, 0.7498095309762457, 0.00081946396828005, 0.00901410365108055, 0.03851480650916235, 0.00081946396828005, 0.04670944619196285, 0.0376953425408823, 0.049167838096803, 0.0622792615892838, 0.09168103998977228, 0.09168103998977228, 0.026194582854220654, 0.3077863485370927, 0.11787562284399294, 0.1440702056982136, 0.019645937140665492, 0.05238916570844131, 0.09168103998977228, 0.05893781142199647, 0.9052589124460391, 0.9220844220299211, 0.2618352898046212, 0.04363921496743686, 0.6982274394789898, 0.9390544017870448, 0.038200572639691247, 0.04775071579961406, 0.009550143159922812, 0.20055300635837905, 0.35335529691714407, 0.35335529691714407, 0.8668425922464945, 0.8826471129887339, 0.09600683930396187, 0.09600683930396187, 0.8160581340836759, 0.03536129403490529, 0.04321935937599535, 0.1571613068218013, 0.007858065341090065, 0.06286452272872052, 0.28681938494978737, 0.13358711079853108, 0.019645163352725162, 0.11394194744580594, 0.1453742088101662, 0.06495607930177018, 0.04996621484751552, 0.08993918672552793, 0.019986485939006208, 0.09493580821027948, 0.3147871535393478, 0.23983783126807448, 0.019986485939006208, 0.05496283633226707, 0.04996621484751552, 0.08126979808056664, 0.1141892099613025, 0.11624667320384847, 0.0668675553827447, 0.1789993021015012, 0.17076944913131722, 0.0874421878082046, 0.032919411880735855, 0.0884709194294776, 0.06378136051892572, 0.10876597158659099, 0.054382985793295494, 0.10876597158659099, 0.7613618011061368, 0.8734888637636973, 0.615099171107154, 0.07517878757976326, 0.006834435234523933, 0.054675481876191465, 0.15719201039405045, 0.0410066114071436, 0.0410066114071436, 0.9412705488724306, 0.17185887430327157, 0.12131214656701522, 0.11625747379338959, 0.06571074605713324, 0.18702289262414848, 0.02527336386812817, 0.05560140050988198, 0.02527336386812817, 0.02527336386812817, 0.207241583718651, 0.9447011655880034, 0.019183882558552665, 0.9591941279276333, 0.019183882558552665, 0.9407482764737136, 0.8926686896812986, 0.08926686896812985, 0.06147725693251642, 0.03073862846625821, 0.09221588539877464, 0.7684657116564553, 0.1616354905915306, 0.2351061681331354, 0.014694135508320962, 0.07347067754160481, 0.014694135508320962, 0.08816481304992578, 0.4261299297413079, 0.8971152882374577, 0.11946369599459465, 0.7765140239648652, 0.1294882536846808, 0.06215436176864679, 0.015538590442161698, 0.25379697722197436, 0.13466778383206804, 0.08805201250558295, 0.2071812058954893, 0.031077180884323395, 0.010359060294774465, 0.06215436176864679, 0.4230449783784464, 0.03896466906117269, 0.03339828776671945, 0.11132762588906484, 0.12802676977242455, 0.04174785970839932, 0.08627891006402524, 0.05844700359175904, 0.013915953236133104, 0.06401338488621228, 0.9231542092917857, 0.8471020663551252, 0.03762055645165488, 0.46854693035242895, 0.0171002529325704, 0.019380286656913118, 0.07182106231679568, 0.025080370967769917, 0.0969014332845656, 0.09006133211153744, 0.08094119721416655, 0.09348138269805152, 0.1540510455723442, 0.011003646112310299, 0.4951640750539635, 0.08802916889848239, 0.011003646112310299, 0.033010938336930896, 0.06602187667386179, 0.1210401072354133, 0.011003646112310299, 0.9223233027191539, 0.004750203373188226, 0.39426687997462273, 0.04750203373188226, 0.06175264385144694, 0.28976240576448176, 0.014250610119564678, 0.147256304568835, 0.014250610119564678, 0.02375101686594113, 0.06332601416357031, 0.7979077784609859, 0.11398682549442656, 0.012665202832714063, 0.05214943542060576, 0.20859774168242304, 0.6779426604678749, 0.013876235683309727, 0.034690589208274315, 0.06244306057489377, 0.034690589208274315, 0.08325741409985836, 0.4301633061826015, 0.08325741409985836, 0.048566824891584044, 0.11794800330813268, 0.08325741409985836, 0.8882539001029743, 0.06841157762301023, 0.6993183490352156, 0.007601286402556692, 0.06841157762301023, 0.015202572805113383, 0.015202572805113383, 0.0836141504281236, 0.030405145610226766, 0.007601286402556692, 0.7953089429370976, 0.8889447600374685, 0.18756144506718353, 0.09378072253359176, 0.6564650577351423, 0.154235913965585, 0.00881348079803343, 0.0881348079803343, 0.03525392319213372, 0.18948983715771872, 0.06169436558623401, 0.10576176957640115, 0.25999768354198616, 0.07491458678328415, 0.01762696159606686, 0.2434075473850948, 0.03968601316061328, 0.03174881052849062, 0.16932698948528332, 0.021165873685660416, 0.01322867105353776, 0.23017887633155704, 0.11376657106042473, 0.1217037736925474, 0.018520139474952863, 0.8818589551434026, 0.9071367343984051, 0.004819435260419774, 0.1445830578125932, 0.1301247520313339, 0.06265265838545706, 0.15904136359385254, 0.03855548208335819, 0.05783322312503728, 0.1301247520313339, 0.07711096416671638, 0.19277741041679095, 0.05208463123929364, 0.02604231561964682, 0.10416926247858728, 0.6771002061108172, 0.05208463123929364, 0.07812694685894045, 0.0878400197616133, 0.04525091927113413, 0.11445820756816279, 0.1197818451294727, 0.1703564019619167, 0.13575275781340237, 0.047912738051789076, 0.11712002634881774, 0.1197818451294727, 0.03992728170982423, 0.8904998520207512, 0.8983525458883886, 0.038104078496445495, 0.7348643710028774, 0.005443439785206499, 0.005443439785206499, 0.07620815699289099, 0.005443439785206499, 0.010886879570412998, 0.09253847634851049, 0.021773759140825997, 0.005443439785206499, 0.10532181478286119, 0.11848704163071885, 0.2369740832614377, 0.026330453695715298, 0.4739481665228754, 0.013165226847857649, 0.013165226847857649, 0.013165226847857649, 0.9234506925937663, 0.0333158603536289, 0.0666317207072578, 0.0333158603536289, 0.8328965088407225, 0.0333158603536289, 0.07703026421697355, 0.05578053615711878, 0.24171565668084805, 0.12484215235164679, 0.0796864802244554, 0.1487480964189834, 0.03718702410474585, 0.06906161619452801, 0.08499891223941909, 0.08499891223941909, 0.8223310988216052, 0.15236003382036536, 0.06529715735158516, 0.5659086970470714, 0.06529715735158516, 0.02176571911719505, 0.06529715735158516, 0.02176571911719505, 0.06529715735158516, 0.8755086596636502, 0.09328784346917707, 0.09328784346917707, 0.7463027477534165], \"Term\": [\"_\", \"_\", \"_\", \"_\", \"_\", \"_\", \"_\", \"_\", \"_\", \"able\", \"able\", \"able\", \"able\", \"able\", \"able\", \"able\", \"academy\", \"adams\", \"add\", \"add\", \"add\", \"add\", \"add\", \"add\", \"add\", \"add\", \"add\", \"add\", \"advance\", \"advance\", \"advance\", \"advance\", \"advance\", \"adverse\", \"adverse\", \"adverse\", \"adverse\", \"adverse\", \"adverse\", \"adverse\", \"afghanistan\", \"afghanistan\", \"afghanistan\", \"afghanistan\", \"aghamilton\", \"airport\", \"airport\", \"al\", \"al\", \"al\", \"al\", \"al\", \"al\", \"al\", \"alabama\", \"alabama\", \"amazing\", \"amazing\", \"amazing\", \"amazing\", \"amazing\", \"amazing\", \"amazing\", \"ambassador\", \"america\", \"america\", \"america\", \"america\", \"america\", \"america\", \"america\", \"america\", \"america\", \"america\", \"american\", \"american\", \"american\", \"american\", \"american\", \"american\", \"american\", \"american\", \"american\", \"american\", \"americans\", \"americans\", \"americans\", \"americans\", \"americans\", \"americans\", \"americans\", \"americans\", \"americans\", \"americans\", \"amp\", \"amp\", \"amp\", \"amp\", \"amp\", \"amp\", \"amp\", \"amp\", \"amp\", \"amp\", \"amy\", \"angeles\", \"angeles\", \"angeles\", \"angeles\", \"angeles\", \"angeles\", \"angeles\", \"anthony\", \"anthony\", \"anthony\", \"anthony\", \"anti\", \"anti\", \"anti\", \"antisemitism\", \"antivax\", \"anytime\", \"appeal\", \"area\", \"area\", \"area\", \"area\", \"area\", \"area\", \"area\", \"area\", \"area\", \"ashli\", \"ashli\", \"ashli\", \"ashli\", \"ashli\", \"ashli\", \"ask\", \"ask\", \"ask\", \"ask\", \"ask\", \"ask\", \"ask\", \"ask\", \"ask\", \"ask\", \"asleep\", \"athlete\", \"athlete\", \"athlete\", \"athlete\", \"atlantic\", \"audio\", \"audit\", \"audit\", \"audit\", \"audit\", \"audit\", \"audit\", \"audit\", \"audit\", \"audit\", \"august\", \"august\", \"august\", \"australian\", \"average\", \"average\", \"average\", \"babbitt\", \"babbitt\", \"back\", \"back\", \"back\", \"balance\", \"balance\", \"bankrupt\", \"barack\", \"barack\", \"barr\", \"barr\", \"bay\", \"bay\", \"bay\", \"bay\", \"bay\", \"bay\", \"beat\", \"beat\", \"beat\", \"beat\", \"beat\", \"beat\", \"beat\", \"beat\", \"beauty\", \"belief\", \"believe\", \"believe\", \"believe\", \"believe\", \"believe\", \"believe\", \"believe\", \"believe\", \"believe\", \"believe\", \"berlin\", \"beta\", \"bible\", \"bible\", \"bible\", \"bid\", \"biden\", \"biden\", \"biden\", \"biden\", \"biden\", \"biden\", \"biden\", \"biden\", \"biden\", \"biden\", \"billion\", \"billion\", \"billion\", \"billion\", \"billion\", \"billion\", \"billion\", \"billion\", \"birdwatch\", \"birdwatch\", \"birdwatch\", \"birdwatch\", \"birdwatch\", \"birdwatch\", \"birdwatch\", \"birdwatch\", \"birdwatch\", \"birdwatch\", \"bishop\", \"bizarre\", \"bless\", \"bless\", \"bless\", \"bless\", \"bless\", \"blog\", \"blow\", \"blow\", \"blow\", \"blow\", \"bn\", \"body\", \"body\", \"body\", \"body\", \"body\", \"body\", \"body\", \"body\", \"body\", \"body\", \"bomber\", \"bombshell\", \"bombshell\", \"bonus\", \"border\", \"border\", \"border\", \"border\", \"border\", \"border\", \"border\", \"border\", \"border\", \"border\", \"bot\", \"boxing\", \"break\", \"break\", \"break\", \"break\", \"break\", \"break\", \"break\", \"break\", \"break\", \"break\", \"breakthrough\", \"british\", \"british\", \"bro\", \"broad\", \"bury\", \"california\", \"california\", \"california\", \"california\", \"california\", \"california\", \"california\", \"california\", \"call\", \"call\", \"call\", \"call\", \"call\", \"call\", \"call\", \"call\", \"call\", \"call\", \"cancel\", \"cancel\", \"cancel\", \"cancel\", \"cancel\", \"cancel\", \"cancel\", \"cancel\", \"cancellation\", \"cap\", \"capita\", \"capita\", \"capita\", \"capitalism\", \"capitalism\", \"capitalism\", \"carlson\", \"carlson\", \"carlson\", \"carlson\", \"carlson\", \"carlson\", \"carlson\", \"carlson\", \"case\", \"case\", \"case\", \"case\", \"case\", \"case\", \"case\", \"case\", \"case\", \"case\", \"castro\", \"category\", \"cater\", \"cbp\", \"censorship\", \"champion\", \"chase\", \"chase\", \"check\", \"check\", \"check\", \"check\", \"check\", \"check\", \"check\", \"check\", \"check\", \"check\", \"checker\", \"checker\", \"chicago\", \"chicago\", \"chicago\", \"chicago\", \"chicago\", \"chicago\", \"child\", \"child\", \"child\", \"child\", \"child\", \"child\", \"child\", \"child\", \"child\", \"child\", \"childhood\", \"christianity\", \"cigarette\", \"claim\", \"claim\", \"claim\", \"claim\", \"claim\", \"claim\", \"claim\", \"claim\", \"claim\", \"claim\", \"clarence\", \"cnbc\", \"cnn\", \"cnn\", \"cnn\", \"cnn\", \"cnn\", \"cnn\", \"cnn\", \"cnn\", \"cnn\", \"cnn\", \"cnnopinion\", \"coach\", \"cocacola\", \"colony\", \"come\", \"come\", \"come\", \"come\", \"come\", \"come\", \"come\", \"come\", \"come\", \"come\", \"commemorate\", \"communion\", \"communism\", \"communism\", \"compete\", \"compete\", \"condo\", \"context\", \"context\", \"context\", \"context\", \"context\", \"context\", \"context\", \"context\", \"context\", \"contribute\", \"contribute\", \"contribute\", \"contribute\", \"contribute\", \"contribute\", \"contribute\", \"contribute\", \"contribute\", \"controversial\", \"cooper\", \"coordinate\", \"corp\", \"correction\", \"counsel\", \"county\", \"county\", \"county\", \"county\", \"county\", \"county\", \"county\", \"cousin\", \"covering\", \"covid\", \"covid\", \"covid\", \"covid\", \"covid\", \"covid\", \"covid\", \"covid\", \"covid\", \"covid\", \"cow\", \"creation\", \"crew\", \"critical\", \"critical\", \"critical\", \"critical\", \"critical\", \"criticize\", \"criticize\", \"crony\", \"crt\", \"cuba\", \"cuban\", \"curriculum\", \"d\", \"d\", \"d\", \"d\", \"d\", \"d\", \"d\", \"d\", \"d\", \"da\", \"da\", \"datum\", \"datum\", \"datum\", \"datum\", \"datum\", \"datum\", \"datum\", \"datum\", \"datum\", \"datum\", \"day\", \"day\", \"day\", \"day\", \"day\", \"day\", \"day\", \"day\", \"day\", \"day\", \"de\", \"de\", \"de\", \"de\", \"de\", \"de\", \"de\", \"de\", \"de\", \"death\", \"death\", \"death\", \"death\", \"death\", \"death\", \"death\", \"death\", \"death\", \"death\", \"debt\", \"debt\", \"debt\", \"debt\", \"debunk\", \"debunk\", \"debunk\", \"debunk\", \"decent\", \"decrease\", \"deem\", \"defy\", \"degenerate\", \"dehumanize\", \"delaware\", \"delaware\", \"delta\", \"delta\", \"delta\", \"delta\", \"democrats\", \"democrats\", \"democrats\", \"democrats\", \"democrats\", \"democrats\", \"democrats\", \"democrats\", \"democrats\", \"democrats\", \"demographic\", \"demonize\", \"destroyer\", \"destruction\", \"detect\", \"diabetes\", \"dick\", \"die\", \"die\", \"die\", \"die\", \"die\", \"die\", \"die\", \"die\", \"die\", \"die\", \"digital\", \"dire\", \"discharge\", \"disclose\", \"discord\", \"discourage\", \"discriminate\", \"display\", \"display\", \"display\", \"display\", \"disrespect\", \"distract\", \"doctor\", \"doctor\", \"doctor\", \"doctor\", \"doctor\", \"doctor\", \"doctor\", \"doctor\", \"doctor\", \"donaldjtrumpjr\", \"donaldjtrumpjr\", \"doocy\", \"dose\", \"dose\", \"dose\", \"dose\", \"dose\", \"dose\", \"dose\", \"dose\", \"dramatic\", \"dramatic\", \"drug\", \"drug\", \"drug\", \"drug\", \"drug\", \"drug\", \"drug\", \"drug\", \"drug\", \"dump\", \"early\", \"early\", \"early\", \"early\", \"early\", \"early\", \"early\", \"early\", \"early\", \"earthquake\", \"earthquake\", \"earthquake\", \"earthquake\", \"earthquake\", \"earthquake\", \"earthquake\", \"earthquake\", \"effective\", \"effective\", \"effective\", \"effective\", \"effective\", \"effective\", \"effective\", \"effective\", \"effective\", \"effective\", \"elder\", \"election\", \"election\", \"election\", \"election\", \"election\", \"election\", \"election\", \"election\", \"election\", \"election\", \"emoji\", \"end\", \"end\", \"end\", \"end\", \"end\", \"end\", \"end\", \"end\", \"end\", \"end\", \"enemy\", \"enemy\", \"enemy\", \"enemy\", \"enemy\", \"enjoy\", \"enjoy\", \"enjoy\", \"enjoy\", \"enormous\", \"entry\", \"equate\", \"eradicate\", \"eradicate\", \"eradicate\", \"essential\", \"essential\", \"estimate\", \"eureka\", \"evade\", \"eventually\", \"eviction\", \"evidence\", \"evidence\", \"evidence\", \"evidence\", \"evidence\", \"evidence\", \"evidence\", \"evidence\", \"evidence\", \"evidence\", \"explode\", \"explosion\", \"fact\", \"fact\", \"fact\", \"fact\", \"fact\", \"fact\", \"fact\", \"fact\", \"fact\", \"fact\", \"fat\", \"fat\", \"fat\", \"fat\", \"fauci\", \"fauci\", \"fauci\", \"fauci\", \"fauci\", \"fauci\", \"fauci\", \"fauci\", \"fauci\", \"fauci\", \"faucis\", \"fbi\", \"fbi\", \"fbi\", \"fbi\", \"fbi\", \"fbi\", \"fbi\", \"fbi\", \"fbi\", \"fbi\", \"fda\", \"fda\", \"fda\", \"fda\", \"fda\", \"fda\", \"fda\", \"fda\", \"fda\", \"fda\", \"fetus\", \"field\", \"fighter\", \"fighter\", \"fighting\", \"flag\", \"flag\", \"flag\", \"flag\", \"flag\", \"flag\", \"flag\", \"flee\", \"flee\", \"flee\", \"flee\", \"flight\", \"flight\", \"flight\", \"flight\", \"flight\", \"flight\", \"florida\", \"florida\", \"florida\", \"florida\", \"florida\", \"florida\", \"florida\", \"florida\", \"florida\", \"floridian\", \"floridian\", \"flow\", \"flow\", \"force\", \"force\", \"force\", \"force\", \"force\", \"force\", \"force\", \"force\", \"force\", \"force\", \"forecast\", \"forecast\", \"forecast\", \"forecast\", \"forecast\", \"forensic\", \"forensic\", \"forensic\", \"foreshock\", \"fourth\", \"francisco\", \"francisco\", \"francisco\", \"francisco\", \"francisco\", \"francisco\", \"francisco\", \"french\", \"fully\", \"fully\", \"fully\", \"fully\", \"fully\", \"fully\", \"fully\", \"fully\", \"fully\", \"function\", \"function\", \"function\", \"function\", \"fund\", \"fund\", \"fund\", \"fund\", \"fund\", \"fund\", \"fund\", \"fund\", \"fund\", \"fund\", \"gabbard\", \"gain\", \"gain\", \"gain\", \"gain\", \"gain\", \"gain\", \"gainoffunction\", \"gallon\", \"gavin\", \"gavin\", \"gavin\", \"gen\", \"general\", \"general\", \"general\", \"general\", \"general\", \"general\", \"general\", \"get\", \"get\", \"get\", \"get\", \"get\", \"get\", \"get\", \"get\", \"get\", \"get\", \"giveaway\", \"go\", \"go\", \"go\", \"go\", \"go\", \"go\", \"go\", \"go\", \"go\", \"go\", \"god\", \"god\", \"god\", \"god\", \"god\", \"god\", \"god\", \"god\", \"god\", \"good\", \"good\", \"good\", \"good\", \"good\", \"good\", \"good\", \"good\", \"good\", \"good\", \"gore\", \"government\", \"government\", \"government\", \"government\", \"government\", \"government\", \"government\", \"government\", \"government\", \"government\", \"graph\", \"graph\", \"great\", \"great\", \"great\", \"great\", \"great\", \"great\", \"great\", \"great\", \"great\", \"great\", \"guide\", \"guide\", \"guide\", \"guide\", \"guide\", \"guide\", \"gulf\", \"gut\", \"ha\", \"haha\", \"haiti\", \"haitian\", \"hamas\", \"hamas\", \"hamas\", \"hamas\", \"handgun\", \"hannity\", \"harris\", \"harris\", \"harris\", \"harris\", \"harris\", \"harris\", \"harris\", \"harris\", \"harris\", \"harvesting\", \"harvesting\", \"head\", \"head\", \"head\", \"head\", \"head\", \"head\", \"head\", \"head\", \"head\", \"heart\", \"heart\", \"heart\", \"heart\", \"heart\", \"heart\", \"heart\", \"heart\", \"heavy\", \"helicopter\", \"help\", \"help\", \"help\", \"help\", \"help\", \"help\", \"help\", \"help\", \"help\", \"help\", \"helpful\", \"helpful\", \"helpful\", \"helpful\", \"helpful\", \"helpful\", \"helpful\", \"helpful\", \"high\", \"high\", \"high\", \"high\", \"high\", \"high\", \"high\", \"high\", \"high\", \"hillary\", \"hit\", \"hit\", \"hit\", \"hit\", \"hit\", \"hit\", \"hit\", \"hit\", \"hit\", \"hit\", \"hold\", \"hold\", \"hold\", \"hold\", \"hold\", \"hold\", \"hold\", \"hold\", \"hold\", \"hold\", \"horse\", \"horse\", \"horse\", \"horse\", \"hospital\", \"hospital\", \"hospital\", \"hospital\", \"hospital\", \"hospital\", \"hostage\", \"hour\", \"hour\", \"hour\", \"hour\", \"hour\", \"hour\", \"hour\", \"hour\", \"hour\", \"hour\", \"house\", \"house\", \"house\", \"house\", \"house\", \"house\", \"house\", \"house\", \"house\", \"house\", \"housegop\", \"howto\", \"howto\", \"howto\", \"howto\", \"hunter\", \"hunter\", \"hunter\", \"hunter\", \"hunter\", \"hunter\", \"hunter\", \"hurricane\", \"hydroxychloroquine\", \"hydroxychloroquine\", \"hydroxychloroquine\", \"hydroxychloroquine\", \"hydroxychloroquine\", \"hydroxychloroquine\", \"hype\", \"hypocrite\", \"icu\", \"icu\", \"icu\", \"icu\", \"icymi\", \"immunity\", \"immunity\", \"immunity\", \"immunity\", \"immunity\", \"immunity\", \"immunity\", \"immunity\", \"immunity\", \"import\", \"impressive\", \"indias\", \"indias\", \"indoor\", \"indoor\", \"indoor\", \"indoor\", \"indoor\", \"indoor\", \"infected\", \"initial\", \"injection\", \"injection\", \"injection\", \"institute\", \"institute\", \"institute\", \"instruction\", \"instruction\", \"instruction\", \"insurrection\", \"insurrection\", \"insurrection\", \"insurrection\", \"insurrection\", \"insurrection\", \"insurrection\", \"insurrection\", \"insurrection\", \"insurrection\", \"intelligence\", \"intelligence\", \"intelligent\", \"intercept\", \"introduce\", \"introduce\", \"introduce\", \"introduce\", \"introduce\", \"introduce\", \"introduce\", \"invest\", \"invest\", \"island\", \"island\", \"ivermectin\", \"ivermectin\", \"ivermectin\", \"ivermectin\", \"jab\", \"jab\", \"jab\", \"jab\", \"jab\", \"jab\", \"jab\", \"jampj\", \"jampj\", \"job\", \"job\", \"job\", \"job\", \"job\", \"job\", \"job\", \"job\", \"job\", \"joe\", \"joe\", \"joe\", \"joe\", \"joe\", \"joe\", \"joe\", \"joe\", \"joe\", \"joe\", \"jonathan\", \"journey\", \"jump\", \"jump\", \"jump\", \"jump\", \"jump\", \"jump\", \"jump\", \"kamalas\", \"karen\", \"kid\", \"kid\", \"kid\", \"kid\", \"kid\", \"kid\", \"kid\", \"kid\", \"kid\", \"kid\", \"kill\", \"kill\", \"kill\", \"kill\", \"kill\", \"kill\", \"kill\", \"kill\", \"kill\", \"kill\", \"klan\", \"klan\", \"kneel\", \"kneel\", \"know\", \"know\", \"know\", \"know\", \"know\", \"know\", \"know\", \"know\", \"know\", \"know\", \"las\", \"las\", \"las\", \"las\", \"leave\", \"leave\", \"leave\", \"leave\", \"leave\", \"leave\", \"leave\", \"leave\", \"leave\", \"leave\", \"lebanon\", \"lee\", \"left\", \"left\", \"left\", \"left\", \"left\", \"left\", \"left\", \"left\", \"left\", \"legalization\", \"let\", \"let\", \"let\", \"let\", \"let\", \"let\", \"let\", \"let\", \"let\", \"let\", \"level\", \"level\", \"level\", \"level\", \"level\", \"level\", \"level\", \"level\", \"level\", \"lewis\", \"liability\", \"lie\", \"lie\", \"lie\", \"lie\", \"lie\", \"lie\", \"lie\", \"lie\", \"lie\", \"lie\", \"life\", \"life\", \"life\", \"life\", \"life\", \"life\", \"life\", \"life\", \"life\", \"life\", \"lifesave\", \"lightfoot\", \"lightfoot\", \"like\", \"like\", \"like\", \"like\", \"like\", \"like\", \"like\", \"like\", \"like\", \"like\", \"likely\", \"likely\", \"likely\", \"likely\", \"likely\", \"likely\", \"likely\", \"likely\", \"likely\", \"likely\", \"lindell\", \"lindell\", \"live\", \"live\", \"live\", \"live\", \"live\", \"live\", \"live\", \"live\", \"live\", \"live\", \"loki\", \"london\", \"long\", \"long\", \"long\", \"long\", \"long\", \"long\", \"long\", \"long\", \"long\", \"long\", \"longterm\", \"los\", \"los\", \"los\", \"los\", \"los\", \"los\", \"los\", \"los\", \"los\", \"los\", \"lunch\", \"m\", \"m\", \"m\", \"m\", \"m\", \"m\", \"m\", \"m\", \"m\", \"m\", \"major\", \"major\", \"major\", \"major\", \"major\", \"major\", \"major\", \"major\", \"major\", \"major\", \"make\", \"make\", \"make\", \"make\", \"make\", \"make\", \"make\", \"make\", \"make\", \"make\", \"man\", \"man\", \"man\", \"man\", \"man\", \"man\", \"man\", \"man\", \"man\", \"man\", \"management\", \"mandate\", \"mandate\", \"mandate\", \"mandate\", \"mandate\", \"mandate\", \"mandate\", \"mandate\", \"mandate\", \"manmade\", \"manor\", \"manufacturer\", \"map\", \"map\", \"map\", \"map\", \"maricopa\", \"maricopa\", \"maricopa\", \"maricopa\", \"marines\", \"marriage\", \"martin\", \"maryland\", \"mask\", \"mask\", \"mask\", \"mask\", \"mask\", \"mask\", \"mask\", \"mask\", \"mask\", \"mask\", \"match\", \"match\", \"match\", \"match\", \"meaningful\", \"medium\", \"medium\", \"medium\", \"medium\", \"medium\", \"medium\", \"medium\", \"medium\", \"medium\", \"medium\", \"memorial\", \"memorial\", \"memorial\", \"memorial\", \"memorial\", \"menu\", \"menu\", \"menu\", \"menu\", \"menu\", \"menu\", \"menu\", \"menu\", \"migrant\", \"migrant\", \"migrant\", \"migrant\", \"migrant\", \"migrant\", \"migrant\", \"mike\", \"mike\", \"mike\", \"mike\", \"mike\", \"mike\", \"mike\", \"mike\", \"mild\", \"mild\", \"miller\", \"million\", \"million\", \"million\", \"million\", \"million\", \"million\", \"million\", \"million\", \"million\", \"million\", \"ministry\", \"misinformed\", \"mislead\", \"mislead\", \"mislead\", \"mislead\", \"mislead\", \"mislead\", \"mislead\", \"mislead\", \"mislead\", \"month\", \"month\", \"month\", \"month\", \"month\", \"month\", \"month\", \"month\", \"month\", \"month\", \"monthold\", \"morally\", \"moscow\", \"mrandyngo\", \"mrandyngo\", \"mrandyngo\", \"muzzle\", \"myth\", \"myth\", \"n\", \"n\", \"n\", \"n\", \"n\", \"n\", \"n\", \"n\", \"n\", \"n\", \"natural\", \"natural\", \"natural\", \"natural\", \"natural\", \"natural\", \"natural\", \"natural\", \"natural\", \"nc\", \"nc_governor\", \"ne\", \"ne\", \"near\", \"near\", \"near\", \"near\", \"near\", \"near\", \"near\", \"near\", \"near\", \"need\", \"need\", \"need\", \"need\", \"need\", \"need\", \"need\", \"need\", \"need\", \"need\", \"needle\", \"negotiate\", \"net\", \"net\", \"new\", \"new\", \"new\", \"new\", \"new\", \"new\", \"new\", \"new\", \"new\", \"new\", \"news\", \"news\", \"news\", \"news\", \"news\", \"news\", \"news\", \"news\", \"news\", \"news\", \"newsom\", \"newsom\", \"nih\", \"nih\", \"nih\", \"nih\", \"nintendo\", \"nope\", \"nope\", \"nose\", \"not\", \"not\", \"not\", \"not\", \"not\", \"not\", \"not\", \"not\", \"not\", \"not\", \"note\", \"note\", \"note\", \"note\", \"note\", \"note\", \"note\", \"note\", \"note\", \"nuremberg\", \"nut\", \"obamas\", \"odd\", \"odd\", \"odd\", \"officer\", \"officer\", \"officer\", \"officer\", \"officer\", \"officer\", \"officer\", \"officer\", \"officer\", \"officer\", \"old\", \"old\", \"old\", \"old\", \"old\", \"old\", \"old\", \"old\", \"old\", \"old\", \"onlyfan\", \"open\", \"open\", \"open\", \"open\", \"open\", \"open\", \"open\", \"open\", \"open\", \"opener\", \"operative\", \"organ\", \"orleans\", \"outstanding\", \"outta\", \"overturn\", \"overturn\", \"overturn\", \"overturn\", \"pack\", \"pack\", \"paragraph\", \"parasitic\", \"patience\", \"patience\", \"patient\", \"patient\", \"patient\", \"patient\", \"patient\", \"patient\", \"patient\", \"patient\", \"patient\", \"paycheck\", \"payer\", \"payer\", \"peaceful\", \"peaceful\", \"peaceful\", \"peaceful\", \"peaceful\", \"peaceful\", \"penny\", \"people\", \"people\", \"people\", \"people\", \"people\", \"people\", \"people\", \"people\", \"people\", \"people\", \"percentage\", \"peter\", \"peter\", \"peter\", \"pic\", \"pic\", \"pic\", \"pic\", \"pic\", \"pill\", \"plea\", \"pm\", \"pm\", \"pm\", \"pm\", \"pm\", \"pm\", \"pm\", \"police\", \"police\", \"police\", \"police\", \"police\", \"police\", \"police\", \"police\", \"police\", \"police\", \"por\", \"por\", \"por\", \"por\", \"porn\", \"porn\", \"predictable\", \"preserve\", \"president\", \"president\", \"president\", \"president\", \"president\", \"president\", \"president\", \"president\", \"president\", \"president\", \"presidential\", \"presidential\", \"presidential\", \"presidential\", \"presidential\", \"presidential\", \"presidential\", \"presidential\", \"prevent\", \"prevent\", \"prevent\", \"prevent\", \"prevent\", \"prevent\", \"prevent\", \"prevent\", \"prevent\", \"pride\", \"pride\", \"pride\", \"prime\", \"prime\", \"prime\", \"professional\", \"promise\", \"promise\", \"promise\", \"promise\", \"prophylaxis\", \"protect\", \"protect\", \"protect\", \"protect\", \"protect\", \"protect\", \"protect\", \"protect\", \"protect\", \"protect\", \"q\", \"q\", \"q\", \"q\", \"q\", \"quake\", \"quake\", \"que\", \"que\", \"que\", \"que\", \"que\", \"que\", \"que\", \"que\", \"rally\", \"rally\", \"rally\", \"rally\", \"rally\", \"rally\", \"rapid\", \"rate\", \"rate\", \"rate\", \"rate\", \"rate\", \"rate\", \"rate\", \"rate\", \"rate\", \"rate\", \"react\", \"realcandaceo\", \"rebekah\", \"rebel\", \"recognize\", \"recognize\", \"recover\", \"recover\", \"reef\", \"refugee\", \"refugee\", \"regard\", \"regard\", \"relate\", \"relate\", \"repair\", \"report\", \"report\", \"report\", \"report\", \"report\", \"report\", \"report\", \"report\", \"report\", \"report\", \"reproductive\", \"repthomasmassie\", \"require\", \"require\", \"require\", \"require\", \"require\", \"require\", \"require\", \"require\", \"require\", \"research\", \"research\", \"research\", \"research\", \"research\", \"research\", \"research\", \"resignation\", \"respond\", \"respond\", \"respond\", \"restrictive\", \"rey\", \"rick\", \"right\", \"right\", \"right\", \"right\", \"right\", \"right\", \"right\", \"right\", \"right\", \"right\", \"rightwe\", \"rightwe\", \"rightwe\", \"rightwe\", \"rightwe\", \"ring\", \"risk\", \"risk\", \"risk\", \"risk\", \"risk\", \"risk\", \"risk\", \"risk\", \"risk\", \"risk\", \"rogan\", \"rondesantisfl\", \"rt\", \"rt\", \"rt\", \"rt\", \"rt\", \"rt\", \"rt\", \"rt\", \"ruling\", \"s\", \"s\", \"s\", \"s\", \"s\", \"s\", \"s\", \"s\", \"s\", \"s\", \"sakurai\", \"salton\", \"salton\", \"salton\", \"salton\", \"salton\", \"san\", \"san\", \"san\", \"san\", \"san\", \"san\", \"san\", \"san\", \"sars\", \"satan\", \"saveamerica\", \"say\", \"say\", \"say\", \"say\", \"say\", \"say\", \"say\", \"say\", \"say\", \"say\", \"sayin\", \"scheme\", \"school\", \"school\", \"school\", \"school\", \"school\", \"school\", \"school\", \"school\", \"school\", \"school\", \"scottgottliebmd\", \"screw\", \"sea\", \"sea\", \"sea\", \"sea\", \"sea\", \"sea\", \"sea\", \"secret\", \"secret\", \"select\", \"shape\", \"shipping\", \"shirt\", \"shocking\", \"shoot\", \"shoot\", \"shoot\", \"shoot\", \"shoot\", \"shoot\", \"shoot\", \"shoot\", \"shoot\", \"sick\", \"sick\", \"sick\", \"sick\", \"sick\", \"sick\", \"sick\", \"sikh\", \"site\", \"site\", \"site\", \"site\", \"site\", \"site\", \"site\", \"site\", \"slap\", \"slavery\", \"slavery\", \"slavery\", \"slide\", \"slight\", \"slight\", \"slur\", \"slur\", \"slur\", \"smoke\", \"smoke\", \"social\", \"social\", \"social\", \"social\", \"social\", \"social\", \"social\", \"social\", \"social\", \"spacex\", \"spacex\", \"special\", \"special\", \"special\", \"special\", \"special\", \"special\", \"speculation\", \"spell\", \"stake\", \"start\", \"start\", \"start\", \"start\", \"start\", \"start\", \"start\", \"start\", \"start\", \"start\", \"state\", \"state\", \"state\", \"state\", \"state\", \"state\", \"state\", \"state\", \"state\", \"state\", \"statewide\", \"stop\", \"stop\", \"stop\", \"stop\", \"stop\", \"stop\", \"stop\", \"stop\", \"stop\", \"stop\", \"strong\", \"strong\", \"strong\", \"strong\", \"strong\", \"strong\", \"strong\", \"strong\", \"strong\", \"strong\", \"student\", \"student\", \"student\", \"student\", \"student\", \"student\", \"student\", \"substance\", \"supplement\", \"suspend\", \"suspend\", \"suspend\", \"suspend\", \"swallow\", \"swarm\", \"take\", \"take\", \"take\", \"take\", \"take\", \"take\", \"take\", \"take\", \"take\", \"take\", \"target\", \"target\", \"target\", \"target\", \"target\", \"target\", \"target\", \"target\", \"taste\", \"taste\", \"teacher\", \"teacher\", \"teacher\", \"teacher\", \"teacher\", \"teacher\", \"tell\", \"tell\", \"tell\", \"tell\", \"tell\", \"tell\", \"tell\", \"tell\", \"tell\", \"tell\", \"ten\", \"test\", \"test\", \"test\", \"test\", \"test\", \"test\", \"test\", \"test\", \"test\", \"test\", \"texas\", \"texas\", \"texas\", \"texas\", \"texas\", \"texas\", \"texas\", \"texas\", \"texas\", \"texas\", \"thefirstontv\", \"theft\", \"theorist\", \"think\", \"think\", \"think\", \"think\", \"think\", \"think\", \"think\", \"think\", \"think\", \"think\", \"ticket\", \"time\", \"time\", \"time\", \"time\", \"time\", \"time\", \"time\", \"time\", \"time\", \"time\", \"timing\", \"title\", \"tlaib\", \"today\", \"today\", \"today\", \"today\", \"today\", \"today\", \"today\", \"today\", \"today\", \"today\", \"torture\", \"torture\", \"tower\", \"traditional\", \"transmissible\", \"trap\", \"trap\", \"treat\", \"treat\", \"treat\", \"treat\", \"treatment\", \"treatment\", \"treatment\", \"treatment\", \"treatment\", \"treatment\", \"treatment\", \"trillion\", \"trillion\", \"trillion\", \"trillion\", \"trillion\", \"trillion\", \"triple\", \"truck\", \"truck\", \"trucker\", \"trump\", \"trump\", \"trump\", \"trump\", \"trump\", \"trump\", \"trump\", \"trump\", \"trump\", \"trump\", \"trumpwon\", \"trumpwon\", \"trumpwon\", \"trumpwon\", \"trumpwon\", \"trust\", \"trust\", \"trust\", \"trust\", \"trust\", \"trust\", \"trust\", \"trust\", \"truthful\", \"try\", \"try\", \"try\", \"try\", \"try\", \"try\", \"try\", \"try\", \"try\", \"try\", \"tucker\", \"tucker\", \"tucker\", \"tucker\", \"tucker\", \"tucker\", \"tucker\", \"tweet\", \"tweet\", \"tweet\", \"tweet\", \"tweet\", \"tweet\", \"tweet\", \"tweet\", \"tweet\", \"tweet\", \"twitter\", \"twitter\", \"twitter\", \"twitter\", \"twitter\", \"twitter\", \"twitter\", \"twitter\", \"twitter\", \"twitter\", \"tyrannical\", \"ultimate\", \"unarmed\", \"unarmed\", \"unarmed\", \"unproven\", \"unvaccinated\", \"unvaccinated\", \"unvaccinated\", \"unvaccinated\", \"unvaccinated\", \"unvaccinated\", \"urinate\", \"useful\", \"usually\", \"usually\", \"usually\", \"vaccinate\", \"vaccinate\", \"vaccinate\", \"vaccinate\", \"vaccinate\", \"vaccinate\", \"vaccinate\", \"vaccinate\", \"vaccinate\", \"vaccinate\", \"vaccinated\", \"vaccinated\", \"vaccinated\", \"vaccinated\", \"vaccinated\", \"vaccinated\", \"vaccinated\", \"vaccinated\", \"vaccinated\", \"vaccinated\", \"vaccine\", \"vaccine\", \"vaccine\", \"vaccine\", \"vaccine\", \"vaccine\", \"vaccine\", \"vaccine\", \"vaccine\", \"vaccine\", \"valley\", \"valley\", \"valley\", \"valley\", \"van\", \"variant\", \"variant\", \"variant\", \"variant\", \"variant\", \"variant\", \"variant\", \"vaxx\", \"ve\", \"ve\", \"ve\", \"ve\", \"ve\", \"ve\", \"ve\", \"ve\", \"ve\", \"ve\", \"ventilator\", \"verita\", \"verita\", \"verita\", \"versus\", \"vet\", \"vet\", \"veteran\", \"veteran\", \"veteran\", \"veteran\", \"view\", \"view\", \"view\", \"view\", \"view\", \"view\", \"view\", \"village\", \"virology\", \"virology\", \"virus\", \"virus\", \"virus\", \"virus\", \"virus\", \"virus\", \"virus\", \"virus\", \"virus\", \"virus\", \"vote\", \"vote\", \"vote\", \"vote\", \"vote\", \"vote\", \"vote\", \"vote\", \"vote\", \"vote\", \"walensky\", \"walgreen\", \"want\", \"want\", \"want\", \"want\", \"want\", \"want\", \"want\", \"want\", \"want\", \"want\", \"war\", \"war\", \"war\", \"war\", \"war\", \"war\", \"war\", \"war\", \"war\", \"warming\", \"warn\", \"warn\", \"warn\", \"warn\", \"warn\", \"warn\", \"warn\", \"warn\", \"warn\", \"warning\", \"warning\", \"warning\", \"warning\", \"waste\", \"waste\", \"waste\", \"wear\", \"wear\", \"wear\", \"wear\", \"wear\", \"wear\", \"wear\", \"wear\", \"wear\", \"wear\", \"web\", \"welcome\", \"welcome\", \"welcome\", \"welcome\", \"welcome\", \"welcome\", \"welcome\", \"welcome\", \"welcome\", \"welfare\", \"wellbeing\", \"whistleblower\", \"whistleblower\", \"whistleblower\", \"white\", \"white\", \"white\", \"white\", \"white\", \"white\", \"white\", \"white\", \"white\", \"white\", \"win\", \"win\", \"win\", \"win\", \"win\", \"win\", \"win\", \"win\", \"win\", \"win\", \"wipe\", \"witch\", \"woman\", \"woman\", \"woman\", \"woman\", \"woman\", \"woman\", \"woman\", \"woman\", \"woman\", \"woman\", \"women\", \"women\", \"women\", \"women\", \"women\", \"women\", \"work\", \"work\", \"work\", \"work\", \"work\", \"work\", \"work\", \"work\", \"work\", \"work\", \"worsen\", \"worship\", \"write\", \"write\", \"write\", \"write\", \"write\", \"write\", \"write\", \"write\", \"write\", \"write\", \"wuhan\", \"wuhan\", \"wuhan\", \"wuhan\", \"wuhan\", \"wuhan\", \"wuhan\", \"wuhan\", \"wwii\", \"y\", \"y\", \"y\", \"y\", \"y\", \"year\", \"year\", \"year\", \"year\", \"year\", \"year\", \"year\", \"year\", \"year\", \"year\", \"yellow\", \"york\", \"york\", \"york\", \"york\", \"york\", \"york\", \"york\", \"york\", \"yorker\", \"zinc\", \"zinc\", \"zinc\"]}, \"R\": 30, \"lambda.step\": 0.01, \"plot.opts\": {\"xlab\": \"PC1\", \"ylab\": \"PC2\"}, \"topic.order\": [1, 3, 4, 10, 7, 6, 2, 5, 9, 8]};\n\nfunction LDAvis_load_lib(url, callback){\n  var s = document.createElement('script');\n  s.src = url;\n  s.async = true;\n  s.onreadystatechange = s.onload = callback;\n  s.onerror = function(){console.warn(\"failed to load library \" + url);};\n  document.getElementsByTagName(\"head\")[0].appendChild(s);\n}\n\nif(typeof(LDAvis) !== \"undefined\"){\n   // already loaded: just create the visualization\n   !function(LDAvis){\n       new LDAvis(\"#\" + \"ldavis_el1131405949541317125440895552\", ldavis_el1131405949541317125440895552_data);\n   }(LDAvis);\n}else if(typeof define === \"function\" && define.amd){\n   // require.js is available: use it to load d3/LDAvis\n   require.config({paths: {d3: \"https://d3js.org/d3.v5\"}});\n   require([\"d3\"], function(d3){\n      window.d3 = d3;\n      LDAvis_load_lib(\"https://cdn.jsdelivr.net/gh/bmabey/pyLDAvis@3.3.1/pyLDAvis/js/ldavis.v3.0.0.js\", function(){\n        new LDAvis(\"#\" + \"ldavis_el1131405949541317125440895552\", ldavis_el1131405949541317125440895552_data);\n      });\n    });\n}else{\n    // require.js not available: dynamically load d3 & LDAvis\n    LDAvis_load_lib(\"https://d3js.org/d3.v5.js\", function(){\n         LDAvis_load_lib(\"https://cdn.jsdelivr.net/gh/bmabey/pyLDAvis@3.3.1/pyLDAvis/js/ldavis.v3.0.0.js\", function(){\n                 new LDAvis(\"#\" + \"ldavis_el1131405949541317125440895552\", ldavis_el1131405949541317125440895552_data);\n            })\n         });\n}\n</script>"
     },
     "metadata": {}
    }
   ]
  },
  {
   "cell_type": "markdown",
   "source": "## Unfinished Explorations",
   "metadata": {
    "tags": [],
    "is_collapsed": false,
    "cell_id": "00012-394b7f88-4673-487d-b538-8ad79a74cc73",
    "deepnote_cell_type": "text-cell-h2"
   }
  },
  {
   "cell_type": "markdown",
   "source": "Suspiciously common vector analysis",
   "metadata": {
    "tags": [],
    "cell_id": "00001-c7de2384-3161-4d1e-b99a-d22c424821ca",
    "deepnote_cell_type": "markdown"
   }
  },
  {
   "cell_type": "code",
   "metadata": {
    "tags": [],
    "cell_id": "00000-a3df4c07-b276-4e22-9db2-042c38ed8edc",
    "deepnote_to_be_reexecuted": true,
    "source_hash": "45dc19bf",
    "execution_start": 1633117164817,
    "execution_millis": 0,
    "deepnote_cell_type": "code"
   },
   "source": "# nums = '0.5165612 -0.2748843 0.23414916 -0.03353653 0.14822118 -0.2140591 -0.273715 0.31182715 -0.28392965 0.03833102 0.71412915 -0.12623966 0.01060359 -0.22177511 -0.48231328 0.29029948 0.19768755 0.23107074 -0.6973527 -0.02526714 -0.32837042 0.12478355 0.01376466 -0.16914183 0.3283727 -0.45044652 0.17814918 -0.49533963 0.1848702 -0.14078267 0.21354735 0.33570722 -0.16036382 -0.24869299 0.11315513 -0.35369763 -0.1663535 0.5083657 -0.04987437 0.4141711 0.10442343 0.41257355 -0.41149414 0.26209757 0.26663744 -0.21748962 0.08647469 -0.06590172 -0.24378727 -0.27255812 0.5440032 -0.27095118 -0.1553473 0.0673851 -0.03265667 -0.22625995 0.43378648 -0.0917755 0.10038939 0.04093109 0.349573 -0.41145465 0.2382577 -0.36835834 0.02527652 -0.21686192 -0.7478197 0.04894651 -0.07372946 0.07308427 0.12849472 0.21438135 -0.24230045 -0.23281254 -0.04018355 0.17432278 0.01564372 -0.08756901 -0.4357647 0.07869332 0.11019602 0.4734359 0.3662394 0.40063536 -0.2054153 -0.12328431 -0.03628931 -0.60807943 0.04818559 0.3079439 -0.5035178 0.02922824 0.45156133 -0.10860304 -0.133015 0.27818713'\n\nnums = '0.5165612 -0.2748843 0.23414916 -0.03353653 0.14822118 -0.2140591 -0.273715 0.31182715 -0.28392965 0.03833102 0.71412915 -0.12623966 0.01060359 -0.22177511 -0.48231328 0.29029948 0.19768755 0.23107074 -0.6973527 -0.02526714 -0.32837042 0.12478355 0.01376466 -0.16914183 0.3283727 -0.45044652 0.17814918 -0.49533963 0.1848702 -0.14078267 0.21354735 0.33570722 -0.16036382 -0.24869299 0.11315513 -0.35369763 -0.1663535 0.5083657 -0.04987437 0.4141711 0.10442343 0.41257355 -0.41149414 0.26209757 0.26663744 -0.21748962 0.08647469 -0.06590172 -0.24378727 -0.27255812 0.5440032 -0.27095118 -0.1553473 0.0673851 -0.03265667 -0.22625995 0.43378648 -0.0917755 0.10038939 0.04093109 0.349573 -0.41145465 0.2382577 -0.36835834 0.02527652 -0.21686192 -0.7478197 0.04894651 -0.07372946 0.07308427 0.12849472 0.21438135 -0.24230045 -0.23281254 -0.04018355 0.17432278 0.01564372 -0.08756901 -0.4357647 0.07869332 0.11019602 0.4734359 0.3662394 0.40063536 -0.2054153 -0.12328431 -0.03628931 -0.60807943 0.04818559 0.3079439 -0.5035178 0.02922824 0.45156133 -0.10860304 -0.133015 0.27818713'.split()\nnums = [float(x) for x in nums]",
   "execution_count": null,
   "outputs": []
  },
  {
   "cell_type": "code",
   "metadata": {
    "tags": [],
    "cell_id": "00002-d8e2e359-994e-425e-8fd0-0a94c68fb64e",
    "deepnote_to_be_reexecuted": true,
    "source_hash": "bb85a136",
    "execution_start": 1633117166666,
    "execution_millis": 0,
    "deepnote_cell_type": "code"
   },
   "source": "def my_helpful_vector_comparison(row):\n    try:\n        return np.allclose(row.vector, nums)\n    except:\n        return False",
   "execution_count": null,
   "outputs": []
  },
  {
   "cell_type": "code",
   "metadata": {
    "tags": [],
    "cell_id": "00003-899caa17-867c-4b44-92c1-a17f5a819a7a",
    "deepnote_to_be_reexecuted": true,
    "source_hash": "cf6dda86",
    "execution_start": 1633117168269,
    "execution_millis": 17,
    "deepnote_cell_type": "code"
   },
   "source": "suspicious_vector_mask = X_notes.apply(axis=1, func=my_helpful_vector_comparison)\nsuspicious_vector_mask",
   "execution_count": null,
   "outputs": [
    {
     "output_type": "error",
     "ename": "NameError",
     "evalue": "name 'X_notes' is not defined",
     "traceback": [
      "\u001b[0;31m---------------------------------------------------------------------------\u001b[0m",
      "\u001b[0;31mNameError\u001b[0m                                 Traceback (most recent call last)",
      "\u001b[0;32m/tmp/ipykernel_116/4214015393.py\u001b[0m in \u001b[0;36m<module>\u001b[0;34m\u001b[0m\n\u001b[0;32m----> 1\u001b[0;31m \u001b[0msuspicious_vector_mask\u001b[0m \u001b[0;34m=\u001b[0m \u001b[0mX_notes\u001b[0m\u001b[0;34m.\u001b[0m\u001b[0mapply\u001b[0m\u001b[0;34m(\u001b[0m\u001b[0maxis\u001b[0m\u001b[0;34m=\u001b[0m\u001b[0;36m1\u001b[0m\u001b[0;34m,\u001b[0m \u001b[0mfunc\u001b[0m\u001b[0;34m=\u001b[0m\u001b[0mmy_helpful_vector_comparison\u001b[0m\u001b[0;34m)\u001b[0m\u001b[0;34m\u001b[0m\u001b[0;34m\u001b[0m\u001b[0m\n\u001b[0m\u001b[1;32m      2\u001b[0m \u001b[0msuspicious_vector_mask\u001b[0m\u001b[0;34m\u001b[0m\u001b[0;34m\u001b[0m\u001b[0m\n",
      "\u001b[0;31mNameError\u001b[0m: name 'X_notes' is not defined"
     ]
    }
   ]
  },
  {
   "cell_type": "code",
   "metadata": {
    "tags": [],
    "cell_id": "00004-23376c05-9d03-4d86-8cb9-c33d391c3995",
    "deepnote_to_be_reexecuted": true,
    "source_hash": "23a2df22",
    "deepnote_cell_type": "code"
   },
   "source": "X_notes[suspicious_vector_mask]",
   "execution_count": null,
   "outputs": []
  },
  {
   "cell_type": "code",
   "metadata": {
    "tags": [],
    "cell_id": "00005-ee9f303a-1c98-42e0-8a5c-a1310dfbd70c",
    "deepnote_to_be_reexecuted": true,
    "source_hash": "9e7100df",
    "deepnote_cell_type": "code"
   },
   "source": "notes.merge(X_notes[suspicious_vector_mask], left_on='noteId', right_index=True)",
   "execution_count": null,
   "outputs": []
  },
  {
   "cell_type": "markdown",
   "source": "Look at empty tweets.\n",
   "metadata": {
    "tags": [],
    "cell_id": "00007-340b5d12-4e96-442b-8041-1e94c3665502",
    "deepnote_cell_type": "markdown"
   }
  },
  {
   "cell_type": "code",
   "metadata": {
    "tags": [],
    "cell_id": "00009-08c2a05a-a7cd-4c4c-a309-acfb1d638c29",
    "deepnote_to_be_reexecuted": true,
    "source_hash": "ba2ff95",
    "deepnote_cell_type": "code"
   },
   "source": "test = X_notes[X_notes['vector'].apply(lambda x: len(x) == 0)]",
   "execution_count": null,
   "outputs": []
  },
  {
   "cell_type": "code",
   "metadata": {
    "tags": [],
    "cell_id": "00008-9725ebb6-5ea4-4592-8aed-e2bf257f231b",
    "deepnote_to_be_reexecuted": true,
    "source_hash": "ac2d1ca8",
    "deepnote_cell_type": "code"
   },
   "source": "X_notes['vector'].apply(lambda x: len(x)).value_counts()",
   "execution_count": null,
   "outputs": []
  },
  {
   "cell_type": "code",
   "metadata": {
    "tags": [],
    "cell_id": "00007-a606d8f8-afc7-4a0a-993b-a6a485e30f3b",
    "deepnote_to_be_reexecuted": true,
    "source_hash": "2c91a834",
    "deepnote_cell_type": "code"
   },
   "source": "test.merge(notes, left_index=True, right_on='noteId')",
   "execution_count": null,
   "outputs": []
  },
  {
   "cell_type": "code",
   "metadata": {
    "tags": [],
    "cell_id": "00012-19e66f4a-b267-4430-9ef6-11744f9c8959",
    "deepnote_to_be_reexecuted": true,
    "source_hash": "f14d72df",
    "execution_start": 1632801512985,
    "execution_millis": 269,
    "deepnote_cell_type": "code"
   },
   "source": "import pandas as pd\nnotes = pd.read_csv('notes-2.tsv', sep=\"\\t\")\nratings = pd.read_csv('ratings-2.tsv', sep=\"\\t\")",
   "execution_count": null,
   "outputs": []
  },
  {
   "cell_type": "code",
   "metadata": {
    "tags": [],
    "cell_id": "00013-7dc01810-49bf-4ece-aaa1-59bd26a496a0",
    "deepnote_to_be_reexecuted": true,
    "source_hash": "1827ce95",
    "execution_start": 1632801735237,
    "execution_millis": 76,
    "deepnote_cell_type": "code"
   },
   "source": "ratings.head()\n",
   "execution_count": null,
   "outputs": [
    {
     "output_type": "execute_result",
     "execution_count": 18,
     "data": {
      "application/vnd.deepnote.dataframe.v2+json": {
       "row_count": 5,
       "column_count": 28,
       "columns": [
        {
         "name": "noteId",
         "dtype": "int64",
         "stats": {
          "unique_count": 1,
          "nan_count": 0,
          "min": "1352796878438424576",
          "max": "1352796878438424576",
          "histogram": null
         }
        },
        {
         "name": "participantId",
         "dtype": "object",
         "stats": {
          "unique_count": 5,
          "nan_count": 0,
          "categories": [
           {
            "name": "7585B8804A32416E91E51837F351F249",
            "count": 1
           },
           {
            "name": "7644DF3FD853416F0C96933CCC1BA9B7",
            "count": 1
           },
           {
            "name": "3 others",
            "count": 3
           }
          ]
         }
        },
        {
         "name": "createdAtMillis",
         "dtype": "int64",
         "stats": {
          "unique_count": 5,
          "nan_count": 0,
          "min": "1611388222120",
          "max": "1611852744990",
          "histogram": [
           {
            "bin_start": 1611388222120,
            "bin_end": 1611434674407,
            "count": 1
           },
           {
            "bin_start": 1611434674407,
            "bin_end": 1611481126694,
            "count": 0
           },
           {
            "bin_start": 1611481126694,
            "bin_end": 1611527578981,
            "count": 1
           },
           {
            "bin_start": 1611527578981,
            "bin_end": 1611574031268,
            "count": 0
           },
           {
            "bin_start": 1611574031268,
            "bin_end": 1611620483555,
            "count": 0
           },
           {
            "bin_start": 1611620483555,
            "bin_end": 1611666935842,
            "count": 0
           },
           {
            "bin_start": 1611666935842,
            "bin_end": 1611713388129,
            "count": 1
           },
           {
            "bin_start": 1611713388129,
            "bin_end": 1611759840416,
            "count": 0
           },
           {
            "bin_start": 1611759840416,
            "bin_end": 1611806292703,
            "count": 1
           },
           {
            "bin_start": 1611806292703,
            "bin_end": 1611852744990,
            "count": 1
           }
          ]
         }
        },
        {
         "name": "version",
         "dtype": "int64",
         "stats": {
          "unique_count": 1,
          "nan_count": 0,
          "min": "1",
          "max": "1",
          "histogram": [
           {
            "bin_start": 0.5,
            "bin_end": 0.6,
            "count": 0
           },
           {
            "bin_start": 0.6,
            "bin_end": 0.7,
            "count": 0
           },
           {
            "bin_start": 0.7,
            "bin_end": 0.8,
            "count": 0
           },
           {
            "bin_start": 0.8,
            "bin_end": 0.9,
            "count": 0
           },
           {
            "bin_start": 0.9,
            "bin_end": 1,
            "count": 0
           },
           {
            "bin_start": 1,
            "bin_end": 1.1,
            "count": 5
           },
           {
            "bin_start": 1.1,
            "bin_end": 1.2000000000000002,
            "count": 0
           },
           {
            "bin_start": 1.2000000000000002,
            "bin_end": 1.3,
            "count": 0
           },
           {
            "bin_start": 1.3,
            "bin_end": 1.4,
            "count": 0
           },
           {
            "bin_start": 1.4,
            "bin_end": 1.5,
            "count": 0
           }
          ]
         }
        },
        {
         "name": "agree",
         "dtype": "int64",
         "stats": {
          "unique_count": 2,
          "nan_count": 0,
          "min": "0",
          "max": "1",
          "histogram": [
           {
            "bin_start": 0,
            "bin_end": 0.1,
            "count": 1
           },
           {
            "bin_start": 0.1,
            "bin_end": 0.2,
            "count": 0
           },
           {
            "bin_start": 0.2,
            "bin_end": 0.30000000000000004,
            "count": 0
           },
           {
            "bin_start": 0.30000000000000004,
            "bin_end": 0.4,
            "count": 0
           },
           {
            "bin_start": 0.4,
            "bin_end": 0.5,
            "count": 0
           },
           {
            "bin_start": 0.5,
            "bin_end": 0.6000000000000001,
            "count": 0
           },
           {
            "bin_start": 0.6000000000000001,
            "bin_end": 0.7000000000000001,
            "count": 0
           },
           {
            "bin_start": 0.7000000000000001,
            "bin_end": 0.8,
            "count": 0
           },
           {
            "bin_start": 0.8,
            "bin_end": 0.9,
            "count": 0
           },
           {
            "bin_start": 0.9,
            "bin_end": 1,
            "count": 4
           }
          ]
         }
        },
        {
         "name": "disagree",
         "dtype": "int64",
         "stats": {
          "unique_count": 2,
          "nan_count": 0,
          "min": "0",
          "max": "1",
          "histogram": [
           {
            "bin_start": 0,
            "bin_end": 0.1,
            "count": 4
           },
           {
            "bin_start": 0.1,
            "bin_end": 0.2,
            "count": 0
           },
           {
            "bin_start": 0.2,
            "bin_end": 0.30000000000000004,
            "count": 0
           },
           {
            "bin_start": 0.30000000000000004,
            "bin_end": 0.4,
            "count": 0
           },
           {
            "bin_start": 0.4,
            "bin_end": 0.5,
            "count": 0
           },
           {
            "bin_start": 0.5,
            "bin_end": 0.6000000000000001,
            "count": 0
           },
           {
            "bin_start": 0.6000000000000001,
            "bin_end": 0.7000000000000001,
            "count": 0
           },
           {
            "bin_start": 0.7000000000000001,
            "bin_end": 0.8,
            "count": 0
           },
           {
            "bin_start": 0.8,
            "bin_end": 0.9,
            "count": 0
           },
           {
            "bin_start": 0.9,
            "bin_end": 1,
            "count": 1
           }
          ]
         }
        },
        {
         "name": "helpful",
         "dtype": "int64",
         "stats": {
          "unique_count": 2,
          "nan_count": 0,
          "min": "0",
          "max": "1",
          "histogram": [
           {
            "bin_start": 0,
            "bin_end": 0.1,
            "count": 2
           },
           {
            "bin_start": 0.1,
            "bin_end": 0.2,
            "count": 0
           },
           {
            "bin_start": 0.2,
            "bin_end": 0.30000000000000004,
            "count": 0
           },
           {
            "bin_start": 0.30000000000000004,
            "bin_end": 0.4,
            "count": 0
           },
           {
            "bin_start": 0.4,
            "bin_end": 0.5,
            "count": 0
           },
           {
            "bin_start": 0.5,
            "bin_end": 0.6000000000000001,
            "count": 0
           },
           {
            "bin_start": 0.6000000000000001,
            "bin_end": 0.7000000000000001,
            "count": 0
           },
           {
            "bin_start": 0.7000000000000001,
            "bin_end": 0.8,
            "count": 0
           },
           {
            "bin_start": 0.8,
            "bin_end": 0.9,
            "count": 0
           },
           {
            "bin_start": 0.9,
            "bin_end": 1,
            "count": 3
           }
          ]
         }
        },
        {
         "name": "notHelpful",
         "dtype": "int64",
         "stats": {
          "unique_count": 2,
          "nan_count": 0,
          "min": "0",
          "max": "1",
          "histogram": [
           {
            "bin_start": 0,
            "bin_end": 0.1,
            "count": 3
           },
           {
            "bin_start": 0.1,
            "bin_end": 0.2,
            "count": 0
           },
           {
            "bin_start": 0.2,
            "bin_end": 0.30000000000000004,
            "count": 0
           },
           {
            "bin_start": 0.30000000000000004,
            "bin_end": 0.4,
            "count": 0
           },
           {
            "bin_start": 0.4,
            "bin_end": 0.5,
            "count": 0
           },
           {
            "bin_start": 0.5,
            "bin_end": 0.6000000000000001,
            "count": 0
           },
           {
            "bin_start": 0.6000000000000001,
            "bin_end": 0.7000000000000001,
            "count": 0
           },
           {
            "bin_start": 0.7000000000000001,
            "bin_end": 0.8,
            "count": 0
           },
           {
            "bin_start": 0.8,
            "bin_end": 0.9,
            "count": 0
           },
           {
            "bin_start": 0.9,
            "bin_end": 1,
            "count": 2
           }
          ]
         }
        },
        {
         "name": "helpfulnessLevel",
         "dtype": "object",
         "stats": {
          "unique_count": 0,
          "nan_count": 5,
          "categories": [
           {
            "name": "Missing",
            "count": 5
           }
          ]
         }
        },
        {
         "name": "helpfulOther",
         "dtype": "int64",
         "stats": {
          "unique_count": 1,
          "nan_count": 0,
          "min": "0",
          "max": "0",
          "histogram": [
           {
            "bin_start": -0.5,
            "bin_end": -0.4,
            "count": 0
           },
           {
            "bin_start": -0.4,
            "bin_end": -0.3,
            "count": 0
           },
           {
            "bin_start": -0.3,
            "bin_end": -0.19999999999999996,
            "count": 0
           },
           {
            "bin_start": -0.19999999999999996,
            "bin_end": -0.09999999999999998,
            "count": 0
           },
           {
            "bin_start": -0.09999999999999998,
            "bin_end": 0,
            "count": 0
           },
           {
            "bin_start": 0,
            "bin_end": 0.10000000000000009,
            "count": 5
           },
           {
            "bin_start": 0.10000000000000009,
            "bin_end": 0.20000000000000007,
            "count": 0
           },
           {
            "bin_start": 0.20000000000000007,
            "bin_end": 0.30000000000000004,
            "count": 0
           },
           {
            "bin_start": 0.30000000000000004,
            "bin_end": 0.4,
            "count": 0
           },
           {
            "bin_start": 0.4,
            "bin_end": 0.5,
            "count": 0
           }
          ]
         }
        },
        {
         "name": "helpfulInformative",
         "dtype": "int64",
         "stats": {
          "unique_count": 2,
          "nan_count": 0,
          "min": "0",
          "max": "1",
          "histogram": [
           {
            "bin_start": 0,
            "bin_end": 0.1,
            "count": 2
           },
           {
            "bin_start": 0.1,
            "bin_end": 0.2,
            "count": 0
           },
           {
            "bin_start": 0.2,
            "bin_end": 0.30000000000000004,
            "count": 0
           },
           {
            "bin_start": 0.30000000000000004,
            "bin_end": 0.4,
            "count": 0
           },
           {
            "bin_start": 0.4,
            "bin_end": 0.5,
            "count": 0
           },
           {
            "bin_start": 0.5,
            "bin_end": 0.6000000000000001,
            "count": 0
           },
           {
            "bin_start": 0.6000000000000001,
            "bin_end": 0.7000000000000001,
            "count": 0
           },
           {
            "bin_start": 0.7000000000000001,
            "bin_end": 0.8,
            "count": 0
           },
           {
            "bin_start": 0.8,
            "bin_end": 0.9,
            "count": 0
           },
           {
            "bin_start": 0.9,
            "bin_end": 1,
            "count": 3
           }
          ]
         }
        },
        {
         "name": "helpfulClear",
         "dtype": "int64",
         "stats": {
          "unique_count": 2,
          "nan_count": 0,
          "min": "0",
          "max": "1",
          "histogram": [
           {
            "bin_start": 0,
            "bin_end": 0.1,
            "count": 3
           },
           {
            "bin_start": 0.1,
            "bin_end": 0.2,
            "count": 0
           },
           {
            "bin_start": 0.2,
            "bin_end": 0.30000000000000004,
            "count": 0
           },
           {
            "bin_start": 0.30000000000000004,
            "bin_end": 0.4,
            "count": 0
           },
           {
            "bin_start": 0.4,
            "bin_end": 0.5,
            "count": 0
           },
           {
            "bin_start": 0.5,
            "bin_end": 0.6000000000000001,
            "count": 0
           },
           {
            "bin_start": 0.6000000000000001,
            "bin_end": 0.7000000000000001,
            "count": 0
           },
           {
            "bin_start": 0.7000000000000001,
            "bin_end": 0.8,
            "count": 0
           },
           {
            "bin_start": 0.8,
            "bin_end": 0.9,
            "count": 0
           },
           {
            "bin_start": 0.9,
            "bin_end": 1,
            "count": 2
           }
          ]
         }
        },
        {
         "name": "helpfulEmpathetic",
         "dtype": "int64",
         "stats": {
          "unique_count": 2,
          "nan_count": 0,
          "min": "0",
          "max": "1",
          "histogram": [
           {
            "bin_start": 0,
            "bin_end": 0.1,
            "count": 3
           },
           {
            "bin_start": 0.1,
            "bin_end": 0.2,
            "count": 0
           },
           {
            "bin_start": 0.2,
            "bin_end": 0.30000000000000004,
            "count": 0
           },
           {
            "bin_start": 0.30000000000000004,
            "bin_end": 0.4,
            "count": 0
           },
           {
            "bin_start": 0.4,
            "bin_end": 0.5,
            "count": 0
           },
           {
            "bin_start": 0.5,
            "bin_end": 0.6000000000000001,
            "count": 0
           },
           {
            "bin_start": 0.6000000000000001,
            "bin_end": 0.7000000000000001,
            "count": 0
           },
           {
            "bin_start": 0.7000000000000001,
            "bin_end": 0.8,
            "count": 0
           },
           {
            "bin_start": 0.8,
            "bin_end": 0.9,
            "count": 0
           },
           {
            "bin_start": 0.9,
            "bin_end": 1,
            "count": 2
           }
          ]
         }
        },
        {
         "name": "helpfulGoodSources",
         "dtype": "int64",
         "stats": {
          "unique_count": 2,
          "nan_count": 0,
          "min": "0",
          "max": "1",
          "histogram": [
           {
            "bin_start": 0,
            "bin_end": 0.1,
            "count": 4
           },
           {
            "bin_start": 0.1,
            "bin_end": 0.2,
            "count": 0
           },
           {
            "bin_start": 0.2,
            "bin_end": 0.30000000000000004,
            "count": 0
           },
           {
            "bin_start": 0.30000000000000004,
            "bin_end": 0.4,
            "count": 0
           },
           {
            "bin_start": 0.4,
            "bin_end": 0.5,
            "count": 0
           },
           {
            "bin_start": 0.5,
            "bin_end": 0.6000000000000001,
            "count": 0
           },
           {
            "bin_start": 0.6000000000000001,
            "bin_end": 0.7000000000000001,
            "count": 0
           },
           {
            "bin_start": 0.7000000000000001,
            "bin_end": 0.8,
            "count": 0
           },
           {
            "bin_start": 0.8,
            "bin_end": 0.9,
            "count": 0
           },
           {
            "bin_start": 0.9,
            "bin_end": 1,
            "count": 1
           }
          ]
         }
        },
        {
         "name": "helpfulUniqueContext",
         "dtype": "int64",
         "stats": {
          "unique_count": 1,
          "nan_count": 0,
          "min": "0",
          "max": "0",
          "histogram": [
           {
            "bin_start": -0.5,
            "bin_end": -0.4,
            "count": 0
           },
           {
            "bin_start": -0.4,
            "bin_end": -0.3,
            "count": 0
           },
           {
            "bin_start": -0.3,
            "bin_end": -0.19999999999999996,
            "count": 0
           },
           {
            "bin_start": -0.19999999999999996,
            "bin_end": -0.09999999999999998,
            "count": 0
           },
           {
            "bin_start": -0.09999999999999998,
            "bin_end": 0,
            "count": 0
           },
           {
            "bin_start": 0,
            "bin_end": 0.10000000000000009,
            "count": 5
           },
           {
            "bin_start": 0.10000000000000009,
            "bin_end": 0.20000000000000007,
            "count": 0
           },
           {
            "bin_start": 0.20000000000000007,
            "bin_end": 0.30000000000000004,
            "count": 0
           },
           {
            "bin_start": 0.30000000000000004,
            "bin_end": 0.4,
            "count": 0
           },
           {
            "bin_start": 0.4,
            "bin_end": 0.5,
            "count": 0
           }
          ]
         }
        },
        {
         "name": "helpfulAddressesClaim",
         "dtype": "int64",
         "stats": {
          "unique_count": 1,
          "nan_count": 0,
          "min": "0",
          "max": "0",
          "histogram": [
           {
            "bin_start": -0.5,
            "bin_end": -0.4,
            "count": 0
           },
           {
            "bin_start": -0.4,
            "bin_end": -0.3,
            "count": 0
           },
           {
            "bin_start": -0.3,
            "bin_end": -0.19999999999999996,
            "count": 0
           },
           {
            "bin_start": -0.19999999999999996,
            "bin_end": -0.09999999999999998,
            "count": 0
           },
           {
            "bin_start": -0.09999999999999998,
            "bin_end": 0,
            "count": 0
           },
           {
            "bin_start": 0,
            "bin_end": 0.10000000000000009,
            "count": 5
           },
           {
            "bin_start": 0.10000000000000009,
            "bin_end": 0.20000000000000007,
            "count": 0
           },
           {
            "bin_start": 0.20000000000000007,
            "bin_end": 0.30000000000000004,
            "count": 0
           },
           {
            "bin_start": 0.30000000000000004,
            "bin_end": 0.4,
            "count": 0
           },
           {
            "bin_start": 0.4,
            "bin_end": 0.5,
            "count": 0
           }
          ]
         }
        },
        {
         "name": "helpfulImportantContext",
         "dtype": "int64",
         "stats": {
          "unique_count": 1,
          "nan_count": 0,
          "min": "0",
          "max": "0",
          "histogram": [
           {
            "bin_start": -0.5,
            "bin_end": -0.4,
            "count": 0
           },
           {
            "bin_start": -0.4,
            "bin_end": -0.3,
            "count": 0
           },
           {
            "bin_start": -0.3,
            "bin_end": -0.19999999999999996,
            "count": 0
           },
           {
            "bin_start": -0.19999999999999996,
            "bin_end": -0.09999999999999998,
            "count": 0
           },
           {
            "bin_start": -0.09999999999999998,
            "bin_end": 0,
            "count": 0
           },
           {
            "bin_start": 0,
            "bin_end": 0.10000000000000009,
            "count": 5
           },
           {
            "bin_start": 0.10000000000000009,
            "bin_end": 0.20000000000000007,
            "count": 0
           },
           {
            "bin_start": 0.20000000000000007,
            "bin_end": 0.30000000000000004,
            "count": 0
           },
           {
            "bin_start": 0.30000000000000004,
            "bin_end": 0.4,
            "count": 0
           },
           {
            "bin_start": 0.4,
            "bin_end": 0.5,
            "count": 0
           }
          ]
         }
        },
        {
         "name": "notHelpfulOther",
         "dtype": "int64",
         "stats": {
          "unique_count": 2,
          "nan_count": 0,
          "min": "0",
          "max": "1",
          "histogram": [
           {
            "bin_start": 0,
            "bin_end": 0.1,
            "count": 4
           },
           {
            "bin_start": 0.1,
            "bin_end": 0.2,
            "count": 0
           },
           {
            "bin_start": 0.2,
            "bin_end": 0.30000000000000004,
            "count": 0
           },
           {
            "bin_start": 0.30000000000000004,
            "bin_end": 0.4,
            "count": 0
           },
           {
            "bin_start": 0.4,
            "bin_end": 0.5,
            "count": 0
           },
           {
            "bin_start": 0.5,
            "bin_end": 0.6000000000000001,
            "count": 0
           },
           {
            "bin_start": 0.6000000000000001,
            "bin_end": 0.7000000000000001,
            "count": 0
           },
           {
            "bin_start": 0.7000000000000001,
            "bin_end": 0.8,
            "count": 0
           },
           {
            "bin_start": 0.8,
            "bin_end": 0.9,
            "count": 0
           },
           {
            "bin_start": 0.9,
            "bin_end": 1,
            "count": 1
           }
          ]
         }
        },
        {
         "name": "notHelpfulIncorrect",
         "dtype": "int64",
         "stats": {
          "unique_count": 1,
          "nan_count": 0,
          "min": "0",
          "max": "0",
          "histogram": [
           {
            "bin_start": -0.5,
            "bin_end": -0.4,
            "count": 0
           },
           {
            "bin_start": -0.4,
            "bin_end": -0.3,
            "count": 0
           },
           {
            "bin_start": -0.3,
            "bin_end": -0.19999999999999996,
            "count": 0
           },
           {
            "bin_start": -0.19999999999999996,
            "bin_end": -0.09999999999999998,
            "count": 0
           },
           {
            "bin_start": -0.09999999999999998,
            "bin_end": 0,
            "count": 0
           },
           {
            "bin_start": 0,
            "bin_end": 0.10000000000000009,
            "count": 5
           },
           {
            "bin_start": 0.10000000000000009,
            "bin_end": 0.20000000000000007,
            "count": 0
           },
           {
            "bin_start": 0.20000000000000007,
            "bin_end": 0.30000000000000004,
            "count": 0
           },
           {
            "bin_start": 0.30000000000000004,
            "bin_end": 0.4,
            "count": 0
           },
           {
            "bin_start": 0.4,
            "bin_end": 0.5,
            "count": 0
           }
          ]
         }
        },
        {
         "name": "notHelpfulSourcesMissingOrUnreliable",
         "dtype": "int64",
         "stats": {
          "unique_count": 2,
          "nan_count": 0,
          "min": "0",
          "max": "1",
          "histogram": [
           {
            "bin_start": 0,
            "bin_end": 0.1,
            "count": 4
           },
           {
            "bin_start": 0.1,
            "bin_end": 0.2,
            "count": 0
           },
           {
            "bin_start": 0.2,
            "bin_end": 0.30000000000000004,
            "count": 0
           },
           {
            "bin_start": 0.30000000000000004,
            "bin_end": 0.4,
            "count": 0
           },
           {
            "bin_start": 0.4,
            "bin_end": 0.5,
            "count": 0
           },
           {
            "bin_start": 0.5,
            "bin_end": 0.6000000000000001,
            "count": 0
           },
           {
            "bin_start": 0.6000000000000001,
            "bin_end": 0.7000000000000001,
            "count": 0
           },
           {
            "bin_start": 0.7000000000000001,
            "bin_end": 0.8,
            "count": 0
           },
           {
            "bin_start": 0.8,
            "bin_end": 0.9,
            "count": 0
           },
           {
            "bin_start": 0.9,
            "bin_end": 1,
            "count": 1
           }
          ]
         }
        },
        {
         "name": "notHelpfulOpinionSpeculationOrBias",
         "dtype": "int64",
         "stats": {
          "unique_count": 1,
          "nan_count": 0,
          "min": "0",
          "max": "0",
          "histogram": [
           {
            "bin_start": -0.5,
            "bin_end": -0.4,
            "count": 0
           },
           {
            "bin_start": -0.4,
            "bin_end": -0.3,
            "count": 0
           },
           {
            "bin_start": -0.3,
            "bin_end": -0.19999999999999996,
            "count": 0
           },
           {
            "bin_start": -0.19999999999999996,
            "bin_end": -0.09999999999999998,
            "count": 0
           },
           {
            "bin_start": -0.09999999999999998,
            "bin_end": 0,
            "count": 0
           },
           {
            "bin_start": 0,
            "bin_end": 0.10000000000000009,
            "count": 5
           },
           {
            "bin_start": 0.10000000000000009,
            "bin_end": 0.20000000000000007,
            "count": 0
           },
           {
            "bin_start": 0.20000000000000007,
            "bin_end": 0.30000000000000004,
            "count": 0
           },
           {
            "bin_start": 0.30000000000000004,
            "bin_end": 0.4,
            "count": 0
           },
           {
            "bin_start": 0.4,
            "bin_end": 0.5,
            "count": 0
           }
          ]
         }
        },
        {
         "name": "notHelpfulMissingKeyPoints",
         "dtype": "int64",
         "stats": {
          "unique_count": 1,
          "nan_count": 0,
          "min": "0",
          "max": "0",
          "histogram": [
           {
            "bin_start": -0.5,
            "bin_end": -0.4,
            "count": 0
           },
           {
            "bin_start": -0.4,
            "bin_end": -0.3,
            "count": 0
           },
           {
            "bin_start": -0.3,
            "bin_end": -0.19999999999999996,
            "count": 0
           },
           {
            "bin_start": -0.19999999999999996,
            "bin_end": -0.09999999999999998,
            "count": 0
           },
           {
            "bin_start": -0.09999999999999998,
            "bin_end": 0,
            "count": 0
           },
           {
            "bin_start": 0,
            "bin_end": 0.10000000000000009,
            "count": 5
           },
           {
            "bin_start": 0.10000000000000009,
            "bin_end": 0.20000000000000007,
            "count": 0
           },
           {
            "bin_start": 0.20000000000000007,
            "bin_end": 0.30000000000000004,
            "count": 0
           },
           {
            "bin_start": 0.30000000000000004,
            "bin_end": 0.4,
            "count": 0
           },
           {
            "bin_start": 0.4,
            "bin_end": 0.5,
            "count": 0
           }
          ]
         }
        },
        {
         "name": "notHelpfulOutdated",
         "dtype": "int64",
         "stats": {
          "unique_count": 1,
          "nan_count": 0,
          "min": "0",
          "max": "0",
          "histogram": [
           {
            "bin_start": -0.5,
            "bin_end": -0.4,
            "count": 0
           },
           {
            "bin_start": -0.4,
            "bin_end": -0.3,
            "count": 0
           },
           {
            "bin_start": -0.3,
            "bin_end": -0.19999999999999996,
            "count": 0
           },
           {
            "bin_start": -0.19999999999999996,
            "bin_end": -0.09999999999999998,
            "count": 0
           },
           {
            "bin_start": -0.09999999999999998,
            "bin_end": 0,
            "count": 0
           },
           {
            "bin_start": 0,
            "bin_end": 0.10000000000000009,
            "count": 5
           },
           {
            "bin_start": 0.10000000000000009,
            "bin_end": 0.20000000000000007,
            "count": 0
           },
           {
            "bin_start": 0.20000000000000007,
            "bin_end": 0.30000000000000004,
            "count": 0
           },
           {
            "bin_start": 0.30000000000000004,
            "bin_end": 0.4,
            "count": 0
           },
           {
            "bin_start": 0.4,
            "bin_end": 0.5,
            "count": 0
           }
          ]
         }
        },
        {
         "name": "notHelpfulHardToUnderstand",
         "dtype": "int64",
         "stats": {
          "unique_count": 1,
          "nan_count": 0,
          "min": "0",
          "max": "0",
          "histogram": [
           {
            "bin_start": -0.5,
            "bin_end": -0.4,
            "count": 0
           },
           {
            "bin_start": -0.4,
            "bin_end": -0.3,
            "count": 0
           },
           {
            "bin_start": -0.3,
            "bin_end": -0.19999999999999996,
            "count": 0
           },
           {
            "bin_start": -0.19999999999999996,
            "bin_end": -0.09999999999999998,
            "count": 0
           },
           {
            "bin_start": -0.09999999999999998,
            "bin_end": 0,
            "count": 0
           },
           {
            "bin_start": 0,
            "bin_end": 0.10000000000000009,
            "count": 5
           },
           {
            "bin_start": 0.10000000000000009,
            "bin_end": 0.20000000000000007,
            "count": 0
           },
           {
            "bin_start": 0.20000000000000007,
            "bin_end": 0.30000000000000004,
            "count": 0
           },
           {
            "bin_start": 0.30000000000000004,
            "bin_end": 0.4,
            "count": 0
           },
           {
            "bin_start": 0.4,
            "bin_end": 0.5,
            "count": 0
           }
          ]
         }
        },
        {
         "name": "notHelpfulArgumentativeOrInflammatory",
         "dtype": "int64",
         "stats": {
          "unique_count": 1,
          "nan_count": 0,
          "min": "0",
          "max": "0",
          "histogram": [
           {
            "bin_start": -0.5,
            "bin_end": -0.4,
            "count": 0
           },
           {
            "bin_start": -0.4,
            "bin_end": -0.3,
            "count": 0
           },
           {
            "bin_start": -0.3,
            "bin_end": -0.19999999999999996,
            "count": 0
           },
           {
            "bin_start": -0.19999999999999996,
            "bin_end": -0.09999999999999998,
            "count": 0
           },
           {
            "bin_start": -0.09999999999999998,
            "bin_end": 0,
            "count": 0
           },
           {
            "bin_start": 0,
            "bin_end": 0.10000000000000009,
            "count": 5
           },
           {
            "bin_start": 0.10000000000000009,
            "bin_end": 0.20000000000000007,
            "count": 0
           },
           {
            "bin_start": 0.20000000000000007,
            "bin_end": 0.30000000000000004,
            "count": 0
           },
           {
            "bin_start": 0.30000000000000004,
            "bin_end": 0.4,
            "count": 0
           },
           {
            "bin_start": 0.4,
            "bin_end": 0.5,
            "count": 0
           }
          ]
         }
        },
        {
         "name": "notHelpfulOffTopic",
         "dtype": "int64",
         "stats": {
          "unique_count": 1,
          "nan_count": 0,
          "min": "0",
          "max": "0",
          "histogram": [
           {
            "bin_start": -0.5,
            "bin_end": -0.4,
            "count": 0
           },
           {
            "bin_start": -0.4,
            "bin_end": -0.3,
            "count": 0
           },
           {
            "bin_start": -0.3,
            "bin_end": -0.19999999999999996,
            "count": 0
           },
           {
            "bin_start": -0.19999999999999996,
            "bin_end": -0.09999999999999998,
            "count": 0
           },
           {
            "bin_start": -0.09999999999999998,
            "bin_end": 0,
            "count": 0
           },
           {
            "bin_start": 0,
            "bin_end": 0.10000000000000009,
            "count": 5
           },
           {
            "bin_start": 0.10000000000000009,
            "bin_end": 0.20000000000000007,
            "count": 0
           },
           {
            "bin_start": 0.20000000000000007,
            "bin_end": 0.30000000000000004,
            "count": 0
           },
           {
            "bin_start": 0.30000000000000004,
            "bin_end": 0.4,
            "count": 0
           },
           {
            "bin_start": 0.4,
            "bin_end": 0.5,
            "count": 0
           }
          ]
         }
        },
        {
         "name": "notHelpfulSpamHarassmentOrAbuse",
         "dtype": "int64",
         "stats": {
          "unique_count": 2,
          "nan_count": 0,
          "min": "0",
          "max": "1",
          "histogram": [
           {
            "bin_start": 0,
            "bin_end": 0.1,
            "count": 4
           },
           {
            "bin_start": 0.1,
            "bin_end": 0.2,
            "count": 0
           },
           {
            "bin_start": 0.2,
            "bin_end": 0.30000000000000004,
            "count": 0
           },
           {
            "bin_start": 0.30000000000000004,
            "bin_end": 0.4,
            "count": 0
           },
           {
            "bin_start": 0.4,
            "bin_end": 0.5,
            "count": 0
           },
           {
            "bin_start": 0.5,
            "bin_end": 0.6000000000000001,
            "count": 0
           },
           {
            "bin_start": 0.6000000000000001,
            "bin_end": 0.7000000000000001,
            "count": 0
           },
           {
            "bin_start": 0.7000000000000001,
            "bin_end": 0.8,
            "count": 0
           },
           {
            "bin_start": 0.8,
            "bin_end": 0.9,
            "count": 0
           },
           {
            "bin_start": 0.9,
            "bin_end": 1,
            "count": 1
           }
          ]
         }
        },
        {
         "name": "notHelpfulIrrelevantSources",
         "dtype": "int64",
         "stats": {
          "unique_count": 1,
          "nan_count": 0,
          "min": "0",
          "max": "0",
          "histogram": [
           {
            "bin_start": -0.5,
            "bin_end": -0.4,
            "count": 0
           },
           {
            "bin_start": -0.4,
            "bin_end": -0.3,
            "count": 0
           },
           {
            "bin_start": -0.3,
            "bin_end": -0.19999999999999996,
            "count": 0
           },
           {
            "bin_start": -0.19999999999999996,
            "bin_end": -0.09999999999999998,
            "count": 0
           },
           {
            "bin_start": -0.09999999999999998,
            "bin_end": 0,
            "count": 0
           },
           {
            "bin_start": 0,
            "bin_end": 0.10000000000000009,
            "count": 5
           },
           {
            "bin_start": 0.10000000000000009,
            "bin_end": 0.20000000000000007,
            "count": 0
           },
           {
            "bin_start": 0.20000000000000007,
            "bin_end": 0.30000000000000004,
            "count": 0
           },
           {
            "bin_start": 0.30000000000000004,
            "bin_end": 0.4,
            "count": 0
           },
           {
            "bin_start": 0.4,
            "bin_end": 0.5,
            "count": 0
           }
          ]
         }
        },
        {
         "name": "_deepnote_index_column",
         "dtype": "int64"
        }
       ],
       "rows_top": [
        {
         "noteId": 1352796878438424600,
         "participantId": "7585B8804A32416E91E51837F351F249",
         "createdAtMillis": 1611388222120,
         "version": 1,
         "agree": 1,
         "disagree": 0,
         "helpful": 1,
         "notHelpful": 0,
         "helpfulnessLevel": "nan",
         "helpfulOther": 0,
         "helpfulInformative": 1,
         "helpfulClear": 0,
         "helpfulEmpathetic": 1,
         "helpfulGoodSources": 1,
         "helpfulUniqueContext": 0,
         "helpfulAddressesClaim": 0,
         "helpfulImportantContext": 0,
         "notHelpfulOther": 0,
         "notHelpfulIncorrect": 0,
         "notHelpfulSourcesMissingOrUnreliable": 0,
         "notHelpfulOpinionSpeculationOrBias": 0,
         "notHelpfulMissingKeyPoints": 0,
         "notHelpfulOutdated": 0,
         "notHelpfulHardToUnderstand": 0,
         "notHelpfulArgumentativeOrInflammatory": 0,
         "notHelpfulOffTopic": 0,
         "notHelpfulSpamHarassmentOrAbuse": 0,
         "notHelpfulIrrelevantSources": 0,
         "_deepnote_index_column": 0
        },
        {
         "noteId": 1352796878438424600,
         "participantId": "7644DF3FD853416F0C96933CCC1BA9B7",
         "createdAtMillis": 1611796572477,
         "version": 1,
         "agree": 0,
         "disagree": 1,
         "helpful": 0,
         "notHelpful": 1,
         "helpfulnessLevel": "nan",
         "helpfulOther": 0,
         "helpfulInformative": 0,
         "helpfulClear": 0,
         "helpfulEmpathetic": 0,
         "helpfulGoodSources": 0,
         "helpfulUniqueContext": 0,
         "helpfulAddressesClaim": 0,
         "helpfulImportantContext": 0,
         "notHelpfulOther": 1,
         "notHelpfulIncorrect": 0,
         "notHelpfulSourcesMissingOrUnreliable": 0,
         "notHelpfulOpinionSpeculationOrBias": 0,
         "notHelpfulMissingKeyPoints": 0,
         "notHelpfulOutdated": 0,
         "notHelpfulHardToUnderstand": 0,
         "notHelpfulArgumentativeOrInflammatory": 0,
         "notHelpfulOffTopic": 0,
         "notHelpfulSpamHarassmentOrAbuse": 1,
         "notHelpfulIrrelevantSources": 0,
         "_deepnote_index_column": 1
        },
        {
         "noteId": 1352796878438424600,
         "participantId": "EFD7E04E740224D2DDB42A2C910B62C1",
         "createdAtMillis": 1611852744990,
         "version": 1,
         "agree": 1,
         "disagree": 0,
         "helpful": 1,
         "notHelpful": 0,
         "helpfulnessLevel": "nan",
         "helpfulOther": 0,
         "helpfulInformative": 1,
         "helpfulClear": 1,
         "helpfulEmpathetic": 0,
         "helpfulGoodSources": 0,
         "helpfulUniqueContext": 0,
         "helpfulAddressesClaim": 0,
         "helpfulImportantContext": 0,
         "notHelpfulOther": 0,
         "notHelpfulIncorrect": 0,
         "notHelpfulSourcesMissingOrUnreliable": 0,
         "notHelpfulOpinionSpeculationOrBias": 0,
         "notHelpfulMissingKeyPoints": 0,
         "notHelpfulOutdated": 0,
         "notHelpfulHardToUnderstand": 0,
         "notHelpfulArgumentativeOrInflammatory": 0,
         "notHelpfulOffTopic": 0,
         "notHelpfulSpamHarassmentOrAbuse": 0,
         "notHelpfulIrrelevantSources": 0,
         "_deepnote_index_column": 2
        },
        {
         "noteId": 1352796878438424600,
         "participantId": "3C9A15EEA8FD238754BE28C15B26709A",
         "createdAtMillis": 1611673955881,
         "version": 1,
         "agree": 1,
         "disagree": 0,
         "helpful": 0,
         "notHelpful": 1,
         "helpfulnessLevel": "nan",
         "helpfulOther": 0,
         "helpfulInformative": 0,
         "helpfulClear": 0,
         "helpfulEmpathetic": 0,
         "helpfulGoodSources": 0,
         "helpfulUniqueContext": 0,
         "helpfulAddressesClaim": 0,
         "helpfulImportantContext": 0,
         "notHelpfulOther": 0,
         "notHelpfulIncorrect": 0,
         "notHelpfulSourcesMissingOrUnreliable": 1,
         "notHelpfulOpinionSpeculationOrBias": 0,
         "notHelpfulMissingKeyPoints": 0,
         "notHelpfulOutdated": 0,
         "notHelpfulHardToUnderstand": 0,
         "notHelpfulArgumentativeOrInflammatory": 0,
         "notHelpfulOffTopic": 0,
         "notHelpfulSpamHarassmentOrAbuse": 0,
         "notHelpfulIrrelevantSources": 0,
         "_deepnote_index_column": 3
        },
        {
         "noteId": 1352796878438424600,
         "participantId": "0466BA47B23AAAB301AA767C4C780E8D",
         "createdAtMillis": 1611523319844,
         "version": 1,
         "agree": 1,
         "disagree": 0,
         "helpful": 1,
         "notHelpful": 0,
         "helpfulnessLevel": "nan",
         "helpfulOther": 0,
         "helpfulInformative": 1,
         "helpfulClear": 1,
         "helpfulEmpathetic": 1,
         "helpfulGoodSources": 0,
         "helpfulUniqueContext": 0,
         "helpfulAddressesClaim": 0,
         "helpfulImportantContext": 0,
         "notHelpfulOther": 0,
         "notHelpfulIncorrect": 0,
         "notHelpfulSourcesMissingOrUnreliable": 0,
         "notHelpfulOpinionSpeculationOrBias": 0,
         "notHelpfulMissingKeyPoints": 0,
         "notHelpfulOutdated": 0,
         "notHelpfulHardToUnderstand": 0,
         "notHelpfulArgumentativeOrInflammatory": 0,
         "notHelpfulOffTopic": 0,
         "notHelpfulSpamHarassmentOrAbuse": 0,
         "notHelpfulIrrelevantSources": 0,
         "_deepnote_index_column": 4
        }
       ],
       "rows_bottom": null
      },
      "text/plain": "                noteId                     participantId  createdAtMillis  \\\n0  1352796878438424576  7585B8804A32416E91E51837F351F249    1611388222120   \n1  1352796878438424576  7644DF3FD853416F0C96933CCC1BA9B7    1611796572477   \n2  1352796878438424576  EFD7E04E740224D2DDB42A2C910B62C1    1611852744990   \n3  1352796878438424576  3C9A15EEA8FD238754BE28C15B26709A    1611673955881   \n4  1352796878438424576  0466BA47B23AAAB301AA767C4C780E8D    1611523319844   \n\n   version  agree  disagree  helpful  notHelpful helpfulnessLevel  \\\n0        1      1         0        1           0              NaN   \n1        1      0         1        0           1              NaN   \n2        1      1         0        1           0              NaN   \n3        1      1         0        0           1              NaN   \n4        1      1         0        1           0              NaN   \n\n   helpfulOther  ...  notHelpfulIncorrect  \\\n0             0  ...                    0   \n1             0  ...                    0   \n2             0  ...                    0   \n3             0  ...                    0   \n4             0  ...                    0   \n\n   notHelpfulSourcesMissingOrUnreliable  notHelpfulOpinionSpeculationOrBias  \\\n0                                     0                                   0   \n1                                     0                                   0   \n2                                     0                                   0   \n3                                     1                                   0   \n4                                     0                                   0   \n\n   notHelpfulMissingKeyPoints  notHelpfulOutdated  notHelpfulHardToUnderstand  \\\n0                           0                   0                           0   \n1                           0                   0                           0   \n2                           0                   0                           0   \n3                           0                   0                           0   \n4                           0                   0                           0   \n\n   notHelpfulArgumentativeOrInflammatory  notHelpfulOffTopic  \\\n0                                      0                   0   \n1                                      0                   0   \n2                                      0                   0   \n3                                      0                   0   \n4                                      0                   0   \n\n   notHelpfulSpamHarassmentOrAbuse  notHelpfulIrrelevantSources  \n0                                0                            0  \n1                                1                            0  \n2                                0                            0  \n3                                0                            0  \n4                                0                            0  \n\n[5 rows x 28 columns]",
      "text/html": "<div>\n<style scoped>\n    .dataframe tbody tr th:only-of-type {\n        vertical-align: middle;\n    }\n\n    .dataframe tbody tr th {\n        vertical-align: top;\n    }\n\n    .dataframe thead th {\n        text-align: right;\n    }\n</style>\n<table border=\"1\" class=\"dataframe\">\n  <thead>\n    <tr style=\"text-align: right;\">\n      <th></th>\n      <th>noteId</th>\n      <th>participantId</th>\n      <th>createdAtMillis</th>\n      <th>version</th>\n      <th>agree</th>\n      <th>disagree</th>\n      <th>helpful</th>\n      <th>notHelpful</th>\n      <th>helpfulnessLevel</th>\n      <th>helpfulOther</th>\n      <th>...</th>\n      <th>notHelpfulIncorrect</th>\n      <th>notHelpfulSourcesMissingOrUnreliable</th>\n      <th>notHelpfulOpinionSpeculationOrBias</th>\n      <th>notHelpfulMissingKeyPoints</th>\n      <th>notHelpfulOutdated</th>\n      <th>notHelpfulHardToUnderstand</th>\n      <th>notHelpfulArgumentativeOrInflammatory</th>\n      <th>notHelpfulOffTopic</th>\n      <th>notHelpfulSpamHarassmentOrAbuse</th>\n      <th>notHelpfulIrrelevantSources</th>\n    </tr>\n  </thead>\n  <tbody>\n    <tr>\n      <th>0</th>\n      <td>1352796878438424576</td>\n      <td>7585B8804A32416E91E51837F351F249</td>\n      <td>1611388222120</td>\n      <td>1</td>\n      <td>1</td>\n      <td>0</td>\n      <td>1</td>\n      <td>0</td>\n      <td>NaN</td>\n      <td>0</td>\n      <td>...</td>\n      <td>0</td>\n      <td>0</td>\n      <td>0</td>\n      <td>0</td>\n      <td>0</td>\n      <td>0</td>\n      <td>0</td>\n      <td>0</td>\n      <td>0</td>\n      <td>0</td>\n    </tr>\n    <tr>\n      <th>1</th>\n      <td>1352796878438424576</td>\n      <td>7644DF3FD853416F0C96933CCC1BA9B7</td>\n      <td>1611796572477</td>\n      <td>1</td>\n      <td>0</td>\n      <td>1</td>\n      <td>0</td>\n      <td>1</td>\n      <td>NaN</td>\n      <td>0</td>\n      <td>...</td>\n      <td>0</td>\n      <td>0</td>\n      <td>0</td>\n      <td>0</td>\n      <td>0</td>\n      <td>0</td>\n      <td>0</td>\n      <td>0</td>\n      <td>1</td>\n      <td>0</td>\n    </tr>\n    <tr>\n      <th>2</th>\n      <td>1352796878438424576</td>\n      <td>EFD7E04E740224D2DDB42A2C910B62C1</td>\n      <td>1611852744990</td>\n      <td>1</td>\n      <td>1</td>\n      <td>0</td>\n      <td>1</td>\n      <td>0</td>\n      <td>NaN</td>\n      <td>0</td>\n      <td>...</td>\n      <td>0</td>\n      <td>0</td>\n      <td>0</td>\n      <td>0</td>\n      <td>0</td>\n      <td>0</td>\n      <td>0</td>\n      <td>0</td>\n      <td>0</td>\n      <td>0</td>\n    </tr>\n    <tr>\n      <th>3</th>\n      <td>1352796878438424576</td>\n      <td>3C9A15EEA8FD238754BE28C15B26709A</td>\n      <td>1611673955881</td>\n      <td>1</td>\n      <td>1</td>\n      <td>0</td>\n      <td>0</td>\n      <td>1</td>\n      <td>NaN</td>\n      <td>0</td>\n      <td>...</td>\n      <td>0</td>\n      <td>1</td>\n      <td>0</td>\n      <td>0</td>\n      <td>0</td>\n      <td>0</td>\n      <td>0</td>\n      <td>0</td>\n      <td>0</td>\n      <td>0</td>\n    </tr>\n    <tr>\n      <th>4</th>\n      <td>1352796878438424576</td>\n      <td>0466BA47B23AAAB301AA767C4C780E8D</td>\n      <td>1611523319844</td>\n      <td>1</td>\n      <td>1</td>\n      <td>0</td>\n      <td>1</td>\n      <td>0</td>\n      <td>NaN</td>\n      <td>0</td>\n      <td>...</td>\n      <td>0</td>\n      <td>0</td>\n      <td>0</td>\n      <td>0</td>\n      <td>0</td>\n      <td>0</td>\n      <td>0</td>\n      <td>0</td>\n      <td>0</td>\n      <td>0</td>\n    </tr>\n  </tbody>\n</table>\n<p>5 rows × 28 columns</p>\n</div>"
     },
     "metadata": {}
    }
   ]
  },
  {
   "cell_type": "markdown",
   "source": "<a style='text-decoration:none;line-height:16px;display:flex;color:#5B5B62;padding:10px;justify-content:end;' href='https://deepnote.com?utm_source=created-in-deepnote-cell&projectId=c0e62a2c-7f45-414e-8164-5bf51e09d482' target=\"_blank\">\n<img alt='Created in deepnote.com' style='display:inline;max-height:16px;margin:0px;margin-right:7.5px;' src='data:image/svg+xml;base64,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' > </img>\nCreated in <span style='font-weight:600;margin-left:4px;'>Deepnote</span></a>",
   "metadata": {
    "tags": [],
    "created_in_deepnote_cell": true,
    "deepnote_cell_type": "markdown"
   }
  }
 ],
 "nbformat": 4,
 "nbformat_minor": 2,
 "metadata": {
  "orig_nbformat": 2,
  "deepnote": {
   "is_reactive": false
  },
  "deepnote_notebook_id": "5abbe80f-41fd-43c9-b6af-e4d95ecd5d62",
  "deepnote_execution_queue": []
 }
}