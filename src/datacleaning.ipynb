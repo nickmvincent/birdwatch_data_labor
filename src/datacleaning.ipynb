{
 "cells": [
  {
   "cell_type": "markdown",
   "source": "## Import Libraries and Frameworks",
   "metadata": {
    "tags": [],
    "cell_id": "00001-d0dd8939-1770-457c-924a-ca5c92cd29e8",
    "is_collapsed": false,
    "deepnote_cell_type": "text-cell-h2"
   }
  },
  {
   "cell_type": "code",
   "metadata": {
    "tags": [],
    "cell_id": "00000-e3a21d4a-2f96-44d1-b331-eb64949afdef",
    "deepnote_to_be_reexecuted": false,
    "source_hash": "9dd8ca89",
    "execution_start": 1639019316869,
    "execution_millis": 15662,
    "deepnote_output_heights": [
     21.1875
    ],
    "deepnote_cell_type": "code"
   },
   "source": "import numpy as np\nimport matplotlib.pyplot as plt\nimport pandas as pd\nimport sklearn\nimport spacy\nimport pickle\n\nfrom textblob import TextBlob\nfrom spacytextblob.spacytextblob import SpacyTextBlob\nimport regex as re\nfrom spacy.lang.en.stop_words import STOP_WORDS\nfrom datetime import datetime\n\nnlp = spacy.load(\"en_core_web_sm\")\nnlp.add_pipe('spacytextblob')",
   "outputs": [
    {
     "output_type": "execute_result",
     "execution_count": 3,
     "data": {
      "text/plain": "<spacytextblob.spacytextblob.SpacyTextBlob at 0x7fc21e4f4730>"
     },
     "metadata": {}
    }
   ],
   "execution_count": null
  },
  {
   "cell_type": "markdown",
   "source": "## Pre-process functions",
   "metadata": {
    "tags": [],
    "cell_id": "00039-0576ed80-4485-4e73-ae2e-ac5ebf786587",
    "is_collapsed": false,
    "deepnote_cell_type": "text-cell-h2"
   }
  },
  {
   "cell_type": "code",
   "metadata": {
    "tags": [],
    "cell_id": "00037-ab71cfb0-2003-4b7b-b584-6e4417fc844d",
    "deepnote_to_be_reexecuted": false,
    "source_hash": "4219ad7c",
    "execution_start": 1638943888839,
    "execution_millis": 6,
    "deepnote_cell_type": "code"
   },
   "source": "def get_mode(x):\n    modes = pd.Series.mode(x)\n    if len(modes) == 1:\n        return modes[0]\n    else:\n        return \"UNCLEAR\"",
   "execution_count": null,
   "outputs": []
  },
  {
   "cell_type": "code",
   "metadata": {
    "tags": [],
    "cell_id": "00037-dc72bac0-0d82-4ecd-aa19-a7230b3ed37c",
    "deepnote_to_be_reexecuted": false,
    "source_hash": "e50d6467",
    "execution_start": 1639019311111,
    "execution_millis": 1,
    "deepnote_cell_type": "code"
   },
   "source": "def move_links_and_punc(df, X_col):\n    \"\"\" \n    Create new columns 'word_count', 'num_links', 'has_links', and a clean version of the text column that has \n    urls, punctuation, and numbers removed\n    \n    Args\n        df - pandas dataframe\n        X_col - name of text column to be cleaned and extracted from\n    \"\"\"\n\n    urlregex = r'(http\\S+|www\\S+)'\n    numregex = r'\\d+'\n    puncregex = r'[^\\w\\s]'\n\n    df['links'] = df[X_col].apply(lambda x: re.findall(urlregex, str(x)))\n    df[X_col] = df[X_col].fillna({'data':''})\n    df['clean_' + X_col] = df[X_col].replace(urlregex, '', regex=True).str.lower()\n    df['clean_' + X_col] = df['clean_' + X_col].replace(puncregex, '', regex=True)\n    df['clean_' + X_col] = df['clean_' + X_col].replace(numregex, '', regex=True)\n    df['clean_' + X_col] = df['clean_' + X_col].apply(lambda x: \"\".join([\" \" if ord(i) < 32 or ord(i) > 126 else i for i in x]))\n    df['clean_' + X_col] = df['clean_' + X_col].apply(lambda x: \" \".join(x.strip() for x in x.split()))\n    \n    df['word_count'] = [len(x) for x in df['clean_' + X_col]]\n    df['num_links'] = [len(x) for x in df['links']]\n    df['has_links'] = [1 if x > 0 else 0 for x in df['num_links']]",
   "outputs": [],
   "execution_count": null
  },
  {
   "cell_type": "code",
   "metadata": {
    "tags": [],
    "cell_id": "00037-382c7a7b-6487-4c32-a0e7-566fef429e71",
    "deepnote_to_be_reexecuted": false,
    "source_hash": "b432511c",
    "execution_start": 1639019313162,
    "execution_millis": 5,
    "deepnote_cell_type": "code"
   },
   "source": "def remove_stopwords(df, X_col):\n    \"\"\" \n    Removes stopwords from the given text column in a dataframe\n    \n    Args\n        df - pandas dataframe\n        X_col - name of text column to be cleaned and extracted from\n    \"\"\"\n\n    arr = []\n    docs = nlp.pipe(df[X_col])\n    for doc in docs:\n        arr.append([str(tok.lemma_) for tok in doc if tok.text not in STOP_WORDS] )\n    df[X_col] = arr",
   "outputs": [],
   "execution_count": null
  },
  {
   "cell_type": "code",
   "metadata": {
    "tags": [],
    "cell_id": "00037-a4506107-b522-4069-aa3c-babcf802be14",
    "deepnote_to_be_reexecuted": false,
    "source_hash": "4a1e51a2",
    "execution_start": 1639022661273,
    "execution_millis": 2,
    "deepnote_cell_type": "code"
   },
   "source": "# Sentiment polarity and subjectivity functions\ndef sentiment_polarity(text):\n    return text.apply(lambda Text: pd.Series(TextBlob(' '.join(Text)).sentiment.polarity))\n\ndef sentiment_subjectivity(text):\n    return text.apply(lambda Text: pd.Series(TextBlob(' '.join(Text)).sentiment.subjectivity))",
   "outputs": [],
   "execution_count": null
  },
  {
   "cell_type": "code",
   "source": "",
   "metadata": {
    "tags": [],
    "cell_id": "00007-16cc63ab-d8a0-4503-98ed-d4189cac9d43",
    "deepnote_to_be_reexecuted": false,
    "source_hash": "5049a263",
    "execution_start": 1639022667933,
    "execution_millis": 107212,
    "deepnote_cell_type": "code"
   },
   "outputs": [],
   "execution_count": null
  },
  {
   "cell_type": "code",
   "source": "d = {'tweets':tweets}\nwith open('temp.pickle', 'wb') as handle:\n    pickle.dump(d, handle, protocol=pickle.HIGHEST_PROTOCOL)",
   "metadata": {
    "tags": [],
    "cell_id": "00007-ca5aaac6-5785-4a0c-8cc9-8415a9b5b5e1",
    "deepnote_to_be_reexecuted": false,
    "source_hash": "d4c16f9c",
    "execution_start": 1639022781826,
    "execution_millis": 104,
    "deepnote_cell_type": "code"
   },
   "outputs": [],
   "execution_count": null
  },
  {
   "cell_type": "code",
   "metadata": {
    "tags": [],
    "cell_id": "00037-bc5d8c1d-e637-4206-a665-dc3c40f7fe1a",
    "deepnote_to_be_reexecuted": false,
    "source_hash": "613ec55b",
    "execution_start": 1638943888996,
    "execution_millis": 2210090544,
    "deepnote_cell_type": "code"
   },
   "source": "# Convert 'helpful' column into a trinary where each category is dependent on its average helpfulness rating\ndef fixHelpfulness(df, col, min=0.29, max=0.84):\n    \"\"\"\n    Takes df, col\n    0.84 and 0.29 are the cut-offs suggested by Twitter themselves\n    \"\"\"\n\n    mask = df[col] >= max\n    df.loc[mask, col] = 2\n    mask = df[col].between(min, max, inclusive=False)\n    df.loc[mask, col] = 1\n    mask = df[col] <= min\n    df.loc[mask, col] = 0",
   "execution_count": null,
   "outputs": []
  },
  {
   "cell_type": "code",
   "metadata": {
    "tags": [],
    "cell_id": "00037-da0b7e32-0dc3-4c69-a8ae-c32222ca8306",
    "deepnote_to_be_reexecuted": false,
    "source_hash": "8781730",
    "execution_start": 1638943888997,
    "execution_millis": 2210090536,
    "deepnote_cell_type": "code"
   },
   "source": "def drop_rows_with_empty_features(X, y):\n    is_zero = [len(element) == 0 for element in X]\n    print(\"dropping \", len(is_zero), \" rows\")\n    X = [element for element, drop in zip(X, is_zero) if not drop]\n    y = [element for element, drop in zip(y, is_zero) if not drop]\n    return X, y",
   "execution_count": null,
   "outputs": []
  },
  {
   "cell_type": "code",
   "metadata": {
    "tags": [],
    "cell_id": "00037-b011149d-0e31-4e4c-9607-6368bf7f3ef6",
    "deepnote_to_be_reexecuted": false,
    "source_hash": "4219ad7c",
    "execution_start": 1638943889040,
    "execution_millis": 2210090522,
    "deepnote_cell_type": "code"
   },
   "source": "def get_mode(x):\n    modes = pd.Series.mode(x)\n    if len(modes) == 1:\n        return modes[0]\n    else:\n        return \"UNCLEAR\"",
   "execution_count": null,
   "outputs": []
  },
  {
   "cell_type": "code",
   "metadata": {
    "tags": [],
    "cell_id": "00037-e85c28c8-8372-4581-9a40-a49ee4c563d4",
    "deepnote_to_be_reexecuted": false,
    "source_hash": "f0d35352",
    "execution_start": 1638943889041,
    "execution_millis": 2210090521,
    "deepnote_cell_type": "code"
   },
   "source": "def timestamp(x):\n    try:\n        dt = datetime.strptime(str(x), '%Y-%m-%d %H:%M:%S')\n    except Exception as e:\n        return\n    epoch = datetime.utcfromtimestamp(0)\n    return (dt - epoch).total_seconds() * 1000.0",
   "execution_count": null,
   "outputs": []
  },
  {
   "cell_type": "code",
   "metadata": {
    "tags": [],
    "cell_id": "00011-480b3044-52f6-4c4c-9fbc-e93ba50e9ea3",
    "deepnote_to_be_reexecuted": false,
    "source_hash": "7f54e6c",
    "execution_start": 1638943889042,
    "execution_millis": 198,
    "deepnote_cell_type": "code"
   },
   "source": "notes = pd.read_csv('notes.tsv', sep=\"\\t\")\n#ratings = pd.read_csv(ratings_filename, sep=\"\\t\")",
   "execution_count": null,
   "outputs": []
  },
  {
   "cell_type": "code",
   "metadata": {
    "tags": [],
    "cell_id": "00012-7999c9c6-e07a-41e2-a347-d10b8a0cdcd9",
    "deepnote_to_be_reexecuted": false,
    "source_hash": "988cfa77",
    "execution_start": 1638943889259,
    "execution_millis": 24,
    "deepnote_output_heights": [
     232.390625
    ],
    "deepnote_cell_type": "code"
   },
   "source": "notes.summary",
   "execution_count": null,
   "outputs": [
    {
     "output_type": "execute_result",
     "execution_count": 11,
     "data": {
      "text/plain": "0       This is a image of a Tweet that never occured,...\n1       BLM as an organization is not a terrorist orga...\n2       This post claims BLM as an organization does n...\n3       This claim is false. Carter, Ford and Nixon al...\n4       Neither BLM nor antifa were involved in the at...\n                              ...                        \n8708    This image has been doctored. Ashraf Mohi, the...\n8709    This is an old photo of a child who lives in R...\n8710    This is an old photo of a child who lives in R...\n8711    This is an old photo of a child who lives in R...\n8712    The photo is from a Najwan Simri Diab's &quot;...\nName: summary, Length: 8713, dtype: object"
     },
     "metadata": {}
    }
   ]
  },
  {
   "cell_type": "code",
   "metadata": {
    "tags": [],
    "cell_id": "00012-df05fe0d-4d05-4c2e-a32f-d5e67d83ef61",
    "deepnote_to_be_reexecuted": false,
    "source_hash": "8da556bd",
    "execution_start": 1638943889291,
    "execution_millis": 126,
    "deepnote_cell_type": "code"
   },
   "source": "ratings = pd.read_csv('ratings.tsv', sep=\"\\t\")\n",
   "execution_count": null,
   "outputs": []
  },
  {
   "cell_type": "code",
   "metadata": {
    "tags": [],
    "cell_id": "00014-cc77ed8b-96a1-4e91-8123-8e7f84962bec",
    "deepnote_to_be_reexecuted": false,
    "source_hash": "9cfa0f0b",
    "execution_start": 1638943889417,
    "execution_millis": 205,
    "deepnote_cell_type": "code"
   },
   "source": "ratings",
   "execution_count": null,
   "outputs": [
    {
     "output_type": "execute_result",
     "execution_count": 13,
     "data": {
      "application/vnd.deepnote.dataframe.v2+json": {
       "row_count": 24545,
       "column_count": 23,
       "columns": [
        {
         "name": "noteId",
         "dtype": "int64",
         "stats": {
          "unique_count": 4964,
          "nan_count": 0,
          "min": "1352796878438424576",
          "max": "1398790371770081283",
          "histogram": [
           {
            "bin_start": 1352796878438424600,
            "bin_end": 1357396227771590100,
            "count": 5547
           },
           {
            "bin_start": 1357396227771590100,
            "bin_end": 1361995577104756000,
            "count": 2548
           },
           {
            "bin_start": 1361995577104756000,
            "bin_end": 1366594926437921500,
            "count": 2673
           },
           {
            "bin_start": 1366594926437921500,
            "bin_end": 1371194275771087400,
            "count": 1576
           },
           {
            "bin_start": 1371194275771087400,
            "bin_end": 1375793625104253000,
            "count": 2638
           },
           {
            "bin_start": 1375793625104253000,
            "bin_end": 1380392974437418500,
            "count": 2206
           },
           {
            "bin_start": 1380392974437418500,
            "bin_end": 1384992323770584300,
            "count": 2006
           },
           {
            "bin_start": 1384992323770584300,
            "bin_end": 1389591673103750000,
            "count": 2192
           },
           {
            "bin_start": 1389591673103750000,
            "bin_end": 1394191022436915700,
            "count": 1921
           },
           {
            "bin_start": 1394191022436915700,
            "bin_end": 1398790371770081300,
            "count": 1238
           }
          ]
         }
        },
        {
         "name": "participantId",
         "dtype": "object",
         "stats": {
          "unique_count": 1681,
          "nan_count": 0,
          "categories": [
           {
            "name": "C6ED76D853CCB2D87E7CE083330CA3F5",
            "count": 1834
           },
           {
            "name": "27C2CE23A68F32F61C3B361C39E358AD",
            "count": 956
           },
           {
            "name": "1679 others",
            "count": 21755
           }
          ]
         }
        },
        {
         "name": "createdAtMillis",
         "dtype": "int64",
         "stats": {
          "unique_count": 24545,
          "nan_count": 0,
          "min": "1611388222120",
          "max": "1622333713207",
          "histogram": [
           {
            "bin_start": 1611388222120,
            "bin_end": 1612482771228.7,
            "count": 5415
           },
           {
            "bin_start": 1612482771228.7,
            "bin_end": 1613577320337.4,
            "count": 2335
           },
           {
            "bin_start": 1613577320337.4,
            "bin_end": 1614671869446.1,
            "count": 2896
           },
           {
            "bin_start": 1614671869446.1,
            "bin_end": 1615766418554.8,
            "count": 1573
           },
           {
            "bin_start": 1615766418554.8,
            "bin_end": 1616860967663.5,
            "count": 2559
           },
           {
            "bin_start": 1616860967663.5,
            "bin_end": 1617955516772.2,
            "count": 2325
           },
           {
            "bin_start": 1617955516772.2,
            "bin_end": 1619050065880.9,
            "count": 1874
           },
           {
            "bin_start": 1619050065880.9,
            "bin_end": 1620144614989.6,
            "count": 2311
           },
           {
            "bin_start": 1620144614989.6,
            "bin_end": 1621239164098.3,
            "count": 1935
           },
           {
            "bin_start": 1621239164098.3,
            "bin_end": 1622333713207,
            "count": 1322
           }
          ]
         }
        },
        {
         "name": "agree",
         "dtype": "int64",
         "stats": {
          "unique_count": 2,
          "nan_count": 0,
          "min": "0",
          "max": "1",
          "histogram": [
           {
            "bin_start": 0,
            "bin_end": 0.1,
            "count": 8154
           },
           {
            "bin_start": 0.1,
            "bin_end": 0.2,
            "count": 0
           },
           {
            "bin_start": 0.2,
            "bin_end": 0.30000000000000004,
            "count": 0
           },
           {
            "bin_start": 0.30000000000000004,
            "bin_end": 0.4,
            "count": 0
           },
           {
            "bin_start": 0.4,
            "bin_end": 0.5,
            "count": 0
           },
           {
            "bin_start": 0.5,
            "bin_end": 0.6000000000000001,
            "count": 0
           },
           {
            "bin_start": 0.6000000000000001,
            "bin_end": 0.7000000000000001,
            "count": 0
           },
           {
            "bin_start": 0.7000000000000001,
            "bin_end": 0.8,
            "count": 0
           },
           {
            "bin_start": 0.8,
            "bin_end": 0.9,
            "count": 0
           },
           {
            "bin_start": 0.9,
            "bin_end": 1,
            "count": 16391
           }
          ]
         }
        },
        {
         "name": "disagree",
         "dtype": "int64"
        },
        {
         "name": "helpful",
         "dtype": "int64"
        },
        {
         "name": "notHelpful",
         "dtype": "int64"
        },
        {
         "name": "helpfulOther",
         "dtype": "int64"
        },
        {
         "name": "helpfulInformative",
         "dtype": "int64"
        },
        {
         "name": "helpfulClear",
         "dtype": "int64"
        },
        {
         "name": "helpfulEmpathetic",
         "dtype": "int64"
        },
        {
         "name": "helpfulGoodSources",
         "dtype": "int64"
        },
        {
         "name": "helpfulUniqueContext",
         "dtype": "int64"
        },
        {
         "name": "notHelpfulOther",
         "dtype": "int64"
        },
        {
         "name": "notHelpfulIncorrect",
         "dtype": "int64"
        },
        {
         "name": "notHelpfulSourcesMissingOrUnreliable",
         "dtype": "int64"
        },
        {
         "name": "notHelpfulOpinionSpeculationOrBias",
         "dtype": "int64"
        },
        {
         "name": "notHelpfulMissingKeyPoints",
         "dtype": "int64"
        },
        {
         "name": "notHelpfulOutdated",
         "dtype": "int64"
        },
        {
         "name": "notHelpfulHardToUnderstand",
         "dtype": "int64"
        },
        {
         "name": "notHelpfulArgumentativeOrInflammatory",
         "dtype": "int64"
        },
        {
         "name": "notHelpfulOffTopic",
         "dtype": "int64"
        },
        {
         "name": "notHelpfulSpamHarassmentOrAbuse",
         "dtype": "int64"
        },
        {
         "name": "_deepnote_index_column",
         "dtype": "int64"
        }
       ],
       "rows_top": [
        {
         "noteId": 1352796878438424600,
         "participantId": "7644DF3FD853416F0C96933CCC1BA9B7",
         "createdAtMillis": 1611796572477,
         "agree": 0,
         "disagree": 1,
         "helpful": 0,
         "notHelpful": 1,
         "helpfulOther": 0,
         "helpfulInformative": 0,
         "helpfulClear": 0,
         "helpfulEmpathetic": 0,
         "helpfulGoodSources": 0,
         "helpfulUniqueContext": 0,
         "notHelpfulOther": 1,
         "notHelpfulIncorrect": 0,
         "notHelpfulSourcesMissingOrUnreliable": 0,
         "notHelpfulOpinionSpeculationOrBias": 0,
         "notHelpfulMissingKeyPoints": 0,
         "notHelpfulOutdated": 0,
         "notHelpfulHardToUnderstand": 0,
         "notHelpfulArgumentativeOrInflammatory": 0,
         "notHelpfulOffTopic": 0,
         "notHelpfulSpamHarassmentOrAbuse": 1,
         "_deepnote_index_column": 0
        },
        {
         "noteId": 1352796878438424600,
         "participantId": "7585B8804A32416E91E51837F351F249",
         "createdAtMillis": 1611388222120,
         "agree": 1,
         "disagree": 0,
         "helpful": 1,
         "notHelpful": 0,
         "helpfulOther": 0,
         "helpfulInformative": 1,
         "helpfulClear": 0,
         "helpfulEmpathetic": 1,
         "helpfulGoodSources": 1,
         "helpfulUniqueContext": 0,
         "notHelpfulOther": 0,
         "notHelpfulIncorrect": 0,
         "notHelpfulSourcesMissingOrUnreliable": 0,
         "notHelpfulOpinionSpeculationOrBias": 0,
         "notHelpfulMissingKeyPoints": 0,
         "notHelpfulOutdated": 0,
         "notHelpfulHardToUnderstand": 0,
         "notHelpfulArgumentativeOrInflammatory": 0,
         "notHelpfulOffTopic": 0,
         "notHelpfulSpamHarassmentOrAbuse": 0,
         "_deepnote_index_column": 1
        },
        {
         "noteId": 1352796878438424600,
         "participantId": "628C786C63B5A4D32E13C6C442E1863D",
         "createdAtMillis": 1611623203338,
         "agree": 0,
         "disagree": 0,
         "helpful": 0,
         "notHelpful": 1,
         "helpfulOther": 0,
         "helpfulInformative": 0,
         "helpfulClear": 0,
         "helpfulEmpathetic": 0,
         "helpfulGoodSources": 0,
         "helpfulUniqueContext": 0,
         "notHelpfulOther": 0,
         "notHelpfulIncorrect": 0,
         "notHelpfulSourcesMissingOrUnreliable": 0,
         "notHelpfulOpinionSpeculationOrBias": 0,
         "notHelpfulMissingKeyPoints": 0,
         "notHelpfulOutdated": 0,
         "notHelpfulHardToUnderstand": 0,
         "notHelpfulArgumentativeOrInflammatory": 0,
         "notHelpfulOffTopic": 0,
         "notHelpfulSpamHarassmentOrAbuse": 0,
         "_deepnote_index_column": 2
        },
        {
         "noteId": 1352796878438424600,
         "participantId": "0D7ED07D5421118311EEED5E4ECF2968",
         "createdAtMillis": 1611860252442,
         "agree": 1,
         "disagree": 0,
         "helpful": 1,
         "notHelpful": 0,
         "helpfulOther": 0,
         "helpfulInformative": 1,
         "helpfulClear": 1,
         "helpfulEmpathetic": 1,
         "helpfulGoodSources": 1,
         "helpfulUniqueContext": 1,
         "notHelpfulOther": 0,
         "notHelpfulIncorrect": 0,
         "notHelpfulSourcesMissingOrUnreliable": 0,
         "notHelpfulOpinionSpeculationOrBias": 0,
         "notHelpfulMissingKeyPoints": 0,
         "notHelpfulOutdated": 0,
         "notHelpfulHardToUnderstand": 0,
         "notHelpfulArgumentativeOrInflammatory": 0,
         "notHelpfulOffTopic": 0,
         "notHelpfulSpamHarassmentOrAbuse": 0,
         "_deepnote_index_column": 3
        },
        {
         "noteId": 1352796878438424600,
         "participantId": "EFD7E04E740224D2DDB42A2C910B62C1",
         "createdAtMillis": 1611852744990,
         "agree": 1,
         "disagree": 0,
         "helpful": 1,
         "notHelpful": 0,
         "helpfulOther": 0,
         "helpfulInformative": 1,
         "helpfulClear": 1,
         "helpfulEmpathetic": 0,
         "helpfulGoodSources": 0,
         "helpfulUniqueContext": 0,
         "notHelpfulOther": 0,
         "notHelpfulIncorrect": 0,
         "notHelpfulSourcesMissingOrUnreliable": 0,
         "notHelpfulOpinionSpeculationOrBias": 0,
         "notHelpfulMissingKeyPoints": 0,
         "notHelpfulOutdated": 0,
         "notHelpfulHardToUnderstand": 0,
         "notHelpfulArgumentativeOrInflammatory": 0,
         "notHelpfulOffTopic": 0,
         "notHelpfulSpamHarassmentOrAbuse": 0,
         "_deepnote_index_column": 4
        },
        {
         "noteId": 1352796878438424600,
         "participantId": "0466BA47B23AAAB301AA767C4C780E8D",
         "createdAtMillis": 1611523319844,
         "agree": 1,
         "disagree": 0,
         "helpful": 1,
         "notHelpful": 0,
         "helpfulOther": 0,
         "helpfulInformative": 1,
         "helpfulClear": 1,
         "helpfulEmpathetic": 1,
         "helpfulGoodSources": 0,
         "helpfulUniqueContext": 0,
         "notHelpfulOther": 0,
         "notHelpfulIncorrect": 0,
         "notHelpfulSourcesMissingOrUnreliable": 0,
         "notHelpfulOpinionSpeculationOrBias": 0,
         "notHelpfulMissingKeyPoints": 0,
         "notHelpfulOutdated": 0,
         "notHelpfulHardToUnderstand": 0,
         "notHelpfulArgumentativeOrInflammatory": 0,
         "notHelpfulOffTopic": 0,
         "notHelpfulSpamHarassmentOrAbuse": 0,
         "_deepnote_index_column": 5
        },
        {
         "noteId": 1352796878438424600,
         "participantId": "3C9A15EEA8FD238754BE28C15B26709A",
         "createdAtMillis": 1611673955881,
         "agree": 1,
         "disagree": 0,
         "helpful": 0,
         "notHelpful": 1,
         "helpfulOther": 0,
         "helpfulInformative": 0,
         "helpfulClear": 0,
         "helpfulEmpathetic": 0,
         "helpfulGoodSources": 0,
         "helpfulUniqueContext": 0,
         "notHelpfulOther": 0,
         "notHelpfulIncorrect": 0,
         "notHelpfulSourcesMissingOrUnreliable": 1,
         "notHelpfulOpinionSpeculationOrBias": 0,
         "notHelpfulMissingKeyPoints": 0,
         "notHelpfulOutdated": 0,
         "notHelpfulHardToUnderstand": 0,
         "notHelpfulArgumentativeOrInflammatory": 0,
         "notHelpfulOffTopic": 0,
         "notHelpfulSpamHarassmentOrAbuse": 0,
         "_deepnote_index_column": 6
        },
        {
         "noteId": 1353415873227178000,
         "participantId": "F344A1E57643ED079D9E94A3F4F06B30",
         "createdAtMillis": 1611786262902,
         "agree": 1,
         "disagree": 0,
         "helpful": 1,
         "notHelpful": 0,
         "helpfulOther": 0,
         "helpfulInformative": 1,
         "helpfulClear": 0,
         "helpfulEmpathetic": 0,
         "helpfulGoodSources": 0,
         "helpfulUniqueContext": 0,
         "notHelpfulOther": 0,
         "notHelpfulIncorrect": 0,
         "notHelpfulSourcesMissingOrUnreliable": 0,
         "notHelpfulOpinionSpeculationOrBias": 0,
         "notHelpfulMissingKeyPoints": 0,
         "notHelpfulOutdated": 0,
         "notHelpfulHardToUnderstand": 0,
         "notHelpfulArgumentativeOrInflammatory": 0,
         "notHelpfulOffTopic": 0,
         "notHelpfulSpamHarassmentOrAbuse": 0,
         "_deepnote_index_column": 7
        },
        {
         "noteId": 1353415873227178000,
         "participantId": "EBF4418439F36191D87A8F7B020C0140",
         "createdAtMillis": 1612479799446,
         "agree": 1,
         "disagree": 0,
         "helpful": 1,
         "notHelpful": 0,
         "helpfulOther": 0,
         "helpfulInformative": 1,
         "helpfulClear": 1,
         "helpfulEmpathetic": 0,
         "helpfulGoodSources": 0,
         "helpfulUniqueContext": 0,
         "notHelpfulOther": 0,
         "notHelpfulIncorrect": 0,
         "notHelpfulSourcesMissingOrUnreliable": 0,
         "notHelpfulOpinionSpeculationOrBias": 0,
         "notHelpfulMissingKeyPoints": 0,
         "notHelpfulOutdated": 0,
         "notHelpfulHardToUnderstand": 0,
         "notHelpfulArgumentativeOrInflammatory": 0,
         "notHelpfulOffTopic": 0,
         "notHelpfulSpamHarassmentOrAbuse": 0,
         "_deepnote_index_column": 8
        },
        {
         "noteId": 1353415873227178000,
         "participantId": "7644DF3FD853416F0C96933CCC1BA9B7",
         "createdAtMillis": 1611796559743,
         "agree": 0,
         "disagree": 1,
         "helpful": 0,
         "notHelpful": 1,
         "helpfulOther": 0,
         "helpfulInformative": 0,
         "helpfulClear": 0,
         "helpfulEmpathetic": 0,
         "helpfulGoodSources": 0,
         "helpfulUniqueContext": 0,
         "notHelpfulOther": 1,
         "notHelpfulIncorrect": 0,
         "notHelpfulSourcesMissingOrUnreliable": 1,
         "notHelpfulOpinionSpeculationOrBias": 0,
         "notHelpfulMissingKeyPoints": 0,
         "notHelpfulOutdated": 0,
         "notHelpfulHardToUnderstand": 0,
         "notHelpfulArgumentativeOrInflammatory": 0,
         "notHelpfulOffTopic": 0,
         "notHelpfulSpamHarassmentOrAbuse": 1,
         "_deepnote_index_column": 9
        },
        {
         "noteId": 1353415873227178000,
         "participantId": "6B6171E803FBBF58397EC4A0AF76A2FF",
         "createdAtMillis": 1611523337816,
         "agree": 1,
         "disagree": 0,
         "helpful": 1,
         "notHelpful": 0,
         "helpfulOther": 0,
         "helpfulInformative": 0,
         "helpfulClear": 1,
         "helpfulEmpathetic": 1,
         "helpfulGoodSources": 0,
         "helpfulUniqueContext": 1,
         "notHelpfulOther": 0,
         "notHelpfulIncorrect": 0,
         "notHelpfulSourcesMissingOrUnreliable": 0,
         "notHelpfulOpinionSpeculationOrBias": 0,
         "notHelpfulMissingKeyPoints": 0,
         "notHelpfulOutdated": 0,
         "notHelpfulHardToUnderstand": 0,
         "notHelpfulArgumentativeOrInflammatory": 0,
         "notHelpfulOffTopic": 0,
         "notHelpfulSpamHarassmentOrAbuse": 0,
         "_deepnote_index_column": 10
        },
        {
         "noteId": 1353415873227178000,
         "participantId": "A9C8E4572500D4AFF54A8ADBB14734AC",
         "createdAtMillis": 1611857463930,
         "agree": 1,
         "disagree": 0,
         "helpful": 1,
         "notHelpful": 0,
         "helpfulOther": 0,
         "helpfulInformative": 1,
         "helpfulClear": 1,
         "helpfulEmpathetic": 1,
         "helpfulGoodSources": 1,
         "helpfulUniqueContext": 1,
         "notHelpfulOther": 0,
         "notHelpfulIncorrect": 0,
         "notHelpfulSourcesMissingOrUnreliable": 0,
         "notHelpfulOpinionSpeculationOrBias": 0,
         "notHelpfulMissingKeyPoints": 0,
         "notHelpfulOutdated": 0,
         "notHelpfulHardToUnderstand": 0,
         "notHelpfulArgumentativeOrInflammatory": 0,
         "notHelpfulOffTopic": 0,
         "notHelpfulSpamHarassmentOrAbuse": 0,
         "_deepnote_index_column": 11
        },
        {
         "noteId": 1353415873227178000,
         "participantId": "0D7ED07D5421118311EEED5E4ECF2968",
         "createdAtMillis": 1611860203635,
         "agree": 1,
         "disagree": 0,
         "helpful": 1,
         "notHelpful": 0,
         "helpfulOther": 0,
         "helpfulInformative": 1,
         "helpfulClear": 1,
         "helpfulEmpathetic": 1,
         "helpfulGoodSources": 1,
         "helpfulUniqueContext": 1,
         "notHelpfulOther": 0,
         "notHelpfulIncorrect": 0,
         "notHelpfulSourcesMissingOrUnreliable": 0,
         "notHelpfulOpinionSpeculationOrBias": 0,
         "notHelpfulMissingKeyPoints": 0,
         "notHelpfulOutdated": 0,
         "notHelpfulHardToUnderstand": 0,
         "notHelpfulArgumentativeOrInflammatory": 0,
         "notHelpfulOffTopic": 0,
         "notHelpfulSpamHarassmentOrAbuse": 0,
         "_deepnote_index_column": 12
        },
        {
         "noteId": 1353415873227178000,
         "participantId": "3C9A15EEA8FD238754BE28C15B26709A",
         "createdAtMillis": 1611673979295,
         "agree": 1,
         "disagree": 0,
         "helpful": 1,
         "notHelpful": 0,
         "helpfulOther": 0,
         "helpfulInformative": 1,
         "helpfulClear": 1,
         "helpfulEmpathetic": 0,
         "helpfulGoodSources": 0,
         "helpfulUniqueContext": 0,
         "notHelpfulOther": 0,
         "notHelpfulIncorrect": 0,
         "notHelpfulSourcesMissingOrUnreliable": 0,
         "notHelpfulOpinionSpeculationOrBias": 0,
         "notHelpfulMissingKeyPoints": 0,
         "notHelpfulOutdated": 0,
         "notHelpfulHardToUnderstand": 0,
         "notHelpfulArgumentativeOrInflammatory": 0,
         "notHelpfulOffTopic": 0,
         "notHelpfulSpamHarassmentOrAbuse": 0,
         "_deepnote_index_column": 13
        },
        {
         "noteId": 1353415873227178000,
         "participantId": "7585B8804A32416E91E51837F351F249",
         "createdAtMillis": 1611624696934,
         "agree": 1,
         "disagree": 0,
         "helpful": 1,
         "notHelpful": 0,
         "helpfulOther": 0,
         "helpfulInformative": 0,
         "helpfulClear": 0,
         "helpfulEmpathetic": 0,
         "helpfulGoodSources": 0,
         "helpfulUniqueContext": 0,
         "notHelpfulOther": 0,
         "notHelpfulIncorrect": 0,
         "notHelpfulSourcesMissingOrUnreliable": 0,
         "notHelpfulOpinionSpeculationOrBias": 0,
         "notHelpfulMissingKeyPoints": 0,
         "notHelpfulOutdated": 0,
         "notHelpfulHardToUnderstand": 0,
         "notHelpfulArgumentativeOrInflammatory": 0,
         "notHelpfulOffTopic": 0,
         "notHelpfulSpamHarassmentOrAbuse": 0,
         "_deepnote_index_column": 14
        },
        {
         "noteId": 1353415873227178000,
         "participantId": "628C786C63B5A4D32E13C6C442E1863D",
         "createdAtMillis": 1611714621620,
         "agree": 0,
         "disagree": 1,
         "helpful": 0,
         "notHelpful": 1,
         "helpfulOther": 0,
         "helpfulInformative": 0,
         "helpfulClear": 0,
         "helpfulEmpathetic": 0,
         "helpfulGoodSources": 0,
         "helpfulUniqueContext": 0,
         "notHelpfulOther": 0,
         "notHelpfulIncorrect": 0,
         "notHelpfulSourcesMissingOrUnreliable": 0,
         "notHelpfulOpinionSpeculationOrBias": 0,
         "notHelpfulMissingKeyPoints": 0,
         "notHelpfulOutdated": 0,
         "notHelpfulHardToUnderstand": 0,
         "notHelpfulArgumentativeOrInflammatory": 0,
         "notHelpfulOffTopic": 0,
         "notHelpfulSpamHarassmentOrAbuse": 0,
         "_deepnote_index_column": 15
        },
        {
         "noteId": 1354590891764293600,
         "participantId": "7585B8804A32416E91E51837F351F249",
         "createdAtMillis": 1611801157938,
         "agree": 1,
         "disagree": 0,
         "helpful": 0,
         "notHelpful": 0,
         "helpfulOther": 0,
         "helpfulInformative": 0,
         "helpfulClear": 0,
         "helpfulEmpathetic": 0,
         "helpfulGoodSources": 0,
         "helpfulUniqueContext": 0,
         "notHelpfulOther": 0,
         "notHelpfulIncorrect": 0,
         "notHelpfulSourcesMissingOrUnreliable": 0,
         "notHelpfulOpinionSpeculationOrBias": 0,
         "notHelpfulMissingKeyPoints": 0,
         "notHelpfulOutdated": 0,
         "notHelpfulHardToUnderstand": 0,
         "notHelpfulArgumentativeOrInflammatory": 0,
         "notHelpfulOffTopic": 0,
         "notHelpfulSpamHarassmentOrAbuse": 0,
         "_deepnote_index_column": 16
        },
        {
         "noteId": 1354600130578624500,
         "participantId": "AF89F4553D638B93C1AD34B6FA5C9470",
         "createdAtMillis": 1611797507256,
         "agree": 0,
         "disagree": 1,
         "helpful": 0,
         "notHelpful": 1,
         "helpfulOther": 0,
         "helpfulInformative": 0,
         "helpfulClear": 0,
         "helpfulEmpathetic": 0,
         "helpfulGoodSources": 0,
         "helpfulUniqueContext": 0,
         "notHelpfulOther": 0,
         "notHelpfulIncorrect": 1,
         "notHelpfulSourcesMissingOrUnreliable": 1,
         "notHelpfulOpinionSpeculationOrBias": 0,
         "notHelpfulMissingKeyPoints": 0,
         "notHelpfulOutdated": 0,
         "notHelpfulHardToUnderstand": 0,
         "notHelpfulArgumentativeOrInflammatory": 0,
         "notHelpfulOffTopic": 0,
         "notHelpfulSpamHarassmentOrAbuse": 0,
         "_deepnote_index_column": 17
        },
        {
         "noteId": 1354600130578624500,
         "participantId": "3C9A15EEA8FD238754BE28C15B26709A",
         "createdAtMillis": 1611797314001,
         "agree": 0,
         "disagree": 1,
         "helpful": 0,
         "notHelpful": 1,
         "helpfulOther": 0,
         "helpfulInformative": 0,
         "helpfulClear": 0,
         "helpfulEmpathetic": 0,
         "helpfulGoodSources": 0,
         "helpfulUniqueContext": 0,
         "notHelpfulOther": 0,
         "notHelpfulIncorrect": 0,
         "notHelpfulSourcesMissingOrUnreliable": 1,
         "notHelpfulOpinionSpeculationOrBias": 0,
         "notHelpfulMissingKeyPoints": 0,
         "notHelpfulOutdated": 0,
         "notHelpfulHardToUnderstand": 0,
         "notHelpfulArgumentativeOrInflammatory": 0,
         "notHelpfulOffTopic": 1,
         "notHelpfulSpamHarassmentOrAbuse": 0,
         "_deepnote_index_column": 18
        },
        {
         "noteId": 1354600130578624500,
         "participantId": "A9C8E4572500D4AFF54A8ADBB14734AC",
         "createdAtMillis": 1611858152632,
         "agree": 0,
         "disagree": 1,
         "helpful": 0,
         "notHelpful": 1,
         "helpfulOther": 0,
         "helpfulInformative": 0,
         "helpfulClear": 0,
         "helpfulEmpathetic": 0,
         "helpfulGoodSources": 0,
         "helpfulUniqueContext": 0,
         "notHelpfulOther": 0,
         "notHelpfulIncorrect": 1,
         "notHelpfulSourcesMissingOrUnreliable": 1,
         "notHelpfulOpinionSpeculationOrBias": 1,
         "notHelpfulMissingKeyPoints": 1,
         "notHelpfulOutdated": 0,
         "notHelpfulHardToUnderstand": 0,
         "notHelpfulArgumentativeOrInflammatory": 0,
         "notHelpfulOffTopic": 0,
         "notHelpfulSpamHarassmentOrAbuse": 0,
         "_deepnote_index_column": 19
        },
        {
         "noteId": 1354600130578624500,
         "participantId": "3BC97E035DB02C77B742115AE9155E07",
         "createdAtMillis": 1611852309770,
         "agree": 0,
         "disagree": 1,
         "helpful": 0,
         "notHelpful": 1,
         "helpfulOther": 0,
         "helpfulInformative": 0,
         "helpfulClear": 0,
         "helpfulEmpathetic": 0,
         "helpfulGoodSources": 0,
         "helpfulUniqueContext": 0,
         "notHelpfulOther": 0,
         "notHelpfulIncorrect": 1,
         "notHelpfulSourcesMissingOrUnreliable": 0,
         "notHelpfulOpinionSpeculationOrBias": 0,
         "notHelpfulMissingKeyPoints": 0,
         "notHelpfulOutdated": 0,
         "notHelpfulHardToUnderstand": 0,
         "notHelpfulArgumentativeOrInflammatory": 0,
         "notHelpfulOffTopic": 0,
         "notHelpfulSpamHarassmentOrAbuse": 0,
         "_deepnote_index_column": 20
        }
       ],
       "rows_bottom": [
        {
         "noteId": 1398604922854199300,
         "participantId": "B51340ED33E3FFB1F46272A63D0C0D71",
         "createdAtMillis": 1622288765081,
         "agree": 1,
         "disagree": 0,
         "helpful": 1,
         "notHelpful": 0,
         "helpfulOther": 0,
         "helpfulInformative": 1,
         "helpfulClear": 1,
         "helpfulEmpathetic": 1,
         "helpfulGoodSources": 1,
         "helpfulUniqueContext": 0,
         "notHelpfulOther": 0,
         "notHelpfulIncorrect": 0,
         "notHelpfulSourcesMissingOrUnreliable": 0,
         "notHelpfulOpinionSpeculationOrBias": 0,
         "notHelpfulMissingKeyPoints": 0,
         "notHelpfulOutdated": 0,
         "notHelpfulHardToUnderstand": 0,
         "notHelpfulArgumentativeOrInflammatory": 0,
         "notHelpfulOffTopic": 0,
         "notHelpfulSpamHarassmentOrAbuse": 0,
         "_deepnote_index_column": 24523
        },
        {
         "noteId": 1398631433225347000,
         "participantId": "AECA621BD49DBD17B585EFF22D682450",
         "createdAtMillis": 1622333047995,
         "agree": 1,
         "disagree": 0,
         "helpful": 1,
         "notHelpful": 0,
         "helpfulOther": 0,
         "helpfulInformative": 1,
         "helpfulClear": 0,
         "helpfulEmpathetic": 0,
         "helpfulGoodSources": 1,
         "helpfulUniqueContext": 0,
         "notHelpfulOther": 0,
         "notHelpfulIncorrect": 0,
         "notHelpfulSourcesMissingOrUnreliable": 0,
         "notHelpfulOpinionSpeculationOrBias": 0,
         "notHelpfulMissingKeyPoints": 0,
         "notHelpfulOutdated": 0,
         "notHelpfulHardToUnderstand": 0,
         "notHelpfulArgumentativeOrInflammatory": 0,
         "notHelpfulOffTopic": 0,
         "notHelpfulSpamHarassmentOrAbuse": 0,
         "_deepnote_index_column": 24524
        },
        {
         "noteId": 1398631433225347000,
         "participantId": "D9D6381D990A005CE585D0A306B35233",
         "createdAtMillis": 1622311698981,
         "agree": 1,
         "disagree": 0,
         "helpful": 1,
         "notHelpful": 0,
         "helpfulOther": 1,
         "helpfulInformative": 1,
         "helpfulClear": 1,
         "helpfulEmpathetic": 1,
         "helpfulGoodSources": 1,
         "helpfulUniqueContext": 1,
         "notHelpfulOther": 0,
         "notHelpfulIncorrect": 0,
         "notHelpfulSourcesMissingOrUnreliable": 0,
         "notHelpfulOpinionSpeculationOrBias": 0,
         "notHelpfulMissingKeyPoints": 0,
         "notHelpfulOutdated": 0,
         "notHelpfulHardToUnderstand": 0,
         "notHelpfulArgumentativeOrInflammatory": 0,
         "notHelpfulOffTopic": 0,
         "notHelpfulSpamHarassmentOrAbuse": 0,
         "_deepnote_index_column": 24525
        },
        {
         "noteId": 1398631433225347000,
         "participantId": "DD77ED1E080402764F2E811B588CE24F",
         "createdAtMillis": 1622314318004,
         "agree": 1,
         "disagree": 0,
         "helpful": 1,
         "notHelpful": 0,
         "helpfulOther": 0,
         "helpfulInformative": 1,
         "helpfulClear": 1,
         "helpfulEmpathetic": 0,
         "helpfulGoodSources": 1,
         "helpfulUniqueContext": 0,
         "notHelpfulOther": 0,
         "notHelpfulIncorrect": 0,
         "notHelpfulSourcesMissingOrUnreliable": 0,
         "notHelpfulOpinionSpeculationOrBias": 0,
         "notHelpfulMissingKeyPoints": 0,
         "notHelpfulOutdated": 0,
         "notHelpfulHardToUnderstand": 0,
         "notHelpfulArgumentativeOrInflammatory": 0,
         "notHelpfulOffTopic": 0,
         "notHelpfulSpamHarassmentOrAbuse": 0,
         "_deepnote_index_column": 24526
        },
        {
         "noteId": 1398647731468521500,
         "participantId": "AECA621BD49DBD17B585EFF22D682450",
         "createdAtMillis": 1622333108847,
         "agree": 1,
         "disagree": 0,
         "helpful": 1,
         "notHelpful": 0,
         "helpfulOther": 0,
         "helpfulInformative": 1,
         "helpfulClear": 1,
         "helpfulEmpathetic": 0,
         "helpfulGoodSources": 0,
         "helpfulUniqueContext": 1,
         "notHelpfulOther": 0,
         "notHelpfulIncorrect": 0,
         "notHelpfulSourcesMissingOrUnreliable": 0,
         "notHelpfulOpinionSpeculationOrBias": 0,
         "notHelpfulMissingKeyPoints": 0,
         "notHelpfulOutdated": 0,
         "notHelpfulHardToUnderstand": 0,
         "notHelpfulArgumentativeOrInflammatory": 0,
         "notHelpfulOffTopic": 0,
         "notHelpfulSpamHarassmentOrAbuse": 0,
         "_deepnote_index_column": 24527
        },
        {
         "noteId": 1398657469262569500,
         "participantId": "D9D6381D990A005CE585D0A306B35233",
         "createdAtMillis": 1622311693487,
         "agree": 1,
         "disagree": 0,
         "helpful": 1,
         "notHelpful": 0,
         "helpfulOther": 1,
         "helpfulInformative": 1,
         "helpfulClear": 1,
         "helpfulEmpathetic": 1,
         "helpfulGoodSources": 1,
         "helpfulUniqueContext": 1,
         "notHelpfulOther": 0,
         "notHelpfulIncorrect": 0,
         "notHelpfulSourcesMissingOrUnreliable": 0,
         "notHelpfulOpinionSpeculationOrBias": 0,
         "notHelpfulMissingKeyPoints": 0,
         "notHelpfulOutdated": 0,
         "notHelpfulHardToUnderstand": 0,
         "notHelpfulArgumentativeOrInflammatory": 0,
         "notHelpfulOffTopic": 0,
         "notHelpfulSpamHarassmentOrAbuse": 0,
         "_deepnote_index_column": 24528
        },
        {
         "noteId": 1398657469262569500,
         "participantId": "AECA621BD49DBD17B585EFF22D682450",
         "createdAtMillis": 1622333036168,
         "agree": 1,
         "disagree": 0,
         "helpful": 1,
         "notHelpful": 0,
         "helpfulOther": 0,
         "helpfulInformative": 0,
         "helpfulClear": 0,
         "helpfulEmpathetic": 0,
         "helpfulGoodSources": 1,
         "helpfulUniqueContext": 0,
         "notHelpfulOther": 0,
         "notHelpfulIncorrect": 0,
         "notHelpfulSourcesMissingOrUnreliable": 0,
         "notHelpfulOpinionSpeculationOrBias": 0,
         "notHelpfulMissingKeyPoints": 0,
         "notHelpfulOutdated": 0,
         "notHelpfulHardToUnderstand": 0,
         "notHelpfulArgumentativeOrInflammatory": 0,
         "notHelpfulOffTopic": 0,
         "notHelpfulSpamHarassmentOrAbuse": 0,
         "_deepnote_index_column": 24529
        },
        {
         "noteId": 1398658087167398000,
         "participantId": "AECA621BD49DBD17B585EFF22D682450",
         "createdAtMillis": 1622332952518,
         "agree": 0,
         "disagree": 1,
         "helpful": 0,
         "notHelpful": 1,
         "helpfulOther": 0,
         "helpfulInformative": 0,
         "helpfulClear": 0,
         "helpfulEmpathetic": 0,
         "helpfulGoodSources": 0,
         "helpfulUniqueContext": 0,
         "notHelpfulOther": 0,
         "notHelpfulIncorrect": 0,
         "notHelpfulSourcesMissingOrUnreliable": 1,
         "notHelpfulOpinionSpeculationOrBias": 1,
         "notHelpfulMissingKeyPoints": 1,
         "notHelpfulOutdated": 1,
         "notHelpfulHardToUnderstand": 0,
         "notHelpfulArgumentativeOrInflammatory": 0,
         "notHelpfulOffTopic": 0,
         "notHelpfulSpamHarassmentOrAbuse": 0,
         "_deepnote_index_column": 24530
        },
        {
         "noteId": 1398658087167398000,
         "participantId": "7FC8E5C1761E00B8B7C27C7249834934",
         "createdAtMillis": 1622329360850,
         "agree": 1,
         "disagree": 0,
         "helpful": 1,
         "notHelpful": 0,
         "helpfulOther": 0,
         "helpfulInformative": 0,
         "helpfulClear": 0,
         "helpfulEmpathetic": 0,
         "helpfulGoodSources": 1,
         "helpfulUniqueContext": 0,
         "notHelpfulOther": 0,
         "notHelpfulIncorrect": 0,
         "notHelpfulSourcesMissingOrUnreliable": 0,
         "notHelpfulOpinionSpeculationOrBias": 0,
         "notHelpfulMissingKeyPoints": 0,
         "notHelpfulOutdated": 0,
         "notHelpfulHardToUnderstand": 0,
         "notHelpfulArgumentativeOrInflammatory": 0,
         "notHelpfulOffTopic": 0,
         "notHelpfulSpamHarassmentOrAbuse": 0,
         "_deepnote_index_column": 24531
        },
        {
         "noteId": 1398658825691992000,
         "participantId": "54B3746081949CF33072EE548B4DA13A",
         "createdAtMillis": 1622301261537,
         "agree": 1,
         "disagree": 0,
         "helpful": 1,
         "notHelpful": 0,
         "helpfulOther": 0,
         "helpfulInformative": 1,
         "helpfulClear": 1,
         "helpfulEmpathetic": 1,
         "helpfulGoodSources": 1,
         "helpfulUniqueContext": 0,
         "notHelpfulOther": 0,
         "notHelpfulIncorrect": 0,
         "notHelpfulSourcesMissingOrUnreliable": 0,
         "notHelpfulOpinionSpeculationOrBias": 0,
         "notHelpfulMissingKeyPoints": 0,
         "notHelpfulOutdated": 0,
         "notHelpfulHardToUnderstand": 0,
         "notHelpfulArgumentativeOrInflammatory": 0,
         "notHelpfulOffTopic": 0,
         "notHelpfulSpamHarassmentOrAbuse": 0,
         "_deepnote_index_column": 24532
        },
        {
         "noteId": 1398658825691992000,
         "participantId": "23DEE0A49D2009E008E3AC47F93B5DDE",
         "createdAtMillis": 1622329903483,
         "agree": 1,
         "disagree": 0,
         "helpful": 1,
         "notHelpful": 0,
         "helpfulOther": 0,
         "helpfulInformative": 1,
         "helpfulClear": 1,
         "helpfulEmpathetic": 0,
         "helpfulGoodSources": 1,
         "helpfulUniqueContext": 0,
         "notHelpfulOther": 0,
         "notHelpfulIncorrect": 0,
         "notHelpfulSourcesMissingOrUnreliable": 0,
         "notHelpfulOpinionSpeculationOrBias": 0,
         "notHelpfulMissingKeyPoints": 0,
         "notHelpfulOutdated": 0,
         "notHelpfulHardToUnderstand": 0,
         "notHelpfulArgumentativeOrInflammatory": 0,
         "notHelpfulOffTopic": 0,
         "notHelpfulSpamHarassmentOrAbuse": 0,
         "_deepnote_index_column": 24533
        },
        {
         "noteId": 1398658825691992000,
         "participantId": "06C7B658C5B6735445616F768A6A8528",
         "createdAtMillis": 1622318801726,
         "agree": 1,
         "disagree": 0,
         "helpful": 1,
         "notHelpful": 0,
         "helpfulOther": 0,
         "helpfulInformative": 1,
         "helpfulClear": 1,
         "helpfulEmpathetic": 0,
         "helpfulGoodSources": 1,
         "helpfulUniqueContext": 1,
         "notHelpfulOther": 0,
         "notHelpfulIncorrect": 0,
         "notHelpfulSourcesMissingOrUnreliable": 0,
         "notHelpfulOpinionSpeculationOrBias": 0,
         "notHelpfulMissingKeyPoints": 0,
         "notHelpfulOutdated": 0,
         "notHelpfulHardToUnderstand": 0,
         "notHelpfulArgumentativeOrInflammatory": 0,
         "notHelpfulOffTopic": 0,
         "notHelpfulSpamHarassmentOrAbuse": 0,
         "_deepnote_index_column": 24534
        },
        {
         "noteId": 1398658825691992000,
         "participantId": "AECA621BD49DBD17B585EFF22D682450",
         "createdAtMillis": 1622332896682,
         "agree": 0,
         "disagree": 1,
         "helpful": 0,
         "notHelpful": 1,
         "helpfulOther": 0,
         "helpfulInformative": 0,
         "helpfulClear": 0,
         "helpfulEmpathetic": 0,
         "helpfulGoodSources": 0,
         "helpfulUniqueContext": 0,
         "notHelpfulOther": 0,
         "notHelpfulIncorrect": 0,
         "notHelpfulSourcesMissingOrUnreliable": 0,
         "notHelpfulOpinionSpeculationOrBias": 0,
         "notHelpfulMissingKeyPoints": 1,
         "notHelpfulOutdated": 0,
         "notHelpfulHardToUnderstand": 0,
         "notHelpfulArgumentativeOrInflammatory": 0,
         "notHelpfulOffTopic": 0,
         "notHelpfulSpamHarassmentOrAbuse": 0,
         "_deepnote_index_column": 24535
        },
        {
         "noteId": 1398658825691992000,
         "participantId": "7FC8E5C1761E00B8B7C27C7249834934",
         "createdAtMillis": 1622329443031,
         "agree": 1,
         "disagree": 0,
         "helpful": 1,
         "notHelpful": 0,
         "helpfulOther": 0,
         "helpfulInformative": 1,
         "helpfulClear": 0,
         "helpfulEmpathetic": 1,
         "helpfulGoodSources": 1,
         "helpfulUniqueContext": 0,
         "notHelpfulOther": 0,
         "notHelpfulIncorrect": 0,
         "notHelpfulSourcesMissingOrUnreliable": 0,
         "notHelpfulOpinionSpeculationOrBias": 0,
         "notHelpfulMissingKeyPoints": 0,
         "notHelpfulOutdated": 0,
         "notHelpfulHardToUnderstand": 0,
         "notHelpfulArgumentativeOrInflammatory": 0,
         "notHelpfulOffTopic": 0,
         "notHelpfulSpamHarassmentOrAbuse": 0,
         "_deepnote_index_column": 24536
        },
        {
         "noteId": 1398668012983627800,
         "participantId": "23DEE0A49D2009E008E3AC47F93B5DDE",
         "createdAtMillis": 1622329845542,
         "agree": 1,
         "disagree": 0,
         "helpful": 1,
         "notHelpful": 0,
         "helpfulOther": 0,
         "helpfulInformative": 1,
         "helpfulClear": 1,
         "helpfulEmpathetic": 0,
         "helpfulGoodSources": 1,
         "helpfulUniqueContext": 1,
         "notHelpfulOther": 0,
         "notHelpfulIncorrect": 0,
         "notHelpfulSourcesMissingOrUnreliable": 0,
         "notHelpfulOpinionSpeculationOrBias": 0,
         "notHelpfulMissingKeyPoints": 0,
         "notHelpfulOutdated": 0,
         "notHelpfulHardToUnderstand": 0,
         "notHelpfulArgumentativeOrInflammatory": 0,
         "notHelpfulOffTopic": 0,
         "notHelpfulSpamHarassmentOrAbuse": 0,
         "_deepnote_index_column": 24537
        },
        {
         "noteId": 1398668012983627800,
         "participantId": "AECA621BD49DBD17B585EFF22D682450",
         "createdAtMillis": 1622332732155,
         "agree": 0,
         "disagree": 1,
         "helpful": 0,
         "notHelpful": 1,
         "helpfulOther": 0,
         "helpfulInformative": 0,
         "helpfulClear": 0,
         "helpfulEmpathetic": 0,
         "helpfulGoodSources": 0,
         "helpfulUniqueContext": 0,
         "notHelpfulOther": 0,
         "notHelpfulIncorrect": 0,
         "notHelpfulSourcesMissingOrUnreliable": 1,
         "notHelpfulOpinionSpeculationOrBias": 0,
         "notHelpfulMissingKeyPoints": 0,
         "notHelpfulOutdated": 0,
         "notHelpfulHardToUnderstand": 0,
         "notHelpfulArgumentativeOrInflammatory": 0,
         "notHelpfulOffTopic": 0,
         "notHelpfulSpamHarassmentOrAbuse": 0,
         "_deepnote_index_column": 24538
        },
        {
         "noteId": 1398689410980319200,
         "participantId": "162503E2BA7796BE1585D8AD76DCD39B",
         "createdAtMillis": 1622318700387,
         "agree": 1,
         "disagree": 0,
         "helpful": 1,
         "notHelpful": 0,
         "helpfulOther": 0,
         "helpfulInformative": 1,
         "helpfulClear": 1,
         "helpfulEmpathetic": 0,
         "helpfulGoodSources": 1,
         "helpfulUniqueContext": 0,
         "notHelpfulOther": 0,
         "notHelpfulIncorrect": 0,
         "notHelpfulSourcesMissingOrUnreliable": 0,
         "notHelpfulOpinionSpeculationOrBias": 0,
         "notHelpfulMissingKeyPoints": 0,
         "notHelpfulOutdated": 0,
         "notHelpfulHardToUnderstand": 0,
         "notHelpfulArgumentativeOrInflammatory": 0,
         "notHelpfulOffTopic": 0,
         "notHelpfulSpamHarassmentOrAbuse": 0,
         "_deepnote_index_column": 24539
        },
        {
         "noteId": 1398776688566280200,
         "participantId": "D6AF93837A1935E2421A23BD9185ED35",
         "createdAtMillis": 1622333282757,
         "agree": 1,
         "disagree": 0,
         "helpful": 1,
         "notHelpful": 0,
         "helpfulOther": 0,
         "helpfulInformative": 1,
         "helpfulClear": 0,
         "helpfulEmpathetic": 0,
         "helpfulGoodSources": 0,
         "helpfulUniqueContext": 0,
         "notHelpfulOther": 0,
         "notHelpfulIncorrect": 0,
         "notHelpfulSourcesMissingOrUnreliable": 0,
         "notHelpfulOpinionSpeculationOrBias": 0,
         "notHelpfulMissingKeyPoints": 0,
         "notHelpfulOutdated": 0,
         "notHelpfulHardToUnderstand": 0,
         "notHelpfulArgumentativeOrInflammatory": 0,
         "notHelpfulOffTopic": 0,
         "notHelpfulSpamHarassmentOrAbuse": 0,
         "_deepnote_index_column": 24540
        },
        {
         "noteId": 1398786944755191800,
         "participantId": "AECA621BD49DBD17B585EFF22D682450",
         "createdAtMillis": 1622332838727,
         "agree": 0,
         "disagree": 1,
         "helpful": 0,
         "notHelpful": 1,
         "helpfulOther": 0,
         "helpfulInformative": 0,
         "helpfulClear": 0,
         "helpfulEmpathetic": 0,
         "helpfulGoodSources": 0,
         "helpfulUniqueContext": 0,
         "notHelpfulOther": 0,
         "notHelpfulIncorrect": 0,
         "notHelpfulSourcesMissingOrUnreliable": 0,
         "notHelpfulOpinionSpeculationOrBias": 0,
         "notHelpfulMissingKeyPoints": 1,
         "notHelpfulOutdated": 0,
         "notHelpfulHardToUnderstand": 0,
         "notHelpfulArgumentativeOrInflammatory": 0,
         "notHelpfulOffTopic": 0,
         "notHelpfulSpamHarassmentOrAbuse": 0,
         "_deepnote_index_column": 24541
        },
        {
         "noteId": 1398787894425313300,
         "participantId": "AECA621BD49DBD17B585EFF22D682450",
         "createdAtMillis": 1622332816300,
         "agree": 0,
         "disagree": 1,
         "helpful": 0,
         "notHelpful": 1,
         "helpfulOther": 0,
         "helpfulInformative": 0,
         "helpfulClear": 0,
         "helpfulEmpathetic": 0,
         "helpfulGoodSources": 0,
         "helpfulUniqueContext": 0,
         "notHelpfulOther": 0,
         "notHelpfulIncorrect": 0,
         "notHelpfulSourcesMissingOrUnreliable": 0,
         "notHelpfulOpinionSpeculationOrBias": 1,
         "notHelpfulMissingKeyPoints": 1,
         "notHelpfulOutdated": 0,
         "notHelpfulHardToUnderstand": 0,
         "notHelpfulArgumentativeOrInflammatory": 0,
         "notHelpfulOffTopic": 0,
         "notHelpfulSpamHarassmentOrAbuse": 0,
         "_deepnote_index_column": 24542
        },
        {
         "noteId": 1398789399811342300,
         "participantId": "AECA621BD49DBD17B585EFF22D682450",
         "createdAtMillis": 1622332797727,
         "agree": 0,
         "disagree": 1,
         "helpful": 0,
         "notHelpful": 1,
         "helpfulOther": 0,
         "helpfulInformative": 0,
         "helpfulClear": 0,
         "helpfulEmpathetic": 0,
         "helpfulGoodSources": 0,
         "helpfulUniqueContext": 0,
         "notHelpfulOther": 0,
         "notHelpfulIncorrect": 0,
         "notHelpfulSourcesMissingOrUnreliable": 0,
         "notHelpfulOpinionSpeculationOrBias": 0,
         "notHelpfulMissingKeyPoints": 0,
         "notHelpfulOutdated": 1,
         "notHelpfulHardToUnderstand": 0,
         "notHelpfulArgumentativeOrInflammatory": 0,
         "notHelpfulOffTopic": 0,
         "notHelpfulSpamHarassmentOrAbuse": 0,
         "_deepnote_index_column": 24543
        },
        {
         "noteId": 1398790371770081300,
         "participantId": "AECA621BD49DBD17B585EFF22D682450",
         "createdAtMillis": 1622332777659,
         "agree": 0,
         "disagree": 1,
         "helpful": 0,
         "notHelpful": 1,
         "helpfulOther": 0,
         "helpfulInformative": 0,
         "helpfulClear": 0,
         "helpfulEmpathetic": 0,
         "helpfulGoodSources": 0,
         "helpfulUniqueContext": 0,
         "notHelpfulOther": 0,
         "notHelpfulIncorrect": 0,
         "notHelpfulSourcesMissingOrUnreliable": 0,
         "notHelpfulOpinionSpeculationOrBias": 0,
         "notHelpfulMissingKeyPoints": 1,
         "notHelpfulOutdated": 0,
         "notHelpfulHardToUnderstand": 0,
         "notHelpfulArgumentativeOrInflammatory": 0,
         "notHelpfulOffTopic": 0,
         "notHelpfulSpamHarassmentOrAbuse": 0,
         "_deepnote_index_column": 24544
        }
       ]
      },
      "text/plain": "                    noteId                     participantId  createdAtMillis  \\\n0      1352796878438424576  7644DF3FD853416F0C96933CCC1BA9B7    1611796572477   \n1      1352796878438424576  7585B8804A32416E91E51837F351F249    1611388222120   \n2      1352796878438424576  628C786C63B5A4D32E13C6C442E1863D    1611623203338   \n3      1352796878438424576  0D7ED07D5421118311EEED5E4ECF2968    1611860252442   \n4      1352796878438424576  EFD7E04E740224D2DDB42A2C910B62C1    1611852744990   \n...                    ...                               ...              ...   \n24540  1398776688566280193  D6AF93837A1935E2421A23BD9185ED35    1622333282757   \n24541  1398786944755191818  AECA621BD49DBD17B585EFF22D682450    1622332838727   \n24542  1398787894425313284  AECA621BD49DBD17B585EFF22D682450    1622332816300   \n24543  1398789399811342338  AECA621BD49DBD17B585EFF22D682450    1622332797727   \n24544  1398790371770081283  AECA621BD49DBD17B585EFF22D682450    1622332777659   \n\n       agree  disagree  helpful  notHelpful  helpfulOther  helpfulInformative  \\\n0          0         1        0           1             0                   0   \n1          1         0        1           0             0                   1   \n2          0         0        0           1             0                   0   \n3          1         0        1           0             0                   1   \n4          1         0        1           0             0                   1   \n...      ...       ...      ...         ...           ...                 ...   \n24540      1         0        1           0             0                   1   \n24541      0         1        0           1             0                   0   \n24542      0         1        0           1             0                   0   \n24543      0         1        0           1             0                   0   \n24544      0         1        0           1             0                   0   \n\n       helpfulClear  ...  notHelpfulOther  notHelpfulIncorrect  \\\n0                 0  ...                1                    0   \n1                 0  ...                0                    0   \n2                 0  ...                0                    0   \n3                 1  ...                0                    0   \n4                 1  ...                0                    0   \n...             ...  ...              ...                  ...   \n24540             0  ...                0                    0   \n24541             0  ...                0                    0   \n24542             0  ...                0                    0   \n24543             0  ...                0                    0   \n24544             0  ...                0                    0   \n\n       notHelpfulSourcesMissingOrUnreliable  \\\n0                                         0   \n1                                         0   \n2                                         0   \n3                                         0   \n4                                         0   \n...                                     ...   \n24540                                     0   \n24541                                     0   \n24542                                     0   \n24543                                     0   \n24544                                     0   \n\n       notHelpfulOpinionSpeculationOrBias  notHelpfulMissingKeyPoints  \\\n0                                       0                           0   \n1                                       0                           0   \n2                                       0                           0   \n3                                       0                           0   \n4                                       0                           0   \n...                                   ...                         ...   \n24540                                   0                           0   \n24541                                   0                           1   \n24542                                   1                           1   \n24543                                   0                           0   \n24544                                   0                           1   \n\n       notHelpfulOutdated  notHelpfulHardToUnderstand  \\\n0                       0                           0   \n1                       0                           0   \n2                       0                           0   \n3                       0                           0   \n4                       0                           0   \n...                   ...                         ...   \n24540                   0                           0   \n24541                   0                           0   \n24542                   0                           0   \n24543                   1                           0   \n24544                   0                           0   \n\n       notHelpfulArgumentativeOrInflammatory  notHelpfulOffTopic  \\\n0                                          0                   0   \n1                                          0                   0   \n2                                          0                   0   \n3                                          0                   0   \n4                                          0                   0   \n...                                      ...                 ...   \n24540                                      0                   0   \n24541                                      0                   0   \n24542                                      0                   0   \n24543                                      0                   0   \n24544                                      0                   0   \n\n       notHelpfulSpamHarassmentOrAbuse  \n0                                    1  \n1                                    0  \n2                                    0  \n3                                    0  \n4                                    0  \n...                                ...  \n24540                                0  \n24541                                0  \n24542                                0  \n24543                                0  \n24544                                0  \n\n[24545 rows x 23 columns]",
      "text/html": "<div>\n<style scoped>\n    .dataframe tbody tr th:only-of-type {\n        vertical-align: middle;\n    }\n\n    .dataframe tbody tr th {\n        vertical-align: top;\n    }\n\n    .dataframe thead th {\n        text-align: right;\n    }\n</style>\n<table border=\"1\" class=\"dataframe\">\n  <thead>\n    <tr style=\"text-align: right;\">\n      <th></th>\n      <th>noteId</th>\n      <th>participantId</th>\n      <th>createdAtMillis</th>\n      <th>agree</th>\n      <th>disagree</th>\n      <th>helpful</th>\n      <th>notHelpful</th>\n      <th>helpfulOther</th>\n      <th>helpfulInformative</th>\n      <th>helpfulClear</th>\n      <th>...</th>\n      <th>notHelpfulOther</th>\n      <th>notHelpfulIncorrect</th>\n      <th>notHelpfulSourcesMissingOrUnreliable</th>\n      <th>notHelpfulOpinionSpeculationOrBias</th>\n      <th>notHelpfulMissingKeyPoints</th>\n      <th>notHelpfulOutdated</th>\n      <th>notHelpfulHardToUnderstand</th>\n      <th>notHelpfulArgumentativeOrInflammatory</th>\n      <th>notHelpfulOffTopic</th>\n      <th>notHelpfulSpamHarassmentOrAbuse</th>\n    </tr>\n  </thead>\n  <tbody>\n    <tr>\n      <th>0</th>\n      <td>1352796878438424576</td>\n      <td>7644DF3FD853416F0C96933CCC1BA9B7</td>\n      <td>1611796572477</td>\n      <td>0</td>\n      <td>1</td>\n      <td>0</td>\n      <td>1</td>\n      <td>0</td>\n      <td>0</td>\n      <td>0</td>\n      <td>...</td>\n      <td>1</td>\n      <td>0</td>\n      <td>0</td>\n      <td>0</td>\n      <td>0</td>\n      <td>0</td>\n      <td>0</td>\n      <td>0</td>\n      <td>0</td>\n      <td>1</td>\n    </tr>\n    <tr>\n      <th>1</th>\n      <td>1352796878438424576</td>\n      <td>7585B8804A32416E91E51837F351F249</td>\n      <td>1611388222120</td>\n      <td>1</td>\n      <td>0</td>\n      <td>1</td>\n      <td>0</td>\n      <td>0</td>\n      <td>1</td>\n      <td>0</td>\n      <td>...</td>\n      <td>0</td>\n      <td>0</td>\n      <td>0</td>\n      <td>0</td>\n      <td>0</td>\n      <td>0</td>\n      <td>0</td>\n      <td>0</td>\n      <td>0</td>\n      <td>0</td>\n    </tr>\n    <tr>\n      <th>2</th>\n      <td>1352796878438424576</td>\n      <td>628C786C63B5A4D32E13C6C442E1863D</td>\n      <td>1611623203338</td>\n      <td>0</td>\n      <td>0</td>\n      <td>0</td>\n      <td>1</td>\n      <td>0</td>\n      <td>0</td>\n      <td>0</td>\n      <td>...</td>\n      <td>0</td>\n      <td>0</td>\n      <td>0</td>\n      <td>0</td>\n      <td>0</td>\n      <td>0</td>\n      <td>0</td>\n      <td>0</td>\n      <td>0</td>\n      <td>0</td>\n    </tr>\n    <tr>\n      <th>3</th>\n      <td>1352796878438424576</td>\n      <td>0D7ED07D5421118311EEED5E4ECF2968</td>\n      <td>1611860252442</td>\n      <td>1</td>\n      <td>0</td>\n      <td>1</td>\n      <td>0</td>\n      <td>0</td>\n      <td>1</td>\n      <td>1</td>\n      <td>...</td>\n      <td>0</td>\n      <td>0</td>\n      <td>0</td>\n      <td>0</td>\n      <td>0</td>\n      <td>0</td>\n      <td>0</td>\n      <td>0</td>\n      <td>0</td>\n      <td>0</td>\n    </tr>\n    <tr>\n      <th>4</th>\n      <td>1352796878438424576</td>\n      <td>EFD7E04E740224D2DDB42A2C910B62C1</td>\n      <td>1611852744990</td>\n      <td>1</td>\n      <td>0</td>\n      <td>1</td>\n      <td>0</td>\n      <td>0</td>\n      <td>1</td>\n      <td>1</td>\n      <td>...</td>\n      <td>0</td>\n      <td>0</td>\n      <td>0</td>\n      <td>0</td>\n      <td>0</td>\n      <td>0</td>\n      <td>0</td>\n      <td>0</td>\n      <td>0</td>\n      <td>0</td>\n    </tr>\n    <tr>\n      <th>...</th>\n      <td>...</td>\n      <td>...</td>\n      <td>...</td>\n      <td>...</td>\n      <td>...</td>\n      <td>...</td>\n      <td>...</td>\n      <td>...</td>\n      <td>...</td>\n      <td>...</td>\n      <td>...</td>\n      <td>...</td>\n      <td>...</td>\n      <td>...</td>\n      <td>...</td>\n      <td>...</td>\n      <td>...</td>\n      <td>...</td>\n      <td>...</td>\n      <td>...</td>\n      <td>...</td>\n    </tr>\n    <tr>\n      <th>24540</th>\n      <td>1398776688566280193</td>\n      <td>D6AF93837A1935E2421A23BD9185ED35</td>\n      <td>1622333282757</td>\n      <td>1</td>\n      <td>0</td>\n      <td>1</td>\n      <td>0</td>\n      <td>0</td>\n      <td>1</td>\n      <td>0</td>\n      <td>...</td>\n      <td>0</td>\n      <td>0</td>\n      <td>0</td>\n      <td>0</td>\n      <td>0</td>\n      <td>0</td>\n      <td>0</td>\n      <td>0</td>\n      <td>0</td>\n      <td>0</td>\n    </tr>\n    <tr>\n      <th>24541</th>\n      <td>1398786944755191818</td>\n      <td>AECA621BD49DBD17B585EFF22D682450</td>\n      <td>1622332838727</td>\n      <td>0</td>\n      <td>1</td>\n      <td>0</td>\n      <td>1</td>\n      <td>0</td>\n      <td>0</td>\n      <td>0</td>\n      <td>...</td>\n      <td>0</td>\n      <td>0</td>\n      <td>0</td>\n      <td>0</td>\n      <td>1</td>\n      <td>0</td>\n      <td>0</td>\n      <td>0</td>\n      <td>0</td>\n      <td>0</td>\n    </tr>\n    <tr>\n      <th>24542</th>\n      <td>1398787894425313284</td>\n      <td>AECA621BD49DBD17B585EFF22D682450</td>\n      <td>1622332816300</td>\n      <td>0</td>\n      <td>1</td>\n      <td>0</td>\n      <td>1</td>\n      <td>0</td>\n      <td>0</td>\n      <td>0</td>\n      <td>...</td>\n      <td>0</td>\n      <td>0</td>\n      <td>0</td>\n      <td>1</td>\n      <td>1</td>\n      <td>0</td>\n      <td>0</td>\n      <td>0</td>\n      <td>0</td>\n      <td>0</td>\n    </tr>\n    <tr>\n      <th>24543</th>\n      <td>1398789399811342338</td>\n      <td>AECA621BD49DBD17B585EFF22D682450</td>\n      <td>1622332797727</td>\n      <td>0</td>\n      <td>1</td>\n      <td>0</td>\n      <td>1</td>\n      <td>0</td>\n      <td>0</td>\n      <td>0</td>\n      <td>...</td>\n      <td>0</td>\n      <td>0</td>\n      <td>0</td>\n      <td>0</td>\n      <td>0</td>\n      <td>1</td>\n      <td>0</td>\n      <td>0</td>\n      <td>0</td>\n      <td>0</td>\n    </tr>\n    <tr>\n      <th>24544</th>\n      <td>1398790371770081283</td>\n      <td>AECA621BD49DBD17B585EFF22D682450</td>\n      <td>1622332777659</td>\n      <td>0</td>\n      <td>1</td>\n      <td>0</td>\n      <td>1</td>\n      <td>0</td>\n      <td>0</td>\n      <td>0</td>\n      <td>...</td>\n      <td>0</td>\n      <td>0</td>\n      <td>0</td>\n      <td>0</td>\n      <td>1</td>\n      <td>0</td>\n      <td>0</td>\n      <td>0</td>\n      <td>0</td>\n      <td>0</td>\n    </tr>\n  </tbody>\n</table>\n<p>24545 rows × 23 columns</p>\n</div>"
     },
     "metadata": {}
    }
   ]
  },
  {
   "cell_type": "code",
   "metadata": {
    "tags": [],
    "cell_id": "00014-389e75bd-68d7-4a6b-bbe2-1fa5ecee343e",
    "deepnote_to_be_reexecuted": false,
    "source_hash": "ad689bc5",
    "execution_start": 1638943889679,
    "execution_millis": 360,
    "deepnote_cell_type": "code"
   },
   "source": "tweets = pd.read_csv('noted-tweets.csv', sep=\",\")",
   "execution_count": null,
   "outputs": []
  },
  {
   "cell_type": "code",
   "metadata": {
    "tags": [],
    "cell_id": "00016-80c18a86-5fab-4d7a-b7c4-8f63810bf2b9",
    "deepnote_to_be_reexecuted": false,
    "source_hash": "b623e53d",
    "execution_start": 1638943889816,
    "execution_millis": 0,
    "deepnote_cell_type": "code"
   },
   "source": "",
   "execution_count": null,
   "outputs": []
  },
  {
   "cell_type": "code",
   "metadata": {
    "tags": [],
    "cell_id": "00016-fe336e04-6a3c-456c-9751-d4cd29896f4d",
    "deepnote_to_be_reexecuted": false,
    "source_hash": "171d13d",
    "execution_start": 1638943889817,
    "execution_millis": 228,
    "deepnote_output_heights": [
     232.390625
    ],
    "deepnote_cell_type": "code"
   },
   "source": "tweets.text.str.len().value_counts()",
   "execution_count": null,
   "outputs": [
    {
     "output_type": "execute_result",
     "execution_count": 15,
     "data": {
      "text/plain": "177.0    694\n23.0     241\n280.0    141\n279.0    118\n304.0    109\n        ... \n435.0      1\n354.0      1\n325.0      1\n327.0      1\n834.0      1\nName: text, Length: 350, dtype: int64"
     },
     "metadata": {}
    }
   ]
  },
  {
   "cell_type": "code",
   "metadata": {
    "tags": [],
    "cell_id": "00017-f206fb15-a787-47c0-a268-a96aee6b2f7b",
    "deepnote_to_be_reexecuted": false,
    "source_hash": "68e6f883",
    "execution_start": 1638943889860,
    "execution_millis": 195,
    "deepnote_cell_type": "code"
   },
   "source": "tweets[tweets.text.isna()]",
   "execution_count": null,
   "outputs": [
    {
     "output_type": "execute_result",
     "execution_count": 16,
     "data": {
      "application/vnd.deepnote.dataframe.v2+json": {
       "row_count": 1382,
       "column_count": 7,
       "columns": [
        {
         "name": "Unnamed: 0",
         "dtype": "int64",
         "stats": {
          "unique_count": 869,
          "nan_count": 0,
          "min": "0",
          "max": "6887",
          "histogram": [
           {
            "bin_start": 0,
            "bin_end": 688.7,
            "count": 682
           },
           {
            "bin_start": 688.7,
            "bin_end": 1377.4,
            "count": 62
           },
           {
            "bin_start": 1377.4,
            "bin_end": 2066.1000000000004,
            "count": 55
           },
           {
            "bin_start": 2066.1000000000004,
            "bin_end": 2754.8,
            "count": 75
           },
           {
            "bin_start": 2754.8,
            "bin_end": 3443.5,
            "count": 83
           },
           {
            "bin_start": 3443.5,
            "bin_end": 4132.200000000001,
            "count": 67
           },
           {
            "bin_start": 4132.200000000001,
            "bin_end": 4820.900000000001,
            "count": 63
           },
           {
            "bin_start": 4820.900000000001,
            "bin_end": 5509.6,
            "count": 109
           },
           {
            "bin_start": 5509.6,
            "bin_end": 6198.3,
            "count": 90
           },
           {
            "bin_start": 6198.3,
            "bin_end": 6887,
            "count": 96
           }
          ]
         }
        },
        {
         "name": "tweetId",
         "dtype": "int64",
         "stats": {
          "unique_count": 1382,
          "nan_count": 0,
          "min": "793208373235871744",
          "max": "1441251503755386880",
          "histogram": [
           {
            "bin_start": 793208373235871700,
            "bin_end": 858012686287823200,
            "count": 1
           },
           {
            "bin_start": 858012686287823200,
            "bin_end": 922816999339774700,
            "count": 0
           },
           {
            "bin_start": 922816999339774700,
            "bin_end": 987621312391726300,
            "count": 0
           },
           {
            "bin_start": 987621312391726300,
            "bin_end": 1052425625443677800,
            "count": 0
           },
           {
            "bin_start": 1052425625443677800,
            "bin_end": 1117229938495629300,
            "count": 0
           },
           {
            "bin_start": 1117229938495629300,
            "bin_end": 1182034251547581000,
            "count": 0
           },
           {
            "bin_start": 1182034251547581000,
            "bin_end": 1246838564599532300,
            "count": 0
           },
           {
            "bin_start": 1246838564599532300,
            "bin_end": 1311642877651484000,
            "count": 2
           },
           {
            "bin_start": 1311642877651484000,
            "bin_end": 1376447190703435300,
            "count": 506
           },
           {
            "bin_start": 1376447190703435300,
            "bin_end": 1441251503755387000,
            "count": 873
           }
          ]
         }
        },
        {
         "name": "username",
         "dtype": "object",
         "stats": {
          "unique_count": 0,
          "nan_count": 1382,
          "categories": [
           {
            "name": "Missing",
            "count": 1382
           }
          ]
         }
        },
        {
         "name": "userId",
         "dtype": "float64",
         "stats": {
          "unique_count": 0,
          "nan_count": 1382,
          "min": null,
          "max": null,
          "histogram": [
           {
            "bin_start": 0,
            "bin_end": 0.1,
            "count": 0
           },
           {
            "bin_start": 0.1,
            "bin_end": 0.2,
            "count": 0
           },
           {
            "bin_start": 0.2,
            "bin_end": 0.30000000000000004,
            "count": 0
           },
           {
            "bin_start": 0.30000000000000004,
            "bin_end": 0.4,
            "count": 0
           },
           {
            "bin_start": 0.4,
            "bin_end": 0.5,
            "count": 0
           },
           {
            "bin_start": 0.5,
            "bin_end": 0.6000000000000001,
            "count": 0
           },
           {
            "bin_start": 0.6000000000000001,
            "bin_end": 0.7000000000000001,
            "count": 0
           },
           {
            "bin_start": 0.7000000000000001,
            "bin_end": 0.8,
            "count": 0
           },
           {
            "bin_start": 0.8,
            "bin_end": 0.9,
            "count": 0
           },
           {
            "bin_start": 0.9,
            "bin_end": 1,
            "count": 0
           }
          ]
         }
        },
        {
         "name": "text",
         "dtype": "object",
         "stats": {
          "unique_count": 0,
          "nan_count": 1382,
          "categories": [
           {
            "name": "Missing",
            "count": 1382
           }
          ]
         }
        },
        {
         "name": "time",
         "dtype": "object",
         "stats": {
          "unique_count": 0,
          "nan_count": 1382,
          "categories": [
           {
            "name": "Missing",
            "count": 1382
           }
          ]
         }
        },
        {
         "name": "link",
         "dtype": "object",
         "stats": {
          "unique_count": 0,
          "nan_count": 1382,
          "categories": [
           {
            "name": "Missing",
            "count": 1382
           }
          ]
         }
        },
        {
         "name": "_deepnote_index_column",
         "dtype": "int64"
        }
       ],
       "rows_top": [
        {
         "Unnamed: 0": 0,
         "tweetId": 1353031711349739500,
         "username": "nan",
         "userId": "nan",
         "text": "nan",
         "time": "nan",
         "link": "nan",
         "_deepnote_index_column": 0
        },
        {
         "Unnamed: 0": 8,
         "tweetId": 1354905286264430600,
         "username": "nan",
         "userId": "nan",
         "text": "nan",
         "time": "nan",
         "link": "nan",
         "_deepnote_index_column": 8
        },
        {
         "Unnamed: 0": 32,
         "tweetId": 1361491641488572400,
         "username": "nan",
         "userId": "nan",
         "text": "nan",
         "time": "nan",
         "link": "nan",
         "_deepnote_index_column": 32
        },
        {
         "Unnamed: 0": 43,
         "tweetId": 1362436244425347000,
         "username": "nan",
         "userId": "nan",
         "text": "nan",
         "time": "nan",
         "link": "nan",
         "_deepnote_index_column": 43
        },
        {
         "Unnamed: 0": 48,
         "tweetId": 1358172874973003800,
         "username": "nan",
         "userId": "nan",
         "text": "nan",
         "time": "nan",
         "link": "nan",
         "_deepnote_index_column": 48
        },
        {
         "Unnamed: 0": 77,
         "tweetId": 1355213234496823300,
         "username": "nan",
         "userId": "nan",
         "text": "nan",
         "time": "nan",
         "link": "nan",
         "_deepnote_index_column": 77
        },
        {
         "Unnamed: 0": 78,
         "tweetId": 1355313351711199200,
         "username": "nan",
         "userId": "nan",
         "text": "nan",
         "time": "nan",
         "link": "nan",
         "_deepnote_index_column": 78
        },
        {
         "Unnamed: 0": 84,
         "tweetId": 1365048476283916300,
         "username": "nan",
         "userId": "nan",
         "text": "nan",
         "time": "nan",
         "link": "nan",
         "_deepnote_index_column": 84
        },
        {
         "Unnamed: 0": 86,
         "tweetId": 1388996455126507500,
         "username": "nan",
         "userId": "nan",
         "text": "nan",
         "time": "nan",
         "link": "nan",
         "_deepnote_index_column": 86
        },
        {
         "Unnamed: 0": 112,
         "tweetId": 1391500791329038300,
         "username": "nan",
         "userId": "nan",
         "text": "nan",
         "time": "nan",
         "link": "nan",
         "_deepnote_index_column": 112
        },
        {
         "Unnamed: 0": 119,
         "tweetId": 1362899241920782300,
         "username": "nan",
         "userId": "nan",
         "text": "nan",
         "time": "nan",
         "link": "nan",
         "_deepnote_index_column": 119
        },
        {
         "Unnamed: 0": 120,
         "tweetId": 1362811514172756000,
         "username": "nan",
         "userId": "nan",
         "text": "nan",
         "time": "nan",
         "link": "nan",
         "_deepnote_index_column": 120
        },
        {
         "Unnamed: 0": 132,
         "tweetId": 1396524968813416400,
         "username": "nan",
         "userId": "nan",
         "text": "nan",
         "time": "nan",
         "link": "nan",
         "_deepnote_index_column": 132
        },
        {
         "Unnamed: 0": 141,
         "tweetId": 1376290987501256700,
         "username": "nan",
         "userId": "nan",
         "text": "nan",
         "time": "nan",
         "link": "nan",
         "_deepnote_index_column": 141
        },
        {
         "Unnamed: 0": 161,
         "tweetId": 1357128697061507000,
         "username": "nan",
         "userId": "nan",
         "text": "nan",
         "time": "nan",
         "link": "nan",
         "_deepnote_index_column": 161
        },
        {
         "Unnamed: 0": 165,
         "tweetId": 1358184829838360600,
         "username": "nan",
         "userId": "nan",
         "text": "nan",
         "time": "nan",
         "link": "nan",
         "_deepnote_index_column": 165
        },
        {
         "Unnamed: 0": 172,
         "tweetId": 1363605445529772000,
         "username": "nan",
         "userId": "nan",
         "text": "nan",
         "time": "nan",
         "link": "nan",
         "_deepnote_index_column": 172
        },
        {
         "Unnamed: 0": 178,
         "tweetId": 1390437027750023200,
         "username": "nan",
         "userId": "nan",
         "text": "nan",
         "time": "nan",
         "link": "nan",
         "_deepnote_index_column": 178
        },
        {
         "Unnamed: 0": 190,
         "tweetId": 1370591965155225600,
         "username": "nan",
         "userId": "nan",
         "text": "nan",
         "time": "nan",
         "link": "nan",
         "_deepnote_index_column": 190
        },
        {
         "Unnamed: 0": 194,
         "tweetId": 1389030353558515700,
         "username": "nan",
         "userId": "nan",
         "text": "nan",
         "time": "nan",
         "link": "nan",
         "_deepnote_index_column": 194
        },
        {
         "Unnamed: 0": 197,
         "tweetId": 1376376768173576200,
         "username": "nan",
         "userId": "nan",
         "text": "nan",
         "time": "nan",
         "link": "nan",
         "_deepnote_index_column": 197
        },
        {
         "Unnamed: 0": 200,
         "tweetId": 1354011576743964700,
         "username": "nan",
         "userId": "nan",
         "text": "nan",
         "time": "nan",
         "link": "nan",
         "_deepnote_index_column": 200
        },
        {
         "Unnamed: 0": 212,
         "tweetId": 1360056505538642000,
         "username": "nan",
         "userId": "nan",
         "text": "nan",
         "time": "nan",
         "link": "nan",
         "_deepnote_index_column": 212
        },
        {
         "Unnamed: 0": 220,
         "tweetId": 1391243485316059100,
         "username": "nan",
         "userId": "nan",
         "text": "nan",
         "time": "nan",
         "link": "nan",
         "_deepnote_index_column": 220
        },
        {
         "Unnamed: 0": 229,
         "tweetId": 1370171954779541500,
         "username": "nan",
         "userId": "nan",
         "text": "nan",
         "time": "nan",
         "link": "nan",
         "_deepnote_index_column": 229
        },
        {
         "Unnamed: 0": 230,
         "tweetId": 1370087617392488400,
         "username": "nan",
         "userId": "nan",
         "text": "nan",
         "time": "nan",
         "link": "nan",
         "_deepnote_index_column": 230
        },
        {
         "Unnamed: 0": 256,
         "tweetId": 1386076095850688500,
         "username": "nan",
         "userId": "nan",
         "text": "nan",
         "time": "nan",
         "link": "nan",
         "_deepnote_index_column": 256
        },
        {
         "Unnamed: 0": 258,
         "tweetId": 1386683794997006300,
         "username": "nan",
         "userId": "nan",
         "text": "nan",
         "time": "nan",
         "link": "nan",
         "_deepnote_index_column": 258
        },
        {
         "Unnamed: 0": 276,
         "tweetId": 1362460249479913500,
         "username": "nan",
         "userId": "nan",
         "text": "nan",
         "time": "nan",
         "link": "nan",
         "_deepnote_index_column": 276
        },
        {
         "Unnamed: 0": 285,
         "tweetId": 1375272261490462700,
         "username": "nan",
         "userId": "nan",
         "text": "nan",
         "time": "nan",
         "link": "nan",
         "_deepnote_index_column": 285
        },
        {
         "Unnamed: 0": 290,
         "tweetId": 1373669184643666000,
         "username": "nan",
         "userId": "nan",
         "text": "nan",
         "time": "nan",
         "link": "nan",
         "_deepnote_index_column": 290
        },
        {
         "Unnamed: 0": 294,
         "tweetId": 1374006211025207300,
         "username": "nan",
         "userId": "nan",
         "text": "nan",
         "time": "nan",
         "link": "nan",
         "_deepnote_index_column": 294
        },
        {
         "Unnamed: 0": 295,
         "tweetId": 1373452925310136300,
         "username": "nan",
         "userId": "nan",
         "text": "nan",
         "time": "nan",
         "link": "nan",
         "_deepnote_index_column": 295
        },
        {
         "Unnamed: 0": 305,
         "tweetId": 1373633928276320300,
         "username": "nan",
         "userId": "nan",
         "text": "nan",
         "time": "nan",
         "link": "nan",
         "_deepnote_index_column": 305
        },
        {
         "Unnamed: 0": 322,
         "tweetId": 1361431612290969600,
         "username": "nan",
         "userId": "nan",
         "text": "nan",
         "time": "nan",
         "link": "nan",
         "_deepnote_index_column": 322
        },
        {
         "Unnamed: 0": 335,
         "tweetId": 1373183292875362300,
         "username": "nan",
         "userId": "nan",
         "text": "nan",
         "time": "nan",
         "link": "nan",
         "_deepnote_index_column": 335
        },
        {
         "Unnamed: 0": 337,
         "tweetId": 1372773573694083000,
         "username": "nan",
         "userId": "nan",
         "text": "nan",
         "time": "nan",
         "link": "nan",
         "_deepnote_index_column": 337
        },
        {
         "Unnamed: 0": 339,
         "tweetId": 1373213764129071000,
         "username": "nan",
         "userId": "nan",
         "text": "nan",
         "time": "nan",
         "link": "nan",
         "_deepnote_index_column": 339
        },
        {
         "Unnamed: 0": 353,
         "tweetId": 1375586370471653400,
         "username": "nan",
         "userId": "nan",
         "text": "nan",
         "time": "nan",
         "link": "nan",
         "_deepnote_index_column": 353
        },
        {
         "Unnamed: 0": 363,
         "tweetId": 1374609821924798500,
         "username": "nan",
         "userId": "nan",
         "text": "nan",
         "time": "nan",
         "link": "nan",
         "_deepnote_index_column": 363
        },
        {
         "Unnamed: 0": 364,
         "tweetId": 1367618894563733500,
         "username": "nan",
         "userId": "nan",
         "text": "nan",
         "time": "nan",
         "link": "nan",
         "_deepnote_index_column": 364
        },
        {
         "Unnamed: 0": 381,
         "tweetId": 1373940491293761500,
         "username": "nan",
         "userId": "nan",
         "text": "nan",
         "time": "nan",
         "link": "nan",
         "_deepnote_index_column": 381
        },
        {
         "Unnamed: 0": 382,
         "tweetId": 1374329667596001300,
         "username": "nan",
         "userId": "nan",
         "text": "nan",
         "time": "nan",
         "link": "nan",
         "_deepnote_index_column": 382
        },
        {
         "Unnamed: 0": 388,
         "tweetId": 1373571947435593700,
         "username": "nan",
         "userId": "nan",
         "text": "nan",
         "time": "nan",
         "link": "nan",
         "_deepnote_index_column": 388
        },
        {
         "Unnamed: 0": 392,
         "tweetId": 1375967279188414500,
         "username": "nan",
         "userId": "nan",
         "text": "nan",
         "time": "nan",
         "link": "nan",
         "_deepnote_index_column": 392
        },
        {
         "Unnamed: 0": 410,
         "tweetId": 1375992631994556400,
         "username": "nan",
         "userId": "nan",
         "text": "nan",
         "time": "nan",
         "link": "nan",
         "_deepnote_index_column": 410
        },
        {
         "Unnamed: 0": 412,
         "tweetId": 1376212844664983600,
         "username": "nan",
         "userId": "nan",
         "text": "nan",
         "time": "nan",
         "link": "nan",
         "_deepnote_index_column": 412
        },
        {
         "Unnamed: 0": 416,
         "tweetId": 1376231031318192000,
         "username": "nan",
         "userId": "nan",
         "text": "nan",
         "time": "nan",
         "link": "nan",
         "_deepnote_index_column": 416
        },
        {
         "Unnamed: 0": 432,
         "tweetId": 1376578940983107600,
         "username": "nan",
         "userId": "nan",
         "text": "nan",
         "time": "nan",
         "link": "nan",
         "_deepnote_index_column": 432
        },
        {
         "Unnamed: 0": 433,
         "tweetId": 1376578996079526000,
         "username": "nan",
         "userId": "nan",
         "text": "nan",
         "time": "nan",
         "link": "nan",
         "_deepnote_index_column": 433
        },
        {
         "Unnamed: 0": 434,
         "tweetId": 1376577839424700400,
         "username": "nan",
         "userId": "nan",
         "text": "nan",
         "time": "nan",
         "link": "nan",
         "_deepnote_index_column": 434
        },
        {
         "Unnamed: 0": 441,
         "tweetId": 1376589721942388700,
         "username": "nan",
         "userId": "nan",
         "text": "nan",
         "time": "nan",
         "link": "nan",
         "_deepnote_index_column": 441
        },
        {
         "Unnamed: 0": 444,
         "tweetId": 1376579150211735600,
         "username": "nan",
         "userId": "nan",
         "text": "nan",
         "time": "nan",
         "link": "nan",
         "_deepnote_index_column": 444
        },
        {
         "Unnamed: 0": 458,
         "tweetId": 1376659194594660400,
         "username": "nan",
         "userId": "nan",
         "text": "nan",
         "time": "nan",
         "link": "nan",
         "_deepnote_index_column": 458
        },
        {
         "Unnamed: 0": 469,
         "tweetId": 1376849985707384800,
         "username": "nan",
         "userId": "nan",
         "text": "nan",
         "time": "nan",
         "link": "nan",
         "_deepnote_index_column": 469
        },
        {
         "Unnamed: 0": 471,
         "tweetId": 1376911999376846800,
         "username": "nan",
         "userId": "nan",
         "text": "nan",
         "time": "nan",
         "link": "nan",
         "_deepnote_index_column": 471
        },
        {
         "Unnamed: 0": 486,
         "tweetId": 1376318211893891000,
         "username": "nan",
         "userId": "nan",
         "text": "nan",
         "time": "nan",
         "link": "nan",
         "_deepnote_index_column": 486
        },
        {
         "Unnamed: 0": 492,
         "tweetId": 1376953557656608800,
         "username": "nan",
         "userId": "nan",
         "text": "nan",
         "time": "nan",
         "link": "nan",
         "_deepnote_index_column": 492
        },
        {
         "Unnamed: 0": 507,
         "tweetId": 1377068503954550800,
         "username": "nan",
         "userId": "nan",
         "text": "nan",
         "time": "nan",
         "link": "nan",
         "_deepnote_index_column": 507
        },
        {
         "Unnamed: 0": 510,
         "tweetId": 1377273317518934000,
         "username": "nan",
         "userId": "nan",
         "text": "nan",
         "time": "nan",
         "link": "nan",
         "_deepnote_index_column": 510
        },
        {
         "Unnamed: 0": 511,
         "tweetId": 1376894714482471000,
         "username": "nan",
         "userId": "nan",
         "text": "nan",
         "time": "nan",
         "link": "nan",
         "_deepnote_index_column": 511
        },
        {
         "Unnamed: 0": 516,
         "tweetId": 1377317328740888600,
         "username": "nan",
         "userId": "nan",
         "text": "nan",
         "time": "nan",
         "link": "nan",
         "_deepnote_index_column": 516
        },
        {
         "Unnamed: 0": 517,
         "tweetId": 1377312743192195000,
         "username": "nan",
         "userId": "nan",
         "text": "nan",
         "time": "nan",
         "link": "nan",
         "_deepnote_index_column": 517
        },
        {
         "Unnamed: 0": 518,
         "tweetId": 1377304213802287000,
         "username": "nan",
         "userId": "nan",
         "text": "nan",
         "time": "nan",
         "link": "nan",
         "_deepnote_index_column": 518
        },
        {
         "Unnamed: 0": 524,
         "tweetId": 1376845617826304000,
         "username": "nan",
         "userId": "nan",
         "text": "nan",
         "time": "nan",
         "link": "nan",
         "_deepnote_index_column": 524
        },
        {
         "Unnamed: 0": 532,
         "tweetId": 1377683457917157400,
         "username": "nan",
         "userId": "nan",
         "text": "nan",
         "time": "nan",
         "link": "nan",
         "_deepnote_index_column": 532
        },
        {
         "Unnamed: 0": 536,
         "tweetId": 1377662886609350700,
         "username": "nan",
         "userId": "nan",
         "text": "nan",
         "time": "nan",
         "link": "nan",
         "_deepnote_index_column": 536
        },
        {
         "Unnamed: 0": 555,
         "tweetId": 1379474840361566200,
         "username": "nan",
         "userId": "nan",
         "text": "nan",
         "time": "nan",
         "link": "nan",
         "_deepnote_index_column": 555
        },
        {
         "Unnamed: 0": 576,
         "tweetId": 1381975386800676900,
         "username": "nan",
         "userId": "nan",
         "text": "nan",
         "time": "nan",
         "link": "nan",
         "_deepnote_index_column": 576
        },
        {
         "Unnamed: 0": 599,
         "tweetId": 1382079145321099300,
         "username": "nan",
         "userId": "nan",
         "text": "nan",
         "time": "nan",
         "link": "nan",
         "_deepnote_index_column": 599
        },
        {
         "Unnamed: 0": 611,
         "tweetId": 1385593927135219700,
         "username": "nan",
         "userId": "nan",
         "text": "nan",
         "time": "nan",
         "link": "nan",
         "_deepnote_index_column": 611
        }
       ],
       "rows_bottom": [
        {
         "Unnamed: 0": 19,
         "tweetId": 1406325915781632000,
         "username": "nan",
         "userId": "nan",
         "text": "nan",
         "time": "nan",
         "link": "nan",
         "_deepnote_index_column": 12122
        },
        {
         "Unnamed: 0": 39,
         "tweetId": 1440601402426859500,
         "username": "nan",
         "userId": "nan",
         "text": "nan",
         "time": "nan",
         "link": "nan",
         "_deepnote_index_column": 12142
        },
        {
         "Unnamed: 0": 51,
         "tweetId": 1422569437140439000,
         "username": "nan",
         "userId": "nan",
         "text": "nan",
         "time": "nan",
         "link": "nan",
         "_deepnote_index_column": 12154
        },
        {
         "Unnamed: 0": 53,
         "tweetId": 1440508959270465500,
         "username": "nan",
         "userId": "nan",
         "text": "nan",
         "time": "nan",
         "link": "nan",
         "_deepnote_index_column": 12156
        },
        {
         "Unnamed: 0": 55,
         "tweetId": 1405106003465605000,
         "username": "nan",
         "userId": "nan",
         "text": "nan",
         "time": "nan",
         "link": "nan",
         "_deepnote_index_column": 12158
        },
        {
         "Unnamed: 0": 61,
         "tweetId": 1408390113369809000,
         "username": "nan",
         "userId": "nan",
         "text": "nan",
         "time": "nan",
         "link": "nan",
         "_deepnote_index_column": 12164
        },
        {
         "Unnamed: 0": 70,
         "tweetId": 1412667319873065000,
         "username": "nan",
         "userId": "nan",
         "text": "nan",
         "time": "nan",
         "link": "nan",
         "_deepnote_index_column": 12173
        },
        {
         "Unnamed: 0": 71,
         "tweetId": 1413264828421050400,
         "username": "nan",
         "userId": "nan",
         "text": "nan",
         "time": "nan",
         "link": "nan",
         "_deepnote_index_column": 12174
        },
        {
         "Unnamed: 0": 72,
         "tweetId": 1413235763743965200,
         "username": "nan",
         "userId": "nan",
         "text": "nan",
         "time": "nan",
         "link": "nan",
         "_deepnote_index_column": 12175
        },
        {
         "Unnamed: 0": 74,
         "tweetId": 1414113049066225700,
         "username": "nan",
         "userId": "nan",
         "text": "nan",
         "time": "nan",
         "link": "nan",
         "_deepnote_index_column": 12177
        },
        {
         "Unnamed: 0": 6,
         "tweetId": 1422221632970526700,
         "username": "nan",
         "userId": "nan",
         "text": "nan",
         "time": "nan",
         "link": "nan",
         "_deepnote_index_column": 12209
        },
        {
         "Unnamed: 0": 9,
         "tweetId": 1423994365589000200,
         "username": "nan",
         "userId": "nan",
         "text": "nan",
         "time": "nan",
         "link": "nan",
         "_deepnote_index_column": 12212
        },
        {
         "Unnamed: 0": 23,
         "tweetId": 1425588889847218200,
         "username": "nan",
         "userId": "nan",
         "text": "nan",
         "time": "nan",
         "link": "nan",
         "_deepnote_index_column": 12226
        },
        {
         "Unnamed: 0": 26,
         "tweetId": 1425505067629793300,
         "username": "nan",
         "userId": "nan",
         "text": "nan",
         "time": "nan",
         "link": "nan",
         "_deepnote_index_column": 12229
        },
        {
         "Unnamed: 0": 27,
         "tweetId": 1427699331776356400,
         "username": "nan",
         "userId": "nan",
         "text": "nan",
         "time": "nan",
         "link": "nan",
         "_deepnote_index_column": 12230
        },
        {
         "Unnamed: 0": 33,
         "tweetId": 1429538391926902800,
         "username": "nan",
         "userId": "nan",
         "text": "nan",
         "time": "nan",
         "link": "nan",
         "_deepnote_index_column": 12236
        },
        {
         "Unnamed: 0": 39,
         "tweetId": 1432722809923547100,
         "username": "nan",
         "userId": "nan",
         "text": "nan",
         "time": "nan",
         "link": "nan",
         "_deepnote_index_column": 12242
        },
        {
         "Unnamed: 0": 44,
         "tweetId": 1439107198953664500,
         "username": "nan",
         "userId": "nan",
         "text": "nan",
         "time": "nan",
         "link": "nan",
         "_deepnote_index_column": 12247
        },
        {
         "Unnamed: 0": 56,
         "tweetId": 1440396262784729000,
         "username": "nan",
         "userId": "nan",
         "text": "nan",
         "time": "nan",
         "link": "nan",
         "_deepnote_index_column": 12259
        },
        {
         "Unnamed: 0": 68,
         "tweetId": 1416208526150705200,
         "username": "nan",
         "userId": "nan",
         "text": "nan",
         "time": "nan",
         "link": "nan",
         "_deepnote_index_column": 12271
        },
        {
         "Unnamed: 0": 76,
         "tweetId": 1417667683248529400,
         "username": "nan",
         "userId": "nan",
         "text": "nan",
         "time": "nan",
         "link": "nan",
         "_deepnote_index_column": 12279
        },
        {
         "Unnamed: 0": 78,
         "tweetId": 1418609513301627000,
         "username": "nan",
         "userId": "nan",
         "text": "nan",
         "time": "nan",
         "link": "nan",
         "_deepnote_index_column": 12281
        },
        {
         "Unnamed: 0": 79,
         "tweetId": 1418726327813906400,
         "username": "nan",
         "userId": "nan",
         "text": "nan",
         "time": "nan",
         "link": "nan",
         "_deepnote_index_column": 12282
        },
        {
         "Unnamed: 0": 84,
         "tweetId": 1418200995415433200,
         "username": "nan",
         "userId": "nan",
         "text": "nan",
         "time": "nan",
         "link": "nan",
         "_deepnote_index_column": 12287
        },
        {
         "Unnamed: 0": 85,
         "tweetId": 1417917678640156700,
         "username": "nan",
         "userId": "nan",
         "text": "nan",
         "time": "nan",
         "link": "nan",
         "_deepnote_index_column": 12288
        },
        {
         "Unnamed: 0": 90,
         "tweetId": 1419130572895625200,
         "username": "nan",
         "userId": "nan",
         "text": "nan",
         "time": "nan",
         "link": "nan",
         "_deepnote_index_column": 12293
        },
        {
         "Unnamed: 0": 92,
         "tweetId": 1419709630821851100,
         "username": "nan",
         "userId": "nan",
         "text": "nan",
         "time": "nan",
         "link": "nan",
         "_deepnote_index_column": 12295
        },
        {
         "Unnamed: 0": 95,
         "tweetId": 1420124652886794200,
         "username": "nan",
         "userId": "nan",
         "text": "nan",
         "time": "nan",
         "link": "nan",
         "_deepnote_index_column": 12298
        },
        {
         "Unnamed: 0": 99,
         "tweetId": 1419812890714853400,
         "username": "nan",
         "userId": "nan",
         "text": "nan",
         "time": "nan",
         "link": "nan",
         "_deepnote_index_column": 12302
        },
        {
         "Unnamed: 0": 0,
         "tweetId": 1419507497174327300,
         "username": "nan",
         "userId": "nan",
         "text": "nan",
         "time": "nan",
         "link": "nan",
         "_deepnote_index_column": 12303
        },
        {
         "Unnamed: 0": 2,
         "tweetId": 1420889385503953000,
         "username": "nan",
         "userId": "nan",
         "text": "nan",
         "time": "nan",
         "link": "nan",
         "_deepnote_index_column": 12305
        },
        {
         "Unnamed: 0": 4,
         "tweetId": 1420246297039106000,
         "username": "nan",
         "userId": "nan",
         "text": "nan",
         "time": "nan",
         "link": "nan",
         "_deepnote_index_column": 12307
        },
        {
         "Unnamed: 0": 5,
         "tweetId": 1420858956990226400,
         "username": "nan",
         "userId": "nan",
         "text": "nan",
         "time": "nan",
         "link": "nan",
         "_deepnote_index_column": 12308
        },
        {
         "Unnamed: 0": 11,
         "tweetId": 1421560693858439200,
         "username": "nan",
         "userId": "nan",
         "text": "nan",
         "time": "nan",
         "link": "nan",
         "_deepnote_index_column": 12314
        },
        {
         "Unnamed: 0": 12,
         "tweetId": 1421535714123128800,
         "username": "nan",
         "userId": "nan",
         "text": "nan",
         "time": "nan",
         "link": "nan",
         "_deepnote_index_column": 12315
        },
        {
         "Unnamed: 0": 13,
         "tweetId": 1421288717562663000,
         "username": "nan",
         "userId": "nan",
         "text": "nan",
         "time": "nan",
         "link": "nan",
         "_deepnote_index_column": 12316
        },
        {
         "Unnamed: 0": 14,
         "tweetId": 1420535647429963800,
         "username": "nan",
         "userId": "nan",
         "text": "nan",
         "time": "nan",
         "link": "nan",
         "_deepnote_index_column": 12317
        },
        {
         "Unnamed: 0": 15,
         "tweetId": 1421894710642237400,
         "username": "nan",
         "userId": "nan",
         "text": "nan",
         "time": "nan",
         "link": "nan",
         "_deepnote_index_column": 12318
        },
        {
         "Unnamed: 0": 16,
         "tweetId": 1421186793819541500,
         "username": "nan",
         "userId": "nan",
         "text": "nan",
         "time": "nan",
         "link": "nan",
         "_deepnote_index_column": 12319
        },
        {
         "Unnamed: 0": 17,
         "tweetId": 1421883478522699800,
         "username": "nan",
         "userId": "nan",
         "text": "nan",
         "time": "nan",
         "link": "nan",
         "_deepnote_index_column": 12320
        },
        {
         "Unnamed: 0": 27,
         "tweetId": 1422295431011176400,
         "username": "nan",
         "userId": "nan",
         "text": "nan",
         "time": "nan",
         "link": "nan",
         "_deepnote_index_column": 12330
        },
        {
         "Unnamed: 0": 28,
         "tweetId": 1423029215520346000,
         "username": "nan",
         "userId": "nan",
         "text": "nan",
         "time": "nan",
         "link": "nan",
         "_deepnote_index_column": 12331
        },
        {
         "Unnamed: 0": 29,
         "tweetId": 1423070184588423200,
         "username": "nan",
         "userId": "nan",
         "text": "nan",
         "time": "nan",
         "link": "nan",
         "_deepnote_index_column": 12332
        },
        {
         "Unnamed: 0": 32,
         "tweetId": 1424020145240830000,
         "username": "nan",
         "userId": "nan",
         "text": "nan",
         "time": "nan",
         "link": "nan",
         "_deepnote_index_column": 12335
        },
        {
         "Unnamed: 0": 33,
         "tweetId": 1423678024084385800,
         "username": "nan",
         "userId": "nan",
         "text": "nan",
         "time": "nan",
         "link": "nan",
         "_deepnote_index_column": 12336
        },
        {
         "Unnamed: 0": 35,
         "tweetId": 1423692937314119700,
         "username": "nan",
         "userId": "nan",
         "text": "nan",
         "time": "nan",
         "link": "nan",
         "_deepnote_index_column": 12338
        },
        {
         "Unnamed: 0": 38,
         "tweetId": 1423781746013876200,
         "username": "nan",
         "userId": "nan",
         "text": "nan",
         "time": "nan",
         "link": "nan",
         "_deepnote_index_column": 12341
        },
        {
         "Unnamed: 0": 40,
         "tweetId": 1424400525995425800,
         "username": "nan",
         "userId": "nan",
         "text": "nan",
         "time": "nan",
         "link": "nan",
         "_deepnote_index_column": 12343
        },
        {
         "Unnamed: 0": 42,
         "tweetId": 1423820906984530000,
         "username": "nan",
         "userId": "nan",
         "text": "nan",
         "time": "nan",
         "link": "nan",
         "_deepnote_index_column": 12345
        },
        {
         "Unnamed: 0": 43,
         "tweetId": 1424502524921458700,
         "username": "nan",
         "userId": "nan",
         "text": "nan",
         "time": "nan",
         "link": "nan",
         "_deepnote_index_column": 12346
        },
        {
         "Unnamed: 0": 95,
         "tweetId": 1428111103247089700,
         "username": "nan",
         "userId": "nan",
         "text": "nan",
         "time": "nan",
         "link": "nan",
         "_deepnote_index_column": 12398
        },
        {
         "Unnamed: 0": 16,
         "tweetId": 1428556003105202200,
         "username": "nan",
         "userId": "nan",
         "text": "nan",
         "time": "nan",
         "link": "nan",
         "_deepnote_index_column": 12419
        },
        {
         "Unnamed: 0": 17,
         "tweetId": 1428523932223774700,
         "username": "nan",
         "userId": "nan",
         "text": "nan",
         "time": "nan",
         "link": "nan",
         "_deepnote_index_column": 12420
        },
        {
         "Unnamed: 0": 33,
         "tweetId": 1420153730893242400,
         "username": "nan",
         "userId": "nan",
         "text": "nan",
         "time": "nan",
         "link": "nan",
         "_deepnote_index_column": 12436
        },
        {
         "Unnamed: 0": 51,
         "tweetId": 1431786599239520300,
         "username": "nan",
         "userId": "nan",
         "text": "nan",
         "time": "nan",
         "link": "nan",
         "_deepnote_index_column": 12454
        },
        {
         "Unnamed: 0": 53,
         "tweetId": 1432053215063851000,
         "username": "nan",
         "userId": "nan",
         "text": "nan",
         "time": "nan",
         "link": "nan",
         "_deepnote_index_column": 12456
        },
        {
         "Unnamed: 0": 79,
         "tweetId": 1430277407269871600,
         "username": "nan",
         "userId": "nan",
         "text": "nan",
         "time": "nan",
         "link": "nan",
         "_deepnote_index_column": 12482
        },
        {
         "Unnamed: 0": 84,
         "tweetId": 1433138967969505300,
         "username": "nan",
         "userId": "nan",
         "text": "nan",
         "time": "nan",
         "link": "nan",
         "_deepnote_index_column": 12487
        },
        {
         "Unnamed: 0": 2,
         "tweetId": 1433439978483339300,
         "username": "nan",
         "userId": "nan",
         "text": "nan",
         "time": "nan",
         "link": "nan",
         "_deepnote_index_column": 12505
        },
        {
         "Unnamed: 0": 21,
         "tweetId": 1433628636196835300,
         "username": "nan",
         "userId": "nan",
         "text": "nan",
         "time": "nan",
         "link": "nan",
         "_deepnote_index_column": 12524
        },
        {
         "Unnamed: 0": 22,
         "tweetId": 1433620075601449000,
         "username": "nan",
         "userId": "nan",
         "text": "nan",
         "time": "nan",
         "link": "nan",
         "_deepnote_index_column": 12525
        },
        {
         "Unnamed: 0": 27,
         "tweetId": 1433793689034412000,
         "username": "nan",
         "userId": "nan",
         "text": "nan",
         "time": "nan",
         "link": "nan",
         "_deepnote_index_column": 12530
        },
        {
         "Unnamed: 0": 52,
         "tweetId": 1434211277468020700,
         "username": "nan",
         "userId": "nan",
         "text": "nan",
         "time": "nan",
         "link": "nan",
         "_deepnote_index_column": 12555
        },
        {
         "Unnamed: 0": 66,
         "tweetId": 1434906112894120000,
         "username": "nan",
         "userId": "nan",
         "text": "nan",
         "time": "nan",
         "link": "nan",
         "_deepnote_index_column": 12569
        },
        {
         "Unnamed: 0": 78,
         "tweetId": 1435286745138937900,
         "username": "nan",
         "userId": "nan",
         "text": "nan",
         "time": "nan",
         "link": "nan",
         "_deepnote_index_column": 12581
        },
        {
         "Unnamed: 0": 83,
         "tweetId": 1436872960036458500,
         "username": "nan",
         "userId": "nan",
         "text": "nan",
         "time": "nan",
         "link": "nan",
         "_deepnote_index_column": 12586
        },
        {
         "Unnamed: 0": 86,
         "tweetId": 1436454765811179500,
         "username": "nan",
         "userId": "nan",
         "text": "nan",
         "time": "nan",
         "link": "nan",
         "_deepnote_index_column": 12589
        },
        {
         "Unnamed: 0": 98,
         "tweetId": 1437549713667068000,
         "username": "nan",
         "userId": "nan",
         "text": "nan",
         "time": "nan",
         "link": "nan",
         "_deepnote_index_column": 12601
        },
        {
         "Unnamed: 0": 55,
         "tweetId": 1440058488785232000,
         "username": "nan",
         "userId": "nan",
         "text": "nan",
         "time": "nan",
         "link": "nan",
         "_deepnote_index_column": 12658
        },
        {
         "Unnamed: 0": 85,
         "tweetId": 1440002167499378700,
         "username": "nan",
         "userId": "nan",
         "text": "nan",
         "time": "nan",
         "link": "nan",
         "_deepnote_index_column": 12688
        },
        {
         "Unnamed: 0": 92,
         "tweetId": 1440362185549500400,
         "username": "nan",
         "userId": "nan",
         "text": "nan",
         "time": "nan",
         "link": "nan",
         "_deepnote_index_column": 12695
        }
       ]
      },
      "text/plain": "       Unnamed: 0              tweetId username  userId text time link\n0               0  1353031711349739523      NaN     NaN  NaN  NaN  NaN\n8               8  1354905286264430608      NaN     NaN  NaN  NaN  NaN\n32             32  1361491641488572416      NaN     NaN  NaN  NaN  NaN\n43             43  1362436244425347076      NaN     NaN  NaN  NaN  NaN\n48             48  1358172874973003780      NaN     NaN  NaN  NaN  NaN\n...           ...                  ...      ...     ...  ...  ...  ...\n12589          86  1436454765811179537      NaN     NaN  NaN  NaN  NaN\n12601          98  1437549713667067905      NaN     NaN  NaN  NaN  NaN\n12658          55  1440058488785231880      NaN     NaN  NaN  NaN  NaN\n12688          85  1440002167499378689      NaN     NaN  NaN  NaN  NaN\n12695          92  1440362185549500416      NaN     NaN  NaN  NaN  NaN\n\n[1382 rows x 7 columns]",
      "text/html": "<div>\n<style scoped>\n    .dataframe tbody tr th:only-of-type {\n        vertical-align: middle;\n    }\n\n    .dataframe tbody tr th {\n        vertical-align: top;\n    }\n\n    .dataframe thead th {\n        text-align: right;\n    }\n</style>\n<table border=\"1\" class=\"dataframe\">\n  <thead>\n    <tr style=\"text-align: right;\">\n      <th></th>\n      <th>Unnamed: 0</th>\n      <th>tweetId</th>\n      <th>username</th>\n      <th>userId</th>\n      <th>text</th>\n      <th>time</th>\n      <th>link</th>\n    </tr>\n  </thead>\n  <tbody>\n    <tr>\n      <th>0</th>\n      <td>0</td>\n      <td>1353031711349739523</td>\n      <td>NaN</td>\n      <td>NaN</td>\n      <td>NaN</td>\n      <td>NaN</td>\n      <td>NaN</td>\n    </tr>\n    <tr>\n      <th>8</th>\n      <td>8</td>\n      <td>1354905286264430608</td>\n      <td>NaN</td>\n      <td>NaN</td>\n      <td>NaN</td>\n      <td>NaN</td>\n      <td>NaN</td>\n    </tr>\n    <tr>\n      <th>32</th>\n      <td>32</td>\n      <td>1361491641488572416</td>\n      <td>NaN</td>\n      <td>NaN</td>\n      <td>NaN</td>\n      <td>NaN</td>\n      <td>NaN</td>\n    </tr>\n    <tr>\n      <th>43</th>\n      <td>43</td>\n      <td>1362436244425347076</td>\n      <td>NaN</td>\n      <td>NaN</td>\n      <td>NaN</td>\n      <td>NaN</td>\n      <td>NaN</td>\n    </tr>\n    <tr>\n      <th>48</th>\n      <td>48</td>\n      <td>1358172874973003780</td>\n      <td>NaN</td>\n      <td>NaN</td>\n      <td>NaN</td>\n      <td>NaN</td>\n      <td>NaN</td>\n    </tr>\n    <tr>\n      <th>...</th>\n      <td>...</td>\n      <td>...</td>\n      <td>...</td>\n      <td>...</td>\n      <td>...</td>\n      <td>...</td>\n      <td>...</td>\n    </tr>\n    <tr>\n      <th>12589</th>\n      <td>86</td>\n      <td>1436454765811179537</td>\n      <td>NaN</td>\n      <td>NaN</td>\n      <td>NaN</td>\n      <td>NaN</td>\n      <td>NaN</td>\n    </tr>\n    <tr>\n      <th>12601</th>\n      <td>98</td>\n      <td>1437549713667067905</td>\n      <td>NaN</td>\n      <td>NaN</td>\n      <td>NaN</td>\n      <td>NaN</td>\n      <td>NaN</td>\n    </tr>\n    <tr>\n      <th>12658</th>\n      <td>55</td>\n      <td>1440058488785231880</td>\n      <td>NaN</td>\n      <td>NaN</td>\n      <td>NaN</td>\n      <td>NaN</td>\n      <td>NaN</td>\n    </tr>\n    <tr>\n      <th>12688</th>\n      <td>85</td>\n      <td>1440002167499378689</td>\n      <td>NaN</td>\n      <td>NaN</td>\n      <td>NaN</td>\n      <td>NaN</td>\n      <td>NaN</td>\n    </tr>\n    <tr>\n      <th>12695</th>\n      <td>92</td>\n      <td>1440362185549500416</td>\n      <td>NaN</td>\n      <td>NaN</td>\n      <td>NaN</td>\n      <td>NaN</td>\n      <td>NaN</td>\n    </tr>\n  </tbody>\n</table>\n<p>1382 rows × 7 columns</p>\n</div>"
     },
     "metadata": {}
    }
   ]
  },
  {
   "cell_type": "code",
   "metadata": {
    "tags": [],
    "cell_id": "00039-83ae9aac-672c-47b8-aab9-f73ac5fce99b",
    "deepnote_to_be_reexecuted": false,
    "source_hash": "baae1c61",
    "execution_start": 1638943889968,
    "execution_millis": 20,
    "deepnote_cell_type": "code"
   },
   "source": "def consolidate_files(notes_filename, ratings_filename, tweets_filename, start_date='01/01/2021', end_date='01/01/2022'):\n    \"\"\"\n    Take in the data as provided by twitter and output\n    a \"ready for ML\" version.\n\n    Args\n        notes_filename - string filename of the notes csv file\n        ratings_filename - string filename of the ratings csv file \n        tweets_filename - string filename of the tweets csv file\n        start_date - string date of the format month/day/year of the start bound of the timeframe\n        end_date - string date of the format month/day/year of the end bound of the timeframe\n\n    Output\n        notesWithRatings - pandas dataframe joining notes and their corresponding ratings\n        tweetsWithNotes - pandas dataframe joining tweets and their corresponding notes\n    \"\"\"\n    \n    \n    # read files\n    notes = pd.read_csv(notes_filename, sep=\"\\t\")\n    ratings = pd.read_csv(ratings_filename, sep=\"\\t\")\n    tweets = pd.read_csv(tweets_filename, sep=\",\")\n\n    # adjust timeframes\n    start_date = datetime.strptime(start_date, '%m/%d/%Y').timestamp() * 1000\n    end_date = datetime.strptime(end_date, '%m/%d/%Y').timestamp() * 1000\n\n    # print\n    tweets.dropna(inplace=True, how='any')\n    tweets['createdAtMillis'] = tweets['time'].apply(lambda x: timestamp(x[:19]))\n\n    notes = notes[(notes.createdAtMillis.astype(int) > start_date) & (notes.createdAtMillis.astype(int) < end_date)]\n    ratings = ratings[(ratings.createdAtMillis.astype(int) > start_date) & (ratings.createdAtMillis.astype(int) < end_date)]\n    tweets = tweets[(tweets.createdAtMillis.astype(int) > start_date) & (tweets.createdAtMillis.astype(int) < end_date)]\n\n    # consolidate dataframes\n    ratingsWithNotes = notes.set_index('noteId').join(ratings.set_index('noteId'), lsuffix=\"_note\", rsuffix=\"_rating\", how='inner')\n    average_ratings = ratings.groupby('noteId').mean()\n    average_notes = notes[['tweetId', 'classification', 'believable', 'harmful', 'validationDifficulty']]\n    tweet_id_to_mode = average_notes.groupby(['tweetId']).agg(get_mode)\n    tweetsWithNotes = tweets.set_index('tweetId').join(tweet_id_to_mode, lsuffix=\"_tweet\", rsuffix=\"_note\", how='inner')\n    notesWithRatings = notes.set_index('noteId').join(average_ratings, lsuffix=\"_note\", rsuffix=\"_rating\")\n\n    tweetsWithNotes.dropna(inplace=True, how='any')\n    notesWithRatings.dropna(inplace=True, how='any')\n\n    # clean up text\n    move_links_and_punc(notesWithRatings, 'summary')\n    remove_stopwords(notesWithRatings, 'clean_summary')\n\n    move_links_and_punc(tweetsWithNotes, 'text')\n    remove_stopwords(tweetsWithNotes, 'clean_text')\n\n    # create polarity and subjectivity columns\n    notesWithRatings['polarity'] = sentiment_polarity(notesWithRatings['clean_summary'])\n    notesWithRatings['subjectivity'] = sentiment_subjectivity(notesWithRatings['clean_summary'])\n\n    tweetsWithNotes['polarity'] = sentiment_polarity(tweetsWithNotes['clean_text'])\n    tweetsWithNotes['subjectivity'] = sentiment_subjectivity(tweetsWithNotes['clean_text'])\n\n    # convert helpfulness score into Twitter specified divisinos\n    fixHelpfulness(notesWithRatings, 'helpful')\n\n    # create additional columns for nlp use\n    notesWithRatings['clean_summary_as_str'] = notesWithRatings['clean_summary'].apply(lambda x: ' '.join(x))\n    tweetsWithNotes['clean_text_as_str'] = tweetsWithNotes['clean_text'].apply(lambda x: ' '.join(x))\n\n    return notesWithRatings, tweetsWithNotes",
   "execution_count": null,
   "outputs": []
  },
  {
   "cell_type": "markdown",
   "source": "### Pickle Dictionary Data for Use in Other Notebooks",
   "metadata": {
    "tags": [],
    "cell_id": "00048-6f54be0c-057c-4544-a18b-3e151ac61226",
    "is_collapsed": false,
    "deepnote_cell_type": "text-cell-h3"
   }
  },
  {
   "cell_type": "code",
   "metadata": {
    "tags": [],
    "cell_id": "00043-9fae0156-9607-4f32-a6ee-5ac1badebf04",
    "deepnote_to_be_reexecuted": false,
    "source_hash": "843afb3",
    "execution_start": 1638943889995,
    "execution_millis": 1852757,
    "deepnote_cell_type": "code"
   },
   "source": "dates = [\n    '02/01/2021', '02/15/2021', '03/01/2021', '03/15/2021', '04/01/2021',\n    '04/15/2021', '05/01/2021', '05/15/2021', \n    '06/01/2021', '06/15/2021',\n    '07/01/2021', '07/15/2021',\n    '08/01/2021', '08/15/2021',\n    '09/01/2021', '09/15/2021',\n    \n]\ndictionary = {}\nfor date in dates:\n    print('processing ' + date)\n    notesWithRatings, tweetsWithNotes = consolidate_files('notes-2.tsv', 'ratings-2.tsv', 'noted-tweets.csv', end_date=date)\n    dictionary['notes ' + date] = notesWithRatings\n    dictionary['tweets ' + date] = tweetsWithNotes",
   "execution_count": null,
   "outputs": [
    {
     "name": "stdout",
     "text": "processing 02/01/2021\nprocessing 02/15/2021\nprocessing 03/01/2021\nprocessing 03/15/2021\nprocessing 04/01/2021\nprocessing 04/15/2021\nprocessing 05/01/2021\nprocessing 05/15/2021\nprocessing 06/01/2021\nprocessing 06/15/2021\nprocessing 07/01/2021\nprocessing 07/15/2021\nprocessing 08/01/2021\nprocessing 08/15/2021\nprocessing 09/01/2021\nprocessing 09/15/2021\n",
     "output_type": "stream"
    }
   ]
  },
  {
   "cell_type": "code",
   "metadata": {
    "tags": [],
    "cell_id": "00023-fec5d1c5-90a6-4230-a2a9-3ef26c3d8afa",
    "deepnote_to_be_reexecuted": false,
    "source_hash": "d1979e97",
    "execution_start": 1638945742752,
    "execution_millis": 2855,
    "deepnote_cell_type": "code"
   },
   "source": "with open('processed-3.pickle', 'wb') as handle:\n    pickle.dump(dictionary, handle, protocol=pickle.HIGHEST_PROTOCOL)",
   "execution_count": null,
   "outputs": []
  },
  {
   "cell_type": "markdown",
   "source": "<a style='text-decoration:none;line-height:16px;display:flex;color:#5B5B62;padding:10px;justify-content:end;' href='https://deepnote.com?utm_source=created-in-deepnote-cell&projectId=c0e62a2c-7f45-414e-8164-5bf51e09d482' target=\"_blank\">\n<img alt='Created in deepnote.com' style='display:inline;max-height:16px;margin:0px;margin-right:7.5px;' src='data:image/svg+xml;base64,PD94bWwgdmVyc2lvbj0iMS4wIiBlbmNvZGluZz0iVVRGLTgiPz4KPHN2ZyB3aWR0aD0iODBweCIgaGVpZ2h0PSI4MHB4IiB2aWV3Qm94PSIwIDAgODAgODAiIHZlcnNpb249IjEuMSIgeG1sbnM9Imh0dHA6Ly93d3cudzMub3JnLzIwMDAvc3ZnIiB4bWxuczp4bGluaz0iaHR0cDovL3d3dy53My5vcmcvMTk5OS94bGluayI+CiAgICA8IS0tIEdlbmVyYXRvcjogU2tldGNoIDU0LjEgKDc2NDkwKSAtIGh0dHBzOi8vc2tldGNoYXBwLmNvbSAtLT4KICAgIDx0aXRsZT5Hcm91cCAzPC90aXRsZT4KICAgIDxkZXNjPkNyZWF0ZWQgd2l0aCBTa2V0Y2guPC9kZXNjPgogICAgPGcgaWQ9IkxhbmRpbmciIHN0cm9rZT0ibm9uZSIgc3Ryb2tlLXdpZHRoPSIxIiBmaWxsPSJub25lIiBmaWxsLXJ1bGU9ImV2ZW5vZGQiPgogICAgICAgIDxnIGlkPSJBcnRib2FyZCIgdHJhbnNmb3JtPSJ0cmFuc2xhdGUoLTEyMzUuMDAwMDAwLCAtNzkuMDAwMDAwKSI+CiAgICAgICAgICAgIDxnIGlkPSJHcm91cC0zIiB0cmFuc2Zvcm09InRyYW5zbGF0ZSgxMjM1LjAwMDAwMCwgNzkuMDAwMDAwKSI+CiAgICAgICAgICAgICAgICA8cG9seWdvbiBpZD0iUGF0aC0yMCIgZmlsbD0iIzAyNjVCNCIgcG9pbnRzPSIyLjM3NjIzNzYyIDgwIDM4LjA0NzY2NjcgODAgNTcuODIxNzgyMiA3My44MDU3NTkyIDU3LjgyMTc4MjIgMzIuNzU5MjczOSAzOS4xNDAyMjc4IDMxLjY4MzE2ODMiPjwvcG9seWdvbj4KICAgICAgICAgICAgICAgIDxwYXRoIGQ9Ik0zNS4wMDc3MTgsODAgQzQyLjkwNjIwMDcsNzYuNDU0OTM1OCA0Ny41NjQ5MTY3LDcxLjU0MjI2NzEgNDguOTgzODY2LDY1LjI2MTk5MzkgQzUxLjExMjI4OTksNTUuODQxNTg0MiA0MS42NzcxNzk1LDQ5LjIxMjIyODQgMjUuNjIzOTg0Niw0OS4yMTIyMjg0IEMyNS40ODQ5Mjg5LDQ5LjEyNjg0NDggMjkuODI2MTI5Niw0My4yODM4MjQ4IDM4LjY0NzU4NjksMzEuNjgzMTY4MyBMNzIuODcxMjg3MSwzMi41NTQ0MjUgTDY1LjI4MDk3Myw2Ny42NzYzNDIxIEw1MS4xMTIyODk5LDc3LjM3NjE0NCBMMzUuMDA3NzE4LDgwIFoiIGlkPSJQYXRoLTIyIiBmaWxsPSIjMDAyODY4Ij48L3BhdGg+CiAgICAgICAgICAgICAgICA8cGF0aCBkPSJNMCwzNy43MzA0NDA1IEwyNy4xMTQ1MzcsMC4yNTcxMTE0MzYgQzYyLjM3MTUxMjMsLTEuOTkwNzE3MDEgODAsMTAuNTAwMzkyNyA4MCwzNy43MzA0NDA1IEM4MCw2NC45NjA0ODgyIDY0Ljc3NjUwMzgsNzkuMDUwMzQxNCAzNC4zMjk1MTEzLDgwIEM0Ny4wNTUzNDg5LDc3LjU2NzA4MDggNTMuNDE4MjY3Nyw3MC4zMTM2MTAzIDUzLjQxODI2NzcsNTguMjM5NTg4NSBDNTMuNDE4MjY3Nyw0MC4xMjg1NTU3IDM2LjMwMzk1NDQsMzcuNzMwNDQwNSAyNS4yMjc0MTcsMzcuNzMwNDQwNSBDMTcuODQzMDU4NiwzNy43MzA0NDA1IDkuNDMzOTE5NjYsMzcuNzMwNDQwNSAwLDM3LjczMDQ0MDUgWiIgaWQ9IlBhdGgtMTkiIGZpbGw9IiMzNzkzRUYiPjwvcGF0aD4KICAgICAgICAgICAgPC9nPgogICAgICAgIDwvZz4KICAgIDwvZz4KPC9zdmc+' > </img>\nCreated in <span style='font-weight:600;margin-left:4px;'>Deepnote</span></a>",
   "metadata": {
    "tags": [],
    "created_in_deepnote_cell": true,
    "deepnote_cell_type": "markdown"
   }
  }
 ],
 "nbformat": 4,
 "nbformat_minor": 2,
 "metadata": {
  "orig_nbformat": 2,
  "deepnote": {
   "is_reactive": false
  },
  "deepnote_notebook_id": "e5e818bb-14ab-494a-8b9f-d2278905d7bd",
  "deepnote_execution_queue": []
 }
}