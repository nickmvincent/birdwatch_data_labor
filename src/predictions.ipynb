{
 "cells": [
  {
   "cell_type": "markdown",
   "source": "## Import Libraries and Frameworks",
   "metadata": {
    "tags": [],
    "cell_id": "00000-c65c2968-a382-45c6-a1f6-82e17ff9e3fe",
    "is_collapsed": false,
    "deepnote_cell_type": "text-cell-h2"
   }
  },
  {
   "cell_type": "code",
   "metadata": {
    "tags": [],
    "cell_id": "00000-a4476998-1c74-4e62-9045-c5c796884a4f",
    "deepnote_to_be_reexecuted": false,
    "source_hash": "abe3a973",
    "execution_millis": 9173,
    "execution_start": 1639192199499,
    "deepnote_cell_type": "code"
   },
   "source": "import numpy as np\nimport pandas as pd\nimport sys\nimport datetime\nimport pickle\nimport spacy\nimport matplotlib.pyplot as plt\nimport seaborn as sns\n\nfrom sklearn.model_selection import train_test_split, cross_val_score, cross_val_predict\nfrom sklearn.linear_model import LogisticRegression\nfrom sklearn.ensemble import RandomForestClassifier\nfrom sklearn.tree import DecisionTreeClassifier\nfrom sklearn.naive_bayes import GaussianNB\nfrom sklearn.dummy import DummyClassifier\nfrom sklearn.svm import LinearSVC\nfrom sklearn.pipeline import Pipeline\n\nfrom sklearn.preprocessing import StandardScaler\nfrom sklearn.decomposition import PCA\n\nfrom sklearn.metrics import confusion_matrix, precision_score, recall_score, f1_score, accuracy_score\nfrom sklearn.metrics import precision_recall_curve\nfrom sklearn.metrics import roc_curve\nfrom sklearn.metrics import roc_auc_score\nfrom sklearn.metrics import classification_report\n\nfrom textblob import TextBlob\nfrom spacytextblob.spacytextblob import SpacyTextBlob\n\nimport lightgbm as lgb",
   "outputs": [],
   "execution_count": 1
  },
  {
   "cell_type": "code",
   "metadata": {
    "tags": [],
    "cell_id": "00003-6242ccff-efdb-4369-bf38-514db5bd5d31",
    "deepnote_to_be_reexecuted": false,
    "source_hash": "48ecddad",
    "execution_start": 1639192208691,
    "execution_millis": 13,
    "deepnote_output_heights": [
     21.199996948242188
    ],
    "deepnote_cell_type": "code"
   },
   "source": "lgb.LGBMClassifier",
   "outputs": [
    {
     "output_type": "execute_result",
     "execution_count": 2,
     "data": {
      "text/plain": "lightgbm.sklearn.LGBMClassifier"
     },
     "metadata": {}
    }
   ],
   "execution_count": 2
  },
  {
   "cell_type": "markdown",
   "source": "We'll use en_core_web_sm.",
   "metadata": {
    "tags": [],
    "cell_id": "00002-e6b7ec11-37ba-42bc-84d0-91cf1342adda",
    "deepnote_cell_type": "markdown"
   }
  },
  {
   "cell_type": "code",
   "metadata": {
    "tags": [],
    "cell_id": "00002-90745c70-2307-4d7f-b9d8-94a8dbfe9588",
    "deepnote_to_be_reexecuted": false,
    "source_hash": "aac7d83f",
    "execution_start": 1639192208703,
    "execution_millis": 808,
    "deepnote_output_heights": [
     21.199996948242188
    ],
    "deepnote_cell_type": "code"
   },
   "source": "nlp = spacy.load(\"en_core_web_sm\")\nnlp.add_pipe('spacytextblob')",
   "outputs": [
    {
     "output_type": "execute_result",
     "execution_count": 3,
     "data": {
      "text/plain": "<spacytextblob.spacytextblob.SpacyTextBlob at 0x7f07bc11a3a0>"
     },
     "metadata": {}
    }
   ],
   "execution_count": 3
  },
  {
   "cell_type": "markdown",
   "source": "Use pickle to load the preprocessed data from `datacleaning.ipynb`",
   "metadata": {
    "tags": [],
    "cell_id": "00004-457ecbba-ba62-4fa5-a58a-29ee595c3c11",
    "deepnote_cell_type": "markdown"
   }
  },
  {
   "cell_type": "code",
   "metadata": {
    "tags": [],
    "cell_id": "00001-8e8fb49a-f906-45ca-9425-afeee7c32720",
    "deepnote_to_be_reexecuted": false,
    "source_hash": "fa60c84b",
    "execution_start": 1639192271448,
    "execution_millis": 1928,
    "deepnote_cell_type": "code"
   },
   "source": "with open('../data/processed-3.pickle', 'rb') as handle:\n    dictionary = pickle.load(handle)",
   "outputs": [],
   "execution_count": 5
  },
  {
   "cell_type": "markdown",
   "source": "## The Flow of Birdwatch\n\n* Birdwatcher (data laborer for twitter) goes into the Birdwatch interface\n* Write a note, which others can immediately see (?)\n* Other Birdwatchers who see the note can rate the note along a BUNCH of axes.\n\n\n## How and Why to Predict?\n\n1. Given the text of a NOTE, how likely is that NOTE to be rated as HELPFUL (i.e. receive a helpfulness score above twitter's threshold)\n    - Data pre-preprocessing should aim to give us something like: featurized text | helpfulness label\n    - We lemmaize, tokenize, remove links and punctuation, and send all words to lowercase, and vectorize text content\n    - We also calculate a tweet's polarity and subjectivity. \n2. Given the text of a tweet, how likely is that Tweet to be flagged by Birdwatchers.\n    - Also do featuriztion of tweets\n3. Given the time that a note is given, is there some way to weight more recent notes and give it more importance",
   "metadata": {
    "tags": [],
    "cell_id": "00008-db57cb57-ccd8-4392-a488-5b71c5267a87",
    "deepnote_cell_type": "markdown"
   }
  },
  {
   "cell_type": "markdown",
   "source": "## Prediction Functions",
   "metadata": {
    "tags": [],
    "cell_id": "00004-cfccda01-f31f-4197-9b8e-54188777455d",
    "is_collapsed": false,
    "deepnote_cell_type": "text-cell-h2"
   }
  },
  {
   "cell_type": "code",
   "metadata": {
    "tags": [],
    "cell_id": "00008-1fa8d25b-fded-4b24-97db-3fb783651d1a",
    "deepnote_to_be_reexecuted": true,
    "source_hash": "1e011081",
    "execution_start": 1639004471637,
    "execution_millis": 7,
    "deepnote_cell_type": "code"
   },
   "source": "def fit_model(X, y, y_col, model):\n    clf = model(random_state=0).fit(X, y[y_col])\n    return clf",
   "outputs": [],
   "execution_count": null
  },
  {
   "cell_type": "code",
   "metadata": {
    "tags": [],
    "cell_id": "00007-bfb93b60-50aa-43ce-b35b-d98d277a3243",
    "deepnote_to_be_reexecuted": true,
    "source_hash": "d338acb8",
    "execution_start": 1639004471648,
    "execution_millis": 5,
    "deepnote_cell_type": "code"
   },
   "source": "def model(mod, model_name, x_train, y_train, x_test, y_test):\n    mod.fit(x_train, y_train)\n    print(model_name)\n    acc = cross_val_score(mod, X_train, y_train, scoring = \"accuracy\", cv = 5)\n    predictions = cross_val_predict(mod, X_train, y_train, cv = 5)\n    print(\"Accuracy:\", round(acc.mean(),3))\n    cm = confusion_matrix(predictions, y_train)\n    print(\"Confusion Matrix:  \\n\", cm)\n    print(\"                    Classification Report \\n\",classification_report(predictions, y_train))",
   "outputs": [],
   "execution_count": null
  },
  {
   "cell_type": "code",
   "metadata": {
    "tags": [],
    "cell_id": "00007-e8fc3887-de75-48de-bc89-fb61a856c51d",
    "deepnote_to_be_reexecuted": true,
    "source_hash": "d05ca672",
    "execution_start": 1639004471660,
    "execution_millis": 4,
    "deepnote_cell_type": "code"
   },
   "source": "def concat_word_vec_and_metadata(df, arr):\n    metadata = X[['has_links', 'word_count', 'polarity', 'subjectivity']].to_numpy()\n\n    return np.concatenate(\n        [word_vecs, metadata],\n        axis=1\n    )",
   "outputs": [],
   "execution_count": null
  },
  {
   "cell_type": "code",
   "metadata": {
    "tags": [],
    "cell_id": "00011-c2167a0a-d062-42f8-88d8-9436496ddd41",
    "deepnote_to_be_reexecuted": true,
    "source_hash": "e4171846",
    "execution_start": 1639004471672,
    "execution_millis": 21198177,
    "deepnote_cell_type": "code"
   },
   "source": "metadata_cols = ['has_links', 'word_count', 'polarity', 'subjectivity']",
   "outputs": [],
   "execution_count": null
  },
  {
   "cell_type": "code",
   "metadata": {
    "tags": [],
    "cell_id": "00010-db31d404-2774-4039-ba3c-a066bfbb0cf1",
    "deepnote_to_be_reexecuted": true,
    "source_hash": "d14ac817",
    "execution_start": 1639006139853,
    "execution_millis": 1,
    "deepnote_cell_type": "code"
   },
   "source": "def preprocess(df, trn_mask, df_type='notes_with_ratings'):\n    \"\"\"\n    Take in the notes or tweets data as provided by twitter and output\n    a \"ready for ML\" version.\n\n    Args - meant to match the output of the consolidate_files() function\n        df - either a notes_with_ratings df or tweets_with_notes df\n        text_col - name of the column with cleaned text\n        df_type - 'notes_with_ratings' or 'tweets_with_notes'\n        trn_mask - boolean array (\"mask\") that indicates which rows are used for training\n\n    Output\n        Dictionary with train and test sets\n    \"\"\"\n    if df_type == 'notes_with_ratings':\n        text_col = 'clean_summary_as_str'\n    else:\n        text_col = 'clean_text_as_str'\n    # Run spaCy pre-processing\n    docs = nlp.pipe(df[text_col])\n    # Turn into numpyp array\n    X_vector = np.array([x.vector for x in docs])\n    # concatenate metadata to a single \"X as matrix\"\n    X_mat = np.concatenate(\n        [X_vector, df[metadata_cols].to_numpy()],\n        axis=1\n    )\n\n    if df_type == 'notes_with_ratings':\n        df.loc[:, 'is_helpful'] = df['helpful'] == 2\n        y_df = df[['is_helpful']]\n    else:\n        y_df = df[['classification', 'believable', 'harmful', 'validationDifficulty']]\n\n        cleanup = {\n            \"classification\": {\n                \"MISINFORMED_OR_POTENTIALLY_MISLEADING\": 1, \"NOT_MISLEADING\": 0\n                },\n            \"believable\": {\"BELIEVABLE_BY_MANY\": 1, \"BELIEVABLE_BY_FEW\": 0},\n            \"harmful\": {\"CONSIDERABLE_HARM\": 1, \"LITTLE_HARM\": 0},\n            \"validationDifficulty\": {\"EASY\": 0, \"CHALLENGING\": 1}\n        }\n        y_df = y_df.astype(str).replace(cleanup)\n\n    if len(X_mat) != len(y_df):\n        print(len(X_mat), \"   \", len(y_df))\n        raise Exception(\"length is not equal\")\n\n    X_trn = X_mat[trn_mask, :]\n    X_test = X_mat[~trn_mask, :]\n\n    y_trn = y_df.loc[trn_mask]\n    y_test = y_df.loc[~trn_mask]\n    return {\n        'X_trn': X_trn,\n        'X_test': X_test,\n        'y_trn': y_trn,\n        'y_test': y_test,\n        'df_type': df_type\n    }",
   "outputs": [],
   "execution_count": null
  },
  {
   "cell_type": "markdown",
   "source": "## Results",
   "metadata": {
    "tags": [],
    "cell_id": "00024-77f3bce6-ed46-41ec-b650-5cb763e0c5c7",
    "is_collapsed": false,
    "deepnote_cell_type": "text-cell-h2"
   }
  },
  {
   "cell_type": "code",
   "metadata": {
    "tags": [],
    "cell_id": "00031-04ee4510-3a0b-4aee-9be6-74768920abc4",
    "deepnote_to_be_reexecuted": true,
    "source_hash": "fd4140ff",
    "execution_start": 1639005657661,
    "execution_millis": 47,
    "deepnote_output_heights": [
     21.199996948242188
    ],
    "deepnote_cell_type": "code"
   },
   "source": "# For manually running examples\n# examples_notes = dictionary['notes 07/01/2021']\n# example_tweets = dictionary['tweets 07/01/2021']\n\n# examples_notes.loc[examples_notes.clean_summary_as_str == '', 'clean_summary_as_str'] = ' '\n# examples_notes['dt'] = examples_notes.createdAtMillis_note.apply(lambda x: datetime.datetime.fromtimestamp(x/1000))\n# trn_mask = examples_notes.dt < pd.to_datetime('06-24-2021')\n# note_data = preprocess(examples_notes, trn_mask=trn_mask)\n",
   "outputs": [],
   "execution_count": null
  },
  {
   "cell_type": "code",
   "metadata": {
    "tags": [],
    "cell_id": "00031-d074ddd2-0cbb-43da-bed1-02a1f7dd8af6",
    "deepnote_to_be_reexecuted": true,
    "source_hash": "adeb5dc8",
    "execution_start": 1639006632974,
    "execution_millis": 23,
    "deepnote_cell_type": "code"
   },
   "source": "possible_labels = ['classification', 'believable', 'harmful', 'validationDifficulty']\n\ndef predict(\n    X_trn, y_trn, X_test, y_test, random_state=100, labels=possible_labels,\n    date='', treat_unclear_as_false = False\n): \n    \"\"\" \n    X\n    y_all - dataframe. Each column is a set of labels.\n    X_test - optional test set. e.g. to split by date.\n    y_test - optional test.\n    test_size -  if X_test and y_test are none, the number of examples to randomly include in test set\n    random_state - seed for splitting.\n    labels - labels to consider.\n    \"\"\"\n    tasks = []\n    rows = []\n    for c, label in enumerate(labels):\n        \n        y_trn_c = y_trn.loc[:, label]\n        y_test_c = y_test.loc[:, label]\n\n        # Should we try setting unclear to False, as well?\n        unclear_trn_mask = y_trn_c == 'UNCLEAR'\n        unclear_test_mask = y_test_c == 'UNCLEAR'\n\n        if treat_unclear_as_false:\n            X_trn_c = X_trn\n            y_trn_c.loc[unclear_trn_mask, label] = 0\n\n            X_test_c = X_test\n            y_test_c.loc[unclear_est_mask, label] = 0\n        else:\n\n            X_trn_c = X_trn[~unclear_trn_mask]\n            y_trn_c = y_trn_c[~unclear_trn_mask]\n\n            X_test_c = X_test[~unclear_test_mask]\n            y_test_c = y_test_c[~unclear_test_mask]\n\n        # store labels as int for now\n        y_trn_c = y_trn_c.astype('int')\n        y_test_c = y_test_c.astype('int')\n\n        # Use sklearn pipelines for different models / scaling\n        pipeline_dummy = Pipeline(\n            [('prior', DummyClassifier(strategy='prior'))]\n        )\n        pipeline_lr = Pipeline(\n            [('scalar1',StandardScaler()), ('lr_classifier', LogisticRegression(random_state=random_state))])\n        pipeline_dt = Pipeline(\n            [('scalar2',StandardScaler()), ('dt_classifier', DecisionTreeClassifier(random_state=random_state))])\n        pipeline_rf = Pipeline(\n            [('rf_classifier', RandomForestClassifier(random_state=random_state))])\n        pipeline_lgb = Pipeline(\n            [('lgbm_classifier', lgb.LGBMClassifier(random_state=random_state))]\n        )\n        pipeline_gs = Pipeline([('scalar4',StandardScaler()), ('gs_classifier', GaussianNB())])\n\n        pipelines_and_names = [\n            (pipeline_dummy, 'Prior'),\n            (pipeline_lr, 'LR'),\n            (pipeline_rf, 'RF'),\n            (pipeline_lgb, 'LGBM'),\n            #pipeline_dt, \n            #pipeline_gs\n        ]\n\n        for (pipe, _) in pipelines_and_names:\n            pipe.fit(X_trn_c, y_trn_c)\n\n        print(\"=====\")\n        # print(f'Label: {label}, # unclear in trn: {sum(unclear_trn_mask)}, # unclear in test: {sum(unclear_test_mask)}')\n        print(f'# trn: {len(y_trn_c)}, # test: {len(y_test_c)}')\n\n        task_row = {\n            'date': date,\n            'label': label,\n            'trn frequency': y_trn_c.mean(),\n            'test frequency': y_test_c.mean(),\n            'unclear_trn': sum(unclear_trn_mask),\n            'unclear_test': sum(unclear_test_mask),\n            'num_trn': len(y_trn_c),\n            'num_test': len(y_test_c)\n        }\n        tasks.append(task_row)\n        for i, (model, model_name) in enumerate(pipelines_and_names):      \n            preds = model.predict(X_test_c)\n  \n            row = {\n                'label': label,\n                'model_name': model_name,\n                'date': pd.to_datetime(date)\n            }\n            for score_name, score_func in [\n                ('accuracy', accuracy_score),\n                ('precision', precision_score),\n                ('recall', recall_score),\n                ('roc_auc', roc_auc_score),\n                ('f1', f1_score)\n            ]:\n                try:\n                    row[score_name] = score_func(y_test_c, preds)\n                except ValueError:\n                    row[score_name] = None\n\n\n            rows.append(row)\n\n    return rows, tasks",
   "outputs": [],
   "execution_count": null
  },
  {
   "cell_type": "code",
   "metadata": {
    "tags": [],
    "cell_id": "00018-64bfff77-7af0-4e5f-801d-bd274883bb30",
    "deepnote_to_be_reexecuted": true,
    "source_hash": "b5e6fa83",
    "execution_start": 1639007160054,
    "execution_millis": 60074,
    "deepnote_output_heights": [
     78.80000305175781,
     611
    ],
    "deepnote_cell_type": "code"
   },
   "source": "tweets = dictionary['tweets 09/15/2021']\nnotes = dictionary['notes 09/15/2021']\n\ntweets.loc[tweets.clean_text_as_str == '', 'clean_text_as_str'] = ' '\nnotes.loc[notes.clean_summary_as_str == '', 'clean_summary_as_str'] = ' '\n\ntest_frac = 0.25\n\nnum_test_notes = int(len(notes) * test_frac)\nnum_train_notes = len(notes) - num_test_notes\nnotes_mask = np.array([False] * num_test_notes + [True] * num_train_notes)\nnp.random.shuffle(notes_mask)\n\nprint(len(notes_mask), len(notes))\n\nnotes_data = preprocess(\n    notes, trn_mask=notes_mask\n)\n\nnum_test_tweets = int(len(tweets) * test_frac)\nnum_train_tweets = len(tweets) - num_test_tweets\ntweets_mask = np.array([False] * num_test_tweets + [True] * num_train_tweets)\nnp.random.shuffle(tweets_mask)\n\n\ntweets_data = preprocess(\n    tweets, trn_mask=tweets_mask,\n    df_type='tweets_with_notes',\n)\n\n# examples_notes['dt'] = examples_notes.createdAtMillis_note.apply(lambda x: datetime.datetime.fromtimestamp(x/1000))\n# trn_mask = examples_notes.dt < pd.to_datetime('06-24-2021')",
   "outputs": [
    {
     "name": "stdout",
     "text": "8687 8687\n",
     "output_type": "stream"
    }
   ],
   "execution_count": null
  },
  {
   "cell_type": "code",
   "metadata": {
    "tags": [],
    "cell_id": "00019-5559e914-038d-4886-98a6-d11942975c06",
    "deepnote_to_be_reexecuted": true,
    "source_hash": "f901e2a5",
    "execution_start": 1639007220142,
    "execution_millis": 11016,
    "deepnote_cell_type": "code"
   },
   "source": "notes_rows, notes_tasks = predict(\n    notes_data['X_trn'], notes_data['y_trn'],\n    notes_data['X_test'], notes_data['y_test'],\n    labels=['is_helpful'],\n    date=None\n)",
   "outputs": [
    {
     "name": "stdout",
     "text": "=====\n# trn: 6516, # test: 2171\n/shared-libs/python3.8/py/lib/python3.8/site-packages/sklearn/metrics/_classification.py:1308: UndefinedMetricWarning: Precision is ill-defined and being set to 0.0 due to no predicted samples. Use `zero_division` parameter to control this behavior.\n  _warn_prf(average, modifier, msg_start, len(result))\n",
     "output_type": "stream"
    }
   ],
   "execution_count": null
  },
  {
   "cell_type": "code",
   "metadata": {
    "tags": [],
    "cell_id": "00019-96a30f4c-e76d-46dc-84b4-cf142d8180cd",
    "deepnote_to_be_reexecuted": true,
    "source_hash": "361f056a",
    "execution_start": 1639007238144,
    "execution_millis": 208,
    "deepnote_cell_type": "code"
   },
   "source": "pd.DataFrame(notes_tasks)",
   "outputs": [
    {
     "output_type": "execute_result",
     "execution_count": 67,
     "data": {
      "application/vnd.deepnote.dataframe.v2+json": {
       "row_count": 1,
       "column_count": 8,
       "columns": [
        {
         "name": "date",
         "dtype": "object",
         "stats": {
          "unique_count": 0,
          "nan_count": 1,
          "categories": [
           {
            "name": "Missing",
            "count": 1
           }
          ]
         }
        },
        {
         "name": "label",
         "dtype": "object",
         "stats": {
          "unique_count": 1,
          "nan_count": 0,
          "categories": [
           {
            "name": "is_helpful",
            "count": 1
           }
          ]
         }
        },
        {
         "name": "trn frequency",
         "dtype": "float64",
         "stats": {
          "unique_count": 1,
          "nan_count": 0,
          "min": "0.24171270718232044",
          "max": "0.24171270718232044",
          "histogram": [
           {
            "bin_start": -0.2582872928176796,
            "bin_end": -0.1582872928176796,
            "count": 0
           },
           {
            "bin_start": -0.1582872928176796,
            "bin_end": -0.05828729281767958,
            "count": 0
           },
           {
            "bin_start": -0.05828729281767958,
            "bin_end": 0.04171270718232045,
            "count": 0
           },
           {
            "bin_start": 0.04171270718232045,
            "bin_end": 0.14171270718232043,
            "count": 0
           },
           {
            "bin_start": 0.14171270718232043,
            "bin_end": 0.2417127071823204,
            "count": 0
           },
           {
            "bin_start": 0.2417127071823204,
            "bin_end": 0.3417127071823205,
            "count": 1
           },
           {
            "bin_start": 0.3417127071823205,
            "bin_end": 0.4417127071823205,
            "count": 0
           },
           {
            "bin_start": 0.4417127071823205,
            "bin_end": 0.5417127071823205,
            "count": 0
           },
           {
            "bin_start": 0.5417127071823205,
            "bin_end": 0.6417127071823204,
            "count": 0
           },
           {
            "bin_start": 0.6417127071823204,
            "bin_end": 0.7417127071823204,
            "count": 0
           }
          ]
         }
        },
        {
         "name": "test frequency",
         "dtype": "float64",
         "stats": {
          "unique_count": 1,
          "nan_count": 0,
          "min": "0.23952095808383234",
          "max": "0.23952095808383234",
          "histogram": [
           {
            "bin_start": -0.26047904191616766,
            "bin_end": -0.16047904191616766,
            "count": 0
           },
           {
            "bin_start": -0.16047904191616766,
            "bin_end": -0.06047904191616765,
            "count": 0
           },
           {
            "bin_start": -0.06047904191616765,
            "bin_end": 0.03952095808383238,
            "count": 0
           },
           {
            "bin_start": 0.03952095808383238,
            "bin_end": 0.13952095808383236,
            "count": 0
           },
           {
            "bin_start": 0.13952095808383236,
            "bin_end": 0.23952095808383234,
            "count": 0
           },
           {
            "bin_start": 0.23952095808383234,
            "bin_end": 0.3395209580838324,
            "count": 1
           },
           {
            "bin_start": 0.3395209580838324,
            "bin_end": 0.4395209580838324,
            "count": 0
           },
           {
            "bin_start": 0.4395209580838324,
            "bin_end": 0.5395209580838324,
            "count": 0
           },
           {
            "bin_start": 0.5395209580838324,
            "bin_end": 0.6395209580838324,
            "count": 0
           },
           {
            "bin_start": 0.6395209580838324,
            "bin_end": 0.7395209580838323,
            "count": 0
           }
          ]
         }
        },
        {
         "name": "unclear_trn",
         "dtype": "int64",
         "stats": {
          "unique_count": 1,
          "nan_count": 0,
          "min": "0",
          "max": "0",
          "histogram": [
           {
            "bin_start": -0.5,
            "bin_end": -0.4,
            "count": 0
           },
           {
            "bin_start": -0.4,
            "bin_end": -0.3,
            "count": 0
           },
           {
            "bin_start": -0.3,
            "bin_end": -0.19999999999999996,
            "count": 0
           },
           {
            "bin_start": -0.19999999999999996,
            "bin_end": -0.09999999999999998,
            "count": 0
           },
           {
            "bin_start": -0.09999999999999998,
            "bin_end": 0,
            "count": 0
           },
           {
            "bin_start": 0,
            "bin_end": 0.10000000000000009,
            "count": 1
           },
           {
            "bin_start": 0.10000000000000009,
            "bin_end": 0.20000000000000007,
            "count": 0
           },
           {
            "bin_start": 0.20000000000000007,
            "bin_end": 0.30000000000000004,
            "count": 0
           },
           {
            "bin_start": 0.30000000000000004,
            "bin_end": 0.4,
            "count": 0
           },
           {
            "bin_start": 0.4,
            "bin_end": 0.5,
            "count": 0
           }
          ]
         }
        },
        {
         "name": "unclear_test",
         "dtype": "int64",
         "stats": {
          "unique_count": 1,
          "nan_count": 0,
          "min": "0",
          "max": "0",
          "histogram": [
           {
            "bin_start": -0.5,
            "bin_end": -0.4,
            "count": 0
           },
           {
            "bin_start": -0.4,
            "bin_end": -0.3,
            "count": 0
           },
           {
            "bin_start": -0.3,
            "bin_end": -0.19999999999999996,
            "count": 0
           },
           {
            "bin_start": -0.19999999999999996,
            "bin_end": -0.09999999999999998,
            "count": 0
           },
           {
            "bin_start": -0.09999999999999998,
            "bin_end": 0,
            "count": 0
           },
           {
            "bin_start": 0,
            "bin_end": 0.10000000000000009,
            "count": 1
           },
           {
            "bin_start": 0.10000000000000009,
            "bin_end": 0.20000000000000007,
            "count": 0
           },
           {
            "bin_start": 0.20000000000000007,
            "bin_end": 0.30000000000000004,
            "count": 0
           },
           {
            "bin_start": 0.30000000000000004,
            "bin_end": 0.4,
            "count": 0
           },
           {
            "bin_start": 0.4,
            "bin_end": 0.5,
            "count": 0
           }
          ]
         }
        },
        {
         "name": "num_trn",
         "dtype": "int64",
         "stats": {
          "unique_count": 1,
          "nan_count": 0,
          "min": "6516",
          "max": "6516",
          "histogram": [
           {
            "bin_start": 6515.5,
            "bin_end": 6515.6,
            "count": 0
           },
           {
            "bin_start": 6515.6,
            "bin_end": 6515.7,
            "count": 0
           },
           {
            "bin_start": 6515.7,
            "bin_end": 6515.8,
            "count": 0
           },
           {
            "bin_start": 6515.8,
            "bin_end": 6515.9,
            "count": 0
           },
           {
            "bin_start": 6515.9,
            "bin_end": 6516,
            "count": 0
           },
           {
            "bin_start": 6516,
            "bin_end": 6516.1,
            "count": 1
           },
           {
            "bin_start": 6516.1,
            "bin_end": 6516.2,
            "count": 0
           },
           {
            "bin_start": 6516.2,
            "bin_end": 6516.3,
            "count": 0
           },
           {
            "bin_start": 6516.3,
            "bin_end": 6516.4,
            "count": 0
           },
           {
            "bin_start": 6516.4,
            "bin_end": 6516.5,
            "count": 0
           }
          ]
         }
        },
        {
         "name": "num_test",
         "dtype": "int64",
         "stats": {
          "unique_count": 1,
          "nan_count": 0,
          "min": "2171",
          "max": "2171",
          "histogram": [
           {
            "bin_start": 2170.5,
            "bin_end": 2170.6,
            "count": 0
           },
           {
            "bin_start": 2170.6,
            "bin_end": 2170.7,
            "count": 0
           },
           {
            "bin_start": 2170.7,
            "bin_end": 2170.8,
            "count": 0
           },
           {
            "bin_start": 2170.8,
            "bin_end": 2170.9,
            "count": 0
           },
           {
            "bin_start": 2170.9,
            "bin_end": 2171,
            "count": 0
           },
           {
            "bin_start": 2171,
            "bin_end": 2171.1,
            "count": 1
           },
           {
            "bin_start": 2171.1,
            "bin_end": 2171.2,
            "count": 0
           },
           {
            "bin_start": 2171.2,
            "bin_end": 2171.3,
            "count": 0
           },
           {
            "bin_start": 2171.3,
            "bin_end": 2171.4,
            "count": 0
           },
           {
            "bin_start": 2171.4,
            "bin_end": 2171.5,
            "count": 0
           }
          ]
         }
        },
        {
         "name": "_deepnote_index_column",
         "dtype": "int64"
        }
       ],
       "rows_top": [
        {
         "date": "None",
         "label": "is_helpful",
         "trn frequency": 0.24171270718232044,
         "test frequency": 0.23952095808383234,
         "unclear_trn": 0,
         "unclear_test": 0,
         "num_trn": 6516,
         "num_test": 2171,
         "_deepnote_index_column": 0
        }
       ],
       "rows_bottom": null
      },
      "text/plain": "   date       label  trn frequency  test frequency  unclear_trn  unclear_test  \\\n0  None  is_helpful       0.241713        0.239521            0             0   \n\n   num_trn  num_test  \n0     6516      2171  ",
      "text/html": "<div>\n<style scoped>\n    .dataframe tbody tr th:only-of-type {\n        vertical-align: middle;\n    }\n\n    .dataframe tbody tr th {\n        vertical-align: top;\n    }\n\n    .dataframe thead th {\n        text-align: right;\n    }\n</style>\n<table border=\"1\" class=\"dataframe\">\n  <thead>\n    <tr style=\"text-align: right;\">\n      <th></th>\n      <th>date</th>\n      <th>label</th>\n      <th>trn frequency</th>\n      <th>test frequency</th>\n      <th>unclear_trn</th>\n      <th>unclear_test</th>\n      <th>num_trn</th>\n      <th>num_test</th>\n    </tr>\n  </thead>\n  <tbody>\n    <tr>\n      <th>0</th>\n      <td>None</td>\n      <td>is_helpful</td>\n      <td>0.241713</td>\n      <td>0.239521</td>\n      <td>0</td>\n      <td>0</td>\n      <td>6516</td>\n      <td>2171</td>\n    </tr>\n  </tbody>\n</table>\n</div>"
     },
     "metadata": {}
    }
   ],
   "execution_count": null
  },
  {
   "cell_type": "code",
   "metadata": {
    "tags": [],
    "cell_id": "00019-4072551f-2d16-4e91-b345-b509a456483a",
    "deepnote_to_be_reexecuted": true,
    "source_hash": "d624321b",
    "execution_start": 1639007241221,
    "execution_millis": 42,
    "deepnote_cell_type": "code"
   },
   "source": "pd.DataFrame(notes_rows)",
   "outputs": [
    {
     "output_type": "execute_result",
     "execution_count": 68,
     "data": {
      "application/vnd.deepnote.dataframe.v2+json": {
       "row_count": 4,
       "column_count": 8,
       "columns": [
        {
         "name": "label",
         "dtype": "object",
         "stats": {
          "unique_count": 1,
          "nan_count": 0,
          "categories": [
           {
            "name": "is_helpful",
            "count": 4
           }
          ]
         }
        },
        {
         "name": "model_name",
         "dtype": "object",
         "stats": {
          "unique_count": 4,
          "nan_count": 0,
          "categories": [
           {
            "name": "Prior",
            "count": 1
           },
           {
            "name": "LR",
            "count": 1
           },
           {
            "name": "2 others",
            "count": 2
           }
          ]
         }
        },
        {
         "name": "date",
         "dtype": "object",
         "stats": {
          "unique_count": 0,
          "nan_count": 4,
          "categories": [
           {
            "name": "Missing",
            "count": 4
           }
          ]
         }
        },
        {
         "name": "accuracy",
         "dtype": "float64",
         "stats": {
          "unique_count": 4,
          "nan_count": 0,
          "min": "0.7604790419161677",
          "max": "0.7775218793182865",
          "histogram": [
           {
            "bin_start": 0.7604790419161677,
            "bin_end": 0.7621833256563796,
            "count": 1
           },
           {
            "bin_start": 0.7621833256563796,
            "bin_end": 0.7638876093965914,
            "count": 0
           },
           {
            "bin_start": 0.7638876093965914,
            "bin_end": 0.7655918931368033,
            "count": 1
           },
           {
            "bin_start": 0.7655918931368033,
            "bin_end": 0.7672961768770152,
            "count": 0
           },
           {
            "bin_start": 0.7672961768770152,
            "bin_end": 0.7690004606172272,
            "count": 1
           },
           {
            "bin_start": 0.7690004606172272,
            "bin_end": 0.770704744357439,
            "count": 0
           },
           {
            "bin_start": 0.770704744357439,
            "bin_end": 0.7724090280976509,
            "count": 0
           },
           {
            "bin_start": 0.7724090280976509,
            "bin_end": 0.7741133118378628,
            "count": 0
           },
           {
            "bin_start": 0.7741133118378628,
            "bin_end": 0.7758175955780746,
            "count": 0
           },
           {
            "bin_start": 0.7758175955780746,
            "bin_end": 0.7775218793182865,
            "count": 1
           }
          ]
         }
        },
        {
         "name": "precision",
         "dtype": "float64",
         "stats": {
          "unique_count": 4,
          "nan_count": 0,
          "min": "0.0",
          "max": "0.7936507936507936",
          "histogram": [
           {
            "bin_start": 0,
            "bin_end": 0.07936507936507936,
            "count": 1
           },
           {
            "bin_start": 0.07936507936507936,
            "bin_end": 0.15873015873015872,
            "count": 0
           },
           {
            "bin_start": 0.15873015873015872,
            "bin_end": 0.23809523809523808,
            "count": 0
           },
           {
            "bin_start": 0.23809523809523808,
            "bin_end": 0.31746031746031744,
            "count": 0
           },
           {
            "bin_start": 0.31746031746031744,
            "bin_end": 0.3968253968253968,
            "count": 0
           },
           {
            "bin_start": 0.3968253968253968,
            "bin_end": 0.47619047619047616,
            "count": 0
           },
           {
            "bin_start": 0.47619047619047616,
            "bin_end": 0.5555555555555556,
            "count": 0
           },
           {
            "bin_start": 0.5555555555555556,
            "bin_end": 0.6349206349206349,
            "count": 2
           },
           {
            "bin_start": 0.6349206349206349,
            "bin_end": 0.7142857142857142,
            "count": 0
           },
           {
            "bin_start": 0.7142857142857142,
            "bin_end": 0.7936507936507936,
            "count": 1
           }
          ]
         }
        },
        {
         "name": "recall",
         "dtype": "float64",
         "stats": {
          "unique_count": 4,
          "nan_count": 0,
          "min": "0.0",
          "max": "0.125",
          "histogram": [
           {
            "bin_start": 0,
            "bin_end": 0.0125,
            "count": 1
           },
           {
            "bin_start": 0.0125,
            "bin_end": 0.025,
            "count": 0
           },
           {
            "bin_start": 0.025,
            "bin_end": 0.037500000000000006,
            "count": 0
           },
           {
            "bin_start": 0.037500000000000006,
            "bin_end": 0.05,
            "count": 0
           },
           {
            "bin_start": 0.05,
            "bin_end": 0.0625,
            "count": 1
           },
           {
            "bin_start": 0.0625,
            "bin_end": 0.07500000000000001,
            "count": 0
           },
           {
            "bin_start": 0.07500000000000001,
            "bin_end": 0.08750000000000001,
            "count": 0
           },
           {
            "bin_start": 0.08750000000000001,
            "bin_end": 0.1,
            "count": 1
           },
           {
            "bin_start": 0.1,
            "bin_end": 0.1125,
            "count": 0
           },
           {
            "bin_start": 0.1125,
            "bin_end": 0.125,
            "count": 1
           }
          ]
         }
        },
        {
         "name": "roc_auc",
         "dtype": "float64",
         "stats": {
          "unique_count": 4,
          "nan_count": 0,
          "min": "0.5",
          "max": "0.5482662023016353",
          "histogram": [
           {
            "bin_start": 0.5,
            "bin_end": 0.5048266202301636,
            "count": 1
           },
           {
            "bin_start": 0.5048266202301636,
            "bin_end": 0.509653240460327,
            "count": 0
           },
           {
            "bin_start": 0.509653240460327,
            "bin_end": 0.5144798606904906,
            "count": 0
           },
           {
            "bin_start": 0.5144798606904906,
            "bin_end": 0.5193064809206541,
            "count": 0
           },
           {
            "bin_start": 0.5193064809206541,
            "bin_end": 0.5241331011508177,
            "count": 1
           },
           {
            "bin_start": 0.5241331011508177,
            "bin_end": 0.5289597213809811,
            "count": 0
           },
           {
            "bin_start": 0.5289597213809811,
            "bin_end": 0.5337863416111447,
            "count": 0
           },
           {
            "bin_start": 0.5337863416111447,
            "bin_end": 0.5386129618413082,
            "count": 0
           },
           {
            "bin_start": 0.5386129618413082,
            "bin_end": 0.5434395820714717,
            "count": 0
           },
           {
            "bin_start": 0.5434395820714717,
            "bin_end": 0.5482662023016353,
            "count": 2
           }
          ]
         }
        },
        {
         "name": "f1",
         "dtype": "float64",
         "stats": {
          "unique_count": 4,
          "nan_count": 0,
          "min": "0.0",
          "max": "0.20569620253164558",
          "histogram": [
           {
            "bin_start": 0,
            "bin_end": 0.02056962025316456,
            "count": 1
           },
           {
            "bin_start": 0.02056962025316456,
            "bin_end": 0.04113924050632912,
            "count": 0
           },
           {
            "bin_start": 0.04113924050632912,
            "bin_end": 0.06170886075949368,
            "count": 0
           },
           {
            "bin_start": 0.06170886075949368,
            "bin_end": 0.08227848101265824,
            "count": 0
           },
           {
            "bin_start": 0.08227848101265824,
            "bin_end": 0.10284810126582279,
            "count": 1
           },
           {
            "bin_start": 0.10284810126582279,
            "bin_end": 0.12341772151898736,
            "count": 0
           },
           {
            "bin_start": 0.12341772151898736,
            "bin_end": 0.14398734177215192,
            "count": 0
           },
           {
            "bin_start": 0.14398734177215192,
            "bin_end": 0.16455696202531647,
            "count": 0
           },
           {
            "bin_start": 0.16455696202531647,
            "bin_end": 0.18512658227848103,
            "count": 1
           },
           {
            "bin_start": 0.18512658227848103,
            "bin_end": 0.20569620253164558,
            "count": 1
           }
          ]
         }
        },
        {
         "name": "_deepnote_index_column",
         "dtype": "int64"
        }
       ],
       "rows_top": [
        {
         "label": "is_helpful",
         "model_name": "Prior",
         "date": "None",
         "accuracy": 0.7604790419161677,
         "precision": 0,
         "recall": 0,
         "roc_auc": 0.5,
         "f1": 0,
         "_deepnote_index_column": 0
        },
        {
         "label": "is_helpful",
         "model_name": "LR",
         "date": "None",
         "accuracy": 0.764163979732842,
         "precision": 0.5909090909090909,
         "recall": 0.05,
         "roc_auc": 0.519548758328286,
         "f1": 0.09219858156028368,
         "_deepnote_index_column": 1
        },
        {
         "label": "is_helpful",
         "model_name": "RF",
         "date": "None",
         "accuracy": 0.7775218793182865,
         "precision": 0.7936507936507936,
         "recall": 0.09615384615384616,
         "roc_auc": 0.5441399152029074,
         "f1": 0.17152658662092626,
         "_deepnote_index_column": 2
        },
        {
         "label": "is_helpful",
         "model_name": "LGBM",
         "date": "None",
         "accuracy": 0.7687701520036849,
         "precision": 0.5803571428571429,
         "recall": 0.125,
         "roc_auc": 0.5482662023016353,
         "f1": 0.20569620253164558,
         "_deepnote_index_column": 3
        }
       ],
       "rows_bottom": null
      },
      "text/plain": "        label model_name  date  accuracy  precision    recall   roc_auc  \\\n0  is_helpful      Prior  None  0.760479   0.000000  0.000000  0.500000   \n1  is_helpful         LR  None  0.764164   0.590909  0.050000  0.519549   \n2  is_helpful         RF  None  0.777522   0.793651  0.096154  0.544140   \n3  is_helpful       LGBM  None  0.768770   0.580357  0.125000  0.548266   \n\n         f1  \n0  0.000000  \n1  0.092199  \n2  0.171527  \n3  0.205696  ",
      "text/html": "<div>\n<style scoped>\n    .dataframe tbody tr th:only-of-type {\n        vertical-align: middle;\n    }\n\n    .dataframe tbody tr th {\n        vertical-align: top;\n    }\n\n    .dataframe thead th {\n        text-align: right;\n    }\n</style>\n<table border=\"1\" class=\"dataframe\">\n  <thead>\n    <tr style=\"text-align: right;\">\n      <th></th>\n      <th>label</th>\n      <th>model_name</th>\n      <th>date</th>\n      <th>accuracy</th>\n      <th>precision</th>\n      <th>recall</th>\n      <th>roc_auc</th>\n      <th>f1</th>\n    </tr>\n  </thead>\n  <tbody>\n    <tr>\n      <th>0</th>\n      <td>is_helpful</td>\n      <td>Prior</td>\n      <td>None</td>\n      <td>0.760479</td>\n      <td>0.000000</td>\n      <td>0.000000</td>\n      <td>0.500000</td>\n      <td>0.000000</td>\n    </tr>\n    <tr>\n      <th>1</th>\n      <td>is_helpful</td>\n      <td>LR</td>\n      <td>None</td>\n      <td>0.764164</td>\n      <td>0.590909</td>\n      <td>0.050000</td>\n      <td>0.519549</td>\n      <td>0.092199</td>\n    </tr>\n    <tr>\n      <th>2</th>\n      <td>is_helpful</td>\n      <td>RF</td>\n      <td>None</td>\n      <td>0.777522</td>\n      <td>0.793651</td>\n      <td>0.096154</td>\n      <td>0.544140</td>\n      <td>0.171527</td>\n    </tr>\n    <tr>\n      <th>3</th>\n      <td>is_helpful</td>\n      <td>LGBM</td>\n      <td>None</td>\n      <td>0.768770</td>\n      <td>0.580357</td>\n      <td>0.125000</td>\n      <td>0.548266</td>\n      <td>0.205696</td>\n    </tr>\n  </tbody>\n</table>\n</div>"
     },
     "metadata": {}
    }
   ],
   "execution_count": null
  },
  {
   "cell_type": "code",
   "metadata": {
    "tags": [],
    "cell_id": "00019-dc4eda58-fd8a-4b6d-aeb6-c9f142201186",
    "deepnote_to_be_reexecuted": true,
    "source_hash": "3a964c0f",
    "execution_start": 1639006693357,
    "execution_millis": 56734,
    "deepnote_cell_type": "code"
   },
   "source": "tweets_rows, tweets_tasks = predict(\n        tweets_data['X_trn'], tweets_data['y_trn'],\n        tweets_data['X_test'], tweets_data['y_test'],\n        date=None\n    )",
   "outputs": [
    {
     "name": "stdout",
     "text": "=====\n# trn: 7399, # test: 2472\n=====\n# trn: 6632, # test: 2211\n=====\n# trn: 6527, # test: 2170\n=====\n# trn: 6439, # test: 2152\n/shared-libs/python3.8/py/lib/python3.8/site-packages/sklearn/metrics/_classification.py:1308: UndefinedMetricWarning: Precision is ill-defined and being set to 0.0 due to no predicted samples. Use `zero_division` parameter to control this behavior.\n  _warn_prf(average, modifier, msg_start, len(result))\n",
     "output_type": "stream"
    }
   ],
   "execution_count": null
  },
  {
   "cell_type": "code",
   "metadata": {
    "tags": [],
    "cell_id": "00021-65563526-ac02-4f79-a506-64c21d0f7a93",
    "deepnote_to_be_reexecuted": true,
    "source_hash": "a07c41a7",
    "execution_start": 1639006750145,
    "execution_millis": 7,
    "deepnote_output_heights": [
     611
    ],
    "deepnote_cell_type": "code"
   },
   "source": "pd.DataFrame(tweets_rows)",
   "outputs": [
    {
     "output_type": "execute_result",
     "execution_count": 60,
     "data": {
      "application/vnd.deepnote.dataframe.v2+json": {
       "row_count": 16,
       "column_count": 8,
       "columns": [
        {
         "name": "label",
         "dtype": "object",
         "stats": {
          "unique_count": 4,
          "nan_count": 0,
          "categories": [
           {
            "name": "classification",
            "count": 4
           },
           {
            "name": "believable",
            "count": 4
           },
           {
            "name": "2 others",
            "count": 8
           }
          ]
         }
        },
        {
         "name": "model_name",
         "dtype": "object",
         "stats": {
          "unique_count": 4,
          "nan_count": 0,
          "categories": [
           {
            "name": "Prior",
            "count": 4
           },
           {
            "name": "LR",
            "count": 4
           },
           {
            "name": "2 others",
            "count": 8
           }
          ]
         }
        },
        {
         "name": "date",
         "dtype": "object",
         "stats": {
          "unique_count": 0,
          "nan_count": 16,
          "categories": [
           {
            "name": "Missing",
            "count": 16
           }
          ]
         }
        },
        {
         "name": "accuracy",
         "dtype": "float64",
         "stats": {
          "unique_count": 15,
          "nan_count": 0,
          "min": "0.7523234200743495",
          "max": "0.921302578018996",
          "histogram": [
           {
            "bin_start": 0.7523234200743495,
            "bin_end": 0.7692213358688141,
            "count": 2
           },
           {
            "bin_start": 0.7692213358688141,
            "bin_end": 0.7861192516632788,
            "count": 4
           },
           {
            "bin_start": 0.7861192516632788,
            "bin_end": 0.8030171674577434,
            "count": 2
           },
           {
            "bin_start": 0.8030171674577434,
            "bin_end": 0.8199150832522081,
            "count": 0
           },
           {
            "bin_start": 0.8199150832522081,
            "bin_end": 0.8368129990466727,
            "count": 0
           },
           {
            "bin_start": 0.8368129990466727,
            "bin_end": 0.8537109148411374,
            "count": 0
           },
           {
            "bin_start": 0.8537109148411374,
            "bin_end": 0.870608830635602,
            "count": 1
           },
           {
            "bin_start": 0.870608830635602,
            "bin_end": 0.8875067464300667,
            "count": 0
           },
           {
            "bin_start": 0.8875067464300667,
            "bin_end": 0.9044046622245313,
            "count": 0
           },
           {
            "bin_start": 0.9044046622245313,
            "bin_end": 0.921302578018996,
            "count": 7
           }
          ]
         }
        },
        {
         "name": "precision",
         "dtype": "float64",
         "stats": {
          "unique_count": 16,
          "nan_count": 0,
          "min": "0.0",
          "max": "0.9295525033229951",
          "histogram": [
           {
            "bin_start": 0,
            "bin_end": 0.09295525033229951,
            "count": 1
           },
           {
            "bin_start": 0.09295525033229951,
            "bin_end": 0.18591050066459902,
            "count": 0
           },
           {
            "bin_start": 0.18591050066459902,
            "bin_end": 0.27886575099689853,
            "count": 0
           },
           {
            "bin_start": 0.27886575099689853,
            "bin_end": 0.37182100132919804,
            "count": 0
           },
           {
            "bin_start": 0.37182100132919804,
            "bin_end": 0.46477625166149755,
            "count": 0
           },
           {
            "bin_start": 0.46477625166149755,
            "bin_end": 0.5577315019937971,
            "count": 0
           },
           {
            "bin_start": 0.5577315019937971,
            "bin_end": 0.6506867523260966,
            "count": 0
           },
           {
            "bin_start": 0.6506867523260966,
            "bin_end": 0.7436420026583961,
            "count": 2
           },
           {
            "bin_start": 0.7436420026583961,
            "bin_end": 0.8365972529906955,
            "count": 5
           },
           {
            "bin_start": 0.8365972529906955,
            "bin_end": 0.9295525033229951,
            "count": 8
           }
          ]
         }
        },
        {
         "name": "recall",
         "dtype": "float64",
         "stats": {
          "unique_count": 13,
          "nan_count": 0,
          "min": "0.0",
          "max": "1.0",
          "histogram": [
           {
            "bin_start": 0,
            "bin_end": 0.1,
            "count": 1
           },
           {
            "bin_start": 0.1,
            "bin_end": 0.2,
            "count": 3
           },
           {
            "bin_start": 0.2,
            "bin_end": 0.30000000000000004,
            "count": 0
           },
           {
            "bin_start": 0.30000000000000004,
            "bin_end": 0.4,
            "count": 0
           },
           {
            "bin_start": 0.4,
            "bin_end": 0.5,
            "count": 0
           },
           {
            "bin_start": 0.5,
            "bin_end": 0.6000000000000001,
            "count": 0
           },
           {
            "bin_start": 0.6000000000000001,
            "bin_end": 0.7000000000000001,
            "count": 0
           },
           {
            "bin_start": 0.7000000000000001,
            "bin_end": 0.8,
            "count": 0
           },
           {
            "bin_start": 0.8,
            "bin_end": 0.9,
            "count": 0
           },
           {
            "bin_start": 0.9,
            "bin_end": 1,
            "count": 12
           }
          ]
         }
        },
        {
         "name": "roc_auc",
         "dtype": "float64",
         "stats": {
          "unique_count": 13,
          "nan_count": 0,
          "min": "0.5",
          "max": "0.7554298501031975",
          "histogram": [
           {
            "bin_start": 0.5,
            "bin_end": 0.5255429850103197,
            "count": 5
           },
           {
            "bin_start": 0.5255429850103197,
            "bin_end": 0.5510859700206395,
            "count": 2
           },
           {
            "bin_start": 0.5510859700206395,
            "bin_end": 0.5766289550309592,
            "count": 2
           },
           {
            "bin_start": 0.5766289550309592,
            "bin_end": 0.602171940041279,
            "count": 2
           },
           {
            "bin_start": 0.602171940041279,
            "bin_end": 0.6277149250515988,
            "count": 2
           },
           {
            "bin_start": 0.6277149250515988,
            "bin_end": 0.6532579100619185,
            "count": 0
           },
           {
            "bin_start": 0.6532579100619185,
            "bin_end": 0.6788008950722383,
            "count": 0
           },
           {
            "bin_start": 0.6788008950722383,
            "bin_end": 0.704343880082558,
            "count": 0
           },
           {
            "bin_start": 0.704343880082558,
            "bin_end": 0.7298868650928778,
            "count": 0
           },
           {
            "bin_start": 0.7298868650928778,
            "bin_end": 0.7554298501031975,
            "count": 3
           }
          ]
         }
        },
        {
         "name": "f1",
         "dtype": "float64",
         "stats": {
          "unique_count": 16,
          "nan_count": 0,
          "min": "0.0",
          "max": "0.9590395480225988",
          "histogram": [
           {
            "bin_start": 0,
            "bin_end": 0.09590395480225988,
            "count": 1
           },
           {
            "bin_start": 0.09590395480225988,
            "bin_end": 0.19180790960451977,
            "count": 0
           },
           {
            "bin_start": 0.19180790960451977,
            "bin_end": 0.28771186440677965,
            "count": 2
           },
           {
            "bin_start": 0.28771186440677965,
            "bin_end": 0.38361581920903953,
            "count": 1
           },
           {
            "bin_start": 0.38361581920903953,
            "bin_end": 0.4795197740112994,
            "count": 0
           },
           {
            "bin_start": 0.4795197740112994,
            "bin_end": 0.5754237288135593,
            "count": 0
           },
           {
            "bin_start": 0.5754237288135593,
            "bin_end": 0.6713276836158192,
            "count": 0
           },
           {
            "bin_start": 0.6713276836158192,
            "bin_end": 0.7672316384180791,
            "count": 0
           },
           {
            "bin_start": 0.7672316384180791,
            "bin_end": 0.863135593220339,
            "count": 1
           },
           {
            "bin_start": 0.863135593220339,
            "bin_end": 0.9590395480225988,
            "count": 11
           }
          ]
         }
        },
        {
         "name": "_deepnote_index_column",
         "dtype": "int64"
        }
       ],
       "rows_top": [
        {
         "label": "classification",
         "model_name": "Prior",
         "date": "None",
         "accuracy": 0.863673139158576,
         "precision": 0.863673139158576,
         "recall": 1,
         "roc_auc": 0.5,
         "f1": 0.9268504449750379,
         "_deepnote_index_column": 0
        },
        {
         "label": "classification",
         "model_name": "LR",
         "date": "None",
         "accuracy": 0.9186893203883495,
         "precision": 0.9293960923623446,
         "recall": 0.980327868852459,
         "roc_auc": 0.7542588899158438,
         "f1": 0.954182812856166,
         "_deepnote_index_column": 1
        },
        {
         "label": "classification",
         "model_name": "RF",
         "date": "None",
         "accuracy": 0.9207119741100324,
         "precision": 0.9295525033229951,
         "recall": 0.9826697892271663,
         "roc_auc": 0.7554298501031975,
         "f1": 0.9553734061930784,
         "_deepnote_index_column": 2
        },
        {
         "label": "classification",
         "model_name": "LGBM",
         "date": "None",
         "accuracy": 0.9203074433656958,
         "precision": 0.929140832595217,
         "recall": 0.9826697892271663,
         "roc_auc": 0.7539461705779749,
         "f1": 0.9551559298884589,
         "_deepnote_index_column": 3
        },
        {
         "label": "believable",
         "model_name": "Prior",
         "date": "None",
         "accuracy": 0.921302578018996,
         "precision": 0.921302578018996,
         "recall": 1,
         "roc_auc": 0.5,
         "f1": 0.9590395480225988,
         "_deepnote_index_column": 4
        },
        {
         "label": "believable",
         "model_name": "LR",
         "date": "None",
         "accuracy": 0.9199457259158752,
         "precision": 0.9215775158658205,
         "recall": 0.9980363279332352,
         "roc_auc": 0.5018917271850084,
         "f1": 0.9582842328541127,
         "_deepnote_index_column": 5
        },
        {
         "label": "believable",
         "model_name": "RF",
         "date": "None",
         "accuracy": 0.9208502939846224,
         "precision": 0.9286372007366482,
         "recall": 0.9901816396661758,
         "roc_auc": 0.5496885209825132,
         "f1": 0.9584224281301972,
         "_deepnote_index_column": 6
        },
        {
         "label": "believable",
         "model_name": "LGBM",
         "date": "None",
         "accuracy": 0.9208502939846224,
         "precision": 0.9282428702851886,
         "recall": 0.990672557682867,
         "roc_auc": 0.547060416772468,
         "f1": 0.9584421752552837,
         "_deepnote_index_column": 7
        },
        {
         "label": "harmful",
         "model_name": "Prior",
         "date": "None",
         "accuracy": 0.7585253456221198,
         "precision": 0.7585253456221198,
         "recall": 1,
         "roc_auc": 0.5,
         "f1": 0.8626834381551363,
         "_deepnote_index_column": 8
        },
        {
         "label": "harmful",
         "model_name": "LR",
         "date": "None",
         "accuracy": 0.7857142857142857,
         "precision": 0.7968828557063852,
         "recall": 0.9629404617253949,
         "roc_auc": 0.5959740476565907,
         "f1": 0.8720770288858323,
         "_deepnote_index_column": 9
        },
        {
         "label": "harmful",
         "model_name": "RF",
         "date": "None",
         "accuracy": 0.7944700460829494,
         "precision": 0.7997002997002997,
         "recall": 0.9726609963547995,
         "roc_auc": 0.6036969103911403,
         "f1": 0.8777412280701754,
         "_deepnote_index_column": 10
        },
        {
         "label": "harmful",
         "model_name": "LGBM",
         "date": "None",
         "accuracy": 0.7898617511520737,
         "precision": 0.8026449643947101,
         "recall": 0.9586877278250304,
         "roc_auc": 0.6091148562789275,
         "f1": 0.8737541528239203,
         "_deepnote_index_column": 11
        },
        {
         "label": "validationDifficulty",
         "model_name": "Prior",
         "date": "None",
         "accuracy": 0.7523234200743495,
         "precision": 0,
         "recall": 0,
         "roc_auc": 0.5,
         "f1": 0,
         "_deepnote_index_column": 12
        },
        {
         "label": "validationDifficulty",
         "model_name": "LR",
         "date": "None",
         "accuracy": 0.7723048327137546,
         "precision": 0.6592592592592592,
         "recall": 0.1669793621013133,
         "roc_auc": 0.5692833808653571,
         "f1": 0.26646706586826346,
         "_deepnote_index_column": 13
        },
        {
         "label": "validationDifficulty",
         "model_name": "RF",
         "date": "None",
         "accuracy": 0.7815985130111525,
         "precision": 0.7692307692307693,
         "recall": 0.16885553470919323,
         "roc_auc": 0.5760892868110511,
         "f1": 0.2769230769230769,
         "_deepnote_index_column": 14
        },
        {
         "label": "validationDifficulty",
         "model_name": "LGBM",
         "date": "None",
         "accuracy": 0.7797397769516728,
         "precision": 0.697986577181208,
         "recall": 0.1951219512195122,
         "roc_auc": 0.5836635080371805,
         "f1": 0.30498533724340177,
         "_deepnote_index_column": 15
        }
       ],
       "rows_bottom": null
      },
      "text/plain": "                   label model_name  date  accuracy  precision    recall  \\\n0         classification      Prior  None  0.863673   0.863673  1.000000   \n1         classification         LR  None  0.918689   0.929396  0.980328   \n2         classification         RF  None  0.920712   0.929553  0.982670   \n3         classification       LGBM  None  0.920307   0.929141  0.982670   \n4             believable      Prior  None  0.921303   0.921303  1.000000   \n5             believable         LR  None  0.919946   0.921578  0.998036   \n6             believable         RF  None  0.920850   0.928637  0.990182   \n7             believable       LGBM  None  0.920850   0.928243  0.990673   \n8                harmful      Prior  None  0.758525   0.758525  1.000000   \n9                harmful         LR  None  0.785714   0.796883  0.962940   \n10               harmful         RF  None  0.794470   0.799700  0.972661   \n11               harmful       LGBM  None  0.789862   0.802645  0.958688   \n12  validationDifficulty      Prior  None  0.752323   0.000000  0.000000   \n13  validationDifficulty         LR  None  0.772305   0.659259  0.166979   \n14  validationDifficulty         RF  None  0.781599   0.769231  0.168856   \n15  validationDifficulty       LGBM  None  0.779740   0.697987  0.195122   \n\n     roc_auc        f1  \n0   0.500000  0.926850  \n1   0.754259  0.954183  \n2   0.755430  0.955373  \n3   0.753946  0.955156  \n4   0.500000  0.959040  \n5   0.501892  0.958284  \n6   0.549689  0.958422  \n7   0.547060  0.958442  \n8   0.500000  0.862683  \n9   0.595974  0.872077  \n10  0.603697  0.877741  \n11  0.609115  0.873754  \n12  0.500000  0.000000  \n13  0.569283  0.266467  \n14  0.576089  0.276923  \n15  0.583664  0.304985  ",
      "text/html": "<div>\n<style scoped>\n    .dataframe tbody tr th:only-of-type {\n        vertical-align: middle;\n    }\n\n    .dataframe tbody tr th {\n        vertical-align: top;\n    }\n\n    .dataframe thead th {\n        text-align: right;\n    }\n</style>\n<table border=\"1\" class=\"dataframe\">\n  <thead>\n    <tr style=\"text-align: right;\">\n      <th></th>\n      <th>label</th>\n      <th>model_name</th>\n      <th>date</th>\n      <th>accuracy</th>\n      <th>precision</th>\n      <th>recall</th>\n      <th>roc_auc</th>\n      <th>f1</th>\n    </tr>\n  </thead>\n  <tbody>\n    <tr>\n      <th>0</th>\n      <td>classification</td>\n      <td>Prior</td>\n      <td>None</td>\n      <td>0.863673</td>\n      <td>0.863673</td>\n      <td>1.000000</td>\n      <td>0.500000</td>\n      <td>0.926850</td>\n    </tr>\n    <tr>\n      <th>1</th>\n      <td>classification</td>\n      <td>LR</td>\n      <td>None</td>\n      <td>0.918689</td>\n      <td>0.929396</td>\n      <td>0.980328</td>\n      <td>0.754259</td>\n      <td>0.954183</td>\n    </tr>\n    <tr>\n      <th>2</th>\n      <td>classification</td>\n      <td>RF</td>\n      <td>None</td>\n      <td>0.920712</td>\n      <td>0.929553</td>\n      <td>0.982670</td>\n      <td>0.755430</td>\n      <td>0.955373</td>\n    </tr>\n    <tr>\n      <th>3</th>\n      <td>classification</td>\n      <td>LGBM</td>\n      <td>None</td>\n      <td>0.920307</td>\n      <td>0.929141</td>\n      <td>0.982670</td>\n      <td>0.753946</td>\n      <td>0.955156</td>\n    </tr>\n    <tr>\n      <th>4</th>\n      <td>believable</td>\n      <td>Prior</td>\n      <td>None</td>\n      <td>0.921303</td>\n      <td>0.921303</td>\n      <td>1.000000</td>\n      <td>0.500000</td>\n      <td>0.959040</td>\n    </tr>\n    <tr>\n      <th>5</th>\n      <td>believable</td>\n      <td>LR</td>\n      <td>None</td>\n      <td>0.919946</td>\n      <td>0.921578</td>\n      <td>0.998036</td>\n      <td>0.501892</td>\n      <td>0.958284</td>\n    </tr>\n    <tr>\n      <th>6</th>\n      <td>believable</td>\n      <td>RF</td>\n      <td>None</td>\n      <td>0.920850</td>\n      <td>0.928637</td>\n      <td>0.990182</td>\n      <td>0.549689</td>\n      <td>0.958422</td>\n    </tr>\n    <tr>\n      <th>7</th>\n      <td>believable</td>\n      <td>LGBM</td>\n      <td>None</td>\n      <td>0.920850</td>\n      <td>0.928243</td>\n      <td>0.990673</td>\n      <td>0.547060</td>\n      <td>0.958442</td>\n    </tr>\n    <tr>\n      <th>8</th>\n      <td>harmful</td>\n      <td>Prior</td>\n      <td>None</td>\n      <td>0.758525</td>\n      <td>0.758525</td>\n      <td>1.000000</td>\n      <td>0.500000</td>\n      <td>0.862683</td>\n    </tr>\n    <tr>\n      <th>9</th>\n      <td>harmful</td>\n      <td>LR</td>\n      <td>None</td>\n      <td>0.785714</td>\n      <td>0.796883</td>\n      <td>0.962940</td>\n      <td>0.595974</td>\n      <td>0.872077</td>\n    </tr>\n    <tr>\n      <th>10</th>\n      <td>harmful</td>\n      <td>RF</td>\n      <td>None</td>\n      <td>0.794470</td>\n      <td>0.799700</td>\n      <td>0.972661</td>\n      <td>0.603697</td>\n      <td>0.877741</td>\n    </tr>\n    <tr>\n      <th>11</th>\n      <td>harmful</td>\n      <td>LGBM</td>\n      <td>None</td>\n      <td>0.789862</td>\n      <td>0.802645</td>\n      <td>0.958688</td>\n      <td>0.609115</td>\n      <td>0.873754</td>\n    </tr>\n    <tr>\n      <th>12</th>\n      <td>validationDifficulty</td>\n      <td>Prior</td>\n      <td>None</td>\n      <td>0.752323</td>\n      <td>0.000000</td>\n      <td>0.000000</td>\n      <td>0.500000</td>\n      <td>0.000000</td>\n    </tr>\n    <tr>\n      <th>13</th>\n      <td>validationDifficulty</td>\n      <td>LR</td>\n      <td>None</td>\n      <td>0.772305</td>\n      <td>0.659259</td>\n      <td>0.166979</td>\n      <td>0.569283</td>\n      <td>0.266467</td>\n    </tr>\n    <tr>\n      <th>14</th>\n      <td>validationDifficulty</td>\n      <td>RF</td>\n      <td>None</td>\n      <td>0.781599</td>\n      <td>0.769231</td>\n      <td>0.168856</td>\n      <td>0.576089</td>\n      <td>0.276923</td>\n    </tr>\n    <tr>\n      <th>15</th>\n      <td>validationDifficulty</td>\n      <td>LGBM</td>\n      <td>None</td>\n      <td>0.779740</td>\n      <td>0.697987</td>\n      <td>0.195122</td>\n      <td>0.583664</td>\n      <td>0.304985</td>\n    </tr>\n  </tbody>\n</table>\n</div>"
     },
     "metadata": {}
    }
   ],
   "execution_count": null
  },
  {
   "cell_type": "code",
   "metadata": {
    "tags": [],
    "cell_id": "00025-f37f4a67-a395-4560-b713-a7c604e6f67e",
    "deepnote_to_be_reexecuted": true,
    "source_hash": "3ad578f4",
    "execution_start": 1639007350401,
    "execution_millis": 1206756,
    "deepnote_output_heights": [
     null,
     194
    ],
    "deepnote_cell_type": "code"
   },
   "source": "LAST_DATE = '09/15/2021'\ndates = [\n    # LAST_DATE,\n    '02/15/2021', \n    '03/01/2021', '03/15/2021', \n    '04/01/2021', '04/15/2021',\n    '05/01/2021', '05/15/2021', \n    '06/01/2021', '06/15/2021',\n    '07/01/2021', '07/15/2021',\n    '08/01/2021', '08/15/2021', \n    '09/01/2021', '09/15/2021'\n    \n]\nall_rows = []\nall_tasks = []\n\nfor date in dates:\n    print('processing ' + date)\n    notes = dictionary['notes ' + date]\n    notes.loc[notes.clean_summary_as_str == '', 'clean_summary_as_str'] = ' '\n\n    tweetsWithNotes = dictionary['tweets ' + date] \n    tweetsWithNotes.loc[tweetsWithNotes.clean_text_as_str == '', 'clean_text_as_str'] = ' '\n\n    dt = pd.to_datetime(date)\n    test_start_dt = dt - datetime.timedelta(days=14)\n    print(dt, test_start_dt)\n\n    # create datetime column\n    notes['dt'] = notes.createdAtMillis_note.apply(lambda x: datetime.datetime.fromtimestamp(x/1000))\n    tweetsWithNotes['dt'] = tweetsWithNotes.createdAtMillis.apply(lambda x: datetime.datetime.fromtimestamp(x/1000))\n\n    \n    notes_trn_mask = notes.dt < test_start_dt\n    tweets_trn_mask = tweetsWithNotes.dt < test_start_dt\n\n    notes_data = preprocess(\n        notes, trn_mask=notes_trn_mask\n    )\n    tweets_data = preprocess(\n        tweetsWithNotes, trn_mask = tweets_trn_mask,\n        df_type='tweets_with_notes', \n    )\n\n    # if date == LAST_DATE:\n    #     persistent_notes_test = notes_data['X_test'], notes_data['y_test']\n    #     persistent_tweets_test = tweets_data['X_test'], tweets_data['y_test']\n\n    notes_rows, notes_tasks = predict(\n        notes_data['X_trn'], notes_data['y_trn'],\n        notes_data['X_test'], notes_data['y_test'],\n        labels=['is_helpful'],\n        date=date\n    )\n    for row in notes_rows:\n        row['type'] = 'notes'\n    all_rows += notes_rows\n    all_tasks += notes_tasks\n\n    tweets_rows, tweets_tasks = predict(\n        tweets_data['X_trn'], tweets_data['y_trn'],\n        tweets_data['X_test'], tweets_data['y_test'],\n        date=date\n    )\n    for row in tweets_rows:\n        row['type'] = 'tweets'\n    all_rows += tweets_rows\n    all_tasks += tweets_tasks\n\nresults_df = pd.DataFrame(all_rows)\ntasks_df = pd.DataFrame(all_tasks)\n",
   "outputs": [
    {
     "name": "stdout",
     "text": "processing 02/15/2021\n2021-02-15 00:00:00 2021-02-01 00:00:00\n=====\n# trn: 594, # test: 634\n/shared-libs/python3.8/py/lib/python3.8/site-packages/sklearn/metrics/_classification.py:1308: UndefinedMetricWarning: Precision is ill-defined and being set to 0.0 due to no predicted samples. Use `zero_division` parameter to control this behavior.\n  _warn_prf(average, modifier, msg_start, len(result))\n/shared-libs/python3.8/py/lib/python3.8/site-packages/sklearn/linear_model/_logistic.py:814: ConvergenceWarning: lbfgs failed to converge (status=1):\nSTOP: TOTAL NO. of ITERATIONS REACHED LIMIT.\n\nIncrease the number of iterations (max_iter) or scale the data as shown in:\n    https://scikit-learn.org/stable/modules/preprocessing.html\nPlease also refer to the documentation for alternative solver options:\n    https://scikit-learn.org/stable/modules/linear_model.html#logistic-regression\n  n_iter_i = _check_optimize_result(\n=====\n# trn: 849, # test: 802\n=====\n# trn: 566, # test: 669\n=====\n# trn: 557, # test: 659\n=====\n# trn: 547, # test: 655\nprocessing 03/01/2021\n2021-03-01 00:00:00 2021-02-15 00:00:00\n/shared-libs/python3.8/py/lib/python3.8/site-packages/sklearn/metrics/_classification.py:1308: UndefinedMetricWarning: Precision is ill-defined and being set to 0.0 due to no predicted samples. Use `zero_division` parameter to control this behavior.\n  _warn_prf(average, modifier, msg_start, len(result))\n=====\n# trn: 1235, # test: 513\n/shared-libs/python3.8/py/lib/python3.8/site-packages/sklearn/metrics/_classification.py:1308: UndefinedMetricWarning: Precision is ill-defined and being set to 0.0 due to no predicted samples. Use `zero_division` parameter to control this behavior.\n  _warn_prf(average, modifier, msg_start, len(result))\n=====\n# trn: 1690, # test: 671\n=====\n# trn: 1274, # test: 524\n=====\n# trn: 1255, # test: 516\n=====\n# trn: 1241, # test: 506\nprocessing 03/15/2021\n2021-03-15 00:00:00 2021-03-01 00:00:00\n/shared-libs/python3.8/py/lib/python3.8/site-packages/sklearn/metrics/_classification.py:1308: UndefinedMetricWarning: Precision is ill-defined and being set to 0.0 due to no predicted samples. Use `zero_division` parameter to control this behavior.\n  _warn_prf(average, modifier, msg_start, len(result))\n=====\n# trn: 1750, # test: 333\n/shared-libs/python3.8/py/lib/python3.8/site-packages/sklearn/metrics/_classification.py:1308: UndefinedMetricWarning: Precision is ill-defined and being set to 0.0 due to no predicted samples. Use `zero_division` parameter to control this behavior.\n  _warn_prf(average, modifier, msg_start, len(result))\n=====\n# trn: 2394, # test: 449\n=====\n# trn: 1829, # test: 370\n=====\n# trn: 1804, # test: 360\n=====\n# trn: 1778, # test: 356\nprocessing 04/01/2021\n2021-04-01 00:00:00 2021-03-18 00:00:00\n/shared-libs/python3.8/py/lib/python3.8/site-packages/sklearn/metrics/_classification.py:1308: UndefinedMetricWarning: Precision is ill-defined and being set to 0.0 due to no predicted samples. Use `zero_division` parameter to control this behavior.\n  _warn_prf(average, modifier, msg_start, len(result))\n=====\n# trn: 2196, # test: 492\n/shared-libs/python3.8/py/lib/python3.8/site-packages/sklearn/metrics/_classification.py:1308: UndefinedMetricWarning: Precision is ill-defined and being set to 0.0 due to no predicted samples. Use `zero_division` parameter to control this behavior.\n  _warn_prf(average, modifier, msg_start, len(result))\n=====\n# trn: 2986, # test: 677\n=====\n# trn: 2334, # test: 593\n=====\n# trn: 2299, # test: 584\n=====\n# trn: 2259, # test: 584\nprocessing 04/15/2021\n2021-04-15 00:00:00 2021-04-01 00:00:00\n/shared-libs/python3.8/py/lib/python3.8/site-packages/sklearn/metrics/_classification.py:1308: UndefinedMetricWarning: Precision is ill-defined and being set to 0.0 due to no predicted samples. Use `zero_division` parameter to control this behavior.\n  _warn_prf(average, modifier, msg_start, len(result))\n=====\n# trn: 2694, # test: 360\n/shared-libs/python3.8/py/lib/python3.8/site-packages/sklearn/metrics/_classification.py:1308: UndefinedMetricWarning: Precision is ill-defined and being set to 0.0 due to no predicted samples. Use `zero_division` parameter to control this behavior.\n  _warn_prf(average, modifier, msg_start, len(result))\n=====\n# trn: 3703, # test: 407\n=====\n# trn: 2959, # test: 394\n=====\n# trn: 2916, # test: 391\n=====\n# trn: 2875, # test: 382\nprocessing 05/01/2021\n2021-05-01 00:00:00 2021-04-17 00:00:00\n/shared-libs/python3.8/py/lib/python3.8/site-packages/sklearn/metrics/_classification.py:1308: UndefinedMetricWarning: Precision is ill-defined and being set to 0.0 due to no predicted samples. Use `zero_division` parameter to control this behavior.\n  _warn_prf(average, modifier, msg_start, len(result))\n/shared-libs/python3.8/py/lib/python3.8/site-packages/sklearn/metrics/_classification.py:1308: UndefinedMetricWarning: Precision is ill-defined and being set to 0.0 due to no predicted samples. Use `zero_division` parameter to control this behavior.\n  _warn_prf(average, modifier, msg_start, len(result))\n=====\n# trn: 3125, # test: 427\n/shared-libs/python3.8/py/lib/python3.8/site-packages/sklearn/metrics/_classification.py:1308: UndefinedMetricWarning: Precision is ill-defined and being set to 0.0 due to no predicted samples. Use `zero_division` parameter to control this behavior.\n  _warn_prf(average, modifier, msg_start, len(result))\n=====\n# trn: 4184, # test: 473\n=====\n# trn: 3427, # test: 408\n=====\n# trn: 3384, # test: 395\n=====\n# trn: 3329, # test: 396\nprocessing 05/15/2021\n2021-05-15 00:00:00 2021-05-01 00:00:00\n/shared-libs/python3.8/py/lib/python3.8/site-packages/sklearn/metrics/_classification.py:1308: UndefinedMetricWarning: Precision is ill-defined and being set to 0.0 due to no predicted samples. Use `zero_division` parameter to control this behavior.\n  _warn_prf(average, modifier, msg_start, len(result))\n=====\n# trn: 3555, # test: 407\n/shared-libs/python3.8/py/lib/python3.8/site-packages/sklearn/metrics/_classification.py:1308: UndefinedMetricWarning: Precision is ill-defined and being set to 0.0 due to no predicted samples. Use `zero_division` parameter to control this behavior.\n  _warn_prf(average, modifier, msg_start, len(result))\n=====\n# trn: 4687, # test: 611\n=====\n# trn: 3867, # test: 601\n=====\n# trn: 3811, # test: 597\n=====\n# trn: 3757, # test: 583\nprocessing 06/01/2021\n2021-06-01 00:00:00 2021-05-18 00:00:00\n/shared-libs/python3.8/py/lib/python3.8/site-packages/sklearn/metrics/_classification.py:1308: UndefinedMetricWarning: Precision is ill-defined and being set to 0.0 due to no predicted samples. Use `zero_division` parameter to control this behavior.\n  _warn_prf(average, modifier, msg_start, len(result))\n=====\n# trn: 4034, # test: 248\n/shared-libs/python3.8/py/lib/python3.8/site-packages/sklearn/metrics/_classification.py:1308: UndefinedMetricWarning: Precision is ill-defined and being set to 0.0 due to no predicted samples. Use `zero_division` parameter to control this behavior.\n  _warn_prf(average, modifier, msg_start, len(result))\n=====\n# trn: 5430, # test: 292\n=====\n# trn: 4598, # test: 284\n=====\n# trn: 4536, # test: 282\n=====\n# trn: 4468, # test: 281\nprocessing 06/15/2021\n2021-06-15 00:00:00 2021-06-01 00:00:00\n/shared-libs/python3.8/py/lib/python3.8/site-packages/sklearn/metrics/_classification.py:1308: UndefinedMetricWarning: Precision is ill-defined and being set to 0.0 due to no predicted samples. Use `zero_division` parameter to control this behavior.\n  _warn_prf(average, modifier, msg_start, len(result))\n/shared-libs/python3.8/py/lib/python3.8/site-packages/sklearn/metrics/_classification.py:1308: UndefinedMetricWarning: Precision is ill-defined and being set to 0.0 due to no predicted samples. Use `zero_division` parameter to control this behavior.\n  _warn_prf(average, modifier, msg_start, len(result))\n=====\n# trn: 4288, # test: 305\n/shared-libs/python3.8/py/lib/python3.8/site-packages/sklearn/metrics/_classification.py:1308: UndefinedMetricWarning: Precision is ill-defined and being set to 0.0 due to no predicted samples. Use `zero_division` parameter to control this behavior.\n  _warn_prf(average, modifier, msg_start, len(result))\n=====\n# trn: 5749, # test: 276\n=====\n# trn: 4907, # test: 271\n=====\n# trn: 4842, # test: 266\n=====\n# trn: 4773, # test: 265\nprocessing 07/01/2021\n2021-07-01 00:00:00 2021-06-17 00:00:00\n/shared-libs/python3.8/py/lib/python3.8/site-packages/sklearn/metrics/_classification.py:1308: UndefinedMetricWarning: Precision is ill-defined and being set to 0.0 due to no predicted samples. Use `zero_division` parameter to control this behavior.\n  _warn_prf(average, modifier, msg_start, len(result))\n=====\n# trn: 4704, # test: 527\n/shared-libs/python3.8/py/lib/python3.8/site-packages/sklearn/metrics/_classification.py:1308: UndefinedMetricWarning: Precision is ill-defined and being set to 0.0 due to no predicted samples. Use `zero_division` parameter to control this behavior.\n  _warn_prf(average, modifier, msg_start, len(result))\n=====\n# trn: 6200, # test: 417\n=====\n# trn: 5299, # test: 423\n=====\n# trn: 5220, # test: 407\n=====\n# trn: 5150, # test: 403\nprocessing 07/15/2021\n2021-07-15 00:00:00 2021-07-01 00:00:00\n/shared-libs/python3.8/py/lib/python3.8/site-packages/sklearn/metrics/_classification.py:1308: UndefinedMetricWarning: Precision is ill-defined and being set to 0.0 due to no predicted samples. Use `zero_division` parameter to control this behavior.\n  _warn_prf(average, modifier, msg_start, len(result))\n=====\n# trn: 5252, # test: 425\n/shared-libs/python3.8/py/lib/python3.8/site-packages/sklearn/metrics/_classification.py:1308: UndefinedMetricWarning: Precision is ill-defined and being set to 0.0 due to no predicted samples. Use `zero_division` parameter to control this behavior.\n  _warn_prf(average, modifier, msg_start, len(result))\n/shared-libs/python3.8/py/lib/python3.8/site-packages/sklearn/metrics/_classification.py:1308: UndefinedMetricWarning: Recall is ill-defined and being set to 0.0 due to no true samples. Use `zero_division` parameter to control this behavior.\n  _warn_prf(average, modifier, msg_start, len(result))\n/shared-libs/python3.8/py/lib/python3.8/site-packages/sklearn/metrics/_classification.py:1570: UndefinedMetricWarning: F-score is ill-defined and being set to 0.0 due to no true nor predicted samples. Use `zero_division` parameter to control this behavior.\n  _warn_prf(average, \"true nor predicted\", \"F-score is\", len(true_sum))\n/shared-libs/python3.8/py/lib/python3.8/site-packages/sklearn/metrics/_classification.py:1308: UndefinedMetricWarning: Recall is ill-defined and being set to 0.0 due to no true samples. Use `zero_division` parameter to control this behavior.\n  _warn_prf(average, modifier, msg_start, len(result))\n/shared-libs/python3.8/py/lib/python3.8/site-packages/sklearn/metrics/_classification.py:1308: UndefinedMetricWarning: Recall is ill-defined and being set to 0.0 due to no true samples. Use `zero_division` parameter to control this behavior.\n  _warn_prf(average, modifier, msg_start, len(result))\n/shared-libs/python3.8/py/lib/python3.8/site-packages/sklearn/metrics/_classification.py:1308: UndefinedMetricWarning: Recall is ill-defined and being set to 0.0 due to no true samples. Use `zero_division` parameter to control this behavior.\n  _warn_prf(average, modifier, msg_start, len(result))\n=====\n# trn: 6652, # test: 344\n=====\n# trn: 5750, # test: 345\n=====\n# trn: 5657, # test: 341\n=====\n# trn: 5583, # test: 338\nprocessing 08/01/2021\n2021-08-01 00:00:00 2021-07-18 00:00:00\n/shared-libs/python3.8/py/lib/python3.8/site-packages/sklearn/metrics/_classification.py:1308: UndefinedMetricWarning: Precision is ill-defined and being set to 0.0 due to no predicted samples. Use `zero_division` parameter to control this behavior.\n  _warn_prf(average, modifier, msg_start, len(result))\n=====\n# trn: 5817, # test: 526\n/shared-libs/python3.8/py/lib/python3.8/site-packages/sklearn/metrics/_classification.py:1308: UndefinedMetricWarning: Precision is ill-defined and being set to 0.0 due to no predicted samples. Use `zero_division` parameter to control this behavior.\n  _warn_prf(average, modifier, msg_start, len(result))\n/shared-libs/python3.8/py/lib/python3.8/site-packages/sklearn/metrics/_classification.py:1308: UndefinedMetricWarning: Recall is ill-defined and being set to 0.0 due to no true samples. Use `zero_division` parameter to control this behavior.\n  _warn_prf(average, modifier, msg_start, len(result))\n/shared-libs/python3.8/py/lib/python3.8/site-packages/sklearn/metrics/_classification.py:1570: UndefinedMetricWarning: F-score is ill-defined and being set to 0.0 due to no true nor predicted samples. Use `zero_division` parameter to control this behavior.\n  _warn_prf(average, \"true nor predicted\", \"F-score is\", len(true_sum))\n/shared-libs/python3.8/py/lib/python3.8/site-packages/sklearn/metrics/_classification.py:1308: UndefinedMetricWarning: Recall is ill-defined and being set to 0.0 due to no true samples. Use `zero_division` parameter to control this behavior.\n  _warn_prf(average, modifier, msg_start, len(result))\n/shared-libs/python3.8/py/lib/python3.8/site-packages/sklearn/metrics/_classification.py:1308: UndefinedMetricWarning: Recall is ill-defined and being set to 0.0 due to no true samples. Use `zero_division` parameter to control this behavior.\n  _warn_prf(average, modifier, msg_start, len(result))\n/shared-libs/python3.8/py/lib/python3.8/site-packages/sklearn/metrics/_classification.py:1308: UndefinedMetricWarning: Recall is ill-defined and being set to 0.0 due to no true samples. Use `zero_division` parameter to control this behavior.\n  _warn_prf(average, modifier, msg_start, len(result))\n=====\n# trn: 7138, # test: 467\n=====\n# trn: 6239, # test: 465\n=====\n# trn: 6139, # test: 460\n=====\n# trn: 6060, # test: 454\nprocessing 08/15/2021\n2021-08-15 00:00:00 2021-08-01 00:00:00\n/shared-libs/python3.8/py/lib/python3.8/site-packages/sklearn/metrics/_classification.py:1308: UndefinedMetricWarning: Precision is ill-defined and being set to 0.0 due to no predicted samples. Use `zero_division` parameter to control this behavior.\n  _warn_prf(average, modifier, msg_start, len(result))\n=====\n# trn: 6349, # test: 409\n/shared-libs/python3.8/py/lib/python3.8/site-packages/sklearn/metrics/_classification.py:1308: UndefinedMetricWarning: Precision is ill-defined and being set to 0.0 due to no predicted samples. Use `zero_division` parameter to control this behavior.\n  _warn_prf(average, modifier, msg_start, len(result))\n/shared-libs/python3.8/py/lib/python3.8/site-packages/sklearn/metrics/_classification.py:1308: UndefinedMetricWarning: Recall is ill-defined and being set to 0.0 due to no true samples. Use `zero_division` parameter to control this behavior.\n  _warn_prf(average, modifier, msg_start, len(result))\n/shared-libs/python3.8/py/lib/python3.8/site-packages/sklearn/metrics/_classification.py:1570: UndefinedMetricWarning: F-score is ill-defined and being set to 0.0 due to no true nor predicted samples. Use `zero_division` parameter to control this behavior.\n  _warn_prf(average, \"true nor predicted\", \"F-score is\", len(true_sum))\n/shared-libs/python3.8/py/lib/python3.8/site-packages/sklearn/metrics/_classification.py:1308: UndefinedMetricWarning: Recall is ill-defined and being set to 0.0 due to no true samples. Use `zero_division` parameter to control this behavior.\n  _warn_prf(average, modifier, msg_start, len(result))\n/shared-libs/python3.8/py/lib/python3.8/site-packages/sklearn/metrics/_classification.py:1308: UndefinedMetricWarning: Recall is ill-defined and being set to 0.0 due to no true samples. Use `zero_division` parameter to control this behavior.\n  _warn_prf(average, modifier, msg_start, len(result))\n/shared-libs/python3.8/py/lib/python3.8/site-packages/sklearn/metrics/_classification.py:1308: UndefinedMetricWarning: Recall is ill-defined and being set to 0.0 due to no true samples. Use `zero_division` parameter to control this behavior.\n  _warn_prf(average, modifier, msg_start, len(result))\n=====\n# trn: 7624, # test: 442\n=====\n# trn: 6725, # test: 441\n=====\n# trn: 6620, # test: 436\n=====\n# trn: 6534, # test: 429\nprocessing 09/01/2021\n2021-09-01 00:00:00 2021-08-18 00:00:00\n/shared-libs/python3.8/py/lib/python3.8/site-packages/sklearn/metrics/_classification.py:1308: UndefinedMetricWarning: Precision is ill-defined and being set to 0.0 due to no predicted samples. Use `zero_division` parameter to control this behavior.\n  _warn_prf(average, modifier, msg_start, len(result))\n=====\n# trn: 6844, # test: 910\n/shared-libs/python3.8/py/lib/python3.8/site-packages/sklearn/metrics/_classification.py:1308: UndefinedMetricWarning: Precision is ill-defined and being set to 0.0 due to no predicted samples. Use `zero_division` parameter to control this behavior.\n  _warn_prf(average, modifier, msg_start, len(result))\n/shared-libs/python3.8/py/lib/python3.8/site-packages/sklearn/metrics/_classification.py:1308: UndefinedMetricWarning: Recall is ill-defined and being set to 0.0 due to no true samples. Use `zero_division` parameter to control this behavior.\n  _warn_prf(average, modifier, msg_start, len(result))\n/shared-libs/python3.8/py/lib/python3.8/site-packages/sklearn/metrics/_classification.py:1570: UndefinedMetricWarning: F-score is ill-defined and being set to 0.0 due to no true nor predicted samples. Use `zero_division` parameter to control this behavior.\n  _warn_prf(average, \"true nor predicted\", \"F-score is\", len(true_sum))\n/shared-libs/python3.8/py/lib/python3.8/site-packages/sklearn/metrics/_classification.py:1308: UndefinedMetricWarning: Recall is ill-defined and being set to 0.0 due to no true samples. Use `zero_division` parameter to control this behavior.\n  _warn_prf(average, modifier, msg_start, len(result))\n/shared-libs/python3.8/py/lib/python3.8/site-packages/sklearn/metrics/_classification.py:1308: UndefinedMetricWarning: Recall is ill-defined and being set to 0.0 due to no true samples. Use `zero_division` parameter to control this behavior.\n  _warn_prf(average, modifier, msg_start, len(result))\n/shared-libs/python3.8/py/lib/python3.8/site-packages/sklearn/metrics/_classification.py:1308: UndefinedMetricWarning: Recall is ill-defined and being set to 0.0 due to no true samples. Use `zero_division` parameter to control this behavior.\n  _warn_prf(average, modifier, msg_start, len(result))\n=====\n# trn: 8212, # test: 895\n=====\n# trn: 7312, # test: 755\n=====\n# trn: 7200, # test: 725\n=====\n# trn: 7108, # test: 725\nprocessing 09/15/2021\n2021-09-15 00:00:00 2021-09-01 00:00:00\n/shared-libs/python3.8/py/lib/python3.8/site-packages/sklearn/metrics/_classification.py:1308: UndefinedMetricWarning: Precision is ill-defined and being set to 0.0 due to no predicted samples. Use `zero_division` parameter to control this behavior.\n  _warn_prf(average, modifier, msg_start, len(result))\n=====\n# trn: 7769, # test: 918\n/shared-libs/python3.8/py/lib/python3.8/site-packages/sklearn/metrics/_classification.py:1308: UndefinedMetricWarning: Precision is ill-defined and being set to 0.0 due to no predicted samples. Use `zero_division` parameter to control this behavior.\n  _warn_prf(average, modifier, msg_start, len(result))\n/shared-libs/python3.8/py/lib/python3.8/site-packages/sklearn/metrics/_classification.py:1308: UndefinedMetricWarning: Recall is ill-defined and being set to 0.0 due to no true samples. Use `zero_division` parameter to control this behavior.\n  _warn_prf(average, modifier, msg_start, len(result))\n/shared-libs/python3.8/py/lib/python3.8/site-packages/sklearn/metrics/_classification.py:1570: UndefinedMetricWarning: F-score is ill-defined and being set to 0.0 due to no true nor predicted samples. Use `zero_division` parameter to control this behavior.\n  _warn_prf(average, \"true nor predicted\", \"F-score is\", len(true_sum))\n/shared-libs/python3.8/py/lib/python3.8/site-packages/sklearn/metrics/_classification.py:1308: UndefinedMetricWarning: Recall is ill-defined and being set to 0.0 due to no true samples. Use `zero_division` parameter to control this behavior.\n  _warn_prf(average, modifier, msg_start, len(result))\n/shared-libs/python3.8/py/lib/python3.8/site-packages/sklearn/metrics/_classification.py:1308: UndefinedMetricWarning: Recall is ill-defined and being set to 0.0 due to no true samples. Use `zero_division` parameter to control this behavior.\n  _warn_prf(average, modifier, msg_start, len(result))\n/shared-libs/python3.8/py/lib/python3.8/site-packages/sklearn/metrics/_classification.py:1308: UndefinedMetricWarning: Recall is ill-defined and being set to 0.0 due to no true samples. Use `zero_division` parameter to control this behavior.\n  _warn_prf(average, modifier, msg_start, len(result))\n=====\n# trn: 9184, # test: 687\n=====\n# trn: 8148, # test: 695\n=====\n# trn: 8007, # test: 690\n=====\n# trn: 7909, # test: 682\n/shared-libs/python3.8/py/lib/python3.8/site-packages/sklearn/metrics/_classification.py:1308: UndefinedMetricWarning: Precision is ill-defined and being set to 0.0 due to no predicted samples. Use `zero_division` parameter to control this behavior.\n  _warn_prf(average, modifier, msg_start, len(result))\n",
     "output_type": "stream"
    }
   ],
   "execution_count": null
  },
  {
   "cell_type": "code",
   "metadata": {
    "tags": [],
    "cell_id": "00035-ec2d924b-a129-4f10-9c61-621588063002",
    "deepnote_to_be_reexecuted": true,
    "source_hash": "b263c98f",
    "execution_start": 1639008557168,
    "execution_millis": 119,
    "deepnote_cell_type": "code"
   },
   "source": "results_df",
   "outputs": [
    {
     "output_type": "execute_result",
     "execution_count": 70,
     "data": {
      "application/vnd.deepnote.dataframe.v2+json": {
       "row_count": 300,
       "column_count": 9,
       "columns": [
        {
         "name": "label",
         "dtype": "object",
         "stats": {
          "unique_count": 5,
          "nan_count": 0,
          "categories": [
           {
            "name": "is_helpful",
            "count": 60
           },
           {
            "name": "classification",
            "count": 60
           },
           {
            "name": "3 others",
            "count": 180
           }
          ]
         }
        },
        {
         "name": "model_name",
         "dtype": "object",
         "stats": {
          "unique_count": 4,
          "nan_count": 0,
          "categories": [
           {
            "name": "Prior",
            "count": 75
           },
           {
            "name": "LR",
            "count": 75
           },
           {
            "name": "2 others",
            "count": 150
           }
          ]
         }
        },
        {
         "name": "date",
         "dtype": "datetime64[ns]",
         "stats": {
          "unique_count": 15,
          "nan_count": 0,
          "min": "2021-02-15 00:00:00",
          "max": "2021-09-15 00:00:00",
          "histogram": [
           {
            "bin_start": 1613347200000000000,
            "bin_end": 1615178880000000000,
            "count": 40
           },
           {
            "bin_start": 1615178880000000000,
            "bin_end": 1617010560000000000,
            "count": 20
           },
           {
            "bin_start": 1617010560000000000,
            "bin_end": 1618842240000000000,
            "count": 40
           },
           {
            "bin_start": 1618842240000000000,
            "bin_end": 1620673920000000000,
            "count": 20
           },
           {
            "bin_start": 1620673920000000000,
            "bin_end": 1622505600000000000,
            "count": 20
           },
           {
            "bin_start": 1622505600000000000,
            "bin_end": 1624337280000000000,
            "count": 40
           },
           {
            "bin_start": 1624337280000000000,
            "bin_end": 1626168960000000000,
            "count": 20
           },
           {
            "bin_start": 1626168960000000000,
            "bin_end": 1628000640000000000,
            "count": 40
           },
           {
            "bin_start": 1628000640000000000,
            "bin_end": 1629832320000000000,
            "count": 20
           },
           {
            "bin_start": 1629832320000000000,
            "bin_end": 1631664000000000000,
            "count": 40
           }
          ]
         }
        },
        {
         "name": "accuracy",
         "dtype": "float64",
         "stats": {
          "unique_count": 248,
          "nan_count": 0,
          "min": "0.4519906323185012",
          "max": "1.0",
          "histogram": [
           {
            "bin_start": 0.4519906323185012,
            "bin_end": 0.506791569086651,
            "count": 2
           },
           {
            "bin_start": 0.506791569086651,
            "bin_end": 0.5615925058548009,
            "count": 4
           },
           {
            "bin_start": 0.5615925058548009,
            "bin_end": 0.6163934426229508,
            "count": 22
           },
           {
            "bin_start": 0.6163934426229508,
            "bin_end": 0.6711943793911007,
            "count": 21
           },
           {
            "bin_start": 0.6711943793911007,
            "bin_end": 0.7259953161592505,
            "count": 28
           },
           {
            "bin_start": 0.7259953161592505,
            "bin_end": 0.7807962529274004,
            "count": 45
           },
           {
            "bin_start": 0.7807962529274004,
            "bin_end": 0.8355971896955503,
            "count": 36
           },
           {
            "bin_start": 0.8355971896955503,
            "bin_end": 0.8903981264637002,
            "count": 35
           },
           {
            "bin_start": 0.8903981264637002,
            "bin_end": 0.9451990632318501,
            "count": 33
           },
           {
            "bin_start": 0.9451990632318501,
            "bin_end": 1,
            "count": 74
           }
          ]
         }
        },
        {
         "name": "precision",
         "dtype": "float64",
         "stats": {
          "unique_count": 206,
          "nan_count": 0,
          "min": "0.0",
          "max": "1.0",
          "histogram": [
           {
            "bin_start": 0,
            "bin_end": 0.1,
            "count": 55
           },
           {
            "bin_start": 0.1,
            "bin_end": 0.2,
            "count": 4
           },
           {
            "bin_start": 0.2,
            "bin_end": 0.30000000000000004,
            "count": 4
           },
           {
            "bin_start": 0.30000000000000004,
            "bin_end": 0.4,
            "count": 2
           },
           {
            "bin_start": 0.4,
            "bin_end": 0.5,
            "count": 8
           },
           {
            "bin_start": 0.5,
            "bin_end": 0.6000000000000001,
            "count": 10
           },
           {
            "bin_start": 0.6000000000000001,
            "bin_end": 0.7000000000000001,
            "count": 18
           },
           {
            "bin_start": 0.7000000000000001,
            "bin_end": 0.8,
            "count": 39
           },
           {
            "bin_start": 0.8,
            "bin_end": 0.9,
            "count": 51
           },
           {
            "bin_start": 0.9,
            "bin_end": 1,
            "count": 109
           }
          ]
         }
        },
        {
         "name": "recall",
         "dtype": "float64",
         "stats": {
          "unique_count": 161,
          "nan_count": 0,
          "min": "0.0",
          "max": "1.0",
          "histogram": [
           {
            "bin_start": 0,
            "bin_end": 0.1,
            "count": 75
           },
           {
            "bin_start": 0.1,
            "bin_end": 0.2,
            "count": 2
           },
           {
            "bin_start": 0.2,
            "bin_end": 0.30000000000000004,
            "count": 13
           },
           {
            "bin_start": 0.30000000000000004,
            "bin_end": 0.4,
            "count": 9
           },
           {
            "bin_start": 0.4,
            "bin_end": 0.5,
            "count": 7
           },
           {
            "bin_start": 0.5,
            "bin_end": 0.6000000000000001,
            "count": 4
           },
           {
            "bin_start": 0.6000000000000001,
            "bin_end": 0.7000000000000001,
            "count": 8
           },
           {
            "bin_start": 0.7000000000000001,
            "bin_end": 0.8,
            "count": 2
           },
           {
            "bin_start": 0.8,
            "bin_end": 0.9,
            "count": 1
           },
           {
            "bin_start": 0.9,
            "bin_end": 1,
            "count": 179
           }
          ]
         }
        },
        {
         "name": "roc_auc",
         "dtype": "float64",
         "stats": {
          "unique_count": 177,
          "nan_count": 20,
          "min": "0.4871287128712871",
          "max": "0.8572969903463942",
          "histogram": [
           {
            "bin_start": 0.4871287128712871,
            "bin_end": 0.5241455406187978,
            "count": 159
           },
           {
            "bin_start": 0.5241455406187978,
            "bin_end": 0.5611623683663085,
            "count": 43
           },
           {
            "bin_start": 0.5611623683663085,
            "bin_end": 0.5981791961138192,
            "count": 7
           },
           {
            "bin_start": 0.5981791961138192,
            "bin_end": 0.6351960238613299,
            "count": 17
           },
           {
            "bin_start": 0.6351960238613299,
            "bin_end": 0.6722128516088406,
            "count": 25
           },
           {
            "bin_start": 0.6722128516088406,
            "bin_end": 0.7092296793563514,
            "count": 10
           },
           {
            "bin_start": 0.7092296793563514,
            "bin_end": 0.7462465071038621,
            "count": 3
           },
           {
            "bin_start": 0.7462465071038621,
            "bin_end": 0.7832633348513728,
            "count": 4
           },
           {
            "bin_start": 0.7832633348513728,
            "bin_end": 0.8202801625988835,
            "count": 9
           },
           {
            "bin_start": 0.8202801625988835,
            "bin_end": 0.8572969903463942,
            "count": 3
           }
          ]
         }
        },
        {
         "name": "f1",
         "dtype": "float64",
         "stats": {
          "unique_count": 215,
          "nan_count": 0,
          "min": "0.0",
          "max": "0.9878682842287695",
          "histogram": [
           {
            "bin_start": 0,
            "bin_end": 0.09878682842287695,
            "count": 68
           },
           {
            "bin_start": 0.09878682842287695,
            "bin_end": 0.1975736568457539,
            "count": 8
           },
           {
            "bin_start": 0.1975736568457539,
            "bin_end": 0.29636048526863085,
            "count": 2
           },
           {
            "bin_start": 0.29636048526863085,
            "bin_end": 0.3951473136915078,
            "count": 5
           },
           {
            "bin_start": 0.3951473136915078,
            "bin_end": 0.49393414211438474,
            "count": 17
           },
           {
            "bin_start": 0.49393414211438474,
            "bin_end": 0.5927209705372617,
            "count": 9
           },
           {
            "bin_start": 0.5927209705372617,
            "bin_end": 0.6915077989601386,
            "count": 10
           },
           {
            "bin_start": 0.6915077989601386,
            "bin_end": 0.7902946273830156,
            "count": 5
           },
           {
            "bin_start": 0.7902946273830156,
            "bin_end": 0.8890814558058926,
            "count": 44
           },
           {
            "bin_start": 0.8890814558058926,
            "bin_end": 0.9878682842287695,
            "count": 132
           }
          ]
         }
        },
        {
         "name": "type",
         "dtype": "object",
         "stats": {
          "unique_count": 2,
          "nan_count": 0,
          "categories": [
           {
            "name": "tweets",
            "count": 240
           },
           {
            "name": "notes",
            "count": 60
           }
          ]
         }
        },
        {
         "name": "_deepnote_index_column",
         "dtype": "int64"
        }
       ],
       "rows_top": [
        {
         "label": "is_helpful",
         "model_name": "Prior",
         "date": "2021-02-15T00:00:00.000000",
         "accuracy": 0.6561514195583596,
         "precision": 0,
         "recall": 0,
         "roc_auc": 0.5,
         "f1": 0,
         "type": "notes",
         "_deepnote_index_column": 0
        },
        {
         "label": "is_helpful",
         "model_name": "LR",
         "date": "2021-02-15T00:00:00.000000",
         "accuracy": 0.5851735015772871,
         "precision": 0.41106719367588934,
         "recall": 0.47706422018348627,
         "roc_auc": 0.5594455716302047,
         "f1": 0.4416135881104034,
         "type": "notes",
         "_deepnote_index_column": 1
        },
        {
         "label": "is_helpful",
         "model_name": "RF",
         "date": "2021-02-15T00:00:00.000000",
         "accuracy": 0.6498422712933754,
         "precision": 0.4787234042553192,
         "recall": 0.20642201834862386,
         "roc_auc": 0.5443167784050811,
         "f1": 0.2884615384615385,
         "type": "notes",
         "_deepnote_index_column": 2
        },
        {
         "label": "is_helpful",
         "model_name": "LGBM",
         "date": "2021-02-15T00:00:00.000000",
         "accuracy": 0.610410094637224,
         "precision": 0.4256410256410256,
         "recall": 0.38073394495412843,
         "roc_auc": 0.5557515878616797,
         "f1": 0.40193704600484265,
         "type": "notes",
         "_deepnote_index_column": 3
        },
        {
         "label": "classification",
         "model_name": "Prior",
         "date": "2021-02-15T00:00:00.000000",
         "accuracy": 0.8179551122194514,
         "precision": 0.8179551122194514,
         "recall": 1,
         "roc_auc": 0.5,
         "f1": 0.8998628257887517,
         "type": "tweets",
         "_deepnote_index_column": 4
        },
        {
         "label": "classification",
         "model_name": "LR",
         "date": "2021-02-15T00:00:00.000000",
         "accuracy": 0.8653366583541147,
         "precision": 0.9053254437869822,
         "recall": 0.9329268292682927,
         "roc_auc": 0.7472853324423656,
         "f1": 0.9189189189189189,
         "type": "tweets",
         "_deepnote_index_column": 5
        },
        {
         "label": "classification",
         "model_name": "RF",
         "date": "2021-02-15T00:00:00.000000",
         "accuracy": 0.8790523690773068,
         "precision": 0.8942172073342737,
         "recall": 0.9664634146341463,
         "roc_auc": 0.7263823922485799,
         "f1": 0.928937728937729,
         "type": "tweets",
         "_deepnote_index_column": 6
        },
        {
         "label": "classification",
         "model_name": "LGBM",
         "date": "2021-02-15T00:00:00.000000",
         "accuracy": 0.8902743142144638,
         "precision": 0.8933518005540166,
         "recall": 0.9832317073170732,
         "roc_auc": 0.7279172235215503,
         "f1": 0.9361393323657475,
         "type": "tweets",
         "_deepnote_index_column": 7
        },
        {
         "label": "believable",
         "model_name": "Prior",
         "date": "2021-02-15T00:00:00.000000",
         "accuracy": 0.874439461883408,
         "precision": 0.874439461883408,
         "recall": 1,
         "roc_auc": 0.5,
         "f1": 0.9330143540669855,
         "type": "tweets",
         "_deepnote_index_column": 8
        },
        {
         "label": "believable",
         "model_name": "LR",
         "date": "2021-02-15T00:00:00.000000",
         "accuracy": 0.8400597907324364,
         "precision": 0.8805732484076433,
         "recall": 0.9452991452991453,
         "roc_auc": 0.5262210012210011,
         "f1": 0.9117889530090685,
         "type": "tweets",
         "_deepnote_index_column": 9
        },
        {
         "label": "believable",
         "model_name": "RF",
         "date": "2021-02-15T00:00:00.000000",
         "accuracy": 0.866965620328849,
         "precision": 0.8792048929663608,
         "recall": 0.9829059829059829,
         "roc_auc": 0.5212148962148961,
         "f1": 0.9281678773204197,
         "type": "tweets",
         "_deepnote_index_column": 10
        },
        {
         "label": "believable",
         "model_name": "LGBM",
         "date": "2021-02-15T00:00:00.000000",
         "accuracy": 0.874439461883408,
         "precision": 0.8812785388127854,
         "recall": 0.9897435897435898,
         "roc_auc": 0.5305860805860806,
         "f1": 0.9323671497584541,
         "type": "tweets",
         "_deepnote_index_column": 11
        },
        {
         "label": "harmful",
         "model_name": "Prior",
         "date": "2021-02-15T00:00:00.000000",
         "accuracy": 0.7784522003034902,
         "precision": 0.7784522003034902,
         "recall": 1,
         "roc_auc": 0.5,
         "f1": 0.8754266211604096,
         "type": "tweets",
         "_deepnote_index_column": 12
        },
        {
         "label": "harmful",
         "model_name": "LR",
         "date": "2021-02-15T00:00:00.000000",
         "accuracy": 0.7283763277693475,
         "precision": 0.7899305555555556,
         "recall": 0.8869395711500975,
         "roc_auc": 0.5290862239312132,
         "f1": 0.8356290174471992,
         "type": "tweets",
         "_deepnote_index_column": 13
        },
        {
         "label": "harmful",
         "model_name": "RF",
         "date": "2021-02-15T00:00:00.000000",
         "accuracy": 0.7647951441578149,
         "precision": 0.7887096774193548,
         "recall": 0.9532163742690059,
         "roc_auc": 0.5279780501482015,
         "f1": 0.8631950573698147,
         "type": "tweets",
         "_deepnote_index_column": 14
        },
        {
         "label": "harmful",
         "model_name": "LGBM",
         "date": "2021-02-15T00:00:00.000000",
         "accuracy": 0.7632776934749621,
         "precision": 0.7893030794165316,
         "recall": 0.949317738791423,
         "roc_auc": 0.5294533899436566,
         "f1": 0.8619469026548672,
         "type": "tweets",
         "_deepnote_index_column": 15
        },
        {
         "label": "validationDifficulty",
         "model_name": "Prior",
         "date": "2021-02-15T00:00:00.000000",
         "accuracy": 0.7557251908396947,
         "precision": 0,
         "recall": 0,
         "roc_auc": 0.5,
         "f1": 0,
         "type": "tweets",
         "_deepnote_index_column": 16
        },
        {
         "label": "validationDifficulty",
         "model_name": "LR",
         "date": "2021-02-15T00:00:00.000000",
         "accuracy": 0.6778625954198473,
         "precision": 0.24752475247524752,
         "recall": 0.15625,
         "roc_auc": 0.5013573232323232,
         "f1": 0.19157088122605365,
         "type": "tweets",
         "_deepnote_index_column": 17
        },
        {
         "label": "validationDifficulty",
         "model_name": "RF",
         "date": "2021-02-15T00:00:00.000000",
         "accuracy": 0.7541984732824427,
         "precision": 0,
         "recall": 0,
         "roc_auc": 0.498989898989899,
         "f1": 0,
         "type": "tweets",
         "_deepnote_index_column": 18
        },
        {
         "label": "validationDifficulty",
         "model_name": "LGBM",
         "date": "2021-02-15T00:00:00.000000",
         "accuracy": 0.732824427480916,
         "precision": 0.17391304347826086,
         "recall": 0.025,
         "roc_auc": 0.49330808080808075,
         "f1": 0.04371584699453552,
         "type": "tweets",
         "_deepnote_index_column": 19
        },
        {
         "label": "is_helpful",
         "model_name": "Prior",
         "date": "2021-03-01T00:00:00.000000",
         "accuracy": 0.5672514619883041,
         "precision": 0,
         "recall": 0,
         "roc_auc": 0.5,
         "f1": 0,
         "type": "notes",
         "_deepnote_index_column": 20
        },
        {
         "label": "is_helpful",
         "model_name": "LR",
         "date": "2021-03-01T00:00:00.000000",
         "accuracy": 0.5692007797270955,
         "precision": 0.5031446540880503,
         "recall": 0.36036036036036034,
         "roc_auc": 0.5444413485650599,
         "f1": 0.4199475065616798,
         "type": "notes",
         "_deepnote_index_column": 21
        },
        {
         "label": "is_helpful",
         "model_name": "RF",
         "date": "2021-03-01T00:00:00.000000",
         "accuracy": 0.5789473684210527,
         "precision": 0.6666666666666666,
         "recall": 0.05405405405405406,
         "roc_auc": 0.5167177486765114,
         "f1": 0.1,
         "type": "notes",
         "_deepnote_index_column": 22
        },
        {
         "label": "is_helpful",
         "model_name": "LGBM",
         "date": "2021-03-01T00:00:00.000000",
         "accuracy": 0.5769980506822612,
         "precision": 0.518796992481203,
         "recall": 0.3108108108108108,
         "roc_auc": 0.5454397696665738,
         "f1": 0.38873239436619716,
         "type": "notes",
         "_deepnote_index_column": 23
        },
        {
         "label": "classification",
         "model_name": "Prior",
         "date": "2021-03-01T00:00:00.000000",
         "accuracy": 0.7734724292101341,
         "precision": 0.7734724292101341,
         "recall": 1,
         "roc_auc": 0.5,
         "f1": 0.8722689075630253,
         "type": "tweets",
         "_deepnote_index_column": 24
        },
        {
         "label": "classification",
         "model_name": "LR",
         "date": "2021-03-01T00:00:00.000000",
         "accuracy": 0.8539493293591655,
         "precision": 0.88909426987061,
         "recall": 0.9267822736030829,
         "roc_auc": 0.7660227157489099,
         "f1": 0.9075471698113207,
         "type": "tweets",
         "_deepnote_index_column": 25
        },
        {
         "label": "classification",
         "model_name": "RF",
         "date": "2021-03-01T00:00:00.000000",
         "accuracy": 0.8852459016393442,
         "precision": 0.8850174216027874,
         "recall": 0.9788053949903661,
         "roc_auc": 0.7722974343372884,
         "f1": 0.9295516925892041,
         "type": "tweets",
         "_deepnote_index_column": 26
        },
        {
         "label": "classification",
         "model_name": "LGBM",
         "date": "2021-03-01T00:00:00.000000",
         "accuracy": 0.8882265275707899,
         "precision": 0.884083044982699,
         "recall": 0.9845857418111753,
         "roc_auc": 0.7718981340634823,
         "f1": 0.9316317228805834,
         "type": "tweets",
         "_deepnote_index_column": 27
        },
        {
         "label": "believable",
         "model_name": "Prior",
         "date": "2021-03-01T00:00:00.000000",
         "accuracy": 0.8683206106870229,
         "precision": 0.8683206106870229,
         "recall": 1,
         "roc_auc": 0.5,
         "f1": 0.9295199182839633,
         "type": "tweets",
         "_deepnote_index_column": 28
        },
        {
         "label": "believable",
         "model_name": "LR",
         "date": "2021-03-01T00:00:00.000000",
         "accuracy": 0.8454198473282443,
         "precision": 0.8681102362204725,
         "recall": 0.9692307692307692,
         "roc_auc": 0.49910813823857303,
         "f1": 0.9158878504672898,
         "type": "tweets",
         "_deepnote_index_column": 29
        },
        {
         "label": "believable",
         "model_name": "RF",
         "date": "2021-03-01T00:00:00.000000",
         "accuracy": 0.8625954198473282,
         "precision": 0.8732943469785575,
         "recall": 0.9846153846153847,
         "roc_auc": 0.5212931995540692,
         "f1": 0.9256198347107437,
         "type": "tweets",
         "_deepnote_index_column": 30
        },
        {
         "label": "believable",
         "model_name": "LGBM",
         "date": "2021-03-01T00:00:00.000000",
         "accuracy": 0.8664122137404581,
         "precision": 0.8737864077669902,
         "recall": 0.989010989010989,
         "roc_auc": 0.5234910017518714,
         "f1": 0.9278350515463917,
         "type": "tweets",
         "_deepnote_index_column": 31
        },
        {
         "label": "harmful",
         "model_name": "Prior",
         "date": "2021-03-01T00:00:00.000000",
         "accuracy": 0.7189922480620154,
         "precision": 0.7189922480620154,
         "recall": 1,
         "roc_auc": 0.5,
         "f1": 0.8365276211950394,
         "type": "tweets",
         "_deepnote_index_column": 32
        },
        {
         "label": "harmful",
         "model_name": "LR",
         "date": "2021-03-01T00:00:00.000000",
         "accuracy": 0.6821705426356589,
         "precision": 0.718816067653277,
         "recall": 0.9164420485175202,
         "roc_auc": 0.4996003346035877,
         "f1": 0.8056872037914692,
         "type": "tweets",
         "_deepnote_index_column": 33
        },
        {
         "label": "harmful",
         "model_name": "RF",
         "date": "2021-03-01T00:00:00.000000",
         "accuracy": 0.7073643410852714,
         "precision": 0.7272727272727273,
         "recall": 0.9487870619946092,
         "roc_auc": 0.5192211172042012,
         "f1": 0.8233918128654971,
         "type": "tweets",
         "_deepnote_index_column": 34
        },
        {
         "label": "harmful",
         "model_name": "LGBM",
         "date": "2021-03-01T00:00:00.000000",
         "accuracy": 0.7034883720930233,
         "precision": 0.7233606557377049,
         "recall": 0.9514824797843666,
         "roc_auc": 0.510223998512873,
         "f1": 0.8218859138533179,
         "type": "tweets",
         "_deepnote_index_column": 35
        },
        {
         "label": "validationDifficulty",
         "model_name": "Prior",
         "date": "2021-03-01T00:00:00.000000",
         "accuracy": 0.7391304347826086,
         "precision": 0,
         "recall": 0,
         "roc_auc": 0.5,
         "f1": 0,
         "type": "tweets",
         "_deepnote_index_column": 36
        },
        {
         "label": "validationDifficulty",
         "model_name": "LR",
         "date": "2021-03-01T00:00:00.000000",
         "accuracy": 0.7252964426877471,
         "precision": 0.34782608695652173,
         "recall": 0.06060606060606061,
         "roc_auc": 0.5102495543672014,
         "f1": 0.1032258064516129,
         "type": "tweets",
         "_deepnote_index_column": 37
        },
        {
         "label": "validationDifficulty",
         "model_name": "RF",
         "date": "2021-03-01T00:00:00.000000",
         "accuracy": 0.7371541501976284,
         "precision": 0,
         "recall": 0,
         "roc_auc": 0.49866310160427807,
         "f1": 0,
         "type": "tweets",
         "_deepnote_index_column": 38
        },
        {
         "label": "validationDifficulty",
         "model_name": "LGBM",
         "date": "2021-03-01T00:00:00.000000",
         "accuracy": 0.7154150197628458,
         "precision": 0.22727272727272727,
         "recall": 0.03787878787878788,
         "roc_auc": 0.4962121212121212,
         "f1": 0.06493506493506494,
         "type": "tweets",
         "_deepnote_index_column": 39
        },
        {
         "label": "is_helpful",
         "model_name": "Prior",
         "date": "2021-03-15T00:00:00.000000",
         "accuracy": 0.5585585585585585,
         "precision": 0,
         "recall": 0,
         "roc_auc": 0.5,
         "f1": 0,
         "type": "notes",
         "_deepnote_index_column": 40
        },
        {
         "label": "is_helpful",
         "model_name": "LR",
         "date": "2021-03-15T00:00:00.000000",
         "accuracy": 0.6246246246246246,
         "precision": 0.5964912280701754,
         "recall": 0.46258503401360546,
         "roc_auc": 0.6076366030283081,
         "f1": 0.521072796934866,
         "type": "notes",
         "_deepnote_index_column": 41
        },
        {
         "label": "is_helpful",
         "model_name": "RF",
         "date": "2021-03-15T00:00:00.000000",
         "accuracy": 0.5915915915915916,
         "precision": 0.6078431372549019,
         "recall": 0.2108843537414966,
         "roc_auc": 0.5516787360105332,
         "f1": 0.31313131313131315,
         "type": "notes",
         "_deepnote_index_column": 42
        },
        {
         "label": "is_helpful",
         "model_name": "LGBM",
         "date": "2021-03-15T00:00:00.000000",
         "accuracy": 0.5945945945945946,
         "precision": 0.5588235294117647,
         "recall": 0.3877551020408163,
         "roc_auc": 0.5729098090849243,
         "f1": 0.4578313253012048,
         "type": "notes",
         "_deepnote_index_column": 43
        },
        {
         "label": "classification",
         "model_name": "Prior",
         "date": "2021-03-15T00:00:00.000000",
         "accuracy": 0.7861915367483296,
         "precision": 0.7861915367483296,
         "recall": 1,
         "roc_auc": 0.5,
         "f1": 0.8802992518703242,
         "type": "tweets",
         "_deepnote_index_column": 44
        },
        {
         "label": "classification",
         "model_name": "LR",
         "date": "2021-03-15T00:00:00.000000",
         "accuracy": 0.8730512249443207,
         "precision": 0.9065934065934066,
         "recall": 0.9348441926345609,
         "roc_auc": 0.790338762983947,
         "f1": 0.9205020920502092,
         "type": "tweets",
         "_deepnote_index_column": 45
        },
        {
         "label": "classification",
         "model_name": "RF",
         "date": "2021-03-15T00:00:00.000000",
         "accuracy": 0.888641425389755,
         "precision": 0.9061662198391421,
         "recall": 0.9575070821529745,
         "roc_auc": 0.7964618744098206,
         "f1": 0.9311294765840221,
         "type": "tweets",
         "_deepnote_index_column": 46
        },
        {
         "label": "classification",
         "model_name": "LGBM",
         "date": "2021-03-15T00:00:00.000000",
         "accuracy": 0.89086859688196,
         "precision": 0.9064171122994652,
         "recall": 0.9603399433427762,
         "roc_auc": 0.7978783050047215,
         "f1": 0.9325997248968364,
         "type": "tweets",
         "_deepnote_index_column": 47
        },
        {
         "label": "believable",
         "model_name": "Prior",
         "date": "2021-03-15T00:00:00.000000",
         "accuracy": 0.8432432432432433,
         "precision": 0.8432432432432433,
         "recall": 1,
         "roc_auc": 0.5,
         "f1": 0.9149560117302054,
         "type": "tweets",
         "_deepnote_index_column": 48
        },
        {
         "label": "believable",
         "model_name": "LR",
         "date": "2021-03-15T00:00:00.000000",
         "accuracy": 0.845945945945946,
         "precision": 0.8474114441416893,
         "recall": 0.9967948717948718,
         "roc_auc": 0.5156388152077807,
         "f1": 0.9160530191458026,
         "type": "tweets",
         "_deepnote_index_column": 49
        },
        {
         "label": "believable",
         "model_name": "RF",
         "date": "2021-03-15T00:00:00.000000",
         "accuracy": 0.8432432432432433,
         "precision": 0.8547486033519553,
         "recall": 0.9807692307692307,
         "roc_auc": 0.5421087533156499,
         "f1": 0.9134328358208955,
         "type": "tweets",
         "_deepnote_index_column": 50
        },
        {
         "label": "believable",
         "model_name": "LGBM",
         "date": "2021-03-15T00:00:00.000000",
         "accuracy": 0.8405405405405405,
         "precision": 0.8543417366946778,
         "recall": 0.9775641025641025,
         "roc_auc": 0.5405061892130857,
         "f1": 0.9118086696562032,
         "type": "tweets",
         "_deepnote_index_column": 51
        },
        {
         "label": "harmful",
         "model_name": "Prior",
         "date": "2021-03-15T00:00:00.000000",
         "accuracy": 0.7055555555555556,
         "precision": 0.7055555555555556,
         "recall": 1,
         "roc_auc": 0.5,
         "f1": 0.8273615635179152,
         "type": "tweets",
         "_deepnote_index_column": 52
        },
        {
         "label": "harmful",
         "model_name": "LR",
         "date": "2021-03-15T00:00:00.000000",
         "accuracy": 0.6944444444444444,
         "precision": 0.7093023255813954,
         "recall": 0.9606299212598425,
         "roc_auc": 0.5086168474223741,
         "f1": 0.8160535117056857,
         "type": "tweets",
         "_deepnote_index_column": 53
        },
        {
         "label": "harmful",
         "model_name": "RF",
         "date": "2021-03-15T00:00:00.000000",
         "accuracy": 0.7194444444444444,
         "precision": 0.7230320699708455,
         "recall": 0.9763779527559056,
         "roc_auc": 0.540075768830783,
         "f1": 0.830820770519263,
         "type": "tweets",
         "_deepnote_index_column": 54
        }
       ],
       "rows_bottom": [
        {
         "label": "classification",
         "model_name": "Prior",
         "date": "2021-08-15T00:00:00.000000",
         "accuracy": 0.9524886877828054,
         "precision": 0.9524886877828054,
         "recall": 1,
         "roc_auc": 0.5,
         "f1": 0.9756662804171494,
         "type": "tweets",
         "_deepnote_index_column": 244
        },
        {
         "label": "classification",
         "model_name": "LR",
         "date": "2021-08-15T00:00:00.000000",
         "accuracy": 0.9457013574660633,
         "precision": 0.9521640091116174,
         "recall": 0.9928741092636579,
         "roc_auc": 0.49643705463182897,
         "f1": 0.972093023255814,
         "type": "tweets",
         "_deepnote_index_column": 245
        },
        {
         "label": "classification",
         "model_name": "RF",
         "date": "2021-08-15T00:00:00.000000",
         "accuracy": 0.9524886877828054,
         "precision": 0.9524886877828054,
         "recall": 1,
         "roc_auc": 0.5,
         "f1": 0.9756662804171494,
         "type": "tweets",
         "_deepnote_index_column": 246
        },
        {
         "label": "classification",
         "model_name": "LGBM",
         "date": "2021-08-15T00:00:00.000000",
         "accuracy": 0.9524886877828054,
         "precision": 0.9524886877828054,
         "recall": 1,
         "roc_auc": 0.5,
         "f1": 0.9756662804171494,
         "type": "tweets",
         "_deepnote_index_column": 247
        },
        {
         "label": "believable",
         "model_name": "Prior",
         "date": "2021-08-15T00:00:00.000000",
         "accuracy": 0.9478458049886621,
         "precision": 0.9478458049886621,
         "recall": 1,
         "roc_auc": 0.5,
         "f1": 0.9732246798603027,
         "type": "tweets",
         "_deepnote_index_column": 248
        },
        {
         "label": "believable",
         "model_name": "LR",
         "date": "2021-08-15T00:00:00.000000",
         "accuracy": 0.9455782312925171,
         "precision": 0.9477272727272728,
         "recall": 0.9976076555023924,
         "roc_auc": 0.4988038277511962,
         "f1": 0.9720279720279721,
         "type": "tweets",
         "_deepnote_index_column": 249
        },
        {
         "label": "believable",
         "model_name": "RF",
         "date": "2021-08-15T00:00:00.000000",
         "accuracy": 0.9478458049886621,
         "precision": 0.9478458049886621,
         "recall": 1,
         "roc_auc": 0.5,
         "f1": 0.9732246798603027,
         "type": "tweets",
         "_deepnote_index_column": 250
        },
        {
         "label": "believable",
         "model_name": "LGBM",
         "date": "2021-08-15T00:00:00.000000",
         "accuracy": 0.9478458049886621,
         "precision": 0.9478458049886621,
         "recall": 1,
         "roc_auc": 0.5,
         "f1": 0.9732246798603027,
         "type": "tweets",
         "_deepnote_index_column": 251
        },
        {
         "label": "harmful",
         "model_name": "Prior",
         "date": "2021-08-15T00:00:00.000000",
         "accuracy": 0.7247706422018348,
         "precision": 0.7247706422018348,
         "recall": 1,
         "roc_auc": 0.5,
         "f1": 0.8404255319148937,
         "type": "tweets",
         "_deepnote_index_column": 252
        },
        {
         "label": "harmful",
         "model_name": "LR",
         "date": "2021-08-15T00:00:00.000000",
         "accuracy": 0.8096330275229358,
         "precision": 0.8057742782152231,
         "recall": 0.9715189873417721,
         "roc_auc": 0.6774261603375527,
         "f1": 0.8809182209469152,
         "type": "tweets",
         "_deepnote_index_column": 253
        },
        {
         "label": "harmful",
         "model_name": "RF",
         "date": "2021-08-15T00:00:00.000000",
         "accuracy": 0.8211009174311926,
         "precision": 0.8051282051282052,
         "recall": 0.9936708860759493,
         "roc_auc": 0.680168776371308,
         "f1": 0.8895184135977338,
         "type": "tweets",
         "_deepnote_index_column": 254
        },
        {
         "label": "harmful",
         "model_name": "LGBM",
         "date": "2021-08-15T00:00:00.000000",
         "accuracy": 0.8073394495412844,
         "precision": 0.8068783068783069,
         "recall": 0.9651898734177216,
         "roc_auc": 0.6784282700421942,
         "f1": 0.8789625360230549,
         "type": "tweets",
         "_deepnote_index_column": 255
        },
        {
         "label": "validationDifficulty",
         "model_name": "Prior",
         "date": "2021-08-15T00:00:00.000000",
         "accuracy": 0.6643356643356644,
         "precision": 0,
         "recall": 0,
         "roc_auc": 0.5,
         "f1": 0,
         "type": "tweets",
         "_deepnote_index_column": 256
        },
        {
         "label": "validationDifficulty",
         "model_name": "LR",
         "date": "2021-08-15T00:00:00.000000",
         "accuracy": 0.752913752913753,
         "precision": 0.9130434782608695,
         "recall": 0.2916666666666667,
         "roc_auc": 0.6388157894736842,
         "f1": 0.4421052631578948,
         "type": "tweets",
         "_deepnote_index_column": 257
        },
        {
         "label": "validationDifficulty",
         "model_name": "RF",
         "date": "2021-08-15T00:00:00.000000",
         "accuracy": 0.7575757575757576,
         "precision": 0.9545454545454546,
         "recall": 0.2916666666666667,
         "roc_auc": 0.6423245614035088,
         "f1": 0.4468085106382979,
         "type": "tweets",
         "_deepnote_index_column": 258
        },
        {
         "label": "validationDifficulty",
         "model_name": "LGBM",
         "date": "2021-08-15T00:00:00.000000",
         "accuracy": 0.7599067599067599,
         "precision": 0.8867924528301887,
         "recall": 0.3263888888888889,
         "roc_auc": 0.6526681286549707,
         "f1": 0.47715736040609136,
         "type": "tweets",
         "_deepnote_index_column": 259
        },
        {
         "label": "is_helpful",
         "model_name": "Prior",
         "date": "2021-09-01T00:00:00.000000",
         "accuracy": 1,
         "precision": 0,
         "recall": 0,
         "roc_auc": "nan",
         "f1": 0,
         "type": "notes",
         "_deepnote_index_column": 260
        },
        {
         "label": "is_helpful",
         "model_name": "LR",
         "date": "2021-09-01T00:00:00.000000",
         "accuracy": 0.9428571428571428,
         "precision": 0,
         "recall": 0,
         "roc_auc": "nan",
         "f1": 0,
         "type": "notes",
         "_deepnote_index_column": 261
        },
        {
         "label": "is_helpful",
         "model_name": "RF",
         "date": "2021-09-01T00:00:00.000000",
         "accuracy": 0.9901098901098901,
         "precision": 0,
         "recall": 0,
         "roc_auc": "nan",
         "f1": 0,
         "type": "notes",
         "_deepnote_index_column": 262
        },
        {
         "label": "is_helpful",
         "model_name": "LGBM",
         "date": "2021-09-01T00:00:00.000000",
         "accuracy": 0.9098901098901099,
         "precision": 0,
         "recall": 0,
         "roc_auc": "nan",
         "f1": 0,
         "type": "notes",
         "_deepnote_index_column": 263
        },
        {
         "label": "classification",
         "model_name": "Prior",
         "date": "2021-09-01T00:00:00.000000",
         "accuracy": 0.7921787709497207,
         "precision": 0.7921787709497207,
         "recall": 1,
         "roc_auc": 0.5,
         "f1": 0.8840399002493765,
         "type": "tweets",
         "_deepnote_index_column": 264
        },
        {
         "label": "classification",
         "model_name": "LR",
         "date": "2021-09-01T00:00:00.000000",
         "accuracy": 0.8983240223463688,
         "precision": 0.9033942558746736,
         "recall": 0.9760225669957687,
         "roc_auc": 0.7890865523150886,
         "f1": 0.9383050847457626,
         "type": "tweets",
         "_deepnote_index_column": 265
        },
        {
         "label": "classification",
         "model_name": "RF",
         "date": "2021-09-01T00:00:00.000000",
         "accuracy": 0.9050279329608939,
         "precision": 0.9051948051948052,
         "recall": 0.9830747531734838,
         "roc_auc": 0.7953008174469569,
         "f1": 0.9425287356321839,
         "type": "tweets",
         "_deepnote_index_column": 266
        },
        {
         "label": "classification",
         "model_name": "LGBM",
         "date": "2021-09-01T00:00:00.000000",
         "accuracy": 0.9050279329608939,
         "precision": 0.9051948051948052,
         "recall": 0.9830747531734838,
         "roc_auc": 0.7953008174469569,
         "f1": 0.9425287356321839,
         "type": "tweets",
         "_deepnote_index_column": 267
        },
        {
         "label": "believable",
         "model_name": "Prior",
         "date": "2021-09-01T00:00:00.000000",
         "accuracy": 0.9165562913907285,
         "precision": 0.9165562913907285,
         "recall": 1,
         "roc_auc": 0.5,
         "f1": 0.9564616447823083,
         "type": "tweets",
         "_deepnote_index_column": 268
        },
        {
         "label": "believable",
         "model_name": "LR",
         "date": "2021-09-01T00:00:00.000000",
         "accuracy": 0.9165562913907285,
         "precision": 0.9176626826029216,
         "recall": 0.9985549132947977,
         "roc_auc": 0.5072139645839069,
         "f1": 0.956401384083045,
         "type": "tweets",
         "_deepnote_index_column": 269
        },
        {
         "label": "believable",
         "model_name": "RF",
         "date": "2021-09-01T00:00:00.000000",
         "accuracy": 0.9245033112582781,
         "precision": 0.9284750337381916,
         "recall": 0.9942196531791907,
         "roc_auc": 0.5764749059546748,
         "f1": 0.9602233077459874,
         "type": "tweets",
         "_deepnote_index_column": 270
        },
        {
         "label": "believable",
         "model_name": "LGBM",
         "date": "2021-09-01T00:00:00.000000",
         "accuracy": 0.9245033112582781,
         "precision": 0.9284750337381916,
         "recall": 0.9942196531791907,
         "roc_auc": 0.5764749059546748,
         "f1": 0.9602233077459874,
         "type": "tweets",
         "_deepnote_index_column": 271
        },
        {
         "label": "harmful",
         "model_name": "Prior",
         "date": "2021-09-01T00:00:00.000000",
         "accuracy": 0.6896551724137931,
         "precision": 0.6896551724137931,
         "recall": 1,
         "roc_auc": 0.5,
         "f1": 0.8163265306122449,
         "type": "tweets",
         "_deepnote_index_column": 272
        },
        {
         "label": "harmful",
         "model_name": "LR",
         "date": "2021-09-01T00:00:00.000000",
         "accuracy": 0.7696551724137931,
         "precision": 0.7597503900156006,
         "recall": 0.974,
         "roc_auc": 0.6447777777777778,
         "f1": 0.8536371603856266,
         "type": "tweets",
         "_deepnote_index_column": 273
        },
        {
         "label": "harmful",
         "model_name": "RF",
         "date": "2021-09-01T00:00:00.000000",
         "accuracy": 0.783448275862069,
         "precision": 0.765891472868217,
         "recall": 0.988,
         "roc_auc": 0.6584444444444444,
         "f1": 0.862882096069869,
         "type": "tweets",
         "_deepnote_index_column": 274
        },
        {
         "label": "harmful",
         "model_name": "LGBM",
         "date": "2021-09-01T00:00:00.000000",
         "accuracy": 0.7917241379310345,
         "precision": 0.7756714060031595,
         "recall": 0.982,
         "roc_auc": 0.6754444444444445,
         "f1": 0.8667255075022066,
         "type": "tweets",
         "_deepnote_index_column": 275
        },
        {
         "label": "validationDifficulty",
         "model_name": "Prior",
         "date": "2021-09-01T00:00:00.000000",
         "accuracy": 0.696551724137931,
         "precision": 0,
         "recall": 0,
         "roc_auc": 0.5,
         "f1": 0,
         "type": "tweets",
         "_deepnote_index_column": 276
        },
        {
         "label": "validationDifficulty",
         "model_name": "LR",
         "date": "2021-09-01T00:00:00.000000",
         "accuracy": 0.7944827586206896,
         "precision": 0.9733333333333334,
         "recall": 0.33181818181818185,
         "roc_auc": 0.6639288928892889,
         "f1": 0.4949152542372882,
         "type": "tweets",
         "_deepnote_index_column": 277
        },
        {
         "label": "validationDifficulty",
         "model_name": "RF",
         "date": "2021-09-01T00:00:00.000000",
         "accuracy": 0.7848275862068965,
         "precision": 0.9705882352941176,
         "recall": 0.3,
         "roc_auc": 0.648019801980198,
         "f1": 0.4583333333333333,
         "type": "tweets",
         "_deepnote_index_column": 278
        },
        {
         "label": "validationDifficulty",
         "model_name": "LGBM",
         "date": "2021-09-01T00:00:00.000000",
         "accuracy": 0.776551724137931,
         "precision": 0.8452380952380952,
         "recall": 0.32272727272727275,
         "roc_auc": 0.6484923492349235,
         "f1": 0.4671052631578947,
         "type": "tweets",
         "_deepnote_index_column": 279
        },
        {
         "label": "is_helpful",
         "model_name": "Prior",
         "date": "2021-09-15T00:00:00.000000",
         "accuracy": 1,
         "precision": 0,
         "recall": 0,
         "roc_auc": "nan",
         "f1": 0,
         "type": "notes",
         "_deepnote_index_column": 280
        },
        {
         "label": "is_helpful",
         "model_name": "LR",
         "date": "2021-09-15T00:00:00.000000",
         "accuracy": 0.9814814814814815,
         "precision": 0,
         "recall": 0,
         "roc_auc": "nan",
         "f1": 0,
         "type": "notes",
         "_deepnote_index_column": 281
        },
        {
         "label": "is_helpful",
         "model_name": "RF",
         "date": "2021-09-15T00:00:00.000000",
         "accuracy": 0.9989106753812637,
         "precision": 0,
         "recall": 0,
         "roc_auc": "nan",
         "f1": 0,
         "type": "notes",
         "_deepnote_index_column": 282
        },
        {
         "label": "is_helpful",
         "model_name": "LGBM",
         "date": "2021-09-15T00:00:00.000000",
         "accuracy": 0.9705882352941176,
         "precision": 0,
         "recall": 0,
         "roc_auc": "nan",
         "f1": 0,
         "type": "notes",
         "_deepnote_index_column": 283
        },
        {
         "label": "classification",
         "model_name": "Prior",
         "date": "2021-09-15T00:00:00.000000",
         "accuracy": 0.925764192139738,
         "precision": 0.925764192139738,
         "recall": 1,
         "roc_auc": 0.5,
         "f1": 0.961451247165533,
         "type": "tweets",
         "_deepnote_index_column": 284
        },
        {
         "label": "classification",
         "model_name": "LR",
         "date": "2021-09-15T00:00:00.000000",
         "accuracy": 0.9184861717612809,
         "precision": 0.9252199413489736,
         "recall": 0.9921383647798742,
         "roc_auc": 0.4960691823899371,
         "f1": 0.9575113808801213,
         "type": "tweets",
         "_deepnote_index_column": 285
        },
        {
         "label": "classification",
         "model_name": "RF",
         "date": "2021-09-15T00:00:00.000000",
         "accuracy": 0.9243085880640466,
         "precision": 0.9256559766763849,
         "recall": 0.9984276729559748,
         "roc_auc": 0.4992138364779874,
         "f1": 0.9606656580937972,
         "type": "tweets",
         "_deepnote_index_column": 286
        },
        {
         "label": "classification",
         "model_name": "LGBM",
         "date": "2021-09-15T00:00:00.000000",
         "accuracy": 0.9243085880640466,
         "precision": 0.9256559766763849,
         "recall": 0.9984276729559748,
         "roc_auc": 0.4992138364779874,
         "f1": 0.9606656580937972,
         "type": "tweets",
         "_deepnote_index_column": 287
        },
        {
         "label": "believable",
         "model_name": "Prior",
         "date": "2021-09-15T00:00:00.000000",
         "accuracy": 0.9467625899280575,
         "precision": 0.9467625899280575,
         "recall": 1,
         "roc_auc": 0.5,
         "f1": 0.9726533628972652,
         "type": "tweets",
         "_deepnote_index_column": 288
        },
        {
         "label": "believable",
         "model_name": "LR",
         "date": "2021-09-15T00:00:00.000000",
         "accuracy": 0.943884892086331,
         "precision": 0.9466089466089466,
         "recall": 0.9969604863221885,
         "roc_auc": 0.49848024316109424,
         "f1": 0.9711324944485566,
         "type": "tweets",
         "_deepnote_index_column": 289
        },
        {
         "label": "believable",
         "model_name": "RF",
         "date": "2021-09-15T00:00:00.000000",
         "accuracy": 0.9467625899280575,
         "precision": 0.9467625899280575,
         "recall": 1,
         "roc_auc": 0.5,
         "f1": 0.9726533628972652,
         "type": "tweets",
         "_deepnote_index_column": 290
        },
        {
         "label": "believable",
         "model_name": "LGBM",
         "date": "2021-09-15T00:00:00.000000",
         "accuracy": 0.9467625899280575,
         "precision": 0.9467625899280575,
         "recall": 1,
         "roc_auc": 0.5,
         "f1": 0.9726533628972652,
         "type": "tweets",
         "_deepnote_index_column": 291
        },
        {
         "label": "harmful",
         "model_name": "Prior",
         "date": "2021-09-15T00:00:00.000000",
         "accuracy": 0.7536231884057971,
         "precision": 0.7536231884057971,
         "recall": 1,
         "roc_auc": 0.5,
         "f1": 0.859504132231405,
         "type": "tweets",
         "_deepnote_index_column": 292
        },
        {
         "label": "harmful",
         "model_name": "LR",
         "date": "2021-09-15T00:00:00.000000",
         "accuracy": 0.8014492753623188,
         "precision": 0.8113821138211382,
         "recall": 0.9596153846153846,
         "roc_auc": 0.638631221719457,
         "f1": 0.8792951541850221,
         "type": "tweets",
         "_deepnote_index_column": 293
        },
        {
         "label": "harmful",
         "model_name": "RF",
         "date": "2021-09-15T00:00:00.000000",
         "accuracy": 0.8130434782608695,
         "precision": 0.8108108108108109,
         "recall": 0.9807692307692307,
         "roc_auc": 0.6403846153846153,
         "f1": 0.8877284595300261,
         "type": "tweets",
         "_deepnote_index_column": 294
        },
        {
         "label": "harmful",
         "model_name": "LGBM",
         "date": "2021-09-15T00:00:00.000000",
         "accuracy": 0.8,
         "precision": 0.8110749185667753,
         "recall": 0.9576923076923077,
         "roc_auc": 0.6376696832579186,
         "f1": 0.8783068783068784,
         "type": "tweets",
         "_deepnote_index_column": 295
        },
        {
         "label": "validationDifficulty",
         "model_name": "Prior",
         "date": "2021-09-15T00:00:00.000000",
         "accuracy": 0.7419354838709677,
         "precision": 0,
         "recall": 0,
         "roc_auc": 0.5,
         "f1": 0,
         "type": "tweets",
         "_deepnote_index_column": 296
        },
        {
         "label": "validationDifficulty",
         "model_name": "LR",
         "date": "2021-09-15T00:00:00.000000",
         "accuracy": 0.7976539589442815,
         "precision": 0.8518518518518519,
         "recall": 0.26136363636363635,
         "roc_auc": 0.6227766798418972,
         "f1": 0.39999999999999997,
         "type": "tweets",
         "_deepnote_index_column": 297
        },
        {
         "label": "validationDifficulty",
         "model_name": "RF",
         "date": "2021-09-15T00:00:00.000000",
         "accuracy": 0.8035190615835777,
         "precision": 0.8888888888888888,
         "recall": 0.2727272727272727,
         "roc_auc": 0.6304347826086956,
         "f1": 0.41739130434782606,
         "type": "tweets",
         "_deepnote_index_column": 298
        },
        {
         "label": "validationDifficulty",
         "model_name": "LGBM",
         "date": "2021-09-15T00:00:00.000000",
         "accuracy": 0.8035190615835777,
         "precision": 0.85,
         "recall": 0.2897727272727273,
         "roc_auc": 0.6359930830039526,
         "f1": 0.43220338983050854,
         "type": "tweets",
         "_deepnote_index_column": 299
        }
       ]
      },
      "text/plain": "                    label model_name       date  accuracy  precision  \\\n0              is_helpful      Prior 2021-02-15  0.656151   0.000000   \n1              is_helpful         LR 2021-02-15  0.585174   0.411067   \n2              is_helpful         RF 2021-02-15  0.649842   0.478723   \n3              is_helpful       LGBM 2021-02-15  0.610410   0.425641   \n4          classification      Prior 2021-02-15  0.817955   0.817955   \n..                    ...        ...        ...       ...        ...   \n295               harmful       LGBM 2021-09-15  0.800000   0.811075   \n296  validationDifficulty      Prior 2021-09-15  0.741935   0.000000   \n297  validationDifficulty         LR 2021-09-15  0.797654   0.851852   \n298  validationDifficulty         RF 2021-09-15  0.803519   0.888889   \n299  validationDifficulty       LGBM 2021-09-15  0.803519   0.850000   \n\n       recall   roc_auc        f1    type  \n0    0.000000  0.500000  0.000000   notes  \n1    0.477064  0.559446  0.441614   notes  \n2    0.206422  0.544317  0.288462   notes  \n3    0.380734  0.555752  0.401937   notes  \n4    1.000000  0.500000  0.899863  tweets  \n..        ...       ...       ...     ...  \n295  0.957692  0.637670  0.878307  tweets  \n296  0.000000  0.500000  0.000000  tweets  \n297  0.261364  0.622777  0.400000  tweets  \n298  0.272727  0.630435  0.417391  tweets  \n299  0.289773  0.635993  0.432203  tweets  \n\n[300 rows x 9 columns]",
      "text/html": "<div>\n<style scoped>\n    .dataframe tbody tr th:only-of-type {\n        vertical-align: middle;\n    }\n\n    .dataframe tbody tr th {\n        vertical-align: top;\n    }\n\n    .dataframe thead th {\n        text-align: right;\n    }\n</style>\n<table border=\"1\" class=\"dataframe\">\n  <thead>\n    <tr style=\"text-align: right;\">\n      <th></th>\n      <th>label</th>\n      <th>model_name</th>\n      <th>date</th>\n      <th>accuracy</th>\n      <th>precision</th>\n      <th>recall</th>\n      <th>roc_auc</th>\n      <th>f1</th>\n      <th>type</th>\n    </tr>\n  </thead>\n  <tbody>\n    <tr>\n      <th>0</th>\n      <td>is_helpful</td>\n      <td>Prior</td>\n      <td>2021-02-15</td>\n      <td>0.656151</td>\n      <td>0.000000</td>\n      <td>0.000000</td>\n      <td>0.500000</td>\n      <td>0.000000</td>\n      <td>notes</td>\n    </tr>\n    <tr>\n      <th>1</th>\n      <td>is_helpful</td>\n      <td>LR</td>\n      <td>2021-02-15</td>\n      <td>0.585174</td>\n      <td>0.411067</td>\n      <td>0.477064</td>\n      <td>0.559446</td>\n      <td>0.441614</td>\n      <td>notes</td>\n    </tr>\n    <tr>\n      <th>2</th>\n      <td>is_helpful</td>\n      <td>RF</td>\n      <td>2021-02-15</td>\n      <td>0.649842</td>\n      <td>0.478723</td>\n      <td>0.206422</td>\n      <td>0.544317</td>\n      <td>0.288462</td>\n      <td>notes</td>\n    </tr>\n    <tr>\n      <th>3</th>\n      <td>is_helpful</td>\n      <td>LGBM</td>\n      <td>2021-02-15</td>\n      <td>0.610410</td>\n      <td>0.425641</td>\n      <td>0.380734</td>\n      <td>0.555752</td>\n      <td>0.401937</td>\n      <td>notes</td>\n    </tr>\n    <tr>\n      <th>4</th>\n      <td>classification</td>\n      <td>Prior</td>\n      <td>2021-02-15</td>\n      <td>0.817955</td>\n      <td>0.817955</td>\n      <td>1.000000</td>\n      <td>0.500000</td>\n      <td>0.899863</td>\n      <td>tweets</td>\n    </tr>\n    <tr>\n      <th>...</th>\n      <td>...</td>\n      <td>...</td>\n      <td>...</td>\n      <td>...</td>\n      <td>...</td>\n      <td>...</td>\n      <td>...</td>\n      <td>...</td>\n      <td>...</td>\n    </tr>\n    <tr>\n      <th>295</th>\n      <td>harmful</td>\n      <td>LGBM</td>\n      <td>2021-09-15</td>\n      <td>0.800000</td>\n      <td>0.811075</td>\n      <td>0.957692</td>\n      <td>0.637670</td>\n      <td>0.878307</td>\n      <td>tweets</td>\n    </tr>\n    <tr>\n      <th>296</th>\n      <td>validationDifficulty</td>\n      <td>Prior</td>\n      <td>2021-09-15</td>\n      <td>0.741935</td>\n      <td>0.000000</td>\n      <td>0.000000</td>\n      <td>0.500000</td>\n      <td>0.000000</td>\n      <td>tweets</td>\n    </tr>\n    <tr>\n      <th>297</th>\n      <td>validationDifficulty</td>\n      <td>LR</td>\n      <td>2021-09-15</td>\n      <td>0.797654</td>\n      <td>0.851852</td>\n      <td>0.261364</td>\n      <td>0.622777</td>\n      <td>0.400000</td>\n      <td>tweets</td>\n    </tr>\n    <tr>\n      <th>298</th>\n      <td>validationDifficulty</td>\n      <td>RF</td>\n      <td>2021-09-15</td>\n      <td>0.803519</td>\n      <td>0.888889</td>\n      <td>0.272727</td>\n      <td>0.630435</td>\n      <td>0.417391</td>\n      <td>tweets</td>\n    </tr>\n    <tr>\n      <th>299</th>\n      <td>validationDifficulty</td>\n      <td>LGBM</td>\n      <td>2021-09-15</td>\n      <td>0.803519</td>\n      <td>0.850000</td>\n      <td>0.289773</td>\n      <td>0.635993</td>\n      <td>0.432203</td>\n      <td>tweets</td>\n    </tr>\n  </tbody>\n</table>\n<p>300 rows × 9 columns</p>\n</div>"
     },
     "metadata": {}
    }
   ],
   "execution_count": null
  },
  {
   "cell_type": "code",
   "metadata": {
    "tags": [],
    "cell_id": "00036-27ee4e69-9f66-413f-8b34-dbb3b61c840f",
    "deepnote_to_be_reexecuted": true,
    "source_hash": "f1c0a8fb",
    "execution_start": 1639008557292,
    "execution_millis": 66,
    "deepnote_cell_type": "code"
   },
   "source": "tasks_df",
   "outputs": [
    {
     "output_type": "execute_result",
     "execution_count": 71,
     "data": {
      "application/vnd.deepnote.dataframe.v2+json": {
       "row_count": 75,
       "column_count": 8,
       "columns": [
        {
         "name": "date",
         "dtype": "object",
         "stats": {
          "unique_count": 15,
          "nan_count": 0,
          "categories": [
           {
            "name": "02/15/2021",
            "count": 5
           },
           {
            "name": "03/01/2021",
            "count": 5
           },
           {
            "name": "13 others",
            "count": 65
           }
          ]
         }
        },
        {
         "name": "label",
         "dtype": "object",
         "stats": {
          "unique_count": 5,
          "nan_count": 0,
          "categories": [
           {
            "name": "is_helpful",
            "count": 15
           },
           {
            "name": "classification",
            "count": 15
           },
           {
            "name": "3 others",
            "count": 45
           }
          ]
         }
        },
        {
         "name": "trn frequency",
         "dtype": "float64",
         "stats": {
          "unique_count": 75,
          "nan_count": 0,
          "min": "0.2253913043478261",
          "max": "0.9219091903719913",
          "histogram": [
           {
            "bin_start": 0.2253913043478261,
            "bin_end": 0.2950430929502426,
            "count": 16
           },
           {
            "bin_start": 0.2950430929502426,
            "bin_end": 0.36469488155265917,
            "count": 5
           },
           {
            "bin_start": 0.36469488155265917,
            "bin_end": 0.43434667015507566,
            "count": 9
           },
           {
            "bin_start": 0.43434667015507566,
            "bin_end": 0.5039984587574922,
            "count": 0
           },
           {
            "bin_start": 0.5039984587574922,
            "bin_end": 0.5736502473599087,
            "count": 0
           },
           {
            "bin_start": 0.5736502473599087,
            "bin_end": 0.6433020359623253,
            "count": 0
           },
           {
            "bin_start": 0.6433020359623253,
            "bin_end": 0.7129538245647418,
            "count": 1
           },
           {
            "bin_start": 0.7129538245647418,
            "bin_end": 0.7826056131671583,
            "count": 18
           },
           {
            "bin_start": 0.7826056131671583,
            "bin_end": 0.8522574017695748,
            "count": 8
           },
           {
            "bin_start": 0.8522574017695748,
            "bin_end": 0.9219091903719913,
            "count": 18
           }
          ]
         }
        },
        {
         "name": "test frequency",
         "dtype": "float64",
         "stats": {
          "unique_count": 71,
          "nan_count": 0,
          "min": "0.0",
          "max": "0.976027397260274",
          "histogram": [
           {
            "bin_start": 0,
            "bin_end": 0.0976027397260274,
            "count": 5
           },
           {
            "bin_start": 0.0976027397260274,
            "bin_end": 0.1952054794520548,
            "count": 2
           },
           {
            "bin_start": 0.1952054794520548,
            "bin_end": 0.2928082191780822,
            "count": 7
           },
           {
            "bin_start": 0.2928082191780822,
            "bin_end": 0.3904109589041096,
            "count": 7
           },
           {
            "bin_start": 0.3904109589041096,
            "bin_end": 0.488013698630137,
            "count": 8
           },
           {
            "bin_start": 0.488013698630137,
            "bin_end": 0.5856164383561644,
            "count": 2
           },
           {
            "bin_start": 0.5856164383561644,
            "bin_end": 0.6832191780821918,
            "count": 0
           },
           {
            "bin_start": 0.6832191780821918,
            "bin_end": 0.7808219178082192,
            "count": 11
           },
           {
            "bin_start": 0.7808219178082192,
            "bin_end": 0.8784246575342466,
            "count": 12
           },
           {
            "bin_start": 0.8784246575342466,
            "bin_end": 0.976027397260274,
            "count": 21
           }
          ]
         }
        },
        {
         "name": "unclear_trn",
         "dtype": "int64",
         "stats": {
          "unique_count": 61,
          "nan_count": 0,
          "min": "0",
          "max": "1564",
          "histogram": [
           {
            "bin_start": 0,
            "bin_end": 156.4,
            "count": 25
           },
           {
            "bin_start": 156.4,
            "bin_end": 312.8,
            "count": 7
           },
           {
            "bin_start": 312.8,
            "bin_end": 469.20000000000005,
            "count": 2
           },
           {
            "bin_start": 469.20000000000005,
            "bin_end": 625.6,
            "count": 3
           },
           {
            "bin_start": 625.6,
            "bin_end": 782,
            "count": 4
           },
           {
            "bin_start": 782,
            "bin_end": 938.4000000000001,
            "count": 7
           },
           {
            "bin_start": 938.4000000000001,
            "bin_end": 1094.8,
            "count": 12
           },
           {
            "bin_start": 1094.8,
            "bin_end": 1251.2,
            "count": 9
           },
           {
            "bin_start": 1251.2,
            "bin_end": 1407.6000000000001,
            "count": 4
           },
           {
            "bin_start": 1407.6000000000001,
            "bin_end": 1564,
            "count": 2
           }
          ]
         }
        },
        {
         "name": "unclear_test",
         "dtype": "int64",
         "stats": {
          "unique_count": 45,
          "nan_count": 0,
          "min": "0",
          "max": "222",
          "histogram": [
           {
            "bin_start": 0,
            "bin_end": 22.2,
            "count": 39
           },
           {
            "bin_start": 22.2,
            "bin_end": 44.4,
            "count": 13
           },
           {
            "bin_start": 44.4,
            "bin_end": 66.6,
            "count": 5
           },
           {
            "bin_start": 66.6,
            "bin_end": 88.8,
            "count": 2
           },
           {
            "bin_start": 88.8,
            "bin_end": 111,
            "count": 6
           },
           {
            "bin_start": 111,
            "bin_end": 133.2,
            "count": 1
           },
           {
            "bin_start": 133.2,
            "bin_end": 155.4,
            "count": 1
           },
           {
            "bin_start": 155.4,
            "bin_end": 177.6,
            "count": 5
           },
           {
            "bin_start": 177.6,
            "bin_end": 199.79999999999998,
            "count": 1
           },
           {
            "bin_start": 199.79999999999998,
            "bin_end": 222,
            "count": 2
           }
          ]
         }
        },
        {
         "name": "num_trn",
         "dtype": "int64",
         "stats": {
          "unique_count": 75,
          "nan_count": 0,
          "min": "547",
          "max": "9184",
          "histogram": [
           {
            "bin_start": 547,
            "bin_end": 1410.7,
            "count": 9
           },
           {
            "bin_start": 1410.7,
            "bin_end": 2274.4,
            "count": 7
           },
           {
            "bin_start": 2274.4,
            "bin_end": 3138.1000000000004,
            "count": 9
           },
           {
            "bin_start": 3138.1000000000004,
            "bin_end": 4001.8,
            "count": 8
           },
           {
            "bin_start": 4001.8,
            "bin_end": 4865.5,
            "count": 10
           },
           {
            "bin_start": 4865.5,
            "bin_end": 5729.200000000001,
            "count": 8
           },
           {
            "bin_start": 5729.200000000001,
            "bin_end": 6592.900000000001,
            "count": 9
           },
           {
            "bin_start": 6592.900000000001,
            "bin_end": 7456.6,
            "count": 8
           },
           {
            "bin_start": 7456.6,
            "bin_end": 8320.3,
            "count": 6
           },
           {
            "bin_start": 8320.3,
            "bin_end": 9184,
            "count": 1
           }
          ]
         }
        },
        {
         "name": "num_test",
         "dtype": "int64",
         "stats": {
          "unique_count": 70,
          "nan_count": 0,
          "min": "248",
          "max": "918",
          "histogram": [
           {
            "bin_start": 248,
            "bin_end": 315,
            "count": 10
           },
           {
            "bin_start": 315,
            "bin_end": 382,
            "count": 9
           },
           {
            "bin_start": 382,
            "bin_end": 449,
            "count": 19
           },
           {
            "bin_start": 449,
            "bin_end": 516,
            "count": 9
           },
           {
            "bin_start": 516,
            "bin_end": 583,
            "count": 4
           },
           {
            "bin_start": 583,
            "bin_end": 650,
            "count": 8
           },
           {
            "bin_start": 650,
            "bin_end": 717,
            "count": 9
           },
           {
            "bin_start": 717,
            "bin_end": 784,
            "count": 3
           },
           {
            "bin_start": 784,
            "bin_end": 851,
            "count": 1
           },
           {
            "bin_start": 851,
            "bin_end": 918,
            "count": 3
           }
          ]
         }
        },
        {
         "name": "_deepnote_index_column",
         "dtype": "int64"
        }
       ],
       "rows_top": [
        {
         "date": "02/15/2021",
         "label": "is_helpful",
         "trn frequency": 0.3552188552188552,
         "test frequency": 0.3438485804416404,
         "unclear_trn": 0,
         "unclear_test": 0,
         "num_trn": 594,
         "num_test": 634,
         "_deepnote_index_column": 0
        },
        {
         "date": "02/15/2021",
         "label": "classification",
         "trn frequency": 0.6548881036513545,
         "test frequency": 0.8179551122194514,
         "unclear_trn": 17,
         "unclear_test": 18,
         "num_trn": 849,
         "num_test": 802,
         "_deepnote_index_column": 1
        },
        {
         "date": "02/15/2021",
         "label": "believable",
         "trn frequency": 0.8498233215547704,
         "test frequency": 0.874439461883408,
         "unclear_trn": 300,
         "unclear_test": 151,
         "num_trn": 566,
         "num_test": 669,
         "_deepnote_index_column": 2
        },
        {
         "date": "02/15/2021",
         "label": "harmful",
         "trn frequency": 0.7271095152603232,
         "test frequency": 0.7784522003034902,
         "unclear_trn": 309,
         "unclear_test": 161,
         "num_trn": 557,
         "num_test": 659,
         "_deepnote_index_column": 3
        },
        {
         "date": "02/15/2021",
         "label": "validationDifficulty",
         "trn frequency": 0.24862888482632542,
         "test frequency": 0.24427480916030533,
         "unclear_trn": 319,
         "unclear_test": 165,
         "num_trn": 547,
         "num_test": 655,
         "_deepnote_index_column": 4
        },
        {
         "date": "03/01/2021",
         "label": "is_helpful",
         "trn frequency": 0.33765182186234816,
         "test frequency": 0.4327485380116959,
         "unclear_trn": 0,
         "unclear_test": 0,
         "num_trn": 1235,
         "num_test": 513,
         "_deepnote_index_column": 5
        },
        {
         "date": "03/01/2021",
         "label": "classification",
         "trn frequency": 0.7390532544378698,
         "test frequency": 0.7734724292101341,
         "unclear_trn": 36,
         "unclear_test": 9,
         "num_trn": 1690,
         "num_test": 671,
         "_deepnote_index_column": 6
        },
        {
         "date": "03/01/2021",
         "label": "believable",
         "trn frequency": 0.8649921507064364,
         "test frequency": 0.8683206106870229,
         "unclear_trn": 452,
         "unclear_test": 156,
         "num_trn": 1274,
         "num_test": 524,
         "_deepnote_index_column": 7
        },
        {
         "date": "03/01/2021",
         "label": "harmful",
         "trn frequency": 0.754581673306773,
         "test frequency": 0.7189922480620154,
         "unclear_trn": 471,
         "unclear_test": 164,
         "num_trn": 1255,
         "num_test": 516,
         "_deepnote_index_column": 8
        },
        {
         "date": "03/01/2021",
         "label": "validationDifficulty",
         "trn frequency": 0.24335213537469783,
         "test frequency": 0.2608695652173913,
         "unclear_trn": 485,
         "unclear_test": 174,
         "num_trn": 1241,
         "num_test": 506,
         "_deepnote_index_column": 9
        },
        {
         "date": "03/15/2021",
         "label": "is_helpful",
         "trn frequency": 0.364,
         "test frequency": 0.44144144144144143,
         "unclear_trn": 0,
         "unclear_test": 0,
         "num_trn": 1750,
         "num_test": 333,
         "_deepnote_index_column": 10
        },
        {
         "date": "03/15/2021",
         "label": "classification",
         "trn frequency": 0.752297410192147,
         "test frequency": 0.7861915367483296,
         "unclear_trn": 46,
         "unclear_test": 18,
         "num_trn": 2394,
         "num_test": 449,
         "_deepnote_index_column": 11
        },
        {
         "date": "03/15/2021",
         "label": "believable",
         "trn frequency": 0.8660470202296336,
         "test frequency": 0.8432432432432433,
         "unclear_trn": 611,
         "unclear_test": 97,
         "num_trn": 1829,
         "num_test": 370,
         "_deepnote_index_column": 12
        },
        {
         "date": "03/15/2021",
         "label": "harmful",
         "trn frequency": 0.7439024390243902,
         "test frequency": 0.7055555555555556,
         "unclear_trn": 636,
         "unclear_test": 107,
         "num_trn": 1804,
         "num_test": 360,
         "_deepnote_index_column": 13
        },
        {
         "date": "03/15/2021",
         "label": "validationDifficulty",
         "trn frequency": 0.2508436445444319,
         "test frequency": 0.2443820224719101,
         "unclear_trn": 662,
         "unclear_test": 111,
         "num_trn": 1778,
         "num_test": 356,
         "_deepnote_index_column": 14
        },
        {
         "date": "04/01/2021",
         "label": "is_helpful",
         "trn frequency": 0.3806921675774135,
         "test frequency": 0.43902439024390244,
         "unclear_trn": 0,
         "unclear_test": 0,
         "num_trn": 2196,
         "num_test": 492,
         "_deepnote_index_column": 15
        },
        {
         "date": "04/01/2021",
         "label": "classification",
         "trn frequency": 0.7665773610180844,
         "test frequency": 0.8670605612998523,
         "unclear_trn": 66,
         "unclear_test": 10,
         "num_trn": 2986,
         "num_test": 677,
         "_deepnote_index_column": 16
        },
        {
         "date": "04/01/2021",
         "label": "believable",
         "trn frequency": 0.8671808054841473,
         "test frequency": 0.9359190556492412,
         "unclear_trn": 718,
         "unclear_test": 94,
         "num_trn": 2334,
         "num_test": 593,
         "_deepnote_index_column": 17
        },
        {
         "date": "04/01/2021",
         "label": "harmful",
         "trn frequency": 0.7429317094388864,
         "test frequency": 0.8544520547945206,
         "unclear_trn": 753,
         "unclear_test": 103,
         "num_trn": 2299,
         "num_test": 584,
         "_deepnote_index_column": 18
        },
        {
         "date": "04/01/2021",
         "label": "validationDifficulty",
         "trn frequency": 0.249667994687915,
         "test frequency": 0.13527397260273974,
         "unclear_trn": 793,
         "unclear_test": 103,
         "num_trn": 2259,
         "num_test": 584,
         "_deepnote_index_column": 19
        },
        {
         "date": "04/15/2021",
         "label": "is_helpful",
         "trn frequency": 0.39161098737936156,
         "test frequency": 0.4166666666666667,
         "unclear_trn": 0,
         "unclear_test": 0,
         "num_trn": 2694,
         "num_test": 360,
         "_deepnote_index_column": 20
        },
        {
         "date": "04/15/2021",
         "label": "classification",
         "trn frequency": 0.7858493113691601,
         "test frequency": 0.9631449631449631,
         "unclear_trn": 76,
         "unclear_test": 4,
         "num_trn": 3703,
         "num_test": 407,
         "_deepnote_index_column": 21
        },
        {
         "date": "04/15/2021",
         "label": "believable",
         "trn frequency": 0.8807029401824941,
         "test frequency": 0.934010152284264,
         "unclear_trn": 820,
         "unclear_test": 17,
         "num_trn": 2959,
         "num_test": 394,
         "_deepnote_index_column": 22
        },
        {
         "date": "04/15/2021",
         "label": "harmful",
         "trn frequency": 0.7661179698216736,
         "test frequency": 0.7928388746803069,
         "unclear_trn": 863,
         "unclear_test": 20,
         "num_trn": 2916,
         "num_test": 391,
         "_deepnote_index_column": 23
        },
        {
         "date": "04/15/2021",
         "label": "validationDifficulty",
         "trn frequency": 0.2253913043478261,
         "test frequency": 0.23298429319371727,
         "unclear_trn": 904,
         "unclear_test": 29,
         "num_trn": 2875,
         "num_test": 382,
         "_deepnote_index_column": 24
        },
        {
         "date": "05/01/2021",
         "label": "is_helpful",
         "trn frequency": 0.3888,
         "test frequency": 0.5480093676814989,
         "unclear_trn": 0,
         "unclear_test": 0,
         "num_trn": 3125,
         "num_test": 427,
         "_deepnote_index_column": 25
        },
        {
         "date": "05/01/2021",
         "label": "classification",
         "trn frequency": 0.8061663479923518,
         "test frequency": 0.8414376321353065,
         "unclear_trn": 86,
         "unclear_test": 11,
         "num_trn": 4184,
         "num_test": 473,
         "_deepnote_index_column": 26
        },
        {
         "date": "05/01/2021",
         "label": "believable",
         "trn frequency": 0.8876568427195798,
         "test frequency": 0.9607843137254902,
         "unclear_trn": 843,
         "unclear_test": 76,
         "num_trn": 3427,
         "num_test": 408,
         "_deepnote_index_column": 27
        },
        {
         "date": "05/01/2021",
         "label": "harmful",
         "trn frequency": 0.7695035460992907,
         "test frequency": 0.7721518987341772,
         "unclear_trn": 886,
         "unclear_test": 89,
         "num_trn": 3384,
         "num_test": 395,
         "_deepnote_index_column": 28
        },
        {
         "date": "05/01/2021",
         "label": "validationDifficulty",
         "trn frequency": 0.22889756683688794,
         "test frequency": 0.25252525252525254,
         "unclear_trn": 941,
         "unclear_test": 88,
         "num_trn": 3329,
         "num_test": 396,
         "_deepnote_index_column": 29
        },
        {
         "date": "05/15/2021",
         "label": "is_helpful",
         "trn frequency": 0.40759493670886077,
         "test frequency": 0.4692874692874693,
         "unclear_trn": 0,
         "unclear_test": 0,
         "num_trn": 3555,
         "num_test": 407,
         "_deepnote_index_column": 30
        },
        {
         "date": "05/15/2021",
         "label": "classification",
         "trn frequency": 0.8109665030936634,
         "test frequency": 0.9754500818330606,
         "unclear_trn": 99,
         "unclear_test": 7,
         "num_trn": 4687,
         "num_test": 611,
         "_deepnote_index_column": 31
        },
        {
         "date": "05/15/2021",
         "label": "believable",
         "trn frequency": 0.8957848461339539,
         "test frequency": 0.9550748752079867,
         "unclear_trn": 919,
         "unclear_test": 17,
         "num_trn": 3867,
         "num_test": 601,
         "_deepnote_index_column": 32
        },
        {
         "date": "05/15/2021",
         "label": "harmful",
         "trn frequency": 0.7693518761479926,
         "test frequency": 0.8492462311557789,
         "unclear_trn": 975,
         "unclear_test": 21,
         "num_trn": 3811,
         "num_test": 597,
         "_deepnote_index_column": 33
        },
        {
         "date": "05/15/2021",
         "label": "validationDifficulty",
         "trn frequency": 0.23050306095288794,
         "test frequency": 0.16295025728987994,
         "unclear_trn": 1029,
         "unclear_test": 35,
         "num_trn": 3757,
         "num_test": 583,
         "_deepnote_index_column": 34
        },
        {
         "date": "06/01/2021",
         "label": "is_helpful",
         "trn frequency": 0.4147248388696083,
         "test frequency": 0.4798387096774194,
         "unclear_trn": 0,
         "unclear_test": 0,
         "num_trn": 4034,
         "num_test": 248,
         "_deepnote_index_column": 35
        },
        {
         "date": "06/01/2021",
         "label": "classification",
         "trn frequency": 0.8335174953959484,
         "test frequency": 0.976027397260274,
         "unclear_trn": 108,
         "unclear_test": 2,
         "num_trn": 5430,
         "num_test": 292,
         "_deepnote_index_column": 36
        },
        {
         "date": "06/01/2021",
         "label": "believable",
         "trn frequency": 0.9051761635493693,
         "test frequency": 0.9507042253521126,
         "unclear_trn": 940,
         "unclear_test": 10,
         "num_trn": 4598,
         "num_test": 284,
         "_deepnote_index_column": 37
        },
        {
         "date": "06/01/2021",
         "label": "harmful",
         "trn frequency": 0.7766754850088183,
         "test frequency": 0.5851063829787234,
         "unclear_trn": 1002,
         "unclear_test": 12,
         "num_trn": 4536,
         "num_test": 282,
         "_deepnote_index_column": 38
        },
        {
         "date": "06/01/2021",
         "label": "validationDifficulty",
         "trn frequency": 0.2269471799462847,
         "test frequency": 0.4199288256227758,
         "unclear_trn": 1070,
         "unclear_test": 13,
         "num_trn": 4468,
         "num_test": 281,
         "_deepnote_index_column": 39
        },
        {
         "date": "06/15/2021",
         "label": "is_helpful",
         "trn frequency": 0.41744402985074625,
         "test frequency": 0.42950819672131146,
         "unclear_trn": 0,
         "unclear_test": 0,
         "num_trn": 4288,
         "num_test": 305,
         "_deepnote_index_column": 40
        },
        {
         "date": "06/15/2021",
         "label": "classification",
         "trn frequency": 0.8411897721342843,
         "test frequency": 0.9492753623188406,
         "unclear_trn": 110,
         "unclear_test": 10,
         "num_trn": 5749,
         "num_test": 276,
         "_deepnote_index_column": 41
        },
        {
         "date": "06/15/2021",
         "label": "believable",
         "trn frequency": 0.9082942734868555,
         "test frequency": 0.9630996309963099,
         "unclear_trn": 952,
         "unclear_test": 15,
         "num_trn": 4907,
         "num_test": 271,
         "_deepnote_index_column": 42
        },
        {
         "date": "06/15/2021",
         "label": "harmful",
         "trn frequency": 0.7657992565055762,
         "test frequency": 0.706766917293233,
         "unclear_trn": 1017,
         "unclear_test": 20,
         "num_trn": 4842,
         "num_test": 266,
         "_deepnote_index_column": 43
        },
        {
         "date": "06/15/2021",
         "label": "validationDifficulty",
         "trn frequency": 0.23779593547035408,
         "test frequency": 0.29056603773584905,
         "unclear_trn": 1086,
         "unclear_test": 21,
         "num_trn": 4773,
         "num_test": 265,
         "_deepnote_index_column": 44
        },
        {
         "date": "07/01/2021",
         "label": "is_helpful",
         "trn frequency": 0.4181547619047619,
         "test frequency": 0.3377609108159393,
         "unclear_trn": 0,
         "unclear_test": 0,
         "num_trn": 4704,
         "num_test": 527,
         "_deepnote_index_column": 45
        },
        {
         "date": "07/01/2021",
         "label": "classification",
         "trn frequency": 0.8401612903225807,
         "test frequency": 0.9568345323741008,
         "unclear_trn": 130,
         "unclear_test": 29,
         "num_trn": 6200,
         "num_test": 417,
         "_deepnote_index_column": 46
        },
        {
         "date": "07/01/2021",
         "label": "believable",
         "trn frequency": 0.9105491602189092,
         "test frequency": 0.9645390070921985,
         "unclear_trn": 1031,
         "unclear_test": 23,
         "num_trn": 5299,
         "num_test": 423,
         "_deepnote_index_column": 47
        },
        {
         "date": "07/01/2021",
         "label": "harmful",
         "trn frequency": 0.7622605363984675,
         "test frequency": 0.7616707616707616,
         "unclear_trn": 1110,
         "unclear_test": 39,
         "num_trn": 5220,
         "num_test": 407,
         "_deepnote_index_column": 48
        },
        {
         "date": "07/01/2021",
         "label": "validationDifficulty",
         "trn frequency": 0.24,
         "test frequency": 0.3002481389578164,
         "unclear_trn": 1180,
         "unclear_test": 43,
         "num_trn": 5150,
         "num_test": 403,
         "_deepnote_index_column": 49
        },
        {
         "date": "07/15/2021",
         "label": "is_helpful",
         "trn frequency": 0.40575019040365573,
         "test frequency": 0,
         "unclear_trn": 0,
         "unclear_test": 0,
         "num_trn": 5252,
         "num_test": 425,
         "_deepnote_index_column": 50
        },
        {
         "date": "07/15/2021",
         "label": "classification",
         "trn frequency": 0.8474143114852676,
         "test frequency": 0.9622093023255814,
         "unclear_trn": 157,
         "unclear_test": 21,
         "num_trn": 6652,
         "num_test": 344,
         "_deepnote_index_column": 51
        },
        {
         "date": "07/15/2021",
         "label": "believable",
         "trn frequency": 0.9140869565217391,
         "test frequency": 0.9420289855072463,
         "unclear_trn": 1059,
         "unclear_test": 20,
         "num_trn": 5750,
         "num_test": 345,
         "_deepnote_index_column": 52
        },
        {
         "date": "07/15/2021",
         "label": "harmful",
         "trn frequency": 0.7622414707442107,
         "test frequency": 0.7302052785923754,
         "unclear_trn": 1152,
         "unclear_test": 24,
         "num_trn": 5657,
         "num_test": 341,
         "_deepnote_index_column": 53
        },
        {
         "date": "07/15/2021",
         "label": "validationDifficulty",
         "trn frequency": 0.24538778434533404,
         "test frequency": 0.2988165680473373,
         "unclear_trn": 1226,
         "unclear_test": 27,
         "num_trn": 5583,
         "num_test": 338,
         "_deepnote_index_column": 54
        },
        {
         "date": "08/01/2021",
         "label": "is_helpful",
         "trn frequency": 0.36479284854736116,
         "test frequency": 0,
         "unclear_trn": 0,
         "unclear_test": 0,
         "num_trn": 5817,
         "num_test": 526,
         "_deepnote_index_column": 55
        },
        {
         "date": "08/01/2021",
         "label": "classification",
         "trn frequency": 0.855561782011768,
         "test frequency": 0.9528907922912205,
         "unclear_trn": 183,
         "unclear_test": 21,
         "num_trn": 7138,
         "num_test": 467,
         "_deepnote_index_column": 56
        },
        {
         "date": "08/01/2021",
         "label": "believable",
         "trn frequency": 0.9156916172463536,
         "test frequency": 0.9698924731182795,
         "unclear_trn": 1082,
         "unclear_test": 23,
         "num_trn": 6239,
         "num_test": 465,
         "_deepnote_index_column": 57
        },
        {
         "date": "08/01/2021",
         "label": "harmful",
         "trn frequency": 0.7615246782863658,
         "test frequency": 0.782608695652174,
         "unclear_trn": 1182,
         "unclear_test": 28,
         "num_trn": 6139,
         "num_test": 460,
         "_deepnote_index_column": 58
        },
        {
         "date": "08/01/2021",
         "label": "validationDifficulty",
         "trn frequency": 0.25165016501650167,
         "test frequency": 0.31497797356828194,
         "unclear_trn": 1261,
         "unclear_test": 34,
         "num_trn": 6060,
         "num_test": 454,
         "_deepnote_index_column": 59
        },
        {
         "date": "08/15/2021",
         "label": "is_helpful",
         "trn frequency": 0.3318632855567806,
         "test frequency": 0,
         "unclear_trn": 0,
         "unclear_test": 0,
         "num_trn": 6349,
         "num_test": 409,
         "_deepnote_index_column": 60
        },
        {
         "date": "08/15/2021",
         "label": "classification",
         "trn frequency": 0.8617523609653726,
         "test frequency": 0.9524886877828054,
         "unclear_trn": 207,
         "unclear_test": 18,
         "num_trn": 7624,
         "num_test": 442,
         "_deepnote_index_column": 61
        },
        {
         "date": "08/15/2021",
         "label": "believable",
         "trn frequency": 0.9194052044609665,
         "test frequency": 0.9478458049886621,
         "unclear_trn": 1106,
         "unclear_test": 19,
         "num_trn": 6725,
         "num_test": 441,
         "_deepnote_index_column": 62
        },
        {
         "date": "08/15/2021",
         "label": "harmful",
         "trn frequency": 0.7629909365558912,
         "test frequency": 0.7247706422018348,
         "unclear_trn": 1211,
         "unclear_test": 24,
         "num_trn": 6620,
         "num_test": 436,
         "_deepnote_index_column": 63
        },
        {
         "date": "08/15/2021",
         "label": "validationDifficulty",
         "trn frequency": 0.25650443832262015,
         "test frequency": 0.3356643356643357,
         "unclear_trn": 1297,
         "unclear_test": 31,
         "num_trn": 6534,
         "num_test": 429,
         "_deepnote_index_column": 64
        },
        {
         "date": "09/01/2021",
         "label": "is_helpful",
         "trn frequency": 0.30654587960257157,
         "test frequency": 0,
         "unclear_trn": 0,
         "unclear_test": 0,
         "num_trn": 6844,
         "num_test": 910,
         "_deepnote_index_column": 65
        },
        {
         "date": "09/01/2021",
         "label": "classification",
         "trn frequency": 0.8683633706770579,
         "test frequency": 0.7921787709497207,
         "unclear_trn": 229,
         "unclear_test": 52,
         "num_trn": 8212,
         "num_test": 895,
         "_deepnote_index_column": 66
        },
        {
         "date": "09/01/2021",
         "label": "believable",
         "trn frequency": 0.9219091903719913,
         "test frequency": 0.9165562913907285,
         "unclear_trn": 1129,
         "unclear_test": 192,
         "num_trn": 7312,
         "num_test": 755,
         "_deepnote_index_column": 67
        },
        {
         "date": "09/01/2021",
         "label": "harmful",
         "trn frequency": 0.7598611111111111,
         "test frequency": 0.6896551724137931,
         "unclear_trn": 1241,
         "unclear_test": 222,
         "num_trn": 7200,
         "num_test": 725,
         "_deepnote_index_column": 68
        },
        {
         "date": "09/01/2021",
         "label": "validationDifficulty",
         "trn frequency": 0.263083849184018,
         "test frequency": 0.30344827586206896,
         "unclear_trn": 1333,
         "unclear_test": 222,
         "num_trn": 7108,
         "num_test": 725,
         "_deepnote_index_column": 69
        },
        {
         "date": "09/15/2021",
         "label": "is_helpful",
         "trn frequency": 0.2696614750933196,
         "test frequency": 0,
         "unclear_trn": 0,
         "unclear_test": 0,
         "num_trn": 7769,
         "num_test": 918,
         "_deepnote_index_column": 70
        },
        {
         "date": "09/15/2021",
         "label": "classification",
         "trn frequency": 0.8617160278745645,
         "test frequency": 0.925764192139738,
         "unclear_trn": 289,
         "unclear_test": 60,
         "num_trn": 9184,
         "num_test": 687,
         "_deepnote_index_column": 71
        },
        {
         "date": "09/15/2021",
         "label": "believable",
         "trn frequency": 0.9209621993127147,
         "test frequency": 0.9467625899280575,
         "unclear_trn": 1325,
         "unclear_test": 52,
         "num_trn": 8148,
         "num_test": 695,
         "_deepnote_index_column": 72
        },
        {
         "date": "09/15/2021",
         "label": "harmful",
         "trn frequency": 0.7525914824528538,
         "test frequency": 0.7536231884057971,
         "unclear_trn": 1466,
         "unclear_test": 57,
         "num_trn": 8007,
         "num_test": 690,
         "_deepnote_index_column": 73
        },
        {
         "date": "09/15/2021",
         "label": "validationDifficulty",
         "trn frequency": 0.265520293336705,
         "test frequency": 0.25806451612903225,
         "unclear_trn": 1564,
         "unclear_test": 65,
         "num_trn": 7909,
         "num_test": 682,
         "_deepnote_index_column": 74
        }
       ],
       "rows_bottom": null
      },
      "text/plain": "          date                 label  trn frequency  test frequency  \\\n0   02/15/2021            is_helpful       0.355219        0.343849   \n1   02/15/2021        classification       0.654888        0.817955   \n2   02/15/2021            believable       0.849823        0.874439   \n3   02/15/2021               harmful       0.727110        0.778452   \n4   02/15/2021  validationDifficulty       0.248629        0.244275   \n..         ...                   ...            ...             ...   \n70  09/15/2021            is_helpful       0.269661        0.000000   \n71  09/15/2021        classification       0.861716        0.925764   \n72  09/15/2021            believable       0.920962        0.946763   \n73  09/15/2021               harmful       0.752591        0.753623   \n74  09/15/2021  validationDifficulty       0.265520        0.258065   \n\n    unclear_trn  unclear_test  num_trn  num_test  \n0             0             0      594       634  \n1            17            18      849       802  \n2           300           151      566       669  \n3           309           161      557       659  \n4           319           165      547       655  \n..          ...           ...      ...       ...  \n70            0             0     7769       918  \n71          289            60     9184       687  \n72         1325            52     8148       695  \n73         1466            57     8007       690  \n74         1564            65     7909       682  \n\n[75 rows x 8 columns]",
      "text/html": "<div>\n<style scoped>\n    .dataframe tbody tr th:only-of-type {\n        vertical-align: middle;\n    }\n\n    .dataframe tbody tr th {\n        vertical-align: top;\n    }\n\n    .dataframe thead th {\n        text-align: right;\n    }\n</style>\n<table border=\"1\" class=\"dataframe\">\n  <thead>\n    <tr style=\"text-align: right;\">\n      <th></th>\n      <th>date</th>\n      <th>label</th>\n      <th>trn frequency</th>\n      <th>test frequency</th>\n      <th>unclear_trn</th>\n      <th>unclear_test</th>\n      <th>num_trn</th>\n      <th>num_test</th>\n    </tr>\n  </thead>\n  <tbody>\n    <tr>\n      <th>0</th>\n      <td>02/15/2021</td>\n      <td>is_helpful</td>\n      <td>0.355219</td>\n      <td>0.343849</td>\n      <td>0</td>\n      <td>0</td>\n      <td>594</td>\n      <td>634</td>\n    </tr>\n    <tr>\n      <th>1</th>\n      <td>02/15/2021</td>\n      <td>classification</td>\n      <td>0.654888</td>\n      <td>0.817955</td>\n      <td>17</td>\n      <td>18</td>\n      <td>849</td>\n      <td>802</td>\n    </tr>\n    <tr>\n      <th>2</th>\n      <td>02/15/2021</td>\n      <td>believable</td>\n      <td>0.849823</td>\n      <td>0.874439</td>\n      <td>300</td>\n      <td>151</td>\n      <td>566</td>\n      <td>669</td>\n    </tr>\n    <tr>\n      <th>3</th>\n      <td>02/15/2021</td>\n      <td>harmful</td>\n      <td>0.727110</td>\n      <td>0.778452</td>\n      <td>309</td>\n      <td>161</td>\n      <td>557</td>\n      <td>659</td>\n    </tr>\n    <tr>\n      <th>4</th>\n      <td>02/15/2021</td>\n      <td>validationDifficulty</td>\n      <td>0.248629</td>\n      <td>0.244275</td>\n      <td>319</td>\n      <td>165</td>\n      <td>547</td>\n      <td>655</td>\n    </tr>\n    <tr>\n      <th>...</th>\n      <td>...</td>\n      <td>...</td>\n      <td>...</td>\n      <td>...</td>\n      <td>...</td>\n      <td>...</td>\n      <td>...</td>\n      <td>...</td>\n    </tr>\n    <tr>\n      <th>70</th>\n      <td>09/15/2021</td>\n      <td>is_helpful</td>\n      <td>0.269661</td>\n      <td>0.000000</td>\n      <td>0</td>\n      <td>0</td>\n      <td>7769</td>\n      <td>918</td>\n    </tr>\n    <tr>\n      <th>71</th>\n      <td>09/15/2021</td>\n      <td>classification</td>\n      <td>0.861716</td>\n      <td>0.925764</td>\n      <td>289</td>\n      <td>60</td>\n      <td>9184</td>\n      <td>687</td>\n    </tr>\n    <tr>\n      <th>72</th>\n      <td>09/15/2021</td>\n      <td>believable</td>\n      <td>0.920962</td>\n      <td>0.946763</td>\n      <td>1325</td>\n      <td>52</td>\n      <td>8148</td>\n      <td>695</td>\n    </tr>\n    <tr>\n      <th>73</th>\n      <td>09/15/2021</td>\n      <td>harmful</td>\n      <td>0.752591</td>\n      <td>0.753623</td>\n      <td>1466</td>\n      <td>57</td>\n      <td>8007</td>\n      <td>690</td>\n    </tr>\n    <tr>\n      <th>74</th>\n      <td>09/15/2021</td>\n      <td>validationDifficulty</td>\n      <td>0.265520</td>\n      <td>0.258065</td>\n      <td>1564</td>\n      <td>65</td>\n      <td>7909</td>\n      <td>682</td>\n    </tr>\n  </tbody>\n</table>\n<p>75 rows × 8 columns</p>\n</div>"
     },
     "metadata": {}
    }
   ],
   "execution_count": null
  },
  {
   "cell_type": "code",
   "metadata": {
    "tags": [],
    "cell_id": "00039-8bc0496c-a12e-46b4-91e3-7f39b3689bcc",
    "deepnote_to_be_reexecuted": true,
    "source_hash": "3a8b6c78",
    "execution_start": 1639008557375,
    "execution_millis": 8,
    "deepnote_output_heights": [
     251.60000610351562
    ],
    "deepnote_cell_type": "code"
   },
   "source": "tasks_df.groupby(['label', 'date']).num_trn.max()",
   "outputs": [
    {
     "output_type": "execute_result",
     "execution_count": 72,
     "data": {
      "text/plain": "label                 date      \nbelievable            02/15/2021     566\n                      03/01/2021    1274\n                      03/15/2021    1829\n                      04/01/2021    2334\n                      04/15/2021    2959\n                                    ... \nvalidationDifficulty  07/15/2021    5583\n                      08/01/2021    6060\n                      08/15/2021    6534\n                      09/01/2021    7108\n                      09/15/2021    7909\nName: num_trn, Length: 75, dtype: int64"
     },
     "metadata": {}
    }
   ],
   "execution_count": null
  },
  {
   "cell_type": "code",
   "metadata": {
    "tags": [],
    "cell_id": "00040-e21ac0b1-e5a1-4245-904d-3eaf2f81e840",
    "deepnote_to_be_reexecuted": true,
    "source_hash": "826b5e28",
    "execution_start": 1639008557385,
    "execution_millis": 25,
    "deepnote_output_heights": [
     251.60000610351562
    ],
    "deepnote_cell_type": "code"
   },
   "source": "tasks_df.groupby(['label', 'date']).num_test.max()",
   "outputs": [
    {
     "output_type": "execute_result",
     "execution_count": 73,
     "data": {
      "text/plain": "label                 date      \nbelievable            02/15/2021    669\n                      03/01/2021    524\n                      03/15/2021    370\n                      04/01/2021    593\n                      04/15/2021    394\n                                   ... \nvalidationDifficulty  07/15/2021    338\n                      08/01/2021    454\n                      08/15/2021    429\n                      09/01/2021    725\n                      09/15/2021    682\nName: num_test, Length: 75, dtype: int64"
     },
     "metadata": {}
    }
   ],
   "execution_count": null
  },
  {
   "cell_type": "code",
   "metadata": {
    "tags": [],
    "cell_id": "00036-e9ca5452-e872-448c-9bd2-e65c1efd5e38",
    "deepnote_to_be_reexecuted": true,
    "source_hash": "3747ce26",
    "execution_start": 1639008557408,
    "execution_millis": 25,
    "deepnote_output_heights": [
     251.60000610351562
    ],
    "deepnote_cell_type": "code"
   },
   "source": "results_df.groupby(['label', 'date'])['roc_auc'].max()",
   "outputs": [
    {
     "output_type": "execute_result",
     "execution_count": 74,
     "data": {
      "text/plain": "label                 date      \nbelievable            2021-02-15    0.530586\n                      2021-03-01    0.523491\n                      2021-03-15    0.542109\n                      2021-04-01    0.559483\n                      2021-04-15    0.517872\n                                      ...   \nvalidationDifficulty  2021-07-15    0.627334\n                      2021-08-01    0.633429\n                      2021-08-15    0.652668\n                      2021-09-01    0.663929\n                      2021-09-15    0.635993\nName: roc_auc, Length: 75, dtype: float64"
     },
     "metadata": {}
    }
   ],
   "execution_count": null
  },
  {
   "cell_type": "code",
   "metadata": {
    "tags": [],
    "cell_id": "00029-fcdefb8a-d91d-41ae-931c-d377558885f0",
    "deepnote_to_be_reexecuted": true,
    "source_hash": "b263c98f",
    "execution_start": 1639009262236,
    "execution_millis": 101,
    "deepnote_cell_type": "code"
   },
   "source": "results_df",
   "outputs": [
    {
     "output_type": "execute_result",
     "execution_count": 84,
     "data": {
      "application/vnd.deepnote.dataframe.v2+json": {
       "row_count": 300,
       "column_count": 9,
       "columns": [
        {
         "name": "label",
         "dtype": "object",
         "stats": {
          "unique_count": 5,
          "nan_count": 0,
          "categories": [
           {
            "name": "is_helpful",
            "count": 60
           },
           {
            "name": "classification",
            "count": 60
           },
           {
            "name": "3 others",
            "count": 180
           }
          ]
         }
        },
        {
         "name": "model_name",
         "dtype": "object",
         "stats": {
          "unique_count": 4,
          "nan_count": 0,
          "categories": [
           {
            "name": "Prior",
            "count": 75
           },
           {
            "name": "LR",
            "count": 75
           },
           {
            "name": "2 others",
            "count": 150
           }
          ]
         }
        },
        {
         "name": "date",
         "dtype": "datetime64[ns]",
         "stats": {
          "unique_count": 15,
          "nan_count": 0,
          "min": "2021-02-15 00:00:00",
          "max": "2021-09-15 00:00:00",
          "histogram": [
           {
            "bin_start": 1613347200000000000,
            "bin_end": 1615178880000000000,
            "count": 40
           },
           {
            "bin_start": 1615178880000000000,
            "bin_end": 1617010560000000000,
            "count": 20
           },
           {
            "bin_start": 1617010560000000000,
            "bin_end": 1618842240000000000,
            "count": 40
           },
           {
            "bin_start": 1618842240000000000,
            "bin_end": 1620673920000000000,
            "count": 20
           },
           {
            "bin_start": 1620673920000000000,
            "bin_end": 1622505600000000000,
            "count": 20
           },
           {
            "bin_start": 1622505600000000000,
            "bin_end": 1624337280000000000,
            "count": 40
           },
           {
            "bin_start": 1624337280000000000,
            "bin_end": 1626168960000000000,
            "count": 20
           },
           {
            "bin_start": 1626168960000000000,
            "bin_end": 1628000640000000000,
            "count": 40
           },
           {
            "bin_start": 1628000640000000000,
            "bin_end": 1629832320000000000,
            "count": 20
           },
           {
            "bin_start": 1629832320000000000,
            "bin_end": 1631664000000000000,
            "count": 40
           }
          ]
         }
        },
        {
         "name": "accuracy",
         "dtype": "float64",
         "stats": {
          "unique_count": 248,
          "nan_count": 0,
          "min": "0.4519906323185012",
          "max": "1.0",
          "histogram": [
           {
            "bin_start": 0.4519906323185012,
            "bin_end": 0.506791569086651,
            "count": 2
           },
           {
            "bin_start": 0.506791569086651,
            "bin_end": 0.5615925058548009,
            "count": 4
           },
           {
            "bin_start": 0.5615925058548009,
            "bin_end": 0.6163934426229508,
            "count": 22
           },
           {
            "bin_start": 0.6163934426229508,
            "bin_end": 0.6711943793911007,
            "count": 21
           },
           {
            "bin_start": 0.6711943793911007,
            "bin_end": 0.7259953161592505,
            "count": 28
           },
           {
            "bin_start": 0.7259953161592505,
            "bin_end": 0.7807962529274004,
            "count": 45
           },
           {
            "bin_start": 0.7807962529274004,
            "bin_end": 0.8355971896955503,
            "count": 36
           },
           {
            "bin_start": 0.8355971896955503,
            "bin_end": 0.8903981264637002,
            "count": 35
           },
           {
            "bin_start": 0.8903981264637002,
            "bin_end": 0.9451990632318501,
            "count": 33
           },
           {
            "bin_start": 0.9451990632318501,
            "bin_end": 1,
            "count": 74
           }
          ]
         }
        },
        {
         "name": "precision",
         "dtype": "float64",
         "stats": {
          "unique_count": 206,
          "nan_count": 0,
          "min": "0.0",
          "max": "1.0",
          "histogram": [
           {
            "bin_start": 0,
            "bin_end": 0.1,
            "count": 55
           },
           {
            "bin_start": 0.1,
            "bin_end": 0.2,
            "count": 4
           },
           {
            "bin_start": 0.2,
            "bin_end": 0.30000000000000004,
            "count": 4
           },
           {
            "bin_start": 0.30000000000000004,
            "bin_end": 0.4,
            "count": 2
           },
           {
            "bin_start": 0.4,
            "bin_end": 0.5,
            "count": 8
           },
           {
            "bin_start": 0.5,
            "bin_end": 0.6000000000000001,
            "count": 10
           },
           {
            "bin_start": 0.6000000000000001,
            "bin_end": 0.7000000000000001,
            "count": 18
           },
           {
            "bin_start": 0.7000000000000001,
            "bin_end": 0.8,
            "count": 39
           },
           {
            "bin_start": 0.8,
            "bin_end": 0.9,
            "count": 51
           },
           {
            "bin_start": 0.9,
            "bin_end": 1,
            "count": 109
           }
          ]
         }
        },
        {
         "name": "recall",
         "dtype": "float64",
         "stats": {
          "unique_count": 161,
          "nan_count": 0,
          "min": "0.0",
          "max": "1.0",
          "histogram": [
           {
            "bin_start": 0,
            "bin_end": 0.1,
            "count": 75
           },
           {
            "bin_start": 0.1,
            "bin_end": 0.2,
            "count": 2
           },
           {
            "bin_start": 0.2,
            "bin_end": 0.30000000000000004,
            "count": 13
           },
           {
            "bin_start": 0.30000000000000004,
            "bin_end": 0.4,
            "count": 9
           },
           {
            "bin_start": 0.4,
            "bin_end": 0.5,
            "count": 7
           },
           {
            "bin_start": 0.5,
            "bin_end": 0.6000000000000001,
            "count": 4
           },
           {
            "bin_start": 0.6000000000000001,
            "bin_end": 0.7000000000000001,
            "count": 8
           },
           {
            "bin_start": 0.7000000000000001,
            "bin_end": 0.8,
            "count": 2
           },
           {
            "bin_start": 0.8,
            "bin_end": 0.9,
            "count": 1
           },
           {
            "bin_start": 0.9,
            "bin_end": 1,
            "count": 179
           }
          ]
         }
        },
        {
         "name": "roc_auc",
         "dtype": "float64",
         "stats": {
          "unique_count": 177,
          "nan_count": 20,
          "min": "0.4871287128712871",
          "max": "0.8572969903463942",
          "histogram": [
           {
            "bin_start": 0.4871287128712871,
            "bin_end": 0.5241455406187978,
            "count": 159
           },
           {
            "bin_start": 0.5241455406187978,
            "bin_end": 0.5611623683663085,
            "count": 43
           },
           {
            "bin_start": 0.5611623683663085,
            "bin_end": 0.5981791961138192,
            "count": 7
           },
           {
            "bin_start": 0.5981791961138192,
            "bin_end": 0.6351960238613299,
            "count": 17
           },
           {
            "bin_start": 0.6351960238613299,
            "bin_end": 0.6722128516088406,
            "count": 25
           },
           {
            "bin_start": 0.6722128516088406,
            "bin_end": 0.7092296793563514,
            "count": 10
           },
           {
            "bin_start": 0.7092296793563514,
            "bin_end": 0.7462465071038621,
            "count": 3
           },
           {
            "bin_start": 0.7462465071038621,
            "bin_end": 0.7832633348513728,
            "count": 4
           },
           {
            "bin_start": 0.7832633348513728,
            "bin_end": 0.8202801625988835,
            "count": 9
           },
           {
            "bin_start": 0.8202801625988835,
            "bin_end": 0.8572969903463942,
            "count": 3
           }
          ]
         }
        },
        {
         "name": "f1",
         "dtype": "float64",
         "stats": {
          "unique_count": 215,
          "nan_count": 0,
          "min": "0.0",
          "max": "0.9878682842287695",
          "histogram": [
           {
            "bin_start": 0,
            "bin_end": 0.09878682842287695,
            "count": 68
           },
           {
            "bin_start": 0.09878682842287695,
            "bin_end": 0.1975736568457539,
            "count": 8
           },
           {
            "bin_start": 0.1975736568457539,
            "bin_end": 0.29636048526863085,
            "count": 2
           },
           {
            "bin_start": 0.29636048526863085,
            "bin_end": 0.3951473136915078,
            "count": 5
           },
           {
            "bin_start": 0.3951473136915078,
            "bin_end": 0.49393414211438474,
            "count": 17
           },
           {
            "bin_start": 0.49393414211438474,
            "bin_end": 0.5927209705372617,
            "count": 9
           },
           {
            "bin_start": 0.5927209705372617,
            "bin_end": 0.6915077989601386,
            "count": 10
           },
           {
            "bin_start": 0.6915077989601386,
            "bin_end": 0.7902946273830156,
            "count": 5
           },
           {
            "bin_start": 0.7902946273830156,
            "bin_end": 0.8890814558058926,
            "count": 44
           },
           {
            "bin_start": 0.8890814558058926,
            "bin_end": 0.9878682842287695,
            "count": 132
           }
          ]
         }
        },
        {
         "name": "type",
         "dtype": "object",
         "stats": {
          "unique_count": 2,
          "nan_count": 0,
          "categories": [
           {
            "name": "tweets",
            "count": 240
           },
           {
            "name": "notes",
            "count": 60
           }
          ]
         }
        },
        {
         "name": "_deepnote_index_column",
         "dtype": "int64"
        }
       ],
       "rows_top": [
        {
         "label": "is_helpful",
         "model_name": "Prior",
         "date": "2021-02-15T00:00:00.000000",
         "accuracy": 0.6561514195583596,
         "precision": 0,
         "recall": 0,
         "roc_auc": 0.5,
         "f1": 0,
         "type": "notes",
         "_deepnote_index_column": 0
        },
        {
         "label": "is_helpful",
         "model_name": "LR",
         "date": "2021-02-15T00:00:00.000000",
         "accuracy": 0.5851735015772871,
         "precision": 0.41106719367588934,
         "recall": 0.47706422018348627,
         "roc_auc": 0.5594455716302047,
         "f1": 0.4416135881104034,
         "type": "notes",
         "_deepnote_index_column": 1
        },
        {
         "label": "is_helpful",
         "model_name": "RF",
         "date": "2021-02-15T00:00:00.000000",
         "accuracy": 0.6498422712933754,
         "precision": 0.4787234042553192,
         "recall": 0.20642201834862386,
         "roc_auc": 0.5443167784050811,
         "f1": 0.2884615384615385,
         "type": "notes",
         "_deepnote_index_column": 2
        },
        {
         "label": "is_helpful",
         "model_name": "LGBM",
         "date": "2021-02-15T00:00:00.000000",
         "accuracy": 0.610410094637224,
         "precision": 0.4256410256410256,
         "recall": 0.38073394495412843,
         "roc_auc": 0.5557515878616797,
         "f1": 0.40193704600484265,
         "type": "notes",
         "_deepnote_index_column": 3
        },
        {
         "label": "classification",
         "model_name": "Prior",
         "date": "2021-02-15T00:00:00.000000",
         "accuracy": 0.8179551122194514,
         "precision": 0.8179551122194514,
         "recall": 1,
         "roc_auc": 0.5,
         "f1": 0.8998628257887517,
         "type": "tweets",
         "_deepnote_index_column": 4
        },
        {
         "label": "classification",
         "model_name": "LR",
         "date": "2021-02-15T00:00:00.000000",
         "accuracy": 0.8653366583541147,
         "precision": 0.9053254437869822,
         "recall": 0.9329268292682927,
         "roc_auc": 0.7472853324423656,
         "f1": 0.9189189189189189,
         "type": "tweets",
         "_deepnote_index_column": 5
        },
        {
         "label": "classification",
         "model_name": "RF",
         "date": "2021-02-15T00:00:00.000000",
         "accuracy": 0.8790523690773068,
         "precision": 0.8942172073342737,
         "recall": 0.9664634146341463,
         "roc_auc": 0.7263823922485799,
         "f1": 0.928937728937729,
         "type": "tweets",
         "_deepnote_index_column": 6
        },
        {
         "label": "classification",
         "model_name": "LGBM",
         "date": "2021-02-15T00:00:00.000000",
         "accuracy": 0.8902743142144638,
         "precision": 0.8933518005540166,
         "recall": 0.9832317073170732,
         "roc_auc": 0.7279172235215503,
         "f1": 0.9361393323657475,
         "type": "tweets",
         "_deepnote_index_column": 7
        },
        {
         "label": "believable",
         "model_name": "Prior",
         "date": "2021-02-15T00:00:00.000000",
         "accuracy": 0.874439461883408,
         "precision": 0.874439461883408,
         "recall": 1,
         "roc_auc": 0.5,
         "f1": 0.9330143540669855,
         "type": "tweets",
         "_deepnote_index_column": 8
        },
        {
         "label": "believable",
         "model_name": "LR",
         "date": "2021-02-15T00:00:00.000000",
         "accuracy": 0.8400597907324364,
         "precision": 0.8805732484076433,
         "recall": 0.9452991452991453,
         "roc_auc": 0.5262210012210011,
         "f1": 0.9117889530090685,
         "type": "tweets",
         "_deepnote_index_column": 9
        },
        {
         "label": "believable",
         "model_name": "RF",
         "date": "2021-02-15T00:00:00.000000",
         "accuracy": 0.866965620328849,
         "precision": 0.8792048929663608,
         "recall": 0.9829059829059829,
         "roc_auc": 0.5212148962148961,
         "f1": 0.9281678773204197,
         "type": "tweets",
         "_deepnote_index_column": 10
        },
        {
         "label": "believable",
         "model_name": "LGBM",
         "date": "2021-02-15T00:00:00.000000",
         "accuracy": 0.874439461883408,
         "precision": 0.8812785388127854,
         "recall": 0.9897435897435898,
         "roc_auc": 0.5305860805860806,
         "f1": 0.9323671497584541,
         "type": "tweets",
         "_deepnote_index_column": 11
        },
        {
         "label": "harmful",
         "model_name": "Prior",
         "date": "2021-02-15T00:00:00.000000",
         "accuracy": 0.7784522003034902,
         "precision": 0.7784522003034902,
         "recall": 1,
         "roc_auc": 0.5,
         "f1": 0.8754266211604096,
         "type": "tweets",
         "_deepnote_index_column": 12
        },
        {
         "label": "harmful",
         "model_name": "LR",
         "date": "2021-02-15T00:00:00.000000",
         "accuracy": 0.7283763277693475,
         "precision": 0.7899305555555556,
         "recall": 0.8869395711500975,
         "roc_auc": 0.5290862239312132,
         "f1": 0.8356290174471992,
         "type": "tweets",
         "_deepnote_index_column": 13
        },
        {
         "label": "harmful",
         "model_name": "RF",
         "date": "2021-02-15T00:00:00.000000",
         "accuracy": 0.7647951441578149,
         "precision": 0.7887096774193548,
         "recall": 0.9532163742690059,
         "roc_auc": 0.5279780501482015,
         "f1": 0.8631950573698147,
         "type": "tweets",
         "_deepnote_index_column": 14
        },
        {
         "label": "harmful",
         "model_name": "LGBM",
         "date": "2021-02-15T00:00:00.000000",
         "accuracy": 0.7632776934749621,
         "precision": 0.7893030794165316,
         "recall": 0.949317738791423,
         "roc_auc": 0.5294533899436566,
         "f1": 0.8619469026548672,
         "type": "tweets",
         "_deepnote_index_column": 15
        },
        {
         "label": "validationDifficulty",
         "model_name": "Prior",
         "date": "2021-02-15T00:00:00.000000",
         "accuracy": 0.7557251908396947,
         "precision": 0,
         "recall": 0,
         "roc_auc": 0.5,
         "f1": 0,
         "type": "tweets",
         "_deepnote_index_column": 16
        },
        {
         "label": "validationDifficulty",
         "model_name": "LR",
         "date": "2021-02-15T00:00:00.000000",
         "accuracy": 0.6778625954198473,
         "precision": 0.24752475247524752,
         "recall": 0.15625,
         "roc_auc": 0.5013573232323232,
         "f1": 0.19157088122605365,
         "type": "tweets",
         "_deepnote_index_column": 17
        },
        {
         "label": "validationDifficulty",
         "model_name": "RF",
         "date": "2021-02-15T00:00:00.000000",
         "accuracy": 0.7541984732824427,
         "precision": 0,
         "recall": 0,
         "roc_auc": 0.498989898989899,
         "f1": 0,
         "type": "tweets",
         "_deepnote_index_column": 18
        },
        {
         "label": "validationDifficulty",
         "model_name": "LGBM",
         "date": "2021-02-15T00:00:00.000000",
         "accuracy": 0.732824427480916,
         "precision": 0.17391304347826086,
         "recall": 0.025,
         "roc_auc": 0.49330808080808075,
         "f1": 0.04371584699453552,
         "type": "tweets",
         "_deepnote_index_column": 19
        },
        {
         "label": "is_helpful",
         "model_name": "Prior",
         "date": "2021-03-01T00:00:00.000000",
         "accuracy": 0.5672514619883041,
         "precision": 0,
         "recall": 0,
         "roc_auc": 0.5,
         "f1": 0,
         "type": "notes",
         "_deepnote_index_column": 20
        },
        {
         "label": "is_helpful",
         "model_name": "LR",
         "date": "2021-03-01T00:00:00.000000",
         "accuracy": 0.5692007797270955,
         "precision": 0.5031446540880503,
         "recall": 0.36036036036036034,
         "roc_auc": 0.5444413485650599,
         "f1": 0.4199475065616798,
         "type": "notes",
         "_deepnote_index_column": 21
        },
        {
         "label": "is_helpful",
         "model_name": "RF",
         "date": "2021-03-01T00:00:00.000000",
         "accuracy": 0.5789473684210527,
         "precision": 0.6666666666666666,
         "recall": 0.05405405405405406,
         "roc_auc": 0.5167177486765114,
         "f1": 0.1,
         "type": "notes",
         "_deepnote_index_column": 22
        },
        {
         "label": "is_helpful",
         "model_name": "LGBM",
         "date": "2021-03-01T00:00:00.000000",
         "accuracy": 0.5769980506822612,
         "precision": 0.518796992481203,
         "recall": 0.3108108108108108,
         "roc_auc": 0.5454397696665738,
         "f1": 0.38873239436619716,
         "type": "notes",
         "_deepnote_index_column": 23
        },
        {
         "label": "classification",
         "model_name": "Prior",
         "date": "2021-03-01T00:00:00.000000",
         "accuracy": 0.7734724292101341,
         "precision": 0.7734724292101341,
         "recall": 1,
         "roc_auc": 0.5,
         "f1": 0.8722689075630253,
         "type": "tweets",
         "_deepnote_index_column": 24
        },
        {
         "label": "classification",
         "model_name": "LR",
         "date": "2021-03-01T00:00:00.000000",
         "accuracy": 0.8539493293591655,
         "precision": 0.88909426987061,
         "recall": 0.9267822736030829,
         "roc_auc": 0.7660227157489099,
         "f1": 0.9075471698113207,
         "type": "tweets",
         "_deepnote_index_column": 25
        },
        {
         "label": "classification",
         "model_name": "RF",
         "date": "2021-03-01T00:00:00.000000",
         "accuracy": 0.8852459016393442,
         "precision": 0.8850174216027874,
         "recall": 0.9788053949903661,
         "roc_auc": 0.7722974343372884,
         "f1": 0.9295516925892041,
         "type": "tweets",
         "_deepnote_index_column": 26
        },
        {
         "label": "classification",
         "model_name": "LGBM",
         "date": "2021-03-01T00:00:00.000000",
         "accuracy": 0.8882265275707899,
         "precision": 0.884083044982699,
         "recall": 0.9845857418111753,
         "roc_auc": 0.7718981340634823,
         "f1": 0.9316317228805834,
         "type": "tweets",
         "_deepnote_index_column": 27
        },
        {
         "label": "believable",
         "model_name": "Prior",
         "date": "2021-03-01T00:00:00.000000",
         "accuracy": 0.8683206106870229,
         "precision": 0.8683206106870229,
         "recall": 1,
         "roc_auc": 0.5,
         "f1": 0.9295199182839633,
         "type": "tweets",
         "_deepnote_index_column": 28
        },
        {
         "label": "believable",
         "model_name": "LR",
         "date": "2021-03-01T00:00:00.000000",
         "accuracy": 0.8454198473282443,
         "precision": 0.8681102362204725,
         "recall": 0.9692307692307692,
         "roc_auc": 0.49910813823857303,
         "f1": 0.9158878504672898,
         "type": "tweets",
         "_deepnote_index_column": 29
        },
        {
         "label": "believable",
         "model_name": "RF",
         "date": "2021-03-01T00:00:00.000000",
         "accuracy": 0.8625954198473282,
         "precision": 0.8732943469785575,
         "recall": 0.9846153846153847,
         "roc_auc": 0.5212931995540692,
         "f1": 0.9256198347107437,
         "type": "tweets",
         "_deepnote_index_column": 30
        },
        {
         "label": "believable",
         "model_name": "LGBM",
         "date": "2021-03-01T00:00:00.000000",
         "accuracy": 0.8664122137404581,
         "precision": 0.8737864077669902,
         "recall": 0.989010989010989,
         "roc_auc": 0.5234910017518714,
         "f1": 0.9278350515463917,
         "type": "tweets",
         "_deepnote_index_column": 31
        },
        {
         "label": "harmful",
         "model_name": "Prior",
         "date": "2021-03-01T00:00:00.000000",
         "accuracy": 0.7189922480620154,
         "precision": 0.7189922480620154,
         "recall": 1,
         "roc_auc": 0.5,
         "f1": 0.8365276211950394,
         "type": "tweets",
         "_deepnote_index_column": 32
        },
        {
         "label": "harmful",
         "model_name": "LR",
         "date": "2021-03-01T00:00:00.000000",
         "accuracy": 0.6821705426356589,
         "precision": 0.718816067653277,
         "recall": 0.9164420485175202,
         "roc_auc": 0.4996003346035877,
         "f1": 0.8056872037914692,
         "type": "tweets",
         "_deepnote_index_column": 33
        },
        {
         "label": "harmful",
         "model_name": "RF",
         "date": "2021-03-01T00:00:00.000000",
         "accuracy": 0.7073643410852714,
         "precision": 0.7272727272727273,
         "recall": 0.9487870619946092,
         "roc_auc": 0.5192211172042012,
         "f1": 0.8233918128654971,
         "type": "tweets",
         "_deepnote_index_column": 34
        },
        {
         "label": "harmful",
         "model_name": "LGBM",
         "date": "2021-03-01T00:00:00.000000",
         "accuracy": 0.7034883720930233,
         "precision": 0.7233606557377049,
         "recall": 0.9514824797843666,
         "roc_auc": 0.510223998512873,
         "f1": 0.8218859138533179,
         "type": "tweets",
         "_deepnote_index_column": 35
        },
        {
         "label": "validationDifficulty",
         "model_name": "Prior",
         "date": "2021-03-01T00:00:00.000000",
         "accuracy": 0.7391304347826086,
         "precision": 0,
         "recall": 0,
         "roc_auc": 0.5,
         "f1": 0,
         "type": "tweets",
         "_deepnote_index_column": 36
        },
        {
         "label": "validationDifficulty",
         "model_name": "LR",
         "date": "2021-03-01T00:00:00.000000",
         "accuracy": 0.7252964426877471,
         "precision": 0.34782608695652173,
         "recall": 0.06060606060606061,
         "roc_auc": 0.5102495543672014,
         "f1": 0.1032258064516129,
         "type": "tweets",
         "_deepnote_index_column": 37
        },
        {
         "label": "validationDifficulty",
         "model_name": "RF",
         "date": "2021-03-01T00:00:00.000000",
         "accuracy": 0.7371541501976284,
         "precision": 0,
         "recall": 0,
         "roc_auc": 0.49866310160427807,
         "f1": 0,
         "type": "tweets",
         "_deepnote_index_column": 38
        },
        {
         "label": "validationDifficulty",
         "model_name": "LGBM",
         "date": "2021-03-01T00:00:00.000000",
         "accuracy": 0.7154150197628458,
         "precision": 0.22727272727272727,
         "recall": 0.03787878787878788,
         "roc_auc": 0.4962121212121212,
         "f1": 0.06493506493506494,
         "type": "tweets",
         "_deepnote_index_column": 39
        },
        {
         "label": "is_helpful",
         "model_name": "Prior",
         "date": "2021-03-15T00:00:00.000000",
         "accuracy": 0.5585585585585585,
         "precision": 0,
         "recall": 0,
         "roc_auc": 0.5,
         "f1": 0,
         "type": "notes",
         "_deepnote_index_column": 40
        },
        {
         "label": "is_helpful",
         "model_name": "LR",
         "date": "2021-03-15T00:00:00.000000",
         "accuracy": 0.6246246246246246,
         "precision": 0.5964912280701754,
         "recall": 0.46258503401360546,
         "roc_auc": 0.6076366030283081,
         "f1": 0.521072796934866,
         "type": "notes",
         "_deepnote_index_column": 41
        },
        {
         "label": "is_helpful",
         "model_name": "RF",
         "date": "2021-03-15T00:00:00.000000",
         "accuracy": 0.5915915915915916,
         "precision": 0.6078431372549019,
         "recall": 0.2108843537414966,
         "roc_auc": 0.5516787360105332,
         "f1": 0.31313131313131315,
         "type": "notes",
         "_deepnote_index_column": 42
        },
        {
         "label": "is_helpful",
         "model_name": "LGBM",
         "date": "2021-03-15T00:00:00.000000",
         "accuracy": 0.5945945945945946,
         "precision": 0.5588235294117647,
         "recall": 0.3877551020408163,
         "roc_auc": 0.5729098090849243,
         "f1": 0.4578313253012048,
         "type": "notes",
         "_deepnote_index_column": 43
        },
        {
         "label": "classification",
         "model_name": "Prior",
         "date": "2021-03-15T00:00:00.000000",
         "accuracy": 0.7861915367483296,
         "precision": 0.7861915367483296,
         "recall": 1,
         "roc_auc": 0.5,
         "f1": 0.8802992518703242,
         "type": "tweets",
         "_deepnote_index_column": 44
        },
        {
         "label": "classification",
         "model_name": "LR",
         "date": "2021-03-15T00:00:00.000000",
         "accuracy": 0.8730512249443207,
         "precision": 0.9065934065934066,
         "recall": 0.9348441926345609,
         "roc_auc": 0.790338762983947,
         "f1": 0.9205020920502092,
         "type": "tweets",
         "_deepnote_index_column": 45
        },
        {
         "label": "classification",
         "model_name": "RF",
         "date": "2021-03-15T00:00:00.000000",
         "accuracy": 0.888641425389755,
         "precision": 0.9061662198391421,
         "recall": 0.9575070821529745,
         "roc_auc": 0.7964618744098206,
         "f1": 0.9311294765840221,
         "type": "tweets",
         "_deepnote_index_column": 46
        },
        {
         "label": "classification",
         "model_name": "LGBM",
         "date": "2021-03-15T00:00:00.000000",
         "accuracy": 0.89086859688196,
         "precision": 0.9064171122994652,
         "recall": 0.9603399433427762,
         "roc_auc": 0.7978783050047215,
         "f1": 0.9325997248968364,
         "type": "tweets",
         "_deepnote_index_column": 47
        },
        {
         "label": "believable",
         "model_name": "Prior",
         "date": "2021-03-15T00:00:00.000000",
         "accuracy": 0.8432432432432433,
         "precision": 0.8432432432432433,
         "recall": 1,
         "roc_auc": 0.5,
         "f1": 0.9149560117302054,
         "type": "tweets",
         "_deepnote_index_column": 48
        },
        {
         "label": "believable",
         "model_name": "LR",
         "date": "2021-03-15T00:00:00.000000",
         "accuracy": 0.845945945945946,
         "precision": 0.8474114441416893,
         "recall": 0.9967948717948718,
         "roc_auc": 0.5156388152077807,
         "f1": 0.9160530191458026,
         "type": "tweets",
         "_deepnote_index_column": 49
        },
        {
         "label": "believable",
         "model_name": "RF",
         "date": "2021-03-15T00:00:00.000000",
         "accuracy": 0.8432432432432433,
         "precision": 0.8547486033519553,
         "recall": 0.9807692307692307,
         "roc_auc": 0.5421087533156499,
         "f1": 0.9134328358208955,
         "type": "tweets",
         "_deepnote_index_column": 50
        },
        {
         "label": "believable",
         "model_name": "LGBM",
         "date": "2021-03-15T00:00:00.000000",
         "accuracy": 0.8405405405405405,
         "precision": 0.8543417366946778,
         "recall": 0.9775641025641025,
         "roc_auc": 0.5405061892130857,
         "f1": 0.9118086696562032,
         "type": "tweets",
         "_deepnote_index_column": 51
        },
        {
         "label": "harmful",
         "model_name": "Prior",
         "date": "2021-03-15T00:00:00.000000",
         "accuracy": 0.7055555555555556,
         "precision": 0.7055555555555556,
         "recall": 1,
         "roc_auc": 0.5,
         "f1": 0.8273615635179152,
         "type": "tweets",
         "_deepnote_index_column": 52
        },
        {
         "label": "harmful",
         "model_name": "LR",
         "date": "2021-03-15T00:00:00.000000",
         "accuracy": 0.6944444444444444,
         "precision": 0.7093023255813954,
         "recall": 0.9606299212598425,
         "roc_auc": 0.5086168474223741,
         "f1": 0.8160535117056857,
         "type": "tweets",
         "_deepnote_index_column": 53
        },
        {
         "label": "harmful",
         "model_name": "RF",
         "date": "2021-03-15T00:00:00.000000",
         "accuracy": 0.7194444444444444,
         "precision": 0.7230320699708455,
         "recall": 0.9763779527559056,
         "roc_auc": 0.540075768830783,
         "f1": 0.830820770519263,
         "type": "tweets",
         "_deepnote_index_column": 54
        }
       ],
       "rows_bottom": [
        {
         "label": "classification",
         "model_name": "Prior",
         "date": "2021-08-15T00:00:00.000000",
         "accuracy": 0.9524886877828054,
         "precision": 0.9524886877828054,
         "recall": 1,
         "roc_auc": 0.5,
         "f1": 0.9756662804171494,
         "type": "tweets",
         "_deepnote_index_column": 244
        },
        {
         "label": "classification",
         "model_name": "LR",
         "date": "2021-08-15T00:00:00.000000",
         "accuracy": 0.9457013574660633,
         "precision": 0.9521640091116174,
         "recall": 0.9928741092636579,
         "roc_auc": 0.49643705463182897,
         "f1": 0.972093023255814,
         "type": "tweets",
         "_deepnote_index_column": 245
        },
        {
         "label": "classification",
         "model_name": "RF",
         "date": "2021-08-15T00:00:00.000000",
         "accuracy": 0.9524886877828054,
         "precision": 0.9524886877828054,
         "recall": 1,
         "roc_auc": 0.5,
         "f1": 0.9756662804171494,
         "type": "tweets",
         "_deepnote_index_column": 246
        },
        {
         "label": "classification",
         "model_name": "LGBM",
         "date": "2021-08-15T00:00:00.000000",
         "accuracy": 0.9524886877828054,
         "precision": 0.9524886877828054,
         "recall": 1,
         "roc_auc": 0.5,
         "f1": 0.9756662804171494,
         "type": "tweets",
         "_deepnote_index_column": 247
        },
        {
         "label": "believable",
         "model_name": "Prior",
         "date": "2021-08-15T00:00:00.000000",
         "accuracy": 0.9478458049886621,
         "precision": 0.9478458049886621,
         "recall": 1,
         "roc_auc": 0.5,
         "f1": 0.9732246798603027,
         "type": "tweets",
         "_deepnote_index_column": 248
        },
        {
         "label": "believable",
         "model_name": "LR",
         "date": "2021-08-15T00:00:00.000000",
         "accuracy": 0.9455782312925171,
         "precision": 0.9477272727272728,
         "recall": 0.9976076555023924,
         "roc_auc": 0.4988038277511962,
         "f1": 0.9720279720279721,
         "type": "tweets",
         "_deepnote_index_column": 249
        },
        {
         "label": "believable",
         "model_name": "RF",
         "date": "2021-08-15T00:00:00.000000",
         "accuracy": 0.9478458049886621,
         "precision": 0.9478458049886621,
         "recall": 1,
         "roc_auc": 0.5,
         "f1": 0.9732246798603027,
         "type": "tweets",
         "_deepnote_index_column": 250
        },
        {
         "label": "believable",
         "model_name": "LGBM",
         "date": "2021-08-15T00:00:00.000000",
         "accuracy": 0.9478458049886621,
         "precision": 0.9478458049886621,
         "recall": 1,
         "roc_auc": 0.5,
         "f1": 0.9732246798603027,
         "type": "tweets",
         "_deepnote_index_column": 251
        },
        {
         "label": "harmful",
         "model_name": "Prior",
         "date": "2021-08-15T00:00:00.000000",
         "accuracy": 0.7247706422018348,
         "precision": 0.7247706422018348,
         "recall": 1,
         "roc_auc": 0.5,
         "f1": 0.8404255319148937,
         "type": "tweets",
         "_deepnote_index_column": 252
        },
        {
         "label": "harmful",
         "model_name": "LR",
         "date": "2021-08-15T00:00:00.000000",
         "accuracy": 0.8096330275229358,
         "precision": 0.8057742782152231,
         "recall": 0.9715189873417721,
         "roc_auc": 0.6774261603375527,
         "f1": 0.8809182209469152,
         "type": "tweets",
         "_deepnote_index_column": 253
        },
        {
         "label": "harmful",
         "model_name": "RF",
         "date": "2021-08-15T00:00:00.000000",
         "accuracy": 0.8211009174311926,
         "precision": 0.8051282051282052,
         "recall": 0.9936708860759493,
         "roc_auc": 0.680168776371308,
         "f1": 0.8895184135977338,
         "type": "tweets",
         "_deepnote_index_column": 254
        },
        {
         "label": "harmful",
         "model_name": "LGBM",
         "date": "2021-08-15T00:00:00.000000",
         "accuracy": 0.8073394495412844,
         "precision": 0.8068783068783069,
         "recall": 0.9651898734177216,
         "roc_auc": 0.6784282700421942,
         "f1": 0.8789625360230549,
         "type": "tweets",
         "_deepnote_index_column": 255
        },
        {
         "label": "validationDifficulty",
         "model_name": "Prior",
         "date": "2021-08-15T00:00:00.000000",
         "accuracy": 0.6643356643356644,
         "precision": 0,
         "recall": 0,
         "roc_auc": 0.5,
         "f1": 0,
         "type": "tweets",
         "_deepnote_index_column": 256
        },
        {
         "label": "validationDifficulty",
         "model_name": "LR",
         "date": "2021-08-15T00:00:00.000000",
         "accuracy": 0.752913752913753,
         "precision": 0.9130434782608695,
         "recall": 0.2916666666666667,
         "roc_auc": 0.6388157894736842,
         "f1": 0.4421052631578948,
         "type": "tweets",
         "_deepnote_index_column": 257
        },
        {
         "label": "validationDifficulty",
         "model_name": "RF",
         "date": "2021-08-15T00:00:00.000000",
         "accuracy": 0.7575757575757576,
         "precision": 0.9545454545454546,
         "recall": 0.2916666666666667,
         "roc_auc": 0.6423245614035088,
         "f1": 0.4468085106382979,
         "type": "tweets",
         "_deepnote_index_column": 258
        },
        {
         "label": "validationDifficulty",
         "model_name": "LGBM",
         "date": "2021-08-15T00:00:00.000000",
         "accuracy": 0.7599067599067599,
         "precision": 0.8867924528301887,
         "recall": 0.3263888888888889,
         "roc_auc": 0.6526681286549707,
         "f1": 0.47715736040609136,
         "type": "tweets",
         "_deepnote_index_column": 259
        },
        {
         "label": "is_helpful",
         "model_name": "Prior",
         "date": "2021-09-01T00:00:00.000000",
         "accuracy": 1,
         "precision": 0,
         "recall": 0,
         "roc_auc": "nan",
         "f1": 0,
         "type": "notes",
         "_deepnote_index_column": 260
        },
        {
         "label": "is_helpful",
         "model_name": "LR",
         "date": "2021-09-01T00:00:00.000000",
         "accuracy": 0.9428571428571428,
         "precision": 0,
         "recall": 0,
         "roc_auc": "nan",
         "f1": 0,
         "type": "notes",
         "_deepnote_index_column": 261
        },
        {
         "label": "is_helpful",
         "model_name": "RF",
         "date": "2021-09-01T00:00:00.000000",
         "accuracy": 0.9901098901098901,
         "precision": 0,
         "recall": 0,
         "roc_auc": "nan",
         "f1": 0,
         "type": "notes",
         "_deepnote_index_column": 262
        },
        {
         "label": "is_helpful",
         "model_name": "LGBM",
         "date": "2021-09-01T00:00:00.000000",
         "accuracy": 0.9098901098901099,
         "precision": 0,
         "recall": 0,
         "roc_auc": "nan",
         "f1": 0,
         "type": "notes",
         "_deepnote_index_column": 263
        },
        {
         "label": "classification",
         "model_name": "Prior",
         "date": "2021-09-01T00:00:00.000000",
         "accuracy": 0.7921787709497207,
         "precision": 0.7921787709497207,
         "recall": 1,
         "roc_auc": 0.5,
         "f1": 0.8840399002493765,
         "type": "tweets",
         "_deepnote_index_column": 264
        },
        {
         "label": "classification",
         "model_name": "LR",
         "date": "2021-09-01T00:00:00.000000",
         "accuracy": 0.8983240223463688,
         "precision": 0.9033942558746736,
         "recall": 0.9760225669957687,
         "roc_auc": 0.7890865523150886,
         "f1": 0.9383050847457626,
         "type": "tweets",
         "_deepnote_index_column": 265
        },
        {
         "label": "classification",
         "model_name": "RF",
         "date": "2021-09-01T00:00:00.000000",
         "accuracy": 0.9050279329608939,
         "precision": 0.9051948051948052,
         "recall": 0.9830747531734838,
         "roc_auc": 0.7953008174469569,
         "f1": 0.9425287356321839,
         "type": "tweets",
         "_deepnote_index_column": 266
        },
        {
         "label": "classification",
         "model_name": "LGBM",
         "date": "2021-09-01T00:00:00.000000",
         "accuracy": 0.9050279329608939,
         "precision": 0.9051948051948052,
         "recall": 0.9830747531734838,
         "roc_auc": 0.7953008174469569,
         "f1": 0.9425287356321839,
         "type": "tweets",
         "_deepnote_index_column": 267
        },
        {
         "label": "believable",
         "model_name": "Prior",
         "date": "2021-09-01T00:00:00.000000",
         "accuracy": 0.9165562913907285,
         "precision": 0.9165562913907285,
         "recall": 1,
         "roc_auc": 0.5,
         "f1": 0.9564616447823083,
         "type": "tweets",
         "_deepnote_index_column": 268
        },
        {
         "label": "believable",
         "model_name": "LR",
         "date": "2021-09-01T00:00:00.000000",
         "accuracy": 0.9165562913907285,
         "precision": 0.9176626826029216,
         "recall": 0.9985549132947977,
         "roc_auc": 0.5072139645839069,
         "f1": 0.956401384083045,
         "type": "tweets",
         "_deepnote_index_column": 269
        },
        {
         "label": "believable",
         "model_name": "RF",
         "date": "2021-09-01T00:00:00.000000",
         "accuracy": 0.9245033112582781,
         "precision": 0.9284750337381916,
         "recall": 0.9942196531791907,
         "roc_auc": 0.5764749059546748,
         "f1": 0.9602233077459874,
         "type": "tweets",
         "_deepnote_index_column": 270
        },
        {
         "label": "believable",
         "model_name": "LGBM",
         "date": "2021-09-01T00:00:00.000000",
         "accuracy": 0.9245033112582781,
         "precision": 0.9284750337381916,
         "recall": 0.9942196531791907,
         "roc_auc": 0.5764749059546748,
         "f1": 0.9602233077459874,
         "type": "tweets",
         "_deepnote_index_column": 271
        },
        {
         "label": "harmful",
         "model_name": "Prior",
         "date": "2021-09-01T00:00:00.000000",
         "accuracy": 0.6896551724137931,
         "precision": 0.6896551724137931,
         "recall": 1,
         "roc_auc": 0.5,
         "f1": 0.8163265306122449,
         "type": "tweets",
         "_deepnote_index_column": 272
        },
        {
         "label": "harmful",
         "model_name": "LR",
         "date": "2021-09-01T00:00:00.000000",
         "accuracy": 0.7696551724137931,
         "precision": 0.7597503900156006,
         "recall": 0.974,
         "roc_auc": 0.6447777777777778,
         "f1": 0.8536371603856266,
         "type": "tweets",
         "_deepnote_index_column": 273
        },
        {
         "label": "harmful",
         "model_name": "RF",
         "date": "2021-09-01T00:00:00.000000",
         "accuracy": 0.783448275862069,
         "precision": 0.765891472868217,
         "recall": 0.988,
         "roc_auc": 0.6584444444444444,
         "f1": 0.862882096069869,
         "type": "tweets",
         "_deepnote_index_column": 274
        },
        {
         "label": "harmful",
         "model_name": "LGBM",
         "date": "2021-09-01T00:00:00.000000",
         "accuracy": 0.7917241379310345,
         "precision": 0.7756714060031595,
         "recall": 0.982,
         "roc_auc": 0.6754444444444445,
         "f1": 0.8667255075022066,
         "type": "tweets",
         "_deepnote_index_column": 275
        },
        {
         "label": "validationDifficulty",
         "model_name": "Prior",
         "date": "2021-09-01T00:00:00.000000",
         "accuracy": 0.696551724137931,
         "precision": 0,
         "recall": 0,
         "roc_auc": 0.5,
         "f1": 0,
         "type": "tweets",
         "_deepnote_index_column": 276
        },
        {
         "label": "validationDifficulty",
         "model_name": "LR",
         "date": "2021-09-01T00:00:00.000000",
         "accuracy": 0.7944827586206896,
         "precision": 0.9733333333333334,
         "recall": 0.33181818181818185,
         "roc_auc": 0.6639288928892889,
         "f1": 0.4949152542372882,
         "type": "tweets",
         "_deepnote_index_column": 277
        },
        {
         "label": "validationDifficulty",
         "model_name": "RF",
         "date": "2021-09-01T00:00:00.000000",
         "accuracy": 0.7848275862068965,
         "precision": 0.9705882352941176,
         "recall": 0.3,
         "roc_auc": 0.648019801980198,
         "f1": 0.4583333333333333,
         "type": "tweets",
         "_deepnote_index_column": 278
        },
        {
         "label": "validationDifficulty",
         "model_name": "LGBM",
         "date": "2021-09-01T00:00:00.000000",
         "accuracy": 0.776551724137931,
         "precision": 0.8452380952380952,
         "recall": 0.32272727272727275,
         "roc_auc": 0.6484923492349235,
         "f1": 0.4671052631578947,
         "type": "tweets",
         "_deepnote_index_column": 279
        },
        {
         "label": "is_helpful",
         "model_name": "Prior",
         "date": "2021-09-15T00:00:00.000000",
         "accuracy": 1,
         "precision": 0,
         "recall": 0,
         "roc_auc": "nan",
         "f1": 0,
         "type": "notes",
         "_deepnote_index_column": 280
        },
        {
         "label": "is_helpful",
         "model_name": "LR",
         "date": "2021-09-15T00:00:00.000000",
         "accuracy": 0.9814814814814815,
         "precision": 0,
         "recall": 0,
         "roc_auc": "nan",
         "f1": 0,
         "type": "notes",
         "_deepnote_index_column": 281
        },
        {
         "label": "is_helpful",
         "model_name": "RF",
         "date": "2021-09-15T00:00:00.000000",
         "accuracy": 0.9989106753812637,
         "precision": 0,
         "recall": 0,
         "roc_auc": "nan",
         "f1": 0,
         "type": "notes",
         "_deepnote_index_column": 282
        },
        {
         "label": "is_helpful",
         "model_name": "LGBM",
         "date": "2021-09-15T00:00:00.000000",
         "accuracy": 0.9705882352941176,
         "precision": 0,
         "recall": 0,
         "roc_auc": "nan",
         "f1": 0,
         "type": "notes",
         "_deepnote_index_column": 283
        },
        {
         "label": "classification",
         "model_name": "Prior",
         "date": "2021-09-15T00:00:00.000000",
         "accuracy": 0.925764192139738,
         "precision": 0.925764192139738,
         "recall": 1,
         "roc_auc": 0.5,
         "f1": 0.961451247165533,
         "type": "tweets",
         "_deepnote_index_column": 284
        },
        {
         "label": "classification",
         "model_name": "LR",
         "date": "2021-09-15T00:00:00.000000",
         "accuracy": 0.9184861717612809,
         "precision": 0.9252199413489736,
         "recall": 0.9921383647798742,
         "roc_auc": 0.4960691823899371,
         "f1": 0.9575113808801213,
         "type": "tweets",
         "_deepnote_index_column": 285
        },
        {
         "label": "classification",
         "model_name": "RF",
         "date": "2021-09-15T00:00:00.000000",
         "accuracy": 0.9243085880640466,
         "precision": 0.9256559766763849,
         "recall": 0.9984276729559748,
         "roc_auc": 0.4992138364779874,
         "f1": 0.9606656580937972,
         "type": "tweets",
         "_deepnote_index_column": 286
        },
        {
         "label": "classification",
         "model_name": "LGBM",
         "date": "2021-09-15T00:00:00.000000",
         "accuracy": 0.9243085880640466,
         "precision": 0.9256559766763849,
         "recall": 0.9984276729559748,
         "roc_auc": 0.4992138364779874,
         "f1": 0.9606656580937972,
         "type": "tweets",
         "_deepnote_index_column": 287
        },
        {
         "label": "believable",
         "model_name": "Prior",
         "date": "2021-09-15T00:00:00.000000",
         "accuracy": 0.9467625899280575,
         "precision": 0.9467625899280575,
         "recall": 1,
         "roc_auc": 0.5,
         "f1": 0.9726533628972652,
         "type": "tweets",
         "_deepnote_index_column": 288
        },
        {
         "label": "believable",
         "model_name": "LR",
         "date": "2021-09-15T00:00:00.000000",
         "accuracy": 0.943884892086331,
         "precision": 0.9466089466089466,
         "recall": 0.9969604863221885,
         "roc_auc": 0.49848024316109424,
         "f1": 0.9711324944485566,
         "type": "tweets",
         "_deepnote_index_column": 289
        },
        {
         "label": "believable",
         "model_name": "RF",
         "date": "2021-09-15T00:00:00.000000",
         "accuracy": 0.9467625899280575,
         "precision": 0.9467625899280575,
         "recall": 1,
         "roc_auc": 0.5,
         "f1": 0.9726533628972652,
         "type": "tweets",
         "_deepnote_index_column": 290
        },
        {
         "label": "believable",
         "model_name": "LGBM",
         "date": "2021-09-15T00:00:00.000000",
         "accuracy": 0.9467625899280575,
         "precision": 0.9467625899280575,
         "recall": 1,
         "roc_auc": 0.5,
         "f1": 0.9726533628972652,
         "type": "tweets",
         "_deepnote_index_column": 291
        },
        {
         "label": "harmful",
         "model_name": "Prior",
         "date": "2021-09-15T00:00:00.000000",
         "accuracy": 0.7536231884057971,
         "precision": 0.7536231884057971,
         "recall": 1,
         "roc_auc": 0.5,
         "f1": 0.859504132231405,
         "type": "tweets",
         "_deepnote_index_column": 292
        },
        {
         "label": "harmful",
         "model_name": "LR",
         "date": "2021-09-15T00:00:00.000000",
         "accuracy": 0.8014492753623188,
         "precision": 0.8113821138211382,
         "recall": 0.9596153846153846,
         "roc_auc": 0.638631221719457,
         "f1": 0.8792951541850221,
         "type": "tweets",
         "_deepnote_index_column": 293
        },
        {
         "label": "harmful",
         "model_name": "RF",
         "date": "2021-09-15T00:00:00.000000",
         "accuracy": 0.8130434782608695,
         "precision": 0.8108108108108109,
         "recall": 0.9807692307692307,
         "roc_auc": 0.6403846153846153,
         "f1": 0.8877284595300261,
         "type": "tweets",
         "_deepnote_index_column": 294
        },
        {
         "label": "harmful",
         "model_name": "LGBM",
         "date": "2021-09-15T00:00:00.000000",
         "accuracy": 0.8,
         "precision": 0.8110749185667753,
         "recall": 0.9576923076923077,
         "roc_auc": 0.6376696832579186,
         "f1": 0.8783068783068784,
         "type": "tweets",
         "_deepnote_index_column": 295
        },
        {
         "label": "validationDifficulty",
         "model_name": "Prior",
         "date": "2021-09-15T00:00:00.000000",
         "accuracy": 0.7419354838709677,
         "precision": 0,
         "recall": 0,
         "roc_auc": 0.5,
         "f1": 0,
         "type": "tweets",
         "_deepnote_index_column": 296
        },
        {
         "label": "validationDifficulty",
         "model_name": "LR",
         "date": "2021-09-15T00:00:00.000000",
         "accuracy": 0.7976539589442815,
         "precision": 0.8518518518518519,
         "recall": 0.26136363636363635,
         "roc_auc": 0.6227766798418972,
         "f1": 0.39999999999999997,
         "type": "tweets",
         "_deepnote_index_column": 297
        },
        {
         "label": "validationDifficulty",
         "model_name": "RF",
         "date": "2021-09-15T00:00:00.000000",
         "accuracy": 0.8035190615835777,
         "precision": 0.8888888888888888,
         "recall": 0.2727272727272727,
         "roc_auc": 0.6304347826086956,
         "f1": 0.41739130434782606,
         "type": "tweets",
         "_deepnote_index_column": 298
        },
        {
         "label": "validationDifficulty",
         "model_name": "LGBM",
         "date": "2021-09-15T00:00:00.000000",
         "accuracy": 0.8035190615835777,
         "precision": 0.85,
         "recall": 0.2897727272727273,
         "roc_auc": 0.6359930830039526,
         "f1": 0.43220338983050854,
         "type": "tweets",
         "_deepnote_index_column": 299
        }
       ]
      },
      "text/plain": "                    label model_name       date  accuracy  precision  \\\n0              is_helpful      Prior 2021-02-15  0.656151   0.000000   \n1              is_helpful         LR 2021-02-15  0.585174   0.411067   \n2              is_helpful         RF 2021-02-15  0.649842   0.478723   \n3              is_helpful       LGBM 2021-02-15  0.610410   0.425641   \n4          classification      Prior 2021-02-15  0.817955   0.817955   \n..                    ...        ...        ...       ...        ...   \n295               harmful       LGBM 2021-09-15  0.800000   0.811075   \n296  validationDifficulty      Prior 2021-09-15  0.741935   0.000000   \n297  validationDifficulty         LR 2021-09-15  0.797654   0.851852   \n298  validationDifficulty         RF 2021-09-15  0.803519   0.888889   \n299  validationDifficulty       LGBM 2021-09-15  0.803519   0.850000   \n\n       recall   roc_auc        f1    type  \n0    0.000000  0.500000  0.000000   notes  \n1    0.477064  0.559446  0.441614   notes  \n2    0.206422  0.544317  0.288462   notes  \n3    0.380734  0.555752  0.401937   notes  \n4    1.000000  0.500000  0.899863  tweets  \n..        ...       ...       ...     ...  \n295  0.957692  0.637670  0.878307  tweets  \n296  0.000000  0.500000  0.000000  tweets  \n297  0.261364  0.622777  0.400000  tweets  \n298  0.272727  0.630435  0.417391  tweets  \n299  0.289773  0.635993  0.432203  tweets  \n\n[300 rows x 9 columns]",
      "text/html": "<div>\n<style scoped>\n    .dataframe tbody tr th:only-of-type {\n        vertical-align: middle;\n    }\n\n    .dataframe tbody tr th {\n        vertical-align: top;\n    }\n\n    .dataframe thead th {\n        text-align: right;\n    }\n</style>\n<table border=\"1\" class=\"dataframe\">\n  <thead>\n    <tr style=\"text-align: right;\">\n      <th></th>\n      <th>label</th>\n      <th>model_name</th>\n      <th>date</th>\n      <th>accuracy</th>\n      <th>precision</th>\n      <th>recall</th>\n      <th>roc_auc</th>\n      <th>f1</th>\n      <th>type</th>\n    </tr>\n  </thead>\n  <tbody>\n    <tr>\n      <th>0</th>\n      <td>is_helpful</td>\n      <td>Prior</td>\n      <td>2021-02-15</td>\n      <td>0.656151</td>\n      <td>0.000000</td>\n      <td>0.000000</td>\n      <td>0.500000</td>\n      <td>0.000000</td>\n      <td>notes</td>\n    </tr>\n    <tr>\n      <th>1</th>\n      <td>is_helpful</td>\n      <td>LR</td>\n      <td>2021-02-15</td>\n      <td>0.585174</td>\n      <td>0.411067</td>\n      <td>0.477064</td>\n      <td>0.559446</td>\n      <td>0.441614</td>\n      <td>notes</td>\n    </tr>\n    <tr>\n      <th>2</th>\n      <td>is_helpful</td>\n      <td>RF</td>\n      <td>2021-02-15</td>\n      <td>0.649842</td>\n      <td>0.478723</td>\n      <td>0.206422</td>\n      <td>0.544317</td>\n      <td>0.288462</td>\n      <td>notes</td>\n    </tr>\n    <tr>\n      <th>3</th>\n      <td>is_helpful</td>\n      <td>LGBM</td>\n      <td>2021-02-15</td>\n      <td>0.610410</td>\n      <td>0.425641</td>\n      <td>0.380734</td>\n      <td>0.555752</td>\n      <td>0.401937</td>\n      <td>notes</td>\n    </tr>\n    <tr>\n      <th>4</th>\n      <td>classification</td>\n      <td>Prior</td>\n      <td>2021-02-15</td>\n      <td>0.817955</td>\n      <td>0.817955</td>\n      <td>1.000000</td>\n      <td>0.500000</td>\n      <td>0.899863</td>\n      <td>tweets</td>\n    </tr>\n    <tr>\n      <th>...</th>\n      <td>...</td>\n      <td>...</td>\n      <td>...</td>\n      <td>...</td>\n      <td>...</td>\n      <td>...</td>\n      <td>...</td>\n      <td>...</td>\n      <td>...</td>\n    </tr>\n    <tr>\n      <th>295</th>\n      <td>harmful</td>\n      <td>LGBM</td>\n      <td>2021-09-15</td>\n      <td>0.800000</td>\n      <td>0.811075</td>\n      <td>0.957692</td>\n      <td>0.637670</td>\n      <td>0.878307</td>\n      <td>tweets</td>\n    </tr>\n    <tr>\n      <th>296</th>\n      <td>validationDifficulty</td>\n      <td>Prior</td>\n      <td>2021-09-15</td>\n      <td>0.741935</td>\n      <td>0.000000</td>\n      <td>0.000000</td>\n      <td>0.500000</td>\n      <td>0.000000</td>\n      <td>tweets</td>\n    </tr>\n    <tr>\n      <th>297</th>\n      <td>validationDifficulty</td>\n      <td>LR</td>\n      <td>2021-09-15</td>\n      <td>0.797654</td>\n      <td>0.851852</td>\n      <td>0.261364</td>\n      <td>0.622777</td>\n      <td>0.400000</td>\n      <td>tweets</td>\n    </tr>\n    <tr>\n      <th>298</th>\n      <td>validationDifficulty</td>\n      <td>RF</td>\n      <td>2021-09-15</td>\n      <td>0.803519</td>\n      <td>0.888889</td>\n      <td>0.272727</td>\n      <td>0.630435</td>\n      <td>0.417391</td>\n      <td>tweets</td>\n    </tr>\n    <tr>\n      <th>299</th>\n      <td>validationDifficulty</td>\n      <td>LGBM</td>\n      <td>2021-09-15</td>\n      <td>0.803519</td>\n      <td>0.850000</td>\n      <td>0.289773</td>\n      <td>0.635993</td>\n      <td>0.432203</td>\n      <td>tweets</td>\n    </tr>\n  </tbody>\n</table>\n<p>300 rows × 9 columns</p>\n</div>"
     },
     "metadata": {}
    }
   ],
   "execution_count": null
  },
  {
   "cell_type": "code",
   "metadata": {
    "tags": [],
    "cell_id": "00029-0d29827f-2c3f-41b9-a79f-106ce7d8a477",
    "deepnote_to_be_reexecuted": true,
    "source_hash": "f7f7fde3",
    "execution_start": 1639009297141,
    "execution_millis": 12114,
    "deepnote_output_heights": [
     120.51666259765625
    ],
    "deepnote_cell_type": "code"
   },
   "source": "sns.catplot(\n    data=results_df, y=\"date\", x=\"accuracy\",\n    col='label', hue='model_name',legend=True)\n# plt.xticks(rotation=45)\n# plt.title('Model Accuracy Over Time')\nplt.show()",
   "outputs": [
    {
     "data": {
      "text/plain": "<Figure size 1872.25x360 with 5 Axes>",
      "image/png": "[encoded data removed]"
     },
     "metadata": {
      "needs_background": "light",
      "image/png": {
       "width": 1862,
       "height": 352
      }
     },
     "output_type": "display_data"
    }
   ],
   "execution_count": null
  },
  {
   "cell_type": "code",
   "metadata": {
    "tags": [],
    "cell_id": "00026-6c6455c3-82a5-4550-93ee-448cb739179c",
    "deepnote_to_be_reexecuted": true,
    "source_hash": "5dad443c",
    "execution_start": 1639009312844,
    "execution_millis": 3444,
    "deepnote_output_heights": [
     21.199996948242188,
     125.14999389648438
    ],
    "deepnote_cell_type": "code"
   },
   "source": "sns.catplot(\n    data=tasks_df, y=\"date\", x=\"num_trn\",\n    col='label' ,legend=True)\nplt.show()",
   "outputs": [
    {
     "output_type": "execute_result",
     "execution_count": 89,
     "data": {
      "text/plain": "<seaborn.axisgrid.FacetGrid at 0x7f2f73d6a490>"
     },
     "metadata": {}
    },
    {
     "data": {
      "text/plain": "<Figure size 1800x360 with 5 Axes>",
      "image/png": "[encoded data removed]"
     },
     "metadata": {
      "needs_background": "light",
      "image/png": {
       "width": 1792,
       "height": 352
      }
     },
     "output_type": "display_data"
    }
   ],
   "execution_count": null
  },
  {
   "cell_type": "code",
   "metadata": {
    "tags": [],
    "cell_id": "00032-ce2b899f-4b0f-4eb9-8397-692852ce6710",
    "deepnote_to_be_reexecuted": true,
    "source_hash": "f147fabf",
    "execution_start": 1639009357702,
    "execution_millis": 3182,
    "deepnote_output_heights": [
     125.14999389648438
    ],
    "deepnote_cell_type": "code"
   },
   "source": "sns.catplot(\n    data=tasks_df, y=\"date\", x=\"num_test\",\n    col='label' ,legend=True)\nplt.show()",
   "outputs": [
    {
     "data": {
      "text/plain": "<Figure size 1800x360 with 5 Axes>",
      "image/png": "[encoded data removed]"
     },
     "metadata": {
      "needs_background": "light",
      "image/png": {
       "width": 1792,
       "height": 352
      }
     },
     "output_type": "display_data"
    }
   ],
   "execution_count": null
  },
  {
   "cell_type": "code",
   "metadata": {
    "tags": [],
    "cell_id": "00044-f96d93c6-c126-467f-8ec0-8348e78168f1",
    "deepnote_to_be_reexecuted": true,
    "source_hash": "f803b66c",
    "execution_start": 1639008569347,
    "execution_millis": 11770,
    "deepnote_output_heights": [
     21.199996948242188,
     120.51666259765625
    ],
    "deepnote_cell_type": "code"
   },
   "source": "sns.catplot(\n    data=results_df, y=\"date\", x=\"roc_auc\",\n    col='label', hue='model_name',legend=True)",
   "outputs": [
    {
     "output_type": "execute_result",
     "execution_count": 76,
     "data": {
      "text/plain": "<seaborn.axisgrid.FacetGrid at 0x7f2f75546400>"
     },
     "metadata": {}
    },
    {
     "data": {
      "text/plain": "<Figure size 1872.25x360 with 5 Axes>",
      "image/png": "[encoded data removed]"
     },
     "metadata": {
      "needs_background": "light",
      "image/png": {
       "width": 1862,
       "height": 352
      }
     },
     "output_type": "display_data"
    }
   ],
   "execution_count": null
  },
  {
   "cell_type": "markdown",
   "source": "## Pickle Output for Storage",
   "metadata": {
    "tags": [],
    "is_collapsed": false,
    "cell_id": "00039-7c8f90b6-bae3-41fc-9abe-29445ed1d843",
    "deepnote_cell_type": "text-cell-h2"
   }
  },
  {
   "cell_type": "code",
   "metadata": {
    "tags": [],
    "cell_id": "00034-7fa4883f-32b0-49e9-a9e3-e8f6e7703c09",
    "deepnote_to_be_reexecuted": true,
    "source_hash": "d5148c65",
    "execution_start": 1639008581052,
    "execution_millis": 0,
    "deepnote_cell_type": "code"
   },
   "source": "o = {}\no['results_df'] = results_df\no['tasks_df'] = tasks_df\n\nwith open('predicted.pickle', 'wb') as handle:\n    pickle.dump(o, handle, protocol=pickle.HIGHEST_PROTOCOL)",
   "outputs": [],
   "execution_count": null
  },
  {
   "cell_type": "code",
   "metadata": {
    "tags": [],
    "cell_id": "00054-6b72dc84-f624-4eba-ab9c-41514c68eebf",
    "deepnote_to_be_reexecuted": true,
    "source_hash": "6b92e4d7",
    "execution_start": 1639008581053,
    "execution_millis": 1,
    "deepnote_cell_type": "code"
   },
   "source": "# possible_labels = ['classification', 'believable', 'harmful', 'validationDifficulty']\n\n# def predict_tweets(\n#     X_tweets_mat, y_tweets, test_size=0.25, random_state=0, labels=possible_labels\n# ): \n#     ret = {}\n#     for label in labels:\n#         y_tweets_mat = y_tweets.loc[:, label]\n\n#         X_tweets_m = X_tweets_mat[y_tweets[label] != 'UNCLEAR']\n#         y_tweets_m = y_tweets[y_tweets[label] != 'UNCLEAR'][label].astype('int')\n\n#         X_tweets_train, X_tweets_test, y_tweets_train, y_tweets_test = train_test_split(X_tweets_m, y_tweets_m, test_size=test_size, random_state=random_state)        \n\n#         pipeline_lr = Pipeline([('scalar1',StandardScaler()), ('lr_classifier', LogisticRegression(random_state=random_state))])\n#         pipeline_dt = Pipeline([('scalar2',StandardScaler()), ('dt_classifier', DecisionTreeClassifier(random_state=random_state))])\n#         pipeline_rf = Pipeline([('rf_classifier', RandomForestClassifier(random_state=random_state))])\n\n#         pipeline_gs = Pipeline([('scalar4',StandardScaler()), ('gs_classifier', GaussianNB())])\n#         pipelines = [\n#             pipeline_lr, \n#             pipeline_rf, \n#             #pipeline_dt, \n#             #pipeline_gs\n#         ]\n\n#         best_acc = 0.0\n#         best_classifier = ''\n#         best_improvement = 0\n\n#         pipe_dict = {0: 'Logistic Regression', 1 : \"Random Forest\", 2: \"Tree\", 3: \"Gaussian\"}\n\n#         for pipe in pipelines:\n#             pipe.fit(X_tweets_train, y_tweets_train)\n\n        \n#         # if y_tweets_train.mean() < 0.5:\n#         #     print(\"Guess Most Frequent Label \", 1- y_tweets_train.mean(), 1- y_tweets_test.mean())\n#         # else:\n#         #     print(\"Guess Most Frequent Label \", y_tweets_train.mean(), y_tweets_test.mean())\n#         print(\"=====\")\n#         print(label)\n#         baseline = max(1-y_tweets_test.mean(), y_tweets_test.mean())\n#         print(\"Guess Most Frequent Label on test\", baseline)\n        \n#         for i, model in enumerate(pipelines):\n#             acc = model.score(X_tweets_test, y_tweets_test)\n#             improvement = acc - baseline\n#             print(\"{} Test Accuracy: {}, +{}\".format(pipe_dict[i], acc, improvement))\n\n#             best_improvement = max(best_improvement, improvement)\n#             best_acc = max(best_acc, acc)\n#             best_classifier = pipe_dict[i]\n\n#         print(best_classifier, best_acc, best_improvement)\n#         ret[label] = {\n#             'best_classifier': best_classifier,\n#             'best_improvement': best_improvement * 100,\n#             'best_acc': best_acc * 100\n#         }\n#     return ret\n# def predict_notes(X_notes_mat, y_notes_mat, test_size=0.25, random_state=0):    \n#     X_notes_train, X_notes_test, y_notes_train, y_notes_test = train_test_split(X_notes_mat, y_notes_mat, test_size=test_size, random_state=random_state)\n    \n#     pipeline_lr = Pipeline([('scalar1',StandardScaler()), ('lr_classifier', LogisticRegression(random_state=random_state))])\n#     #pipeline_dt = Pipeline([('scalar2',StandardScaler()), ('dt_classifier', DecisionTreeClassifier(random_state=random_state))])\n#     pipeline_rf = Pipeline([('rf_classifier', RandomForestClassifier(random_state=random_state))])\n\n#     # pipeline_gs = Pipeline([('scalar4',StandardScaler()), ('gs_classifier', GaussianNB())])\n#     pipelines = [\n#         pipeline_lr, \n#         pipeline_rf, \n#         #pipeline_dt, \n        \n#        # pipeline_gs\n#     ]\n\n#     best_acc = 0\n#     best_classifier = ''\n#     best_improvement = 0\n\n#     pipe_dict = {0: 'Logistic Regression', 1 : \"Random Forest\", 2: \"Tree\", 3: \"Gaussian\"}\n\n#     for pipe in pipelines:\n#         pipe.fit(X_notes_train, y_notes_train)\n\n#     print(\"=====\")\n#     print(\"Predicting 'Is note helpful?'\")\n#     baseline = max(1-y_notes_test.mean(), y_notes_test.mean())\n#     print(\"Guess Mode:\", baseline)\n#     for i, model in enumerate(pipelines):\n#         acc = model.score(X_notes_test, y_notes_test)\n#         improvement = acc - baseline\n#         print(\"{} Test Accuracy: {}, +{}\".format(pipe_dict[i], acc, improvement))\n#         if improvement > best_improvement:\n#             best_classifier = pipe_dict[i]\n#         best_improvement = max(best_improvement, improvement)\n#         best_acc = max(best_acc, acc)\n#         print()\n\n#     print(best_classifier, best_acc, best_improvement)\n#     return {\n#         'best_classifier': best_classifier,\n#         'best_improvement': best_improvement * 100,\n#         'best_acc': acc * 100,\n#     }",
   "outputs": [],
   "execution_count": null
  },
  {
   "cell_type": "code",
   "metadata": {
    "tags": [],
    "cell_id": "00048-ce6bca0e-5698-4a38-8c76-c3872eced233",
    "deepnote_to_be_reexecuted": true,
    "source_hash": "57920c04",
    "execution_start": 1639008581054,
    "execution_millis": 0,
    "deepnote_cell_type": "code"
   },
   "source": "# v_diff_results_df = pd.DataFrame([x['validationDifficulty'] for x in tweets_improvements])\n# v_diff_results_df['Time'] = dates\n# sns.lineplot(x=\"Time\", y=\"best_improvement\", data=v_diff_results_df)\n# plt.xticks(rotation=45)\n# plt.title('Model Improvement Over Time - validation difficulty')\n# plt.show()",
   "outputs": [],
   "execution_count": null
  },
  {
   "cell_type": "code",
   "metadata": {
    "tags": [],
    "cell_id": "00033-52acf53e-2243-419e-954a-3f3821fd62e8",
    "deepnote_to_be_reexecuted": true,
    "source_hash": "2705e29e",
    "execution_start": 1639008581055,
    "execution_millis": 0,
    "deepnote_cell_type": "code"
   },
   "source": "# def preprocess_tweets_with_notes(tweets_with_notes, metadata=True, trn_mask=None):\n#     \"\"\"\n#     Take in the tweets data as provided by twitter and output\n#     a \"ready for ML\" version.\n\n#     Args - meant to match the output of the consolidate_files() function\n#         tweetsWithNotes - pandas dataframe joining tweets and their corresponding notes\n#         metadata - boolean for whether or not to include additional information about the text\n\n#     Output\n#         X_tweets_mat - numpy array containing the vectorized version of text data and optionally \n#                        optionally the corresponding metadata\n#         y_tweets - pandas dataframe containing the various y predictors of the tweets data\n#     \"\"\"\n\n#     # vectorize text content and add metadata if specified\n#     if metadata:\n#         docs = nlp.pipe(tweets_with_notes['clean_text_as_str'])\n#         X_tweet_vector = np.array([x.vector for x in docs])\n#         X_tweets_mat = np.concatenate(\n#             [X_tweet_vector, tweets_with_notes[metadata_cols].to_numpy()],\n#             axis=1\n#         )\n#     else:\n#         docs = nlp.pipe(tweets_with_notes['clean_text_as_str'])\n#         X_tweet_vector = np.array([x.vector for x in docs])\n#         X_tweets_mat = pd.DataFrame(X_tweet_vector.tolist(), columns = 'vector').values\n\n#     y_tweets = tweets_with_notes[['classification', 'believable', 'harmful', 'validationDifficulty']]\n\n#     cleanup = {\n#         \"classification\": {\n#             \"MISINFORMED_OR_POTENTIALLY_MISLEADING\": 1, \"NOT_MISLEADING\": 0\n#             },\n#         \"believable\": {\"BELIEVABLE_BY_MANY\": 1, \"BELIEVABLE_BY_FEW\": 0},\n#         \"harmful\": {\"CONSIDERABLE_HARM\": 1, \"LITTLE_HARM\": 0},\n#         \"validationDifficulty\": {\"EASY\": 0, \"CHALLENGING\": 1}\n#     }\n#     y_tweets = y_tweets.astype(str).replace(cleanup)\n    \n#     return X_tweets_mat, y_tweets_df",
   "outputs": [],
   "execution_count": null
  },
  {
   "cell_type": "markdown",
   "source": "<a style='text-decoration:none;line-height:16px;display:flex;color:#5B5B62;padding:10px;justify-content:end;' href='https://deepnote.com?utm_source=created-in-deepnote-cell&projectId=c0e62a2c-7f45-414e-8164-5bf51e09d482' target=\"_blank\">\n<img alt='Created in deepnote.com' style='display:inline;max-height:16px;margin:0px;margin-right:7.5px;' src='data:image/svg+xml;base64,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' > </img>\nCreated in <span style='font-weight:600;margin-left:4px;'>Deepnote</span></a>",
   "metadata": {
    "tags": [],
    "created_in_deepnote_cell": true,
    "deepnote_cell_type": "markdown"
   }
  }
 ],
 "nbformat": 4,
 "nbformat_minor": 2,
 "metadata": {
  "orig_nbformat": 2,
  "deepnote": {
   "is_reactive": false
  },
  "deepnote_notebook_id": "971e4b0f-c6d6-4626-88c8-fae9305acf08",
  "deepnote_execution_queue": []
 }
}