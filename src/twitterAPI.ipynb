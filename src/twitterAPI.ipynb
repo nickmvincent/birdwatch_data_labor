{
 "cells": [
  {
   "cell_type": "markdown",
   "source": "## Tweet Scraper",
   "metadata": {
    "tags": [],
    "cell_id": "00000-e5e699ef-e44c-401c-af26-08c245ae5538",
    "is_collapsed": false,
    "deepnote_cell_type": "text-cell-h2"
   }
  },
  {
   "cell_type": "code",
   "metadata": {
    "tags": [],
    "cell_id": "00000-a8302323-1233-4f3f-b802-1fdd854a5516",
    "deepnote_to_be_reexecuted": false,
    "source_hash": "a3578c5f",
    "execution_start": 1638375838024,
    "execution_millis": 466,
    "deepnote_cell_type": "code"
   },
   "source": "from typing import NamedTuple\nimport tweepy as tw\nimport os\nimport pandas as pd\n# nest_asyncio.apply()\n\nauth = tw.OAuthHandler(os.environ[\"TWITTERAPIKEY\"], os.environ[\"TWITTERAPISECRET\"])\nauth.set_access_token(os.environ[\"ACCESSTOKEN\"], os.environ[\"ACCESSTOKENSECRET\"])\n\napi = tw.API(auth, wait_on_rate_limit=True) \n\n\nnotes = pd.read_csv('notes-2.tsv', sep=\"\\t\")\n\nseen_tweets = pd.read_csv('noted-tweets.csv', sep=\",\")",
   "outputs": [],
   "execution_count": null
  },
  {
   "cell_type": "code",
   "metadata": {
    "tags": [],
    "cell_id": "00001-2a46a2ce-6643-4f21-976c-28d84d0ee594",
    "deepnote_to_be_reexecuted": false,
    "source_hash": "5762c9ab",
    "execution_start": 1638375838507,
    "execution_millis": 22,
    "deepnote_output_heights": [
     21.1875
    ],
    "deepnote_cell_type": "code"
   },
   "source": "len(seen_tweets)",
   "outputs": [
    {
     "output_type": "execute_result",
     "execution_count": 2,
     "data": {
      "text/plain": "12708"
     },
     "metadata": {}
    }
   ],
   "execution_count": null
  },
  {
   "cell_type": "code",
   "metadata": {
    "tags": [],
    "cell_id": "00000-5fca53f9-213e-4a34-9aa1-53b034dac1b8",
    "deepnote_to_be_reexecuted": false,
    "source_hash": "a0b6a4c0",
    "execution_start": 1633067680112,
    "execution_millis": 3,
    "deepnote_cell_type": "code"
   },
   "source": "class Tweet(NamedTuple):\n    id: str\n    username: str\n    text: str\n    time: str\n    link: str\n\ndef getTweet(id):\n    try:\n        tweet = api.get_status(id, tweet_mode=\"extended\")\n        username = tweet.user.screen_name\n        link = \"https://twitter.com/\" + username + \"/status/\" + tweet.id_str\n        output = [tweet.id_str, username, tweet.user.id, tweet.full_text.replace('\\n', ' ').replace('\\t', ''), tweet.created_at, link]\n    except tw.TooManyRequests:\n        time.sleep(15 * 60)\n    except Exception as e:\n        print(\"error: \", e, \" \" + str(id))\n        output = [id, None, None, None, None, None]\n\n    return output\n\n\ndef getTweets(df, batch_size = 100):\n    arr = []   \n    for id in notes[(~notes.tweetId.isin(seen_tweets.tweetId))].tweetId.unique():\n        tweet = getTweet(id)\n        arr.append(tweet)\n        print(len(arr))\n        if len(arr) == batch_size:\n            output = pd.DataFrame(arr, columns=[\"tweetId\", \"username\", \"userId\", \"text\", \"time\", \"link\"])\n            output.to_csv('noted-tweets.csv', mode='a', header=False)\n            arr = []\n    output = pd.DataFrame(arr, columns=[\"tweetId\", \"username\", \"userId\", \"text\", \"time\", \"link\"])\n    # output.to_csv('noted-tweets.csv')\n    output.to_csv('noted-tweets.csv', mode='a', header=False)",
   "outputs": [],
   "execution_count": null
  },
  {
   "cell_type": "code",
   "metadata": {
    "tags": [],
    "cell_id": "00004-95d911f4-ae45-4a0a-b190-936e5e871b02",
    "deepnote_to_be_reexecuted": false,
    "source_hash": "a8954893",
    "execution_start": 1633069735957,
    "execution_millis": 6,
    "deepnote_output_heights": [
     21.1875
    ],
    "deepnote_cell_type": "code"
   },
   "source": "len(notes.tweetId.unique())",
   "outputs": [
    {
     "output_type": "execute_result",
     "execution_count": 9,
     "data": {
      "text/plain": "12470"
     },
     "metadata": {}
    }
   ],
   "execution_count": null
  },
  {
   "cell_type": "code",
   "metadata": {
    "tags": [],
    "cell_id": "00005-a715b016-f559-48d7-aed1-5e0e116f7753",
    "deepnote_to_be_reexecuted": false,
    "source_hash": "542293e",
    "execution_start": 1633067683907,
    "execution_millis": 11,
    "deepnote_output_heights": [
     21.1875
    ],
    "deepnote_cell_type": "code"
   },
   "source": "len(notes[(~notes.tweetId.isin(seen_tweets.tweetId))].tweetId.unique())",
   "outputs": [
    {
     "output_type": "execute_result",
     "execution_count": 6,
     "data": {
      "text/plain": "1305"
     },
     "metadata": {}
    }
   ],
   "execution_count": null
  },
  {
   "cell_type": "code",
   "metadata": {
    "tags": [],
    "cell_id": "00003-dced9abc-5971-4c29-832f-1b6aecc323da",
    "deepnote_to_be_reexecuted": false,
    "source_hash": "f59787f0",
    "execution_start": 1633067688533,
    "execution_millis": 947942,
    "deepnote_cell_type": "code"
   },
   "source": "getTweets(notes)",
   "outputs": [
    {
     "name": "stdout",
     "text": "84\n85\nerror:  403 Forbidden\n63 - User has been suspended.  1429108900473749506\n86\n87\n88\n89\n90\n91\nerror:  403 Forbidden\n63 - User has been suspended.  1439942905234350088\n92\n93\n94\n95\n96\n97\n98\n99\n100\n1\n2\n3\n4\n5\n6\n7\n8\n9\n10\n11\n12\n13\n14\n15\nerror:  404 Not Found\n144 - No status found with that ID.  1413167223074693130\n16\nerror:  404 Not Found\n144 - No status found with that ID.  1428484615602384898\n17\n18\n19\n20\n21\n22\n23\nerror:  404 Not Found\n144 - No status found with that ID.  1431810556596531320\n24\n25\n26\n27\n28\n29\n30\nerror:  404 Not Found\n144 - No status found with that ID.  1436074477859770371\n31\n32\n33\n34\n35\n36\n37\n38\n39\n40\n41\nerror:  403 Forbidden\n63 - User has been suspended.  1437614233559179266\n42\n43\n44\n45\nerror:  404 Not Found\n144 - No status found with that ID.  1436860393167667206\n46\n47\n48\n49\n50\n51\n52\n53\n54\n55\n56\n57\n58\n59\n60\n61\n62\n63\n64\n65\n66\n67\n68\n69\n70\n71\nerror:  404 Not Found\n422 - This Tweet is no longer available because it violated the Twitter Rules.  1440103482086756355\n72\n73\n74\n75\n76\n77\n78\n79\n80\n81\n82\n83\n84\n85\n86\n87\n88\n89\n90\n91\n92\n93\n94\n95\n96\n97\n98\n99\n100\n1\n2\n3\n4\n5\n6\n7\n8\n9\n10\n11\n12\n13\nerror:  403 Forbidden\n63 - User has been suspended.  1435953226147373057\n14\n15\n16\n17\n18\n19\n20\n21\n22\n23\nerror:  404 Not Found\n144 - No status found with that ID.  1431934618794663938\n24\n25\n26\n27\n28\n29\n30\n31\n32\n33\n34\n35\n36\n37\n38\n39\n40\n41\n42\n43\n44\n45\n46\n47\n48\n49\n50\n51\n52\n53\n54\nerror:  404 Not Found\n144 - No status found with that ID.  1439004892081922050\n55\n56\nerror:  404 Not Found\n144 - No status found with that ID.  1406858212700270592\n57\n58\n59\n60\n61\n62\n63\n64\n65\nerror:  404 Not Found\n144 - No status found with that ID.  1428300948540207105\n66\n67\n68\n69\n70\n71\n72\n73\n74\n75\n76\n77\n78\n79\n80\n81\nerror:  404 Not Found\n144 - No status found with that ID.  1435845700298809345\n82\n83\n84\n85\n86\n87\n88\n89\n90\n91\n92\n93\n94\n95\n96\n97\n98\n99\nerror:  403 Forbidden\n179 - Sorry, you are not authorized to see this status.  1433131221228343301\n100\n1\n2\n3\n4\n5\n6\n7\n8\n9\n10\n11\n12\n13\n14\n15\n16\n17\nerror:  404 Not Found\n144 - No status found with that ID.  1404604631108362240\n18\n19\nerror:  404 Not Found\n144 - No status found with that ID.  1406325915781632002\n20\n21\n22\n23\n24\n25\n26\n27\n28\n29\n30\n31\n32\n33\n34\n35\n36\n37\n38\n39\nerror:  404 Not Found\n144 - No status found with that ID.  1440601402426859530\n40\n41\n42\n43\n44\n45\n46\n47\n48\n49\n50\n51\nerror:  403 Forbidden\n63 - User has been suspended.  1422569437140439050\n52\n53\nerror:  404 Not Found\n144 - No status found with that ID.  1440508959270465542\n54\n55\nerror:  403 Forbidden\n63 - User has been suspended.  1405106003465605125\n56\n57\n58\n59\n60\n61\nerror:  403 Forbidden\n63 - User has been suspended.  1408390113369808899\n62\n63\n64\n65\n66\n67\n68\n69\n70\nerror:  404 Not Found\n144 - No status found with that ID.  1412667319873064961\n71\nerror:  403 Forbidden\n63 - User has been suspended.  1413264828421050371\n72\nerror:  403 Forbidden\n63 - User has been suspended.  1413235763743965186\n73\n74\nerror:  404 Not Found\n144 - No status found with that ID.  1414113049066225665\n75\n76\n77\n78\n79\n80\n81\n82\n83\n84\n85\n86\n87\n88\n89\n90\n91\n92\n93\n94\n95\n96\n97\n98\n99\n100\n1\n2\n3\n4\n5\n6\nerror:  403 Forbidden\n63 - User has been suspended.  1422221632970526724\n7\n8\n9\nerror:  404 Not Found\n144 - No status found with that ID.  1423994365589000193\n10\n11\n12\n13\n14\n15\n16\n17\n18\n19\n20\n21\n22\n23\nerror:  403 Forbidden\n63 - User has been suspended.  1425588889847218180\n24\n25\n26\nerror:  403 Forbidden\n63 - User has been suspended.  1425505067629793283\n27\nerror:  404 Not Found\n144 - No status found with that ID.  1427699331776356354\n28\n29\n30\n31\n32\n33\nerror:  403 Forbidden\n63 - User has been suspended.  1429538391926902787\n34\n35\n36\n37\n38\n39\nerror:  404 Not Found\n144 - No status found with that ID.  1432722809923547149\n40\n41\n42\n43\n44\nerror:  404 Not Found\n144 - No status found with that ID.  1439107198953664513\n45\n46\n47\n48\n49\n50\n51\n52\n53\n54\n55\n56\nerror:  403 Forbidden\n63 - User has been suspended.  1440396262784729089\n57\n58\n59\n60\n61\n62\n63\n64\n65\n66\n67\n68\nerror:  403 Forbidden\n63 - User has been suspended.  1416208526150705159\n69\n70\n71\n72\n73\n74\n75\n76\nerror:  403 Forbidden\n63 - User has been suspended.  1417667683248529410\n77\n78\nerror:  403 Forbidden\n63 - User has been suspended.  1418609513301626889\n79\nerror:  404 Not Found\n144 - No status found with that ID.  1418726327813906434\n80\n81\n82\n83\n84\nerror:  403 Forbidden\n63 - User has been suspended.  1418200995415433220\n85\nerror:  403 Forbidden\n63 - User has been suspended.  1417917678640156675\n86\n87\n88\n89\n90\nerror:  403 Forbidden\n63 - User has been suspended.  1419130572895625219\n91\n92\nerror:  403 Forbidden\n63 - User has been suspended.  1419709630821851153\n93\n94\n95\nerror:  403 Forbidden\n63 - User has been suspended.  1420124652886794243\n96\n97\n98\n99\nerror:  403 Forbidden\n63 - User has been suspended.  1419812890714853379\n100\nRate limit reached. Sleeping for: 730\nerror:  403 Forbidden\n63 - User has been suspended.  1419507497174327296\n1\n2\nerror:  403 Forbidden\n63 - User has been suspended.  1420889385503952902\n3\n4\nerror:  403 Forbidden\n63 - User has been suspended.  1420246297039106049\n5\nerror:  403 Forbidden\n63 - User has been suspended.  1420858956990226434\n6\n7\n8\n9\n10\n11\nerror:  403 Forbidden\n63 - User has been suspended.  1421560693858439169\n12\nerror:  403 Forbidden\n63 - User has been suspended.  1421535714123128838\n13\nerror:  403 Forbidden\n63 - User has been suspended.  1421288717562662923\n14\nerror:  403 Forbidden\n63 - User has been suspended.  1420535647429963776\n15\nerror:  404 Not Found\n144 - No status found with that ID.  1421894710642237442\n16\nerror:  404 Not Found\n144 - No status found with that ID.  1421186793819541510\n17\nerror:  403 Forbidden\n63 - User has been suspended.  1421883478522699776\n18\n19\n20\n21\n22\n23\n24\n25\n26\n27\nerror:  403 Forbidden\n63 - User has been suspended.  1422295431011176452\n28\nerror:  403 Forbidden\n63 - User has been suspended.  1423029215520346116\n29\nerror:  403 Forbidden\n63 - User has been suspended.  1423070184588423170\n30\n31\n32\nerror:  403 Forbidden\n63 - User has been suspended.  1424020145240829956\n33\nerror:  403 Forbidden\n63 - User has been suspended.  1423678024084385799\n34\n35\nerror:  403 Forbidden\n63 - User has been suspended.  1423692937314119683\n36\n37\n38\nerror:  403 Forbidden\n63 - User has been suspended.  1423781746013876224\n39\n40\nerror:  403 Forbidden\n63 - User has been suspended.  1424400525995425805\n41\n42\nerror:  403 Forbidden\n63 - User has been suspended.  1423820906984529924\n43\nerror:  403 Forbidden\n63 - User has been suspended.  1424502524921458703\n44\n45\n46\n47\n48\n49\n50\n51\n52\n53\n54\n55\n56\n57\n58\n59\n60\n61\n62\n63\n64\n65\n66\n67\n68\n69\n70\n71\n72\n73\n74\n75\n76\n77\n78\n79\n80\n81\n82\n83\n84\n85\n86\n87\n88\n89\n90\n91\n92\n93\n94\n95\nerror:  403 Forbidden\n63 - User has been suspended.  1428111103247089665\n96\n97\n98\n99\n100\n1\n2\n3\n4\n5\n6\n7\n8\n9\n10\n11\n12\n13\n14\n15\n16\nerror:  403 Forbidden\n63 - User has been suspended.  1428556003105202179\n17\nerror:  404 Not Found\n144 - No status found with that ID.  1428523932223774726\n18\n19\n20\n21\n22\n23\n24\n25\n26\n27\n28\n29\n30\n31\n32\n33\nerror:  404 Not Found\n144 - No status found with that ID.  1420153730893242374\n34\n35\n36\n37\n38\n39\n40\n41\n42\n43\n44\n45\n46\n47\n48\n49\n50\n51\nerror:  404 Not Found\n144 - No status found with that ID.  1431786599239520257\n52\n53\nerror:  404 Not Found\n144 - No status found with that ID.  1432053215063851015\n54\n55\n56\n57\n58\n59\n60\n61\n62\n63\n64\n65\n66\n67\n68\n69\n70\n71\n72\n73\n74\n75\n76\n77\n78\n79\nerror:  404 Not Found\n144 - No status found with that ID.  1430277407269871624\n80\n81\n82\n83\n84\nerror:  404 Not Found\n144 - No status found with that ID.  1433138967969505290\n85\n86\n87\n88\n89\n90\n91\n92\n93\n94\n95\n96\n97\n98\n99\n100\n1\n2\nerror:  404 Not Found\n144 - No status found with that ID.  1433439978483339267\n3\n4\n5\n6\n7\n8\n9\n10\n11\n12\n13\n14\n15\n16\n17\n18\n19\n20\n21\nerror:  404 Not Found\n144 - No status found with that ID.  1433628636196835345\n22\nerror:  404 Not Found\n34 - Sorry, that page does not exist.  1433620075601448967\n23\n24\n25\n26\n27\nerror:  404 Not Found\n144 - No status found with that ID.  1433793689034412068\n28\n29\n30\n31\n32\n33\n34\n35\n36\n37\n38\n39\n40\n41\n42\n43\n44\n45\n46\n47\n48\n49\n50\n51\n52\nerror:  404 Not Found\n144 - No status found with that ID.  1434211277468020745\n53\n54\n55\n56\n57\n58\n59\n60\n61\n62\n63\n64\n65\n66\nerror:  404 Not Found\n144 - No status found with that ID.  1434906112894119943\n67\n68\n69\n70\n71\n72\n73\n74\n75\n76\n77\n78\nerror:  403 Forbidden\n63 - User has been suspended.  1435286745138937861\n79\n80\n81\n82\n83\nerror:  404 Not Found\n144 - No status found with that ID.  1436872960036458498\n84\n85\n86\nerror:  404 Not Found\n34 - Sorry, that page does not exist.  1436454765811179537\n87\n88\n89\n90\n91\n92\n93\n94\n95\n96\n97\n98\nerror:  404 Not Found\n144 - No status found with that ID.  1437549713667067905\n99\n100\n1\n2\n3\n4\n5\n6\n7\n8\n9\n10\n11\n12\n13\n14\n15\n16\n17\n18\n19\n20\n21\n22\n23\n24\n25\n26\n27\n28\n29\n30\n31\n32\n33\n34\n35\n36\n37\n38\n39\n40\n41\n42\n43\n44\n45\n46\n47\n48\n49\n50\n51\n52\n53\n54\n55\nerror:  404 Not Found\n144 - No status found with that ID.  1440058488785231880\n56\n57\n58\n59\n60\n61\n62\n63\n64\n65\n66\n67\n68\n69\n70\n71\n72\n73\n74\n75\n76\n77\n78\n79\n80\n81\n82\n83\n84\n85\nerror:  404 Not Found\n144 - No status found with that ID.  1440002167499378689\n86\n87\n88\n89\n90\n91\n92\nerror:  403 Forbidden\n63 - User has been suspended.  1440362185549500416\n93\n94\n95\n96\n97\n98\n99\n100\n1\n2\n3\n4\n5\n",
     "output_type": "stream"
    }
   ],
   "execution_count": null
  },
  {
   "cell_type": "code",
   "metadata": {
    "tags": [],
    "cell_id": "00009-b06316f4-d619-448a-beb6-62068163373a",
    "deepnote_to_be_reexecuted": false,
    "source_hash": "8558cfbb",
    "execution_start": 1633069726355,
    "execution_millis": 33,
    "deepnote_output_heights": [
     21.1875
    ],
    "deepnote_cell_type": "code"
   },
   "source": "noted_tweets = pd.read_csv('noted-tweets.csv', sep=\",\")\nlen(noted_tweets)",
   "outputs": [
    {
     "output_type": "execute_result",
     "execution_count": 8,
     "data": {
      "text/plain": "12708"
     },
     "metadata": {}
    }
   ],
   "execution_count": null
  },
  {
   "cell_type": "markdown",
   "source": "<a style='text-decoration:none;line-height:16px;display:flex;color:#5B5B62;padding:10px;justify-content:end;' href='https://deepnote.com?utm_source=created-in-deepnote-cell&projectId=c0e62a2c-7f45-414e-8164-5bf51e09d482' target=\"_blank\">\n<img alt='Created in deepnote.com' style='display:inline;max-height:16px;margin:0px;margin-right:7.5px;' src='data:image/svg+xml;base64,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' > </img>\nCreated in <span style='font-weight:600;margin-left:4px;'>Deepnote</span></a>",
   "metadata": {
    "tags": [],
    "created_in_deepnote_cell": true,
    "deepnote_cell_type": "markdown"
   }
  }
 ],
 "nbformat": 4,
 "nbformat_minor": 2,
 "metadata": {
  "orig_nbformat": 2,
  "deepnote": {
   "is_reactive": false
  },
  "deepnote_notebook_id": "0c7c864d-7c44-49b3-ac81-abc8bf9b3bbf",
  "deepnote_execution_queue": []
 }
}