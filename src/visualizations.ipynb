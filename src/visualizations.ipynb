{
 "cells": [
  {
   "cell_type": "markdown",
   "source": "## Import Libraries and Frameworks",
   "metadata": {
    "tags": [],
    "cell_id": "00001-6d243c6b-86fc-4a8a-9213-bfaa090f888d",
    "is_collapsed": false,
    "deepnote_cell_type": "text-cell-h2"
   }
  },
  {
   "cell_type": "code",
   "metadata": {
    "tags": [],
    "cell_id": "00000-5aec9bb5-3194-4e48-bc05-83ec92307c81",
    "deepnote_to_be_reexecuted": false,
    "source_hash": "d32e862a",
    "execution_start": 1639031824228,
    "execution_millis": 2325,
    "deepnote_cell_type": "code"
   },
   "source": "import numpy as np\nimport matplotlib.pyplot as plt\nimport pandas as pd\nimport sklearn\nimport seaborn as sns\nimport pickle\nimport powerlaw\n\nfrom sklearn.model_selection import train_test_split\nfrom sklearn.model_selection import cross_val_score\nfrom sklearn.model_selection import cross_val_predict\nfrom sklearn.linear_model import LogisticRegression\nfrom sklearn.ensemble import RandomForestClassifier\nfrom sklearn.naive_bayes import GaussianNB\nfrom sklearn.svm import LinearSVC\nfrom sklearn.feature_extraction import text\nfrom sklearn.feature_extraction.text import CountVectorizer\nfrom sklearn.feature_extraction.text import TfidfVectorizer\nfrom sklearn.feature_extraction.text import TfidfTransformer\n\nfrom sklearn.model_selection import cross_val_predict\nfrom sklearn.metrics import confusion_matrix\nfrom sklearn.metrics import precision_score, recall_score\nfrom sklearn.metrics import f1_score\nfrom sklearn.metrics import precision_recall_curve\nfrom sklearn.metrics import roc_curve\nfrom sklearn.metrics import roc_auc_score\nfrom sklearn.metrics import classification_report",
   "execution_count": null,
   "outputs": []
  },
  {
   "cell_type": "markdown",
   "source": "## Import Twitter Data",
   "metadata": {
    "tags": [],
    "cell_id": "00002-016dc540-f8ac-4dfe-9ed1-1495eabb768d",
    "is_collapsed": false,
    "deepnote_cell_type": "text-cell-h2"
   }
  },
  {
   "cell_type": "code",
   "metadata": {
    "tags": [],
    "cell_id": "00003-d791148a-6d58-47e0-9fc1-0e96962a123b",
    "deepnote_to_be_reexecuted": false,
    "source_hash": "4074bac",
    "execution_start": 1639031826560,
    "execution_millis": 154,
    "deepnote_cell_type": "code"
   },
   "source": "notes = pd.read_csv('notes.tsv', sep=\"\\t\")\nratings = pd.read_csv('ratings.tsv', sep=\"\\t\")",
   "execution_count": null,
   "outputs": []
  },
  {
   "cell_type": "markdown",
   "source": "## Import Processed Data",
   "metadata": {
    "tags": [],
    "cell_id": "00002-918c46e0-b835-4139-aab5-f02741a33b66",
    "is_collapsed": false,
    "deepnote_cell_type": "text-cell-h2"
   }
  },
  {
   "cell_type": "code",
   "metadata": {
    "tags": [],
    "cell_id": "00001-b080c9f9-bba1-4584-b1a7-e2409bd590ea",
    "deepnote_to_be_reexecuted": false,
    "source_hash": "e717be5d",
    "execution_start": 1639031826721,
    "execution_millis": 1876,
    "deepnote_cell_type": "code"
   },
   "source": "with open('processed-3.pickle', 'rb') as handle:\n    dictionary = pickle.load(handle)",
   "execution_count": null,
   "outputs": []
  },
  {
   "cell_type": "code",
   "metadata": {
    "tags": [],
    "cell_id": "00002-c1ae88cd-46af-4353-8f22-d82d1039d79b",
    "deepnote_to_be_reexecuted": false,
    "source_hash": "edf86057",
    "execution_start": 1639031828603,
    "execution_millis": 11,
    "deepnote_cell_type": "code"
   },
   "source": "notesWithRatings = dictionary['notes 07/01/2021']",
   "execution_count": null,
   "outputs": []
  },
  {
   "cell_type": "markdown",
   "source": "## Count Vectorizer",
   "metadata": {
    "tags": [],
    "cell_id": "00001-7dd637db-ccc6-47ad-a806-021d1f6440a0",
    "is_collapsed": false,
    "deepnote_cell_type": "text-cell-h2"
   }
  },
  {
   "cell_type": "code",
   "metadata": {
    "tags": [],
    "cell_id": "00003-d4509a9e-42c4-4a6c-b1f5-bbc54ed3ceec",
    "deepnote_to_be_reexecuted": false,
    "source_hash": "132ed124",
    "execution_start": 1639031828625,
    "execution_millis": 687,
    "deepnote_cell_type": "code"
   },
   "source": "cvec = CountVectorizer(min_df=.005, max_df=.9, ngram_range=(1,2), tokenizer=lambda doc: doc, lowercase=False)\ncvec.fit(notesWithRatings['clean_summary'])\n\ncvec_counts = cvec.transform(notesWithRatings['clean_summary'])\nprint('sparse matrix shape:', cvec_counts.shape)\nprint('nonzero count:', cvec_counts.nnz)\nprint('sparsity: %.2f%%' % (100.0 * cvec_counts.nnz / (cvec_counts.shape[0] * cvec_counts.shape[1])))",
   "execution_count": null,
   "outputs": [
    {
     "name": "stderr",
     "text": "/shared-libs/python3.8/py/lib/python3.8/site-packages/sklearn/feature_extraction/text.py:516: UserWarning: The parameter 'token_pattern' will not be used since 'tokenizer' is not None'\n  warnings.warn(\nsparse matrix shape: (5231, 523)\nnonzero count: 38811\nsparsity: 1.42%\n",
     "output_type": "stream"
    }
   ]
  },
  {
   "cell_type": "code",
   "metadata": {
    "tags": [],
    "cell_id": "00003-28e1c76a-c352-438b-bc98-93044f2774b0",
    "deepnote_to_be_reexecuted": false,
    "source_hash": "14e3d4d0",
    "execution_start": 1639031829320,
    "execution_millis": 31,
    "deepnote_cell_type": "code"
   },
   "source": "# Instantiating the TfidfTransformer\ntransformer = TfidfTransformer()\n\n# Fitting and transforming n-grams\ntransformed_weights = transformer.fit_transform(cvec_counts)",
   "execution_count": null,
   "outputs": []
  },
  {
   "cell_type": "code",
   "metadata": {
    "tags": [],
    "cell_id": "00004-4047deae-c8eb-405f-a2d1-9036dd62a223",
    "deepnote_to_be_reexecuted": false,
    "source_hash": "dce3f80e",
    "execution_start": 1639031829365,
    "execution_millis": 1671,
    "deepnote_cell_type": "code"
   },
   "source": "# Getting a list of all n-grams\ntransformed_weights = transformed_weights.toarray()\nvocab = cvec.get_feature_names()\n\n# Putting weighted n-grams into a DataFrame and computing some summary statistics\nmodel = pd.DataFrame(transformed_weights, columns=vocab)\nmodel['Keyword'] = model.idxmax(axis=1)\nmodel['Max'] = model.max(axis=1)\nmodel['Sum'] = model.drop('Max', axis=1).sum(axis=1)\n\nmodel = pd.concat([notesWithRatings.reset_index(), model], axis=1)",
   "execution_count": null,
   "outputs": [
    {
     "name": "stderr",
     "text": "/shared-libs/python3.8/py/lib/python3.8/site-packages/sklearn/utils/deprecation.py:87: FutureWarning: Function get_feature_names is deprecated; get_feature_names is deprecated in 1.0 and will be removed in 1.2. Please use get_feature_names_out instead.\n  warnings.warn(msg, category=FutureWarning)\n",
     "output_type": "stream"
    }
   ]
  },
  {
   "cell_type": "markdown",
   "source": "## 25 Top Occurring Words",
   "metadata": {
    "tags": [],
    "cell_id": "00010-564a2194-fe14-4202-95a8-4fff5d09f48d",
    "is_collapsed": false,
    "deepnote_cell_type": "text-cell-h2"
   }
  },
  {
   "cell_type": "code",
   "metadata": {
    "tags": [],
    "cell_id": "00007-5c1b07a9-a27e-4eee-a3c0-dc43bb4b0e8c",
    "deepnote_to_be_reexecuted": false,
    "source_hash": "c180a699",
    "execution_start": 1639031831048,
    "execution_millis": 61,
    "deepnote_cell_type": "code"
   },
   "source": "# Getting a view of the top 25 occurring words\nocc = np.asarray(cvec_counts.sum(axis=0)).ravel().tolist()\ncounts_df = pd.DataFrame({'Term': cvec.get_feature_names(), 'Occurrences': occ})\ncounts_df.sort_values(by='Occurrences', ascending=False).head(25)",
   "execution_count": null,
   "outputs": [
    {
     "output_type": "execute_result",
     "execution_count": 8,
     "data": {
      "application/vnd.deepnote.dataframe.v2+json": {
       "row_count": 25,
       "column_count": 2,
       "columns": [
        {
         "name": "Term",
         "dtype": "object",
         "stats": {
          "unique_count": 25,
          "nan_count": 0,
          "categories": [
           {
            "name": "tweet",
            "count": 1
           },
           {
            "name": "claim",
            "count": 1
           },
           {
            "name": "23 others",
            "count": 23
           }
          ]
         }
        },
        {
         "name": "Occurrences",
         "dtype": "int64",
         "stats": {
          "unique_count": 24,
          "nan_count": 0,
          "min": "201",
          "max": "796",
          "histogram": [
           {
            "bin_start": 201,
            "bin_end": 260.5,
            "count": 8
           },
           {
            "bin_start": 260.5,
            "bin_end": 320,
            "count": 4
           },
           {
            "bin_start": 320,
            "bin_end": 379.5,
            "count": 1
           },
           {
            "bin_start": 379.5,
            "bin_end": 439,
            "count": 5
           },
           {
            "bin_start": 439,
            "bin_end": 498.5,
            "count": 4
           },
           {
            "bin_start": 498.5,
            "bin_end": 558,
            "count": 1
           },
           {
            "bin_start": 558,
            "bin_end": 617.5,
            "count": 1
           },
           {
            "bin_start": 617.5,
            "bin_end": 677,
            "count": 0
           },
           {
            "bin_start": 677,
            "bin_end": 736.5,
            "count": 0
           },
           {
            "bin_start": 736.5,
            "bin_end": 796,
            "count": 1
           }
          ]
         }
        },
        {
         "name": "_deepnote_index_column",
         "dtype": "int64"
        }
       ],
       "rows_top": [
        {
         "Term": "tweet",
         "Occurrences": 796,
         "_deepnote_index_column": 481
        },
        {
         "Term": "claim",
         "Occurrences": 568,
         "_deepnote_index_column": 66
        },
        {
         "Term": "state",
         "Occurrences": 507,
         "_deepnote_index_column": 442
        },
        {
         "Term": "trump",
         "Occurrences": 498,
         "_deepnote_index_column": 476
        },
        {
         "Term": "election",
         "Occurrences": 494,
         "_deepnote_index_column": 136
        },
        {
         "Term": "evidence",
         "Occurrences": 481,
         "_deepnote_index_column": 144
        },
        {
         "Term": "people",
         "Occurrences": 471,
         "_deepnote_index_column": 321
        },
        {
         "Term": "vaccine",
         "Occurrences": 423,
         "_deepnote_index_column": 491
        },
        {
         "Term": "not",
         "Occurrences": 421,
         "_deepnote_index_column": 298
        },
        {
         "Term": "covid",
         "Occurrences": 409,
         "_deepnote_index_column": 97
        },
        {
         "Term": "fact",
         "Occurrences": 388,
         "_deepnote_index_column": 151
        },
        {
         "Term": "source",
         "Occurrences": 385,
         "_deepnote_index_column": 436
        },
        {
         "Term": "biden",
         "Occurrences": 376,
         "_deepnote_index_column": 39
        },
        {
         "Term": "say",
         "Occurrences": 291,
         "_deepnote_index_column": 410
        },
        {
         "Term": "president",
         "Occurrences": 289,
         "_deepnote_index_column": 345
        },
        {
         "Term": "article",
         "Occurrences": 287,
         "_deepnote_index_column": 26
        },
        {
         "Term": "false",
         "Occurrences": 265,
         "_deepnote_index_column": 157
        },
        {
         "Term": "video",
         "Occurrences": 254,
         "_deepnote_index_column": 494
        },
        {
         "Term": "accord",
         "Occurrences": 230,
         "_deepnote_index_column": 0
        },
        {
         "Term": "voter",
         "Occurrences": 219,
         "_deepnote_index_column": 500
        },
        {
         "Term": "vote",
         "Occurrences": 214,
         "_deepnote_index_column": 499
        },
        {
         "Term": "report",
         "Occurrences": 212,
         "_deepnote_index_column": 390
        },
        {
         "Term": "lie",
         "Occurrences": 205,
         "_deepnote_index_column": 253
        },
        {
         "Term": "result",
         "Occurrences": 205,
         "_deepnote_index_column": 398
        },
        {
         "Term": "post",
         "Occurrences": 201,
         "_deepnote_index_column": 340
        }
       ],
       "rows_bottom": null
      },
      "text/plain": "          Term  Occurrences\n481      tweet          796\n66       claim          568\n442      state          507\n476      trump          498\n136   election          494\n144   evidence          481\n321     people          471\n491    vaccine          423\n298        not          421\n97       covid          409\n151       fact          388\n436     source          385\n39       biden          376\n410        say          291\n345  president          289\n26     article          287\n157      false          265\n494      video          254\n0       accord          230\n500      voter          219\n499       vote          214\n390     report          212\n253        lie          205\n398     result          205\n340       post          201",
      "text/html": "<div>\n<style scoped>\n    .dataframe tbody tr th:only-of-type {\n        vertical-align: middle;\n    }\n\n    .dataframe tbody tr th {\n        vertical-align: top;\n    }\n\n    .dataframe thead th {\n        text-align: right;\n    }\n</style>\n<table border=\"1\" class=\"dataframe\">\n  <thead>\n    <tr style=\"text-align: right;\">\n      <th></th>\n      <th>Term</th>\n      <th>Occurrences</th>\n    </tr>\n  </thead>\n  <tbody>\n    <tr>\n      <th>481</th>\n      <td>tweet</td>\n      <td>796</td>\n    </tr>\n    <tr>\n      <th>66</th>\n      <td>claim</td>\n      <td>568</td>\n    </tr>\n    <tr>\n      <th>442</th>\n      <td>state</td>\n      <td>507</td>\n    </tr>\n    <tr>\n      <th>476</th>\n      <td>trump</td>\n      <td>498</td>\n    </tr>\n    <tr>\n      <th>136</th>\n      <td>election</td>\n      <td>494</td>\n    </tr>\n    <tr>\n      <th>144</th>\n      <td>evidence</td>\n      <td>481</td>\n    </tr>\n    <tr>\n      <th>321</th>\n      <td>people</td>\n      <td>471</td>\n    </tr>\n    <tr>\n      <th>491</th>\n      <td>vaccine</td>\n      <td>423</td>\n    </tr>\n    <tr>\n      <th>298</th>\n      <td>not</td>\n      <td>421</td>\n    </tr>\n    <tr>\n      <th>97</th>\n      <td>covid</td>\n      <td>409</td>\n    </tr>\n    <tr>\n      <th>151</th>\n      <td>fact</td>\n      <td>388</td>\n    </tr>\n    <tr>\n      <th>436</th>\n      <td>source</td>\n      <td>385</td>\n    </tr>\n    <tr>\n      <th>39</th>\n      <td>biden</td>\n      <td>376</td>\n    </tr>\n    <tr>\n      <th>410</th>\n      <td>say</td>\n      <td>291</td>\n    </tr>\n    <tr>\n      <th>345</th>\n      <td>president</td>\n      <td>289</td>\n    </tr>\n    <tr>\n      <th>26</th>\n      <td>article</td>\n      <td>287</td>\n    </tr>\n    <tr>\n      <th>157</th>\n      <td>false</td>\n      <td>265</td>\n    </tr>\n    <tr>\n      <th>494</th>\n      <td>video</td>\n      <td>254</td>\n    </tr>\n    <tr>\n      <th>0</th>\n      <td>accord</td>\n      <td>230</td>\n    </tr>\n    <tr>\n      <th>500</th>\n      <td>voter</td>\n      <td>219</td>\n    </tr>\n    <tr>\n      <th>499</th>\n      <td>vote</td>\n      <td>214</td>\n    </tr>\n    <tr>\n      <th>390</th>\n      <td>report</td>\n      <td>212</td>\n    </tr>\n    <tr>\n      <th>253</th>\n      <td>lie</td>\n      <td>205</td>\n    </tr>\n    <tr>\n      <th>398</th>\n      <td>result</td>\n      <td>205</td>\n    </tr>\n    <tr>\n      <th>340</th>\n      <td>post</td>\n      <td>201</td>\n    </tr>\n  </tbody>\n</table>\n</div>"
     },
     "metadata": {}
    }
   ]
  },
  {
   "cell_type": "code",
   "metadata": {
    "tags": [],
    "cell_id": "00008-53db51fa-ae4f-409f-ad9f-cd984afd1961",
    "deepnote_to_be_reexecuted": false,
    "source_hash": "374aef1c",
    "execution_start": 1639031831114,
    "execution_millis": 95,
    "deepnote_cell_type": "code"
   },
   "source": "# Getting a view of the top 25 weights\nweights = np.asarray(transformed_weights.mean(axis=0)).ravel().tolist()\nweights_df = pd.DataFrame({'Term': cvec.get_feature_names(), 'Weight': weights})\nweights_df.sort_values(by='Weight', ascending=False).head(25)",
   "execution_count": null,
   "outputs": [
    {
     "name": "stderr",
     "text": "/shared-libs/python3.8/py/lib/python3.8/site-packages/sklearn/utils/deprecation.py:87: FutureWarning: Function get_feature_names is deprecated; get_feature_names is deprecated in 1.0 and will be removed in 1.2. Please use get_feature_names_out instead.\n  warnings.warn(msg, category=FutureWarning)\n",
     "output_type": "stream"
    },
    {
     "output_type": "execute_result",
     "execution_count": 9,
     "data": {
      "application/vnd.deepnote.dataframe.v2+json": {
       "row_count": 25,
       "column_count": 2,
       "columns": [
        {
         "name": "Term",
         "dtype": "object",
         "stats": {
          "unique_count": 25,
          "nan_count": 0,
          "categories": [
           {
            "name": "tweet",
            "count": 1
           },
           {
            "name": "claim",
            "count": 1
           },
           {
            "name": "23 others",
            "count": 23
           }
          ]
         }
        },
        {
         "name": "Weight",
         "dtype": "float64",
         "stats": {
          "unique_count": 25,
          "nan_count": 0,
          "min": "0.010522515494214969",
          "max": "0.034761277738875114",
          "histogram": [
           {
            "bin_start": 0.010522515494214969,
            "bin_end": 0.012946391718680984,
            "count": 6
           },
           {
            "bin_start": 0.012946391718680984,
            "bin_end": 0.015370267943146998,
            "count": 4
           },
           {
            "bin_start": 0.015370267943146998,
            "bin_end": 0.01779414416761301,
            "count": 3
           },
           {
            "bin_start": 0.01779414416761301,
            "bin_end": 0.020218020392079025,
            "count": 6
           },
           {
            "bin_start": 0.020218020392079025,
            "bin_end": 0.02264189661654504,
            "count": 4
           },
           {
            "bin_start": 0.02264189661654504,
            "bin_end": 0.025065772841011056,
            "count": 0
           },
           {
            "bin_start": 0.025065772841011056,
            "bin_end": 0.027489649065477073,
            "count": 1
           },
           {
            "bin_start": 0.027489649065477073,
            "bin_end": 0.029913525289943087,
            "count": 0
           },
           {
            "bin_start": 0.029913525289943087,
            "bin_end": 0.0323374015144091,
            "count": 0
           },
           {
            "bin_start": 0.0323374015144091,
            "bin_end": 0.034761277738875114,
            "count": 1
           }
          ]
         }
        },
        {
         "name": "_deepnote_index_column",
         "dtype": "int64"
        }
       ],
       "rows_top": [
        {
         "Term": "tweet",
         "Weight": 0.034761277738875114,
         "_deepnote_index_column": 481
        },
        {
         "Term": "claim",
         "Weight": 0.026566573493869042,
         "_deepnote_index_column": 66
        },
        {
         "Term": "not",
         "Weight": 0.021453814084203333,
         "_deepnote_index_column": 298
        },
        {
         "Term": "people",
         "Weight": 0.02113149937170827,
         "_deepnote_index_column": 321
        },
        {
         "Term": "evidence",
         "Weight": 0.02047732923905912,
         "_deepnote_index_column": 144
        },
        {
         "Term": "vaccine",
         "Weight": 0.020370884542568485,
         "_deepnote_index_column": 491
        },
        {
         "Term": "fact",
         "Weight": 0.019632667696106616,
         "_deepnote_index_column": 151
        },
        {
         "Term": "trump",
         "Weight": 0.01889883573450768,
         "_deepnote_index_column": 476
        },
        {
         "Term": "state",
         "Weight": 0.018641337094397168,
         "_deepnote_index_column": 442
        },
        {
         "Term": "biden",
         "Weight": 0.018314747192101355,
         "_deepnote_index_column": 39
        },
        {
         "Term": "covid",
         "Weight": 0.01822593560527064,
         "_deepnote_index_column": 97
        },
        {
         "Term": "election",
         "Weight": 0.01802883378459191,
         "_deepnote_index_column": 136
        },
        {
         "Term": "source",
         "Weight": 0.01647742168714747,
         "_deepnote_index_column": 436
        },
        {
         "Term": "say",
         "Weight": 0.01573984188290889,
         "_deepnote_index_column": 410
        },
        {
         "Term": "false",
         "Weight": 0.015608520967757531,
         "_deepnote_index_column": 157
        },
        {
         "Term": "lie",
         "Weight": 0.014992672109336632,
         "_deepnote_index_column": 253
        },
        {
         "Term": "article",
         "Weight": 0.014893533463412644,
         "_deepnote_index_column": 26
        },
        {
         "Term": "video",
         "Weight": 0.014527865980541156,
         "_deepnote_index_column": 494
        },
        {
         "Term": "president",
         "Weight": 0.0140372918717182,
         "_deepnote_index_column": 345
        },
        {
         "Term": "report",
         "Weight": 0.01186240496912898,
         "_deepnote_index_column": 390
        },
        {
         "Term": "vote",
         "Weight": 0.011765704588845929,
         "_deepnote_index_column": 499
        },
        {
         "Term": "post",
         "Weight": 0.011119172452851253,
         "_deepnote_index_column": 340
        },
        {
         "Term": "account",
         "Weight": 0.01060301964795294,
         "_deepnote_index_column": 2
        },
        {
         "Term": "cause",
         "Weight": 0.010578043493852921,
         "_deepnote_index_column": 56
        },
        {
         "Term": "image",
         "Weight": 0.010522515494214969,
         "_deepnote_index_column": 211
        }
       ],
       "rows_bottom": null
      },
      "text/plain": "          Term    Weight\n481      tweet  0.034761\n66       claim  0.026567\n298        not  0.021454\n321     people  0.021131\n144   evidence  0.020477\n491    vaccine  0.020371\n151       fact  0.019633\n476      trump  0.018899\n442      state  0.018641\n39       biden  0.018315\n97       covid  0.018226\n136   election  0.018029\n436     source  0.016477\n410        say  0.015740\n157      false  0.015609\n253        lie  0.014993\n26     article  0.014894\n494      video  0.014528\n345  president  0.014037\n390     report  0.011862\n499       vote  0.011766\n340       post  0.011119\n2      account  0.010603\n56       cause  0.010578\n211      image  0.010523",
      "text/html": "<div>\n<style scoped>\n    .dataframe tbody tr th:only-of-type {\n        vertical-align: middle;\n    }\n\n    .dataframe tbody tr th {\n        vertical-align: top;\n    }\n\n    .dataframe thead th {\n        text-align: right;\n    }\n</style>\n<table border=\"1\" class=\"dataframe\">\n  <thead>\n    <tr style=\"text-align: right;\">\n      <th></th>\n      <th>Term</th>\n      <th>Weight</th>\n    </tr>\n  </thead>\n  <tbody>\n    <tr>\n      <th>481</th>\n      <td>tweet</td>\n      <td>0.034761</td>\n    </tr>\n    <tr>\n      <th>66</th>\n      <td>claim</td>\n      <td>0.026567</td>\n    </tr>\n    <tr>\n      <th>298</th>\n      <td>not</td>\n      <td>0.021454</td>\n    </tr>\n    <tr>\n      <th>321</th>\n      <td>people</td>\n      <td>0.021131</td>\n    </tr>\n    <tr>\n      <th>144</th>\n      <td>evidence</td>\n      <td>0.020477</td>\n    </tr>\n    <tr>\n      <th>491</th>\n      <td>vaccine</td>\n      <td>0.020371</td>\n    </tr>\n    <tr>\n      <th>151</th>\n      <td>fact</td>\n      <td>0.019633</td>\n    </tr>\n    <tr>\n      <th>476</th>\n      <td>trump</td>\n      <td>0.018899</td>\n    </tr>\n    <tr>\n      <th>442</th>\n      <td>state</td>\n      <td>0.018641</td>\n    </tr>\n    <tr>\n      <th>39</th>\n      <td>biden</td>\n      <td>0.018315</td>\n    </tr>\n    <tr>\n      <th>97</th>\n      <td>covid</td>\n      <td>0.018226</td>\n    </tr>\n    <tr>\n      <th>136</th>\n      <td>election</td>\n      <td>0.018029</td>\n    </tr>\n    <tr>\n      <th>436</th>\n      <td>source</td>\n      <td>0.016477</td>\n    </tr>\n    <tr>\n      <th>410</th>\n      <td>say</td>\n      <td>0.015740</td>\n    </tr>\n    <tr>\n      <th>157</th>\n      <td>false</td>\n      <td>0.015609</td>\n    </tr>\n    <tr>\n      <th>253</th>\n      <td>lie</td>\n      <td>0.014993</td>\n    </tr>\n    <tr>\n      <th>26</th>\n      <td>article</td>\n      <td>0.014894</td>\n    </tr>\n    <tr>\n      <th>494</th>\n      <td>video</td>\n      <td>0.014528</td>\n    </tr>\n    <tr>\n      <th>345</th>\n      <td>president</td>\n      <td>0.014037</td>\n    </tr>\n    <tr>\n      <th>390</th>\n      <td>report</td>\n      <td>0.011862</td>\n    </tr>\n    <tr>\n      <th>499</th>\n      <td>vote</td>\n      <td>0.011766</td>\n    </tr>\n    <tr>\n      <th>340</th>\n      <td>post</td>\n      <td>0.011119</td>\n    </tr>\n    <tr>\n      <th>2</th>\n      <td>account</td>\n      <td>0.010603</td>\n    </tr>\n    <tr>\n      <th>56</th>\n      <td>cause</td>\n      <td>0.010578</td>\n    </tr>\n    <tr>\n      <th>211</th>\n      <td>image</td>\n      <td>0.010523</td>\n    </tr>\n  </tbody>\n</table>\n</div>"
     },
     "metadata": {}
    }
   ]
  },
  {
   "cell_type": "code",
   "metadata": {
    "tags": [],
    "cell_id": "00010-bbe876e7-eacd-491b-9eb5-dc66af9e893c",
    "deepnote_to_be_reexecuted": false,
    "source_hash": "780b309",
    "execution_start": 1639031831208,
    "execution_millis": 365,
    "deepnote_output_heights": [
     null,
     335
    ],
    "deepnote_cell_type": "code"
   },
   "source": "# Plotting overall value counts of helpful categories\nfig = plt.figure(figsize = (10,5))\nsns.countplot(x='helpful', data = model).set_title('Helpfulness Count')\n\nprint(notesWithRatings['helpful'].value_counts())",
   "execution_count": null,
   "outputs": [
    {
     "name": "stdout",
     "text": "2.0    2145\n1.0    2065\n0.0    1021\nName: helpful, dtype: int64\n",
     "output_type": "stream"
    },
    {
     "data": {
      "text/plain": "<Figure size 720x360 with 1 Axes>",
      "image/png": "[encoded data removed]"
     },
     "metadata": {
      "needs_background": "light",
      "image/png": {
       "width": 618,
       "height": 333
      }
     },
     "output_type": "display_data"
    }
   ]
  },
  {
   "cell_type": "code",
   "metadata": {
    "tags": [],
    "cell_id": "00011-2aab9c33-94ab-4799-8352-7ddc70fb26e1",
    "deepnote_to_be_reexecuted": false,
    "source_hash": "6f0bccc5",
    "execution_start": 1639031831578,
    "execution_millis": 2960,
    "deepnote_output_heights": [
     98,
     210
    ],
    "deepnote_cell_type": "code"
   },
   "source": "# Visualizing value counts of helpful compared to their polarity and subjectivity scores.\ng = sns.FacetGrid(model, col=\"helpful\", col_order=[2, 1, 0])\ng = g.map(plt.hist, \"polarity\", bins=20, color=\"g\")\n\nrecommend = model.groupby(['helpful'])\nrecommend['has_links'].mean()",
   "execution_count": null,
   "outputs": [
    {
     "output_type": "execute_result",
     "execution_count": 11,
     "data": {
      "text/plain": "helpful\n0.0    0.319295\n1.0    0.535593\n2.0    0.811655\nName: has_links, dtype: float64"
     },
     "metadata": {}
    },
    {
     "data": {
      "text/plain": "<Figure size 648x216 with 3 Axes>",
      "image/png": "[encoded data removed]"
     },
     "metadata": {
      "needs_background": "light",
      "image/png": {
       "width": 640,
       "height": 208
      }
     },
     "output_type": "display_data"
    }
   ]
  },
  {
   "cell_type": "code",
   "metadata": {
    "tags": [],
    "cell_id": "00012-2af5f798-a4d1-4ce1-b2ce-650061a1148c",
    "deepnote_to_be_reexecuted": false,
    "source_hash": "d057228a",
    "execution_start": 1639031834549,
    "execution_millis": 1482,
    "deepnote_output_heights": [
     98,
     210
    ],
    "deepnote_cell_type": "code"
   },
   "source": "g = g.map(plt.hist, \"subjectivity\", bins=20, color=\"g\")\nrecommend['subjectivity'].mean()",
   "execution_count": null,
   "outputs": [
    {
     "output_type": "execute_result",
     "execution_count": 12,
     "data": {
      "text/plain": "helpful\n0.0    0.325657\n1.0    0.318451\n2.0    0.341472\nName: subjectivity, dtype: float64"
     },
     "metadata": {}
    },
    {
     "data": {
      "text/plain": "<Figure size 648x216 with 3 Axes>",
      "image/png": "[encoded data removed]"
     },
     "metadata": {
      "needs_background": "light",
      "image/png": {
       "width": 640,
       "height": 208
      }
     },
     "output_type": "display_data"
    }
   ]
  },
  {
   "cell_type": "code",
   "metadata": {
    "tags": [],
    "cell_id": "00013-e0b671f2-a18a-457c-84ca-a4cbd510ca5f",
    "deepnote_to_be_reexecuted": false,
    "source_hash": "2472164",
    "execution_start": 1639031836044,
    "execution_millis": 461,
    "deepnote_output_heights": [
     21.1875,
     286
    ],
    "deepnote_cell_type": "code"
   },
   "source": "recommend['has_links'].mean().plot(kind='bar', yticks=np.arange(0, 1, 0.1), ylabel=\"mean has_links\").set_title('Links vs. helpfulness score')",
   "execution_count": null,
   "outputs": [
    {
     "output_type": "execute_result",
     "execution_count": 13,
     "data": {
      "text/plain": "Text(0.5, 1.0, 'Links vs. helpfulness score')"
     },
     "metadata": {}
    },
    {
     "data": {
      "text/plain": "<Figure size 432x288 with 1 Axes>",
      "image/png": "[encoded data removed]"
     },
     "metadata": {
      "needs_background": "light",
      "image/png": {
       "width": 386,
       "height": 284
      }
     },
     "output_type": "display_data"
    }
   ]
  },
  {
   "cell_type": "code",
   "metadata": {
    "tags": [],
    "cell_id": "00015-50ab7df4-a686-450a-9712-41ca1ca6b0a5",
    "deepnote_to_be_reexecuted": false,
    "source_hash": "952474b6",
    "execution_start": 1639031836507,
    "execution_millis": 27,
    "deepnote_cell_type": "code"
   },
   "source": "X = model.drop(model.columns[:54], axis=1)\nX = X.drop(['Keyword', 'Max', 'Sum', 'clean_summary_as_str'], axis=1)\ny_helpful = model['helpful'] == 2",
   "execution_count": null,
   "outputs": []
  },
  {
   "cell_type": "code",
   "metadata": {
    "tags": [],
    "cell_id": "00019-ba1702c3-e3ce-43b4-a383-5a78b6592025",
    "deepnote_to_be_reexecuted": false,
    "source_hash": "b2696ff6",
    "execution_start": 1639031836541,
    "execution_millis": 768,
    "deepnote_cell_type": "code"
   },
   "source": "X",
   "execution_count": null,
   "outputs": [
    {
     "output_type": "execute_result",
     "execution_count": 15,
     "data": {
      "application/vnd.deepnote.dataframe.v2+json": {
       "row_count": 5231,
       "column_count": 522,
       "columns": [
        {
         "name": "accord",
         "dtype": "float64",
         "stats": {
          "unique_count": 84,
          "nan_count": 0,
          "min": "0.0",
          "max": "0.6896577480653836",
          "histogram": [
           {
            "bin_start": 0,
            "bin_end": 0.06896577480653836,
            "count": 5001
           },
           {
            "bin_start": 0.06896577480653836,
            "bin_end": 0.13793154961307671,
            "count": 126
           },
           {
            "bin_start": 0.13793154961307671,
            "bin_end": 0.20689732441961506,
            "count": 28
           },
           {
            "bin_start": 0.20689732441961506,
            "bin_end": 0.27586309922615343,
            "count": 28
           },
           {
            "bin_start": 0.27586309922615343,
            "bin_end": 0.3448288740326918,
            "count": 27
           },
           {
            "bin_start": 0.3448288740326918,
            "bin_end": 0.4137946488392301,
            "count": 12
           },
           {
            "bin_start": 0.4137946488392301,
            "bin_end": 0.4827604236457685,
            "count": 4
           },
           {
            "bin_start": 0.4827604236457685,
            "bin_end": 0.5517261984523069,
            "count": 2
           },
           {
            "bin_start": 0.5517261984523069,
            "bin_end": 0.6206919732588452,
            "count": 1
           },
           {
            "bin_start": 0.6206919732588452,
            "bin_end": 0.6896577480653836,
            "count": 2
           }
          ]
         }
        },
        {
         "name": "accord numerous",
         "dtype": "float64",
         "stats": {
          "unique_count": 3,
          "nan_count": 0,
          "min": "0.0",
          "max": "0.3243474871321748",
          "histogram": [
           {
            "bin_start": 0,
            "bin_end": 0.032434748713217484,
            "count": 5104
           },
           {
            "bin_start": 0.032434748713217484,
            "bin_end": 0.06486949742643497,
            "count": 0
           },
           {
            "bin_start": 0.06486949742643497,
            "bin_end": 0.09730424613965245,
            "count": 0
           },
           {
            "bin_start": 0.09730424613965245,
            "bin_end": 0.12973899485286994,
            "count": 0
           },
           {
            "bin_start": 0.12973899485286994,
            "bin_end": 0.16217374356608744,
            "count": 126
           },
           {
            "bin_start": 0.16217374356608744,
            "bin_end": 0.1946084922793049,
            "count": 0
           },
           {
            "bin_start": 0.1946084922793049,
            "bin_end": 0.22704324099252238,
            "count": 0
           },
           {
            "bin_start": 0.22704324099252238,
            "bin_end": 0.2594779897057399,
            "count": 0
           },
           {
            "bin_start": 0.2594779897057399,
            "bin_end": 0.2919127384189574,
            "count": 0
           },
           {
            "bin_start": 0.2919127384189574,
            "bin_end": 0.3243474871321748,
            "count": 1
           }
          ]
         }
        },
        {
         "name": "account",
         "dtype": "float64",
         "stats": {
          "unique_count": 135,
          "nan_count": 0,
          "min": "0.0",
          "max": "0.8554439811942322",
          "histogram": [
           {
            "bin_start": 0,
            "bin_end": 0.08554439811942322,
            "count": 5089
           },
           {
            "bin_start": 0.08554439811942322,
            "bin_end": 0.17108879623884643,
            "count": 1
           },
           {
            "bin_start": 0.17108879623884643,
            "bin_end": 0.25663319435826965,
            "count": 27
           },
           {
            "bin_start": 0.25663319435826965,
            "bin_end": 0.34217759247769286,
            "count": 44
           },
           {
            "bin_start": 0.34217759247769286,
            "bin_end": 0.4277219905971161,
            "count": 25
           },
           {
            "bin_start": 0.4277219905971161,
            "bin_end": 0.5132663887165393,
            "count": 15
           },
           {
            "bin_start": 0.5132663887165393,
            "bin_end": 0.5988107868359624,
            "count": 9
           },
           {
            "bin_start": 0.5988107868359624,
            "bin_end": 0.6843551849553857,
            "count": 12
           },
           {
            "bin_start": 0.6843551849553857,
            "bin_end": 0.769899583074809,
            "count": 4
           },
           {
            "bin_start": 0.769899583074809,
            "bin_end": 0.8554439811942322,
            "count": 5
           }
          ]
         }
        },
        {
         "name": "accurate",
         "dtype": "float64",
         "stats": {
          "unique_count": 31,
          "nan_count": 0,
          "min": "0.0",
          "max": "1.0",
          "histogram": [
           {
            "bin_start": 0,
            "bin_end": 0.1,
            "count": 5201
           },
           {
            "bin_start": 0.1,
            "bin_end": 0.2,
            "count": 0
           },
           {
            "bin_start": 0.2,
            "bin_end": 0.30000000000000004,
            "count": 3
           },
           {
            "bin_start": 0.30000000000000004,
            "bin_end": 0.4,
            "count": 14
           },
           {
            "bin_start": 0.4,
            "bin_end": 0.5,
            "count": 6
           },
           {
            "bin_start": 0.5,
            "bin_end": 0.6000000000000001,
            "count": 6
           },
           {
            "bin_start": 0.6000000000000001,
            "bin_end": 0.7000000000000001,
            "count": 0
           },
           {
            "bin_start": 0.7000000000000001,
            "bin_end": 0.8,
            "count": 0
           },
           {
            "bin_start": 0.8,
            "bin_end": 0.9,
            "count": 0
           },
           {
            "bin_start": 0.9,
            "bin_end": 1,
            "count": 1
           }
          ]
         }
        },
        {
         "name": "act",
         "dtype": "float64",
         "stats": {
          "unique_count": 72,
          "nan_count": 0,
          "min": "0.0",
          "max": "0.7212825102182016",
          "histogram": [
           {
            "bin_start": 0,
            "bin_end": 0.07212825102182016,
            "count": 5159
           },
           {
            "bin_start": 0.07212825102182016,
            "bin_end": 0.14425650204364032,
            "count": 0
           },
           {
            "bin_start": 0.14425650204364032,
            "bin_end": 0.21638475306546048,
            "count": 3
           },
           {
            "bin_start": 0.21638475306546048,
            "bin_end": 0.28851300408728064,
            "count": 16
           },
           {
            "bin_start": 0.28851300408728064,
            "bin_end": 0.36064125510910083,
            "count": 17
           },
           {
            "bin_start": 0.36064125510910083,
            "bin_end": 0.43276950613092097,
            "count": 12
           },
           {
            "bin_start": 0.43276950613092097,
            "bin_end": 0.5048977571527411,
            "count": 12
           },
           {
            "bin_start": 0.5048977571527411,
            "bin_end": 0.5770260081745613,
            "count": 3
           },
           {
            "bin_start": 0.5770260081745613,
            "bin_end": 0.6491542591963815,
            "count": 6
           },
           {
            "bin_start": 0.6491542591963815,
            "bin_end": 0.7212825102182016,
            "count": 3
           }
          ]
         }
        },
        {
         "name": "action",
         "dtype": "float64",
         "stats": {
          "unique_count": 59,
          "nan_count": 0,
          "min": "0.0",
          "max": "0.6965299282430989",
          "histogram": [
           {
            "bin_start": 0,
            "bin_end": 0.0696529928243099,
            "count": 5173
           },
           {
            "bin_start": 0.0696529928243099,
            "bin_end": 0.1393059856486198,
            "count": 0
           },
           {
            "bin_start": 0.1393059856486198,
            "bin_end": 0.20895897847292969,
            "count": 0
           },
           {
            "bin_start": 0.20895897847292969,
            "bin_end": 0.2786119712972396,
            "count": 10
           },
           {
            "bin_start": 0.2786119712972396,
            "bin_end": 0.3482649641215495,
            "count": 20
           },
           {
            "bin_start": 0.3482649641215495,
            "bin_end": 0.41791795694585937,
            "count": 14
           },
           {
            "bin_start": 0.41791795694585937,
            "bin_end": 0.48757094977016924,
            "count": 6
           },
           {
            "bin_start": 0.48757094977016924,
            "bin_end": 0.5572239425944792,
            "count": 1
           },
           {
            "bin_start": 0.5572239425944792,
            "bin_end": 0.6268769354187891,
            "count": 5
           },
           {
            "bin_start": 0.6268769354187891,
            "bin_end": 0.6965299282430989,
            "count": 2
           }
          ]
         }
        },
        {
         "name": "actual",
         "dtype": "float64",
         "stats": {
          "unique_count": 79,
          "nan_count": 0,
          "min": "0.0",
          "max": "1.0",
          "histogram": [
           {
            "bin_start": 0,
            "bin_end": 0.1,
            "count": 5153
           },
           {
            "bin_start": 0.1,
            "bin_end": 0.2,
            "count": 2
           },
           {
            "bin_start": 0.2,
            "bin_end": 0.30000000000000004,
            "count": 20
           },
           {
            "bin_start": 0.30000000000000004,
            "bin_end": 0.4,
            "count": 25
           },
           {
            "bin_start": 0.4,
            "bin_end": 0.5,
            "count": 16
           },
           {
            "bin_start": 0.5,
            "bin_end": 0.6000000000000001,
            "count": 6
           },
           {
            "bin_start": 0.6000000000000001,
            "bin_end": 0.7000000000000001,
            "count": 5
           },
           {
            "bin_start": 0.7000000000000001,
            "bin_end": 0.8,
            "count": 3
           },
           {
            "bin_start": 0.8,
            "bin_end": 0.9,
            "count": 0
           },
           {
            "bin_start": 0.9,
            "bin_end": 1,
            "count": 1
           }
          ]
         }
        },
        {
         "name": "actually",
         "dtype": "float64",
         "stats": {
          "unique_count": 90,
          "nan_count": 0,
          "min": "0.0",
          "max": "1.0",
          "histogram": [
           {
            "bin_start": 0,
            "bin_end": 0.1,
            "count": 5141
           },
           {
            "bin_start": 0.1,
            "bin_end": 0.2,
            "count": 1
           },
           {
            "bin_start": 0.2,
            "bin_end": 0.30000000000000004,
            "count": 26
           },
           {
            "bin_start": 0.30000000000000004,
            "bin_end": 0.4,
            "count": 29
           },
           {
            "bin_start": 0.4,
            "bin_end": 0.5,
            "count": 18
           },
           {
            "bin_start": 0.5,
            "bin_end": 0.6000000000000001,
            "count": 7
           },
           {
            "bin_start": 0.6000000000000001,
            "bin_end": 0.7000000000000001,
            "count": 6
           },
           {
            "bin_start": 0.7000000000000001,
            "bin_end": 0.8,
            "count": 0
           },
           {
            "bin_start": 0.8,
            "bin_end": 0.9,
            "count": 1
           },
           {
            "bin_start": 0.9,
            "bin_end": 1,
            "count": 2
           }
          ]
         }
        },
        {
         "name": "add",
         "dtype": "float64",
         "stats": {
          "unique_count": 36,
          "nan_count": 0,
          "min": "0.0",
          "max": "0.8882748847817439",
          "histogram": [
           {
            "bin_start": 0,
            "bin_end": 0.08882748847817439,
            "count": 5191
           },
           {
            "bin_start": 0.08882748847817439,
            "bin_end": 0.17765497695634877,
            "count": 0
           },
           {
            "bin_start": 0.17765497695634877,
            "bin_end": 0.26648246543452314,
            "count": 6
           },
           {
            "bin_start": 0.26648246543452314,
            "bin_end": 0.35530995391269754,
            "count": 7
           },
           {
            "bin_start": 0.35530995391269754,
            "bin_end": 0.44413744239087194,
            "count": 14
           },
           {
            "bin_start": 0.44413744239087194,
            "bin_end": 0.5329649308690463,
            "count": 5
           },
           {
            "bin_start": 0.5329649308690463,
            "bin_end": 0.6217924193472207,
            "count": 3
           },
           {
            "bin_start": 0.6217924193472207,
            "bin_end": 0.7106199078253951,
            "count": 2
           },
           {
            "bin_start": 0.7106199078253951,
            "bin_end": 0.7994473963035694,
            "count": 2
           },
           {
            "bin_start": 0.7994473963035694,
            "bin_end": 0.8882748847817439,
            "count": 1
           }
          ]
         }
        },
        {
         "name": "additionally",
         "dtype": "float64",
         "stats": {
          "unique_count": 29,
          "nan_count": 0,
          "min": "0.0",
          "max": "0.5174129313717265",
          "histogram": [
           {
            "bin_start": 0,
            "bin_end": 0.05174129313717265,
            "count": 5192
           },
           {
            "bin_start": 0.05174129313717265,
            "bin_end": 0.1034825862743453,
            "count": 0
           },
           {
            "bin_start": 0.1034825862743453,
            "bin_end": 0.15522387941151794,
            "count": 0
           },
           {
            "bin_start": 0.15522387941151794,
            "bin_end": 0.2069651725486906,
            "count": 1
           },
           {
            "bin_start": 0.2069651725486906,
            "bin_end": 0.25870646568586325,
            "count": 14
           },
           {
            "bin_start": 0.25870646568586325,
            "bin_end": 0.3104477588230359,
            "count": 9
           },
           {
            "bin_start": 0.3104477588230359,
            "bin_end": 0.36218905196020856,
            "count": 8
           },
           {
            "bin_start": 0.36218905196020856,
            "bin_end": 0.4139303450973812,
            "count": 2
           },
           {
            "bin_start": 0.4139303450973812,
            "bin_end": 0.4656716382345538,
            "count": 0
           },
           {
            "bin_start": 0.4656716382345538,
            "bin_end": 0.5174129313717265,
            "count": 5
           }
          ]
         }
        },
        {
         "name": "address",
         "dtype": "float64",
         "stats": {
          "unique_count": 31,
          "nan_count": 0,
          "min": "0.0",
          "max": "0.8567363456529944",
          "histogram": [
           {
            "bin_start": 0,
            "bin_end": 0.08567363456529944,
            "count": 5199
           },
           {
            "bin_start": 0.08567363456529944,
            "bin_end": 0.1713472691305989,
            "count": 0
           },
           {
            "bin_start": 0.1713472691305989,
            "bin_end": 0.25702090369589836,
            "count": 0
           },
           {
            "bin_start": 0.25702090369589836,
            "bin_end": 0.3426945382611978,
            "count": 9
           },
           {
            "bin_start": 0.3426945382611978,
            "bin_end": 0.4283681728264972,
            "count": 13
           },
           {
            "bin_start": 0.4283681728264972,
            "bin_end": 0.5140418073917967,
            "count": 5
           },
           {
            "bin_start": 0.5140418073917967,
            "bin_end": 0.5997154419570961,
            "count": 3
           },
           {
            "bin_start": 0.5997154419570961,
            "bin_end": 0.6853890765223956,
            "count": 0
           },
           {
            "bin_start": 0.6853890765223956,
            "bin_end": 0.771062711087695,
            "count": 1
           },
           {
            "bin_start": 0.771062711087695,
            "bin_end": 0.8567363456529944,
            "count": 1
           }
          ]
         }
        },
        {
         "name": "administration",
         "dtype": "float64",
         "stats": {
          "unique_count": 79,
          "nan_count": 0,
          "min": "0.0",
          "max": "0.6835032411775847",
          "histogram": [
           {
            "bin_start": 0,
            "bin_end": 0.06835032411775846,
            "count": 5153
           },
           {
            "bin_start": 0.06835032411775846,
            "bin_end": 0.13670064823551692,
            "count": 0
           },
           {
            "bin_start": 0.13670064823551692,
            "bin_end": 0.20505097235327538,
            "count": 2
           },
           {
            "bin_start": 0.20505097235327538,
            "bin_end": 0.27340129647103384,
            "count": 13
           },
           {
            "bin_start": 0.27340129647103384,
            "bin_end": 0.34175162058879227,
            "count": 26
           },
           {
            "bin_start": 0.34175162058879227,
            "bin_end": 0.41010194470655076,
            "count": 11
           },
           {
            "bin_start": 0.41010194470655076,
            "bin_end": 0.47845226882430925,
            "count": 12
           },
           {
            "bin_start": 0.47845226882430925,
            "bin_end": 0.5468025929420677,
            "count": 6
           },
           {
            "bin_start": 0.5468025929420677,
            "bin_end": 0.6151529170598261,
            "count": 4
           },
           {
            "bin_start": 0.6151529170598261,
            "bin_end": 0.6835032411775847,
            "count": 4
           }
          ]
         }
        },
        {
         "name": "affect",
         "dtype": "float64",
         "stats": {
          "unique_count": 25,
          "nan_count": 0,
          "min": "0.0",
          "max": "0.5996400916946576",
          "histogram": [
           {
            "bin_start": 0,
            "bin_end": 0.05996400916946576,
            "count": 5081
           },
           {
            "bin_start": 0.05996400916946576,
            "bin_end": 0.11992801833893152,
            "count": 0
           },
           {
            "bin_start": 0.11992801833893152,
            "bin_end": 0.17989202750839728,
            "count": 126
           },
           {
            "bin_start": 0.17989202750839728,
            "bin_end": 0.23985603667786304,
            "count": 12
           },
           {
            "bin_start": 0.23985603667786304,
            "bin_end": 0.2998200458473288,
            "count": 6
           },
           {
            "bin_start": 0.2998200458473288,
            "bin_end": 0.35978405501679456,
            "count": 2
           },
           {
            "bin_start": 0.35978405501679456,
            "bin_end": 0.4197480641862603,
            "count": 1
           },
           {
            "bin_start": 0.4197480641862603,
            "bin_end": 0.4797120733557261,
            "count": 2
           },
           {
            "bin_start": 0.4797120733557261,
            "bin_end": 0.5396760825251918,
            "count": 0
           },
           {
            "bin_start": 0.5396760825251918,
            "bin_end": 0.5996400916946576,
            "count": 1
           }
          ]
         }
        },
        {
         "name": "affect outcomequot",
         "dtype": "float64",
         "stats": {
          "unique_count": 2,
          "nan_count": 0,
          "min": "0.0",
          "max": "0.150808240243823",
          "histogram": [
           {
            "bin_start": 0,
            "bin_end": 0.0150808240243823,
            "count": 5105
           },
           {
            "bin_start": 0.0150808240243823,
            "bin_end": 0.0301616480487646,
            "count": 0
           },
           {
            "bin_start": 0.0301616480487646,
            "bin_end": 0.0452424720731469,
            "count": 0
           },
           {
            "bin_start": 0.0452424720731469,
            "bin_end": 0.0603232960975292,
            "count": 0
           },
           {
            "bin_start": 0.0603232960975292,
            "bin_end": 0.0754041201219115,
            "count": 0
           },
           {
            "bin_start": 0.0754041201219115,
            "bin_end": 0.0904849441462938,
            "count": 0
           },
           {
            "bin_start": 0.0904849441462938,
            "bin_end": 0.1055657681706761,
            "count": 0
           },
           {
            "bin_start": 0.1055657681706761,
            "bin_end": 0.1206465921950584,
            "count": 0
           },
           {
            "bin_start": 0.1206465921950584,
            "bin_end": 0.1357274162194407,
            "count": 0
           },
           {
            "bin_start": 0.1357274162194407,
            "bin_end": 0.150808240243823,
            "count": 126
           }
          ]
         }
        },
        {
         "name": "ago",
         "dtype": "float64",
         "stats": {
          "unique_count": 30,
          "nan_count": 0,
          "min": "0.0",
          "max": "0.7588889408058406",
          "histogram": [
           {
            "bin_start": 0,
            "bin_end": 0.07588889408058405,
            "count": 5200
           },
           {
            "bin_start": 0.07588889408058405,
            "bin_end": 0.1517777881611681,
            "count": 0
           },
           {
            "bin_start": 0.1517777881611681,
            "bin_end": 0.22766668224175216,
            "count": 0
           },
           {
            "bin_start": 0.22766668224175216,
            "bin_end": 0.3035555763223362,
            "count": 8
           },
           {
            "bin_start": 0.3035555763223362,
            "bin_end": 0.3794444704029203,
            "count": 9
           },
           {
            "bin_start": 0.3794444704029203,
            "bin_end": 0.4553333644835043,
            "count": 4
           },
           {
            "bin_start": 0.4553333644835043,
            "bin_end": 0.5312222585640883,
            "count": 6
           },
           {
            "bin_start": 0.5312222585640883,
            "bin_end": 0.6071111526446724,
            "count": 3
           },
           {
            "bin_start": 0.6071111526446724,
            "bin_end": 0.6830000467252565,
            "count": 0
           },
           {
            "bin_start": 0.6830000467252565,
            "bin_end": 0.7588889408058406,
            "count": 1
           }
          ]
         }
        },
        {
         "name": "air",
         "dtype": "float64",
         "stats": {
          "unique_count": 29,
          "nan_count": 0,
          "min": "0.0",
          "max": "1.0",
          "histogram": [
           {
            "bin_start": 0,
            "bin_end": 0.1,
            "count": 5202
           },
           {
            "bin_start": 0.1,
            "bin_end": 0.2,
            "count": 0
           },
           {
            "bin_start": 0.2,
            "bin_end": 0.30000000000000004,
            "count": 3
           },
           {
            "bin_start": 0.30000000000000004,
            "bin_end": 0.4,
            "count": 13
           },
           {
            "bin_start": 0.4,
            "bin_end": 0.5,
            "count": 3
           },
           {
            "bin_start": 0.5,
            "bin_end": 0.6000000000000001,
            "count": 7
           },
           {
            "bin_start": 0.6000000000000001,
            "bin_end": 0.7000000000000001,
            "count": 0
           },
           {
            "bin_start": 0.7000000000000001,
            "bin_end": 0.8,
            "count": 2
           },
           {
            "bin_start": 0.8,
            "bin_end": 0.9,
            "count": 0
           },
           {
            "bin_start": 0.9,
            "bin_end": 1,
            "count": 1
           }
          ]
         }
        },
        {
         "name": "allow",
         "dtype": "float64",
         "stats": {
          "unique_count": 62,
          "nan_count": 0,
          "min": "0.0",
          "max": "1.0",
          "histogram": [
           {
            "bin_start": 0,
            "bin_end": 0.1,
            "count": 5169
           },
           {
            "bin_start": 0.1,
            "bin_end": 0.2,
            "count": 4
           },
           {
            "bin_start": 0.2,
            "bin_end": 0.30000000000000004,
            "count": 19
           },
           {
            "bin_start": 0.30000000000000004,
            "bin_end": 0.4,
            "count": 25
           },
           {
            "bin_start": 0.4,
            "bin_end": 0.5,
            "count": 6
           },
           {
            "bin_start": 0.5,
            "bin_end": 0.6000000000000001,
            "count": 6
           },
           {
            "bin_start": 0.6000000000000001,
            "bin_end": 0.7000000000000001,
            "count": 1
           },
           {
            "bin_start": 0.7000000000000001,
            "bin_end": 0.8,
            "count": 0
           },
           {
            "bin_start": 0.8,
            "bin_end": 0.9,
            "count": 0
           },
           {
            "bin_start": 0.9,
            "bin_end": 1,
            "count": 1
           }
          ]
         }
        },
        {
         "name": "alter",
         "dtype": "float64",
         "stats": {
          "unique_count": 44,
          "nan_count": 0,
          "min": "0.0",
          "max": "0.7557278735270481",
          "histogram": [
           {
            "bin_start": 0,
            "bin_end": 0.07557278735270481,
            "count": 5187
           },
           {
            "bin_start": 0.07557278735270481,
            "bin_end": 0.15114557470540962,
            "count": 0
           },
           {
            "bin_start": 0.15114557470540962,
            "bin_end": 0.22671836205811444,
            "count": 0
           },
           {
            "bin_start": 0.22671836205811444,
            "bin_end": 0.30229114941081925,
            "count": 7
           },
           {
            "bin_start": 0.30229114941081925,
            "bin_end": 0.37786393676352403,
            "count": 11
           },
           {
            "bin_start": 0.37786393676352403,
            "bin_end": 0.4534367241162289,
            "count": 12
           },
           {
            "bin_start": 0.4534367241162289,
            "bin_end": 0.5290095114689337,
            "count": 5
           },
           {
            "bin_start": 0.5290095114689337,
            "bin_end": 0.6045822988216385,
            "count": 6
           },
           {
            "bin_start": 0.6045822988216385,
            "bin_end": 0.6801550861743433,
            "count": 1
           },
           {
            "bin_start": 0.6801550861743433,
            "bin_end": 0.7557278735270481,
            "count": 2
           }
          ]
         }
        },
        {
         "name": "amendment",
         "dtype": "float64",
         "stats": {
          "unique_count": 49,
          "nan_count": 0,
          "min": "0.0",
          "max": "0.7096053804296611",
          "histogram": [
           {
            "bin_start": 0,
            "bin_end": 0.07096053804296612,
            "count": 5183
           },
           {
            "bin_start": 0.07096053804296612,
            "bin_end": 0.14192107608593224,
            "count": 0
           },
           {
            "bin_start": 0.14192107608593224,
            "bin_end": 0.21288161412889836,
            "count": 1
           },
           {
            "bin_start": 0.21288161412889836,
            "bin_end": 0.2838421521718645,
            "count": 7
           },
           {
            "bin_start": 0.2838421521718645,
            "bin_end": 0.3548026902148306,
            "count": 15
           },
           {
            "bin_start": 0.3548026902148306,
            "bin_end": 0.4257632282577967,
            "count": 10
           },
           {
            "bin_start": 0.4257632282577967,
            "bin_end": 0.49672376630076287,
            "count": 9
           },
           {
            "bin_start": 0.49672376630076287,
            "bin_end": 0.567684304343729,
            "count": 2
           },
           {
            "bin_start": 0.567684304343729,
            "bin_end": 0.638644842386695,
            "count": 3
           },
           {
            "bin_start": 0.638644842386695,
            "bin_end": 0.7096053804296611,
            "count": 1
           }
          ]
         }
        },
        {
         "name": "america",
         "dtype": "float64"
        },
        {
         "name": "american",
         "dtype": "float64"
        },
        {
         "name": "americans",
         "dtype": "float64"
        },
        {
         "name": "amp",
         "dtype": "float64"
        },
        {
         "name": "aoc",
         "dtype": "float64"
        },
        {
         "name": "appear",
         "dtype": "float64"
        },
        {
         "name": "apply",
         "dtype": "float64"
        },
        {
         "name": "article",
         "dtype": "float64"
        },
        {
         "name": "ask",
         "dtype": "float64"
        },
        {
         "name": "attack",
         "dtype": "float64"
        },
        {
         "name": "attempt",
         "dtype": "float64"
        },
        {
         "name": "attribute",
         "dtype": "float64"
        },
        {
         "name": "author",
         "dtype": "float64"
        },
        {
         "name": "available",
         "dtype": "float64"
        },
        {
         "name": "away",
         "dtype": "float64"
        },
        {
         "name": "bad",
         "dtype": "float64"
        },
        {
         "name": "ban",
         "dtype": "float64"
        },
        {
         "name": "base",
         "dtype": "float64"
        },
        {
         "name": "bear",
         "dtype": "float64"
        },
        {
         "name": "believe",
         "dtype": "float64"
        },
        {
         "name": "biden",
         "dtype": "float64"
        },
        {
         "name": "biden administration",
         "dtype": "float64"
        },
        {
         "name": "bidens",
         "dtype": "float64"
        },
        {
         "name": "big",
         "dtype": "float64"
        },
        {
         "name": "bill",
         "dtype": "float64"
        },
        {
         "name": "black",
         "dtype": "float64"
        },
        {
         "name": "bomb",
         "dtype": "float64"
        },
        {
         "name": "book",
         "dtype": "float64"
        },
        {
         "name": "border",
         "dtype": "float64"
        },
        {
         "name": "building",
         "dtype": "float64"
        },
        {
         "name": "business",
         "dtype": "float64"
        },
        {
         "name": "call",
         "dtype": "float64"
        },
        {
         "name": "campaign",
         "dtype": "float64"
        },
        {
         "name": "capital",
         "dtype": "float64"
        },
        {
         "name": "capitol",
         "dtype": "float64"
        },
        {
         "name": "care",
         "dtype": "float64"
        },
        {
         "name": "case",
         "dtype": "float64"
        },
        {
         "name": "cause",
         "dtype": "float64"
        },
        {
         "name": "cdc",
         "dtype": "float64"
        },
        {
         "name": "certify",
         "dtype": "float64"
        },
        {
         "name": "certify election",
         "dtype": "float64"
        },
        {
         "name": "change",
         "dtype": "float64"
        },
        {
         "name": "charge",
         "dtype": "float64"
        },
        {
         "name": "check",
         "dtype": "float64"
        },
        {
         "name": "child",
         "dtype": "float64"
        },
        {
         "name": "china",
         "dtype": "float64"
        },
        {
         "name": "citizen",
         "dtype": "float64"
        },
        {
         "name": "claim",
         "dtype": "float64"
        },
        {
         "name": "clear",
         "dtype": "float64"
        },
        {
         "name": "clearly",
         "dtype": "float64"
        },
        {
         "name": "clip",
         "dtype": "float64"
        },
        {
         "name": "cnn",
         "dtype": "float64"
        },
        {
         "name": "columbia",
         "dtype": "float64"
        },
        {
         "name": "columbia certify",
         "dtype": "float64"
        },
        {
         "name": "come",
         "dtype": "float64"
        },
        {
         "name": "comment",
         "dtype": "float64"
        },
        {
         "name": "commit",
         "dtype": "float64"
        },
        {
         "name": "common",
         "dtype": "float64"
        },
        {
         "name": "community",
         "dtype": "float64"
        },
        {
         "name": "company",
         "dtype": "float64"
        },
        {
         "name": "complete",
         "dtype": "float64"
        },
        {
         "name": "completely",
         "dtype": "float64"
        },
        {
         "name": "confirm",
         "dtype": "float64"
        },
        {
         "name": "congress",
         "dtype": "float64"
        },
        {
         "name": "congress seek",
         "dtype": "float64"
        },
        {
         "name": "consider",
         "dtype": "float64"
        },
        {
         "name": "conspiracy",
         "dtype": "float64"
        },
        {
         "name": "conspiracy theory",
         "dtype": "float64"
        },
        {
         "name": "constitution",
         "dtype": "float64"
        },
        {
         "name": "contain",
         "dtype": "float64"
        },
        {
         "name": "content",
         "dtype": "float64"
        },
        {
         "name": "context",
         "dtype": "float64"
        },
        {
         "name": "continue",
         "dtype": "float64"
        },
        {
         "name": "control",
         "dtype": "float64"
        },
        {
         "name": "coronavirus",
         "dtype": "float64"
        },
        {
         "name": "correct",
         "dtype": "float64"
        },
        {
         "name": "country",
         "dtype": "float64"
        },
        {
         "name": "court",
         "dtype": "float64"
        },
        {
         "name": "covid",
         "dtype": "float64"
        },
        {
         "name": "covid vaccine",
         "dtype": "float64"
        },
        {
         "name": "create",
         "dtype": "float64"
        },
        {
         "name": "crime",
         "dtype": "float64"
        },
        {
         "name": "critical",
         "dtype": "float64"
        },
        {
         "name": "cruz",
         "dtype": "float64"
        },
        {
         "name": "current",
         "dtype": "float64"
        },
        {
         "name": "currently",
         "dtype": "float64"
        },
        {
         "name": "d",
         "dtype": "float64"
        },
        {
         "name": "dangerous",
         "dtype": "float64"
        },
        {
         "name": "date",
         "dtype": "float64"
        },
        {
         "name": "datum",
         "dtype": "float64"
        },
        {
         "name": "day",
         "dtype": "float64"
        },
        {
         "name": "death",
         "dtype": "float64"
        },
        {
         "name": "debunk",
         "dtype": "float64"
        },
        {
         "name": "democracy",
         "dtype": "float64"
        },
        {
         "name": "democrat",
         "dtype": "float64"
        },
        {
         "name": "democratic",
         "dtype": "float64"
        },
        {
         "name": "democrats",
         "dtype": "float64"
        },
        {
         "name": "describe",
         "dtype": "float64"
        },
        {
         "name": "design",
         "dtype": "float64"
        },
        {
         "name": "detail",
         "dtype": "float64"
        },
        {
         "name": "die",
         "dtype": "float64"
        },
        {
         "name": "different",
         "dtype": "float64"
        },
        {
         "name": "directly",
         "dtype": "float64"
        },
        {
         "name": "disease",
         "dtype": "float64"
        },
        {
         "name": "disinformation",
         "dtype": "float64"
        },
        {
         "name": "district",
         "dtype": "float64"
        },
        {
         "name": "district columbia",
         "dtype": "float64"
        },
        {
         "name": "doctor",
         "dtype": "float64"
        },
        {
         "name": "document",
         "dtype": "float64"
        },
        {
         "name": "donald",
         "dtype": "float64"
        },
        {
         "name": "donald trump",
         "dtype": "float64"
        },
        {
         "name": "dr",
         "dtype": "float64"
        },
        {
         "name": "easy",
         "dtype": "float64"
        },
        {
         "name": "edit",
         "dtype": "float64"
        },
        {
         "name": "effect",
         "dtype": "float64"
        },
        {
         "name": "effective",
         "dtype": "float64"
        },
        {
         "name": "elect",
         "dtype": "float64"
        },
        {
         "name": "election",
         "dtype": "float64"
        },
        {
         "name": "election politifact",
         "dtype": "float64"
        },
        {
         "name": "election result",
         "dtype": "float64"
        },
        {
         "name": "encourage",
         "dtype": "float64"
        },
        {
         "name": "end",
         "dtype": "float64"
        },
        {
         "name": "energy",
         "dtype": "float64"
        },
        {
         "name": "entire",
         "dtype": "float64"
        },
        {
         "name": "event",
         "dtype": "float64"
        },
        {
         "name": "evidence",
         "dtype": "float64"
        },
        {
         "name": "evidence support",
         "dtype": "float64"
        },
        {
         "name": "evidence voter",
         "dtype": "float64"
        },
        {
         "name": "example",
         "dtype": "float64"
        },
        {
         "name": "exist",
         "dtype": "float64"
        },
        {
         "name": "explain",
         "dtype": "float64"
        },
        {
         "name": "extremely",
         "dtype": "float64"
        },
        {
         "name": "fact",
         "dtype": "float64"
        },
        {
         "name": "fact check",
         "dtype": "float64"
        },
        {
         "name": "factual",
         "dtype": "float64"
        },
        {
         "name": "factually",
         "dtype": "float64"
        },
        {
         "name": "fail",
         "dtype": "float64"
        },
        {
         "name": "fake",
         "dtype": "float64"
        },
        {
         "name": "false",
         "dtype": "float64"
        },
        {
         "name": "false claim",
         "dtype": "float64"
        },
        {
         "name": "far",
         "dtype": "float64"
        },
        {
         "name": "fauci",
         "dtype": "float64"
        },
        {
         "name": "fbi",
         "dtype": "float64"
        },
        {
         "name": "federal",
         "dtype": "float64"
        },
        {
         "name": "finalize",
         "dtype": "float64"
        },
        {
         "name": "finalize jan",
         "dtype": "float64"
        },
        {
         "name": "find",
         "dtype": "float64"
        },
        {
         "name": "fire",
         "dtype": "float64"
        },
        {
         "name": "firearm",
         "dtype": "float64"
        },
        {
         "name": "florida",
         "dtype": "float64"
        },
        {
         "name": "follow",
         "dtype": "float64"
        },
        {
         "name": "footage",
         "dtype": "float64"
        },
        {
         "name": "force",
         "dtype": "float64"
        },
        {
         "name": "form",
         "dtype": "float64"
        },
        {
         "name": "fox",
         "dtype": "float64"
        },
        {
         "name": "fraud",
         "dtype": "float64"
        },
        {
         "name": "fraud affect",
         "dtype": "float64"
        },
        {
         "name": "free",
         "dtype": "float64"
        },
        {
         "name": "fund",
         "dtype": "float64"
        },
        {
         "name": "gas",
         "dtype": "float64"
        },
        {
         "name": "gay",
         "dtype": "float64"
        },
        {
         "name": "general",
         "dtype": "float64"
        },
        {
         "name": "georgia",
         "dtype": "float64"
        },
        {
         "name": "get",
         "dtype": "float64"
        },
        {
         "name": "girl",
         "dtype": "float64"
        },
        {
         "name": "give",
         "dtype": "float64"
        },
        {
         "name": "go",
         "dtype": "float64"
        },
        {
         "name": "good",
         "dtype": "float64"
        },
        {
         "name": "google",
         "dtype": "float64"
        },
        {
         "name": "gop",
         "dtype": "float64"
        },
        {
         "name": "government",
         "dtype": "float64"
        },
        {
         "name": "governor",
         "dtype": "float64"
        },
        {
         "name": "greene",
         "dtype": "float64"
        },
        {
         "name": "group",
         "dtype": "float64"
        },
        {
         "name": "gun",
         "dtype": "float64"
        },
        {
         "name": "hand",
         "dtype": "float64"
        },
        {
         "name": "happen",
         "dtype": "float64"
        },
        {
         "name": "harm",
         "dtype": "float64"
        },
        {
         "name": "hate",
         "dtype": "float64"
        },
        {
         "name": "have",
         "dtype": "float64"
        },
        {
         "name": "headline",
         "dtype": "float64"
        },
        {
         "name": "health",
         "dtype": "float64"
        },
        {
         "name": "help",
         "dtype": "float64"
        },
        {
         "name": "high",
         "dtype": "float64"
        },
        {
         "name": "history",
         "dtype": "float64"
        },
        {
         "name": "hold",
         "dtype": "float64"
        },
        {
         "name": "house",
         "dtype": "float64"
        },
        {
         "name": "human",
         "dtype": "float64"
        },
        {
         "name": "idea",
         "dtype": "float64"
        },
        {
         "name": "ignore",
         "dtype": "float64"
        },
        {
         "name": "illegal",
         "dtype": "float64"
        },
        {
         "name": "image",
         "dtype": "float64"
        },
        {
         "name": "imply",
         "dtype": "float64"
        },
        {
         "name": "important",
         "dtype": "float64"
        },
        {
         "name": "inaccurate",
         "dtype": "float64"
        },
        {
         "name": "incite",
         "dtype": "float64"
        },
        {
         "name": "include",
         "dtype": "float64"
        },
        {
         "name": "incorrect",
         "dtype": "float64"
        },
        {
         "name": "increase",
         "dtype": "float64"
        },
        {
         "name": "independent",
         "dtype": "float64"
        },
        {
         "name": "independent source",
         "dtype": "float64"
        },
        {
         "name": "indicate",
         "dtype": "float64"
        },
        {
         "name": "individual",
         "dtype": "float64"
        },
        {
         "name": "inflammatory",
         "dtype": "float64"
        },
        {
         "name": "info",
         "dtype": "float64"
        },
        {
         "name": "information",
         "dtype": "float64"
        },
        {
         "name": "instead",
         "dtype": "float64"
        },
        {
         "name": "insurrection",
         "dtype": "float64"
        },
        {
         "name": "intentionally",
         "dtype": "float64"
        },
        {
         "name": "investigation",
         "dtype": "float64"
        },
        {
         "name": "involve",
         "dtype": "float64"
        },
        {
         "name": "israel",
         "dtype": "float64"
        },
        {
         "name": "issue",
         "dtype": "float64"
        },
        {
         "name": "jan",
         "dtype": "float64"
        },
        {
         "name": "jan evidence",
         "dtype": "float64"
        },
        {
         "name": "january",
         "dtype": "float64"
        },
        {
         "name": "january th",
         "dtype": "float64"
        },
        {
         "name": "job",
         "dtype": "float64"
        },
        {
         "name": "joe",
         "dtype": "float64"
        },
        {
         "name": "joe biden",
         "dtype": "float64"
        },
        {
         "name": "joke",
         "dtype": "float64"
        },
        {
         "name": "justice",
         "dtype": "float64"
        },
        {
         "name": "k",
         "dtype": "float64"
        },
        {
         "name": "kill",
         "dtype": "float64"
        },
        {
         "name": "know",
         "dtype": "float64"
        },
        {
         "name": "lack",
         "dtype": "float64"
        },
        {
         "name": "large",
         "dtype": "float64"
        },
        {
         "name": "later",
         "dtype": "float64"
        },
        {
         "name": "law",
         "dtype": "float64"
        },
        {
         "name": "lead",
         "dtype": "float64"
        },
        {
         "name": "leave",
         "dtype": "float64"
        },
        {
         "name": "legal",
         "dtype": "float64"
        },
        {
         "name": "level",
         "dtype": "float64"
        },
        {
         "name": "lie",
         "dtype": "float64"
        },
        {
         "name": "life",
         "dtype": "float64"
        },
        {
         "name": "like",
         "dtype": "float64"
        },
        {
         "name": "likely",
         "dtype": "float64"
        },
        {
         "name": "line",
         "dtype": "float64"
        },
        {
         "name": "link",
         "dtype": "float64"
        },
        {
         "name": "list",
         "dtype": "float64"
        },
        {
         "name": "literally",
         "dtype": "float64"
        },
        {
         "name": "live",
         "dtype": "float64"
        },
        {
         "name": "local",
         "dtype": "float64"
        },
        {
         "name": "long",
         "dtype": "float64"
        },
        {
         "name": "look",
         "dtype": "float64"
        },
        {
         "name": "lose",
         "dtype": "float64"
        },
        {
         "name": "lose election",
         "dtype": "float64"
        },
        {
         "name": "low",
         "dtype": "float64"
        },
        {
         "name": "major",
         "dtype": "float64"
        },
        {
         "name": "majority",
         "dtype": "float64"
        },
        {
         "name": "make",
         "dtype": "float64"
        },
        {
         "name": "man",
         "dtype": "float64"
        },
        {
         "name": "mask",
         "dtype": "float64"
        },
        {
         "name": "mean",
         "dtype": "float64"
        },
        {
         "name": "medical",
         "dtype": "float64"
        },
        {
         "name": "medium",
         "dtype": "float64"
        },
        {
         "name": "member",
         "dtype": "float64"
        },
        {
         "name": "mention",
         "dtype": "float64"
        },
        {
         "name": "military",
         "dtype": "float64"
        },
        {
         "name": "million",
         "dtype": "float64"
        },
        {
         "name": "misinformation",
         "dtype": "float64"
        },
        {
         "name": "mislead",
         "dtype": "float64"
        },
        {
         "name": "misleading",
         "dtype": "float64"
        },
        {
         "name": "misrepresent",
         "dtype": "float64"
        },
        {
         "name": "miss",
         "dtype": "float64"
        },
        {
         "name": "money",
         "dtype": "float64"
        },
        {
         "name": "month",
         "dtype": "float64"
        },
        {
         "name": "mr",
         "dtype": "float64"
        },
        {
         "name": "multiple",
         "dtype": "float64"
        },
        {
         "name": "murder",
         "dtype": "float64"
        },
        {
         "name": "name",
         "dtype": "float64"
        },
        {
         "name": "narrative",
         "dtype": "float64"
        },
        {
         "name": "national",
         "dtype": "float64"
        },
        {
         "name": "natural",
         "dtype": "float64"
        },
        {
         "name": "need",
         "dtype": "float64"
        },
        {
         "name": "new",
         "dtype": "float64"
        },
        {
         "name": "new york",
         "dtype": "float64"
        },
        {
         "name": "news",
         "dtype": "float64"
        },
        {
         "name": "not",
         "dtype": "float64"
        },
        {
         "name": "note",
         "dtype": "float64"
        },
        {
         "name": "number",
         "dtype": "float64"
        },
        {
         "name": "numerous",
         "dtype": "float64"
        },
        {
         "name": "numerous independent",
         "dtype": "float64"
        },
        {
         "name": "ocasiocortez",
         "dtype": "float64"
        },
        {
         "name": "occur",
         "dtype": "float64"
        },
        {
         "name": "offer",
         "dtype": "float64"
        },
        {
         "name": "office",
         "dtype": "float64"
        },
        {
         "name": "officer",
         "dtype": "float64"
        },
        {
         "name": "official",
         "dtype": "float64"
        },
        {
         "name": "old",
         "dtype": "float64"
        },
        {
         "name": "open",
         "dtype": "float64"
        },
        {
         "name": "opinion",
         "dtype": "float64"
        },
        {
         "name": "order",
         "dtype": "float64"
        },
        {
         "name": "organization",
         "dtype": "float64"
        },
        {
         "name": "original",
         "dtype": "float64"
        },
        {
         "name": "outcomequot",
         "dtype": "float64"
        },
        {
         "name": "pandemic",
         "dtype": "float64"
        },
        {
         "name": "party",
         "dtype": "float64"
        },
        {
         "name": "pass",
         "dtype": "float64"
        },
        {
         "name": "past",
         "dtype": "float64"
        },
        {
         "name": "pay",
         "dtype": "float64"
        },
        {
         "name": "people",
         "dtype": "float64"
        },
        {
         "name": "person",
         "dtype": "float64"
        },
        {
         "name": "photo",
         "dtype": "float64"
        },
        {
         "name": "picture",
         "dtype": "float64"
        },
        {
         "name": "piece",
         "dtype": "float64"
        },
        {
         "name": "place",
         "dtype": "float64"
        },
        {
         "name": "plan",
         "dtype": "float64"
        },
        {
         "name": "plant",
         "dtype": "float64"
        },
        {
         "name": "platform",
         "dtype": "float64"
        },
        {
         "name": "play",
         "dtype": "float64"
        },
        {
         "name": "point",
         "dtype": "float64"
        },
        {
         "name": "police",
         "dtype": "float64"
        },
        {
         "name": "police officer",
         "dtype": "float64"
        },
        {
         "name": "policy",
         "dtype": "float64"
        },
        {
         "name": "political",
         "dtype": "float64"
        },
        {
         "name": "politician",
         "dtype": "float64"
        },
        {
         "name": "politifact",
         "dtype": "float64"
        },
        {
         "name": "politifact quotall",
         "dtype": "float64"
        },
        {
         "name": "poll",
         "dtype": "float64"
        },
        {
         "name": "post",
         "dtype": "float64"
        },
        {
         "name": "poster",
         "dtype": "float64"
        },
        {
         "name": "potentially",
         "dtype": "float64"
        },
        {
         "name": "power",
         "dtype": "float64"
        },
        {
         "name": "present",
         "dtype": "float64"
        },
        {
         "name": "president",
         "dtype": "float64"
        },
        {
         "name": "president biden",
         "dtype": "float64"
        },
        {
         "name": "president trump",
         "dtype": "float64"
        },
        {
         "name": "presidential",
         "dtype": "float64"
        },
        {
         "name": "presidential election",
         "dtype": "float64"
        },
        {
         "name": "press",
         "dtype": "float64"
        },
        {
         "name": "prevent",
         "dtype": "float64"
        },
        {
         "name": "prior",
         "dtype": "float64"
        },
        {
         "name": "private",
         "dtype": "float64"
        },
        {
         "name": "process",
         "dtype": "float64"
        },
        {
         "name": "promote",
         "dtype": "float64"
        },
        {
         "name": "proof",
         "dtype": "float64"
        },
        {
         "name": "propaganda",
         "dtype": "float64"
        },
        {
         "name": "protect",
         "dtype": "float64"
        },
        {
         "name": "protest",
         "dtype": "float64"
        },
        {
         "name": "prove",
         "dtype": "float64"
        },
        {
         "name": "provide",
         "dtype": "float64"
        },
        {
         "name": "public",
         "dtype": "float64"
        },
        {
         "name": "public health",
         "dtype": "float64"
        },
        {
         "name": "publish",
         "dtype": "float64"
        },
        {
         "name": "push",
         "dtype": "float64"
        },
        {
         "name": "question",
         "dtype": "float64"
        },
        {
         "name": "quotall",
         "dtype": "float64"
        },
        {
         "name": "quotall state",
         "dtype": "float64"
        },
        {
         "name": "quote",
         "dtype": "float64"
        },
        {
         "name": "quotthe",
         "dtype": "float64"
        },
        {
         "name": "race",
         "dtype": "float64"
        },
        {
         "name": "racism",
         "dtype": "float64"
        },
        {
         "name": "racist",
         "dtype": "float64"
        },
        {
         "name": "rate",
         "dtype": "float64"
        },
        {
         "name": "read",
         "dtype": "float64"
        },
        {
         "name": "real",
         "dtype": "float64"
        },
        {
         "name": "reality",
         "dtype": "float64"
        },
        {
         "name": "reason",
         "dtype": "float64"
        },
        {
         "name": "receive",
         "dtype": "float64"
        },
        {
         "name": "recent",
         "dtype": "float64"
        },
        {
         "name": "record",
         "dtype": "float64"
        },
        {
         "name": "reduce",
         "dtype": "float64"
        },
        {
         "name": "refer",
         "dtype": "float64"
        },
        {
         "name": "reference",
         "dtype": "float64"
        },
        {
         "name": "relate",
         "dtype": "float64"
        },
        {
         "name": "release",
         "dtype": "float64"
        },
        {
         "name": "remove",
         "dtype": "float64"
        },
        {
         "name": "rep",
         "dtype": "float64"
        },
        {
         "name": "repeatedly",
         "dtype": "float64"
        },
        {
         "name": "report",
         "dtype": "float64"
        },
        {
         "name": "reporter",
         "dtype": "float64"
        },
        {
         "name": "represent",
         "dtype": "float64"
        },
        {
         "name": "representative",
         "dtype": "float64"
        },
        {
         "name": "republican",
         "dtype": "float64"
        },
        {
         "name": "require",
         "dtype": "float64"
        },
        {
         "name": "research",
         "dtype": "float64"
        },
        {
         "name": "response",
         "dtype": "float64"
        },
        {
         "name": "result",
         "dtype": "float64"
        },
        {
         "name": "result congress",
         "dtype": "float64"
        },
        {
         "name": "review",
         "dtype": "float64"
        },
        {
         "name": "right",
         "dtype": "float64"
        },
        {
         "name": "riot",
         "dtype": "float64"
        },
        {
         "name": "risk",
         "dtype": "float64"
        },
        {
         "name": "rule",
         "dtype": "float64"
        },
        {
         "name": "run",
         "dtype": "float64"
        },
        {
         "name": "s",
         "dtype": "float64"
        },
        {
         "name": "safe",
         "dtype": "float64"
        },
        {
         "name": "safety",
         "dtype": "float64"
        },
        {
         "name": "satire",
         "dtype": "float64"
        },
        {
         "name": "say",
         "dtype": "float64"
        },
        {
         "name": "school",
         "dtype": "float64"
        },
        {
         "name": "science",
         "dtype": "float64"
        },
        {
         "name": "scientific",
         "dtype": "float64"
        },
        {
         "name": "scientist",
         "dtype": "float64"
        },
        {
         "name": "screenshot",
         "dtype": "float64"
        },
        {
         "name": "search",
         "dtype": "float64"
        },
        {
         "name": "second",
         "dtype": "float64"
        },
        {
         "name": "security",
         "dtype": "float64"
        },
        {
         "name": "see",
         "dtype": "float64"
        },
        {
         "name": "seek",
         "dtype": "float64"
        },
        {
         "name": "seek finalize",
         "dtype": "float64"
        },
        {
         "name": "senate",
         "dtype": "float64"
        },
        {
         "name": "senator",
         "dtype": "float64"
        },
        {
         "name": "serve",
         "dtype": "float64"
        },
        {
         "name": "sex",
         "dtype": "float64"
        },
        {
         "name": "share",
         "dtype": "float64"
        },
        {
         "name": "shoot",
         "dtype": "float64"
        },
        {
         "name": "shooting",
         "dtype": "float64"
        },
        {
         "name": "show",
         "dtype": "float64"
        },
        {
         "name": "sign",
         "dtype": "float64"
        },
        {
         "name": "simply",
         "dtype": "float64"
        },
        {
         "name": "site",
         "dtype": "float64"
        },
        {
         "name": "small",
         "dtype": "float64"
        },
        {
         "name": "social",
         "dtype": "float64"
        },
        {
         "name": "social medium",
         "dtype": "float64"
        },
        {
         "name": "source",
         "dtype": "float64"
        },
        {
         "name": "source trump",
         "dtype": "float64"
        },
        {
         "name": "speak",
         "dtype": "float64"
        },
        {
         "name": "speech",
         "dtype": "float64"
        },
        {
         "name": "spread",
         "dtype": "float64"
        },
        {
         "name": "start",
         "dtype": "float64"
        },
        {
         "name": "state",
         "dtype": "float64"
        },
        {
         "name": "state district",
         "dtype": "float64"
        },
        {
         "name": "statement",
         "dtype": "float64"
        },
        {
         "name": "states",
         "dtype": "float64"
        },
        {
         "name": "steal",
         "dtype": "float64"
        },
        {
         "name": "stock",
         "dtype": "float64"
        },
        {
         "name": "stop",
         "dtype": "float64"
        },
        {
         "name": "story",
         "dtype": "float64"
        },
        {
         "name": "student",
         "dtype": "float64"
        },
        {
         "name": "study",
         "dtype": "float64"
        },
        {
         "name": "suggest",
         "dtype": "float64"
        },
        {
         "name": "support",
         "dtype": "float64"
        },
        {
         "name": "supporter",
         "dtype": "float64"
        },
        {
         "name": "system",
         "dtype": "float64"
        },
        {
         "name": "take",
         "dtype": "float64"
        },
        {
         "name": "talk",
         "dtype": "float64"
        },
        {
         "name": "target",
         "dtype": "float64"
        },
        {
         "name": "ted",
         "dtype": "float64"
        },
        {
         "name": "ted cruz",
         "dtype": "float64"
        },
        {
         "name": "tell",
         "dtype": "float64"
        },
        {
         "name": "term",
         "dtype": "float64"
        },
        {
         "name": "terrorist",
         "dtype": "float64"
        },
        {
         "name": "test",
         "dtype": "float64"
        },
        {
         "name": "texas",
         "dtype": "float64"
        },
        {
         "name": "th",
         "dtype": "float64"
        },
        {
         "name": "theory",
         "dtype": "float64"
        },
        {
         "name": "thing",
         "dtype": "float64"
        },
        {
         "name": "think",
         "dtype": "float64"
        },
        {
         "name": "threat",
         "dtype": "float64"
        },
        {
         "name": "time",
         "dtype": "float64"
        },
        {
         "name": "today",
         "dtype": "float64"
        },
        {
         "name": "trans",
         "dtype": "float64"
        },
        {
         "name": "trial",
         "dtype": "float64"
        },
        {
         "name": "true",
         "dtype": "float64"
        },
        {
         "name": "trump",
         "dtype": "float64"
        },
        {
         "name": "trump lose",
         "dtype": "float64"
        },
        {
         "name": "trump supporter",
         "dtype": "float64"
        },
        {
         "name": "truth",
         "dtype": "float64"
        },
        {
         "name": "try",
         "dtype": "float64"
        },
        {
         "name": "tweet",
         "dtype": "float64"
        },
        {
         "name": "twitter",
         "dtype": "float64"
        },
        {
         "name": "united",
         "dtype": "float64"
        },
        {
         "name": "united states",
         "dtype": "float64"
        },
        {
         "name": "untrue",
         "dtype": "float64"
        },
        {
         "name": "unverified",
         "dtype": "float64"
        },
        {
         "name": "use",
         "dtype": "float64"
        },
        {
         "name": "user",
         "dtype": "float64"
        },
        {
         "name": "vaccinate",
         "dtype": "float64"
        },
        {
         "name": "vaccination",
         "dtype": "float64"
        },
        {
         "name": "vaccine",
         "dtype": "float64"
        },
        {
         "name": "verify",
         "dtype": "float64"
        },
        {
         "name": "victim",
         "dtype": "float64"
        },
        {
         "name": "video",
         "dtype": "float64"
        },
        {
         "name": "view",
         "dtype": "float64"
        },
        {
         "name": "violence",
         "dtype": "float64"
        },
        {
         "name": "violent",
         "dtype": "float64"
        },
        {
         "name": "virus",
         "dtype": "float64"
        },
        {
         "name": "vote",
         "dtype": "float64"
        },
        {
         "name": "voter",
         "dtype": "float64"
        },
        {
         "name": "_deepnote_index_column",
         "dtype": "int64"
        }
       ],
       "rows_top": [
        {
         "accord": 0,
         "accord numerous": 0,
         "account": 0,
         "accurate": 0,
         "act": 0,
         "action": 0,
         "actual": 0,
         "actually": 0,
         "add": 0,
         "additionally": 0,
         "address": 0,
         "administration": 0,
         "affect": 0,
         "affect outcomequot": 0,
         "ago": 0,
         "air": 0,
         "allow": 0,
         "alter": 0,
         "amendment": 0,
         "america": 0,
         "american": 0,
         "americans": 0,
         "amp": 0,
         "aoc": 0,
         "appear": 0,
         "apply": 0,
         "article": 0,
         "ask": 0,
         "attack": 0,
         "attempt": 0,
         "attribute": 0,
         "author": 0,
         "available": 0,
         "away": 0,
         "bad": 0,
         "ban": 0,
         "base": 0,
         "bear": 0,
         "believe": 0,
         "biden": 0,
         "biden administration": 0,
         "bidens": 0,
         "big": 0,
         "bill": 0,
         "black": 0,
         "bomb": 0,
         "book": 0,
         "border": 0,
         "building": 0,
         "business": 0,
         "call": 0,
         "campaign": 0,
         "capital": 0,
         "capitol": 0,
         "care": 0,
         "case": 0,
         "cause": 0,
         "cdc": 0,
         "certify": 0,
         "certify election": 0,
         "change": 0,
         "charge": 0,
         "check": 0,
         "child": 0,
         "china": 0,
         "citizen": 0,
         "claim": 0.3624414748348646,
         "clear": 0,
         "clearly": 0,
         "clip": 0,
         "cnn": 0,
         "columbia": 0,
         "columbia certify": 0,
         "come": 0,
         "comment": 0,
         "commit": 0,
         "common": 0,
         "community": 0,
         "company": 0,
         "complete": 0,
         "completely": 0,
         "confirm": 0,
         "congress": 0,
         "congress seek": 0,
         "consider": 0,
         "conspiracy": 0,
         "conspiracy theory": 0,
         "constitution": 0,
         "contain": 0,
         "content": 0,
         "context": 0,
         "continue": 0,
         "control": 0,
         "coronavirus": 0,
         "correct": 0,
         "country": 0,
         "court": 0,
         "covid": 0,
         "covid vaccine": 0,
         "create": 0,
         "crime": 0,
         "critical": 0,
         "cruz": 0,
         "current": 0,
         "currently": 0,
         "d": 0,
         "dangerous": 0,
         "date": 0,
         "datum": 0,
         "day": 0,
         "death": 0,
         "debunk": 0,
         "democracy": 0,
         "democrat": 0,
         "democratic": 0,
         "democrats": 0,
         "describe": 0,
         "design": 0,
         "detail": 0,
         "die": 0,
         "different": 0,
         "directly": 0,
         "disease": 0,
         "disinformation": 0,
         "district": 0,
         "district columbia": 0,
         "doctor": 0,
         "document": 0,
         "donald": 0,
         "donald trump": 0,
         "dr": 0,
         "easy": 0,
         "edit": 0,
         "effect": 0,
         "effective": 0,
         "elect": 0,
         "election": 0,
         "election politifact": 0,
         "election result": 0,
         "encourage": 0,
         "end": 0,
         "energy": 0,
         "entire": 0,
         "event": 0,
         "evidence": 0,
         "evidence support": 0,
         "evidence voter": 0,
         "example": 0,
         "exist": 0,
         "explain": 0,
         "extremely": 0,
         "fact": 0,
         "fact check": 0,
         "factual": 0,
         "factually": 0,
         "fail": 0,
         "fake": 0,
         "false": 0.43777014946716736,
         "false claim": 0,
         "far": 0,
         "fauci": 0,
         "fbi": 0,
         "federal": 0,
         "finalize": 0,
         "finalize jan": 0,
         "find": 0,
         "fire": 0,
         "firearm": 0,
         "florida": 0,
         "follow": 0,
         "footage": 0,
         "force": 0,
         "form": 0,
         "fox": 0,
         "fraud": 0,
         "fraud affect": 0,
         "free": 0,
         "fund": 0,
         "gas": 0,
         "gay": 0,
         "general": 0,
         "georgia": 0,
         "get": 0,
         "girl": 0,
         "give": 0,
         "go": 0,
         "good": 0,
         "google": 0,
         "gop": 0,
         "government": 0,
         "governor": 0,
         "greene": 0,
         "group": 0,
         "gun": 0,
         "hand": 0,
         "happen": 0,
         "harm": 0,
         "hate": 0,
         "have": 0,
         "headline": 0,
         "health": 0,
         "help": 0,
         "high": 0,
         "history": 0,
         "hold": 0,
         "house": 0,
         "human": 0,
         "idea": 0,
         "ignore": 0,
         "illegal": 0,
         "image": 0,
         "imply": 0,
         "important": 0,
         "inaccurate": 0,
         "incite": 0,
         "include": 0,
         "incorrect": 0,
         "increase": 0,
         "independent": 0,
         "independent source": 0,
         "indicate": 0,
         "individual": 0,
         "inflammatory": 0,
         "info": 0,
         "information": 0,
         "instead": 0,
         "insurrection": 0,
         "intentionally": 0,
         "investigation": 0,
         "involve": 0,
         "israel": 0,
         "issue": 0,
         "jan": 0,
         "jan evidence": 0,
         "january": 0,
         "january th": 0,
         "job": 0,
         "joe": 0,
         "joe biden": 0,
         "joke": 0,
         "justice": 0,
         "k": 0,
         "kill": 0,
         "know": 0,
         "lack": 0,
         "large": 0,
         "later": 0,
         "law": 0,
         "lead": 0,
         "leave": 0,
         "legal": 0,
         "level": 0,
         "lie": 0,
         "life": 0,
         "like": 0,
         "likely": 0,
         "line": 0,
         "link": 0,
         "list": 0,
         "literally": 0,
         "live": 0,
         "local": 0,
         "long": 0,
         "look": 0,
         "lose": 0,
         "lose election": 0,
         "low": 0,
         "major": 0,
         "majority": 0,
         "make": 0,
         "man": 0,
         "mask": 0,
         "mean": 0,
         "medical": 0,
         "medium": 0,
         "member": 0,
         "mention": 0,
         "military": 0,
         "million": 0,
         "misinformation": 0,
         "mislead": 0,
         "misleading": 0,
         "misrepresent": 0,
         "miss": 0,
         "money": 0,
         "month": 0,
         "mr": 0,
         "multiple": 0,
         "murder": 0,
         "name": 0,
         "narrative": 0,
         "national": 0,
         "natural": 0,
         "need": 0,
         "new": 0.5274536705089501,
         "new york": 0,
         "news": 0,
         "not": 0,
         "note": 0,
         "number": 0,
         "numerous": 0,
         "numerous independent": 0,
         "ocasiocortez": 0,
         "occur": 0,
         "offer": 0,
         "office": 0,
         "officer": 0,
         "official": 0,
         "old": 0,
         "open": 0,
         "opinion": 0,
         "order": 0,
         "organization": 0,
         "original": 0,
         "outcomequot": 0,
         "pandemic": 0,
         "party": 0,
         "pass": 0,
         "past": 0,
         "pay": 0,
         "people": 0,
         "person": 0,
         "photo": 0,
         "picture": 0,
         "piece": 0,
         "place": 0,
         "plan": 0,
         "plant": 0,
         "platform": 0,
         "play": 0,
         "point": 0,
         "police": 0,
         "police officer": 0,
         "policy": 0,
         "political": 0,
         "politician": 0,
         "politifact": 0,
         "politifact quotall": 0,
         "poll": 0,
         "post": 0,
         "poster": 0,
         "potentially": 0,
         "power": 0,
         "present": 0,
         "president": 0,
         "president biden": 0,
         "president trump": 0,
         "presidential": 0,
         "presidential election": 0,
         "press": 0,
         "prevent": 0,
         "prior": 0,
         "private": 0,
         "process": 0,
         "promote": 0,
         "proof": 0,
         "propaganda": 0,
         "protect": 0,
         "protest": 0,
         "prove": 0,
         "provide": 0,
         "public": 0,
         "public health": 0,
         "publish": 0,
         "push": 0,
         "question": 0,
         "quotall": 0,
         "quotall state": 0,
         "quote": 0,
         "quotthe": 0,
         "race": 0,
         "racism": 0,
         "racist": 0,
         "rate": 0,
         "read": 0,
         "real": 0,
         "reality": 0,
         "reason": 0,
         "receive": 0,
         "recent": 0,
         "record": 0,
         "reduce": 0,
         "refer": 0,
         "reference": 0,
         "relate": 0,
         "release": 0,
         "remove": 0,
         "rep": 0,
         "repeatedly": 0,
         "report": 0,
         "reporter": 0,
         "represent": 0,
         "representative": 0,
         "republican": 0,
         "require": 0,
         "research": 0,
         "response": 0,
         "result": 0,
         "result congress": 0,
         "review": 0,
         "right": 0,
         "riot": 0,
         "risk": 0,
         "rule": 0,
         "run": 0,
         "s": 0,
         "safe": 0,
         "safety": 0,
         "satire": 0,
         "say": 0,
         "school": 0,
         "science": 0,
         "scientific": 0,
         "scientist": 0,
         "screenshot": 0,
         "search": 0,
         "second": 0,
         "security": 0,
         "see": 0,
         "seek": 0,
         "seek finalize": 0,
         "senate": 0,
         "senator": 0,
         "serve": 0,
         "sex": 0,
         "share": 0,
         "shoot": 0,
         "shooting": 0,
         "show": 0,
         "sign": 0,
         "simply": 0,
         "site": 0,
         "small": 0,
         "social": 0,
         "social medium": 0,
         "source": 0,
         "source trump": 0,
         "speak": 0,
         "speech": 0,
         "spread": 0,
         "start": 0.6314951298479332,
         "state": 0,
         "state district": 0,
         "statement": 0,
         "states": 0,
         "steal": 0,
         "stock": 0,
         "stop": 0,
         "story": 0,
         "student": 0,
         "study": 0,
         "suggest": 0,
         "support": 0,
         "supporter": 0,
         "system": 0,
         "take": 0,
         "talk": 0,
         "target": 0,
         "ted": 0,
         "ted cruz": 0,
         "tell": 0,
         "term": 0,
         "terrorist": 0,
         "test": 0,
         "texas": 0,
         "th": 0,
         "theory": 0,
         "thing": 0,
         "think": 0,
         "threat": 0,
         "time": 0,
         "today": 0,
         "trans": 0,
         "trial": 0,
         "true": 0,
         "trump": 0,
         "trump lose": 0,
         "trump supporter": 0,
         "truth": 0,
         "try": 0,
         "tweet": 0,
         "twitter": 0,
         "united": 0,
         "united states": 0,
         "untrue": 0,
         "unverified": 0,
         "use": 0,
         "user": 0,
         "vaccinate": 0,
         "vaccination": 0,
         "vaccine": 0,
         "verify": 0,
         "victim": 0,
         "video": 0,
         "view": 0,
         "violence": 0,
         "violent": 0,
         "virus": 0,
         "vote": 0,
         "voter": 0,
         "_deepnote_index_column": 0
        }
       ],
       "rows_bottom": [
        {
         "accord": 0,
         "accord numerous": 0,
         "account": 0.30918694459041524,
         "accurate": 0,
         "act": 0,
         "action": 0,
         "actual": 0,
         "actually": 0,
         "add": 0,
         "additionally": 0,
         "address": 0,
         "administration": 0,
         "affect": 0,
         "affect outcomequot": 0,
         "ago": 0,
         "air": 0,
         "allow": 0,
         "alter": 0,
         "amendment": 0,
         "america": 0,
         "american": 0,
         "americans": 0,
         "amp": 0,
         "aoc": 0,
         "appear": 0,
         "apply": 0,
         "article": 0.27299538959028535,
         "ask": 0,
         "attack": 0,
         "attempt": 0,
         "attribute": 0,
         "author": 0,
         "available": 0,
         "away": 0,
         "bad": 0,
         "ban": 0,
         "base": 0,
         "bear": 0,
         "believe": 0,
         "biden": 0,
         "biden administration": 0,
         "bidens": 0,
         "big": 0,
         "bill": 0,
         "black": 0,
         "bomb": 0,
         "book": 0,
         "border": 0,
         "building": 0,
         "business": 0,
         "call": 0,
         "campaign": 0,
         "capital": 0,
         "capitol": 0,
         "care": 0,
         "case": 0,
         "cause": 0,
         "cdc": 0,
         "certify": 0,
         "certify election": 0,
         "change": 0.34575428282296444,
         "charge": 0,
         "check": 0,
         "child": 0,
         "china": 0,
         "citizen": 0,
         "claim": 0,
         "clear": 0,
         "clearly": 0,
         "clip": 0,
         "cnn": 0,
         "columbia": 0,
         "columbia certify": 0,
         "come": 0,
         "comment": 0,
         "commit": 0,
         "common": 0,
         "community": 0,
         "company": 0,
         "complete": 0,
         "completely": 0,
         "confirm": 0,
         "congress": 0,
         "congress seek": 0,
         "consider": 0,
         "conspiracy": 0,
         "conspiracy theory": 0,
         "constitution": 0,
         "contain": 0,
         "content": 0,
         "context": 0,
         "continue": 0,
         "control": 0,
         "coronavirus": 0,
         "correct": 0,
         "country": 0,
         "court": 0,
         "covid": 0,
         "covid vaccine": 0,
         "create": 0,
         "crime": 0,
         "critical": 0,
         "cruz": 0,
         "current": 0,
         "currently": 0,
         "d": 0,
         "dangerous": 0,
         "date": 0,
         "datum": 0,
         "day": 0,
         "death": 0,
         "debunk": 0,
         "democracy": 0,
         "democrat": 0,
         "democratic": 0,
         "democrats": 0,
         "describe": 0,
         "design": 0,
         "detail": 0,
         "die": 0,
         "different": 0,
         "directly": 0,
         "disease": 0,
         "disinformation": 0,
         "district": 0,
         "district columbia": 0,
         "doctor": 0,
         "document": 0,
         "donald": 0,
         "donald trump": 0,
         "dr": 0,
         "easy": 0,
         "edit": 0,
         "effect": 0,
         "effective": 0,
         "elect": 0,
         "election": 0,
         "election politifact": 0,
         "election result": 0,
         "encourage": 0,
         "end": 0,
         "energy": 0,
         "entire": 0,
         "event": 0,
         "evidence": 0,
         "evidence support": 0,
         "evidence voter": 0,
         "example": 0,
         "exist": 0,
         "explain": 0,
         "extremely": 0,
         "fact": 0,
         "fact check": 0,
         "factual": 0,
         "factually": 0,
         "fail": 0,
         "fake": 0,
         "false": 0,
         "false claim": 0,
         "far": 0,
         "fauci": 0,
         "fbi": 0,
         "federal": 0,
         "finalize": 0,
         "finalize jan": 0,
         "find": 0,
         "fire": 0,
         "firearm": 0,
         "florida": 0,
         "follow": 0,
         "footage": 0,
         "force": 0,
         "form": 0,
         "fox": 0,
         "fraud": 0,
         "fraud affect": 0,
         "free": 0,
         "fund": 0,
         "gas": 0,
         "gay": 0,
         "general": 0,
         "georgia": 0,
         "get": 0,
         "girl": 0,
         "give": 0,
         "go": 0,
         "good": 0,
         "google": 0,
         "gop": 0,
         "government": 0,
         "governor": 0,
         "greene": 0,
         "group": 0,
         "gun": 0,
         "hand": 0,
         "happen": 0,
         "harm": 0,
         "hate": 0,
         "have": 0,
         "headline": 0,
         "health": 0,
         "help": 0,
         "high": 0,
         "history": 0,
         "hold": 0,
         "house": 0,
         "human": 0,
         "idea": 0,
         "ignore": 0,
         "illegal": 0,
         "image": 0,
         "imply": 0,
         "important": 0,
         "inaccurate": 0,
         "incite": 0,
         "include": 0,
         "incorrect": 0,
         "increase": 0,
         "independent": 0,
         "independent source": 0,
         "indicate": 0,
         "individual": 0,
         "inflammatory": 0,
         "info": 0,
         "information": 0,
         "instead": 0,
         "insurrection": 0,
         "intentionally": 0,
         "investigation": 0,
         "involve": 0,
         "israel": 0,
         "issue": 0,
         "jan": 0,
         "jan evidence": 0,
         "january": 0,
         "january th": 0,
         "job": 0,
         "joe": 0,
         "joe biden": 0,
         "joke": 0,
         "justice": 0,
         "k": 0,
         "kill": 0,
         "know": 0,
         "lack": 0,
         "large": 0,
         "later": 0,
         "law": 0,
         "lead": 0,
         "leave": 0,
         "legal": 0,
         "level": 0,
         "lie": 0,
         "life": 0,
         "like": 0,
         "likely": 0,
         "line": 0,
         "link": 0,
         "list": 0,
         "literally": 0,
         "live": 0,
         "local": 0,
         "long": 0,
         "look": 0,
         "lose": 0,
         "lose election": 0,
         "low": 0,
         "major": 0,
         "majority": 0,
         "make": 0,
         "man": 0,
         "mask": 0,
         "mean": 0,
         "medical": 0,
         "medium": 0,
         "member": 0,
         "mention": 0,
         "military": 0,
         "million": 0,
         "misinformation": 0,
         "mislead": 0,
         "misleading": 0,
         "misrepresent": 0,
         "miss": 0,
         "money": 0,
         "month": 0,
         "mr": 0,
         "multiple": 0,
         "murder": 0,
         "name": 0,
         "narrative": 0,
         "national": 0,
         "natural": 0,
         "need": 0,
         "new": 0,
         "new york": 0,
         "news": 0,
         "not": 0,
         "note": 0,
         "number": 0,
         "numerous": 0,
         "numerous independent": 0,
         "ocasiocortez": 0,
         "occur": 0,
         "offer": 0,
         "office": 0,
         "officer": 0,
         "official": 0,
         "old": 0,
         "open": 0,
         "opinion": 0,
         "order": 0,
         "organization": 0,
         "original": 0,
         "outcomequot": 0,
         "pandemic": 0,
         "party": 0,
         "pass": 0,
         "past": 0,
         "pay": 0,
         "people": 0,
         "person": 0,
         "photo": 0,
         "picture": 0,
         "piece": 0,
         "place": 0,
         "plan": 0,
         "plant": 0,
         "platform": 0,
         "play": 0,
         "point": 0,
         "police": 0,
         "police officer": 0,
         "policy": 0,
         "political": 0,
         "politician": 0,
         "politifact": 0,
         "politifact quotall": 0,
         "poll": 0,
         "post": 0,
         "poster": 0,
         "potentially": 0,
         "power": 0,
         "present": 0,
         "president": 0,
         "president biden": 0,
         "president trump": 0,
         "presidential": 0,
         "presidential election": 0,
         "press": 0,
         "prevent": 0,
         "prior": 0,
         "private": 0,
         "process": 0,
         "promote": 0,
         "proof": 0,
         "propaganda": 0,
         "protect": 0,
         "protest": 0,
         "prove": 0,
         "provide": 0,
         "public": 0,
         "public health": 0,
         "publish": 0,
         "push": 0,
         "question": 0,
         "quotall": 0,
         "quotall state": 0,
         "quote": 0,
         "quotthe": 0,
         "race": 0,
         "racism": 0,
         "racist": 0,
         "rate": 0,
         "read": 0,
         "real": 0,
         "reality": 0,
         "reason": 0,
         "receive": 0,
         "recent": 0,
         "record": 0,
         "reduce": 0,
         "refer": 0,
         "reference": 0,
         "relate": 0,
         "release": 0,
         "remove": 0,
         "rep": 0,
         "repeatedly": 0,
         "report": 0,
         "reporter": 0,
         "represent": 0,
         "representative": 0,
         "republican": 0,
         "require": 0,
         "research": 0,
         "response": 0,
         "result": 0,
         "result congress": 0,
         "review": 0,
         "right": 0,
         "riot": 0,
         "risk": 0,
         "rule": 0,
         "run": 0,
         "s": 0,
         "safe": 0,
         "safety": 0,
         "satire": 0,
         "say": 0.5339278452864987,
         "school": 0,
         "science": 0,
         "scientific": 0,
         "scientist": 0,
         "screenshot": 0,
         "search": 0,
         "second": 0,
         "security": 0,
         "see": 0,
         "seek": 0,
         "seek finalize": 0,
         "senate": 0,
         "senator": 0,
         "serve": 0,
         "sex": 0,
         "share": 0,
         "shoot": 0,
         "shooting": 0,
         "show": 0,
         "sign": 0,
         "simply": 0,
         "site": 0,
         "small": 0,
         "social": 0,
         "social medium": 0,
         "source": 0,
         "source trump": 0,
         "speak": 0,
         "speech": 0,
         "spread": 0,
         "start": 0,
         "state": 0,
         "state district": 0,
         "statement": 0,
         "states": 0,
         "steal": 0,
         "stock": 0,
         "stop": 0,
         "story": 0.3410626902455077,
         "student": 0,
         "study": 0,
         "suggest": 0,
         "support": 0.31109399092643236,
         "supporter": 0,
         "system": 0,
         "take": 0,
         "talk": 0,
         "target": 0,
         "ted": 0,
         "ted cruz": 0,
         "tell": 0,
         "term": 0,
         "terrorist": 0,
         "test": 0,
         "texas": 0,
         "th": 0,
         "theory": 0,
         "thing": 0,
         "think": 0,
         "threat": 0,
         "time": 0,
         "today": 0,
         "trans": 0,
         "trial": 0,
         "true": 0,
         "trump": 0,
         "trump lose": 0,
         "trump supporter": 0,
         "truth": 0,
         "try": 0,
         "tweet": 0,
         "twitter": 0.31355649613508024,
         "united": 0,
         "united states": 0,
         "untrue": 0,
         "unverified": 0,
         "use": 0,
         "user": 0,
         "vaccinate": 0,
         "vaccination": 0,
         "vaccine": 0,
         "verify": 0,
         "victim": 0,
         "video": 0,
         "view": 0,
         "violence": 0,
         "violent": 0,
         "virus": 0,
         "vote": 0,
         "voter": 0,
         "_deepnote_index_column": 5230
        }
       ]
      },
      "text/plain": "      accord  accord numerous   account  accurate  act  action  actual  \\\n0        0.0              0.0  0.000000       0.0  0.0     0.0     0.0   \n1        0.0              0.0  0.000000       0.0  0.0     0.0     0.0   \n2        0.0              0.0  0.000000       0.0  0.0     0.0     0.0   \n3        0.0              0.0  0.000000       0.0  0.0     0.0     0.0   \n4        0.0              0.0  0.000000       0.0  0.0     0.0     0.0   \n...      ...              ...       ...       ...  ...     ...     ...   \n5226     0.0              0.0  0.000000       0.0  0.0     0.0     0.0   \n5227     0.0              0.0  0.000000       0.0  0.0     0.0     0.0   \n5228     0.0              0.0  0.000000       0.0  0.0     0.0     0.0   \n5229     0.0              0.0  0.376658       0.0  0.0     0.0     0.0   \n5230     0.0              0.0  0.309187       0.0  0.0     0.0     0.0   \n\n      actually  add  additionally  ...  woman  word      work  worker  world  \\\n0          0.0  0.0           0.0  ...    0.0   0.0  0.000000     0.0    0.0   \n1          0.0  0.0           0.0  ...    0.0   0.0  0.000000     0.0    0.0   \n2          0.0  0.0           0.0  ...    0.0   0.0  0.000000     0.0    0.0   \n3          0.0  0.0           0.0  ...    0.0   0.0  0.000000     0.0    0.0   \n4          0.0  0.0           0.0  ...    0.0   0.0  0.000000     0.0    0.0   \n...        ...  ...           ...  ...    ...   ...       ...     ...    ...   \n5226       0.0  0.0           0.0  ...    0.0   0.0  0.000000     0.0    0.0   \n5227       0.0  0.0           0.0  ...    0.0   0.0  0.000000     0.0    0.0   \n5228       0.0  0.0           0.0  ...    0.0   0.0  0.000000     0.0    0.0   \n5229       0.0  0.0           0.0  ...    0.0   0.0  0.000000     0.0    0.0   \n5230       0.0  0.0           0.0  ...    0.0   0.0  0.337389     0.0    0.0   \n\n      write  wrong      year  york  zero  \n0       0.0    0.0  0.000000   0.0   0.0  \n1       0.0    0.0  0.000000   0.0   0.0  \n2       0.0    0.0  0.000000   0.0   0.0  \n3       0.0    0.0  0.000000   0.0   0.0  \n4       0.0    0.0  0.000000   0.0   0.0  \n...     ...    ...       ...   ...   ...  \n5226    0.0    0.0  0.000000   0.0   0.0  \n5227    0.0    0.0  0.300889   0.0   0.0  \n5228    0.0    0.0  0.000000   0.0   0.0  \n5229    0.0    0.0  0.000000   0.0   0.0  \n5230    0.0    0.0  0.000000   0.0   0.0  \n\n[5231 rows x 522 columns]",
      "text/html": "<div>\n<style scoped>\n    .dataframe tbody tr th:only-of-type {\n        vertical-align: middle;\n    }\n\n    .dataframe tbody tr th {\n        vertical-align: top;\n    }\n\n    .dataframe thead th {\n        text-align: right;\n    }\n</style>\n<table border=\"1\" class=\"dataframe\">\n  <thead>\n    <tr style=\"text-align: right;\">\n      <th></th>\n      <th>accord</th>\n      <th>accord numerous</th>\n      <th>account</th>\n      <th>accurate</th>\n      <th>act</th>\n      <th>action</th>\n      <th>actual</th>\n      <th>actually</th>\n      <th>add</th>\n      <th>additionally</th>\n      <th>...</th>\n      <th>woman</th>\n      <th>word</th>\n      <th>work</th>\n      <th>worker</th>\n      <th>world</th>\n      <th>write</th>\n      <th>wrong</th>\n      <th>year</th>\n      <th>york</th>\n      <th>zero</th>\n    </tr>\n  </thead>\n  <tbody>\n    <tr>\n      <th>0</th>\n      <td>0.0</td>\n      <td>0.0</td>\n      <td>0.000000</td>\n      <td>0.0</td>\n      <td>0.0</td>\n      <td>0.0</td>\n      <td>0.0</td>\n      <td>0.0</td>\n      <td>0.0</td>\n      <td>0.0</td>\n      <td>...</td>\n      <td>0.0</td>\n      <td>0.0</td>\n      <td>0.000000</td>\n      <td>0.0</td>\n      <td>0.0</td>\n      <td>0.0</td>\n      <td>0.0</td>\n      <td>0.000000</td>\n      <td>0.0</td>\n      <td>0.0</td>\n    </tr>\n    <tr>\n      <th>1</th>\n      <td>0.0</td>\n      <td>0.0</td>\n      <td>0.000000</td>\n      <td>0.0</td>\n      <td>0.0</td>\n      <td>0.0</td>\n      <td>0.0</td>\n      <td>0.0</td>\n      <td>0.0</td>\n      <td>0.0</td>\n      <td>...</td>\n      <td>0.0</td>\n      <td>0.0</td>\n      <td>0.000000</td>\n      <td>0.0</td>\n      <td>0.0</td>\n      <td>0.0</td>\n      <td>0.0</td>\n      <td>0.000000</td>\n      <td>0.0</td>\n      <td>0.0</td>\n    </tr>\n    <tr>\n      <th>2</th>\n      <td>0.0</td>\n      <td>0.0</td>\n      <td>0.000000</td>\n      <td>0.0</td>\n      <td>0.0</td>\n      <td>0.0</td>\n      <td>0.0</td>\n      <td>0.0</td>\n      <td>0.0</td>\n      <td>0.0</td>\n      <td>...</td>\n      <td>0.0</td>\n      <td>0.0</td>\n      <td>0.000000</td>\n      <td>0.0</td>\n      <td>0.0</td>\n      <td>0.0</td>\n      <td>0.0</td>\n      <td>0.000000</td>\n      <td>0.0</td>\n      <td>0.0</td>\n    </tr>\n    <tr>\n      <th>3</th>\n      <td>0.0</td>\n      <td>0.0</td>\n      <td>0.000000</td>\n      <td>0.0</td>\n      <td>0.0</td>\n      <td>0.0</td>\n      <td>0.0</td>\n      <td>0.0</td>\n      <td>0.0</td>\n      <td>0.0</td>\n      <td>...</td>\n      <td>0.0</td>\n      <td>0.0</td>\n      <td>0.000000</td>\n      <td>0.0</td>\n      <td>0.0</td>\n      <td>0.0</td>\n      <td>0.0</td>\n      <td>0.000000</td>\n      <td>0.0</td>\n      <td>0.0</td>\n    </tr>\n    <tr>\n      <th>4</th>\n      <td>0.0</td>\n      <td>0.0</td>\n      <td>0.000000</td>\n      <td>0.0</td>\n      <td>0.0</td>\n      <td>0.0</td>\n      <td>0.0</td>\n      <td>0.0</td>\n      <td>0.0</td>\n      <td>0.0</td>\n      <td>...</td>\n      <td>0.0</td>\n      <td>0.0</td>\n      <td>0.000000</td>\n      <td>0.0</td>\n      <td>0.0</td>\n      <td>0.0</td>\n      <td>0.0</td>\n      <td>0.000000</td>\n      <td>0.0</td>\n      <td>0.0</td>\n    </tr>\n    <tr>\n      <th>...</th>\n      <td>...</td>\n      <td>...</td>\n      <td>...</td>\n      <td>...</td>\n      <td>...</td>\n      <td>...</td>\n      <td>...</td>\n      <td>...</td>\n      <td>...</td>\n      <td>...</td>\n      <td>...</td>\n      <td>...</td>\n      <td>...</td>\n      <td>...</td>\n      <td>...</td>\n      <td>...</td>\n      <td>...</td>\n      <td>...</td>\n      <td>...</td>\n      <td>...</td>\n      <td>...</td>\n    </tr>\n    <tr>\n      <th>5226</th>\n      <td>0.0</td>\n      <td>0.0</td>\n      <td>0.000000</td>\n      <td>0.0</td>\n      <td>0.0</td>\n      <td>0.0</td>\n      <td>0.0</td>\n      <td>0.0</td>\n      <td>0.0</td>\n      <td>0.0</td>\n      <td>...</td>\n      <td>0.0</td>\n      <td>0.0</td>\n      <td>0.000000</td>\n      <td>0.0</td>\n      <td>0.0</td>\n      <td>0.0</td>\n      <td>0.0</td>\n      <td>0.000000</td>\n      <td>0.0</td>\n      <td>0.0</td>\n    </tr>\n    <tr>\n      <th>5227</th>\n      <td>0.0</td>\n      <td>0.0</td>\n      <td>0.000000</td>\n      <td>0.0</td>\n      <td>0.0</td>\n      <td>0.0</td>\n      <td>0.0</td>\n      <td>0.0</td>\n      <td>0.0</td>\n      <td>0.0</td>\n      <td>...</td>\n      <td>0.0</td>\n      <td>0.0</td>\n      <td>0.000000</td>\n      <td>0.0</td>\n      <td>0.0</td>\n      <td>0.0</td>\n      <td>0.0</td>\n      <td>0.300889</td>\n      <td>0.0</td>\n      <td>0.0</td>\n    </tr>\n    <tr>\n      <th>5228</th>\n      <td>0.0</td>\n      <td>0.0</td>\n      <td>0.000000</td>\n      <td>0.0</td>\n      <td>0.0</td>\n      <td>0.0</td>\n      <td>0.0</td>\n      <td>0.0</td>\n      <td>0.0</td>\n      <td>0.0</td>\n      <td>...</td>\n      <td>0.0</td>\n      <td>0.0</td>\n      <td>0.000000</td>\n      <td>0.0</td>\n      <td>0.0</td>\n      <td>0.0</td>\n      <td>0.0</td>\n      <td>0.000000</td>\n      <td>0.0</td>\n      <td>0.0</td>\n    </tr>\n    <tr>\n      <th>5229</th>\n      <td>0.0</td>\n      <td>0.0</td>\n      <td>0.376658</td>\n      <td>0.0</td>\n      <td>0.0</td>\n      <td>0.0</td>\n      <td>0.0</td>\n      <td>0.0</td>\n      <td>0.0</td>\n      <td>0.0</td>\n      <td>...</td>\n      <td>0.0</td>\n      <td>0.0</td>\n      <td>0.000000</td>\n      <td>0.0</td>\n      <td>0.0</td>\n      <td>0.0</td>\n      <td>0.0</td>\n      <td>0.000000</td>\n      <td>0.0</td>\n      <td>0.0</td>\n    </tr>\n    <tr>\n      <th>5230</th>\n      <td>0.0</td>\n      <td>0.0</td>\n      <td>0.309187</td>\n      <td>0.0</td>\n      <td>0.0</td>\n      <td>0.0</td>\n      <td>0.0</td>\n      <td>0.0</td>\n      <td>0.0</td>\n      <td>0.0</td>\n      <td>...</td>\n      <td>0.0</td>\n      <td>0.0</td>\n      <td>0.337389</td>\n      <td>0.0</td>\n      <td>0.0</td>\n      <td>0.0</td>\n      <td>0.0</td>\n      <td>0.000000</td>\n      <td>0.0</td>\n      <td>0.0</td>\n    </tr>\n  </tbody>\n</table>\n<p>5231 rows × 522 columns</p>\n</div>"
     },
     "metadata": {}
    }
   ]
  },
  {
   "cell_type": "code",
   "metadata": {
    "tags": [],
    "cell_id": "00016-a71a99a3-ed4b-4e4a-84d7-d869a434b84e",
    "deepnote_to_be_reexecuted": false,
    "source_hash": "b6a9c61a",
    "execution_start": 1639031837318,
    "execution_millis": 31,
    "deepnote_cell_type": "code"
   },
   "source": "X_train_help, X_test_help, y_train_help, y_test_help = train_test_split(X, y_helpful, test_size = 0.3, random_state=0)",
   "execution_count": null,
   "outputs": []
  },
  {
   "cell_type": "code",
   "metadata": {
    "tags": [],
    "cell_id": "00017-d487bd68-4cfc-4c52-a740-2a08f91a4368",
    "deepnote_to_be_reexecuted": false,
    "source_hash": "73f1e1d2",
    "execution_start": 1639031837365,
    "execution_millis": 40,
    "deepnote_cell_type": "code"
   },
   "source": "# Defining a function to fit and predict ML algorithms\ndef model_help(mod, model_name, x_train, y_train, x_test, y_test):\n    mod.fit(x_train, y_train)\n    print(model_name)\n    acc = cross_val_score(mod, x_train, y_train, scoring = \"accuracy\", cv = 5)\n    predictions = cross_val_predict(mod, x_train, y_train, cv = 5)\n    if y_train.mean() < 0.5:\n        print(\"Guess Most Frequent Label \", 1-y_train.mean(), 1-y_test.mean()) \n    else:\n         print(\"Guess Most Frequent Label \", y_train.mean(), y_test.mean())\n    print(\"Accuracy:\", round(acc.mean(),3))\n    cm = confusion_matrix(predictions, y_train)\n    print(\"Confusion Matrix:  \\n\", cm)\n    print(\"                    Classification Report \\n\",classification_report(predictions, y_train))",
   "execution_count": null,
   "outputs": []
  },
  {
   "cell_type": "code",
   "metadata": {
    "tags": [],
    "cell_id": "00018-05bda9f0-56bf-40f7-8ec2-07ff4f38c318",
    "deepnote_to_be_reexecuted": false,
    "source_hash": "e01c8c00",
    "execution_start": 1639031837434,
    "execution_millis": 36,
    "deepnote_cell_type": "code"
   },
   "source": "gnb = GaussianNB()\nran = RandomForestClassifier(n_estimators=50)\nlog = LogisticRegression()\nsvc = LinearSVC()\n\nmodels = [gnb, ran, log, svc]\nmodel_names = [\"Gaussian\", \"Random Forest\", \"Logistic Regression\", \"Linear SVC\"]",
   "execution_count": null,
   "outputs": []
  },
  {
   "cell_type": "code",
   "metadata": {
    "tags": [],
    "cell_id": "00019-f5913dd9-f09f-42d0-a5a4-2c325b0a3b9d",
    "deepnote_to_be_reexecuted": false,
    "source_hash": "f3cc706f",
    "execution_start": 1639031837486,
    "execution_millis": 28133,
    "deepnote_output_heights": [
     606.1875
    ],
    "deepnote_cell_type": "code"
   },
   "source": "for i in range(len(models)):\n    model_help(models[i], model_names[i], X_train_help, y_train_help, X_test_help, y_test_help)",
   "execution_count": null,
   "outputs": [
    {
     "name": "stdout",
     "text": "Gaussian\nGuess Most Frequent Label  0.5916416279704999 0.5859872611464968\nAccuracy: 0.629\nConfusion Matrix:  \n [[1468  660]\n [ 698  835]]\n                    Classification Report \n               precision    recall  f1-score   support\n\n       False       0.68      0.69      0.68      2128\n        True       0.56      0.54      0.55      1533\n\n    accuracy                           0.63      3661\n   macro avg       0.62      0.62      0.62      3661\nweighted avg       0.63      0.63      0.63      3661\n\nRandom Forest\nGuess Most Frequent Label  0.5916416279704999 0.5859872611464968\nAccuracy: 0.647\nConfusion Matrix:  \n [[1658  824]\n [ 508  671]]\n                    Classification Report \n               precision    recall  f1-score   support\n\n       False       0.77      0.67      0.71      2482\n        True       0.45      0.57      0.50      1179\n\n    accuracy                           0.64      3661\n   macro avg       0.61      0.62      0.61      3661\nweighted avg       0.66      0.64      0.65      3661\n\nLogistic Regression\nGuess Most Frequent Label  0.5916416279704999 0.5859872611464968\nAccuracy: 0.657\nConfusion Matrix:  \n [[1775  866]\n [ 391  629]]\n                    Classification Report \n               precision    recall  f1-score   support\n\n       False       0.82      0.67      0.74      2641\n        True       0.42      0.62      0.50      1020\n\n    accuracy                           0.66      3661\n   macro avg       0.62      0.64      0.62      3661\nweighted avg       0.71      0.66      0.67      3661\n\nLinear SVC\nGuess Most Frequent Label  0.5916416279704999 0.5859872611464968\nAccuracy: 0.651\nConfusion Matrix:  \n [[1642  755]\n [ 524  740]]\n                    Classification Report \n               precision    recall  f1-score   support\n\n       False       0.76      0.69      0.72      2397\n        True       0.49      0.59      0.54      1264\n\n    accuracy                           0.65      3661\n   macro avg       0.63      0.64      0.63      3661\nweighted avg       0.67      0.65      0.66      3661\n\n",
     "output_type": "stream"
    }
   ]
  },
  {
   "cell_type": "markdown",
   "source": "## Plotting Word Feature Importance",
   "metadata": {
    "tags": [],
    "cell_id": "00023-1bd84319-14a9-4da0-b934-1a9619ea9b57",
    "is_collapsed": false,
    "deepnote_cell_type": "text-cell-h2"
   }
  },
  {
   "cell_type": "code",
   "metadata": {
    "tags": [],
    "cell_id": "00009-66336599-8f4f-4dc9-a6ca-eba1391d8a90",
    "deepnote_to_be_reexecuted": false,
    "source_hash": "cea8ad57",
    "execution_start": 1639031865629,
    "execution_millis": 1858,
    "deepnote_output_heights": [
     null,
     369
    ],
    "deepnote_cell_type": "code"
   },
   "source": "# Creating a plot for feature importance\ndef importance_plotting(data,x,y,palette,title):\n    sns.set(style=\"whitegrid\")\n    ft = sns.PairGrid(data,y_vars=y,x_vars=x,size=5,aspect=1)\n    ft.map(sns.stripplot,orient='h',palette=palette, edgecolor=\"black\",size=15)\n    for ax, title in zip(ft.axes.flat, titles):\n        \n    # Set a different title for each axes\n        ax.set(title=title)\n        \n    # Make the grid horizontal instead of vertical\n        ax.xaxis.grid(False)\n        ax.yaxis.grid(True)\n\n    plt.show()\n\n# Compile arrays of columns (words) and feature importances\n# fi = {'Words':model.drop('helpful',axis=1).columns.tolist(),'Importance':log.coef_[0]}\nfi = {'Words':X.columns.tolist(),'Importance':ran.feature_importances_}\n\n# Bung these into a dataframe, rank highest to lowest then slice top 25\nImportance = pd.DataFrame(fi,index=None).sort_values('Importance',ascending=False).head(25)\n\n# Plot the graph\ntitles = [\"Top 25 most important words in predicting note helpfulness\"]\nimportance_plotting(Importance,'Importance','Words','rocket_r',titles)",
   "execution_count": null,
   "outputs": [
    {
     "name": "stderr",
     "text": "/shared-libs/python3.8/py/lib/python3.8/site-packages/seaborn/axisgrid.py:1209: UserWarning: The `size` parameter has been renamed to `height`; please update your code.\n  warnings.warn(UserWarning(msg))\n",
     "output_type": "stream"
    },
    {
     "data": {
      "text/plain": "<Figure size 360x360 with 1 Axes>",
      "image/png": "[encoded data removed]"
     },
     "metadata": {
      "image/png": {
       "width": 417,
       "height": 367
      }
     },
     "output_type": "display_data"
    }
   ]
  },
  {
   "cell_type": "markdown",
   "source": "## Helpfulness vs Time",
   "metadata": {
    "tags": [],
    "cell_id": "00026-95fb9204-9e09-41f4-84f8-e22ef6f37d7d",
    "is_collapsed": false,
    "deepnote_cell_type": "text-cell-h2"
   }
  },
  {
   "cell_type": "code",
   "metadata": {
    "tags": [],
    "cell_id": "00027-6e64ddf1-c786-4a29-b980-e429c320fd63",
    "deepnote_to_be_reexecuted": false,
    "source_hash": "83b1d6c2",
    "execution_start": 1639031867532,
    "execution_millis": 73,
    "deepnote_cell_type": "code"
   },
   "source": "dates = [\n    # LAST_DATE,\n    '02/15/2021', \n    '03/01/2021', '03/15/2021', \n    '04/01/2021', '04/15/2021',\n    '05/01/2021', '05/15/2021', \n    '06/01/2021', '06/15/2021',\n    '07/01/2021', '07/15/2021',\n    '08/01/2021', '08/15/2021', \n    '09/01/2021', '09/15/2021']\nhelpfulness = []\nfor date in dates:\n    notes = dictionary['notes ' + date]\n    avg = len(notes.loc[notes['helpful'] == 2]) / len(notes)\n    helpfulness.append(avg)",
   "execution_count": null,
   "outputs": []
  },
  {
   "cell_type": "code",
   "metadata": {
    "tags": [],
    "cell_id": "00028-58cd29b3-0603-4618-8138-ef1954dbd09e",
    "deepnote_to_be_reexecuted": false,
    "source_hash": "7b4d3daa",
    "execution_start": 1639031867747,
    "execution_millis": 663,
    "deepnote_output_heights": [
     328
    ],
    "deepnote_cell_type": "code"
   },
   "source": "df = pd.DataFrame({\"Time\": dates,\n                   \"Helpfulness Score\": helpfulness})\nsns.lineplot(x=\"Time\", y=\"Helpfulness Score\", data=df)\nplt.xticks(rotation=45)\nplt.title('Average Helpfulness Score Over Time')\nplt.show()",
   "execution_count": null,
   "outputs": [
    {
     "data": {
      "text/plain": "<Figure size 432x288 with 1 Axes>",
      "image/png": "[encoded data removed]"
     },
     "metadata": {
      "image/png": {
       "width": 417,
       "height": 326
      }
     },
     "output_type": "display_data"
    }
   ]
  },
  {
   "cell_type": "markdown",
   "source": "## Power Law Distribution?",
   "metadata": {
    "tags": [],
    "cell_id": "00029-55d84ac2-4f10-4ad3-9d6c-3237da2f8104",
    "is_collapsed": false,
    "deepnote_cell_type": "text-cell-h2"
   }
  },
  {
   "cell_type": "code",
   "metadata": {
    "tags": [],
    "cell_id": "00030-4f019bdf-a600-4e30-9aa1-8da66dc2be2f",
    "deepnote_to_be_reexecuted": false,
    "source_hash": "6ab0acf3",
    "execution_start": 1639031868313,
    "execution_millis": 1,
    "deepnote_cell_type": "code"
   },
   "source": "notes_count = notes['participantId'].value_counts()\nratings_count = ratings['participantId'].value_counts()",
   "execution_count": null,
   "outputs": []
  },
  {
   "cell_type": "code",
   "metadata": {
    "tags": [],
    "cell_id": "00030-a2734370-6e72-433f-9ac3-165ddfd1c57d",
    "deepnote_to_be_reexecuted": false,
    "source_hash": "e78d6f67",
    "execution_start": 1639031868375,
    "execution_millis": 251,
    "deepnote_cell_type": "code"
   },
   "source": "rating_results = powerlaw.Fit(ratings_count)\nprint(rating_results.power_law.alpha)\nprint(rating_results.power_law.xmin)\nR, p = rating_results.distribution_compare('power_law', 'lognormal')\nprint('log likelihood: ', R)\nprint('significance of R', p)",
   "execution_count": null,
   "outputs": [
    {
     "name": "stdout",
     "text": "Calculating best minimal value for power law fit\n2.132900281310163\n12.0\nlog likelihood:  -0.44718033342252816\nsignificance of R 0.5734050449667039\n",
     "output_type": "stream"
    }
   ]
  },
  {
   "cell_type": "code",
   "metadata": {
    "tags": [],
    "cell_id": "00031-48644b18-6885-426f-9dcd-05e978fbf554",
    "deepnote_to_be_reexecuted": false,
    "source_hash": "e70a02ee",
    "execution_start": 1639031868630,
    "execution_millis": 279,
    "deepnote_cell_type": "code"
   },
   "source": "np.seterr(divide='ignore', invalid='ignore')\nnotes_results = powerlaw.Fit(notes_count)\nprint(notes_results.power_law.alpha)\nprint(notes_results.power_law.xmin)\nR, p = notes_results.distribution_compare('power_law', 'lognormal')\nprint('log likelihood: ', R)\nprint('significance of R', p)",
   "execution_count": null,
   "outputs": [
    {
     "name": "stdout",
     "text": "Calculating best minimal value for power law fit\n2.4089227968126643\n7.0\nlog likelihood:  -0.5909057698310973\nsignificance of R 0.18623177570208616\n'nan' in fit cumulative distribution values.\nLikely underflow or overflow error: the optimal fit for this distribution gives values that are so extreme that we lack the numerical precision to calculate them.\n",
     "output_type": "stream"
    }
   ]
  },
  {
   "cell_type": "code",
   "metadata": {
    "tags": [],
    "cell_id": "00035-32dc6567-6164-42b2-bc3d-c0832380ac09",
    "deepnote_to_be_reexecuted": false,
    "source_hash": "daab4cb7",
    "execution_start": 1639031868918,
    "execution_millis": 2795,
    "deepnote_output_heights": [
     21.1875,
     292
    ],
    "deepnote_cell_type": "code"
   },
   "source": "plot = powerlaw.plot_pdf(notes_count)\npowerlaw.plot_pdf(ratings_count, plot)\nplot.set_title(\"Probability Distribution Functions of Data Labor\")\nplot.legend(['notes pdf', 'ratings pdf'])\nplot.set_xlabel(\"Participant Contributions\")\nplot.set_ylabel(\"p(X), p(X>=x)\")",
   "execution_count": null,
   "outputs": [
    {
     "output_type": "execute_result",
     "execution_count": 26,
     "data": {
      "text/plain": "Text(0, 0.5, 'p(X), p(X>=x)')"
     },
     "metadata": {}
    },
    {
     "data": {
      "text/plain": "<Figure size 432x288 with 1 Axes>",
      "image/png": "[encoded data removed]"
     },
     "metadata": {
      "image/png": {
       "width": 402,
       "height": 290
      }
     },
     "output_type": "display_data"
    }
   ]
  },
  {
   "cell_type": "markdown",
   "source": "<a style='text-decoration:none;line-height:16px;display:flex;color:#5B5B62;padding:10px;justify-content:end;' href='https://deepnote.com?utm_source=created-in-deepnote-cell&projectId=c0e62a2c-7f45-414e-8164-5bf51e09d482' target=\"_blank\">\n<img alt='Created in deepnote.com' style='display:inline;max-height:16px;margin:0px;margin-right:7.5px;' src='data:image/svg+xml;base64,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' > </img>\nCreated in <span style='font-weight:600;margin-left:4px;'>Deepnote</span></a>",
   "metadata": {
    "tags": [],
    "created_in_deepnote_cell": true,
    "deepnote_cell_type": "markdown"
   }
  }
 ],
 "nbformat": 4,
 "nbformat_minor": 2,
 "metadata": {
  "orig_nbformat": 2,
  "deepnote": {
   "is_reactive": false
  },
  "deepnote_notebook_id": "592dd481-d162-4c3c-b77a-a4e028d642aa",
  "deepnote_execution_queue": []
 }
}