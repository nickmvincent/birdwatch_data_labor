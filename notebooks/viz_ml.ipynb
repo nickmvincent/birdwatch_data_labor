{
 "cells": [
  {
   "cell_type": "code",
   "metadata": {
    "cell_id": "3ceb9399-06b3-4663-a545-10e12d5adf9d",
    "tags": [],
    "deepnote_to_be_reexecuted": false,
    "source_hash": "97757040",
    "execution_start": 1649194182883,
    "execution_millis": 1798,
    "deepnote_cell_type": "code",
    "deepnote_cell_height": 189
   },
   "source": "import pandas as pd\nimport numpy as np\nimport pickle\nfrom collections import defaultdict\nimport seaborn as sns\nimport matplotlib.pyplot as plt\nimport matplotlib.dates as mdates",
   "outputs": [],
   "execution_count": null
  },
  {
   "cell_type": "code",
   "metadata": {
    "cell_id": "3ccb2459f9e84e2faba9a9c0a83f151a",
    "tags": [],
    "deepnote_to_be_reexecuted": false,
    "source_hash": "740bb973",
    "execution_start": 1649194184685,
    "execution_millis": 8,
    "deepnote_cell_type": "code",
    "deepnote_cell_height": 171
   },
   "source": "with open('../i_data/predictions.pickle', 'rb') as f:\n    y = pickle.load(f)\nfrac_results_df = y['frac_results_df']\nresults_df = y['results_df']\nquick_results_df = y['quick_results_df']\ndate_results_df = y['date_results_df']",
   "outputs": [],
   "execution_count": null
  },
  {
   "cell_type": "code",
   "metadata": {
    "cell_id": "384f203d3af949f18a711ee830833198",
    "tags": [],
    "deepnote_to_be_reexecuted": false,
    "source_hash": "a744126a",
    "execution_start": 1649194184696,
    "execution_millis": 3,
    "deepnote_table_state": {
     "pageSize": 10,
     "pageIndex": 5,
     "filters": [],
     "sortBy": []
    },
    "deepnote_table_loading": false,
    "deepnote_cell_type": "code",
    "deepnote_cell_height": 117
   },
   "source": "# quick_results_df[\n#     (quick_results_df.model_name == 'Most Frequent') & (quick_results_df['type'] == 'tweets')\n# ].groupby('label').test_mean.mean().sort_values()",
   "outputs": [],
   "execution_count": null
  },
  {
   "cell_type": "code",
   "metadata": {
    "cell_id": "75a521e2-5daa-4ba4-91c5-669871ea7ee5",
    "tags": [],
    "deepnote_to_be_reexecuted": false,
    "source_hash": "2bf29b4b",
    "execution_start": 1649194184715,
    "execution_millis": 122,
    "deepnote_table_state": {
     "pageSize": 10,
     "pageIndex": 0,
     "filters": [],
     "sortBy": []
    },
    "deepnote_table_loading": false,
    "deepnote_cell_type": "code",
    "deepnote_cell_height": 773
   },
   "source": "results_df.words.fillna(\"none\", inplace=True)\nfor name, group in results_df.groupby('label'):\n    print(name)\n    print(group.groupby(['model_name', 'words'])[['accuracy', 'roc_auc']].mean())\n    print(group.groupby(['model_name', 'words'])[['accuracy', 'roc_auc']].std())",
   "outputs": [
    {
     "name": "stdout",
     "text": "believable_quant\n                     accuracy   roc_auc\nmodel_name    words                    \nLGBM          none   0.890882  0.621883\n              tfidf  0.892943  0.627964\n              vecs   0.891792  0.626910\nMost Frequent none   0.849542  0.500000\n                     accuracy   roc_auc\nmodel_name    words                    \nLGBM          none   0.026373  0.104978\n              tfidf  0.025324  0.105706\n              vecs   0.025753  0.102883\nMost Frequent none   0.062645  0.000000\nclassification_quant\n                     accuracy   roc_auc\nmodel_name    words                    \nLGBM          none   0.936833  0.660139\n              tfidf  0.938288  0.666748\n              vecs   0.937864  0.663497\nMost Frequent none   0.901493  0.500000\n                     accuracy   roc_auc\nmodel_name    words                    \nLGBM          none   0.014893  0.143447\n              tfidf  0.013186  0.143977\n              vecs   0.013666  0.143015\nMost Frequent none   0.047467  0.000000\nharmful_quant\n                     accuracy   roc_auc\nmodel_name    words                    \nLGBM          none   0.777579  0.659612\n              tfidf  0.785218  0.675166\n              vecs   0.790492  0.693705\nMost Frequent none   0.691437  0.500000\n                     accuracy   roc_auc\nmodel_name    words                    \nLGBM          none   0.045891  0.047519\n              tfidf  0.043319  0.047712\n              vecs   0.038129  0.042247\nMost Frequent none   0.064298  0.000000\nhelpfulAddressesClaim\n                     accuracy   roc_auc\nmodel_name    words                    \nLGBM          none   0.648207  0.525745\n              tfidf  0.654978  0.551717\n              vecs   0.653831  0.553291\nMost Frequent none   0.656124  0.500000\n                     accuracy   roc_auc\nmodel_name    words                    \nLGBM          none   0.049136  0.008387\n              tfidf  0.040614  0.015324\n              vecs   0.040714  0.013398\nMost Frequent none   0.059787  0.000000\nhelpfulClear\n                     accuracy   roc_auc\nmodel_name    words                    \nLGBM          none   0.609248  0.577011\n              tfidf  0.619462  0.584700\n              vecs   0.622674  0.591712\nMost Frequent none   0.590140  0.500000\n                     accuracy   roc_auc\nmodel_name    words                    \nLGBM          none   0.022123  0.009684\n              tfidf  0.019426  0.012705\n              vecs   0.022050  0.009974\nMost Frequent none   0.039726  0.000000\nhelpfulGoodSources\n                     accuracy   roc_auc\nmodel_name    words                    \nLGBM          none   0.695949  0.692752\n              tfidf  0.707770  0.697426\n              vecs   0.711613  0.705382\nMost Frequent none   0.602648  0.500000\n                     accuracy   roc_auc\nmodel_name    words                    \nLGBM          none   0.018162  0.011615\n              tfidf  0.019835  0.018763\n              vecs   0.019353  0.014126\nMost Frequent none   0.062291  0.000000\nhelpful_quant\n                     accuracy   roc_auc\nmodel_name    words                    \nLGBM          none   0.734336  0.557957\n              tfidf  0.740418  0.576257\n              vecs   0.742714  0.570096\nMost Frequent none   0.731524  0.500000\n                     accuracy   roc_auc\nmodel_name    words                    \nLGBM          none   0.022830  0.008961\n              tfidf  0.018087  0.015330\n              vecs   0.021311  0.012668\nMost Frequent none   0.022748  0.000000\nmisleadingFactualError\n                     accuracy   roc_auc\nmodel_name    words                    \nLGBM          none   0.632881  0.563115\n              tfidf  0.635245  0.580633\n              vecs   0.633244  0.577662\nMost Frequent none   0.602028  0.500000\n                     accuracy   roc_auc\nmodel_name    words                    \nLGBM          none   0.018104  0.036601\n              tfidf  0.012475  0.030365\n              vecs   0.017220  0.030692\nMost Frequent none   0.042368  0.000000\nmisleadingMissingImportantContext\n                     accuracy   roc_auc\nmodel_name    words                    \nLGBM          none   0.630335  0.565483\n              tfidf  0.634519  0.587441\n              vecs   0.645127  0.588893\nMost Frequent none   0.600815  0.500000\n                     accuracy   roc_auc\nmodel_name    words                    \nLGBM          none   0.024712  0.035535\n              tfidf  0.030661  0.035353\n              vecs   0.023028  0.031062\nMost Frequent none   0.069508  0.000000\nmisleadingUnverifiedClaimAsFact\n                     accuracy   roc_auc\nmodel_name    words                    \nLGBM          none   0.591112  0.591599\n              tfidf  0.608387  0.607202\n              vecs   0.612146  0.611695\nMost Frequent none   0.476964  0.500000\n                     accuracy   roc_auc\nmodel_name    words                    \nLGBM          none   0.026793  0.027108\n              tfidf  0.037509  0.038052\n              vecs   0.035155  0.034660\nMost Frequent none   0.034060  0.000000\nnotMisleadingFactuallyCorrect\n                     accuracy   roc_auc\nmodel_name    words                    \nLGBM          none   0.921072  0.628807\n              tfidf  0.922042  0.633956\n              vecs   0.921617  0.632326\nMost Frequent none   0.902584  0.500000\n                     accuracy   roc_auc\nmodel_name    words                    \nLGBM          none   0.017869  0.120787\n              tfidf  0.016728  0.124980\n              vecs   0.017608  0.123935\nMost Frequent none   0.034167  0.000000\nval_quant\n                     accuracy   roc_auc\nmodel_name    words                    \nLGBM          none   0.764910  0.584518\n              tfidf  0.766668  0.589663\n              vecs   0.769214  0.590259\nMost Frequent none   0.725988  0.500000\n                     accuracy   roc_auc\nmodel_name    words                    \nLGBM          none   0.033469  0.061550\n              tfidf  0.033032  0.070548\n              vecs   0.033017  0.071508\nMost Frequent none   0.060429  0.000000\n",
     "output_type": "stream"
    }
   ],
   "execution_count": null
  },
  {
   "cell_type": "code",
   "metadata": {
    "cell_id": "44fb19ff-3324-47a8-bd00-6d062265235b",
    "tags": [],
    "deepnote_to_be_reexecuted": false,
    "source_hash": "d479d27",
    "execution_start": 1649194184835,
    "execution_millis": 5,
    "deepnote_cell_type": "code",
    "deepnote_cell_height": 333
   },
   "source": "nice_names_map = {\n    'believable_quant': 'Claim in tweet is believable',\n    'classification_quant': 'Claim in tweet merits Notes',\n    'harmful_quant': 'Claim in tweet is harmful',\n    'val_quant': 'Claim in tweet is difficult to validate',\n    'misleadingFactualError': 'Tweet has factual error',\n    'misleadingMissingImportantContext': 'Tweet is missing important context',\n    'misleadingUnverifiedClaimAsFact': 'Tweet treats unverified claim as fact',\n    'notMisleadingFactuallyCorrect': 'Tweet is factually correct',\n\n    'helpful_quant': 'Note is helpful',\n    'helpfulClear': 'Note is clear',\n    'helpfulAddressesClaim': 'Note addresses claim',\n    'helpfulGoodSources': 'Note uses good sources',\n}",
   "outputs": [],
   "execution_count": null
  },
  {
   "cell_type": "markdown",
   "source": "Table X shows predictive accuracy for every case.\n\nIn Figure Y, we highlight the five labels with the largest difference between maximum model performance and the performance of``guess most frequent label'' approach, i.e. the cases in which machine learning provides a meaningful boost in performance for Twitter users.",
   "metadata": {
    "cell_id": "fbf24853-d842-48a7-8ccf-ed8fa0ea127c",
    "tags": [],
    "deepnote_cell_type": "markdown",
    "deepnote_cell_height": 133.60000610351562
   }
  },
  {
   "cell_type": "code",
   "metadata": {
    "cell_id": "94787b19-e747-4597-bf38-39ccb7c17d7c",
    "tags": [],
    "deepnote_to_be_reexecuted": false,
    "source_hash": "20ebfa62",
    "execution_start": 1649194184840,
    "execution_millis": 9,
    "deepnote_cell_type": "code",
    "deepnote_cell_height": 99
   },
   "source": "results_df['Task'] = results_df.label.map(nice_names_map)\ndate_results_df['Task'] = date_results_df.label.map(nice_names_map)",
   "outputs": [],
   "execution_count": null
  },
  {
   "cell_type": "code",
   "metadata": {
    "cell_id": "4d6f524ffd714913ae31a909c1f49126",
    "tags": [],
    "deepnote_to_be_reexecuted": false,
    "source_hash": "b263c98f",
    "execution_start": 1649194184850,
    "execution_millis": 65,
    "deepnote_cell_type": "code",
    "deepnote_cell_height": 600
   },
   "source": "results_df",
   "outputs": [
    {
     "output_type": "execute_result",
     "execution_count": 7,
     "data": {
      "application/vnd.deepnote.dataframe.v3+json": {
       "column_count": 16,
       "row_count": 240,
       "columns": [
        {
         "name": "label",
         "dtype": "object",
         "stats": {
          "unique_count": 12,
          "nan_count": 0,
          "categories": [
           {
            "name": "believable_quant",
            "count": 20
           },
           {
            "name": "classification_quant",
            "count": 20
           },
           {
            "name": "10 others",
            "count": 200
           }
          ]
         }
        },
        {
         "name": "model_name",
         "dtype": "object",
         "stats": {
          "unique_count": 2,
          "nan_count": 0,
          "categories": [
           {
            "name": "LGBM",
            "count": 180
           },
           {
            "name": "Most Frequent",
            "count": 60
           }
          ]
         }
        },
        {
         "name": "trn_mean",
         "dtype": "float64",
         "stats": {
          "unique_count": 60,
          "nan_count": 0,
          "min": "0.08827763885731606",
          "max": "0.9163446237781314",
          "histogram": [
           {
            "bin_start": 0.08827763885731606,
            "bin_end": 0.1710843373493976,
            "count": 20
           },
           {
            "bin_start": 0.1710843373493976,
            "bin_end": 0.2538910358414791,
            "count": 0
           },
           {
            "bin_start": 0.2538910358414791,
            "bin_end": 0.33669773433356065,
            "count": 24
           },
           {
            "bin_start": 0.33669773433356065,
            "bin_end": 0.41950443282564215,
            "count": 52
           },
           {
            "bin_start": 0.41950443282564215,
            "bin_end": 0.5023111313177238,
            "count": 20
           },
           {
            "bin_start": 0.5023111313177238,
            "bin_end": 0.5851178298098052,
            "count": 4
           },
           {
            "bin_start": 0.5851178298098052,
            "bin_end": 0.6679245283018868,
            "count": 40
           },
           {
            "bin_start": 0.6679245283018868,
            "bin_end": 0.7507312267939683,
            "count": 40
           },
           {
            "bin_start": 0.7507312267939683,
            "bin_end": 0.8335379252860499,
            "count": 4
           },
           {
            "bin_start": 0.8335379252860499,
            "bin_end": 0.9163446237781314,
            "count": 36
           }
          ]
         }
        },
        {
         "name": "test_mean",
         "dtype": "float64",
         "stats": {
          "unique_count": 60,
          "nan_count": 0,
          "min": "0.05486511063958775",
          "max": "0.9505910882085481",
          "histogram": [
           {
            "bin_start": 0.05486511063958775,
            "bin_end": 0.1444377083964838,
            "count": 20
           },
           {
            "bin_start": 0.1444377083964838,
            "bin_end": 0.2340103061533798,
            "count": 4
           },
           {
            "bin_start": 0.2340103061533798,
            "bin_end": 0.3235829039102759,
            "count": 20
           },
           {
            "bin_start": 0.3235829039102759,
            "bin_end": 0.4131555016671719,
            "count": 36
           },
           {
            "bin_start": 0.4131555016671719,
            "bin_end": 0.5027280994240679,
            "count": 32
           },
           {
            "bin_start": 0.5027280994240679,
            "bin_end": 0.592300697180964,
            "count": 24
           },
           {
            "bin_start": 0.592300697180964,
            "bin_end": 0.68187329493786,
            "count": 32
           },
           {
            "bin_start": 0.68187329493786,
            "bin_end": 0.771445892694756,
            "count": 36
           },
           {
            "bin_start": 0.771445892694756,
            "bin_end": 0.8610184904516521,
            "count": 8
           },
           {
            "bin_start": 0.8610184904516521,
            "bin_end": 0.9505910882085481,
            "count": 28
           }
          ]
         }
        },
        {
         "name": "num_trn",
         "dtype": "int64",
         "stats": {
          "unique_count": 4,
          "nan_count": 0,
          "min": "13196",
          "max": "13943",
          "histogram": [
           {
            "bin_start": 13196,
            "bin_end": 13270.7,
            "count": 160
           },
           {
            "bin_start": 13270.7,
            "bin_end": 13345.4,
            "count": 0
           },
           {
            "bin_start": 13345.4,
            "bin_end": 13420.1,
            "count": 0
           },
           {
            "bin_start": 13420.1,
            "bin_end": 13494.8,
            "count": 0
           },
           {
            "bin_start": 13494.8,
            "bin_end": 13569.5,
            "count": 0
           },
           {
            "bin_start": 13569.5,
            "bin_end": 13644.2,
            "count": 0
           },
           {
            "bin_start": 13644.2,
            "bin_end": 13718.9,
            "count": 0
           },
           {
            "bin_start": 13718.9,
            "bin_end": 13793.6,
            "count": 0
           },
           {
            "bin_start": 13793.6,
            "bin_end": 13868.3,
            "count": 0
           },
           {
            "bin_start": 13868.3,
            "bin_end": 13943,
            "count": 80
           }
          ]
         }
        },
        {
         "name": "num_test",
         "dtype": "int64",
         "stats": {
          "unique_count": 4,
          "nan_count": 0,
          "min": "3299",
          "max": "3486",
          "histogram": [
           {
            "bin_start": 3299,
            "bin_end": 3317.7,
            "count": 160
           },
           {
            "bin_start": 3317.7,
            "bin_end": 3336.4,
            "count": 0
           },
           {
            "bin_start": 3336.4,
            "bin_end": 3355.1,
            "count": 0
           },
           {
            "bin_start": 3355.1,
            "bin_end": 3373.8,
            "count": 0
           },
           {
            "bin_start": 3373.8,
            "bin_end": 3392.5,
            "count": 0
           },
           {
            "bin_start": 3392.5,
            "bin_end": 3411.2,
            "count": 0
           },
           {
            "bin_start": 3411.2,
            "bin_end": 3429.9,
            "count": 0
           },
           {
            "bin_start": 3429.9,
            "bin_end": 3448.6,
            "count": 0
           },
           {
            "bin_start": 3448.6,
            "bin_end": 3467.3,
            "count": 0
           },
           {
            "bin_start": 3467.3,
            "bin_end": 3486,
            "count": 80
           }
          ]
         }
        },
        {
         "name": "accuracy",
         "dtype": "float64",
         "stats": {
          "unique_count": 231,
          "nan_count": 0,
          "min": "0.4289178538951197",
          "max": "0.9508942103667778",
          "histogram": [
           {
            "bin_start": 0.4289178538951197,
            "bin_end": 0.4811154895422855,
            "count": 3
           },
           {
            "bin_start": 0.4811154895422855,
            "bin_end": 0.5333131251894513,
            "count": 5
           },
           {
            "bin_start": 0.5333131251894513,
            "bin_end": 0.5855107608366171,
            "count": 14
           },
           {
            "bin_start": 0.5855107608366171,
            "bin_end": 0.637708396483783,
            "count": 49
           },
           {
            "bin_start": 0.637708396483783,
            "bin_end": 0.6899060321309487,
            "count": 40
           },
           {
            "bin_start": 0.6899060321309487,
            "bin_end": 0.7421036677781145,
            "count": 32
           },
           {
            "bin_start": 0.7421036677781145,
            "bin_end": 0.7943013034252804,
            "count": 27
           },
           {
            "bin_start": 0.7943013034252804,
            "bin_end": 0.8464989390724462,
            "count": 14
           },
           {
            "bin_start": 0.8464989390724462,
            "bin_end": 0.898696574719612,
            "count": 12
           },
           {
            "bin_start": 0.898696574719612,
            "bin_end": 0.9508942103667778,
            "count": 44
           }
          ]
         }
        },
        {
         "name": "roc_auc",
         "dtype": "float64",
         "stats": {
          "unique_count": 181,
          "nan_count": 0,
          "min": "0.5",
          "max": "0.8234774395403293",
          "histogram": [
           {
            "bin_start": 0.5,
            "bin_end": 0.532347743954033,
            "count": 91
           },
           {
            "bin_start": 0.532347743954033,
            "bin_end": 0.5646954879080659,
            "count": 29
           },
           {
            "bin_start": 0.5646954879080659,
            "bin_end": 0.5970432318620988,
            "count": 34
           },
           {
            "bin_start": 0.5970432318620988,
            "bin_end": 0.6293909758161317,
            "count": 22
           },
           {
            "bin_start": 0.6293909758161317,
            "bin_end": 0.6617387197701646,
            "count": 17
           },
           {
            "bin_start": 0.6617387197701646,
            "bin_end": 0.6940864637241976,
            "count": 16
           },
           {
            "bin_start": 0.6940864637241976,
            "bin_end": 0.7264342076782305,
            "count": 16
           },
           {
            "bin_start": 0.7264342076782305,
            "bin_end": 0.7587819516322634,
            "count": 7
           },
           {
            "bin_start": 0.7587819516322634,
            "bin_end": 0.7911296955862963,
            "count": 5
           },
           {
            "bin_start": 0.7911296955862963,
            "bin_end": 0.8234774395403293,
            "count": 3
           }
          ]
         }
        },
        {
         "name": "precision",
         "dtype": "float64",
         "stats": {
          "unique_count": 212,
          "nan_count": 0,
          "min": "0.0",
          "max": "0.9517010935601458",
          "histogram": [
           {
            "bin_start": 0,
            "bin_end": 0.09517010935601458,
            "count": 29
           },
           {
            "bin_start": 0.09517010935601458,
            "bin_end": 0.19034021871202916,
            "count": 1
           },
           {
            "bin_start": 0.19034021871202916,
            "bin_end": 0.2855103280680438,
            "count": 4
           },
           {
            "bin_start": 0.2855103280680438,
            "bin_end": 0.3806804374240583,
            "count": 2
           },
           {
            "bin_start": 0.3806804374240583,
            "bin_end": 0.4758505467800729,
            "count": 7
           },
           {
            "bin_start": 0.4758505467800729,
            "bin_end": 0.5710206561360875,
            "count": 39
           },
           {
            "bin_start": 0.5710206561360875,
            "bin_end": 0.6661907654921021,
            "count": 46
           },
           {
            "bin_start": 0.6661907654921021,
            "bin_end": 0.7613608748481167,
            "count": 46
           },
           {
            "bin_start": 0.7613608748481167,
            "bin_end": 0.8565309842041312,
            "count": 30
           },
           {
            "bin_start": 0.8565309842041312,
            "bin_end": 0.9517010935601458,
            "count": 36
           }
          ]
         }
        },
        {
         "name": "recall",
         "dtype": "float64",
         "stats": {
          "unique_count": 173,
          "nan_count": 0,
          "min": "0.0",
          "max": "1.0",
          "histogram": [
           {
            "bin_start": 0,
            "bin_end": 0.1,
            "count": 38
           },
           {
            "bin_start": 0.1,
            "bin_end": 0.2,
            "count": 10
           },
           {
            "bin_start": 0.2,
            "bin_end": 0.30000000000000004,
            "count": 12
           },
           {
            "bin_start": 0.30000000000000004,
            "bin_end": 0.4,
            "count": 13
           },
           {
            "bin_start": 0.4,
            "bin_end": 0.5,
            "count": 12
           },
           {
            "bin_start": 0.5,
            "bin_end": 0.6000000000000001,
            "count": 19
           },
           {
            "bin_start": 0.6000000000000001,
            "bin_end": 0.7000000000000001,
            "count": 11
           },
           {
            "bin_start": 0.7000000000000001,
            "bin_end": 0.8,
            "count": 7
           },
           {
            "bin_start": 0.8,
            "bin_end": 0.9,
            "count": 23
           },
           {
            "bin_start": 0.9,
            "bin_end": 1,
            "count": 95
           }
          ]
         }
        },
        {
         "name": "f1",
         "dtype": "float64",
         "stats": {
          "unique_count": 212,
          "nan_count": 0,
          "min": "0.0",
          "max": "0.9747977598008712",
          "histogram": [
           {
            "bin_start": 0,
            "bin_end": 0.09747977598008713,
            "count": 38
           },
           {
            "bin_start": 0.09747977598008713,
            "bin_end": 0.19495955196017425,
            "count": 1
           },
           {
            "bin_start": 0.19495955196017425,
            "bin_end": 0.2924393279402614,
            "count": 11
           },
           {
            "bin_start": 0.2924393279402614,
            "bin_end": 0.3899191039203485,
            "count": 8
           },
           {
            "bin_start": 0.3899191039203485,
            "bin_end": 0.4873988799004356,
            "count": 16
           },
           {
            "bin_start": 0.4873988799004356,
            "bin_end": 0.5848786558805228,
            "count": 22
           },
           {
            "bin_start": 0.5848786558805228,
            "bin_end": 0.6823584318606098,
            "count": 22
           },
           {
            "bin_start": 0.6823584318606098,
            "bin_end": 0.779838207840697,
            "count": 38
           },
           {
            "bin_start": 0.779838207840697,
            "bin_end": 0.8773179838207842,
            "count": 41
           },
           {
            "bin_start": 0.8773179838207842,
            "bin_end": 0.9747977598008712,
            "count": 43
           }
          ]
         }
        },
        {
         "name": "type",
         "dtype": "object",
         "stats": {
          "unique_count": 2,
          "nan_count": 0,
          "categories": [
           {
            "name": "tweets",
            "count": 160
           },
           {
            "name": "notes",
            "count": 80
           }
          ]
         }
        },
        {
         "name": "fold_number",
         "dtype": "float64",
         "stats": {
          "unique_count": 5,
          "nan_count": 80,
          "min": "0.0",
          "max": "4.0",
          "histogram": [
           {
            "bin_start": 0,
            "bin_end": 0.4,
            "count": 32
           },
           {
            "bin_start": 0.4,
            "bin_end": 0.8,
            "count": 0
           },
           {
            "bin_start": 0.8,
            "bin_end": 1.2000000000000002,
            "count": 32
           },
           {
            "bin_start": 1.2000000000000002,
            "bin_end": 1.6,
            "count": 0
           },
           {
            "bin_start": 1.6,
            "bin_end": 2,
            "count": 0
           },
           {
            "bin_start": 2,
            "bin_end": 2.4000000000000004,
            "count": 32
           },
           {
            "bin_start": 2.4000000000000004,
            "bin_end": 2.8000000000000003,
            "count": 0
           },
           {
            "bin_start": 2.8000000000000003,
            "bin_end": 3.2,
            "count": 32
           },
           {
            "bin_start": 3.2,
            "bin_end": 3.6,
            "count": 0
           },
           {
            "bin_start": 3.6,
            "bin_end": 4,
            "count": 32
           }
          ]
         }
        },
        {
         "name": "words",
         "dtype": "object",
         "stats": {
          "unique_count": 3,
          "nan_count": 0,
          "categories": [
           {
            "name": "none",
            "count": 120
           },
           {
            "name": "tfidf",
            "count": 60
           },
           {
            "name": "vecs",
            "count": 60
           }
          ]
         }
        },
        {
         "name": "features",
         "dtype": "object",
         "stats": {
          "unique_count": 1,
          "nan_count": 0,
          "categories": [
           {
            "name": "has_questionmark,has_exclamationmark,has_period,num_upper,has_digit,char_count,num_links,has_links,Polarity,Subjectivity",
            "count": 240
           }
          ]
         }
        },
        {
         "name": "Task",
         "dtype": "object",
         "stats": {
          "unique_count": 12,
          "nan_count": 0,
          "categories": [
           {
            "name": "Claim in tweet is believable",
            "count": 20
           },
           {
            "name": "Claim in tweet merits Notes",
            "count": 20
           },
           {
            "name": "10 others",
            "count": 200
           }
          ]
         }
        },
        {
         "name": "_deepnote_index_column",
         "dtype": "int64"
        }
       ],
       "rows": [
        {
         "label": "believable_quant",
         "model_name": "Most Frequent",
         "trn_mean": 0.8607911488329797,
         "test_mean": 0.8045454545454546,
         "num_trn": 13196,
         "num_test": 3300,
         "accuracy": 0.8045454545454546,
         "roc_auc": 0.5,
         "precision": 0.8045454545454546,
         "recall": 1,
         "f1": 0.8916876574307304,
         "type": "tweets",
         "fold_number": 0,
         "words": "none",
         "features": "has_questionmark,has_exclamationmark,has_period,num_upper,has_digit,char_count,num_links,has_links,Polarity,Subjectivity",
         "Task": "Claim in tweet is believable",
         "_deepnote_index_column": 0
        },
        {
         "label": "classification_quant",
         "model_name": "Most Frequent",
         "trn_mean": 0.9105789633222189,
         "test_mean": 0.8651515151515151,
         "num_trn": 13196,
         "num_test": 3300,
         "accuracy": 0.8651515151515151,
         "roc_auc": 0.5,
         "precision": 0.8651515151515151,
         "recall": 1,
         "f1": 0.9277010560519902,
         "type": "tweets",
         "fold_number": 0,
         "words": "none",
         "features": "has_questionmark,has_exclamationmark,has_period,num_upper,has_digit,char_count,num_links,has_links,Polarity,Subjectivity",
         "Task": "Claim in tweet merits Notes",
         "_deepnote_index_column": 1
        },
        {
         "label": "harmful_quant",
         "model_name": "Most Frequent",
         "trn_mean": 0.6783873901182177,
         "test_mean": 0.7436363636363637,
         "num_trn": 13196,
         "num_test": 3300,
         "accuracy": 0.7436363636363637,
         "roc_auc": 0.5,
         "precision": 0.7436363636363637,
         "recall": 1,
         "f1": 0.8529718456725756,
         "type": "tweets",
         "fold_number": 0,
         "words": "none",
         "features": "has_questionmark,has_exclamationmark,has_period,num_upper,has_digit,char_count,num_links,has_links,Polarity,Subjectivity",
         "Task": "Claim in tweet is harmful",
         "_deepnote_index_column": 2
        },
        {
         "label": "misleadingFactualError",
         "model_name": "Most Frequent",
         "trn_mean": 0.6135192482570476,
         "test_mean": 0.556060606060606,
         "num_trn": 13196,
         "num_test": 3300,
         "accuracy": 0.556060606060606,
         "roc_auc": 0.5,
         "precision": 0.556060606060606,
         "recall": 1,
         "f1": 0.7147030185004868,
         "type": "tweets",
         "fold_number": 0,
         "words": "none",
         "features": "has_questionmark,has_exclamationmark,has_period,num_upper,has_digit,char_count,num_links,has_links,Polarity,Subjectivity",
         "Task": "Tweet has factual error",
         "_deepnote_index_column": 3
        },
        {
         "label": "misleadingMissingImportantContext",
         "model_name": "Most Frequent",
         "trn_mean": 0.6104880266747499,
         "test_mean": 0.5621212121212121,
         "num_trn": 13196,
         "num_test": 3300,
         "accuracy": 0.5621212121212121,
         "roc_auc": 0.5,
         "precision": 0.5621212121212121,
         "recall": 1,
         "f1": 0.7196896217264792,
         "type": "tweets",
         "fold_number": 0,
         "words": "none",
         "features": "has_questionmark,has_exclamationmark,has_period,num_upper,has_digit,char_count,num_links,has_links,Polarity,Subjectivity",
         "Task": "Tweet is missing important context",
         "_deepnote_index_column": 4
        },
        {
         "label": "misleadingUnverifiedClaimAsFact",
         "model_name": "Most Frequent",
         "trn_mean": 0.4899211882388603,
         "test_mean": 0.5133333333333333,
         "num_trn": 13196,
         "num_test": 3300,
         "accuracy": 0.4866666666666667,
         "roc_auc": 0.5,
         "precision": 0,
         "recall": 0,
         "f1": 0,
         "type": "tweets",
         "fold_number": 0,
         "words": "none",
         "features": "has_questionmark,has_exclamationmark,has_period,num_upper,has_digit,char_count,num_links,has_links,Polarity,Subjectivity",
         "Task": "Tweet treats unverified claim as fact",
         "_deepnote_index_column": 5
        },
        {
         "label": "notMisleadingFactuallyCorrect",
         "model_name": "Most Frequent",
         "trn_mean": 0.0907850863898151,
         "test_mean": 0.12393939393939393,
         "num_trn": 13196,
         "num_test": 3300,
         "accuracy": 0.8760606060606061,
         "roc_auc": 0.5,
         "precision": 0,
         "recall": 0,
         "f1": 0,
         "type": "tweets",
         "fold_number": 0,
         "words": "none",
         "features": "has_questionmark,has_exclamationmark,has_period,num_upper,has_digit,char_count,num_links,has_links,Polarity,Subjectivity",
         "Task": "Tweet is factually correct",
         "_deepnote_index_column": 6
        },
        {
         "label": "val_quant",
         "model_name": "Most Frequent",
         "trn_mean": 0.29849954531676265,
         "test_mean": 0.17606060606060606,
         "num_trn": 13196,
         "num_test": 3300,
         "accuracy": 0.823939393939394,
         "roc_auc": 0.5,
         "precision": 0,
         "recall": 0,
         "f1": 0,
         "type": "tweets",
         "fold_number": 0,
         "words": "none",
         "features": "has_questionmark,has_exclamationmark,has_period,num_upper,has_digit,char_count,num_links,has_links,Polarity,Subjectivity",
         "Task": "Claim in tweet is difficult to validate",
         "_deepnote_index_column": 7
        },
        {
         "label": "believable_quant",
         "model_name": "Most Frequent",
         "trn_mean": 0.8701977722209593,
         "test_mean": 0.7668990603213095,
         "num_trn": 13197,
         "num_test": 3299,
         "accuracy": 0.7668990603213095,
         "roc_auc": 0.5,
         "precision": 0.7668990603213095,
         "recall": 1,
         "f1": 0.8680734259735804,
         "type": "tweets",
         "fold_number": 1,
         "words": "none",
         "features": "has_questionmark,has_exclamationmark,has_period,num_upper,has_digit,char_count,num_links,has_links,Polarity,Subjectivity",
         "Task": "Claim in tweet is believable",
         "_deepnote_index_column": 8
        },
        {
         "label": "classification_quant",
         "model_name": "Most Frequent",
         "trn_mean": 0.9163446237781314,
         "test_mean": 0.8420733555622916,
         "num_trn": 13197,
         "num_test": 3299,
         "accuracy": 0.8420733555622916,
         "roc_auc": 0.5,
         "precision": 0.8420733555622916,
         "recall": 1,
         "f1": 0.9142669080138225,
         "type": "tweets",
         "fold_number": 1,
         "words": "none",
         "features": "has_questionmark,has_exclamationmark,has_period,num_upper,has_digit,char_count,num_links,has_links,Polarity,Subjectivity",
         "Task": "Claim in tweet merits Notes",
         "_deepnote_index_column": 9
        }
       ]
      },
      "text/plain": "                                 label     model_name  trn_mean  test_mean  \\\n0                     believable_quant  Most Frequent  0.860791   0.804545   \n1                 classification_quant  Most Frequent  0.910579   0.865152   \n2                        harmful_quant  Most Frequent  0.678387   0.743636   \n3               misleadingFactualError  Most Frequent  0.613519   0.556061   \n4    misleadingMissingImportantContext  Most Frequent  0.610488   0.562121   \n..                                 ...            ...       ...        ...   \n235                      helpful_quant           LGBM  0.734777   0.718508   \n236              helpfulAddressesClaim           LGBM  0.318009   0.447346   \n237                       helpfulClear           LGBM  0.393674   0.474605   \n238                 helpfulGoodSources           LGBM  0.375457   0.484935   \n239                      helpful_quant           LGBM  0.726099   0.753228   \n\n     num_trn  num_test  accuracy   roc_auc  precision    recall        f1  \\\n0      13196      3300  0.804545  0.500000   0.804545  1.000000  0.891688   \n1      13196      3300  0.865152  0.500000   0.865152  1.000000  0.927701   \n2      13196      3300  0.743636  0.500000   0.743636  1.000000  0.852972   \n3      13196      3300  0.556061  0.500000   0.556061  1.000000  0.714703   \n4      13196      3300  0.562121  0.500000   0.562121  1.000000  0.719690   \n..       ...       ...       ...       ...        ...       ...       ...   \n235    13943      3485  0.733716  0.580954   0.755512  0.930511  0.833930   \n236    13943      3485  0.592539  0.565542   0.584242  0.309173  0.404362   \n237    13943      3485  0.585366  0.582263   0.568977  0.521161  0.544020   \n238    13943      3485  0.682640  0.685969   0.638520  0.796450  0.708794   \n239    13943      3485  0.763558  0.560022   0.777162  0.961905  0.859721   \n\n       type  fold_number words  \\\n0    tweets          0.0  none   \n1    tweets          0.0  none   \n2    tweets          0.0  none   \n3    tweets          0.0  none   \n4    tweets          0.0  none   \n..      ...          ...   ...   \n235   notes          NaN  vecs   \n236   notes          NaN  vecs   \n237   notes          NaN  vecs   \n238   notes          NaN  vecs   \n239   notes          NaN  vecs   \n\n                                              features  \\\n0    has_questionmark,has_exclamationmark,has_perio...   \n1    has_questionmark,has_exclamationmark,has_perio...   \n2    has_questionmark,has_exclamationmark,has_perio...   \n3    has_questionmark,has_exclamationmark,has_perio...   \n4    has_questionmark,has_exclamationmark,has_perio...   \n..                                                 ...   \n235  has_questionmark,has_exclamationmark,has_perio...   \n236  has_questionmark,has_exclamationmark,has_perio...   \n237  has_questionmark,has_exclamationmark,has_perio...   \n238  has_questionmark,has_exclamationmark,has_perio...   \n239  has_questionmark,has_exclamationmark,has_perio...   \n\n                                   Task  \n0          Claim in tweet is believable  \n1           Claim in tweet merits Notes  \n2             Claim in tweet is harmful  \n3               Tweet has factual error  \n4    Tweet is missing important context  \n..                                  ...  \n235                     Note is helpful  \n236                Note addresses claim  \n237                       Note is clear  \n238              Note uses good sources  \n239                     Note is helpful  \n\n[240 rows x 16 columns]",
      "text/html": "<div>\n<style scoped>\n    .dataframe tbody tr th:only-of-type {\n        vertical-align: middle;\n    }\n\n    .dataframe tbody tr th {\n        vertical-align: top;\n    }\n\n    .dataframe thead th {\n        text-align: right;\n    }\n</style>\n<table border=\"1\" class=\"dataframe\">\n  <thead>\n    <tr style=\"text-align: right;\">\n      <th></th>\n      <th>label</th>\n      <th>model_name</th>\n      <th>trn_mean</th>\n      <th>test_mean</th>\n      <th>num_trn</th>\n      <th>num_test</th>\n      <th>accuracy</th>\n      <th>roc_auc</th>\n      <th>precision</th>\n      <th>recall</th>\n      <th>f1</th>\n      <th>type</th>\n      <th>fold_number</th>\n      <th>words</th>\n      <th>features</th>\n      <th>Task</th>\n    </tr>\n  </thead>\n  <tbody>\n    <tr>\n      <th>0</th>\n      <td>believable_quant</td>\n      <td>Most Frequent</td>\n      <td>0.860791</td>\n      <td>0.804545</td>\n      <td>13196</td>\n      <td>3300</td>\n      <td>0.804545</td>\n      <td>0.500000</td>\n      <td>0.804545</td>\n      <td>1.000000</td>\n      <td>0.891688</td>\n      <td>tweets</td>\n      <td>0.0</td>\n      <td>none</td>\n      <td>has_questionmark,has_exclamationmark,has_perio...</td>\n      <td>Claim in tweet is believable</td>\n    </tr>\n    <tr>\n      <th>1</th>\n      <td>classification_quant</td>\n      <td>Most Frequent</td>\n      <td>0.910579</td>\n      <td>0.865152</td>\n      <td>13196</td>\n      <td>3300</td>\n      <td>0.865152</td>\n      <td>0.500000</td>\n      <td>0.865152</td>\n      <td>1.000000</td>\n      <td>0.927701</td>\n      <td>tweets</td>\n      <td>0.0</td>\n      <td>none</td>\n      <td>has_questionmark,has_exclamationmark,has_perio...</td>\n      <td>Claim in tweet merits Notes</td>\n    </tr>\n    <tr>\n      <th>2</th>\n      <td>harmful_quant</td>\n      <td>Most Frequent</td>\n      <td>0.678387</td>\n      <td>0.743636</td>\n      <td>13196</td>\n      <td>3300</td>\n      <td>0.743636</td>\n      <td>0.500000</td>\n      <td>0.743636</td>\n      <td>1.000000</td>\n      <td>0.852972</td>\n      <td>tweets</td>\n      <td>0.0</td>\n      <td>none</td>\n      <td>has_questionmark,has_exclamationmark,has_perio...</td>\n      <td>Claim in tweet is harmful</td>\n    </tr>\n    <tr>\n      <th>3</th>\n      <td>misleadingFactualError</td>\n      <td>Most Frequent</td>\n      <td>0.613519</td>\n      <td>0.556061</td>\n      <td>13196</td>\n      <td>3300</td>\n      <td>0.556061</td>\n      <td>0.500000</td>\n      <td>0.556061</td>\n      <td>1.000000</td>\n      <td>0.714703</td>\n      <td>tweets</td>\n      <td>0.0</td>\n      <td>none</td>\n      <td>has_questionmark,has_exclamationmark,has_perio...</td>\n      <td>Tweet has factual error</td>\n    </tr>\n    <tr>\n      <th>4</th>\n      <td>misleadingMissingImportantContext</td>\n      <td>Most Frequent</td>\n      <td>0.610488</td>\n      <td>0.562121</td>\n      <td>13196</td>\n      <td>3300</td>\n      <td>0.562121</td>\n      <td>0.500000</td>\n      <td>0.562121</td>\n      <td>1.000000</td>\n      <td>0.719690</td>\n      <td>tweets</td>\n      <td>0.0</td>\n      <td>none</td>\n      <td>has_questionmark,has_exclamationmark,has_perio...</td>\n      <td>Tweet is missing important context</td>\n    </tr>\n    <tr>\n      <th>...</th>\n      <td>...</td>\n      <td>...</td>\n      <td>...</td>\n      <td>...</td>\n      <td>...</td>\n      <td>...</td>\n      <td>...</td>\n      <td>...</td>\n      <td>...</td>\n      <td>...</td>\n      <td>...</td>\n      <td>...</td>\n      <td>...</td>\n      <td>...</td>\n      <td>...</td>\n      <td>...</td>\n    </tr>\n    <tr>\n      <th>235</th>\n      <td>helpful_quant</td>\n      <td>LGBM</td>\n      <td>0.734777</td>\n      <td>0.718508</td>\n      <td>13943</td>\n      <td>3485</td>\n      <td>0.733716</td>\n      <td>0.580954</td>\n      <td>0.755512</td>\n      <td>0.930511</td>\n      <td>0.833930</td>\n      <td>notes</td>\n      <td>NaN</td>\n      <td>vecs</td>\n      <td>has_questionmark,has_exclamationmark,has_perio...</td>\n      <td>Note is helpful</td>\n    </tr>\n    <tr>\n      <th>236</th>\n      <td>helpfulAddressesClaim</td>\n      <td>LGBM</td>\n      <td>0.318009</td>\n      <td>0.447346</td>\n      <td>13943</td>\n      <td>3485</td>\n      <td>0.592539</td>\n      <td>0.565542</td>\n      <td>0.584242</td>\n      <td>0.309173</td>\n      <td>0.404362</td>\n      <td>notes</td>\n      <td>NaN</td>\n      <td>vecs</td>\n      <td>has_questionmark,has_exclamationmark,has_perio...</td>\n      <td>Note addresses claim</td>\n    </tr>\n    <tr>\n      <th>237</th>\n      <td>helpfulClear</td>\n      <td>LGBM</td>\n      <td>0.393674</td>\n      <td>0.474605</td>\n      <td>13943</td>\n      <td>3485</td>\n      <td>0.585366</td>\n      <td>0.582263</td>\n      <td>0.568977</td>\n      <td>0.521161</td>\n      <td>0.544020</td>\n      <td>notes</td>\n      <td>NaN</td>\n      <td>vecs</td>\n      <td>has_questionmark,has_exclamationmark,has_perio...</td>\n      <td>Note is clear</td>\n    </tr>\n    <tr>\n      <th>238</th>\n      <td>helpfulGoodSources</td>\n      <td>LGBM</td>\n      <td>0.375457</td>\n      <td>0.484935</td>\n      <td>13943</td>\n      <td>3485</td>\n      <td>0.682640</td>\n      <td>0.685969</td>\n      <td>0.638520</td>\n      <td>0.796450</td>\n      <td>0.708794</td>\n      <td>notes</td>\n      <td>NaN</td>\n      <td>vecs</td>\n      <td>has_questionmark,has_exclamationmark,has_perio...</td>\n      <td>Note uses good sources</td>\n    </tr>\n    <tr>\n      <th>239</th>\n      <td>helpful_quant</td>\n      <td>LGBM</td>\n      <td>0.726099</td>\n      <td>0.753228</td>\n      <td>13943</td>\n      <td>3485</td>\n      <td>0.763558</td>\n      <td>0.560022</td>\n      <td>0.777162</td>\n      <td>0.961905</td>\n      <td>0.859721</td>\n      <td>notes</td>\n      <td>NaN</td>\n      <td>vecs</td>\n      <td>has_questionmark,has_exclamationmark,has_perio...</td>\n      <td>Note is helpful</td>\n    </tr>\n  </tbody>\n</table>\n<p>240 rows × 16 columns</p>\n</div>"
     },
     "metadata": {}
    }
   ],
   "execution_count": null
  },
  {
   "cell_type": "code",
   "metadata": {
    "cell_id": "b8aa7b3e76a0435885b6e5d31192d8f5",
    "tags": [],
    "deepnote_to_be_reexecuted": false,
    "source_hash": "ccbea777",
    "execution_start": 1649194184914,
    "execution_millis": 1,
    "deepnote_cell_type": "code",
    "deepnote_cell_height": 81
   },
   "source": "results_df.loc[results_df.model_name == 'Most Frequent', 'words'] = 'baseline'",
   "outputs": [],
   "execution_count": null
  },
  {
   "cell_type": "code",
   "metadata": {
    "cell_id": "51dfbd31b40b46518937e56bda7b451d",
    "tags": [],
    "deepnote_to_be_reexecuted": false,
    "source_hash": "febe2646",
    "execution_start": 1649194184921,
    "execution_millis": 1418,
    "deepnote_cell_type": "code",
    "deepnote_cell_height": 577,
    "deepnote_output_heights": [
     354
    ]
   },
   "source": "g = sns.catplot(\n    data=results_df,\n    y=\"label\", x=\"roc_auc\",\n    hue='words',\n    legend=True, kind='bar', ci='sd')\n\n# # plt.gca().xaxis.set_major_locator(mdates.DayLocator())\nplt.savefig('../figures/approaches.png', dpi=300)",
   "outputs": [
    {
     "data": {
      "text/plain": "<Figure size 438x360 with 1 Axes>",
      "image/png": "[encoded data removed]"
     },
     "metadata": {
      "needs_background": "light",
      "image/png": {
       "width": 390,
       "height": 352
      }
     },
     "output_type": "display_data"
    }
   ],
   "execution_count": null
  },
  {
   "cell_type": "code",
   "metadata": {
    "cell_id": "fff962d5-4c44-4d32-9b27-f69554c4f99b",
    "tags": [],
    "deepnote_to_be_reexecuted": false,
    "source_hash": "8925694b",
    "execution_start": 1649194186354,
    "execution_millis": 3928,
    "deepnote_cell_type": "code",
    "deepnote_cell_height": 261,
    "deepnote_output_heights": [
     2
    ]
   },
   "source": "date_results_df['date_str'] = pd.to_datetime(date_results_df['date']).dt.strftime('%Y-%m-%d')\ng = sns.catplot(\n    data=date_results_df,\n    y=\"roc_auc\", x=\"date_str\",\n    col='Task', col_wrap=3, hue='model_name',\n    aspect=2, height=2, legend=True, kind='point')\n\n# # plt.gca().xaxis.set_major_locator(mdates.DayLocator())\nplt.gcf().autofmt_xdate()\nplt.savefig('../figures/date_auroc1.png', dpi=300)",
   "outputs": [
    {
     "data": {
      "text/plain": "<Figure size 936.25x576 with 12 Axes>",
      "image/png": "[encoded data removed]"
     },
     "metadata": {
      "needs_background": "light",
      "image/png": {
       "width": 930,
       "height": 523
      }
     },
     "output_type": "display_data"
    }
   ],
   "execution_count": null
  },
  {
   "cell_type": "code",
   "metadata": {
    "cell_id": "2f71cee8-0c3c-4314-8aeb-2cd40e368314",
    "tags": [],
    "deepnote_to_be_reexecuted": false,
    "source_hash": "42be37a1",
    "execution_start": 1649194190290,
    "execution_millis": 3797,
    "deepnote_cell_type": "code",
    "deepnote_cell_height": 645,
    "deepnote_output_heights": [
     476
    ]
   },
   "source": "g = sns.catplot(\n    data=date_results_df, y=\"accuracy\", x=\"date_str\",\n    col='Task', col_wrap=3, hue='model_name',\n    aspect=2, height=2,legend=True)\nplt.gcf().autofmt_xdate()",
   "outputs": [
    {
     "data": {
      "text/plain": "<Figure size 936.25x576 with 12 Axes>",
      "image/png": "[encoded data removed]"
     },
     "metadata": {
      "needs_background": "light",
      "image/png": {
       "width": 930,
       "height": 523
      }
     },
     "output_type": "display_data"
    }
   ],
   "execution_count": null
  },
  {
   "cell_type": "code",
   "metadata": {
    "cell_id": "38df236a0fca4ca7a51c3dbe843e2b88",
    "tags": [],
    "deepnote_to_be_reexecuted": false,
    "source_hash": "a1a8d802",
    "execution_start": 1649194194094,
    "execution_millis": 57,
    "deepnote_table_state": {
     "pageSize": 10,
     "pageIndex": 11,
     "filters": [],
     "sortBy": []
    },
    "deepnote_table_loading": false,
    "deepnote_cell_type": "code",
    "deepnote_cell_height": 600
   },
   "source": "frac_results_df",
   "outputs": [
    {
     "output_type": "execute_result",
     "execution_count": 12,
     "data": {
      "application/vnd.deepnote.dataframe.v3+json": {
       "column_count": 15,
       "row_count": 1200,
       "columns": [
        {
         "name": "label",
         "dtype": "object",
         "stats": {
          "unique_count": 12,
          "nan_count": 0,
          "categories": [
           {
            "name": "believable_quant",
            "count": 100
           },
           {
            "name": "classification_quant",
            "count": 100
           },
           {
            "name": "10 others",
            "count": 1000
           }
          ]
         }
        },
        {
         "name": "model_name",
         "dtype": "object",
         "stats": {
          "unique_count": 1,
          "nan_count": 0,
          "categories": [
           {
            "name": "LGBM",
            "count": 1200
           }
          ]
         }
        },
        {
         "name": "trn_mean",
         "dtype": "float64",
         "stats": {
          "unique_count": 1198,
          "nan_count": 0,
          "min": "0.08199018920812894",
          "max": "0.9203102961918195",
          "histogram": [
           {
            "bin_start": 0.08199018920812894,
            "bin_end": 0.165822199906498,
            "count": 100
           },
           {
            "bin_start": 0.165822199906498,
            "bin_end": 0.24965421060486703,
            "count": 0
           },
           {
            "bin_start": 0.24965421060486703,
            "bin_end": 0.33348622130323613,
            "count": 103
           },
           {
            "bin_start": 0.33348622130323613,
            "bin_end": 0.41731823200160517,
            "count": 275
           },
           {
            "bin_start": 0.41731823200160517,
            "bin_end": 0.5011502426999742,
            "count": 114
           },
           {
            "bin_start": 0.5011502426999742,
            "bin_end": 0.5849822533983433,
            "count": 9
           },
           {
            "bin_start": 0.5849822533983433,
            "bin_end": 0.6688142640967123,
            "count": 200
           },
           {
            "bin_start": 0.6688142640967123,
            "bin_end": 0.7526462747950814,
            "count": 198
           },
           {
            "bin_start": 0.7526462747950814,
            "bin_end": 0.8364782854934505,
            "count": 1
           },
           {
            "bin_start": 0.8364782854934505,
            "bin_end": 0.9203102961918195,
            "count": 200
           }
          ]
         }
        },
        {
         "name": "test_mean",
         "dtype": "float64",
         "stats": {
          "unique_count": 12,
          "nan_count": 0,
          "min": "0.09002728099424068",
          "max": "0.9099727190057593",
          "histogram": [
           {
            "bin_start": 0.09002728099424068,
            "bin_end": 0.17202182479539252,
            "count": 100
           },
           {
            "bin_start": 0.17202182479539252,
            "bin_end": 0.2540163685965444,
            "count": 0
           },
           {
            "bin_start": 0.2540163685965444,
            "bin_end": 0.33601091239769626,
            "count": 100
           },
           {
            "bin_start": 0.33601091239769626,
            "bin_end": 0.4180054561988481,
            "count": 300
           },
           {
            "bin_start": 0.4180054561988481,
            "bin_end": 0.49999999999999994,
            "count": 0
           },
           {
            "bin_start": 0.49999999999999994,
            "bin_end": 0.5819945438011518,
            "count": 100
           },
           {
            "bin_start": 0.5819945438011518,
            "bin_end": 0.6639890876023036,
            "count": 200
           },
           {
            "bin_start": 0.6639890876023036,
            "bin_end": 0.7459836314034556,
            "count": 200
           },
           {
            "bin_start": 0.7459836314034556,
            "bin_end": 0.8279781752046074,
            "count": 0
           },
           {
            "bin_start": 0.8279781752046074,
            "bin_end": 0.9099727190057593,
            "count": 200
           }
          ]
         }
        },
        {
         "name": "num_trn",
         "dtype": "int64",
         "stats": {
          "unique_count": 188,
          "nan_count": 0,
          "min": "1391",
          "max": "9611",
          "histogram": [
           {
            "bin_start": 1391,
            "bin_end": 2213,
            "count": 120
           },
           {
            "bin_start": 2213,
            "bin_end": 3035,
            "count": 120
           },
           {
            "bin_start": 3035,
            "bin_end": 3857,
            "count": 80
           },
           {
            "bin_start": 3857,
            "bin_end": 4679,
            "count": 40
           },
           {
            "bin_start": 4679,
            "bin_end": 5501,
            "count": 120
           },
           {
            "bin_start": 5501,
            "bin_end": 6323,
            "count": 120
           },
           {
            "bin_start": 6323,
            "bin_end": 7145,
            "count": 120
           },
           {
            "bin_start": 7145,
            "bin_end": 7967,
            "count": 200
           },
           {
            "bin_start": 7967,
            "bin_end": 8789,
            "count": 120
           },
           {
            "bin_start": 8789,
            "bin_end": 9611,
            "count": 160
           }
          ]
         }
        },
        {
         "name": "num_test",
         "dtype": "int64",
         "stats": {
          "unique_count": 2,
          "nan_count": 0,
          "min": "3299",
          "max": "3485",
          "histogram": [
           {
            "bin_start": 3299,
            "bin_end": 3317.6,
            "count": 800
           },
           {
            "bin_start": 3317.6,
            "bin_end": 3336.2,
            "count": 0
           },
           {
            "bin_start": 3336.2,
            "bin_end": 3354.8,
            "count": 0
           },
           {
            "bin_start": 3354.8,
            "bin_end": 3373.4,
            "count": 0
           },
           {
            "bin_start": 3373.4,
            "bin_end": 3392,
            "count": 0
           },
           {
            "bin_start": 3392,
            "bin_end": 3410.6,
            "count": 0
           },
           {
            "bin_start": 3410.6,
            "bin_end": 3429.2,
            "count": 0
           },
           {
            "bin_start": 3429.2,
            "bin_end": 3447.8,
            "count": 0
           },
           {
            "bin_start": 3447.8,
            "bin_end": 3466.4,
            "count": 0
           },
           {
            "bin_start": 3466.4,
            "bin_end": 3485,
            "count": 400
           }
          ]
         }
        },
        {
         "name": "accuracy",
         "dtype": "float64",
         "stats": {
          "unique_count": 618,
          "nan_count": 0,
          "min": "0.5683540466808124",
          "max": "0.9463473779933314",
          "histogram": [
           {
            "bin_start": 0.5683540466808124,
            "bin_end": 0.6061533798120643,
            "count": 47
           },
           {
            "bin_start": 0.6061533798120643,
            "bin_end": 0.6439527129433161,
            "count": 291
           },
           {
            "bin_start": 0.6439527129433161,
            "bin_end": 0.6817520460745681,
            "count": 164
           },
           {
            "bin_start": 0.6817520460745681,
            "bin_end": 0.7195513792058199,
            "count": 100
           },
           {
            "bin_start": 0.7195513792058199,
            "bin_end": 0.7573507123370719,
            "count": 135
           },
           {
            "bin_start": 0.7573507123370719,
            "bin_end": 0.7951500454683238,
            "count": 116
           },
           {
            "bin_start": 0.7951500454683238,
            "bin_end": 0.8329493785995756,
            "count": 47
           },
           {
            "bin_start": 0.8329493785995756,
            "bin_end": 0.8707487117308276,
            "count": 0
           },
           {
            "bin_start": 0.8707487117308276,
            "bin_end": 0.9085480448620795,
            "count": 100
           },
           {
            "bin_start": 0.9085480448620795,
            "bin_end": 0.9463473779933314,
            "count": 200
           }
          ]
         }
        },
        {
         "name": "roc_auc",
         "dtype": "float64",
         "stats": {
          "unique_count": 1108,
          "nan_count": 0,
          "min": "0.5575233844030526",
          "max": "0.7296762876376468",
          "histogram": [
           {
            "bin_start": 0.5575233844030526,
            "bin_end": 0.574738674726512,
            "count": 33
           },
           {
            "bin_start": 0.574738674726512,
            "bin_end": 0.5919539650499714,
            "count": 176
           },
           {
            "bin_start": 0.5919539650499714,
            "bin_end": 0.6091692553734309,
            "count": 306
           },
           {
            "bin_start": 0.6091692553734309,
            "bin_end": 0.6263845456968903,
            "count": 185
           },
           {
            "bin_start": 0.6263845456968903,
            "bin_end": 0.6435998360203496,
            "count": 14
           },
           {
            "bin_start": 0.6435998360203496,
            "bin_end": 0.6608151263438091,
            "count": 186
           },
           {
            "bin_start": 0.6608151263438091,
            "bin_end": 0.6780304166672686,
            "count": 9
           },
           {
            "bin_start": 0.6780304166672686,
            "bin_end": 0.695245706990728,
            "count": 67
           },
           {
            "bin_start": 0.695245706990728,
            "bin_end": 0.7124609973141873,
            "count": 101
           },
           {
            "bin_start": 0.7124609973141873,
            "bin_end": 0.7296762876376468,
            "count": 123
           }
          ]
         }
        },
        {
         "name": "precision",
         "dtype": "float64",
         "stats": {
          "unique_count": 1101,
          "nan_count": 0,
          "min": "0.4485776805251641",
          "max": "0.9495851946394385",
          "histogram": [
           {
            "bin_start": 0.4485776805251641,
            "bin_end": 0.49867843193659156,
            "count": 15
           },
           {
            "bin_start": 0.49867843193659156,
            "bin_end": 0.548779183348019,
            "count": 118
           },
           {
            "bin_start": 0.548779183348019,
            "bin_end": 0.5988799347594465,
            "count": 97
           },
           {
            "bin_start": 0.5988799347594465,
            "bin_end": 0.6489806861708738,
            "count": 265
           },
           {
            "bin_start": 0.6489806861708738,
            "bin_end": 0.6990814375823013,
            "count": 262
           },
           {
            "bin_start": 0.6990814375823013,
            "bin_end": 0.7491821889937287,
            "count": 42
           },
           {
            "bin_start": 0.7491821889937287,
            "bin_end": 0.7992829404051561,
            "count": 171
           },
           {
            "bin_start": 0.7992829404051561,
            "bin_end": 0.8493836918165836,
            "count": 30
           },
           {
            "bin_start": 0.8493836918165836,
            "bin_end": 0.899484443228011,
            "count": 100
           },
           {
            "bin_start": 0.899484443228011,
            "bin_end": 0.9495851946394385,
            "count": 100
           }
          ]
         }
        },
        {
         "name": "recall",
         "dtype": "float64",
         "stats": {
          "unique_count": 681,
          "nan_count": 0,
          "min": "0.23479188900747064",
          "max": "0.9968164131588256",
          "histogram": [
           {
            "bin_start": 0.23479188900747064,
            "bin_end": 0.3109943414226061,
            "count": 144
           },
           {
            "bin_start": 0.3109943414226061,
            "bin_end": 0.38719679383774164,
            "count": 152
           },
           {
            "bin_start": 0.38719679383774164,
            "bin_end": 0.4633992462528771,
            "count": 49
           },
           {
            "bin_start": 0.4633992462528771,
            "bin_end": 0.5396016986680127,
            "count": 58
           },
           {
            "bin_start": 0.5396016986680127,
            "bin_end": 0.6158041510831481,
            "count": 101
           },
           {
            "bin_start": 0.6158041510831481,
            "bin_end": 0.6920066034982836,
            "count": 61
           },
           {
            "bin_start": 0.6920066034982836,
            "bin_end": 0.7682090559134191,
            "count": 71
           },
           {
            "bin_start": 0.7682090559134191,
            "bin_end": 0.8444115083285546,
            "count": 163
           },
           {
            "bin_start": 0.8444115083285546,
            "bin_end": 0.9206139607436901,
            "count": 92
           },
           {
            "bin_start": 0.9206139607436901,
            "bin_end": 0.9968164131588256,
            "count": 309
           }
          ]
         }
        },
        {
         "name": "f1",
         "dtype": "float64",
         "stats": {
          "unique_count": 1104,
          "nan_count": 0,
          "min": "0.3363914373088685",
          "max": "0.9712522332304695",
          "histogram": [
           {
            "bin_start": 0.3363914373088685,
            "bin_end": 0.3998775169010286,
            "count": 72
           },
           {
            "bin_start": 0.3998775169010286,
            "bin_end": 0.4633635964931887,
            "count": 230
           },
           {
            "bin_start": 0.4633635964931887,
            "bin_end": 0.5268496760853488,
            "count": 95
           },
           {
            "bin_start": 0.5268496760853488,
            "bin_end": 0.5903357556775088,
            "count": 29
           },
           {
            "bin_start": 0.5903357556775088,
            "bin_end": 0.653821835269669,
            "count": 125
           },
           {
            "bin_start": 0.653821835269669,
            "bin_end": 0.7173079148618291,
            "count": 91
           },
           {
            "bin_start": 0.7173079148618291,
            "bin_end": 0.7807939944539892,
            "count": 158
           },
           {
            "bin_start": 0.7807939944539892,
            "bin_end": 0.8442800740461494,
            "count": 103
           },
           {
            "bin_start": 0.8442800740461494,
            "bin_end": 0.9077661536383095,
            "count": 97
           },
           {
            "bin_start": 0.9077661536383095,
            "bin_end": 0.9712522332304695,
            "count": 200
           }
          ]
         }
        },
        {
         "name": "type",
         "dtype": "object",
         "stats": {
          "unique_count": 2,
          "nan_count": 0,
          "categories": [
           {
            "name": "tweets",
            "count": 800
           },
           {
            "name": "notes",
            "count": 400
           }
          ]
         }
        },
        {
         "name": "train_frac",
         "dtype": "float64",
         "stats": {
          "unique_count": 10,
          "nan_count": 0,
          "min": "0.09090909090909091",
          "max": "0.9090909090909091",
          "histogram": [
           {
            "bin_start": 0.09090909090909091,
            "bin_end": 0.17272727272727273,
            "count": 120
           },
           {
            "bin_start": 0.17272727272727273,
            "bin_end": 0.2545454545454545,
            "count": 120
           },
           {
            "bin_start": 0.2545454545454545,
            "bin_end": 0.33636363636363636,
            "count": 120
           },
           {
            "bin_start": 0.33636363636363636,
            "bin_end": 0.4181818181818182,
            "count": 120
           },
           {
            "bin_start": 0.4181818181818182,
            "bin_end": 0.5,
            "count": 120
           },
           {
            "bin_start": 0.5,
            "bin_end": 0.5818181818181818,
            "count": 120
           },
           {
            "bin_start": 0.5818181818181818,
            "bin_end": 0.6636363636363637,
            "count": 120
           },
           {
            "bin_start": 0.6636363636363637,
            "bin_end": 0.7454545454545455,
            "count": 120
           },
           {
            "bin_start": 0.7454545454545455,
            "bin_end": 0.8272727272727273,
            "count": 120
           },
           {
            "bin_start": 0.8272727272727273,
            "bin_end": 0.9090909090909091,
            "count": 120
           }
          ]
         }
        },
        {
         "name": "words",
         "dtype": "object",
         "stats": {
          "unique_count": 1,
          "nan_count": 0,
          "categories": [
           {
            "name": "tfidf",
            "count": 1200
           }
          ]
         }
        },
        {
         "name": "features",
         "dtype": "object",
         "stats": {
          "unique_count": 1,
          "nan_count": 0,
          "categories": [
           {
            "name": "has_questionmark,has_exclamationmark,has_period,num_upper,has_digit,char_count,num_links,has_links,Polarity,Subjectivity",
            "count": 1200
           }
          ]
         }
        },
        {
         "name": "_deepnote_index_column",
         "dtype": "int64"
        }
       ],
       "rows": [
        {
         "label": "harmful_quant",
         "model_name": "LGBM",
         "trn_mean": 0.6928213689482471,
         "test_mean": 0.6993028190360715,
         "num_trn": 8985,
         "num_test": 3299,
         "accuracy": 0.8023643528341922,
         "roc_auc": 0.6978026203559993,
         "precision": 0.7981981981981981,
         "recall": 0.9601213697442567,
         "f1": 0.8717040535222352,
         "type": "tweets",
         "train_frac": 0.9090909090909091,
         "words": "tfidf",
         "features": "has_questionmark,has_exclamationmark,has_period,num_upper,has_digit,char_count,num_links,has_links,Polarity,Subjectivity",
         "_deepnote_index_column": 110
        },
        {
         "label": "misleadingFactualError",
         "model_name": "LGBM",
         "trn_mean": 0.6021146355036171,
         "test_mean": 0.6071536829342224,
         "num_trn": 8985,
         "num_test": 3299,
         "accuracy": 0.6435283419217945,
         "roc_auc": 0.5936858600987408,
         "precision": 0.666532420459122,
         "recall": 0.8262606090863704,
         "f1": 0.7378510922871154,
         "type": "tweets",
         "train_frac": 0.9090909090909091,
         "words": "tfidf",
         "features": "has_questionmark,has_exclamationmark,has_period,num_upper,has_digit,char_count,num_links,has_links,Polarity,Subjectivity",
         "_deepnote_index_column": 111
        },
        {
         "label": "misleadingMissingImportantContext",
         "model_name": "LGBM",
         "trn_mean": 0.6022259321090707,
         "test_mean": 0.6056380721430736,
         "num_trn": 8985,
         "num_test": 3299,
         "accuracy": 0.6589875719915126,
         "roc_auc": 0.6094699618911763,
         "precision": 0.6746698679471789,
         "recall": 0.8438438438438438,
         "f1": 0.7498332221480988,
         "type": "tweets",
         "train_frac": 0.9090909090909091,
         "words": "tfidf",
         "features": "has_questionmark,has_exclamationmark,has_period,num_upper,has_digit,char_count,num_links,has_links,Polarity,Subjectivity",
         "_deepnote_index_column": 112
        },
        {
         "label": "misleadingUnverifiedClaimAsFact",
         "model_name": "LGBM",
         "trn_mean": 0.4914858096828047,
         "test_mean": 0.510457714458927,
         "num_trn": 8985,
         "num_test": 3299,
         "accuracy": 0.6123067596241285,
         "roc_auc": 0.6130821499746292,
         "precision": 0.6319218241042345,
         "recall": 0.5760095011876485,
         "f1": 0.6026716371543956,
         "type": "tweets",
         "train_frac": 0.9090909090909091,
         "words": "tfidf",
         "features": "has_questionmark,has_exclamationmark,has_period,num_upper,has_digit,char_count,num_links,has_links,Polarity,Subjectivity",
         "_deepnote_index_column": 113
        },
        {
         "label": "notMisleadingFactuallyCorrect",
         "model_name": "LGBM",
         "trn_mean": 0.10094602114635504,
         "test_mean": 0.09002728099424068,
         "num_trn": 8985,
         "num_test": 3299,
         "accuracy": 0.9230069718096393,
         "roc_auc": 0.6452039829787998,
         "precision": 0.6546762589928058,
         "recall": 0.3063973063973064,
         "f1": 0.4174311926605505,
         "type": "tweets",
         "train_frac": 0.9090909090909091,
         "words": "tfidf",
         "features": "has_questionmark,has_exclamationmark,has_period,num_upper,has_digit,char_count,num_links,has_links,Polarity,Subjectivity",
         "_deepnote_index_column": 114
        },
        {
         "label": "val_quant",
         "model_name": "LGBM",
         "trn_mean": 0.2704507512520868,
         "test_mean": 0.2840254622612913,
         "num_trn": 8985,
         "num_test": 3299,
         "accuracy": 0.7647772052137011,
         "roc_auc": 0.616174180844517,
         "precision": 0.7306590257879656,
         "recall": 0.272145144076841,
         "f1": 0.39657853810264393,
         "type": "tweets",
         "train_frac": 0.9090909090909091,
         "words": "tfidf",
         "features": "has_questionmark,has_exclamationmark,has_period,num_upper,has_digit,char_count,num_links,has_links,Polarity,Subjectivity",
         "_deepnote_index_column": 115
        },
        {
         "label": "helpfulAddressesClaim",
         "model_name": "LGBM",
         "trn_mean": 0.34752819647939287,
         "test_mean": 0.3489239598278336,
         "num_trn": 9487,
         "num_test": 3485,
         "accuracy": 0.6700143472022956,
         "roc_auc": 0.5935444985038622,
         "precision": 0.5433070866141733,
         "recall": 0.3404605263157895,
         "f1": 0.4186046511627907,
         "type": "notes",
         "train_frac": 0.9090909090909091,
         "words": "tfidf",
         "features": "has_questionmark,has_exclamationmark,has_period,num_upper,has_digit,char_count,num_links,has_links,Polarity,Subjectivity",
         "_deepnote_index_column": 116
        },
        {
         "label": "helpfulClear",
         "model_name": "LGBM",
         "trn_mean": 0.4170970802150311,
         "test_mean": 0.4031563845050215,
         "num_trn": 9487,
         "num_test": 3485,
         "accuracy": 0.6258249641319943,
         "roc_auc": 0.6007314193813305,
         "precision": 0.5412919051512673,
         "recall": 0.4711743772241993,
         "f1": 0.5038051750380518,
         "type": "notes",
         "train_frac": 0.9090909090909091,
         "words": "tfidf",
         "features": "has_questionmark,has_exclamationmark,has_period,num_upper,has_digit,char_count,num_links,has_links,Polarity,Subjectivity",
         "_deepnote_index_column": 117
        },
        {
         "label": "helpfulGoodSources",
         "model_name": "LGBM",
         "trn_mean": 0.397491303889533,
         "test_mean": 0.3956958393113343,
         "num_trn": 9487,
         "num_test": 3485,
         "accuracy": 0.7159253945480631,
         "roc_auc": 0.7115119479755689,
         "precision": 0.6283828382838283,
         "recall": 0.6903553299492385,
         "f1": 0.6579129232895646,
         "type": "notes",
         "train_frac": 0.9090909090909091,
         "words": "tfidf",
         "features": "has_questionmark,has_exclamationmark,has_period,num_upper,has_digit,char_count,num_links,has_links,Polarity,Subjectivity",
         "_deepnote_index_column": 118
        },
        {
         "label": "helpful_quant",
         "model_name": "LGBM",
         "trn_mean": 0.735005797406978,
         "test_mean": 0.7245337159253945,
         "num_trn": 9487,
         "num_test": 3485,
         "accuracy": 0.7414634146341463,
         "roc_auc": 0.5943234323432343,
         "precision": 0.7678100263852242,
         "recall": 0.921980198019802,
         "f1": 0.8378621558394816,
         "type": "notes",
         "train_frac": 0.9090909090909091,
         "words": "tfidf",
         "features": "has_questionmark,has_exclamationmark,has_period,num_upper,has_digit,char_count,num_links,has_links,Polarity,Subjectivity",
         "_deepnote_index_column": 119
        }
       ]
      },
      "text/plain": "                                  label model_name  trn_mean  test_mean  \\\n0                      believable_quant       LGBM  0.851304   0.856926   \n1                  classification_quant       LGBM  0.901339   0.909973   \n2                         harmful_quant       LGBM  0.682171   0.699303   \n3                misleadingFactualError       LGBM  0.594785   0.607154   \n4     misleadingMissingImportantContext       LGBM  0.608175   0.605638   \n...                                 ...        ...       ...        ...   \n1195                          val_quant       LGBM  0.268751   0.284025   \n1196              helpfulAddressesClaim       LGBM  0.345958   0.348924   \n1197                       helpfulClear       LGBM  0.414733   0.403156   \n1198                 helpfulGoodSources       LGBM  0.399438   0.395696   \n1199                      helpful_quant       LGBM  0.733847   0.724534   \n\n      num_trn  num_test  accuracy   roc_auc  precision    recall        f1  \\\n0        1419      3299  0.886632  0.658526   0.898603  0.978069  0.936653   \n1        1419      3299  0.938163  0.723311   0.948685  0.985343  0.966667   \n2        1419      3299  0.756593  0.678005   0.796764  0.875163  0.834125   \n3        1419      3299  0.618672  0.583566   0.665629  0.747379  0.704139   \n4        1419      3299  0.638982  0.594696   0.667636  0.804304  0.729625   \n...       ...       ...       ...       ...        ...       ...       ...   \n1195     8893      3299  0.763565  0.613396   0.730205  0.265742  0.389671   \n1196     9611      3485  0.669727  0.594660   0.541828  0.346217  0.422479   \n1197     9611      3485  0.634433  0.609791   0.553469  0.482562  0.515589   \n1198     9611      3485  0.718221  0.717291   0.626514  0.712835  0.666893   \n1199     9611      3485  0.742898  0.594345   0.767663  0.925149  0.839080   \n\n        type  train_frac  words  \\\n0     tweets    0.090909  tfidf   \n1     tweets    0.090909  tfidf   \n2     tweets    0.090909  tfidf   \n3     tweets    0.090909  tfidf   \n4     tweets    0.090909  tfidf   \n...      ...         ...    ...   \n1195  tweets    0.909091  tfidf   \n1196   notes    0.909091  tfidf   \n1197   notes    0.909091  tfidf   \n1198   notes    0.909091  tfidf   \n1199   notes    0.909091  tfidf   \n\n                                               features  \n0     has_questionmark,has_exclamationmark,has_perio...  \n1     has_questionmark,has_exclamationmark,has_perio...  \n2     has_questionmark,has_exclamationmark,has_perio...  \n3     has_questionmark,has_exclamationmark,has_perio...  \n4     has_questionmark,has_exclamationmark,has_perio...  \n...                                                 ...  \n1195  has_questionmark,has_exclamationmark,has_perio...  \n1196  has_questionmark,has_exclamationmark,has_perio...  \n1197  has_questionmark,has_exclamationmark,has_perio...  \n1198  has_questionmark,has_exclamationmark,has_perio...  \n1199  has_questionmark,has_exclamationmark,has_perio...  \n\n[1200 rows x 15 columns]",
      "text/html": "<div>\n<style scoped>\n    .dataframe tbody tr th:only-of-type {\n        vertical-align: middle;\n    }\n\n    .dataframe tbody tr th {\n        vertical-align: top;\n    }\n\n    .dataframe thead th {\n        text-align: right;\n    }\n</style>\n<table border=\"1\" class=\"dataframe\">\n  <thead>\n    <tr style=\"text-align: right;\">\n      <th></th>\n      <th>label</th>\n      <th>model_name</th>\n      <th>trn_mean</th>\n      <th>test_mean</th>\n      <th>num_trn</th>\n      <th>num_test</th>\n      <th>accuracy</th>\n      <th>roc_auc</th>\n      <th>precision</th>\n      <th>recall</th>\n      <th>f1</th>\n      <th>type</th>\n      <th>train_frac</th>\n      <th>words</th>\n      <th>features</th>\n    </tr>\n  </thead>\n  <tbody>\n    <tr>\n      <th>0</th>\n      <td>believable_quant</td>\n      <td>LGBM</td>\n      <td>0.851304</td>\n      <td>0.856926</td>\n      <td>1419</td>\n      <td>3299</td>\n      <td>0.886632</td>\n      <td>0.658526</td>\n      <td>0.898603</td>\n      <td>0.978069</td>\n      <td>0.936653</td>\n      <td>tweets</td>\n      <td>0.090909</td>\n      <td>tfidf</td>\n      <td>has_questionmark,has_exclamationmark,has_perio...</td>\n    </tr>\n    <tr>\n      <th>1</th>\n      <td>classification_quant</td>\n      <td>LGBM</td>\n      <td>0.901339</td>\n      <td>0.909973</td>\n      <td>1419</td>\n      <td>3299</td>\n      <td>0.938163</td>\n      <td>0.723311</td>\n      <td>0.948685</td>\n      <td>0.985343</td>\n      <td>0.966667</td>\n      <td>tweets</td>\n      <td>0.090909</td>\n      <td>tfidf</td>\n      <td>has_questionmark,has_exclamationmark,has_perio...</td>\n    </tr>\n    <tr>\n      <th>2</th>\n      <td>harmful_quant</td>\n      <td>LGBM</td>\n      <td>0.682171</td>\n      <td>0.699303</td>\n      <td>1419</td>\n      <td>3299</td>\n      <td>0.756593</td>\n      <td>0.678005</td>\n      <td>0.796764</td>\n      <td>0.875163</td>\n      <td>0.834125</td>\n      <td>tweets</td>\n      <td>0.090909</td>\n      <td>tfidf</td>\n      <td>has_questionmark,has_exclamationmark,has_perio...</td>\n    </tr>\n    <tr>\n      <th>3</th>\n      <td>misleadingFactualError</td>\n      <td>LGBM</td>\n      <td>0.594785</td>\n      <td>0.607154</td>\n      <td>1419</td>\n      <td>3299</td>\n      <td>0.618672</td>\n      <td>0.583566</td>\n      <td>0.665629</td>\n      <td>0.747379</td>\n      <td>0.704139</td>\n      <td>tweets</td>\n      <td>0.090909</td>\n      <td>tfidf</td>\n      <td>has_questionmark,has_exclamationmark,has_perio...</td>\n    </tr>\n    <tr>\n      <th>4</th>\n      <td>misleadingMissingImportantContext</td>\n      <td>LGBM</td>\n      <td>0.608175</td>\n      <td>0.605638</td>\n      <td>1419</td>\n      <td>3299</td>\n      <td>0.638982</td>\n      <td>0.594696</td>\n      <td>0.667636</td>\n      <td>0.804304</td>\n      <td>0.729625</td>\n      <td>tweets</td>\n      <td>0.090909</td>\n      <td>tfidf</td>\n      <td>has_questionmark,has_exclamationmark,has_perio...</td>\n    </tr>\n    <tr>\n      <th>...</th>\n      <td>...</td>\n      <td>...</td>\n      <td>...</td>\n      <td>...</td>\n      <td>...</td>\n      <td>...</td>\n      <td>...</td>\n      <td>...</td>\n      <td>...</td>\n      <td>...</td>\n      <td>...</td>\n      <td>...</td>\n      <td>...</td>\n      <td>...</td>\n      <td>...</td>\n    </tr>\n    <tr>\n      <th>1195</th>\n      <td>val_quant</td>\n      <td>LGBM</td>\n      <td>0.268751</td>\n      <td>0.284025</td>\n      <td>8893</td>\n      <td>3299</td>\n      <td>0.763565</td>\n      <td>0.613396</td>\n      <td>0.730205</td>\n      <td>0.265742</td>\n      <td>0.389671</td>\n      <td>tweets</td>\n      <td>0.909091</td>\n      <td>tfidf</td>\n      <td>has_questionmark,has_exclamationmark,has_perio...</td>\n    </tr>\n    <tr>\n      <th>1196</th>\n      <td>helpfulAddressesClaim</td>\n      <td>LGBM</td>\n      <td>0.345958</td>\n      <td>0.348924</td>\n      <td>9611</td>\n      <td>3485</td>\n      <td>0.669727</td>\n      <td>0.594660</td>\n      <td>0.541828</td>\n      <td>0.346217</td>\n      <td>0.422479</td>\n      <td>notes</td>\n      <td>0.909091</td>\n      <td>tfidf</td>\n      <td>has_questionmark,has_exclamationmark,has_perio...</td>\n    </tr>\n    <tr>\n      <th>1197</th>\n      <td>helpfulClear</td>\n      <td>LGBM</td>\n      <td>0.414733</td>\n      <td>0.403156</td>\n      <td>9611</td>\n      <td>3485</td>\n      <td>0.634433</td>\n      <td>0.609791</td>\n      <td>0.553469</td>\n      <td>0.482562</td>\n      <td>0.515589</td>\n      <td>notes</td>\n      <td>0.909091</td>\n      <td>tfidf</td>\n      <td>has_questionmark,has_exclamationmark,has_perio...</td>\n    </tr>\n    <tr>\n      <th>1198</th>\n      <td>helpfulGoodSources</td>\n      <td>LGBM</td>\n      <td>0.399438</td>\n      <td>0.395696</td>\n      <td>9611</td>\n      <td>3485</td>\n      <td>0.718221</td>\n      <td>0.717291</td>\n      <td>0.626514</td>\n      <td>0.712835</td>\n      <td>0.666893</td>\n      <td>notes</td>\n      <td>0.909091</td>\n      <td>tfidf</td>\n      <td>has_questionmark,has_exclamationmark,has_perio...</td>\n    </tr>\n    <tr>\n      <th>1199</th>\n      <td>helpful_quant</td>\n      <td>LGBM</td>\n      <td>0.733847</td>\n      <td>0.724534</td>\n      <td>9611</td>\n      <td>3485</td>\n      <td>0.742898</td>\n      <td>0.594345</td>\n      <td>0.767663</td>\n      <td>0.925149</td>\n      <td>0.839080</td>\n      <td>notes</td>\n      <td>0.909091</td>\n      <td>tfidf</td>\n      <td>has_questionmark,has_exclamationmark,has_perio...</td>\n    </tr>\n  </tbody>\n</table>\n<p>1200 rows × 15 columns</p>\n</div>"
     },
     "metadata": {}
    }
   ],
   "execution_count": null
  },
  {
   "cell_type": "code",
   "metadata": {
    "cell_id": "14e20a93f55d4411ba97a2d15c939fee",
    "tags": [],
    "deepnote_to_be_reexecuted": false,
    "source_hash": "b7bc7579",
    "execution_start": 1649194194157,
    "execution_millis": 98,
    "deepnote_cell_type": "code",
    "deepnote_cell_height": 81
   },
   "source": "frac_results_df['percent of training data'] = round(frac_results_df.train_frac * 100)",
   "outputs": [],
   "execution_count": null
  },
  {
   "cell_type": "code",
   "metadata": {
    "cell_id": "1421feab-adc3-4efc-b1fc-06a007c544e9",
    "tags": [],
    "deepnote_to_be_reexecuted": false,
    "source_hash": "3b428050",
    "execution_start": 1649194194262,
    "execution_millis": 6475,
    "deepnote_cell_type": "code",
    "deepnote_cell_height": 207,
    "deepnote_output_heights": [
     2
    ]
   },
   "source": "g = sns.catplot(\n    data=frac_results_df, y=\"accuracy\", x='percent of training data',\n    col='label', col_wrap=3,\n    aspect=2, height=2,\n    legend=True, kind='point',sharey=False)\nplt.savefig('../figures/learning_curve.png', dpi=300)\n",
   "outputs": [
    {
     "data": {
      "text/plain": "<Figure size 864x576 with 12 Axes>",
      "image/png": "[encoded data removed]"
     },
     "metadata": {
      "needs_background": "light",
      "image/png": {
       "width": 856,
       "height": 568
      }
     },
     "output_type": "display_data"
    }
   ],
   "execution_count": null
  },
  {
   "cell_type": "code",
   "metadata": {
    "cell_id": "cee7d2cc-48a0-490d-a5e5-75091fcc630e",
    "tags": [],
    "deepnote_to_be_reexecuted": false,
    "source_hash": "b623e53d",
    "execution_start": 1649194200737,
    "execution_millis": 1,
    "deepnote_cell_type": "code",
    "deepnote_cell_height": 81
   },
   "source": "",
   "outputs": [],
   "execution_count": null
  },
  {
   "cell_type": "markdown",
   "source": "<a style='text-decoration:none;line-height:16px;display:flex;color:#5B5B62;padding:10px;justify-content:end;' href='https://deepnote.com?utm_source=created-in-deepnote-cell&projectId=c0e62a2c-7f45-414e-8164-5bf51e09d482' target=\"_blank\">\n<img alt='Created in deepnote.com' style='display:inline;max-height:16px;margin:0px;margin-right:7.5px;' src='data:image/svg+xml;base64,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' > </img>\nCreated in <span style='font-weight:600;margin-left:4px;'>Deepnote</span></a>",
   "metadata": {
    "tags": [],
    "created_in_deepnote_cell": true,
    "deepnote_cell_type": "markdown"
   }
  }
 ],
 "nbformat": 4,
 "nbformat_minor": 2,
 "metadata": {
  "orig_nbformat": 2,
  "deepnote": {
   "is_reactive": false
  },
  "deepnote_notebook_id": "382ef81f-1dbc-4687-8a30-cc788cf80a58",
  "deepnote_execution_queue": []
 }
}