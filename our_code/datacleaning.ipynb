{
 "cells": [
  {
   "cell_type": "markdown",
   "source": "## Import Libraries and Frameworks",
   "metadata": {
    "tags": [],
    "cell_id": "00001-d0dd8939-1770-457c-924a-ca5c92cd29e8",
    "is_collapsed": false,
    "deepnote_cell_type": "text-cell-h2"
   }
  },
  {
   "cell_type": "code",
   "metadata": {
    "tags": [],
    "cell_id": "00000-e3a21d4a-2f96-44d1-b331-eb64949afdef",
    "deepnote_to_be_reexecuted": false,
    "source_hash": "f7f46153",
    "execution_start": 1648261871859,
    "execution_millis": 13138,
    "deepnote_cell_type": "code",
    "deepnote_cell_height": 329.3999938964844,
    "deepnote_output_heights": [
     null,
     21
    ]
   },
   "source": "import numpy as np\nimport matplotlib.pyplot as plt\nimport pandas as pd\nimport sklearn\nimport spacy\nimport pickle\n\nfrom textblob import TextBlob\nfrom spacytextblob.spacytextblob import SpacyTextBlob\nimport regex as re\nfrom spacy.lang.en.stop_words import STOP_WORDS\nfrom datetime import datetime",
   "outputs": [
    {
     "name": "stderr",
     "text": "/shared-libs/python3.8/py/lib/python3.8/site-packages/tqdm/auto.py:22: TqdmWarning: IProgress not found. Please update jupyter and ipywidgets. See https://ipywidgets.readthedocs.io/en/stable/user_install.html\n  from .autonotebook import tqdm as notebook_tqdm\n",
     "output_type": "stream"
    }
   ],
   "execution_count": null
  },
  {
   "cell_type": "code",
   "metadata": {
    "cell_id": "e2bbf089af784a478c23452ea23127dd",
    "tags": [],
    "deepnote_to_be_reexecuted": false,
    "source_hash": "da4ff43e",
    "execution_start": 1648261885000,
    "execution_millis": 2032,
    "deepnote_cell_type": "code",
    "deepnote_cell_height": 81
   },
   "source": "nlp = spacy.load(\"../src/en_core_web_md/en_core_web_md-3.2.0\")",
   "outputs": [],
   "execution_count": null
  },
  {
   "cell_type": "markdown",
   "source": "## Pre-process functions",
   "metadata": {
    "tags": [],
    "cell_id": "00039-0576ed80-4485-4e73-ae2e-ac5ebf786587",
    "is_collapsed": false,
    "deepnote_cell_type": "text-cell-h2"
   }
  },
  {
   "cell_type": "code",
   "metadata": {
    "tags": [],
    "cell_id": "00037-dc72bac0-0d82-4ecd-aa19-a7230b3ed37c",
    "deepnote_to_be_reexecuted": false,
    "source_hash": "819142ff",
    "execution_start": 1648261887033,
    "execution_millis": 0,
    "deepnote_cell_type": "code",
    "deepnote_cell_height": 801
   },
   "source": "def move_links_and_punc(df, X_col='text'):\n    \"\"\" \n    Create new columns:\n    and a clean version of the text column that has \n    urls, punctuation, and numbers removed\n    \n    Args\n        df - pandas dataframe\n        X_col - name of text column to be cleaned and extracted from\n    \"\"\"\n    clean_col = 'clean_' + X_col\n    urlregex = r'(http\\S+|www\\S+)'\n    numregex = r'\\d+'\n    puncregex = r'[^\\w\\s]'\n\n    # fill empty nas with empty string.\n    df[X_col] = df[X_col].fillna({'data':''})\n    # find links, then replace url with regex\n    df['links'] = df[X_col].apply(lambda x: re.findall(urlregex, str(x)))\n    df[clean_col] = df[X_col].replace(urlregex, '', regex=True).str.lower()\n\n    # find punc, then remove with regex\n    df['has_questionmark'] = df[X_col].apply(lambda x: '?' in x)\n    df['has_exclamationmark'] = df[X_col].apply(lambda x: '!' in x)\n    df['has_period'] = df[X_col].apply(lambda x: '.' in x)\n    df['num_upper'] = df[X_col].apply(lambda text: sum(char.isupper() for char in text))\n    df[clean_col] = df[clean_col].replace(puncregex, '', regex=True)\n\n    # replace digits with regex\n    df['has_digit'] = df[clean_col].apply(lambda text: any(char.isdigit() for char in text))\n    df[clean_col] = df[clean_col].replace(numregex, '', regex=True)\n\n    df[clean_col] = df[clean_col].apply(\n        lambda x: \"\".join([\" \" if ord(i) < 32 or ord(i) > 126 else i for i in x]))\n    # remove whitespace\n    df[clean_col] = df[clean_col].apply(lambda x: \" \".join(x.strip() for x in x.split()))\n    \n    #df['word_count'] = [len(x) for x in df[clean_col]]\n    df['char_count'] = [len(x) for x in df[clean_col]]\n    df['num_links'] = [len(x) for x in df['links']]\n    df['has_links'] = [1 if x > 0 else 0 for x in df['num_links']]",
   "outputs": [],
   "execution_count": null
  },
  {
   "cell_type": "code",
   "metadata": {
    "cell_id": "91209436-43d4-4f06-8c2f-eeb3e5373fd8",
    "tags": [],
    "deepnote_to_be_reexecuted": false,
    "source_hash": "82fccd31",
    "execution_start": 1648261887036,
    "execution_millis": 11882418,
    "deepnote_cell_type": "code",
    "deepnote_cell_height": 153
   },
   "source": "metadata_cols = [\n    'has_questionmark', 'has_exclamationmark', 'has_period', 'num_upper',\n    'has_digit', 'char_count',\n    'num_links', 'has_links'\n]",
   "outputs": [],
   "execution_count": null
  },
  {
   "cell_type": "code",
   "metadata": {
    "tags": [],
    "cell_id": "00037-382c7a7b-6487-4c32-a0e7-566fef429e71",
    "deepnote_to_be_reexecuted": false,
    "source_hash": "93e53083",
    "execution_start": 1648261887036,
    "execution_millis": 0,
    "deepnote_cell_type": "code",
    "deepnote_cell_height": 351
   },
   "source": "def lemma_and_remove_stopwords(df, X_col):\n    \"\"\" \n    Removes stopwords from the given text column in a dataframe\n\n    Modifies `df` directly\n    \n    Args\n        df - pandas dataframe\n        X_col - name of text column to be cleaned and extracted from\n    \"\"\"\n\n    arr = []\n    docs = nlp.pipe(df[X_col])\n    for doc in docs:\n        arr.append([str(tok.lemma_) for tok in doc if tok.text not in STOP_WORDS] )\n    df[X_col] = arr",
   "outputs": [],
   "execution_count": null
  },
  {
   "cell_type": "code",
   "metadata": {
    "tags": [],
    "cell_id": "00037-a4506107-b522-4069-aa3c-babcf802be14",
    "deepnote_to_be_reexecuted": false,
    "source_hash": "6344214",
    "execution_start": 1648261887037,
    "execution_millis": 58,
    "deepnote_cell_type": "code",
    "deepnote_cell_height": 171
   },
   "source": "# Sentiment polarity and subjectivity functions\ndef sentiment_polarity(text):\n    return text.apply(lambda x: pd.Series(TextBlob(' '.join(x)).sentiment.polarity))\n\ndef sentiment_subjectivity(text):\n    return text.apply(lambda x: pd.Series(TextBlob(' '.join(x)).sentiment.subjectivity))",
   "outputs": [],
   "execution_count": null
  },
  {
   "cell_type": "code",
   "metadata": {
    "tags": [],
    "cell_id": "00037-bc5d8c1d-e637-4206-a665-dc3c40f7fe1a",
    "deepnote_to_be_reexecuted": false,
    "source_hash": "12695ecf",
    "execution_start": 1648261887096,
    "execution_millis": 11882377,
    "deepnote_cell_type": "code",
    "deepnote_cell_height": 333
   },
   "source": "# Convert 'helpful' column into a trinary where each category is dependent on its average helpfulness rating\ndef binarizeHelpfulness(df, col, min=0.29, max=0.84):\n    \"\"\"\n    Takes df, col\n    0.84 and 0.29 are the cut-offs suggested by Twitter themselves\n\n    For the binarize function, we'll just set notes with helpfulness  >= 0.84 as True.\n    \"\"\"\n\n    mask = df[col] >= max\n    df.loc[mask, col] = 1\n    # mask = df[col].between(min, max, inclusive=False)\n    # df.loc[mask, col] = 1\n    mask = df[col] < max\n    df.loc[mask, col] = 0",
   "outputs": [],
   "execution_count": null
  },
  {
   "cell_type": "code",
   "metadata": {
    "tags": [],
    "cell_id": "00037-e85c28c8-8372-4581-9a40-a49ee4c563d4",
    "deepnote_to_be_reexecuted": false,
    "source_hash": "f0d35352",
    "execution_start": 1648261887099,
    "execution_millis": 11882377,
    "deepnote_cell_type": "code",
    "deepnote_cell_height": 189
   },
   "source": "def timestamp(x):\n    try:\n        dt = datetime.strptime(str(x), '%Y-%m-%d %H:%M:%S')\n    except Exception as e:\n        return\n    epoch = datetime.utcfromtimestamp(0)\n    return (dt - epoch).total_seconds() * 1000.0",
   "outputs": [],
   "execution_count": null
  },
  {
   "cell_type": "code",
   "metadata": {
    "tags": [],
    "cell_id": "00011-cfd62106-5b85-45f6-9ca0-cc7919fd90bf",
    "deepnote_to_be_reexecuted": false,
    "source_hash": "ac040ef7",
    "execution_start": 1648261887100,
    "execution_millis": 11882376,
    "deepnote_cell_type": "code",
    "deepnote_cell_height": 81
   },
   "source": "data_path = '../data'",
   "outputs": [],
   "execution_count": null
  },
  {
   "cell_type": "code",
   "metadata": {
    "tags": [],
    "cell_id": "00011-480b3044-52f6-4c4c-9fbc-e93ba50e9ea3",
    "deepnote_to_be_reexecuted": false,
    "source_hash": "4234704d",
    "execution_start": 1648261887100,
    "execution_millis": 725,
    "deepnote_cell_type": "code",
    "deepnote_cell_height": 99
   },
   "source": "notes = pd.read_csv(f'{data_path}/notes-2022-02-21.tsv', sep=\"\\t\")\nratings = pd.read_csv(f'{data_path}/ratings-2022-02-21.tsv', sep=\"\\t\")",
   "outputs": [],
   "execution_count": null
  },
  {
   "cell_type": "code",
   "metadata": {
    "tags": [],
    "cell_id": "00012-d5adf817-ca1a-454e-b358-54a57edabcf0",
    "deepnote_to_be_reexecuted": false,
    "source_hash": "6bb9721f",
    "execution_start": 1648261887835,
    "execution_millis": 46,
    "deepnote_cell_type": "code",
    "deepnote_cell_height": 118,
    "deepnote_output_heights": [
     21
    ]
   },
   "source": "len(notes)",
   "outputs": [
    {
     "output_type": "execute_result",
     "execution_count": 11,
     "data": {
      "text/plain": "25402"
     },
     "metadata": {}
    }
   ],
   "execution_count": null
  },
  {
   "cell_type": "code",
   "metadata": {
    "tags": [],
    "cell_id": "00013-5254b44c-fe25-46af-8337-90a40b367582",
    "deepnote_to_be_reexecuted": false,
    "source_hash": "c9d14a39",
    "execution_start": 1648261887879,
    "execution_millis": 3,
    "deepnote_cell_type": "code",
    "deepnote_cell_height": 118,
    "deepnote_output_heights": [
     21
    ]
   },
   "source": "len(ratings)",
   "outputs": [
    {
     "output_type": "execute_result",
     "execution_count": 12,
     "data": {
      "text/plain": "189744"
     },
     "metadata": {}
    }
   ],
   "execution_count": null
  },
  {
   "cell_type": "code",
   "metadata": {
    "tags": [],
    "cell_id": "00015-80123ea9-af44-4d1a-85dc-7a75405d43b4",
    "deepnote_to_be_reexecuted": false,
    "source_hash": "926de900",
    "execution_start": 1648261887880,
    "execution_millis": 0,
    "deepnote_cell_type": "code",
    "deepnote_cell_height": 99
   },
   "source": "notes_ = notes.groupby(['tweetId']).size().to_frame('size')\nratings_ = ratings.groupby(['noteId']).size().to_frame('size')",
   "outputs": [],
   "execution_count": null
  },
  {
   "cell_type": "code",
   "metadata": {
    "tags": [],
    "cell_id": "00016-8bb24d19-0bb0-4834-8b52-06e21fb674b7",
    "deepnote_to_be_reexecuted": false,
    "source_hash": "eb8add16",
    "execution_start": 1648261887923,
    "execution_millis": 2,
    "deepnote_cell_type": "code",
    "deepnote_cell_height": 118,
    "deepnote_output_heights": [
     21
    ]
   },
   "source": "len(ratings_[ratings_['size'] > 5])",
   "outputs": [
    {
     "output_type": "execute_result",
     "execution_count": 14,
     "data": {
      "text/plain": "7641"
     },
     "metadata": {}
    }
   ],
   "execution_count": null
  },
  {
   "cell_type": "code",
   "metadata": {
    "tags": [],
    "cell_id": "00016-23eb7538-93d6-418c-8f78-5e682d74e830",
    "deepnote_to_be_reexecuted": false,
    "source_hash": "4c6d087e",
    "execution_start": 1648261887923,
    "execution_millis": 2,
    "deepnote_cell_type": "code",
    "deepnote_cell_height": 118,
    "deepnote_output_heights": [
     21
    ]
   },
   "source": "len(notes_[notes_['size'] > 5])",
   "outputs": [
    {
     "output_type": "execute_result",
     "execution_count": 15,
     "data": {
      "text/plain": "144"
     },
     "metadata": {}
    }
   ],
   "execution_count": null
  },
  {
   "cell_type": "code",
   "metadata": {
    "tags": [],
    "cell_id": "00016-a33bd52b-31db-4ed1-b2ab-5d766e94617c",
    "deepnote_to_be_reexecuted": false,
    "source_hash": "9dc109d5",
    "execution_start": 1648261887932,
    "execution_millis": 59,
    "deepnote_cell_type": "code",
    "deepnote_cell_height": 118,
    "deepnote_output_heights": [
     21
    ]
   },
   "source": "len(ratings['noteId'].unique()) - len(ratings[ratings['noteId'].isin(notes['noteId'])]['noteId'].unique())",
   "outputs": [
    {
     "output_type": "execute_result",
     "execution_count": 16,
     "data": {
      "text/plain": "0"
     },
     "metadata": {}
    }
   ],
   "execution_count": null
  },
  {
   "cell_type": "code",
   "metadata": {
    "tags": [],
    "cell_id": "00017-36dffbc8-a844-4d8a-969e-676382e576be",
    "deepnote_to_be_reexecuted": false,
    "source_hash": "4cb0f271",
    "execution_start": 1648261888098,
    "execution_millis": 35,
    "deepnote_cell_type": "code",
    "deepnote_cell_height": 393
   },
   "source": "ratings.head()",
   "outputs": [
    {
     "output_type": "execute_result",
     "execution_count": 17,
     "data": {
      "application/vnd.deepnote.dataframe.v3+json": {
       "column_count": 31,
       "row_count": 5,
       "columns": [
        {
         "name": "noteId",
         "dtype": "int64",
         "stats": {
          "unique_count": 1,
          "nan_count": 0,
          "min": "1352796878438424576",
          "max": "1352796878438424576",
          "histogram": null
         }
        },
        {
         "name": "participantId",
         "dtype": "object",
         "stats": {
          "unique_count": 5,
          "nan_count": 0,
          "categories": [
           {
            "name": "0D7ED07D5421118311EEED5E4ECF2968",
            "count": 1
           },
           {
            "name": "0466BA47B23AAAB301AA767C4C780E8D",
            "count": 1
           },
           {
            "name": "3 others",
            "count": 3
           }
          ]
         }
        },
        {
         "name": "createdAtMillis",
         "dtype": "int64",
         "stats": {
          "unique_count": 5,
          "nan_count": 0,
          "min": "1611388222120",
          "max": "1611860252442",
          "histogram": [
           {
            "bin_start": 1611388222120,
            "bin_end": 1611435425152.2,
            "count": 1
           },
           {
            "bin_start": 1611435425152.2,
            "bin_end": 1611482628184.4,
            "count": 0
           },
           {
            "bin_start": 1611482628184.4,
            "bin_end": 1611529831216.6,
            "count": 1
           },
           {
            "bin_start": 1611529831216.6,
            "bin_end": 1611577034248.8,
            "count": 0
           },
           {
            "bin_start": 1611577034248.8,
            "bin_end": 1611624237281,
            "count": 1
           },
           {
            "bin_start": 1611624237281,
            "bin_end": 1611671440313.2,
            "count": 0
           },
           {
            "bin_start": 1611671440313.2,
            "bin_end": 1611718643345.4,
            "count": 0
           },
           {
            "bin_start": 1611718643345.4,
            "bin_end": 1611765846377.6,
            "count": 0
           },
           {
            "bin_start": 1611765846377.6,
            "bin_end": 1611813049409.8,
            "count": 0
           },
           {
            "bin_start": 1611813049409.8,
            "bin_end": 1611860252442,
            "count": 2
           }
          ]
         }
        },
        {
         "name": "version",
         "dtype": "int64",
         "stats": {
          "unique_count": 1,
          "nan_count": 0,
          "min": "1",
          "max": "1",
          "histogram": [
           {
            "bin_start": 0.5,
            "bin_end": 0.6,
            "count": 0
           },
           {
            "bin_start": 0.6,
            "bin_end": 0.7,
            "count": 0
           },
           {
            "bin_start": 0.7,
            "bin_end": 0.8,
            "count": 0
           },
           {
            "bin_start": 0.8,
            "bin_end": 0.9,
            "count": 0
           },
           {
            "bin_start": 0.9,
            "bin_end": 1,
            "count": 0
           },
           {
            "bin_start": 1,
            "bin_end": 1.1,
            "count": 5
           },
           {
            "bin_start": 1.1,
            "bin_end": 1.2000000000000002,
            "count": 0
           },
           {
            "bin_start": 1.2000000000000002,
            "bin_end": 1.3,
            "count": 0
           },
           {
            "bin_start": 1.3,
            "bin_end": 1.4,
            "count": 0
           },
           {
            "bin_start": 1.4,
            "bin_end": 1.5,
            "count": 0
           }
          ]
         }
        },
        {
         "name": "agree",
         "dtype": "int64",
         "stats": {
          "unique_count": 2,
          "nan_count": 0,
          "min": "0",
          "max": "1",
          "histogram": [
           {
            "bin_start": 0,
            "bin_end": 0.1,
            "count": 1
           },
           {
            "bin_start": 0.1,
            "bin_end": 0.2,
            "count": 0
           },
           {
            "bin_start": 0.2,
            "bin_end": 0.30000000000000004,
            "count": 0
           },
           {
            "bin_start": 0.30000000000000004,
            "bin_end": 0.4,
            "count": 0
           },
           {
            "bin_start": 0.4,
            "bin_end": 0.5,
            "count": 0
           },
           {
            "bin_start": 0.5,
            "bin_end": 0.6000000000000001,
            "count": 0
           },
           {
            "bin_start": 0.6000000000000001,
            "bin_end": 0.7000000000000001,
            "count": 0
           },
           {
            "bin_start": 0.7000000000000001,
            "bin_end": 0.8,
            "count": 0
           },
           {
            "bin_start": 0.8,
            "bin_end": 0.9,
            "count": 0
           },
           {
            "bin_start": 0.9,
            "bin_end": 1,
            "count": 4
           }
          ]
         }
        },
        {
         "name": "disagree",
         "dtype": "int64",
         "stats": {
          "unique_count": 1,
          "nan_count": 0,
          "min": "0",
          "max": "0",
          "histogram": [
           {
            "bin_start": -0.5,
            "bin_end": -0.4,
            "count": 0
           },
           {
            "bin_start": -0.4,
            "bin_end": -0.3,
            "count": 0
           },
           {
            "bin_start": -0.3,
            "bin_end": -0.19999999999999996,
            "count": 0
           },
           {
            "bin_start": -0.19999999999999996,
            "bin_end": -0.09999999999999998,
            "count": 0
           },
           {
            "bin_start": -0.09999999999999998,
            "bin_end": 0,
            "count": 0
           },
           {
            "bin_start": 0,
            "bin_end": 0.10000000000000009,
            "count": 5
           },
           {
            "bin_start": 0.10000000000000009,
            "bin_end": 0.20000000000000007,
            "count": 0
           },
           {
            "bin_start": 0.20000000000000007,
            "bin_end": 0.30000000000000004,
            "count": 0
           },
           {
            "bin_start": 0.30000000000000004,
            "bin_end": 0.4,
            "count": 0
           },
           {
            "bin_start": 0.4,
            "bin_end": 0.5,
            "count": 0
           }
          ]
         }
        },
        {
         "name": "helpful",
         "dtype": "int64",
         "stats": {
          "unique_count": 2,
          "nan_count": 0,
          "min": "0",
          "max": "1",
          "histogram": [
           {
            "bin_start": 0,
            "bin_end": 0.1,
            "count": 1
           },
           {
            "bin_start": 0.1,
            "bin_end": 0.2,
            "count": 0
           },
           {
            "bin_start": 0.2,
            "bin_end": 0.30000000000000004,
            "count": 0
           },
           {
            "bin_start": 0.30000000000000004,
            "bin_end": 0.4,
            "count": 0
           },
           {
            "bin_start": 0.4,
            "bin_end": 0.5,
            "count": 0
           },
           {
            "bin_start": 0.5,
            "bin_end": 0.6000000000000001,
            "count": 0
           },
           {
            "bin_start": 0.6000000000000001,
            "bin_end": 0.7000000000000001,
            "count": 0
           },
           {
            "bin_start": 0.7000000000000001,
            "bin_end": 0.8,
            "count": 0
           },
           {
            "bin_start": 0.8,
            "bin_end": 0.9,
            "count": 0
           },
           {
            "bin_start": 0.9,
            "bin_end": 1,
            "count": 4
           }
          ]
         }
        },
        {
         "name": "notHelpful",
         "dtype": "int64",
         "stats": {
          "unique_count": 2,
          "nan_count": 0,
          "min": "0",
          "max": "1",
          "histogram": [
           {
            "bin_start": 0,
            "bin_end": 0.1,
            "count": 4
           },
           {
            "bin_start": 0.1,
            "bin_end": 0.2,
            "count": 0
           },
           {
            "bin_start": 0.2,
            "bin_end": 0.30000000000000004,
            "count": 0
           },
           {
            "bin_start": 0.30000000000000004,
            "bin_end": 0.4,
            "count": 0
           },
           {
            "bin_start": 0.4,
            "bin_end": 0.5,
            "count": 0
           },
           {
            "bin_start": 0.5,
            "bin_end": 0.6000000000000001,
            "count": 0
           },
           {
            "bin_start": 0.6000000000000001,
            "bin_end": 0.7000000000000001,
            "count": 0
           },
           {
            "bin_start": 0.7000000000000001,
            "bin_end": 0.8,
            "count": 0
           },
           {
            "bin_start": 0.8,
            "bin_end": 0.9,
            "count": 0
           },
           {
            "bin_start": 0.9,
            "bin_end": 1,
            "count": 1
           }
          ]
         }
        },
        {
         "name": "helpfulnessLevel",
         "dtype": "object",
         "stats": {
          "unique_count": 0,
          "nan_count": 5,
          "categories": [
           {
            "name": "Missing",
            "count": 5
           }
          ]
         }
        },
        {
         "name": "helpfulOther",
         "dtype": "int64",
         "stats": {
          "unique_count": 1,
          "nan_count": 0,
          "min": "0",
          "max": "0",
          "histogram": [
           {
            "bin_start": -0.5,
            "bin_end": -0.4,
            "count": 0
           },
           {
            "bin_start": -0.4,
            "bin_end": -0.3,
            "count": 0
           },
           {
            "bin_start": -0.3,
            "bin_end": -0.19999999999999996,
            "count": 0
           },
           {
            "bin_start": -0.19999999999999996,
            "bin_end": -0.09999999999999998,
            "count": 0
           },
           {
            "bin_start": -0.09999999999999998,
            "bin_end": 0,
            "count": 0
           },
           {
            "bin_start": 0,
            "bin_end": 0.10000000000000009,
            "count": 5
           },
           {
            "bin_start": 0.10000000000000009,
            "bin_end": 0.20000000000000007,
            "count": 0
           },
           {
            "bin_start": 0.20000000000000007,
            "bin_end": 0.30000000000000004,
            "count": 0
           },
           {
            "bin_start": 0.30000000000000004,
            "bin_end": 0.4,
            "count": 0
           },
           {
            "bin_start": 0.4,
            "bin_end": 0.5,
            "count": 0
           }
          ]
         }
        },
        {
         "name": "helpfulInformative",
         "dtype": "int64",
         "stats": {
          "unique_count": 2,
          "nan_count": 0,
          "min": "0",
          "max": "1",
          "histogram": [
           {
            "bin_start": 0,
            "bin_end": 0.1,
            "count": 1
           },
           {
            "bin_start": 0.1,
            "bin_end": 0.2,
            "count": 0
           },
           {
            "bin_start": 0.2,
            "bin_end": 0.30000000000000004,
            "count": 0
           },
           {
            "bin_start": 0.30000000000000004,
            "bin_end": 0.4,
            "count": 0
           },
           {
            "bin_start": 0.4,
            "bin_end": 0.5,
            "count": 0
           },
           {
            "bin_start": 0.5,
            "bin_end": 0.6000000000000001,
            "count": 0
           },
           {
            "bin_start": 0.6000000000000001,
            "bin_end": 0.7000000000000001,
            "count": 0
           },
           {
            "bin_start": 0.7000000000000001,
            "bin_end": 0.8,
            "count": 0
           },
           {
            "bin_start": 0.8,
            "bin_end": 0.9,
            "count": 0
           },
           {
            "bin_start": 0.9,
            "bin_end": 1,
            "count": 4
           }
          ]
         }
        },
        {
         "name": "helpfulClear",
         "dtype": "int64",
         "stats": {
          "unique_count": 2,
          "nan_count": 0,
          "min": "0",
          "max": "1",
          "histogram": [
           {
            "bin_start": 0,
            "bin_end": 0.1,
            "count": 2
           },
           {
            "bin_start": 0.1,
            "bin_end": 0.2,
            "count": 0
           },
           {
            "bin_start": 0.2,
            "bin_end": 0.30000000000000004,
            "count": 0
           },
           {
            "bin_start": 0.30000000000000004,
            "bin_end": 0.4,
            "count": 0
           },
           {
            "bin_start": 0.4,
            "bin_end": 0.5,
            "count": 0
           },
           {
            "bin_start": 0.5,
            "bin_end": 0.6000000000000001,
            "count": 0
           },
           {
            "bin_start": 0.6000000000000001,
            "bin_end": 0.7000000000000001,
            "count": 0
           },
           {
            "bin_start": 0.7000000000000001,
            "bin_end": 0.8,
            "count": 0
           },
           {
            "bin_start": 0.8,
            "bin_end": 0.9,
            "count": 0
           },
           {
            "bin_start": 0.9,
            "bin_end": 1,
            "count": 3
           }
          ]
         }
        },
        {
         "name": "helpfulEmpathetic",
         "dtype": "int64",
         "stats": {
          "unique_count": 2,
          "nan_count": 0,
          "min": "0",
          "max": "1",
          "histogram": [
           {
            "bin_start": 0,
            "bin_end": 0.1,
            "count": 2
           },
           {
            "bin_start": 0.1,
            "bin_end": 0.2,
            "count": 0
           },
           {
            "bin_start": 0.2,
            "bin_end": 0.30000000000000004,
            "count": 0
           },
           {
            "bin_start": 0.30000000000000004,
            "bin_end": 0.4,
            "count": 0
           },
           {
            "bin_start": 0.4,
            "bin_end": 0.5,
            "count": 0
           },
           {
            "bin_start": 0.5,
            "bin_end": 0.6000000000000001,
            "count": 0
           },
           {
            "bin_start": 0.6000000000000001,
            "bin_end": 0.7000000000000001,
            "count": 0
           },
           {
            "bin_start": 0.7000000000000001,
            "bin_end": 0.8,
            "count": 0
           },
           {
            "bin_start": 0.8,
            "bin_end": 0.9,
            "count": 0
           },
           {
            "bin_start": 0.9,
            "bin_end": 1,
            "count": 3
           }
          ]
         }
        },
        {
         "name": "helpfulGoodSources",
         "dtype": "int64",
         "stats": {
          "unique_count": 2,
          "nan_count": 0,
          "min": "0",
          "max": "1",
          "histogram": [
           {
            "bin_start": 0,
            "bin_end": 0.1,
            "count": 3
           },
           {
            "bin_start": 0.1,
            "bin_end": 0.2,
            "count": 0
           },
           {
            "bin_start": 0.2,
            "bin_end": 0.30000000000000004,
            "count": 0
           },
           {
            "bin_start": 0.30000000000000004,
            "bin_end": 0.4,
            "count": 0
           },
           {
            "bin_start": 0.4,
            "bin_end": 0.5,
            "count": 0
           },
           {
            "bin_start": 0.5,
            "bin_end": 0.6000000000000001,
            "count": 0
           },
           {
            "bin_start": 0.6000000000000001,
            "bin_end": 0.7000000000000001,
            "count": 0
           },
           {
            "bin_start": 0.7000000000000001,
            "bin_end": 0.8,
            "count": 0
           },
           {
            "bin_start": 0.8,
            "bin_end": 0.9,
            "count": 0
           },
           {
            "bin_start": 0.9,
            "bin_end": 1,
            "count": 2
           }
          ]
         }
        },
        {
         "name": "helpfulUniqueContext",
         "dtype": "int64",
         "stats": {
          "unique_count": 2,
          "nan_count": 0,
          "min": "0",
          "max": "1",
          "histogram": [
           {
            "bin_start": 0,
            "bin_end": 0.1,
            "count": 4
           },
           {
            "bin_start": 0.1,
            "bin_end": 0.2,
            "count": 0
           },
           {
            "bin_start": 0.2,
            "bin_end": 0.30000000000000004,
            "count": 0
           },
           {
            "bin_start": 0.30000000000000004,
            "bin_end": 0.4,
            "count": 0
           },
           {
            "bin_start": 0.4,
            "bin_end": 0.5,
            "count": 0
           },
           {
            "bin_start": 0.5,
            "bin_end": 0.6000000000000001,
            "count": 0
           },
           {
            "bin_start": 0.6000000000000001,
            "bin_end": 0.7000000000000001,
            "count": 0
           },
           {
            "bin_start": 0.7000000000000001,
            "bin_end": 0.8,
            "count": 0
           },
           {
            "bin_start": 0.8,
            "bin_end": 0.9,
            "count": 0
           },
           {
            "bin_start": 0.9,
            "bin_end": 1,
            "count": 1
           }
          ]
         }
        },
        {
         "name": "helpfulAddressesClaim",
         "dtype": "int64",
         "stats": {
          "unique_count": 1,
          "nan_count": 0,
          "min": "0",
          "max": "0",
          "histogram": [
           {
            "bin_start": -0.5,
            "bin_end": -0.4,
            "count": 0
           },
           {
            "bin_start": -0.4,
            "bin_end": -0.3,
            "count": 0
           },
           {
            "bin_start": -0.3,
            "bin_end": -0.19999999999999996,
            "count": 0
           },
           {
            "bin_start": -0.19999999999999996,
            "bin_end": -0.09999999999999998,
            "count": 0
           },
           {
            "bin_start": -0.09999999999999998,
            "bin_end": 0,
            "count": 0
           },
           {
            "bin_start": 0,
            "bin_end": 0.10000000000000009,
            "count": 5
           },
           {
            "bin_start": 0.10000000000000009,
            "bin_end": 0.20000000000000007,
            "count": 0
           },
           {
            "bin_start": 0.20000000000000007,
            "bin_end": 0.30000000000000004,
            "count": 0
           },
           {
            "bin_start": 0.30000000000000004,
            "bin_end": 0.4,
            "count": 0
           },
           {
            "bin_start": 0.4,
            "bin_end": 0.5,
            "count": 0
           }
          ]
         }
        },
        {
         "name": "helpfulImportantContext",
         "dtype": "int64",
         "stats": {
          "unique_count": 1,
          "nan_count": 0,
          "min": "0",
          "max": "0",
          "histogram": [
           {
            "bin_start": -0.5,
            "bin_end": -0.4,
            "count": 0
           },
           {
            "bin_start": -0.4,
            "bin_end": -0.3,
            "count": 0
           },
           {
            "bin_start": -0.3,
            "bin_end": -0.19999999999999996,
            "count": 0
           },
           {
            "bin_start": -0.19999999999999996,
            "bin_end": -0.09999999999999998,
            "count": 0
           },
           {
            "bin_start": -0.09999999999999998,
            "bin_end": 0,
            "count": 0
           },
           {
            "bin_start": 0,
            "bin_end": 0.10000000000000009,
            "count": 5
           },
           {
            "bin_start": 0.10000000000000009,
            "bin_end": 0.20000000000000007,
            "count": 0
           },
           {
            "bin_start": 0.20000000000000007,
            "bin_end": 0.30000000000000004,
            "count": 0
           },
           {
            "bin_start": 0.30000000000000004,
            "bin_end": 0.4,
            "count": 0
           },
           {
            "bin_start": 0.4,
            "bin_end": 0.5,
            "count": 0
           }
          ]
         }
        },
        {
         "name": "helpfulUnbiasedLanguage",
         "dtype": "int64",
         "stats": {
          "unique_count": 1,
          "nan_count": 0,
          "min": "0",
          "max": "0",
          "histogram": [
           {
            "bin_start": -0.5,
            "bin_end": -0.4,
            "count": 0
           },
           {
            "bin_start": -0.4,
            "bin_end": -0.3,
            "count": 0
           },
           {
            "bin_start": -0.3,
            "bin_end": -0.19999999999999996,
            "count": 0
           },
           {
            "bin_start": -0.19999999999999996,
            "bin_end": -0.09999999999999998,
            "count": 0
           },
           {
            "bin_start": -0.09999999999999998,
            "bin_end": 0,
            "count": 0
           },
           {
            "bin_start": 0,
            "bin_end": 0.10000000000000009,
            "count": 5
           },
           {
            "bin_start": 0.10000000000000009,
            "bin_end": 0.20000000000000007,
            "count": 0
           },
           {
            "bin_start": 0.20000000000000007,
            "bin_end": 0.30000000000000004,
            "count": 0
           },
           {
            "bin_start": 0.30000000000000004,
            "bin_end": 0.4,
            "count": 0
           },
           {
            "bin_start": 0.4,
            "bin_end": 0.5,
            "count": 0
           }
          ]
         }
        },
        {
         "name": "notHelpfulOther",
         "dtype": "int64",
         "stats": {
          "unique_count": 1,
          "nan_count": 0,
          "min": "0",
          "max": "0",
          "histogram": [
           {
            "bin_start": -0.5,
            "bin_end": -0.4,
            "count": 0
           },
           {
            "bin_start": -0.4,
            "bin_end": -0.3,
            "count": 0
           },
           {
            "bin_start": -0.3,
            "bin_end": -0.19999999999999996,
            "count": 0
           },
           {
            "bin_start": -0.19999999999999996,
            "bin_end": -0.09999999999999998,
            "count": 0
           },
           {
            "bin_start": -0.09999999999999998,
            "bin_end": 0,
            "count": 0
           },
           {
            "bin_start": 0,
            "bin_end": 0.10000000000000009,
            "count": 5
           },
           {
            "bin_start": 0.10000000000000009,
            "bin_end": 0.20000000000000007,
            "count": 0
           },
           {
            "bin_start": 0.20000000000000007,
            "bin_end": 0.30000000000000004,
            "count": 0
           },
           {
            "bin_start": 0.30000000000000004,
            "bin_end": 0.4,
            "count": 0
           },
           {
            "bin_start": 0.4,
            "bin_end": 0.5,
            "count": 0
           }
          ]
         }
        },
        {
         "name": "notHelpfulIncorrect",
         "dtype": "int64",
         "stats": {
          "unique_count": 1,
          "nan_count": 0,
          "min": "0",
          "max": "0",
          "histogram": [
           {
            "bin_start": -0.5,
            "bin_end": -0.4,
            "count": 0
           },
           {
            "bin_start": -0.4,
            "bin_end": -0.3,
            "count": 0
           },
           {
            "bin_start": -0.3,
            "bin_end": -0.19999999999999996,
            "count": 0
           },
           {
            "bin_start": -0.19999999999999996,
            "bin_end": -0.09999999999999998,
            "count": 0
           },
           {
            "bin_start": -0.09999999999999998,
            "bin_end": 0,
            "count": 0
           },
           {
            "bin_start": 0,
            "bin_end": 0.10000000000000009,
            "count": 5
           },
           {
            "bin_start": 0.10000000000000009,
            "bin_end": 0.20000000000000007,
            "count": 0
           },
           {
            "bin_start": 0.20000000000000007,
            "bin_end": 0.30000000000000004,
            "count": 0
           },
           {
            "bin_start": 0.30000000000000004,
            "bin_end": 0.4,
            "count": 0
           },
           {
            "bin_start": 0.4,
            "bin_end": 0.5,
            "count": 0
           }
          ]
         }
        },
        {
         "name": "notHelpfulSourcesMissingOrUnreliable",
         "dtype": "int64",
         "stats": {
          "unique_count": 1,
          "nan_count": 0,
          "min": "0",
          "max": "0",
          "histogram": [
           {
            "bin_start": -0.5,
            "bin_end": -0.4,
            "count": 0
           },
           {
            "bin_start": -0.4,
            "bin_end": -0.3,
            "count": 0
           },
           {
            "bin_start": -0.3,
            "bin_end": -0.19999999999999996,
            "count": 0
           },
           {
            "bin_start": -0.19999999999999996,
            "bin_end": -0.09999999999999998,
            "count": 0
           },
           {
            "bin_start": -0.09999999999999998,
            "bin_end": 0,
            "count": 0
           },
           {
            "bin_start": 0,
            "bin_end": 0.10000000000000009,
            "count": 5
           },
           {
            "bin_start": 0.10000000000000009,
            "bin_end": 0.20000000000000007,
            "count": 0
           },
           {
            "bin_start": 0.20000000000000007,
            "bin_end": 0.30000000000000004,
            "count": 0
           },
           {
            "bin_start": 0.30000000000000004,
            "bin_end": 0.4,
            "count": 0
           },
           {
            "bin_start": 0.4,
            "bin_end": 0.5,
            "count": 0
           }
          ]
         }
        },
        {
         "name": "notHelpfulOpinionSpeculationOrBias",
         "dtype": "int64",
         "stats": {
          "unique_count": 1,
          "nan_count": 0,
          "min": "0",
          "max": "0",
          "histogram": [
           {
            "bin_start": -0.5,
            "bin_end": -0.4,
            "count": 0
           },
           {
            "bin_start": -0.4,
            "bin_end": -0.3,
            "count": 0
           },
           {
            "bin_start": -0.3,
            "bin_end": -0.19999999999999996,
            "count": 0
           },
           {
            "bin_start": -0.19999999999999996,
            "bin_end": -0.09999999999999998,
            "count": 0
           },
           {
            "bin_start": -0.09999999999999998,
            "bin_end": 0,
            "count": 0
           },
           {
            "bin_start": 0,
            "bin_end": 0.10000000000000009,
            "count": 5
           },
           {
            "bin_start": 0.10000000000000009,
            "bin_end": 0.20000000000000007,
            "count": 0
           },
           {
            "bin_start": 0.20000000000000007,
            "bin_end": 0.30000000000000004,
            "count": 0
           },
           {
            "bin_start": 0.30000000000000004,
            "bin_end": 0.4,
            "count": 0
           },
           {
            "bin_start": 0.4,
            "bin_end": 0.5,
            "count": 0
           }
          ]
         }
        },
        {
         "name": "notHelpfulMissingKeyPoints",
         "dtype": "int64",
         "stats": {
          "unique_count": 1,
          "nan_count": 0,
          "min": "0",
          "max": "0",
          "histogram": [
           {
            "bin_start": -0.5,
            "bin_end": -0.4,
            "count": 0
           },
           {
            "bin_start": -0.4,
            "bin_end": -0.3,
            "count": 0
           },
           {
            "bin_start": -0.3,
            "bin_end": -0.19999999999999996,
            "count": 0
           },
           {
            "bin_start": -0.19999999999999996,
            "bin_end": -0.09999999999999998,
            "count": 0
           },
           {
            "bin_start": -0.09999999999999998,
            "bin_end": 0,
            "count": 0
           },
           {
            "bin_start": 0,
            "bin_end": 0.10000000000000009,
            "count": 5
           },
           {
            "bin_start": 0.10000000000000009,
            "bin_end": 0.20000000000000007,
            "count": 0
           },
           {
            "bin_start": 0.20000000000000007,
            "bin_end": 0.30000000000000004,
            "count": 0
           },
           {
            "bin_start": 0.30000000000000004,
            "bin_end": 0.4,
            "count": 0
           },
           {
            "bin_start": 0.4,
            "bin_end": 0.5,
            "count": 0
           }
          ]
         }
        },
        {
         "name": "notHelpfulOutdated",
         "dtype": "int64",
         "stats": {
          "unique_count": 1,
          "nan_count": 0,
          "min": "0",
          "max": "0",
          "histogram": [
           {
            "bin_start": -0.5,
            "bin_end": -0.4,
            "count": 0
           },
           {
            "bin_start": -0.4,
            "bin_end": -0.3,
            "count": 0
           },
           {
            "bin_start": -0.3,
            "bin_end": -0.19999999999999996,
            "count": 0
           },
           {
            "bin_start": -0.19999999999999996,
            "bin_end": -0.09999999999999998,
            "count": 0
           },
           {
            "bin_start": -0.09999999999999998,
            "bin_end": 0,
            "count": 0
           },
           {
            "bin_start": 0,
            "bin_end": 0.10000000000000009,
            "count": 5
           },
           {
            "bin_start": 0.10000000000000009,
            "bin_end": 0.20000000000000007,
            "count": 0
           },
           {
            "bin_start": 0.20000000000000007,
            "bin_end": 0.30000000000000004,
            "count": 0
           },
           {
            "bin_start": 0.30000000000000004,
            "bin_end": 0.4,
            "count": 0
           },
           {
            "bin_start": 0.4,
            "bin_end": 0.5,
            "count": 0
           }
          ]
         }
        },
        {
         "name": "notHelpfulHardToUnderstand",
         "dtype": "int64",
         "stats": {
          "unique_count": 1,
          "nan_count": 0,
          "min": "0",
          "max": "0",
          "histogram": [
           {
            "bin_start": -0.5,
            "bin_end": -0.4,
            "count": 0
           },
           {
            "bin_start": -0.4,
            "bin_end": -0.3,
            "count": 0
           },
           {
            "bin_start": -0.3,
            "bin_end": -0.19999999999999996,
            "count": 0
           },
           {
            "bin_start": -0.19999999999999996,
            "bin_end": -0.09999999999999998,
            "count": 0
           },
           {
            "bin_start": -0.09999999999999998,
            "bin_end": 0,
            "count": 0
           },
           {
            "bin_start": 0,
            "bin_end": 0.10000000000000009,
            "count": 5
           },
           {
            "bin_start": 0.10000000000000009,
            "bin_end": 0.20000000000000007,
            "count": 0
           },
           {
            "bin_start": 0.20000000000000007,
            "bin_end": 0.30000000000000004,
            "count": 0
           },
           {
            "bin_start": 0.30000000000000004,
            "bin_end": 0.4,
            "count": 0
           },
           {
            "bin_start": 0.4,
            "bin_end": 0.5,
            "count": 0
           }
          ]
         }
        },
        {
         "name": "notHelpfulArgumentativeOrBiased",
         "dtype": "int64",
         "stats": {
          "unique_count": 1,
          "nan_count": 0,
          "min": "0",
          "max": "0",
          "histogram": [
           {
            "bin_start": -0.5,
            "bin_end": -0.4,
            "count": 0
           },
           {
            "bin_start": -0.4,
            "bin_end": -0.3,
            "count": 0
           },
           {
            "bin_start": -0.3,
            "bin_end": -0.19999999999999996,
            "count": 0
           },
           {
            "bin_start": -0.19999999999999996,
            "bin_end": -0.09999999999999998,
            "count": 0
           },
           {
            "bin_start": -0.09999999999999998,
            "bin_end": 0,
            "count": 0
           },
           {
            "bin_start": 0,
            "bin_end": 0.10000000000000009,
            "count": 5
           },
           {
            "bin_start": 0.10000000000000009,
            "bin_end": 0.20000000000000007,
            "count": 0
           },
           {
            "bin_start": 0.20000000000000007,
            "bin_end": 0.30000000000000004,
            "count": 0
           },
           {
            "bin_start": 0.30000000000000004,
            "bin_end": 0.4,
            "count": 0
           },
           {
            "bin_start": 0.4,
            "bin_end": 0.5,
            "count": 0
           }
          ]
         }
        },
        {
         "name": "notHelpfulOffTopic",
         "dtype": "int64",
         "stats": {
          "unique_count": 1,
          "nan_count": 0,
          "min": "0",
          "max": "0",
          "histogram": [
           {
            "bin_start": -0.5,
            "bin_end": -0.4,
            "count": 0
           },
           {
            "bin_start": -0.4,
            "bin_end": -0.3,
            "count": 0
           },
           {
            "bin_start": -0.3,
            "bin_end": -0.19999999999999996,
            "count": 0
           },
           {
            "bin_start": -0.19999999999999996,
            "bin_end": -0.09999999999999998,
            "count": 0
           },
           {
            "bin_start": -0.09999999999999998,
            "bin_end": 0,
            "count": 0
           },
           {
            "bin_start": 0,
            "bin_end": 0.10000000000000009,
            "count": 5
           },
           {
            "bin_start": 0.10000000000000009,
            "bin_end": 0.20000000000000007,
            "count": 0
           },
           {
            "bin_start": 0.20000000000000007,
            "bin_end": 0.30000000000000004,
            "count": 0
           },
           {
            "bin_start": 0.30000000000000004,
            "bin_end": 0.4,
            "count": 0
           },
           {
            "bin_start": 0.4,
            "bin_end": 0.5,
            "count": 0
           }
          ]
         }
        },
        {
         "name": "notHelpfulSpamHarassmentOrAbuse",
         "dtype": "int64",
         "stats": {
          "unique_count": 1,
          "nan_count": 0,
          "min": "0",
          "max": "0",
          "histogram": [
           {
            "bin_start": -0.5,
            "bin_end": -0.4,
            "count": 0
           },
           {
            "bin_start": -0.4,
            "bin_end": -0.3,
            "count": 0
           },
           {
            "bin_start": -0.3,
            "bin_end": -0.19999999999999996,
            "count": 0
           },
           {
            "bin_start": -0.19999999999999996,
            "bin_end": -0.09999999999999998,
            "count": 0
           },
           {
            "bin_start": -0.09999999999999998,
            "bin_end": 0,
            "count": 0
           },
           {
            "bin_start": 0,
            "bin_end": 0.10000000000000009,
            "count": 5
           },
           {
            "bin_start": 0.10000000000000009,
            "bin_end": 0.20000000000000007,
            "count": 0
           },
           {
            "bin_start": 0.20000000000000007,
            "bin_end": 0.30000000000000004,
            "count": 0
           },
           {
            "bin_start": 0.30000000000000004,
            "bin_end": 0.4,
            "count": 0
           },
           {
            "bin_start": 0.4,
            "bin_end": 0.5,
            "count": 0
           }
          ]
         }
        },
        {
         "name": "notHelpfulIrrelevantSources",
         "dtype": "int64",
         "stats": {
          "unique_count": 1,
          "nan_count": 0,
          "min": "0",
          "max": "0",
          "histogram": [
           {
            "bin_start": -0.5,
            "bin_end": -0.4,
            "count": 0
           },
           {
            "bin_start": -0.4,
            "bin_end": -0.3,
            "count": 0
           },
           {
            "bin_start": -0.3,
            "bin_end": -0.19999999999999996,
            "count": 0
           },
           {
            "bin_start": -0.19999999999999996,
            "bin_end": -0.09999999999999998,
            "count": 0
           },
           {
            "bin_start": -0.09999999999999998,
            "bin_end": 0,
            "count": 0
           },
           {
            "bin_start": 0,
            "bin_end": 0.10000000000000009,
            "count": 5
           },
           {
            "bin_start": 0.10000000000000009,
            "bin_end": 0.20000000000000007,
            "count": 0
           },
           {
            "bin_start": 0.20000000000000007,
            "bin_end": 0.30000000000000004,
            "count": 0
           },
           {
            "bin_start": 0.30000000000000004,
            "bin_end": 0.4,
            "count": 0
           },
           {
            "bin_start": 0.4,
            "bin_end": 0.5,
            "count": 0
           }
          ]
         }
        },
        {
         "name": "notHelpfulOpinionSpeculation",
         "dtype": "int64",
         "stats": {
          "unique_count": 1,
          "nan_count": 0,
          "min": "0",
          "max": "0",
          "histogram": [
           {
            "bin_start": -0.5,
            "bin_end": -0.4,
            "count": 0
           },
           {
            "bin_start": -0.4,
            "bin_end": -0.3,
            "count": 0
           },
           {
            "bin_start": -0.3,
            "bin_end": -0.19999999999999996,
            "count": 0
           },
           {
            "bin_start": -0.19999999999999996,
            "bin_end": -0.09999999999999998,
            "count": 0
           },
           {
            "bin_start": -0.09999999999999998,
            "bin_end": 0,
            "count": 0
           },
           {
            "bin_start": 0,
            "bin_end": 0.10000000000000009,
            "count": 5
           },
           {
            "bin_start": 0.10000000000000009,
            "bin_end": 0.20000000000000007,
            "count": 0
           },
           {
            "bin_start": 0.20000000000000007,
            "bin_end": 0.30000000000000004,
            "count": 0
           },
           {
            "bin_start": 0.30000000000000004,
            "bin_end": 0.4,
            "count": 0
           },
           {
            "bin_start": 0.4,
            "bin_end": 0.5,
            "count": 0
           }
          ]
         }
        },
        {
         "name": "notHelpfulNoteNotNeeded",
         "dtype": "int64",
         "stats": {
          "unique_count": 1,
          "nan_count": 0,
          "min": "0",
          "max": "0",
          "histogram": [
           {
            "bin_start": -0.5,
            "bin_end": -0.4,
            "count": 0
           },
           {
            "bin_start": -0.4,
            "bin_end": -0.3,
            "count": 0
           },
           {
            "bin_start": -0.3,
            "bin_end": -0.19999999999999996,
            "count": 0
           },
           {
            "bin_start": -0.19999999999999996,
            "bin_end": -0.09999999999999998,
            "count": 0
           },
           {
            "bin_start": -0.09999999999999998,
            "bin_end": 0,
            "count": 0
           },
           {
            "bin_start": 0,
            "bin_end": 0.10000000000000009,
            "count": 5
           },
           {
            "bin_start": 0.10000000000000009,
            "bin_end": 0.20000000000000007,
            "count": 0
           },
           {
            "bin_start": 0.20000000000000007,
            "bin_end": 0.30000000000000004,
            "count": 0
           },
           {
            "bin_start": 0.30000000000000004,
            "bin_end": 0.4,
            "count": 0
           },
           {
            "bin_start": 0.4,
            "bin_end": 0.5,
            "count": 0
           }
          ]
         }
        },
        {
         "name": "_deepnote_index_column",
         "dtype": "int64"
        }
       ],
       "rows": [
        {
         "noteId": 1352796878438424600,
         "participantId": "0D7ED07D5421118311EEED5E4ECF2968",
         "createdAtMillis": 1611860252442,
         "version": 1,
         "agree": 1,
         "disagree": 0,
         "helpful": 1,
         "notHelpful": 0,
         "helpfulnessLevel": "nan",
         "helpfulOther": 0,
         "helpfulInformative": 1,
         "helpfulClear": 1,
         "helpfulEmpathetic": 1,
         "helpfulGoodSources": 1,
         "helpfulUniqueContext": 1,
         "helpfulAddressesClaim": 0,
         "helpfulImportantContext": 0,
         "helpfulUnbiasedLanguage": 0,
         "notHelpfulOther": 0,
         "notHelpfulIncorrect": 0,
         "notHelpfulSourcesMissingOrUnreliable": 0,
         "notHelpfulOpinionSpeculationOrBias": 0,
         "notHelpfulMissingKeyPoints": 0,
         "notHelpfulOutdated": 0,
         "notHelpfulHardToUnderstand": 0,
         "notHelpfulArgumentativeOrBiased": 0,
         "notHelpfulOffTopic": 0,
         "notHelpfulSpamHarassmentOrAbuse": 0,
         "notHelpfulIrrelevantSources": 0,
         "notHelpfulOpinionSpeculation": 0,
         "notHelpfulNoteNotNeeded": 0,
         "_deepnote_index_column": 0
        },
        {
         "noteId": 1352796878438424600,
         "participantId": "0466BA47B23AAAB301AA767C4C780E8D",
         "createdAtMillis": 1611523319844,
         "version": 1,
         "agree": 1,
         "disagree": 0,
         "helpful": 1,
         "notHelpful": 0,
         "helpfulnessLevel": "nan",
         "helpfulOther": 0,
         "helpfulInformative": 1,
         "helpfulClear": 1,
         "helpfulEmpathetic": 1,
         "helpfulGoodSources": 0,
         "helpfulUniqueContext": 0,
         "helpfulAddressesClaim": 0,
         "helpfulImportantContext": 0,
         "helpfulUnbiasedLanguage": 0,
         "notHelpfulOther": 0,
         "notHelpfulIncorrect": 0,
         "notHelpfulSourcesMissingOrUnreliable": 0,
         "notHelpfulOpinionSpeculationOrBias": 0,
         "notHelpfulMissingKeyPoints": 0,
         "notHelpfulOutdated": 0,
         "notHelpfulHardToUnderstand": 0,
         "notHelpfulArgumentativeOrBiased": 0,
         "notHelpfulOffTopic": 0,
         "notHelpfulSpamHarassmentOrAbuse": 0,
         "notHelpfulIrrelevantSources": 0,
         "notHelpfulOpinionSpeculation": 0,
         "notHelpfulNoteNotNeeded": 0,
         "_deepnote_index_column": 1
        },
        {
         "noteId": 1352796878438424600,
         "participantId": "628C786C63B5A4D32E13C6C442E1863D",
         "createdAtMillis": 1611623203338,
         "version": 1,
         "agree": 0,
         "disagree": 0,
         "helpful": 0,
         "notHelpful": 1,
         "helpfulnessLevel": "nan",
         "helpfulOther": 0,
         "helpfulInformative": 0,
         "helpfulClear": 0,
         "helpfulEmpathetic": 0,
         "helpfulGoodSources": 0,
         "helpfulUniqueContext": 0,
         "helpfulAddressesClaim": 0,
         "helpfulImportantContext": 0,
         "helpfulUnbiasedLanguage": 0,
         "notHelpfulOther": 0,
         "notHelpfulIncorrect": 0,
         "notHelpfulSourcesMissingOrUnreliable": 0,
         "notHelpfulOpinionSpeculationOrBias": 0,
         "notHelpfulMissingKeyPoints": 0,
         "notHelpfulOutdated": 0,
         "notHelpfulHardToUnderstand": 0,
         "notHelpfulArgumentativeOrBiased": 0,
         "notHelpfulOffTopic": 0,
         "notHelpfulSpamHarassmentOrAbuse": 0,
         "notHelpfulIrrelevantSources": 0,
         "notHelpfulOpinionSpeculation": 0,
         "notHelpfulNoteNotNeeded": 0,
         "_deepnote_index_column": 2
        },
        {
         "noteId": 1352796878438424600,
         "participantId": "EFD7E04E740224D2DDB42A2C910B62C1",
         "createdAtMillis": 1611852744990,
         "version": 1,
         "agree": 1,
         "disagree": 0,
         "helpful": 1,
         "notHelpful": 0,
         "helpfulnessLevel": "nan",
         "helpfulOther": 0,
         "helpfulInformative": 1,
         "helpfulClear": 1,
         "helpfulEmpathetic": 0,
         "helpfulGoodSources": 0,
         "helpfulUniqueContext": 0,
         "helpfulAddressesClaim": 0,
         "helpfulImportantContext": 0,
         "helpfulUnbiasedLanguage": 0,
         "notHelpfulOther": 0,
         "notHelpfulIncorrect": 0,
         "notHelpfulSourcesMissingOrUnreliable": 0,
         "notHelpfulOpinionSpeculationOrBias": 0,
         "notHelpfulMissingKeyPoints": 0,
         "notHelpfulOutdated": 0,
         "notHelpfulHardToUnderstand": 0,
         "notHelpfulArgumentativeOrBiased": 0,
         "notHelpfulOffTopic": 0,
         "notHelpfulSpamHarassmentOrAbuse": 0,
         "notHelpfulIrrelevantSources": 0,
         "notHelpfulOpinionSpeculation": 0,
         "notHelpfulNoteNotNeeded": 0,
         "_deepnote_index_column": 3
        },
        {
         "noteId": 1352796878438424600,
         "participantId": "7585B8804A32416E91E51837F351F249",
         "createdAtMillis": 1611388222120,
         "version": 1,
         "agree": 1,
         "disagree": 0,
         "helpful": 1,
         "notHelpful": 0,
         "helpfulnessLevel": "nan",
         "helpfulOther": 0,
         "helpfulInformative": 1,
         "helpfulClear": 0,
         "helpfulEmpathetic": 1,
         "helpfulGoodSources": 1,
         "helpfulUniqueContext": 0,
         "helpfulAddressesClaim": 0,
         "helpfulImportantContext": 0,
         "helpfulUnbiasedLanguage": 0,
         "notHelpfulOther": 0,
         "notHelpfulIncorrect": 0,
         "notHelpfulSourcesMissingOrUnreliable": 0,
         "notHelpfulOpinionSpeculationOrBias": 0,
         "notHelpfulMissingKeyPoints": 0,
         "notHelpfulOutdated": 0,
         "notHelpfulHardToUnderstand": 0,
         "notHelpfulArgumentativeOrBiased": 0,
         "notHelpfulOffTopic": 0,
         "notHelpfulSpamHarassmentOrAbuse": 0,
         "notHelpfulIrrelevantSources": 0,
         "notHelpfulOpinionSpeculation": 0,
         "notHelpfulNoteNotNeeded": 0,
         "_deepnote_index_column": 4
        }
       ]
      },
      "text/plain": "                noteId                     participantId  createdAtMillis  \\\n0  1352796878438424576  0D7ED07D5421118311EEED5E4ECF2968    1611860252442   \n1  1352796878438424576  0466BA47B23AAAB301AA767C4C780E8D    1611523319844   \n2  1352796878438424576  628C786C63B5A4D32E13C6C442E1863D    1611623203338   \n3  1352796878438424576  EFD7E04E740224D2DDB42A2C910B62C1    1611852744990   \n4  1352796878438424576  7585B8804A32416E91E51837F351F249    1611388222120   \n\n   version  agree  disagree  helpful  notHelpful helpfulnessLevel  \\\n0        1      1         0        1           0              NaN   \n1        1      1         0        1           0              NaN   \n2        1      0         0        0           1              NaN   \n3        1      1         0        1           0              NaN   \n4        1      1         0        1           0              NaN   \n\n   helpfulOther  ...  notHelpfulOpinionSpeculationOrBias  \\\n0             0  ...                                   0   \n1             0  ...                                   0   \n2             0  ...                                   0   \n3             0  ...                                   0   \n4             0  ...                                   0   \n\n   notHelpfulMissingKeyPoints  notHelpfulOutdated  notHelpfulHardToUnderstand  \\\n0                           0                   0                           0   \n1                           0                   0                           0   \n2                           0                   0                           0   \n3                           0                   0                           0   \n4                           0                   0                           0   \n\n   notHelpfulArgumentativeOrBiased  notHelpfulOffTopic  \\\n0                                0                   0   \n1                                0                   0   \n2                                0                   0   \n3                                0                   0   \n4                                0                   0   \n\n   notHelpfulSpamHarassmentOrAbuse  notHelpfulIrrelevantSources  \\\n0                                0                            0   \n1                                0                            0   \n2                                0                            0   \n3                                0                            0   \n4                                0                            0   \n\n   notHelpfulOpinionSpeculation  notHelpfulNoteNotNeeded  \n0                             0                        0  \n1                             0                        0  \n2                             0                        0  \n3                             0                        0  \n4                             0                        0  \n\n[5 rows x 31 columns]",
      "text/html": "<div>\n<style scoped>\n    .dataframe tbody tr th:only-of-type {\n        vertical-align: middle;\n    }\n\n    .dataframe tbody tr th {\n        vertical-align: top;\n    }\n\n    .dataframe thead th {\n        text-align: right;\n    }\n</style>\n<table border=\"1\" class=\"dataframe\">\n  <thead>\n    <tr style=\"text-align: right;\">\n      <th></th>\n      <th>noteId</th>\n      <th>participantId</th>\n      <th>createdAtMillis</th>\n      <th>version</th>\n      <th>agree</th>\n      <th>disagree</th>\n      <th>helpful</th>\n      <th>notHelpful</th>\n      <th>helpfulnessLevel</th>\n      <th>helpfulOther</th>\n      <th>...</th>\n      <th>notHelpfulOpinionSpeculationOrBias</th>\n      <th>notHelpfulMissingKeyPoints</th>\n      <th>notHelpfulOutdated</th>\n      <th>notHelpfulHardToUnderstand</th>\n      <th>notHelpfulArgumentativeOrBiased</th>\n      <th>notHelpfulOffTopic</th>\n      <th>notHelpfulSpamHarassmentOrAbuse</th>\n      <th>notHelpfulIrrelevantSources</th>\n      <th>notHelpfulOpinionSpeculation</th>\n      <th>notHelpfulNoteNotNeeded</th>\n    </tr>\n  </thead>\n  <tbody>\n    <tr>\n      <th>0</th>\n      <td>1352796878438424576</td>\n      <td>0D7ED07D5421118311EEED5E4ECF2968</td>\n      <td>1611860252442</td>\n      <td>1</td>\n      <td>1</td>\n      <td>0</td>\n      <td>1</td>\n      <td>0</td>\n      <td>NaN</td>\n      <td>0</td>\n      <td>...</td>\n      <td>0</td>\n      <td>0</td>\n      <td>0</td>\n      <td>0</td>\n      <td>0</td>\n      <td>0</td>\n      <td>0</td>\n      <td>0</td>\n      <td>0</td>\n      <td>0</td>\n    </tr>\n    <tr>\n      <th>1</th>\n      <td>1352796878438424576</td>\n      <td>0466BA47B23AAAB301AA767C4C780E8D</td>\n      <td>1611523319844</td>\n      <td>1</td>\n      <td>1</td>\n      <td>0</td>\n      <td>1</td>\n      <td>0</td>\n      <td>NaN</td>\n      <td>0</td>\n      <td>...</td>\n      <td>0</td>\n      <td>0</td>\n      <td>0</td>\n      <td>0</td>\n      <td>0</td>\n      <td>0</td>\n      <td>0</td>\n      <td>0</td>\n      <td>0</td>\n      <td>0</td>\n    </tr>\n    <tr>\n      <th>2</th>\n      <td>1352796878438424576</td>\n      <td>628C786C63B5A4D32E13C6C442E1863D</td>\n      <td>1611623203338</td>\n      <td>1</td>\n      <td>0</td>\n      <td>0</td>\n      <td>0</td>\n      <td>1</td>\n      <td>NaN</td>\n      <td>0</td>\n      <td>...</td>\n      <td>0</td>\n      <td>0</td>\n      <td>0</td>\n      <td>0</td>\n      <td>0</td>\n      <td>0</td>\n      <td>0</td>\n      <td>0</td>\n      <td>0</td>\n      <td>0</td>\n    </tr>\n    <tr>\n      <th>3</th>\n      <td>1352796878438424576</td>\n      <td>EFD7E04E740224D2DDB42A2C910B62C1</td>\n      <td>1611852744990</td>\n      <td>1</td>\n      <td>1</td>\n      <td>0</td>\n      <td>1</td>\n      <td>0</td>\n      <td>NaN</td>\n      <td>0</td>\n      <td>...</td>\n      <td>0</td>\n      <td>0</td>\n      <td>0</td>\n      <td>0</td>\n      <td>0</td>\n      <td>0</td>\n      <td>0</td>\n      <td>0</td>\n      <td>0</td>\n      <td>0</td>\n    </tr>\n    <tr>\n      <th>4</th>\n      <td>1352796878438424576</td>\n      <td>7585B8804A32416E91E51837F351F249</td>\n      <td>1611388222120</td>\n      <td>1</td>\n      <td>1</td>\n      <td>0</td>\n      <td>1</td>\n      <td>0</td>\n      <td>NaN</td>\n      <td>0</td>\n      <td>...</td>\n      <td>0</td>\n      <td>0</td>\n      <td>0</td>\n      <td>0</td>\n      <td>0</td>\n      <td>0</td>\n      <td>0</td>\n      <td>0</td>\n      <td>0</td>\n      <td>0</td>\n    </tr>\n  </tbody>\n</table>\n<p>5 rows × 31 columns</p>\n</div>"
     },
     "metadata": {}
    }
   ],
   "execution_count": null
  },
  {
   "cell_type": "code",
   "metadata": {
    "tags": [],
    "cell_id": "00017-7934c08d-40f6-4dee-aff1-532f76c14b78",
    "deepnote_to_be_reexecuted": false,
    "source_hash": "6a4a048e",
    "execution_start": 1648261888140,
    "execution_millis": 46,
    "deepnote_cell_type": "code",
    "deepnote_cell_height": 81
   },
   "source": "notes['dt'] = notes.createdAtMillis.apply(lambda x: datetime.fromtimestamp(x / 1e3))",
   "outputs": [],
   "execution_count": null
  },
  {
   "cell_type": "code",
   "metadata": {
    "tags": [],
    "cell_id": "00014-389e75bd-68d7-4a6b-bbe2-1fa5ecee343e",
    "deepnote_to_be_reexecuted": false,
    "source_hash": "f468b81a",
    "execution_start": 1648261888234,
    "execution_millis": 176,
    "deepnote_cell_type": "code",
    "deepnote_cell_height": 81
   },
   "source": "tweets = pd.read_csv(f'{data_path}/noted-tweets.csv', sep=\",\")",
   "outputs": [],
   "execution_count": null
  },
  {
   "cell_type": "code",
   "metadata": {
    "tags": [],
    "cell_id": "00017-f206fb15-a787-47c0-a268-a96aee6b2f7b",
    "deepnote_to_be_reexecuted": false,
    "source_hash": "68e6f883",
    "execution_start": 1648261888454,
    "execution_millis": 447,
    "deepnote_cell_type": "code",
    "deepnote_cell_height": 598
   },
   "source": "tweets[tweets.text.isna()]",
   "outputs": [
    {
     "output_type": "execute_result",
     "execution_count": 20,
     "data": {
      "application/vnd.deepnote.dataframe.v3+json": {
       "column_count": 7,
       "row_count": 2299,
       "columns": [
        {
         "name": "Unnamed: 0",
         "dtype": "int64",
         "stats": {
          "unique_count": 1680,
          "nan_count": 0,
          "min": "0",
          "max": "14580",
          "histogram": [
           {
            "bin_start": 0,
            "bin_end": 1458,
            "count": 859
           },
           {
            "bin_start": 1458,
            "bin_end": 2916,
            "count": 127
           },
           {
            "bin_start": 2916,
            "bin_end": 4374,
            "count": 152
           },
           {
            "bin_start": 4374,
            "bin_end": 5832,
            "count": 192
           },
           {
            "bin_start": 5832,
            "bin_end": 7290,
            "count": 175
           },
           {
            "bin_start": 7290,
            "bin_end": 8748,
            "count": 137
           },
           {
            "bin_start": 8748,
            "bin_end": 10206,
            "count": 148
           },
           {
            "bin_start": 10206,
            "bin_end": 11664,
            "count": 154
           },
           {
            "bin_start": 11664,
            "bin_end": 13122,
            "count": 197
           },
           {
            "bin_start": 13122,
            "bin_end": 14580,
            "count": 158
           }
          ]
         }
        },
        {
         "name": "tweetId",
         "dtype": "int64",
         "stats": {
          "unique_count": 2299,
          "nan_count": 0,
          "min": "793208373235871744",
          "max": "1493344821192318978",
          "histogram": [
           {
            "bin_start": 793208373235871700,
            "bin_end": 863222018031516400,
            "count": 1
           },
           {
            "bin_start": 863222018031516400,
            "bin_end": 933235662827161200,
            "count": 0
           },
           {
            "bin_start": 933235662827161200,
            "bin_end": 1003249307622805900,
            "count": 0
           },
           {
            "bin_start": 1003249307622805900,
            "bin_end": 1073262952418450700,
            "count": 0
           },
           {
            "bin_start": 1073262952418450700,
            "bin_end": 1143276597214095400,
            "count": 1
           },
           {
            "bin_start": 1143276597214095400,
            "bin_end": 1213290242009740000,
            "count": 0
           },
           {
            "bin_start": 1213290242009740000,
            "bin_end": 1283303886805384700,
            "count": 0
           },
           {
            "bin_start": 1283303886805384700,
            "bin_end": 1353317531601029600,
            "count": 13
           },
           {
            "bin_start": 1353317531601029600,
            "bin_end": 1423331176396674000,
            "count": 1080
           },
           {
            "bin_start": 1423331176396674000,
            "bin_end": 1493344821192319000,
            "count": 1204
           }
          ]
         }
        },
        {
         "name": "username",
         "dtype": "object",
         "stats": {
          "unique_count": 0,
          "nan_count": 2299,
          "categories": [
           {
            "name": "Missing",
            "count": 2299
           }
          ]
         }
        },
        {
         "name": "userId",
         "dtype": "float64",
         "stats": {
          "unique_count": 0,
          "nan_count": 2299,
          "min": null,
          "max": null,
          "histogram": [
           {
            "bin_start": 0,
            "bin_end": 0.1,
            "count": 0
           },
           {
            "bin_start": 0.1,
            "bin_end": 0.2,
            "count": 0
           },
           {
            "bin_start": 0.2,
            "bin_end": 0.30000000000000004,
            "count": 0
           },
           {
            "bin_start": 0.30000000000000004,
            "bin_end": 0.4,
            "count": 0
           },
           {
            "bin_start": 0.4,
            "bin_end": 0.5,
            "count": 0
           },
           {
            "bin_start": 0.5,
            "bin_end": 0.6000000000000001,
            "count": 0
           },
           {
            "bin_start": 0.6000000000000001,
            "bin_end": 0.7000000000000001,
            "count": 0
           },
           {
            "bin_start": 0.7000000000000001,
            "bin_end": 0.8,
            "count": 0
           },
           {
            "bin_start": 0.8,
            "bin_end": 0.9,
            "count": 0
           },
           {
            "bin_start": 0.9,
            "bin_end": 1,
            "count": 0
           }
          ]
         }
        },
        {
         "name": "text",
         "dtype": "object",
         "stats": {
          "unique_count": 0,
          "nan_count": 2299,
          "categories": [
           {
            "name": "Missing",
            "count": 2299
           }
          ]
         }
        },
        {
         "name": "time",
         "dtype": "object",
         "stats": {
          "unique_count": 0,
          "nan_count": 2299,
          "categories": [
           {
            "name": "Missing",
            "count": 2299
           }
          ]
         }
        },
        {
         "name": "link",
         "dtype": "object",
         "stats": {
          "unique_count": 0,
          "nan_count": 2299,
          "categories": [
           {
            "name": "Missing",
            "count": 2299
           }
          ]
         }
        },
        {
         "name": "_deepnote_index_column",
         "dtype": "int64"
        }
       ],
       "rows": [
        {
         "Unnamed: 0": 0,
         "tweetId": 1353031711349739500,
         "username": "nan",
         "userId": "nan",
         "text": "nan",
         "time": "nan",
         "link": "nan",
         "_deepnote_index_column": 0
        },
        {
         "Unnamed: 0": 8,
         "tweetId": 1354905286264430600,
         "username": "nan",
         "userId": "nan",
         "text": "nan",
         "time": "nan",
         "link": "nan",
         "_deepnote_index_column": 8
        },
        {
         "Unnamed: 0": 32,
         "tweetId": 1361491641488572400,
         "username": "nan",
         "userId": "nan",
         "text": "nan",
         "time": "nan",
         "link": "nan",
         "_deepnote_index_column": 32
        },
        {
         "Unnamed: 0": 43,
         "tweetId": 1362436244425347000,
         "username": "nan",
         "userId": "nan",
         "text": "nan",
         "time": "nan",
         "link": "nan",
         "_deepnote_index_column": 43
        },
        {
         "Unnamed: 0": 48,
         "tweetId": 1358172874973003800,
         "username": "nan",
         "userId": "nan",
         "text": "nan",
         "time": "nan",
         "link": "nan",
         "_deepnote_index_column": 48
        },
        {
         "Unnamed: 0": 77,
         "tweetId": 1355213234496823300,
         "username": "nan",
         "userId": "nan",
         "text": "nan",
         "time": "nan",
         "link": "nan",
         "_deepnote_index_column": 74
        },
        {
         "Unnamed: 0": 78,
         "tweetId": 1355313351711199200,
         "username": "nan",
         "userId": "nan",
         "text": "nan",
         "time": "nan",
         "link": "nan",
         "_deepnote_index_column": 75
        },
        {
         "Unnamed: 0": 84,
         "tweetId": 1365048476283916300,
         "username": "nan",
         "userId": "nan",
         "text": "nan",
         "time": "nan",
         "link": "nan",
         "_deepnote_index_column": 81
        },
        {
         "Unnamed: 0": 86,
         "tweetId": 1388996455126507500,
         "username": "nan",
         "userId": "nan",
         "text": "nan",
         "time": "nan",
         "link": "nan",
         "_deepnote_index_column": 83
        },
        {
         "Unnamed: 0": 112,
         "tweetId": 1391500791329038300,
         "username": "nan",
         "userId": "nan",
         "text": "nan",
         "time": "nan",
         "link": "nan",
         "_deepnote_index_column": 109
        }
       ]
      },
      "text/plain": "       Unnamed: 0              tweetId username  userId text time link\n0               0  1353031711349739523      NaN     NaN  NaN  NaN  NaN\n8               8  1354905286264430608      NaN     NaN  NaN  NaN  NaN\n32             32  1361491641488572416      NaN     NaN  NaN  NaN  NaN\n43             43  1362436244425347076      NaN     NaN  NaN  NaN  NaN\n48             48  1358172874973003780      NaN     NaN  NaN  NaN  NaN\n...           ...                  ...      ...     ...  ...  ...  ...\n19425          68  1487628841623298051      NaN     NaN  NaN  NaN  NaN\n19443          86  1490034424271958020      NaN     NaN  NaN  NaN  NaN\n19487          30  1474938979828973568      NaN     NaN  NaN  NaN  NaN\n19490          33  1481856765851492353      NaN     NaN  NaN  NaN  NaN\n19491          34  1481854353732513794      NaN     NaN  NaN  NaN  NaN\n\n[2299 rows x 7 columns]",
      "text/html": "<div>\n<style scoped>\n    .dataframe tbody tr th:only-of-type {\n        vertical-align: middle;\n    }\n\n    .dataframe tbody tr th {\n        vertical-align: top;\n    }\n\n    .dataframe thead th {\n        text-align: right;\n    }\n</style>\n<table border=\"1\" class=\"dataframe\">\n  <thead>\n    <tr style=\"text-align: right;\">\n      <th></th>\n      <th>Unnamed: 0</th>\n      <th>tweetId</th>\n      <th>username</th>\n      <th>userId</th>\n      <th>text</th>\n      <th>time</th>\n      <th>link</th>\n    </tr>\n  </thead>\n  <tbody>\n    <tr>\n      <th>0</th>\n      <td>0</td>\n      <td>1353031711349739523</td>\n      <td>NaN</td>\n      <td>NaN</td>\n      <td>NaN</td>\n      <td>NaN</td>\n      <td>NaN</td>\n    </tr>\n    <tr>\n      <th>8</th>\n      <td>8</td>\n      <td>1354905286264430608</td>\n      <td>NaN</td>\n      <td>NaN</td>\n      <td>NaN</td>\n      <td>NaN</td>\n      <td>NaN</td>\n    </tr>\n    <tr>\n      <th>32</th>\n      <td>32</td>\n      <td>1361491641488572416</td>\n      <td>NaN</td>\n      <td>NaN</td>\n      <td>NaN</td>\n      <td>NaN</td>\n      <td>NaN</td>\n    </tr>\n    <tr>\n      <th>43</th>\n      <td>43</td>\n      <td>1362436244425347076</td>\n      <td>NaN</td>\n      <td>NaN</td>\n      <td>NaN</td>\n      <td>NaN</td>\n      <td>NaN</td>\n    </tr>\n    <tr>\n      <th>48</th>\n      <td>48</td>\n      <td>1358172874973003780</td>\n      <td>NaN</td>\n      <td>NaN</td>\n      <td>NaN</td>\n      <td>NaN</td>\n      <td>NaN</td>\n    </tr>\n    <tr>\n      <th>...</th>\n      <td>...</td>\n      <td>...</td>\n      <td>...</td>\n      <td>...</td>\n      <td>...</td>\n      <td>...</td>\n      <td>...</td>\n    </tr>\n    <tr>\n      <th>19425</th>\n      <td>68</td>\n      <td>1487628841623298051</td>\n      <td>NaN</td>\n      <td>NaN</td>\n      <td>NaN</td>\n      <td>NaN</td>\n      <td>NaN</td>\n    </tr>\n    <tr>\n      <th>19443</th>\n      <td>86</td>\n      <td>1490034424271958020</td>\n      <td>NaN</td>\n      <td>NaN</td>\n      <td>NaN</td>\n      <td>NaN</td>\n      <td>NaN</td>\n    </tr>\n    <tr>\n      <th>19487</th>\n      <td>30</td>\n      <td>1474938979828973568</td>\n      <td>NaN</td>\n      <td>NaN</td>\n      <td>NaN</td>\n      <td>NaN</td>\n      <td>NaN</td>\n    </tr>\n    <tr>\n      <th>19490</th>\n      <td>33</td>\n      <td>1481856765851492353</td>\n      <td>NaN</td>\n      <td>NaN</td>\n      <td>NaN</td>\n      <td>NaN</td>\n      <td>NaN</td>\n    </tr>\n    <tr>\n      <th>19491</th>\n      <td>34</td>\n      <td>1481854353732513794</td>\n      <td>NaN</td>\n      <td>NaN</td>\n      <td>NaN</td>\n      <td>NaN</td>\n      <td>NaN</td>\n    </tr>\n  </tbody>\n</table>\n<p>2299 rows × 7 columns</p>\n</div>"
     },
     "metadata": {}
    }
   ],
   "execution_count": null
  },
  {
   "cell_type": "code",
   "metadata": {
    "tags": [],
    "cell_id": "00024-5b00638d-24c9-4ab8-a98b-87a29de72324",
    "deepnote_to_be_reexecuted": false,
    "source_hash": "de4d5512",
    "execution_start": 1648261888472,
    "execution_millis": 2,
    "deepnote_cell_type": "code",
    "deepnote_cell_height": 329,
    "deepnote_output_heights": [
     232
    ]
   },
   "source": "ratings.columns",
   "outputs": [
    {
     "output_type": "execute_result",
     "execution_count": 21,
     "data": {
      "text/plain": "Index(['noteId', 'participantId', 'createdAtMillis', 'version', 'agree',\n       'disagree', 'helpful', 'notHelpful', 'helpfulnessLevel', 'helpfulOther',\n       'helpfulInformative', 'helpfulClear', 'helpfulEmpathetic',\n       'helpfulGoodSources', 'helpfulUniqueContext', 'helpfulAddressesClaim',\n       'helpfulImportantContext', 'helpfulUnbiasedLanguage', 'notHelpfulOther',\n       'notHelpfulIncorrect', 'notHelpfulSourcesMissingOrUnreliable',\n       'notHelpfulOpinionSpeculationOrBias', 'notHelpfulMissingKeyPoints',\n       'notHelpfulOutdated', 'notHelpfulHardToUnderstand',\n       'notHelpfulArgumentativeOrBiased', 'notHelpfulOffTopic',\n       'notHelpfulSpamHarassmentOrAbuse', 'notHelpfulIrrelevantSources',\n       'notHelpfulOpinionSpeculation', 'notHelpfulNoteNotNeeded'],\n      dtype='object')"
     },
     "metadata": {}
    }
   ],
   "execution_count": null
  },
  {
   "cell_type": "code",
   "metadata": {
    "tags": [],
    "cell_id": "00025-2b94a3d4-08c8-4115-8084-08d243d20201",
    "deepnote_to_be_reexecuted": false,
    "source_hash": "42f2af04",
    "execution_start": 1648261888514,
    "execution_millis": 388,
    "deepnote_cell_type": "code",
    "deepnote_cell_height": 297
   },
   "source": "rating_quant_cols = [\n    'notHelpful', 'helpfulOther', 'helpful_quant',\n    'helpfulInformative', 'helpfulClear', 'helpfulEmpathetic',\n    'helpfulGoodSources', 'helpfulUniqueContext', 'helpfulAddressesClaim',\n    'helpfulImportantContext', 'notHelpfulOther', 'notHelpfulIncorrect',\n    'notHelpfulSourcesMissingOrUnreliable',\n    'notHelpfulOpinionSpeculationOrBias', 'notHelpfulMissingKeyPoints',\n    'notHelpfulOutdated', 'notHelpfulHardToUnderstand',\n    'notHelpfulArgumentativeOrBiased', 'notHelpfulOffTopic',\n    'notHelpfulSpamHarassmentOrAbuse', 'notHelpfulIrrelevantSources',\n    'helpfulUnbiasedLanguage', 'notHelpfulOpinionSpeculation', \n    'notHelpfulNoteNotNeeded'\n]",
   "outputs": [],
   "execution_count": null
  },
  {
   "cell_type": "code",
   "metadata": {
    "tags": [],
    "cell_id": "00029-f9e81300-90e6-4b03-a517-0852e0717906",
    "deepnote_to_be_reexecuted": false,
    "source_hash": "2472817f",
    "execution_start": 1648261888515,
    "execution_millis": 0,
    "deepnote_cell_type": "code",
    "deepnote_cell_height": 441
   },
   "source": "val_map = {\n    'CHALLENGING': 1,\n    'EASY': 0\n}\nbelievable_map = {\n    'BELIEVABLE_BY_MANY': 1,\n    'BELIEVABLE_BY_FEW': 0,\n}\nclassification_map = {\n    'MISINFORMED_OR_POTENTIALLY_MISLEADING': 1,\n    'NOT_MISLEADING': 0\n}\nharmful_map ={\n    'CONSIDERABLE_HARM': 1,\n    'LITTLE_HARM': 0,\n}\nhelpfulnessLevel_map = {\n    'HELPFUL': 1,\n    'SOMEWHAT_HELPFUL' : 1,\n    'NOT_HELPFUL': 0\n}",
   "outputs": [],
   "execution_count": null
  },
  {
   "cell_type": "code",
   "metadata": {
    "tags": [],
    "cell_id": "00036-ad16629c-167c-4130-9c26-859b01a57eda",
    "deepnote_to_be_reexecuted": false,
    "source_hash": "b2efd71d",
    "execution_start": 1648261888515,
    "execution_millis": 1,
    "deepnote_cell_type": "code",
    "deepnote_cell_height": 243
   },
   "source": "note_quant_cols = [\n    'classification_quant', 'believable_quant', 'harmful_quant', 'val_quant',\n\n    'misleadingOther', 'misleadingFactualError', 'misleadingManipulatedMedia',\n    'misleadingOutdatedInformation', 'misleadingMissingImportantContext',\n    'misleadingUnverifiedClaimAsFact', 'misleadingSatire',\n    \n    'notMisleadingOther', 'notMisleadingFactuallyCorrect',\n    'notMisleadingOutdatedButNotWhenWritten'\n]",
   "outputs": [],
   "execution_count": null
  },
  {
   "cell_type": "code",
   "metadata": {
    "tags": [],
    "cell_id": "00026-c8a633ce-1936-47e9-bd64-d04999dd724c",
    "deepnote_to_be_reexecuted": false,
    "source_hash": "d0356e96",
    "execution_start": 1648261888517,
    "execution_millis": 583,
    "deepnote_cell_type": "code",
    "deepnote_cell_height": 99
   },
   "source": "notes_ = pd.read_csv(f'{data_path}/notes-2022-02-21.tsv', sep=\"\\t\")\nratings_ = pd.read_csv(f'{data_path}/ratings-2022-02-21.tsv', sep=\"\\t\")",
   "outputs": [],
   "execution_count": null
  },
  {
   "cell_type": "code",
   "metadata": {
    "tags": [],
    "cell_id": "00027-f94f3934-da55-432b-8e7a-c3d8c2bb1a7b",
    "deepnote_to_be_reexecuted": false,
    "source_hash": "21954e9d",
    "execution_start": 1648261889118,
    "execution_millis": 45,
    "deepnote_cell_type": "code",
    "deepnote_cell_height": 118,
    "deepnote_output_heights": [
     21
    ]
   },
   "source": "ratings_['helpfulnessLevel'].isna().sum()",
   "outputs": [
    {
     "output_type": "execute_result",
     "execution_count": 26,
     "data": {
      "text/plain": "36181"
     },
     "metadata": {}
    }
   ],
   "execution_count": null
  },
  {
   "cell_type": "code",
   "metadata": {
    "tags": [],
    "cell_id": "00027-08608600-f85a-4b32-b45b-d2b542fbb519",
    "deepnote_to_be_reexecuted": false,
    "source_hash": "71c0c1b1",
    "execution_start": 1648261889163,
    "execution_millis": 0,
    "deepnote_cell_type": "code",
    "deepnote_cell_height": 81
   },
   "source": "ratings_['helpful_quant'] = ratings_.helpfulnessLevel.map(helpfulnessLevel_map) ",
   "outputs": [],
   "execution_count": null
  },
  {
   "cell_type": "code",
   "metadata": {
    "tags": [],
    "cell_id": "00039-83ae9aac-672c-47b8-aab9-f73ac5fce99b",
    "deepnote_to_be_reexecuted": false,
    "source_hash": "513c6301",
    "execution_start": 1648261889194,
    "execution_millis": 0,
    "deepnote_cell_type": "code",
    "deepnote_cell_height": 909
   },
   "source": "def consolidate_files(\n    notes, ratings, tweets, start_date='01/01/2021', end_date='02/16/2022'):\n    \"\"\"\n    Take in the data as provided by twitter and output\n    a \"ready for ML\" version.\n\n    Args\n        notes_filename - string filename of the notes csv file\n        ratings_filename - string filename of the ratings csv file \n        tweets_filename - string filename of the tweets csv file\n        start_date - string date of the format month/day/year of the start bound of the timeframe\n        end_date - string date of the format month/day/year of the end bound of the timeframe\n\n    Output\n        notesWithRatings - pandas dataframe joining notes and their corresponding ratings\n        tweetsWithNotes - pandas dataframe joining tweets and their corresponding notes\n    \"\"\"\n    # get start and end date as datetime objects\n    start_date = datetime.strptime(start_date, '%m/%d/%Y').timestamp() * 1000\n    end_date = datetime.strptime(end_date, '%m/%d/%Y').timestamp() * 1000\n\n    # print(\n    #     '# of na tweets', len(tweets[tweets.isna()])\n    #     )\n    # # tweets.dropna(inplace=True, how='any')\n\n    # filter by time\n    notes = notes[(notes.createdAtMillis.astype(int) > start_date) & (notes.createdAtMillis.astype(int) < end_date)].copy()\n    ratings = ratings[(ratings.createdAtMillis.astype(int) > start_date) & (ratings.createdAtMillis.astype(int) < end_date)].copy()\n    tweets = tweets[(tweets.createdAtMillis.astype(int) > start_date) & (tweets.createdAtMillis.astype(int) < end_date)].copy()\n\n\n    # note: this is relative to start_date and end_date. \n    # Doing this before filtering would give different results!\n    average_notelabels = ratings[['noteId'] + rating_quant_cols].groupby('noteId').mean()\n    average_tweetlabels = notes[['tweetId'] + note_quant_cols].groupby('tweetId').mean()\n    # binarizeHelpfulness(average_notelabels, 'helpful_quant')\n\n    notes_labeled = notes.set_index('noteId').join(\n        average_notelabels\n    )\n\n    tweets_labeled = tweets.set_index('tweetId').join(\n        average_tweetlabels\n    )\n\n    return notes_labeled, tweets_labeled",
   "outputs": [],
   "execution_count": null
  },
  {
   "cell_type": "code",
   "metadata": {
    "tags": [],
    "cell_id": "00043-9fae0156-9607-4f32-a6ee-5ac1badebf04",
    "deepnote_to_be_reexecuted": false,
    "source_hash": "8542fb63",
    "execution_start": 1648261889195,
    "execution_millis": 264034,
    "deepnote_cell_type": "code",
    "deepnote_cell_height": 2151
   },
   "source": "dates = [\n    '02/01/2021', #'02/15/2021', \n#    '03/01/2021', '03/15/2021', \n    '04/01/2021', #'04/15/2021', \n#    '05/01/2021', '05/15/2021', \n    '06/01/2021', #'06/15/2021',\n#    '07/01/2021', '07/15/2021',\n    '08/01/2021', # '08/15/2021',\n#    '09/01/2021', '09/15/2021',\n    '10/01/2021', # '10/15/2021',\n#    '11/01/2021', '11/15/2021',\n    '12/01/2021',\n    '02/01/2022',\n]\ndictionary = {}\n\nnotes_filename =  f'{data_path}/notes-2022-02-21.tsv'\nratings_filename = f'{data_path}/ratings-2022-02-21.tsv'\ntweets_filename = f'{data_path}/noted-tweets.csv'\n\nnotes = pd.read_csv(notes_filename, sep=\"\\t\")\nratings = pd.read_csv(ratings_filename, sep=\"\\t\")\ntweets = pd.read_csv(tweets_filename, sep=\",\")\n\nprint('checking for na values in note and tweet text')\nprint(sum(notes.summary.isna()))\nprint(sum(tweets.text.isna()))\n\n# drop na summary and text\nnotes = notes[~notes.summary.isna()]\ntweets = tweets[~tweets.text.isna()]\n\n # create quantitative columns (binary) for the main 4 TWEET labels\nnotes['classification_quant'] = notes.classification.map(classification_map)\nnotes['believable_quant'] = notes.believable.map(believable_map)\nnotes['harmful_quant'] = notes.harmful.map(harmful_map)\nnotes['val_quant'] = notes.validationDifficulty.map(val_map)\n\n# and a consolidated helpful_quant column that combines the 'helpful' and 'helpfulnessLevel' labels\n\nratings['helpful_quant'] = ratings.helpfulnessLevel.map(helpfulnessLevel_map)\nratings.loc[ratings.helpfulnessLevel.isna(), 'helpful_quant'] = ratings[\n    ratings.helpfulnessLevel.isna()].helpful\n\nprint('how many of helpful quant are nan: ', ratings['helpful_quant'].isna().sum())\n\ntweets['createdAtMillis'] = tweets['time'].apply(lambda x: timestamp(x[:19]))\n\n\ndef do_nlp(notes, tweets, do_remove_stopwords=True):\n    move_links_and_punc(notes, 'summary')\n    move_links_and_punc(tweets, 'text')\n\n    if do_remove_stopwords:\n        lemma_and_remove_stopwords(notes, 'clean_summary')\n        lemma_and_remove_stopwords(tweets, 'clean_text')\n        \n    notes['clean_txt'] = notes['clean_summary'].apply(lambda x: ' '.join(x))\n    tweets['clean_txt'] = tweets['clean_text'].apply(lambda x: ' '.join(x))\n\n    # Turn empty string into whitespace character to avoid bug later\n    notes.loc[notes.clean_txt == '', 'clean_txt'] = ' '\n    tweets.loc[tweets.clean_txt == '', 'clean_txt'] = ' '\n\n    # create polarity and subjectivity columns\n    notes['Polarity'] = sentiment_polarity(notes['clean_summary'])\n    notes['Subjectivity'] = sentiment_subjectivity(notes['clean_summary'])\n\n    tweets['Polarity'] = sentiment_polarity(tweets['clean_text'])\n    tweets['Subjectivity'] = sentiment_subjectivity(tweets['clean_text'])\n\ndo_nlp(notes, tweets)\n\n\nfor date in dates:\n    print('processing ' + date)\n    labeled_notes, labeled_tweets = consolidate_files(\n        notes, ratings, tweets, \n        end_date=date\n    )\n\n    print(len(labeled_notes), len(labeled_tweets))\n    labeled_notes = labeled_notes[~labeled_notes.helpful_quant.isna()]\n    labeled_tweets = labeled_tweets[~labeled_tweets.classification_quant.isna()]\n    print('dropped na')\n\n    dictionary['notes ' + date] = labeled_notes\n    dictionary['tweets ' + date] = labeled_tweets",
   "outputs": [
    {
     "name": "stdout",
     "text": "checking for na values in note and tweet text\n2\n2299\nhow many of helpful quant are nan:  0\nprocessing 02/01/2021\n1245 888\ndropped na\nprocessing 04/01/2021\n5531 3797\ndropped na\nprocessing 06/01/2021\n8345 5877\ndropped na\nprocessing 08/01/2021\n11368 7845\ndropped na\nprocessing 10/01/2021\n16611 11365\ndropped na\nprocessing 12/01/2021\n21426 14273\ndropped na\nprocessing 02/01/2022\n24800 16610\ndropped na\n",
     "output_type": "stream"
    }
   ],
   "execution_count": null
  },
  {
   "cell_type": "markdown",
   "source": "### Pickle Dictionary Data for Use in Other Notebooks",
   "metadata": {
    "tags": [],
    "cell_id": "00048-6f54be0c-057c-4544-a18b-3e151ac61226",
    "is_collapsed": false,
    "deepnote_cell_type": "text-cell-h3"
   }
  },
  {
   "cell_type": "code",
   "metadata": {
    "tags": [],
    "cell_id": "00023-fec5d1c5-90a6-4230-a2a9-3ef26c3d8afa",
    "deepnote_to_be_reexecuted": false,
    "source_hash": "3d2ef1e0",
    "execution_start": 1648262153231,
    "execution_millis": 395,
    "deepnote_cell_type": "code",
    "deepnote_cell_height": 99
   },
   "source": "with open(f'{data_path}/processed.pickle', 'wb') as handle:\n    pickle.dump(dictionary, handle, protocol=pickle.HIGHEST_PROTOCOL)",
   "outputs": [],
   "execution_count": null
  },
  {
   "cell_type": "code",
   "metadata": {
    "tags": [],
    "cell_id": "00036-6983ea27-c4ec-4d65-941d-873200e39531",
    "deepnote_to_be_reexecuted": false,
    "source_hash": "fe844657",
    "execution_start": 1648262153631,
    "execution_millis": 35,
    "deepnote_cell_type": "code",
    "deepnote_cell_height": 81
   },
   "source": "notes_example = dictionary['notes 12/01/2021']",
   "outputs": [],
   "execution_count": null
  },
  {
   "cell_type": "code",
   "metadata": {
    "cell_id": "0e3259c0-6b8f-4740-8258-26a1be06733b",
    "tags": [],
    "deepnote_to_be_reexecuted": false,
    "source_hash": "957b5fe6",
    "execution_start": 1648262153666,
    "execution_millis": 1,
    "deepnote_cell_type": "code",
    "deepnote_cell_height": 81
   },
   "source": "tweets_example = dictionary['tweets 12/01/2021']",
   "outputs": [],
   "execution_count": null
  },
  {
   "cell_type": "code",
   "metadata": {
    "tags": [],
    "cell_id": "00035-4c790901-1c4c-4fcb-9c8b-aaf964953729",
    "deepnote_to_be_reexecuted": false,
    "source_hash": "4d7645df",
    "execution_start": 1648262153667,
    "execution_millis": 4,
    "deepnote_cell_type": "code",
    "deepnote_cell_height": 136,
    "deepnote_output_heights": [
     21
    ]
   },
   "source": "notes_example['helpful_quant'].isna().sum(), len(notes_example)\n",
   "outputs": [
    {
     "output_type": "execute_result",
     "execution_count": 33,
     "data": {
      "text/plain": "(0, 14736)"
     },
     "metadata": {}
    }
   ],
   "execution_count": null
  },
  {
   "cell_type": "code",
   "metadata": {
    "cell_id": "6efa4a25-0025-4f32-9c33-bc4b2d3ba6c8",
    "tags": [],
    "deepnote_to_be_reexecuted": false,
    "source_hash": "ebbf2760",
    "execution_start": 1648262153667,
    "execution_millis": 17,
    "deepnote_cell_type": "code",
    "deepnote_cell_height": 118,
    "deepnote_output_heights": [
     21
    ]
   },
   "source": "tweets_example['classification_quant'].isna().sum(), len(tweets_example)",
   "outputs": [
    {
     "output_type": "execute_result",
     "execution_count": 34,
     "data": {
      "text/plain": "(0, 14141)"
     },
     "metadata": {}
    }
   ],
   "execution_count": null
  },
  {
   "cell_type": "code",
   "metadata": {
    "cell_id": "6a529b37-ab02-450a-9d95-8405a6ecd401",
    "tags": [],
    "deepnote_to_be_reexecuted": false,
    "source_hash": "6f2ddbbc",
    "execution_start": 1648262153679,
    "execution_millis": 408,
    "deepnote_cell_type": "code",
    "deepnote_cell_height": 188
   },
   "source": "tweets_example[tweets_example.classification_quant.isna()]",
   "outputs": [
    {
     "output_type": "execute_result",
     "execution_count": 35,
     "data": {
      "application/vnd.deepnote.dataframe.v3+json": {
       "column_count": 34,
       "row_count": 0,
       "columns": [
        {
         "name": "Unnamed: 0",
         "dtype": "int64",
         "stats": {
          "unique_count": 0,
          "nan_count": 0,
          "min": null,
          "max": null,
          "histogram": [
           {
            "bin_start": 0,
            "bin_end": 0.1,
            "count": 0
           },
           {
            "bin_start": 0.1,
            "bin_end": 0.2,
            "count": 0
           },
           {
            "bin_start": 0.2,
            "bin_end": 0.30000000000000004,
            "count": 0
           },
           {
            "bin_start": 0.30000000000000004,
            "bin_end": 0.4,
            "count": 0
           },
           {
            "bin_start": 0.4,
            "bin_end": 0.5,
            "count": 0
           },
           {
            "bin_start": 0.5,
            "bin_end": 0.6000000000000001,
            "count": 0
           },
           {
            "bin_start": 0.6000000000000001,
            "bin_end": 0.7000000000000001,
            "count": 0
           },
           {
            "bin_start": 0.7000000000000001,
            "bin_end": 0.8,
            "count": 0
           },
           {
            "bin_start": 0.8,
            "bin_end": 0.9,
            "count": 0
           },
           {
            "bin_start": 0.9,
            "bin_end": 1,
            "count": 0
           }
          ]
         }
        },
        {
         "name": "username",
         "dtype": "object",
         "stats": {
          "unique_count": 0,
          "nan_count": 0,
          "categories": []
         }
        },
        {
         "name": "userId",
         "dtype": "float64",
         "stats": {
          "unique_count": 0,
          "nan_count": 0,
          "min": null,
          "max": null,
          "histogram": [
           {
            "bin_start": 0,
            "bin_end": 0.1,
            "count": 0
           },
           {
            "bin_start": 0.1,
            "bin_end": 0.2,
            "count": 0
           },
           {
            "bin_start": 0.2,
            "bin_end": 0.30000000000000004,
            "count": 0
           },
           {
            "bin_start": 0.30000000000000004,
            "bin_end": 0.4,
            "count": 0
           },
           {
            "bin_start": 0.4,
            "bin_end": 0.5,
            "count": 0
           },
           {
            "bin_start": 0.5,
            "bin_end": 0.6000000000000001,
            "count": 0
           },
           {
            "bin_start": 0.6000000000000001,
            "bin_end": 0.7000000000000001,
            "count": 0
           },
           {
            "bin_start": 0.7000000000000001,
            "bin_end": 0.8,
            "count": 0
           },
           {
            "bin_start": 0.8,
            "bin_end": 0.9,
            "count": 0
           },
           {
            "bin_start": 0.9,
            "bin_end": 1,
            "count": 0
           }
          ]
         }
        },
        {
         "name": "text",
         "dtype": "object",
         "stats": {
          "unique_count": 0,
          "nan_count": 0,
          "categories": []
         }
        },
        {
         "name": "time",
         "dtype": "object",
         "stats": {
          "unique_count": 0,
          "nan_count": 0,
          "categories": []
         }
        },
        {
         "name": "link",
         "dtype": "object",
         "stats": {
          "unique_count": 0,
          "nan_count": 0,
          "categories": []
         }
        },
        {
         "name": "createdAtMillis",
         "dtype": "float64",
         "stats": {
          "unique_count": 0,
          "nan_count": 0,
          "min": null,
          "max": null,
          "histogram": [
           {
            "bin_start": 0,
            "bin_end": 0.1,
            "count": 0
           },
           {
            "bin_start": 0.1,
            "bin_end": 0.2,
            "count": 0
           },
           {
            "bin_start": 0.2,
            "bin_end": 0.30000000000000004,
            "count": 0
           },
           {
            "bin_start": 0.30000000000000004,
            "bin_end": 0.4,
            "count": 0
           },
           {
            "bin_start": 0.4,
            "bin_end": 0.5,
            "count": 0
           },
           {
            "bin_start": 0.5,
            "bin_end": 0.6000000000000001,
            "count": 0
           },
           {
            "bin_start": 0.6000000000000001,
            "bin_end": 0.7000000000000001,
            "count": 0
           },
           {
            "bin_start": 0.7000000000000001,
            "bin_end": 0.8,
            "count": 0
           },
           {
            "bin_start": 0.8,
            "bin_end": 0.9,
            "count": 0
           },
           {
            "bin_start": 0.9,
            "bin_end": 1,
            "count": 0
           }
          ]
         }
        },
        {
         "name": "links",
         "dtype": "object",
         "stats": {
          "unique_count": 0,
          "nan_count": 0,
          "categories": []
         }
        },
        {
         "name": "clean_text",
         "dtype": "object",
         "stats": {
          "unique_count": 0,
          "nan_count": 0,
          "categories": []
         }
        },
        {
         "name": "has_questionmark",
         "dtype": "bool",
         "stats": {
          "unique_count": 0,
          "nan_count": 0,
          "categories": []
         }
        },
        {
         "name": "has_exclamationmark",
         "dtype": "bool",
         "stats": {
          "unique_count": 0,
          "nan_count": 0,
          "categories": []
         }
        },
        {
         "name": "has_period",
         "dtype": "bool",
         "stats": {
          "unique_count": 0,
          "nan_count": 0,
          "categories": []
         }
        },
        {
         "name": "num_upper",
         "dtype": "int64",
         "stats": {
          "unique_count": 0,
          "nan_count": 0,
          "min": null,
          "max": null,
          "histogram": [
           {
            "bin_start": 0,
            "bin_end": 0.1,
            "count": 0
           },
           {
            "bin_start": 0.1,
            "bin_end": 0.2,
            "count": 0
           },
           {
            "bin_start": 0.2,
            "bin_end": 0.30000000000000004,
            "count": 0
           },
           {
            "bin_start": 0.30000000000000004,
            "bin_end": 0.4,
            "count": 0
           },
           {
            "bin_start": 0.4,
            "bin_end": 0.5,
            "count": 0
           },
           {
            "bin_start": 0.5,
            "bin_end": 0.6000000000000001,
            "count": 0
           },
           {
            "bin_start": 0.6000000000000001,
            "bin_end": 0.7000000000000001,
            "count": 0
           },
           {
            "bin_start": 0.7000000000000001,
            "bin_end": 0.8,
            "count": 0
           },
           {
            "bin_start": 0.8,
            "bin_end": 0.9,
            "count": 0
           },
           {
            "bin_start": 0.9,
            "bin_end": 1,
            "count": 0
           }
          ]
         }
        },
        {
         "name": "has_digit",
         "dtype": "bool",
         "stats": {
          "unique_count": 0,
          "nan_count": 0,
          "categories": []
         }
        },
        {
         "name": "char_count",
         "dtype": "int64",
         "stats": {
          "unique_count": 0,
          "nan_count": 0,
          "min": null,
          "max": null,
          "histogram": [
           {
            "bin_start": 0,
            "bin_end": 0.1,
            "count": 0
           },
           {
            "bin_start": 0.1,
            "bin_end": 0.2,
            "count": 0
           },
           {
            "bin_start": 0.2,
            "bin_end": 0.30000000000000004,
            "count": 0
           },
           {
            "bin_start": 0.30000000000000004,
            "bin_end": 0.4,
            "count": 0
           },
           {
            "bin_start": 0.4,
            "bin_end": 0.5,
            "count": 0
           },
           {
            "bin_start": 0.5,
            "bin_end": 0.6000000000000001,
            "count": 0
           },
           {
            "bin_start": 0.6000000000000001,
            "bin_end": 0.7000000000000001,
            "count": 0
           },
           {
            "bin_start": 0.7000000000000001,
            "bin_end": 0.8,
            "count": 0
           },
           {
            "bin_start": 0.8,
            "bin_end": 0.9,
            "count": 0
           },
           {
            "bin_start": 0.9,
            "bin_end": 1,
            "count": 0
           }
          ]
         }
        },
        {
         "name": "num_links",
         "dtype": "int64",
         "stats": {
          "unique_count": 0,
          "nan_count": 0,
          "min": null,
          "max": null,
          "histogram": [
           {
            "bin_start": 0,
            "bin_end": 0.1,
            "count": 0
           },
           {
            "bin_start": 0.1,
            "bin_end": 0.2,
            "count": 0
           },
           {
            "bin_start": 0.2,
            "bin_end": 0.30000000000000004,
            "count": 0
           },
           {
            "bin_start": 0.30000000000000004,
            "bin_end": 0.4,
            "count": 0
           },
           {
            "bin_start": 0.4,
            "bin_end": 0.5,
            "count": 0
           },
           {
            "bin_start": 0.5,
            "bin_end": 0.6000000000000001,
            "count": 0
           },
           {
            "bin_start": 0.6000000000000001,
            "bin_end": 0.7000000000000001,
            "count": 0
           },
           {
            "bin_start": 0.7000000000000001,
            "bin_end": 0.8,
            "count": 0
           },
           {
            "bin_start": 0.8,
            "bin_end": 0.9,
            "count": 0
           },
           {
            "bin_start": 0.9,
            "bin_end": 1,
            "count": 0
           }
          ]
         }
        },
        {
         "name": "has_links",
         "dtype": "int64",
         "stats": {
          "unique_count": 0,
          "nan_count": 0,
          "min": null,
          "max": null,
          "histogram": [
           {
            "bin_start": 0,
            "bin_end": 0.1,
            "count": 0
           },
           {
            "bin_start": 0.1,
            "bin_end": 0.2,
            "count": 0
           },
           {
            "bin_start": 0.2,
            "bin_end": 0.30000000000000004,
            "count": 0
           },
           {
            "bin_start": 0.30000000000000004,
            "bin_end": 0.4,
            "count": 0
           },
           {
            "bin_start": 0.4,
            "bin_end": 0.5,
            "count": 0
           },
           {
            "bin_start": 0.5,
            "bin_end": 0.6000000000000001,
            "count": 0
           },
           {
            "bin_start": 0.6000000000000001,
            "bin_end": 0.7000000000000001,
            "count": 0
           },
           {
            "bin_start": 0.7000000000000001,
            "bin_end": 0.8,
            "count": 0
           },
           {
            "bin_start": 0.8,
            "bin_end": 0.9,
            "count": 0
           },
           {
            "bin_start": 0.9,
            "bin_end": 1,
            "count": 0
           }
          ]
         }
        },
        {
         "name": "clean_txt",
         "dtype": "object",
         "stats": {
          "unique_count": 0,
          "nan_count": 0,
          "categories": []
         }
        },
        {
         "name": "Polarity",
         "dtype": "float64",
         "stats": {
          "unique_count": 0,
          "nan_count": 0,
          "min": null,
          "max": null,
          "histogram": [
           {
            "bin_start": 0,
            "bin_end": 0.1,
            "count": 0
           },
           {
            "bin_start": 0.1,
            "bin_end": 0.2,
            "count": 0
           },
           {
            "bin_start": 0.2,
            "bin_end": 0.30000000000000004,
            "count": 0
           },
           {
            "bin_start": 0.30000000000000004,
            "bin_end": 0.4,
            "count": 0
           },
           {
            "bin_start": 0.4,
            "bin_end": 0.5,
            "count": 0
           },
           {
            "bin_start": 0.5,
            "bin_end": 0.6000000000000001,
            "count": 0
           },
           {
            "bin_start": 0.6000000000000001,
            "bin_end": 0.7000000000000001,
            "count": 0
           },
           {
            "bin_start": 0.7000000000000001,
            "bin_end": 0.8,
            "count": 0
           },
           {
            "bin_start": 0.8,
            "bin_end": 0.9,
            "count": 0
           },
           {
            "bin_start": 0.9,
            "bin_end": 1,
            "count": 0
           }
          ]
         }
        },
        {
         "name": "Subjectivity",
         "dtype": "float64",
         "stats": {
          "unique_count": 0,
          "nan_count": 0,
          "min": null,
          "max": null,
          "histogram": [
           {
            "bin_start": 0,
            "bin_end": 0.1,
            "count": 0
           },
           {
            "bin_start": 0.1,
            "bin_end": 0.2,
            "count": 0
           },
           {
            "bin_start": 0.2,
            "bin_end": 0.30000000000000004,
            "count": 0
           },
           {
            "bin_start": 0.30000000000000004,
            "bin_end": 0.4,
            "count": 0
           },
           {
            "bin_start": 0.4,
            "bin_end": 0.5,
            "count": 0
           },
           {
            "bin_start": 0.5,
            "bin_end": 0.6000000000000001,
            "count": 0
           },
           {
            "bin_start": 0.6000000000000001,
            "bin_end": 0.7000000000000001,
            "count": 0
           },
           {
            "bin_start": 0.7000000000000001,
            "bin_end": 0.8,
            "count": 0
           },
           {
            "bin_start": 0.8,
            "bin_end": 0.9,
            "count": 0
           },
           {
            "bin_start": 0.9,
            "bin_end": 1,
            "count": 0
           }
          ]
         }
        },
        {
         "name": "classification_quant",
         "dtype": "float64",
         "stats": {
          "unique_count": 0,
          "nan_count": 0,
          "min": null,
          "max": null,
          "histogram": [
           {
            "bin_start": 0,
            "bin_end": 0.1,
            "count": 0
           },
           {
            "bin_start": 0.1,
            "bin_end": 0.2,
            "count": 0
           },
           {
            "bin_start": 0.2,
            "bin_end": 0.30000000000000004,
            "count": 0
           },
           {
            "bin_start": 0.30000000000000004,
            "bin_end": 0.4,
            "count": 0
           },
           {
            "bin_start": 0.4,
            "bin_end": 0.5,
            "count": 0
           },
           {
            "bin_start": 0.5,
            "bin_end": 0.6000000000000001,
            "count": 0
           },
           {
            "bin_start": 0.6000000000000001,
            "bin_end": 0.7000000000000001,
            "count": 0
           },
           {
            "bin_start": 0.7000000000000001,
            "bin_end": 0.8,
            "count": 0
           },
           {
            "bin_start": 0.8,
            "bin_end": 0.9,
            "count": 0
           },
           {
            "bin_start": 0.9,
            "bin_end": 1,
            "count": 0
           }
          ]
         }
        },
        {
         "name": "believable_quant",
         "dtype": "float64",
         "stats": {
          "unique_count": 0,
          "nan_count": 0,
          "min": null,
          "max": null,
          "histogram": [
           {
            "bin_start": 0,
            "bin_end": 0.1,
            "count": 0
           },
           {
            "bin_start": 0.1,
            "bin_end": 0.2,
            "count": 0
           },
           {
            "bin_start": 0.2,
            "bin_end": 0.30000000000000004,
            "count": 0
           },
           {
            "bin_start": 0.30000000000000004,
            "bin_end": 0.4,
            "count": 0
           },
           {
            "bin_start": 0.4,
            "bin_end": 0.5,
            "count": 0
           },
           {
            "bin_start": 0.5,
            "bin_end": 0.6000000000000001,
            "count": 0
           },
           {
            "bin_start": 0.6000000000000001,
            "bin_end": 0.7000000000000001,
            "count": 0
           },
           {
            "bin_start": 0.7000000000000001,
            "bin_end": 0.8,
            "count": 0
           },
           {
            "bin_start": 0.8,
            "bin_end": 0.9,
            "count": 0
           },
           {
            "bin_start": 0.9,
            "bin_end": 1,
            "count": 0
           }
          ]
         }
        },
        {
         "name": "harmful_quant",
         "dtype": "float64",
         "stats": {
          "unique_count": 0,
          "nan_count": 0,
          "min": null,
          "max": null,
          "histogram": [
           {
            "bin_start": 0,
            "bin_end": 0.1,
            "count": 0
           },
           {
            "bin_start": 0.1,
            "bin_end": 0.2,
            "count": 0
           },
           {
            "bin_start": 0.2,
            "bin_end": 0.30000000000000004,
            "count": 0
           },
           {
            "bin_start": 0.30000000000000004,
            "bin_end": 0.4,
            "count": 0
           },
           {
            "bin_start": 0.4,
            "bin_end": 0.5,
            "count": 0
           },
           {
            "bin_start": 0.5,
            "bin_end": 0.6000000000000001,
            "count": 0
           },
           {
            "bin_start": 0.6000000000000001,
            "bin_end": 0.7000000000000001,
            "count": 0
           },
           {
            "bin_start": 0.7000000000000001,
            "bin_end": 0.8,
            "count": 0
           },
           {
            "bin_start": 0.8,
            "bin_end": 0.9,
            "count": 0
           },
           {
            "bin_start": 0.9,
            "bin_end": 1,
            "count": 0
           }
          ]
         }
        },
        {
         "name": "val_quant",
         "dtype": "float64",
         "stats": {
          "unique_count": 0,
          "nan_count": 0,
          "min": null,
          "max": null,
          "histogram": [
           {
            "bin_start": 0,
            "bin_end": 0.1,
            "count": 0
           },
           {
            "bin_start": 0.1,
            "bin_end": 0.2,
            "count": 0
           },
           {
            "bin_start": 0.2,
            "bin_end": 0.30000000000000004,
            "count": 0
           },
           {
            "bin_start": 0.30000000000000004,
            "bin_end": 0.4,
            "count": 0
           },
           {
            "bin_start": 0.4,
            "bin_end": 0.5,
            "count": 0
           },
           {
            "bin_start": 0.5,
            "bin_end": 0.6000000000000001,
            "count": 0
           },
           {
            "bin_start": 0.6000000000000001,
            "bin_end": 0.7000000000000001,
            "count": 0
           },
           {
            "bin_start": 0.7000000000000001,
            "bin_end": 0.8,
            "count": 0
           },
           {
            "bin_start": 0.8,
            "bin_end": 0.9,
            "count": 0
           },
           {
            "bin_start": 0.9,
            "bin_end": 1,
            "count": 0
           }
          ]
         }
        },
        {
         "name": "misleadingOther",
         "dtype": "float64",
         "stats": {
          "unique_count": 0,
          "nan_count": 0,
          "min": null,
          "max": null,
          "histogram": [
           {
            "bin_start": 0,
            "bin_end": 0.1,
            "count": 0
           },
           {
            "bin_start": 0.1,
            "bin_end": 0.2,
            "count": 0
           },
           {
            "bin_start": 0.2,
            "bin_end": 0.30000000000000004,
            "count": 0
           },
           {
            "bin_start": 0.30000000000000004,
            "bin_end": 0.4,
            "count": 0
           },
           {
            "bin_start": 0.4,
            "bin_end": 0.5,
            "count": 0
           },
           {
            "bin_start": 0.5,
            "bin_end": 0.6000000000000001,
            "count": 0
           },
           {
            "bin_start": 0.6000000000000001,
            "bin_end": 0.7000000000000001,
            "count": 0
           },
           {
            "bin_start": 0.7000000000000001,
            "bin_end": 0.8,
            "count": 0
           },
           {
            "bin_start": 0.8,
            "bin_end": 0.9,
            "count": 0
           },
           {
            "bin_start": 0.9,
            "bin_end": 1,
            "count": 0
           }
          ]
         }
        },
        {
         "name": "misleadingFactualError",
         "dtype": "float64",
         "stats": {
          "unique_count": 0,
          "nan_count": 0,
          "min": null,
          "max": null,
          "histogram": [
           {
            "bin_start": 0,
            "bin_end": 0.1,
            "count": 0
           },
           {
            "bin_start": 0.1,
            "bin_end": 0.2,
            "count": 0
           },
           {
            "bin_start": 0.2,
            "bin_end": 0.30000000000000004,
            "count": 0
           },
           {
            "bin_start": 0.30000000000000004,
            "bin_end": 0.4,
            "count": 0
           },
           {
            "bin_start": 0.4,
            "bin_end": 0.5,
            "count": 0
           },
           {
            "bin_start": 0.5,
            "bin_end": 0.6000000000000001,
            "count": 0
           },
           {
            "bin_start": 0.6000000000000001,
            "bin_end": 0.7000000000000001,
            "count": 0
           },
           {
            "bin_start": 0.7000000000000001,
            "bin_end": 0.8,
            "count": 0
           },
           {
            "bin_start": 0.8,
            "bin_end": 0.9,
            "count": 0
           },
           {
            "bin_start": 0.9,
            "bin_end": 1,
            "count": 0
           }
          ]
         }
        },
        {
         "name": "misleadingManipulatedMedia",
         "dtype": "float64",
         "stats": {
          "unique_count": 0,
          "nan_count": 0,
          "min": null,
          "max": null,
          "histogram": [
           {
            "bin_start": 0,
            "bin_end": 0.1,
            "count": 0
           },
           {
            "bin_start": 0.1,
            "bin_end": 0.2,
            "count": 0
           },
           {
            "bin_start": 0.2,
            "bin_end": 0.30000000000000004,
            "count": 0
           },
           {
            "bin_start": 0.30000000000000004,
            "bin_end": 0.4,
            "count": 0
           },
           {
            "bin_start": 0.4,
            "bin_end": 0.5,
            "count": 0
           },
           {
            "bin_start": 0.5,
            "bin_end": 0.6000000000000001,
            "count": 0
           },
           {
            "bin_start": 0.6000000000000001,
            "bin_end": 0.7000000000000001,
            "count": 0
           },
           {
            "bin_start": 0.7000000000000001,
            "bin_end": 0.8,
            "count": 0
           },
           {
            "bin_start": 0.8,
            "bin_end": 0.9,
            "count": 0
           },
           {
            "bin_start": 0.9,
            "bin_end": 1,
            "count": 0
           }
          ]
         }
        },
        {
         "name": "misleadingOutdatedInformation",
         "dtype": "float64",
         "stats": {
          "unique_count": 0,
          "nan_count": 0,
          "min": null,
          "max": null,
          "histogram": [
           {
            "bin_start": 0,
            "bin_end": 0.1,
            "count": 0
           },
           {
            "bin_start": 0.1,
            "bin_end": 0.2,
            "count": 0
           },
           {
            "bin_start": 0.2,
            "bin_end": 0.30000000000000004,
            "count": 0
           },
           {
            "bin_start": 0.30000000000000004,
            "bin_end": 0.4,
            "count": 0
           },
           {
            "bin_start": 0.4,
            "bin_end": 0.5,
            "count": 0
           },
           {
            "bin_start": 0.5,
            "bin_end": 0.6000000000000001,
            "count": 0
           },
           {
            "bin_start": 0.6000000000000001,
            "bin_end": 0.7000000000000001,
            "count": 0
           },
           {
            "bin_start": 0.7000000000000001,
            "bin_end": 0.8,
            "count": 0
           },
           {
            "bin_start": 0.8,
            "bin_end": 0.9,
            "count": 0
           },
           {
            "bin_start": 0.9,
            "bin_end": 1,
            "count": 0
           }
          ]
         }
        },
        {
         "name": "misleadingMissingImportantContext",
         "dtype": "float64",
         "stats": {
          "unique_count": 0,
          "nan_count": 0,
          "min": null,
          "max": null,
          "histogram": [
           {
            "bin_start": 0,
            "bin_end": 0.1,
            "count": 0
           },
           {
            "bin_start": 0.1,
            "bin_end": 0.2,
            "count": 0
           },
           {
            "bin_start": 0.2,
            "bin_end": 0.30000000000000004,
            "count": 0
           },
           {
            "bin_start": 0.30000000000000004,
            "bin_end": 0.4,
            "count": 0
           },
           {
            "bin_start": 0.4,
            "bin_end": 0.5,
            "count": 0
           },
           {
            "bin_start": 0.5,
            "bin_end": 0.6000000000000001,
            "count": 0
           },
           {
            "bin_start": 0.6000000000000001,
            "bin_end": 0.7000000000000001,
            "count": 0
           },
           {
            "bin_start": 0.7000000000000001,
            "bin_end": 0.8,
            "count": 0
           },
           {
            "bin_start": 0.8,
            "bin_end": 0.9,
            "count": 0
           },
           {
            "bin_start": 0.9,
            "bin_end": 1,
            "count": 0
           }
          ]
         }
        },
        {
         "name": "misleadingUnverifiedClaimAsFact",
         "dtype": "float64",
         "stats": {
          "unique_count": 0,
          "nan_count": 0,
          "min": null,
          "max": null,
          "histogram": [
           {
            "bin_start": 0,
            "bin_end": 0.1,
            "count": 0
           },
           {
            "bin_start": 0.1,
            "bin_end": 0.2,
            "count": 0
           },
           {
            "bin_start": 0.2,
            "bin_end": 0.30000000000000004,
            "count": 0
           },
           {
            "bin_start": 0.30000000000000004,
            "bin_end": 0.4,
            "count": 0
           },
           {
            "bin_start": 0.4,
            "bin_end": 0.5,
            "count": 0
           },
           {
            "bin_start": 0.5,
            "bin_end": 0.6000000000000001,
            "count": 0
           },
           {
            "bin_start": 0.6000000000000001,
            "bin_end": 0.7000000000000001,
            "count": 0
           },
           {
            "bin_start": 0.7000000000000001,
            "bin_end": 0.8,
            "count": 0
           },
           {
            "bin_start": 0.8,
            "bin_end": 0.9,
            "count": 0
           },
           {
            "bin_start": 0.9,
            "bin_end": 1,
            "count": 0
           }
          ]
         }
        },
        {
         "name": "misleadingSatire",
         "dtype": "float64",
         "stats": {
          "unique_count": 0,
          "nan_count": 0,
          "min": null,
          "max": null,
          "histogram": [
           {
            "bin_start": 0,
            "bin_end": 0.1,
            "count": 0
           },
           {
            "bin_start": 0.1,
            "bin_end": 0.2,
            "count": 0
           },
           {
            "bin_start": 0.2,
            "bin_end": 0.30000000000000004,
            "count": 0
           },
           {
            "bin_start": 0.30000000000000004,
            "bin_end": 0.4,
            "count": 0
           },
           {
            "bin_start": 0.4,
            "bin_end": 0.5,
            "count": 0
           },
           {
            "bin_start": 0.5,
            "bin_end": 0.6000000000000001,
            "count": 0
           },
           {
            "bin_start": 0.6000000000000001,
            "bin_end": 0.7000000000000001,
            "count": 0
           },
           {
            "bin_start": 0.7000000000000001,
            "bin_end": 0.8,
            "count": 0
           },
           {
            "bin_start": 0.8,
            "bin_end": 0.9,
            "count": 0
           },
           {
            "bin_start": 0.9,
            "bin_end": 1,
            "count": 0
           }
          ]
         }
        },
        {
         "name": "notMisleadingOther",
         "dtype": "float64",
         "stats": {
          "unique_count": 0,
          "nan_count": 0,
          "min": null,
          "max": null,
          "histogram": [
           {
            "bin_start": 0,
            "bin_end": 0.1,
            "count": 0
           },
           {
            "bin_start": 0.1,
            "bin_end": 0.2,
            "count": 0
           },
           {
            "bin_start": 0.2,
            "bin_end": 0.30000000000000004,
            "count": 0
           },
           {
            "bin_start": 0.30000000000000004,
            "bin_end": 0.4,
            "count": 0
           },
           {
            "bin_start": 0.4,
            "bin_end": 0.5,
            "count": 0
           },
           {
            "bin_start": 0.5,
            "bin_end": 0.6000000000000001,
            "count": 0
           },
           {
            "bin_start": 0.6000000000000001,
            "bin_end": 0.7000000000000001,
            "count": 0
           },
           {
            "bin_start": 0.7000000000000001,
            "bin_end": 0.8,
            "count": 0
           },
           {
            "bin_start": 0.8,
            "bin_end": 0.9,
            "count": 0
           },
           {
            "bin_start": 0.9,
            "bin_end": 1,
            "count": 0
           }
          ]
         }
        },
        {
         "name": "notMisleadingFactuallyCorrect",
         "dtype": "float64",
         "stats": {
          "unique_count": 0,
          "nan_count": 0,
          "min": null,
          "max": null,
          "histogram": [
           {
            "bin_start": 0,
            "bin_end": 0.1,
            "count": 0
           },
           {
            "bin_start": 0.1,
            "bin_end": 0.2,
            "count": 0
           },
           {
            "bin_start": 0.2,
            "bin_end": 0.30000000000000004,
            "count": 0
           },
           {
            "bin_start": 0.30000000000000004,
            "bin_end": 0.4,
            "count": 0
           },
           {
            "bin_start": 0.4,
            "bin_end": 0.5,
            "count": 0
           },
           {
            "bin_start": 0.5,
            "bin_end": 0.6000000000000001,
            "count": 0
           },
           {
            "bin_start": 0.6000000000000001,
            "bin_end": 0.7000000000000001,
            "count": 0
           },
           {
            "bin_start": 0.7000000000000001,
            "bin_end": 0.8,
            "count": 0
           },
           {
            "bin_start": 0.8,
            "bin_end": 0.9,
            "count": 0
           },
           {
            "bin_start": 0.9,
            "bin_end": 1,
            "count": 0
           }
          ]
         }
        },
        {
         "name": "notMisleadingOutdatedButNotWhenWritten",
         "dtype": "float64",
         "stats": {
          "unique_count": 0,
          "nan_count": 0,
          "min": null,
          "max": null,
          "histogram": [
           {
            "bin_start": 0,
            "bin_end": 0.1,
            "count": 0
           },
           {
            "bin_start": 0.1,
            "bin_end": 0.2,
            "count": 0
           },
           {
            "bin_start": 0.2,
            "bin_end": 0.30000000000000004,
            "count": 0
           },
           {
            "bin_start": 0.30000000000000004,
            "bin_end": 0.4,
            "count": 0
           },
           {
            "bin_start": 0.4,
            "bin_end": 0.5,
            "count": 0
           },
           {
            "bin_start": 0.5,
            "bin_end": 0.6000000000000001,
            "count": 0
           },
           {
            "bin_start": 0.6000000000000001,
            "bin_end": 0.7000000000000001,
            "count": 0
           },
           {
            "bin_start": 0.7000000000000001,
            "bin_end": 0.8,
            "count": 0
           },
           {
            "bin_start": 0.8,
            "bin_end": 0.9,
            "count": 0
           },
           {
            "bin_start": 0.9,
            "bin_end": 1,
            "count": 0
           }
          ]
         }
        },
        {
         "name": "_deepnote_index_column",
         "dtype": "int64"
        }
       ],
       "rows": []
      },
      "text/plain": "Empty DataFrame\nColumns: [Unnamed: 0, username, userId, text, time, link, createdAtMillis, links, clean_text, has_questionmark, has_exclamationmark, has_period, num_upper, has_digit, char_count, num_links, has_links, clean_txt, Polarity, Subjectivity, classification_quant, believable_quant, harmful_quant, val_quant, misleadingOther, misleadingFactualError, misleadingManipulatedMedia, misleadingOutdatedInformation, misleadingMissingImportantContext, misleadingUnverifiedClaimAsFact, misleadingSatire, notMisleadingOther, notMisleadingFactuallyCorrect, notMisleadingOutdatedButNotWhenWritten]\nIndex: []\n\n[0 rows x 34 columns]",
      "text/html": "<div>\n<style scoped>\n    .dataframe tbody tr th:only-of-type {\n        vertical-align: middle;\n    }\n\n    .dataframe tbody tr th {\n        vertical-align: top;\n    }\n\n    .dataframe thead th {\n        text-align: right;\n    }\n</style>\n<table border=\"1\" class=\"dataframe\">\n  <thead>\n    <tr style=\"text-align: right;\">\n      <th></th>\n      <th>Unnamed: 0</th>\n      <th>username</th>\n      <th>userId</th>\n      <th>text</th>\n      <th>time</th>\n      <th>link</th>\n      <th>createdAtMillis</th>\n      <th>links</th>\n      <th>clean_text</th>\n      <th>has_questionmark</th>\n      <th>...</th>\n      <th>misleadingOther</th>\n      <th>misleadingFactualError</th>\n      <th>misleadingManipulatedMedia</th>\n      <th>misleadingOutdatedInformation</th>\n      <th>misleadingMissingImportantContext</th>\n      <th>misleadingUnverifiedClaimAsFact</th>\n      <th>misleadingSatire</th>\n      <th>notMisleadingOther</th>\n      <th>notMisleadingFactuallyCorrect</th>\n      <th>notMisleadingOutdatedButNotWhenWritten</th>\n    </tr>\n    <tr>\n      <th>tweetId</th>\n      <th></th>\n      <th></th>\n      <th></th>\n      <th></th>\n      <th></th>\n      <th></th>\n      <th></th>\n      <th></th>\n      <th></th>\n      <th></th>\n      <th></th>\n      <th></th>\n      <th></th>\n      <th></th>\n      <th></th>\n      <th></th>\n      <th></th>\n      <th></th>\n      <th></th>\n      <th></th>\n      <th></th>\n    </tr>\n  </thead>\n  <tbody>\n  </tbody>\n</table>\n<p>0 rows × 34 columns</p>\n</div>"
     },
     "metadata": {}
    }
   ],
   "execution_count": null
  },
  {
   "cell_type": "code",
   "metadata": {
    "tags": [],
    "cell_id": "00030-bff0d72f-0e0b-45d2-bc63-2665f38b7700",
    "deepnote_to_be_reexecuted": false,
    "source_hash": "94936cba",
    "execution_start": 1648262153839,
    "execution_millis": 249,
    "deepnote_cell_type": "code",
    "deepnote_cell_height": 118,
    "deepnote_output_heights": [
     21
    ]
   },
   "source": "notes_example.helpful_quant.isna().sum()",
   "outputs": [
    {
     "output_type": "execute_result",
     "execution_count": 36,
     "data": {
      "text/plain": "0"
     },
     "metadata": {}
    }
   ],
   "execution_count": null
  },
  {
   "cell_type": "code",
   "metadata": {
    "cell_id": "b21d4a84-f857-448a-a163-2d5663515d57",
    "tags": [],
    "deepnote_to_be_reexecuted": false,
    "source_hash": "f069632f",
    "execution_start": 1648262153840,
    "execution_millis": 248,
    "deepnote_cell_type": "code",
    "deepnote_cell_height": 118,
    "deepnote_output_heights": [
     21
    ]
   },
   "source": "notes_example.helpfulClear.isna().sum()",
   "outputs": [
    {
     "output_type": "execute_result",
     "execution_count": 37,
     "data": {
      "text/plain": "0"
     },
     "metadata": {}
    }
   ],
   "execution_count": null
  },
  {
   "cell_type": "code",
   "metadata": {
    "cell_id": "b341c2a0-0fba-41cd-a114-711ade445cfb",
    "tags": [],
    "deepnote_to_be_reexecuted": false,
    "source_hash": "b623e53d",
    "execution_start": 1648262153841,
    "execution_millis": 1,
    "deepnote_cell_type": "code",
    "deepnote_cell_height": 81
   },
   "source": "",
   "outputs": [],
   "execution_count": null
  },
  {
   "cell_type": "markdown",
   "source": "<a style='text-decoration:none;line-height:16px;display:flex;color:#5B5B62;padding:10px;justify-content:end;' href='https://deepnote.com?utm_source=created-in-deepnote-cell&projectId=c0e62a2c-7f45-414e-8164-5bf51e09d482' target=\"_blank\">\n<img alt='Created in deepnote.com' style='display:inline;max-height:16px;margin:0px;margin-right:7.5px;' src='data:image/svg+xml;base64,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' > </img>\nCreated in <span style='font-weight:600;margin-left:4px;'>Deepnote</span></a>",
   "metadata": {
    "tags": [],
    "created_in_deepnote_cell": true,
    "deepnote_cell_type": "markdown"
   }
  }
 ],
 "nbformat": 4,
 "nbformat_minor": 2,
 "metadata": {
  "orig_nbformat": 2,
  "deepnote": {
   "is_reactive": false
  },
  "deepnote_notebook_id": "e5e818bb-14ab-494a-8b9f-d2278905d7bd",
  "deepnote_execution_queue": []
 }
}