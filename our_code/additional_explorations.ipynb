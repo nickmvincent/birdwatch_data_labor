{
 "cells": [
  {
   "cell_type": "code",
   "metadata": {
    "tags": [],
    "cell_id": "00000-b7ff3eec-d123-40b7-b868-2b04471dd12b",
    "deepnote_to_be_reexecuted": false,
    "source_hash": "364fcba0",
    "execution_start": 1646814257641,
    "execution_millis": 3845,
    "deepnote_cell_type": "code",
    "deepnote_cell_height": 243
   },
   "source": "import pandas as pd\nimport regex as re\nimport pickle\nimport gensim\nimport pyLDAvis\n# from pyLDAvis import gensim\n\nnotes = pd.read_csv('../data/notes-2022-02-21.tsv', sep=\"\\t\")\nratings = pd.read_csv('../data/ratings-2022-02-21.tsv', sep=\"\\t\")\ntweets = pd.read_csv('../data/noted-tweets.csv', sep=\",\")",
   "execution_count": null,
   "outputs": []
  },
  {
   "cell_type": "code",
   "metadata": {
    "tags": [],
    "cell_id": "00000-43953380-bcda-43ec-81c8-9fe175d01295",
    "deepnote_to_be_reexecuted": false,
    "source_hash": "4006ff20",
    "execution_start": 1646092367978,
    "execution_millis": 4,
    "deepnote_cell_type": "code",
    "deepnote_cell_height": 151.10000610351562
   },
   "source": "print(len(tweets), len(notes), len(ratings))",
   "execution_count": null,
   "outputs": [
    {
     "name": "stdout",
     "text": "19503 25402 189744\n/shared-libs/python3.8/py-core/lib/python3.8/site-packages/ipykernel/ipkernel.py:283: DeprecationWarning: `should_run_async` will not call `transform_cell` automatically in the future. Please pass the result to `transformed_cell` argument and any exception that happen during thetransform in `preprocessing_exc_tuple` in IPython 7.17 and above.\n  and should_run_async(code)\n",
     "output_type": "stream"
    }
   ]
  },
  {
   "cell_type": "code",
   "metadata": {
    "tags": [],
    "cell_id": "00003-1f50e78d-9030-412e-8887-0ab04daf8170",
    "deepnote_to_be_reexecuted": false,
    "source_hash": "2966a0bf",
    "execution_start": 1646092367988,
    "execution_millis": 51,
    "deepnote_cell_type": "code",
    "deepnote_cell_height": 167.39999389648438
   },
   "source": "with open('../temp.pickle', 'rb') as handle:\n    d = pickle.load(handle)\ntweets = d['tweets']",
   "execution_count": null,
   "outputs": [
    {
     "name": "stderr",
     "text": "/shared-libs/python3.8/py-core/lib/python3.8/site-packages/ipykernel/ipkernel.py:283: DeprecationWarning: `should_run_async` will not call `transform_cell` automatically in the future. Please pass the result to `transformed_cell` argument and any exception that happen during thetransform in `preprocessing_exc_tuple` in IPython 7.17 and above.\n  and should_run_async(code)\n",
     "output_type": "stream"
    }
   ]
  },
  {
   "cell_type": "code",
   "metadata": {
    "cell_id": "9dd5c13c-9dba-4eba-a87a-9e9b103facf6",
    "tags": [],
    "deepnote_to_be_reexecuted": false,
    "source_hash": "b623e53d",
    "execution_start": 1646092368043,
    "deepnote_cell_type": "code",
    "deepnote_cell_height": 131.39999389648438
   },
   "source": "",
   "execution_count": null,
   "outputs": [
    {
     "name": "stderr",
     "text": "/shared-libs/python3.8/py-core/lib/python3.8/site-packages/ipykernel/ipkernel.py:283: DeprecationWarning: `should_run_async` will not call `transform_cell` automatically in the future. Please pass the result to `transformed_cell` argument and any exception that happen during thetransform in `preprocessing_exc_tuple` in IPython 7.17 and above.\n  and should_run_async(code)\n",
     "output_type": "stream"
    }
   ]
  },
  {
   "cell_type": "code",
   "metadata": {
    "tags": [],
    "cell_id": "00004-c0903f3f-525f-4614-8166-672752a4148c",
    "deepnote_to_be_reexecuted": false,
    "source_hash": "d36541de",
    "execution_start": 1646092368089,
    "execution_millis": 19,
    "deepnote_cell_type": "code",
    "deepnote_cell_height": 407.3999938964844
   },
   "source": "tweets.head()",
   "execution_count": null,
   "outputs": [
    {
     "name": "stderr",
     "text": "/shared-libs/python3.8/py-core/lib/python3.8/site-packages/ipykernel/ipkernel.py:283: DeprecationWarning: `should_run_async` will not call `transform_cell` automatically in the future. Please pass the result to `transformed_cell` argument and any exception that happen during thetransform in `preprocessing_exc_tuple` in IPython 7.17 and above.\n  and should_run_async(code)\n",
     "output_type": "stream"
    },
    {
     "output_type": "execute_result",
     "execution_count": 4,
     "data": {
      "application/vnd.deepnote.dataframe.v3+json": {
       "column_count": 15,
       "row_count": 5,
       "columns": [
        {
         "name": "Unnamed: 0",
         "dtype": "int64",
         "stats": {
          "unique_count": 5,
          "nan_count": 0,
          "min": "1",
          "max": "5",
          "histogram": [
           {
            "bin_start": 1,
            "bin_end": 1.4,
            "count": 1
           },
           {
            "bin_start": 1.4,
            "bin_end": 1.8,
            "count": 0
           },
           {
            "bin_start": 1.8,
            "bin_end": 2.2,
            "count": 1
           },
           {
            "bin_start": 2.2,
            "bin_end": 2.6,
            "count": 0
           },
           {
            "bin_start": 2.6,
            "bin_end": 3,
            "count": 0
           },
           {
            "bin_start": 3,
            "bin_end": 3.4000000000000004,
            "count": 1
           },
           {
            "bin_start": 3.4000000000000004,
            "bin_end": 3.8000000000000003,
            "count": 0
           },
           {
            "bin_start": 3.8000000000000003,
            "bin_end": 4.2,
            "count": 1
           },
           {
            "bin_start": 4.2,
            "bin_end": 4.6,
            "count": 0
           },
           {
            "bin_start": 4.6,
            "bin_end": 5,
            "count": 1
           }
          ]
         }
        },
        {
         "name": "tweetId",
         "dtype": "int64",
         "stats": {
          "unique_count": 5,
          "nan_count": 0,
          "min": "1352754599590035459",
          "max": "1361810447431827459",
          "histogram": [
           {
            "bin_start": 1352754599590035500,
            "bin_end": 1353660184374214700,
            "count": 1
           },
           {
            "bin_start": 1353660184374214700,
            "bin_end": 1354565769158393900,
            "count": 0
           },
           {
            "bin_start": 1354565769158393900,
            "bin_end": 1355471353942573000,
            "count": 0
           },
           {
            "bin_start": 1355471353942573000,
            "bin_end": 1356376938726752300,
            "count": 2
           },
           {
            "bin_start": 1356376938726752300,
            "bin_end": 1357282523510931500,
            "count": 1
           },
           {
            "bin_start": 1357282523510931500,
            "bin_end": 1358188108295110700,
            "count": 0
           },
           {
            "bin_start": 1358188108295110700,
            "bin_end": 1359093693079289900,
            "count": 0
           },
           {
            "bin_start": 1359093693079289900,
            "bin_end": 1359999277863469000,
            "count": 0
           },
           {
            "bin_start": 1359999277863469000,
            "bin_end": 1360904862647648300,
            "count": 0
           },
           {
            "bin_start": 1360904862647648300,
            "bin_end": 1361810447431827500,
            "count": 1
           }
          ]
         }
        },
        {
         "name": "username",
         "dtype": "object",
         "stats": {
          "unique_count": 5,
          "nan_count": 0,
          "categories": [
           {
            "name": "rjnln02",
            "count": 1
           },
           {
            "name": "luscsmoothie",
            "count": 1
           },
           {
            "name": "3 others",
            "count": 3
           }
          ]
         }
        },
        {
         "name": "userId",
         "dtype": "float64",
         "stats": {
          "unique_count": 5,
          "nan_count": 0,
          "min": "39344374.0",
          "max": "9.305525523027928e+17",
          "histogram": [
           {
            "bin_start": 39344374,
            "bin_end": 93055255265689220,
            "count": 3
           },
           {
            "bin_start": 93055255265689220,
            "bin_end": 186110510492034080,
            "count": 0
           },
           {
            "bin_start": 186110510492034080,
            "bin_end": 279165765718378940,
            "count": 0
           },
           {
            "bin_start": 279165765718378940,
            "bin_end": 372221020944723800,
            "count": 0
           },
           {
            "bin_start": 372221020944723800,
            "bin_end": 465276276171068600,
            "count": 0
           },
           {
            "bin_start": 465276276171068600,
            "bin_end": 558331531397413500,
            "count": 0
           },
           {
            "bin_start": 558331531397413500,
            "bin_end": 651386786623758300,
            "count": 0
           },
           {
            "bin_start": 651386786623758300,
            "bin_end": 744442041850103200,
            "count": 0
           },
           {
            "bin_start": 744442041850103200,
            "bin_end": 837497297076448000,
            "count": 0
           },
           {
            "bin_start": 837497297076448000,
            "bin_end": 930552552302792800,
            "count": 2
           }
          ]
         }
        },
        {
         "name": "text",
         "dtype": "object",
         "stats": {
          "unique_count": 5,
          "nan_count": 0,
          "categories": [
           {
            "name": "@AF632 @alwsbord1 Black Lives Matter is a racist, domestic terror organization and should be dealt with just as ISIS and al Qaeda have been.",
            "count": 1
           },
           {
            "name": "@nobelprize To remind u what BLM did. Disqualify! RT @NextLAMayor: #BlackLivesMatter movement nominated for Nobel peace prize. https://t.co/2qDB0db13x",
            "count": 1
           },
           {
            "name": "3 others",
            "count": 3
           }
          ]
         }
        },
        {
         "name": "time",
         "dtype": "object",
         "stats": {
          "unique_count": 5,
          "nan_count": 0,
          "categories": [
           {
            "name": "2021-01-30 22:27:22",
            "count": 1
           },
           {
            "name": "2021-01-30 14:54:17",
            "count": 1
           },
           {
            "name": "3 others",
            "count": 3
           }
          ]
         }
        },
        {
         "name": "link",
         "dtype": "object",
         "stats": {
          "unique_count": 5,
          "nan_count": 0,
          "categories": [
           {
            "name": "https://twitter.com/rjnln02/status/1355643797280083973",
            "count": 1
           },
           {
            "name": "https://twitter.com/luscsmoothie/status/1355529775197130753",
            "count": 1
           },
           {
            "name": "3 others",
            "count": 3
           }
          ]
         }
        },
        {
         "name": "links",
         "dtype": "object",
         "stats": {
          "unique_count": 5,
          "nan_count": 0,
          "categories": [
           {
            "name": "[]",
            "count": 4
           },
           {
            "name": "['https://t.co/2qDB0db13x']",
            "count": 1
           }
          ]
         }
        },
        {
         "name": "clean_text",
         "dtype": "object",
         "stats": {
          "unique_count": 5,
          "nan_count": 0,
          "categories": [
           {
            "name": "['af', 'alwsbord', 'black', 'life', 'matter', 'racist', 'domestic', 'terror', 'organization', 'deal', 'isis', 'al', 'qaeda']",
            "count": 1
           },
           {
            "name": "['nobelprize', 'remind', 'u', 'blm', 'disqualify', 'rt', 'nextlamayor', 'blacklivesmatter', 'movement', 'nominate', 'nobel', 'peace', 'prize']",
            "count": 1
           },
           {
            "name": "3 others",
            "count": 3
           }
          ]
         }
        },
        {
         "name": "word_count",
         "dtype": "int64",
         "stats": {
          "unique_count": 5,
          "nan_count": 0,
          "min": "77",
          "max": "284",
          "histogram": [
           {
            "bin_start": 77,
            "bin_end": 97.7,
            "count": 1
           },
           {
            "bin_start": 97.7,
            "bin_end": 118.4,
            "count": 0
           },
           {
            "bin_start": 118.4,
            "bin_end": 139.1,
            "count": 2
           },
           {
            "bin_start": 139.1,
            "bin_end": 159.8,
            "count": 0
           },
           {
            "bin_start": 159.8,
            "bin_end": 180.5,
            "count": 0
           },
           {
            "bin_start": 180.5,
            "bin_end": 201.2,
            "count": 0
           },
           {
            "bin_start": 201.2,
            "bin_end": 221.9,
            "count": 0
           },
           {
            "bin_start": 221.9,
            "bin_end": 242.6,
            "count": 1
           },
           {
            "bin_start": 242.6,
            "bin_end": 263.29999999999995,
            "count": 0
           },
           {
            "bin_start": 263.29999999999995,
            "bin_end": 284,
            "count": 1
           }
          ]
         }
        },
        {
         "name": "num_links",
         "dtype": "int64",
         "stats": {
          "unique_count": 2,
          "nan_count": 0,
          "min": "0",
          "max": "1",
          "histogram": [
           {
            "bin_start": 0,
            "bin_end": 0.1,
            "count": 4
           },
           {
            "bin_start": 0.1,
            "bin_end": 0.2,
            "count": 0
           },
           {
            "bin_start": 0.2,
            "bin_end": 0.30000000000000004,
            "count": 0
           },
           {
            "bin_start": 0.30000000000000004,
            "bin_end": 0.4,
            "count": 0
           },
           {
            "bin_start": 0.4,
            "bin_end": 0.5,
            "count": 0
           },
           {
            "bin_start": 0.5,
            "bin_end": 0.6000000000000001,
            "count": 0
           },
           {
            "bin_start": 0.6000000000000001,
            "bin_end": 0.7000000000000001,
            "count": 0
           },
           {
            "bin_start": 0.7000000000000001,
            "bin_end": 0.8,
            "count": 0
           },
           {
            "bin_start": 0.8,
            "bin_end": 0.9,
            "count": 0
           },
           {
            "bin_start": 0.9,
            "bin_end": 1,
            "count": 1
           }
          ]
         }
        },
        {
         "name": "has_links",
         "dtype": "int64",
         "stats": {
          "unique_count": 2,
          "nan_count": 0,
          "min": "0",
          "max": "1",
          "histogram": [
           {
            "bin_start": 0,
            "bin_end": 0.1,
            "count": 4
           },
           {
            "bin_start": 0.1,
            "bin_end": 0.2,
            "count": 0
           },
           {
            "bin_start": 0.2,
            "bin_end": 0.30000000000000004,
            "count": 0
           },
           {
            "bin_start": 0.30000000000000004,
            "bin_end": 0.4,
            "count": 0
           },
           {
            "bin_start": 0.4,
            "bin_end": 0.5,
            "count": 0
           },
           {
            "bin_start": 0.5,
            "bin_end": 0.6000000000000001,
            "count": 0
           },
           {
            "bin_start": 0.6000000000000001,
            "bin_end": 0.7000000000000001,
            "count": 0
           },
           {
            "bin_start": 0.7000000000000001,
            "bin_end": 0.8,
            "count": 0
           },
           {
            "bin_start": 0.8,
            "bin_end": 0.9,
            "count": 0
           },
           {
            "bin_start": 0.9,
            "bin_end": 1,
            "count": 1
           }
          ]
         }
        },
        {
         "name": "polarity",
         "dtype": "float64",
         "stats": {
          "unique_count": 5,
          "nan_count": 0,
          "min": "-0.5",
          "max": "0.16818181818181818",
          "histogram": [
           {
            "bin_start": -0.5,
            "bin_end": -0.43318181818181817,
            "count": 1
           },
           {
            "bin_start": -0.43318181818181817,
            "bin_end": -0.36636363636363634,
            "count": 0
           },
           {
            "bin_start": -0.36636363636363634,
            "bin_end": -0.29954545454545456,
            "count": 0
           },
           {
            "bin_start": -0.29954545454545456,
            "bin_end": -0.23272727272727273,
            "count": 0
           },
           {
            "bin_start": -0.23272727272727273,
            "bin_end": -0.1659090909090909,
            "count": 0
           },
           {
            "bin_start": -0.1659090909090909,
            "bin_end": -0.09909090909090912,
            "count": 0
           },
           {
            "bin_start": -0.09909090909090912,
            "bin_end": -0.032272727272727286,
            "count": 1
           },
           {
            "bin_start": -0.032272727272727286,
            "bin_end": 0.034545454545454546,
            "count": 2
           },
           {
            "bin_start": 0.034545454545454546,
            "bin_end": 0.10136363636363632,
            "count": 0
           },
           {
            "bin_start": 0.10136363636363632,
            "bin_end": 0.16818181818181818,
            "count": 1
           }
          ]
         }
        },
        {
         "name": "subjectivity",
         "dtype": "float64",
         "stats": {
          "unique_count": 5,
          "nan_count": 0,
          "min": "0.0",
          "max": "0.6666666666666666",
          "histogram": [
           {
            "bin_start": 0,
            "bin_end": 0.06666666666666667,
            "count": 1
           },
           {
            "bin_start": 0.06666666666666667,
            "bin_end": 0.13333333333333333,
            "count": 0
           },
           {
            "bin_start": 0.13333333333333333,
            "bin_end": 0.2,
            "count": 0
           },
           {
            "bin_start": 0.2,
            "bin_end": 0.26666666666666666,
            "count": 0
           },
           {
            "bin_start": 0.26666666666666666,
            "bin_end": 0.3333333333333333,
            "count": 1
           },
           {
            "bin_start": 0.3333333333333333,
            "bin_end": 0.4,
            "count": 1
           },
           {
            "bin_start": 0.4,
            "bin_end": 0.4666666666666667,
            "count": 0
           },
           {
            "bin_start": 0.4666666666666667,
            "bin_end": 0.5333333333333333,
            "count": 1
           },
           {
            "bin_start": 0.5333333333333333,
            "bin_end": 0.6,
            "count": 0
           },
           {
            "bin_start": 0.6,
            "bin_end": 0.6666666666666666,
            "count": 1
           }
          ]
         }
        },
        {
         "name": "clean_text_as_str",
         "dtype": "object",
         "stats": {
          "unique_count": 5,
          "nan_count": 0,
          "categories": [
           {
            "name": "af alwsbord black life matter racist domestic terror organization deal isis al qaeda",
            "count": 1
           },
           {
            "name": "nobelprize remind u blm disqualify rt nextlamayor blacklivesmatter movement nominate nobel peace prize",
            "count": 1
           },
           {
            "name": "3 others",
            "count": 3
           }
          ]
         }
        },
        {
         "name": "_deepnote_index_column",
         "dtype": "int64"
        }
       ],
       "rows": [
        {
         "Unnamed: 0": 1,
         "tweetId": 1355643797280084000,
         "username": "rjnln02",
         "userId": 1629330452,
         "text": "@AF632 @alwsbord1 Black Lives Matter is a racist, domestic terror organization and should be dealt …",
         "time": "2021-01-30 22:27:22",
         "link": "https://twitter.com/rjnln02/status/1355643797280083973",
         "links": "[]",
         "clean_text": "['af', 'alwsbord', 'black', 'life', 'matter', 'racist', 'domestic', 'terror', 'organization', 'deal…",
         "word_count": 132,
         "num_links": 0,
         "has_links": 0,
         "polarity": -0.08333333333333333,
         "subjectivity": 0.26666666666666666,
         "clean_text_as_str": "af alwsbord black life matter racist domestic terror organization deal isis al qaeda",
         "_deepnote_index_column": 1
        },
        {
         "Unnamed: 0": 2,
         "tweetId": 1355529775197130800,
         "username": "luscsmoothie",
         "userId": 307579230,
         "text": "@nobelprize To remind u what BLM did. Disqualify! RT @NextLAMayor: #BlackLivesMatter movement nomin…",
         "time": "2021-01-30 14:54:17",
         "link": "https://twitter.com/luscsmoothie/status/1355529775197130753",
         "links": "['https://t.co/2qDB0db13x']",
         "clean_text": "['nobelprize', 'remind', 'u', 'blm', 'disqualify', 'rt', 'nextlamayor', 'blacklivesmatter', 'moveme…",
         "word_count": 119,
         "num_links": 1,
         "has_links": 1,
         "polarity": 0,
         "subjectivity": 0,
         "clean_text_as_str": "nobelprize remind u blm disqualify rt nextlamayor blacklivesmatter movement nominate nobel peace pr…",
         "_deepnote_index_column": 2
        },
        {
         "Unnamed: 0": 3,
         "tweetId": 1352754599590035500,
         "username": "DonaldJTrumpJr",
         "userId": 39344374,
         "text": "Donald Trump is the first president in modern history did not start a new war.",
         "time": "2021-01-22 23:06:44",
         "link": "https://twitter.com/DonaldJTrumpJr/status/1352754599590035459",
         "links": "[]",
         "clean_text": "['donald', 'trump', 'president', 'modern', 'history', 'start', 'new', 'war']",
         "word_count": 77,
         "num_links": 0,
         "has_links": 0,
         "polarity": 0.16818181818181818,
         "subjectivity": 0.37727272727272726,
         "clean_text_as_str": "donald trump president modern history start new war",
         "_deepnote_index_column": 3
        },
        {
         "Unnamed: 0": 4,
         "tweetId": 1356441140959064000,
         "username": "FionaRamshackle",
         "userId": 866404250431230000,
         "text": "@dcexaminer Go get those Antifa bastards! And the random anarchists. And the Boogaloo Boys. And the…",
         "time": "2021-02-02 03:15:44",
         "link": "https://twitter.com/FionaRamshackle/status/1356441140959064064",
         "links": "[]",
         "clean_text": "['dcexaminer', 'antifa', 'bastard', 'random', 'anarchist', 'boogaloo', 'boy', 'blm', 'people', 'fas…",
         "word_count": 284,
         "num_links": 0,
         "has_links": 0,
         "polarity": -0.5,
         "subjectivity": 0.5,
         "clean_text_as_str": "dcexaminer antifa bastard random anarchist boogaloo boy blm people fascist thug need deal dare dres…",
         "_deepnote_index_column": 4
        },
        {
         "Unnamed: 0": 5,
         "tweetId": 1361810447431827500,
         "username": "DanCrenshawTX",
         "userId": 930552552302792800,
         "text": "This raises the obvious question: can we ever rely on renewables to power the grid during extreme w…",
         "time": "2021-02-16 22:51:26",
         "link": "https://twitter.com/DanCrenshawTX/status/1361810447431827459",
         "links": "[]",
         "clean_text": "['raise', 'obvious', 'question', 'rely', 'renewable', 'power', 'grid', 'extreme', 'weather', 'need'…",
         "word_count": 231,
         "num_links": 0,
         "has_links": 0,
         "polarity": 0.0037878787878787845,
         "subjectivity": 0.6666666666666666,
         "clean_text_as_str": "raise obvious question rely renewable power grid extreme weather need gas nuclear subsidize investm…",
         "_deepnote_index_column": 5
        }
       ]
      },
      "text/plain": "   Unnamed: 0              tweetId         username        userId  \\\n1           1  1355643797280083973          rjnln02  1.629330e+09   \n2           2  1355529775197130753     luscsmoothie  3.075792e+08   \n3           3  1352754599590035459   DonaldJTrumpJr  3.934437e+07   \n4           4  1356441140959064064  FionaRamshackle  8.664043e+17   \n5           5  1361810447431827459    DanCrenshawTX  9.305526e+17   \n\n                                                text                 time  \\\n1  @AF632 @alwsbord1 Black Lives Matter is a raci...  2021-01-30 22:27:22   \n2  @nobelprize To remind u what BLM did. Disquali...  2021-01-30 14:54:17   \n3  Donald Trump is the first president in modern ...  2021-01-22 23:06:44   \n4  @dcexaminer Go get those Antifa bastards! And ...  2021-02-02 03:15:44   \n5  This raises the obvious question: can we ever ...  2021-02-16 22:51:26   \n\n                                                link  \\\n1  https://twitter.com/rjnln02/status/13556437972...   \n2  https://twitter.com/luscsmoothie/status/135552...   \n3  https://twitter.com/DonaldJTrumpJr/status/1352...   \n4  https://twitter.com/FionaRamshackle/status/135...   \n5  https://twitter.com/DanCrenshawTX/status/13618...   \n\n                       links  \\\n1                         []   \n2  [https://t.co/2qDB0db13x]   \n3                         []   \n4                         []   \n5                         []   \n\n                                          clean_text  word_count  num_links  \\\n1  [af, alwsbord, black, life, matter, racist, do...         132          0   \n2  [nobelprize, remind, u, blm, disqualify, rt, n...         119          1   \n3  [donald, trump, president, modern, history, st...          77          0   \n4  [dcexaminer, antifa, bastard, random, anarchis...         284          0   \n5  [raise, obvious, question, rely, renewable, po...         231          0   \n\n   has_links  polarity  subjectivity  \\\n1          0 -0.083333      0.266667   \n2          1  0.000000      0.000000   \n3          0  0.168182      0.377273   \n4          0 -0.500000      0.500000   \n5          0  0.003788      0.666667   \n\n                                   clean_text_as_str  \n1  af alwsbord black life matter racist domestic ...  \n2  nobelprize remind u blm disqualify rt nextlama...  \n3  donald trump president modern history start ne...  \n4  dcexaminer antifa bastard random anarchist boo...  \n5  raise obvious question rely renewable power gr...  ",
      "text/html": "<div>\n<style scoped>\n    .dataframe tbody tr th:only-of-type {\n        vertical-align: middle;\n    }\n\n    .dataframe tbody tr th {\n        vertical-align: top;\n    }\n\n    .dataframe thead th {\n        text-align: right;\n    }\n</style>\n<table border=\"1\" class=\"dataframe\">\n  <thead>\n    <tr style=\"text-align: right;\">\n      <th></th>\n      <th>Unnamed: 0</th>\n      <th>tweetId</th>\n      <th>username</th>\n      <th>userId</th>\n      <th>text</th>\n      <th>time</th>\n      <th>link</th>\n      <th>links</th>\n      <th>clean_text</th>\n      <th>word_count</th>\n      <th>num_links</th>\n      <th>has_links</th>\n      <th>polarity</th>\n      <th>subjectivity</th>\n      <th>clean_text_as_str</th>\n    </tr>\n  </thead>\n  <tbody>\n    <tr>\n      <th>1</th>\n      <td>1</td>\n      <td>1355643797280083973</td>\n      <td>rjnln02</td>\n      <td>1.629330e+09</td>\n      <td>@AF632 @alwsbord1 Black Lives Matter is a raci...</td>\n      <td>2021-01-30 22:27:22</td>\n      <td>https://twitter.com/rjnln02/status/13556437972...</td>\n      <td>[]</td>\n      <td>[af, alwsbord, black, life, matter, racist, do...</td>\n      <td>132</td>\n      <td>0</td>\n      <td>0</td>\n      <td>-0.083333</td>\n      <td>0.266667</td>\n      <td>af alwsbord black life matter racist domestic ...</td>\n    </tr>\n    <tr>\n      <th>2</th>\n      <td>2</td>\n      <td>1355529775197130753</td>\n      <td>luscsmoothie</td>\n      <td>3.075792e+08</td>\n      <td>@nobelprize To remind u what BLM did. Disquali...</td>\n      <td>2021-01-30 14:54:17</td>\n      <td>https://twitter.com/luscsmoothie/status/135552...</td>\n      <td>[https://t.co/2qDB0db13x]</td>\n      <td>[nobelprize, remind, u, blm, disqualify, rt, n...</td>\n      <td>119</td>\n      <td>1</td>\n      <td>1</td>\n      <td>0.000000</td>\n      <td>0.000000</td>\n      <td>nobelprize remind u blm disqualify rt nextlama...</td>\n    </tr>\n    <tr>\n      <th>3</th>\n      <td>3</td>\n      <td>1352754599590035459</td>\n      <td>DonaldJTrumpJr</td>\n      <td>3.934437e+07</td>\n      <td>Donald Trump is the first president in modern ...</td>\n      <td>2021-01-22 23:06:44</td>\n      <td>https://twitter.com/DonaldJTrumpJr/status/1352...</td>\n      <td>[]</td>\n      <td>[donald, trump, president, modern, history, st...</td>\n      <td>77</td>\n      <td>0</td>\n      <td>0</td>\n      <td>0.168182</td>\n      <td>0.377273</td>\n      <td>donald trump president modern history start ne...</td>\n    </tr>\n    <tr>\n      <th>4</th>\n      <td>4</td>\n      <td>1356441140959064064</td>\n      <td>FionaRamshackle</td>\n      <td>8.664043e+17</td>\n      <td>@dcexaminer Go get those Antifa bastards! And ...</td>\n      <td>2021-02-02 03:15:44</td>\n      <td>https://twitter.com/FionaRamshackle/status/135...</td>\n      <td>[]</td>\n      <td>[dcexaminer, antifa, bastard, random, anarchis...</td>\n      <td>284</td>\n      <td>0</td>\n      <td>0</td>\n      <td>-0.500000</td>\n      <td>0.500000</td>\n      <td>dcexaminer antifa bastard random anarchist boo...</td>\n    </tr>\n    <tr>\n      <th>5</th>\n      <td>5</td>\n      <td>1361810447431827459</td>\n      <td>DanCrenshawTX</td>\n      <td>9.305526e+17</td>\n      <td>This raises the obvious question: can we ever ...</td>\n      <td>2021-02-16 22:51:26</td>\n      <td>https://twitter.com/DanCrenshawTX/status/13618...</td>\n      <td>[]</td>\n      <td>[raise, obvious, question, rely, renewable, po...</td>\n      <td>231</td>\n      <td>0</td>\n      <td>0</td>\n      <td>0.003788</td>\n      <td>0.666667</td>\n      <td>raise obvious question rely renewable power gr...</td>\n    </tr>\n  </tbody>\n</table>\n</div>"
     },
     "metadata": {}
    }
   ]
  },
  {
   "cell_type": "code",
   "metadata": {
    "cell_id": "87b48c76-82a1-4ecf-8b1a-d09b0d00ee08",
    "tags": [],
    "deepnote_to_be_reexecuted": false,
    "source_hash": "e8ce0f21",
    "execution_start": 1646094453176,
    "execution_millis": 0,
    "deepnote_cell_type": "code",
    "deepnote_cell_height": 437.3999938964844
   },
   "source": "def clean_more(arr):\n    arr = [str for str in arr if len(str) >= 3]\n    if 'san' in arr and 'francisco' in arr:\n        arr.append('san francisco')\n        arr.remove(\"san\")\n        arr.remove(\"francisco\")\n    if 'los' in arr and 'angeles' in arr:\n        arr.append('los angeles')\n        arr.remove(\"los\")\n        arr.remove(\"angeles\")\n    \n    if 'not' in arr:\n        arr.remove('not')\n    if 'amp' in arr:\n        arr.remove('amp')\n    if 'rightwe' in arr:\n        arr.remove('rightwe')\n    return arr",
   "execution_count": null,
   "outputs": [
    {
     "name": "stderr",
     "text": "/shared-libs/python3.8/py-core/lib/python3.8/site-packages/ipykernel/ipkernel.py:283: DeprecationWarning: `should_run_async` will not call `transform_cell` automatically in the future. Please pass the result to `transformed_cell` argument and any exception that happen during thetransform in `preprocessing_exc_tuple` in IPython 7.17 and above.\n  and should_run_async(code)\n",
     "output_type": "stream"
    }
   ]
  },
  {
   "cell_type": "code",
   "metadata": {
    "cell_id": "409a48a0-32a9-490d-93f5-14108113a214",
    "tags": [],
    "deepnote_to_be_reexecuted": false,
    "source_hash": "ecab4cf4",
    "execution_start": 1646094457307,
    "execution_millis": 43,
    "deepnote_cell_type": "code",
    "deepnote_cell_height": 131.39999389648438
   },
   "source": "tweets['clean_text'] = tweets['clean_text'].apply(clean_more)",
   "execution_count": null,
   "outputs": [
    {
     "name": "stderr",
     "text": "/shared-libs/python3.8/py-core/lib/python3.8/site-packages/ipykernel/ipkernel.py:283: DeprecationWarning: `should_run_async` will not call `transform_cell` automatically in the future. Please pass the result to `transformed_cell` argument and any exception that happen during thetransform in `preprocessing_exc_tuple` in IPython 7.17 and above.\n  and should_run_async(code)\n",
     "output_type": "stream"
    }
   ]
  },
  {
   "cell_type": "code",
   "metadata": {
    "cell_id": "338eb6cf-bd35-44c1-b330-185d4d9de35f",
    "tags": [],
    "deepnote_to_be_reexecuted": false,
    "source_hash": "b4a65e66",
    "execution_start": 1646094463143,
    "execution_millis": 10,
    "deepnote_cell_type": "code",
    "deepnote_cell_height": 131.39999389648438
   },
   "source": "tweets = tweets[tweets['username'] != 'birdwatch']",
   "execution_count": null,
   "outputs": [
    {
     "name": "stderr",
     "text": "/shared-libs/python3.8/py-core/lib/python3.8/site-packages/ipykernel/ipkernel.py:283: DeprecationWarning: `should_run_async` will not call `transform_cell` automatically in the future. Please pass the result to `transformed_cell` argument and any exception that happen during thetransform in `preprocessing_exc_tuple` in IPython 7.17 and above.\n  and should_run_async(code)\n",
     "output_type": "stream"
    }
   ]
  },
  {
   "cell_type": "code",
   "metadata": {
    "cell_id": "50cb3661-a931-4ece-8ef7-4cb028c17f8c",
    "tags": [],
    "deepnote_to_be_reexecuted": false,
    "source_hash": "850e50b5",
    "execution_start": 1646094463153,
    "execution_millis": 7,
    "deepnote_cell_type": "code",
    "deepnote_cell_height": 183.39999389648438,
    "deepnote_output_heights": [
     null,
     21
    ]
   },
   "source": "len(tweets)",
   "execution_count": null,
   "outputs": [
    {
     "name": "stderr",
     "text": "/shared-libs/python3.8/py-core/lib/python3.8/site-packages/ipykernel/ipkernel.py:283: DeprecationWarning: `should_run_async` will not call `transform_cell` automatically in the future. Please pass the result to `transformed_cell` argument and any exception that happen during thetransform in `preprocessing_exc_tuple` in IPython 7.17 and above.\n  and should_run_async(code)\n",
     "output_type": "stream"
    },
    {
     "output_type": "execute_result",
     "execution_count": 88,
     "data": {
      "text/plain": "10489"
     },
     "metadata": {}
    }
   ]
  },
  {
   "cell_type": "code",
   "metadata": {
    "tags": [],
    "cell_id": "00006-e0d8b1f5-b0a5-4502-b22d-920e2d6d3fdc",
    "deepnote_to_be_reexecuted": false,
    "source_hash": "c008a570",
    "execution_start": 1646094463162,
    "execution_millis": 507,
    "deepnote_cell_type": "code",
    "deepnote_cell_height": 313.1000061035156
   },
   "source": "import gensim.corpora as corpora\n\n# Create Dictionary\ndictionary = corpora.Dictionary(tweets['clean_text'])\n\n# Term Document Frequency\ncorpus = [dictionary.doc2bow(text) for text in tweets['clean_text']]\n\n# View\nprint(corpus[:1][0][:30])",
   "execution_count": null,
   "outputs": [
    {
     "name": "stderr",
     "text": "/shared-libs/python3.8/py-core/lib/python3.8/site-packages/ipykernel/ipkernel.py:283: DeprecationWarning: `should_run_async` will not call `transform_cell` automatically in the future. Please pass the result to `transformed_cell` argument and any exception that happen during thetransform in `preprocessing_exc_tuple` in IPython 7.17 and above.\n  and should_run_async(code)\n[(0, 1), (1, 1), (2, 1), (3, 1), (4, 1), (5, 1), (6, 1), (7, 1), (8, 1), (9, 1), (10, 1)]\n",
     "output_type": "stream"
    }
   ]
  },
  {
   "cell_type": "code",
   "metadata": {
    "tags": [],
    "cell_id": "00005-171b2263-38e5-41b0-ad1e-c7a98b35dd2d",
    "deepnote_to_be_reexecuted": false,
    "source_hash": "ed21b5e4",
    "execution_start": 1646094483985,
    "execution_millis": 11155,
    "deepnote_cell_type": "code",
    "deepnote_cell_height": 881
   },
   "source": "from pprint import pprint\nnum_topics = 10\n\n# Build LDA model\nlda_model = gensim.models.LdaMulticore(corpus=corpus,\n                                       id2word=dictionary,\n                                       num_topics=num_topics)\n\n# Print the Keyword in the 10 topics\npprint(lda_model.print_topics())\ndoc_lda = lda_model[corpus]",
   "execution_count": null,
   "outputs": [
    {
     "name": "stderr",
     "text": "/shared-libs/python3.8/py-core/lib/python3.8/site-packages/ipykernel/ipkernel.py:283: DeprecationWarning: `should_run_async` will not call `transform_cell` automatically in the future. Please pass the result to `transformed_cell` argument and any exception that happen during thetransform in `preprocessing_exc_tuple` in IPython 7.17 and above.\n  and should_run_async(code)\n[(0,\n  '0.016*\"people\" + 0.015*\"covid\" + 0.011*\"trump\" + 0.007*\"biden\" + '\n  '0.007*\"vaccine\" + 0.007*\"death\" + 0.007*\"work\" + 0.007*\"know\" + 0.006*\"say\" '\n  '+ 0.006*\"america\"'),\n (1,\n  '0.012*\"people\" + 0.011*\"covid\" + 0.010*\"biden\" + 0.009*\"vaccine\" + '\n  '0.007*\"president\" + 0.007*\"trump\" + 0.006*\"risk\" + 0.005*\"earthquake\" + '\n  '0.005*\"joe\" + 0.005*\"need\"'),\n (2,\n  '0.022*\"mask\" + 0.016*\"vaccine\" + 0.012*\"covid\" + 0.012*\"wear\" + '\n  '0.011*\"people\" + 0.009*\"fauci\" + 0.009*\"take\" + 0.006*\"shot\" + '\n  '0.006*\"kneel\" + 0.006*\"biden\"'),\n (3,\n  '0.019*\"trump\" + 0.011*\"afghanistan\" + 0.010*\"election\" + 0.007*\"win\" + '\n  '0.007*\"biden\" + 0.007*\"president\" + 0.005*\"live\" + 0.005*\"theory\" + '\n  '0.004*\"cnn\" + 0.004*\"white\"'),\n (4,\n  '0.031*\"earthquake\" + 0.030*\"likely\" + 0.016*\"san francisco\" + '\n  '0.013*\"california\" + 0.012*\"bay\" + 0.011*\"warn\" + 0.011*\"hit\" + '\n  '0.009*\"area\" + 0.006*\"unvaccinated\" + 0.006*\"los angeles\"'),\n (5,\n  '0.011*\"ivermectin\" + 0.011*\"trump\" + 0.011*\"biden\" + 0.007*\"government\" + '\n  '0.006*\"leave\" + 0.006*\"people\" + 0.006*\"today\" + 0.005*\"year\" + '\n  '0.005*\"know\" + 0.005*\"vote\"'),\n (6,\n  '0.010*\"people\" + 0.006*\"want\" + 0.006*\"know\" + 0.006*\"say\" + 0.005*\"trump\" '\n  '+ 0.005*\"right\" + 0.005*\"biden\" + 0.005*\"stop\" + 0.005*\"vote\" + '\n  '0.005*\"like\"'),\n (7,\n  '0.012*\"police\" + 0.011*\"stop\" + 0.009*\"biden\" + 0.007*\"people\" + '\n  '0.007*\"covid\" + 0.007*\"capitol\" + 0.007*\"kill\" + 0.006*\"get\" + '\n  '0.006*\"chicago\" + 0.006*\"end\"'),\n (8,\n  '0.007*\"people\" + 0.007*\"french\" + 0.006*\"black\" + 0.005*\"party\" + '\n  '0.005*\"trump\" + 0.005*\"member\" + 0.005*\"biden\" + 0.004*\"think\" + '\n  '0.004*\"say\" + 0.004*\"military\"'),\n (9,\n  '0.029*\"vaccine\" + 0.022*\"covid\" + 0.008*\"vaccinate\" + 0.007*\"people\" + '\n  '0.007*\"year\" + 0.007*\"need\" + 0.007*\"fda\" + 0.006*\"mandate\" + 0.006*\"good\" '\n  '+ 0.006*\"jab\"')]\n",
     "output_type": "stream"
    }
   ]
  },
  {
   "cell_type": "code",
   "metadata": {
    "tags": [],
    "cell_id": "00008-a4b15f56-b2d7-4a40-ae74-5d115e58bc12",
    "deepnote_to_be_reexecuted": false,
    "source_hash": "6880acf",
    "execution_start": 1646094495145,
    "execution_millis": 10,
    "deepnote_cell_type": "code",
    "deepnote_cell_height": 131.39999389648438
   },
   "source": "# !pip install pyLDAvis.gensim",
   "execution_count": null,
   "outputs": [
    {
     "name": "stderr",
     "text": "/shared-libs/python3.8/py-core/lib/python3.8/site-packages/ipykernel/ipkernel.py:283: DeprecationWarning: `should_run_async` will not call `transform_cell` automatically in the future. Please pass the result to `transformed_cell` argument and any exception that happen during thetransform in `preprocessing_exc_tuple` in IPython 7.17 and above.\n  and should_run_async(code)\n",
     "output_type": "stream"
    }
   ]
  },
  {
   "cell_type": "code",
   "metadata": {
    "tags": [],
    "cell_id": "00009-2d54e3d3-8e48-462e-975b-4149e1e8f360",
    "deepnote_to_be_reexecuted": false,
    "source_hash": "10707556",
    "execution_start": 1646094495152,
    "execution_millis": 9,
    "deepnote_cell_type": "code",
    "deepnote_cell_height": 131.39999389648438
   },
   "source": "import pyLDAvis.gensim_models as gensimvis",
   "execution_count": null,
   "outputs": [
    {
     "name": "stderr",
     "text": "/shared-libs/python3.8/py-core/lib/python3.8/site-packages/ipykernel/ipkernel.py:283: DeprecationWarning: `should_run_async` will not call `transform_cell` automatically in the future. Please pass the result to `transformed_cell` argument and any exception that happen during thetransform in `preprocessing_exc_tuple` in IPython 7.17 and above.\n  and should_run_async(code)\n",
     "output_type": "stream"
    }
   ]
  },
  {
   "cell_type": "code",
   "metadata": {
    "tags": [],
    "cell_id": "00007-5ff7c447-9e1b-491b-b9f5-3e58c3cfd3c6",
    "deepnote_to_be_reexecuted": false,
    "source_hash": "9efe9834",
    "execution_start": 1646094495161,
    "execution_millis": 4438,
    "deepnote_cell_type": "code",
    "deepnote_cell_height": 1115.4000244140625,
    "deepnote_output_heights": [
     null,
     611
    ]
   },
   "source": "\n# import pyLDAvis.gensim\n\n# Visualize the topics\npyLDAvis.enable_notebook()\n\nfilepath = 'ldavis_prepared_'+str(num_topics)\n\nif True:\n    LDAvis_prepared = gensimvis.prepare(lda_model, corpus, dictionary)\n    with open(filepath, 'wb') as f:\n        pickle.dump(LDAvis_prepared, f)\n\n# load the pre-prepared pyLDAvis data from disk\nwith open(filepath, 'rb') as f:\n    LDAvis_prepared = pickle.load(f)\n\npyLDAvis.save_html(LDAvis_prepared, filepath +'.html')\n\nLDAvis_prepared",
   "execution_count": null,
   "outputs": [
    {
     "name": "stderr",
     "text": "/shared-libs/python3.8/py-core/lib/python3.8/site-packages/ipykernel/ipkernel.py:283: DeprecationWarning: `should_run_async` will not call `transform_cell` automatically in the future. Please pass the result to `transformed_cell` argument and any exception that happen during thetransform in `preprocessing_exc_tuple` in IPython 7.17 and above.\n  and should_run_async(code)\n",
     "output_type": "stream"
    },
    {
     "output_type": "execute_result",
     "execution_count": 100,
     "data": {
      "text/plain": "PreparedData(topic_coordinates=              x         y  topics  cluster       Freq\ntopic                                                \n9      0.118803 -0.034703       1        1  14.147413\n0      0.045397 -0.008532       2        1  12.922299\n1      0.026800 -0.030234       3        1  12.632340\n5      0.007299  0.034528       4        1  11.428991\n6     -0.009414  0.042841       5        1   9.548437\n7     -0.010077  0.061691       6        1   9.253716\n3     -0.058686  0.091064       7        1   8.713097\n8     -0.077749  0.037677       8        1   8.407096\n2      0.084219 -0.048547       9        1   7.252871\n4     -0.126592 -0.145786      10        1   5.693741, topic_info=               Term         Freq        Total Category  logprob  loglift\n102      earthquake   393.000000   393.000000  Default  30.0000  30.0000\n104          likely   415.000000   415.000000  Default  29.0000  29.0000\n205         vaccine  1108.000000  1108.000000  Default  28.0000  28.0000\n726            mask   448.000000   448.000000  Default  27.0000  27.0000\n3680  san francisco   159.000000   159.000000  Default  26.0000  26.0000\n...             ...          ...          ...      ...      ...      ...\n200            want    30.155452   423.274195  Topic10  -5.4893   0.2241\n2364       positive    20.035031    73.188781  Topic10  -5.8982   1.5702\n44           people    31.109455  1148.185815  Topic10  -5.4582  -0.7426\n164             day    23.917322   339.200942  Topic10  -5.7211   0.2138\n168             lie    20.845616   247.836538  Topic10  -5.8585   0.3902\n\n[789 rows x 6 columns], token_table=      Topic      Freq    Term\nterm                         \n5094      1  0.036715  abbott\n5094      2  0.036715  abbott\n5094      3  0.036715  abbott\n5094      6  0.110145  abbott\n5094      7  0.734297  abbott\n...     ...       ...     ...\n407       6  0.010184     you\n407       7  0.397185     you\n407       8  0.040737     you\n407       9  0.071290     you\n407      10  0.010184     you\n\n[2604 rows x 3 columns], R=30, lambda_step=0.01, plot_opts={'xlab': 'PC1', 'ylab': 'PC2'}, topic_order=[10, 1, 2, 6, 7, 8, 4, 9, 3, 5])",
      "text/html": "\n<link rel=\"stylesheet\" type=\"text/css\" href=\"https://cdn.jsdelivr.net/gh/bmabey/pyLDAvis@3.3.1/pyLDAvis/js/ldavis.v1.0.0.css\">\n\n\n<div id=\"ldavis_el4001407181747510888346870897\"></div>\n<script type=\"text/javascript\">\n\nvar ldavis_el4001407181747510888346870897_data = {\"mdsDat\": {\"x\": [0.11880349779926358, 0.04539734320386238, 0.026799772188596267, 0.007298992472845573, -0.009413767627732265, -0.010077401619469612, -0.05868620590955447, -0.07774913742701493, 0.08421897719622057, -0.12659207027701708], \"y\": [-0.034702520660407035, -0.008531587842237313, -0.030233552049204023, 0.034528497361038586, 0.042840826898392595, 0.06169073157631476, 0.09106388218687966, 0.0376768293064423, -0.04854678405838518, -0.14578632271883435], \"topics\": [1, 2, 3, 4, 5, 6, 7, 8, 9, 10], \"cluster\": [1, 1, 1, 1, 1, 1, 1, 1, 1, 1], \"Freq\": [14.147412906312832, 12.922299049233018, 12.632340059808467, 11.428991245302333, 9.54843664361228, 9.253715603128068, 8.713096513267466, 8.407095753722087, 7.252871066512423, 5.693741159101025]}, \"tinfo\": {\"Term\": [\"earthquake\", \"likely\", \"vaccine\", \"mask\", \"san francisco\", \"trump\", \"bay\", \"wear\", \"california\", \"afghanistan\", \"french\", \"hit\", \"police\", \"warn\", \"ivermectin\", \"fauci\", \"covid\", \"area\", \"stop\", \"jab\", \"mandate\", \"fda\", \"unvaccinated\", \"election\", \"los angeles\", \"chicago\", \"kneel\", \"capitol\", \"antisemitism\", \"warning\", \"scottgottliebmd\", \"defendant\", \"digital\", \"discharge\", \"deathsantis\", \"louisville\", \"belief\", \"eugenicist\", \"expectation\", \"showcase\", \"yearly\", \"jerrys\", \"emoji\", \"canadas\", \"cigarette\", \"boyland\", \"loose\", \"detect\", \"transmissible\", \"steam\", \"physicist\", \"smoke\", \"wellbeing\", \"cvid\", \"disapprove\", \"champion\", \"cuba\", \"negotiate\", \"participant\", \"effectiveness\", \"gaslight\", \"bed\", \"cnbc\", \"jab\", \"icu\", \"contact\", \"phone\", \"vaer\", \"vaccine\", \"publish\", \"fda\", \"prevent\", \"suspend\", \"imagine\", \"vaccinate\", \"sense\", \"effect\", \"vaxxed\", \"dose\", \"immune\", \"pfizer\", \"immunity\", \"survive\", \"covid\", \"good\", \"mandate\", \"hydroxychloroquine\", \"twitter\", \"natural\", \"test\", \"year\", \"datum\", \"ago\", \"need\", \"hospital\", \"coronavirus\", \"treatment\", \"child\", \"time\", \"man\", \"work\", \"mask\", \"take\", \"think\", \"people\", \"case\", \"get\", \"variant\", \"month\", \"know\", \"die\", \"like\", \"right\", \"come\", \"antisemitism\", \"demonize\", \"hysteria\", \"trucker\", \"instruction\", \"nuremberg\", \"vehicle\", \"slap\", \"businessman\", \"incidence\", \"likeminded\", \"unite\", \"succumb\", \"strategic\", \"programme\", \"sting\", \"statistic\", \"heel\", \"bidenbordercrisis\", \"dirtbag\", \"cheater\", \"twisted\", \"muzzle\", \"unconscionable\", \"chuckcallesto\", \"fighting\", \"install\", \"fabricate\", \"childhood\", \"meaningful\", \"dismiss\", \"flow\", \"dewormer\", \"nov\", \"bennett\", \"match\", \"switch\", \"cure\", \"servant\", \"rate\", \"worried\", \"conclude\", \"apartheid\", \"canada\", \"hoax\", \"salton\", \"death\", \"sea\", \"recommend\", \"america\", \"people\", \"graph\", \"population\", \"covid\", \"long\", \"trump\", \"force\", \"day\", \"partner\", \"work\", \"risk\", \"study\", \"medium\", \"say\", \"president\", \"ivermectin\", \"know\", \"come\", \"new\", \"report\", \"biden\", \"vaccinated\", \"american\", \"vaccine\", \"million\", \"die\", \"like\", \"joe\", \"think\", \"election\", \"reef\", \"jonathan\", \"prophylaxis\", \"cuban\", \"percentage\", \"ministry\", \"overreach\", \"coach\", \"creation\", \"anon\", \"wine\", \"induce\", \"koreas\", \"correction\", \"fallen\", \"vaccineinduced\", \"vccine\", \"gfy\", \"justintrudeau\", \"bankrupt\", \"fearmongere\", \"hypertension\", \"diabete\", \"infographic\", \"daysweek\", \"genome\", \"complicity\", \"pierre\", \"inflate\", \"dedicate\", \"british\", \"inflation\", \"success\", \"maricopa\", \"troop\", \"bombshell\", \"determine\", \"truck\", \"israels\", \"propaganda\", \"randpaul\", \"anonymous\", \"polio\", \"near\", \"risk\", \"pregnant\", \"journalism\", \"county\", \"poison\", \"taliban\", \"ballot\", \"fund\", \"president\", \"arizona\", \"change\", \"high\", \"people\", \"biden\", \"americans\", \"list\", \"country\", \"approve\", \"covid\", \"joe\", \"call\", \"vaccine\", \"time\", \"earthquake\", \"trump\", \"today\", \"america\", \"need\", \"fauci\", \"try\", \"vote\", \"want\", \"know\", \"likely\", \"mask\", \"say\", \"ivermectin\", \"take\", \"fda\", \"obamas\", \"gala\", \"brief\", \"predictable\", \"debt\", \"pharmacist\", \"farmer\", \"prescription\", \"impeachable\", \"jenna\", \"disclose\", \"bday\", \"gore\", \"para\", \"stroll\", \"heartbreake\", \"lsferguson\", \"wipe\", \"cancellation\", \"inperson\", \"breakthrough\", \"demonstration\", \"klan\", \"dementia\", \"uae\", \"babbit\", \"bone\", \"bangladesh\", \"carb\", \"klux\", \"bush\", \"afford\", \"daughter\", \"kamala\", \"reinstate\", \"student\", \"taxis\", \"sht\", \"newsom\", \"patriot\", \"ivermectin\", \"spreader\", \"government\", \"organization\", \"active\", \"movie\", \"duty\", \"search\", \"impossible\", \"pay\", \"old\", \"agency\", \"tax\", \"delta\", \"leave\", \"trump\", \"biden\", \"today\", \"create\", \"money\", \"harris\", \"win\", \"vote\", \"day\", \"year\", \"officer\", \"border\", \"let\", \"work\", \"know\", \"want\", \"school\", \"state\", \"people\", \"election\", \"right\", \"tell\", \"police\", \"joe\", \"get\", \"covid\", \"vaccine\", \"faucis\", \"thefirstontv\", \"adams\", \"organ\", \"vaxx\", \"niaid\", \"hannity\", \"discord\", \"jealous\", \"algorithm\", \"toss\", \"flulike\", \"demographic\", \"emily_burns_v\", \"interpretation\", \"bishop\", \"realpnavarro\", \"meltdown\", \"berenson\", \"ancestor\", \"handgun\", \"dish\", \"lazy\", \"episode\", \"cap\", \"preorder\", \"quiet\", \"factcheck\", \"indiana\", \"ambassador\", \"rifle\", \"unvaccinate\", \"flee\", \"valid\", \"nurse\", \"requirement\", \"shocking\", \"game\", \"holiday\", \"healthcare\", \"mandatory\", \"dog\", \"true\", \"video\", \"tucker\", \"fox\", \"count\", \"way\", \"mean\", \"lie\", \"people\", \"want\", \"vax\", \"gun\", \"right\", \"stop\", \"know\", \"say\", \"vote\", \"like\", \"look\", \"leave\", \"state\", \"election\", \"trump\", \"biden\", \"new\", \"ask\", \"virus\", \"fact\", \"vaccine\", \"covid\", \"ivermectin\", \"think\", \"work\", \"win\", \"secret\", \"yellow\", \"hillary\", \"decrease\", \"enormous\", \"crop\", \"australian\", \"breakdown\", \"skull\", \"bird\", \"bonus\", \"constitutionally\", \"web\", \"conceive\", \"drsimonegold\", \"indefinitely\", \"julie_kelly\", \"cada\", \"ugh\", \"pen\", \"bodycam\", \"consideration\", \"handler\", \"dnc\", \"unsafe\", \"bully\", \"laptop\", \"annual\", \"quick\", \"preserve\", \"tyranny\", \"dallas\", \"raid\", \"chicago\", \"whistleblower\", \"trafficking\", \"police\", \"israeli\", \"shoot\", \"ccp\", \"capitol\", \"stop\", \"fbi\", \"end\", \"shove\", \"minister\", \"officer\", \"kill\", \"govt\", \"get\", \"yearold\", \"break\", \"meeting\", \"biden\", \"child\", \"like\", \"order\", \"people\", \"covid\", \"night\", \"come\", \"election\", \"say\", \"city\", \"need\", \"joe\", \"report\", \"white\", \"want\", \"right\", \"vaccine\", \"take\", \"cnnopinion\", \"outstanding\", \"swarm\", \"qualified\", \"unforgivable\", \"dammit\", \"decent\", \"pave\", \"metro\", \"coworker\", \"domino\", \"welp\", \"brick\", \"facemask\", \"covidcritical\", \"mcallen\", \"breanna\", \"immediate\", \"beto\", \"livestock\", \"wisconsin\", \"harmless\", \"hhs\", \"software\", \"cow\", \"gen\", \"muy\", \"inventor\", \"ransom\", \"wwii\", \"prop\", \"hype\", \"winner\", \"concerned\", \"afghanistan\", \"theory\", \"abbott\", \"parade\", \"quit\", \"critical\", \"antifa\", \"trump\", \"birth\", \"election\", \"rocket\", \"cnn\", \"live\", \"race\", \"win\", \"govrondesantis\", \"you\", \"dollar\", \"donald\", \"sue\", \"president\", \"audit\", \"overturn\", \"white\", \"fbi\", \"biden\", \"watch\", \"lose\", \"state\", \"way\", \"try\", \"january\", \"question\", \"fall\", \"break\", \"vote\", \"people\", \"americans\", \"covid\", \"leave\", \"new\", \"quake\", \"nose\", \"dehumanize\", \"versus\", \"elector\", \"consume\", \"degenerate\", \"ruling\", \"walgreen\", \"barack\", \"niet\", \"het\", \"selling\", \"narrowly\", \"persona\", \"obsolete\", \"minaj\", \"unaware\", \"nicki\", \"paste\", \"fascinating\", \"lori\", \"transport\", \"explosion\", \"lightfoot\", \"castro\", \"moscow\", \"doc\", \"ridgecrest\", \"cubas\", \"walker\", \"perpetuate\", \"journey\", \"party\", \"french\", \"loss\", \"obama\", \"bus\", \"black\", \"robert\", \"member\", \"thug\", \"invite\", \"barr\", \"bring\", \"pass\", \"criminal\", \"mother\", \"power\", \"job\", \"congress\", \"military\", \"democrat\", \"bad\", \"life\", \"people\", \"white\", \"think\", \"come\", \"voter\", \"american\", \"likely\", \"say\", \"trump\", \"biden\", \"new\", \"talk\", \"bill\", \"year\", \"want\", \"like\", \"woman\", \"police\", \"covid\", \"kneel\", \"soccer\", \"diabetes\", \"beauty\", \"tony\", \"coordinate\", \"rick\", \"aunt\", \"needle\", \"sayin\", \"tokyo\", \"initial\", \"estos\", \"trudeaus\", \"explode\", \"megan\", \"predator\", \"topic\", \"ventilator\", \"embassy\", \"rapinoe\", \"kslcom\", \"mat\", \"germany\", \"mantener\", \"ver\", \"crawl\", \"pol\", \"stunning\", \"salary\", \"statewide\", \"sudden\", \"booster\", \"wear\", \"por\", \"mask\", \"advice\", \"nih\", \"team\", \"maskless\", \"function\", \"fauci\", \"olympic\", \"shot\", \"las\", \"vaccine\", \"take\", \"analysis\", \"push\", \"vaccinated\", \"covid\", \"doctor\", \"people\", \"mandate\", \"die\", \"china\", \"medium\", \"biden\", \"experimental\", \"american\", \"vaccinate\", \"spread\", \"get\", \"know\", \"say\", \"believe\", \"man\", \"work\", \"cdc\", \"report\", \"time\", \"monthold\", \"haitian\", \"foreshock\", \"gear\", \"opener\", \"legalize\", \"tara\", \"substance\", \"martial\", \"cohen\", \"rochelle\", \"stair\", \"discount\", \"amigo\", \"eureka\", \"workplace\", \"davidfrum\", \"basement\", \"cooper\", \"shelter\", \"harvard\", \"mortality\", \"japan\", \"management\", \"execution\", \"recovery\", \"donation\", \"uscp\", \"worsen\", \"kit\", \"san francisco\", \"bay\", \"torture\", \"forecast\", \"earthquake\", \"warning\", \"likely\", \"ashli\", \"hit\", \"california\", \"area\", \"warn\", \"unvaccinated\", \"strong\", \"french\", \"los angeles\", \"catholic\", \"file\", \"babbitt\", \"possible\", \"hour\", \"live\", \"mother\", \"leave\", \"child\", \"covid\", \"biden\", \"want\", \"positive\", \"people\", \"day\", \"lie\"], \"Freq\": [393.0, 415.0, 1108.0, 448.0, 159.0, 844.0, 123.0, 161.0, 187.0, 208.0, 127.0, 150.0, 308.0, 209.0, 407.0, 200.0, 1234.0, 142.0, 340.0, 131.0, 263.0, 212.0, 102.0, 428.0, 140.0, 101.0, 53.0, 180.0, 68.0, 68.0, 17.925088181223074, 17.85891060857935, 13.35293653519266, 12.221920470926875, 17.87153878792741, 10.49777909534527, 9.952383233799488, 9.257440586820346, 9.251108547393063, 10.19868974794991, 9.241662753710143, 9.240127521873012, 14.07484710263407, 9.21817919711481, 9.27343909630879, 9.248042307190158, 9.18396696741282, 9.025409405845991, 9.25635832228592, 8.82953483519816, 8.735537784680442, 14.220582205170563, 9.112081373234348, 8.999942929450018, 8.736134350009175, 6.692279360543445, 13.780366618353616, 6.484413298854151, 9.004779860018033, 6.62020265428621, 8.999499464957863, 28.08288100018566, 17.92537960074649, 102.53704052284662, 42.884410137023174, 28.203306950634115, 38.31477462405183, 36.03180252454779, 519.8634736558624, 22.815958813633777, 122.01054621876669, 52.864016811301845, 41.071962310639265, 45.782919398582315, 137.9300345581795, 49.8733007231451, 60.63771706787046, 26.58015088685912, 26.14109358706097, 35.13292956324724, 64.40665843463323, 55.90633104898876, 23.179185797008945, 395.0412105118585, 113.48794424520193, 114.41992922191679, 65.74800337232153, 82.35489546234683, 46.787041266021205, 71.26001360153825, 125.27423370746648, 58.42965667976995, 53.49293815407735, 124.2790740462405, 54.70483791824102, 46.073004305051235, 62.60463835902201, 91.68499981794261, 97.90745705747851, 66.37303067450877, 100.34210246024257, 92.7111935466768, 88.34705525589914, 85.4769530626661, 127.01624670208197, 72.03578081981631, 75.17200394305644, 58.55501775649539, 64.96262775671342, 78.83808688846716, 65.60817268273775, 68.57764470998454, 66.68981214340548, 65.25250148961464, 67.42176875188336, 17.8414732854788, 17.244510121890904, 16.95313352222258, 28.10347470107, 12.171854751906304, 11.791313375197127, 10.545184187631012, 9.752525879062286, 9.615791380511448, 8.931849810790643, 8.925190396975331, 8.931423531151777, 8.862661346328586, 8.431325182244338, 8.35527091518254, 11.504425249373329, 8.927795332053558, 7.869166015189404, 8.543972952332116, 7.550977680000066, 8.308272138347231, 8.738552247670036, 8.753355338568115, 8.620930893650966, 8.719859596175702, 9.345999768620167, 9.29277075090913, 6.564901736331007, 6.095917461109693, 25.581941909290414, 11.50368456438996, 29.975013984866504, 17.350946939774396, 12.825597977617686, 14.726112703654199, 26.283098618273105, 30.80774065062147, 15.784832195057344, 74.0394573131326, 22.065570812622504, 17.009479589238627, 12.27037935676433, 17.10980768487647, 41.853022222726345, 45.273814094665404, 117.40562180219514, 45.24004734643923, 26.133389594876878, 98.90588016868469, 268.090374216511, 31.533461482685404, 24.59273975419741, 250.08998542475678, 75.16074636139253, 181.4019308236505, 86.06200906817654, 98.73863195634635, 31.70901732581376, 108.72097464017018, 78.40613477070761, 47.151874878276416, 70.1834512897159, 105.39674185746922, 92.67518408030837, 92.55311765195552, 107.77856101539378, 76.47212140897797, 85.86168464204965, 67.92440838325328, 121.88011521766174, 61.56309712734105, 71.44763853148592, 119.53657249934648, 61.00261848578549, 60.4251889597668, 70.78815885488771, 62.365814478066724, 64.27663899898893, 62.40408705994172, 34.6933976972014, 33.332159250038984, 28.764364966641132, 12.935644841161613, 18.59339171968907, 10.883610662976235, 10.783412510493871, 9.646945338038549, 9.865285821819183, 16.96939875418297, 9.131313000624834, 9.662112048731109, 8.647062470391607, 8.88864091557898, 8.614065658833898, 8.854090381187843, 8.57284203572007, 8.541121765859241, 8.848212066948513, 8.883064295093714, 9.335224037824402, 8.422965292666248, 8.406127952810563, 8.421055194085834, 8.403822823970922, 8.348415823244187, 8.281189969702014, 8.52171625792209, 8.878694449624701, 8.04095217613426, 14.872663932368184, 24.114434558699504, 25.85227731905934, 37.66667260927919, 25.641945861656108, 17.131489380311454, 13.84068744883976, 22.485510785900427, 10.277588048466162, 35.58509507022715, 16.021739075364415, 16.47827337752902, 16.22429626184262, 52.8237479575679, 98.70986702419405, 26.456713212981633, 11.36660350737221, 52.20961260945246, 19.578331318580055, 57.25395857559704, 52.58491209716356, 53.051609707668185, 110.15539644600821, 37.53064643791582, 52.414149661191715, 60.22927369168668, 195.42811781562585, 160.84782887799477, 68.98819760653414, 31.55823014552123, 68.8926436522784, 42.013031219538306, 173.70218516550293, 75.84492731732378, 58.150494362203574, 140.7969904585584, 74.2182398494767, 78.31730008953001, 109.35046996782303, 67.02891540186366, 64.28144318001466, 74.62695946279418, 53.64378929283165, 55.5452104066447, 63.91523221664473, 67.52116647333746, 72.44962055503046, 65.00706945494426, 63.163912947384716, 57.50124563228708, 56.6436396534705, 56.07298214648754, 53.2176883481082, 20.862916034737243, 18.433490479444803, 12.252071141666436, 11.253058174334303, 25.910752377563757, 10.481701281591665, 14.135410085042565, 29.582982856300113, 9.572959516961001, 9.545481519003664, 9.562602596019858, 9.299736231566298, 9.602715832809446, 13.662353328192793, 9.07227037221069, 9.027233716900902, 8.966883455788416, 9.544422113979046, 10.778459224018745, 9.084611331869436, 12.169223450985289, 9.032704750578755, 7.96090929328245, 13.291688664060443, 9.388042161178623, 7.858196478915065, 9.097110946386938, 8.96377177339727, 9.558758201135841, 7.0875356203915, 15.052224481841485, 21.080430140129717, 35.455044838109835, 30.484835076338317, 33.07799244587013, 52.962093300375, 31.921285931745697, 17.30356592905864, 26.30201573085833, 27.719144812821565, 162.91501125942546, 18.105561122187122, 100.33023464458138, 21.948502522982025, 14.384587776521041, 17.34676440576291, 25.317391735635912, 12.404824210276301, 13.006503143508548, 62.90386053723439, 71.76615035089432, 30.508616245489947, 28.817495340348447, 59.67748944883418, 89.0528630396338, 159.36961766341898, 154.79794208298537, 83.12617943128916, 37.091107389363266, 40.83146562922375, 25.984385291690202, 69.6048344472425, 74.50057537143819, 73.11217817260636, 75.703117786048, 53.61097120110497, 48.76530038556065, 58.73018687667706, 72.07515542483786, 75.00474980518254, 64.87676953119424, 48.78463580673458, 55.35589486899425, 85.58751337882062, 61.74738603451631, 57.50170012774459, 50.131816861613515, 51.439583272871275, 47.53505990335072, 44.054046060675965, 48.00714511243637, 45.30738532554824, 20.95620746662856, 18.810902646141457, 16.15939596459704, 13.785489047330515, 13.629271747201422, 11.86710451410372, 11.245757136741368, 11.081705169725339, 10.21716457274292, 10.217163147480615, 10.194775839835252, 9.910267116537083, 10.201175267581723, 9.87168882911446, 9.8600672402849, 9.842087556315697, 9.713946498319727, 9.674316367316502, 27.561363275155976, 9.414496037654049, 8.687940072772498, 10.210691031356625, 10.209632774095654, 10.4792282652724, 6.854764846410454, 10.21501456455683, 10.20732741231839, 9.534771072992385, 11.764749301717805, 7.924566732045331, 17.36514364460643, 37.5763422752992, 16.68313710357152, 17.27199990249344, 43.16641771910442, 14.616570899087485, 19.910844553726136, 34.251373500234365, 14.054581420913829, 22.090578010436786, 19.88369758261544, 45.218704220561314, 46.714833417193894, 50.42037003171341, 24.994240673602093, 21.277145181794413, 37.46720423960694, 52.81603642858023, 42.25983687256215, 55.92712179068253, 124.02217535952045, 72.70106805671253, 29.894332383255044, 34.48503955398109, 61.70576228787607, 59.35264852236751, 70.84039952049984, 67.85514201567358, 56.83606857265, 56.54639826191668, 40.51807797040024, 47.32807247730688, 46.01546860655448, 51.31545756303352, 63.289604977242114, 61.214120906519845, 48.07656037852756, 35.064554057448866, 37.742887026085505, 36.76286811404999, 55.150912537642505, 50.16944975251038, 40.63171698444959, 39.74708232686948, 40.37606768492077, 37.855645228030774, 31.17153866048032, 17.640041495573413, 13.244112827153128, 10.9575897284122, 10.628125681358608, 9.787728366084323, 27.24198486141311, 9.352317433226968, 9.104803462915262, 9.053358050291669, 10.200273059626943, 9.081065642036142, 9.096988926147427, 9.054084598473706, 8.65321854538571, 8.650510564946764, 8.86556537365428, 8.210811478418046, 8.922450919386156, 11.054394676682085, 8.923035887361618, 9.29457964371502, 9.11957545822478, 9.312662543952952, 9.114120821778261, 9.080046264548796, 17.546131689869217, 8.524665099085128, 21.30805176180998, 4.871247263018032, 19.65841997068149, 17.631238659900163, 22.826915930334074, 70.28396717149452, 28.281393530766824, 15.36941958061884, 144.07833890453566, 58.50030597280805, 59.447481698611554, 27.09321652415411, 83.71687616816384, 135.93179448037574, 59.97017095842412, 65.28310564657932, 14.050136540176252, 24.262615194880343, 64.96370070054415, 81.64346235890153, 22.606038376642942, 73.90543139089017, 27.172415801077495, 60.851984973250346, 25.442242138286186, 110.36343131280147, 60.955602346679576, 65.04281986378967, 34.58156630874041, 88.10827150743309, 85.19747638661413, 33.942850343051035, 48.43362454293033, 53.15705516393161, 53.2506887155742, 29.395443285027337, 44.377488370292134, 39.22960719632793, 37.56316258300977, 35.25888601699938, 39.35963722058783, 36.14012818591807, 40.17107551321854, 36.12037049543162, 31.126992834197154, 21.499853087035014, 21.035905842759995, 13.445751036177915, 11.698939751956923, 11.118964403390061, 11.12874081781354, 11.011576011884593, 11.110958070120015, 11.127592411010834, 10.961264608990108, 10.835938051203433, 10.762891965279866, 11.70468698826627, 10.617942997939616, 9.602560199977182, 9.998984245630657, 10.86575175827229, 11.12727897268756, 10.983395175416861, 16.58938265032561, 12.99174277807081, 21.512553191710452, 11.04788673614814, 11.049551470811178, 10.244669818980983, 10.948468261841963, 6.340506775172549, 11.112171505620495, 5.571757018687021, 10.91657038500942, 11.566707796753532, 13.407689739370266, 22.613542368571675, 119.37780014407275, 50.30918151416817, 20.418238560388847, 28.386353164178196, 31.307699781869864, 37.490300621670514, 44.02545844817965, 216.68109380116954, 18.12848837213171, 116.45703358236524, 13.714735741654009, 49.034442159722204, 57.50391501761647, 33.00645225728729, 80.246489929461, 20.166544985651097, 39.24165871243993, 27.037064910603075, 36.654385324401204, 21.89519375458356, 75.45960263115094, 38.61126011161841, 17.975754169093847, 47.68337472097596, 34.937448223938, 77.01098447052298, 36.63577150995012, 32.98282603081172, 44.38759026034851, 37.12343472030364, 38.17423084650033, 32.19104441014828, 33.26121648713397, 29.627878460948665, 35.57568928571117, 37.297878103806674, 45.51470926854964, 33.39153399747487, 37.99878081875574, 34.02273115070507, 32.682807029609535, 24.777050351129, 21.724284417104368, 19.975001399010452, 19.32657412738763, 12.682687134951122, 11.428942112123927, 10.871127280196468, 12.220137905520286, 10.705888549922577, 22.10539200342873, 9.723052848907596, 9.722986339299055, 9.695432537889342, 9.727705384259716, 9.444154217231786, 9.0443530387637, 9.63537498882678, 9.72299637848525, 9.583874591096949, 9.548725517881785, 9.43175644973043, 19.262205375303566, 10.356603928937238, 9.715822752499978, 18.87149907207877, 9.844995078920164, 6.147133000741951, 6.070584833456268, 11.205405827617234, 6.386787198684283, 9.524490294958568, 15.646207213501148, 9.330909687158677, 56.426390474709095, 74.83304259861671, 29.78917680376193, 25.124451369804554, 14.613117228742757, 63.41035615439038, 18.26699198515962, 51.69062524944126, 18.882608686501513, 15.64336361401149, 19.27512706283446, 32.226051213722585, 32.80364324245367, 27.108081621038615, 37.253705777602214, 28.043465226156787, 37.66755115010759, 26.65648388884795, 46.449823703868205, 24.11260430303421, 34.883145212050856, 41.38990570535526, 80.28000385229166, 39.930509208227285, 48.48957049613426, 44.431385084300466, 34.23618742630728, 42.03659996246122, 45.85810904995769, 46.797942524356685, 52.275648785752985, 49.150901886712134, 38.68635537291088, 30.216876253216036, 28.515088625009387, 35.18128645386541, 33.05308941163068, 32.42652372284516, 30.01019952702512, 31.34883465341668, 34.64662951469265, 52.36934278203587, 33.478915406027, 16.475117627423124, 15.508385950103685, 17.01853211600455, 15.305841317483951, 9.834668965999004, 9.576483534649833, 9.14016743414328, 8.607943896752943, 13.107909056530914, 9.127421853377802, 7.917415006417554, 7.910865209116006, 12.681001929304982, 9.447147231472298, 8.340668321099235, 7.8974159311197845, 7.9203802782868005, 7.916108836096179, 8.315018015733022, 7.705925299383928, 7.890052551558383, 26.28677028092115, 7.643794246964776, 7.61896077169179, 7.608559044010256, 7.979222358110563, 14.555092724669226, 6.116307898687233, 7.624192489949597, 9.736925420648541, 20.87415419992317, 113.81011801793811, 14.078802291011865, 204.1409124092901, 20.348990369673892, 23.717205768911626, 43.1513594255057, 16.17309294120967, 21.24519318008358, 86.32378213304429, 15.749966292029525, 57.022487672391264, 15.053802952098119, 149.20650444707698, 81.00001161656678, 17.374903880653992, 34.03573911599305, 49.09937217709911, 115.50785146116645, 34.640303811315086, 103.02894812869803, 48.57359125850903, 42.68796722078233, 34.05235286630538, 35.5075684263743, 52.19101940809838, 25.13558007242324, 35.32090028589129, 33.3737375700865, 27.75637374283099, 34.238027169776345, 38.5312471657726, 36.6329838292267, 28.291430473533417, 28.129538971239377, 31.47201853883209, 26.729506265394345, 27.24878502157235, 26.742714121109863, 23.827540241938, 21.21874803984089, 20.829942574922413, 19.86810713735269, 15.717058923646722, 11.079865347510895, 9.081381631022364, 8.779989404897409, 8.661608050490747, 8.281471414247116, 8.118338506634311, 7.77633026851221, 7.710793073845212, 7.285964376356931, 8.513168807481804, 8.113748276862463, 7.754074325717291, 7.662253582462225, 3.7607308030803797, 3.823522018781846, 3.5571144655560434, 3.4612610171968465, 10.02406745607232, 4.487111930047067, 2.868560027477594, 14.592281802626138, 5.921933958049333, 8.071333057972705, 2.7185695315726943, 8.115928232308638, 116.95931975083964, 90.15507711853309, 15.811367280777402, 24.482451550848985, 222.69719093477903, 43.7460404702168, 220.697907476351, 39.46548165587896, 77.47175127931342, 91.77924166272695, 64.31529096964266, 78.21263357189429, 45.93406982545116, 34.98847358560649, 42.68532939264398, 44.93658680455421, 18.18589373667361, 20.958674680743876, 16.612004999253205, 17.620681007762677, 35.67633664210386, 31.699808947325828, 24.703216021331396, 34.73851555973379, 29.746364895114105, 43.80567181287777, 39.14992949303326, 30.155452019591063, 20.035031382682995, 31.109454915487515, 23.917322110684147, 20.845616157120602], \"Total\": [393.0, 415.0, 1108.0, 448.0, 159.0, 844.0, 123.0, 161.0, 187.0, 208.0, 127.0, 150.0, 308.0, 209.0, 407.0, 200.0, 1234.0, 142.0, 340.0, 131.0, 263.0, 212.0, 102.0, 428.0, 140.0, 101.0, 53.0, 180.0, 68.0, 68.0, 18.820590672427542, 18.75530019461005, 14.249775287005017, 13.120701356220017, 19.197970745330164, 11.393438112074882, 10.848016981117947, 10.152895203813586, 10.146604814970392, 11.186067785656913, 10.137309634561584, 10.13572954847751, 15.43996707515633, 10.114203412206475, 10.180776602945071, 10.155982104579325, 10.08861800576863, 9.921403465250645, 10.17632807951635, 9.7248747733035, 9.632705698365202, 15.703872095962954, 10.159353260438087, 10.155456873160231, 9.88244067725824, 7.587746528081983, 15.639740785158395, 7.379983932512571, 10.331180638715304, 7.615099716154673, 10.401189038163668, 33.263918388854364, 21.04242214603219, 131.41031939405255, 56.22993973675648, 36.48354030650621, 52.37373958404194, 49.35315921940181, 1108.5358592966197, 29.58909610407579, 212.78949066992695, 80.75156769901811, 59.94765921129178, 68.3471049221575, 267.69086774636685, 77.61560302739757, 98.81494549833255, 36.25099877428889, 35.84199355375414, 51.57142225214918, 110.8161353938715, 94.80536866882623, 31.407525371000638, 1234.1663859611715, 247.37442203650252, 263.5680967393194, 128.0696877567551, 176.6457014237414, 83.64581626327895, 160.10166157458684, 367.20761645895146, 121.2772371976621, 106.76739289171206, 404.4946089185494, 114.92730672210206, 87.1127691319487, 146.08431972388064, 293.6224469758994, 343.0623884601135, 187.0421771665866, 452.2479446538994, 448.05223853168053, 403.23600082630037, 374.53268872676205, 1148.1858151450197, 250.85742469309852, 328.6381754884037, 146.24483372361118, 220.59747434061805, 536.6403633843294, 248.37481191174737, 399.2648404948367, 358.6073044769803, 311.2305115399593, 68.71523193453535, 18.740938702968947, 18.157784944475928, 17.853444328955963, 29.815131553074565, 13.070718684162514, 12.705326347298135, 11.445725712126594, 10.657270130223559, 10.51759710174978, 9.830751768413675, 9.8243208187437, 9.834738882900382, 9.775228016372298, 9.331619490188562, 9.259684791827059, 12.790531366782634, 9.941176093687448, 8.76813256020327, 9.559568683241613, 8.467396327103431, 9.319192191529224, 9.803238508813788, 9.876496115742887, 9.742609833525679, 9.854911182306198, 10.594310130624674, 10.548075556750128, 7.491106628510613, 6.996966530901185, 29.746598611826357, 13.430193702896554, 36.46554897191642, 20.94176164334325, 15.08376693813879, 17.61757912798984, 33.666060079173626, 41.04350407560046, 19.214904365608177, 122.47957176820397, 29.346172624343897, 21.862274482621682, 14.912173626786785, 22.74724292993354, 72.80123848739495, 82.8391772210388, 314.6805404983435, 91.06779413423097, 43.18284427126564, 281.00545385448305, 1148.1858151450197, 56.55333610335663, 40.28988114604668, 1234.1663859611715, 216.67305113062616, 844.1568645350527, 271.79980267274766, 339.2009415992975, 60.88407050375735, 452.2479446538994, 271.5980460945722, 120.84807713145379, 240.07941470734545, 501.44581076966045, 407.8511603030025, 407.71374852646403, 536.6403633843294, 311.2305115399593, 391.76032627115035, 255.5496981772977, 851.5079029934362, 220.52182398781758, 309.18647202103637, 1108.5358592966197, 245.28167514866075, 248.37481191174737, 399.2648404948367, 310.8124292677825, 374.53268872676205, 428.65332844861416, 35.59669480935967, 34.235733151811004, 29.667960271519124, 13.835273542110981, 20.135145009179148, 11.809695663005405, 11.781749322085053, 10.548507682096709, 10.814762897082337, 18.630572456072567, 10.03072113538199, 10.664612712819494, 9.546474343205357, 9.814047090903166, 9.51405711971828, 9.782362004316708, 9.473335167395195, 9.44230340971199, 9.78281049034066, 9.82452502080677, 10.327101311132033, 9.323109316619716, 9.306454552880854, 9.323820050059375, 9.305030427755309, 9.249652732228517, 9.182899015152461, 9.46889215214845, 9.879443190604633, 8.962763975376992, 17.300465919596544, 29.124444384048925, 33.54381360546858, 54.769615669427075, 35.54554844896464, 21.876250361592337, 17.13230877343658, 31.614094428319888, 11.935360120799732, 60.822576282376325, 21.534012184442606, 22.46415443353807, 22.19640570645704, 109.89824192594898, 271.5980460945722, 44.164143412862984, 13.79463003785686, 115.48076550148964, 29.47516179646984, 134.4088624943098, 119.64898684251308, 121.6433445471414, 407.8511603030025, 81.50179223730213, 135.313668335886, 176.3652112519946, 1148.1858151450197, 851.5079029934362, 225.1454469046571, 64.6950088185356, 235.72508240794565, 105.94950706839096, 1234.1663859611715, 310.8124292677825, 195.66925979533056, 1108.5358592966197, 343.0623884601135, 393.1679072827028, 844.1568645350527, 308.1322981876528, 281.00545385448305, 404.4946089185494, 200.06598974068555, 228.22351420640487, 341.8148887480074, 423.27419504446016, 536.6403633843294, 415.5921448822286, 448.05223853168053, 501.44581076966045, 407.71374852646403, 403.23600082630037, 212.78949066992695, 21.755725526815525, 19.341761395655283, 13.14438784180201, 12.159853176401485, 28.055398754391017, 11.374651388954911, 15.382290530320828, 32.28204580821106, 10.46495695652847, 10.43790558540863, 10.467919775132858, 10.192089078045052, 10.537284810736729, 15.004916079244987, 9.965014291901598, 9.920963391033176, 9.861122602966704, 10.503713988726066, 11.9094005788217, 10.078491580692404, 13.501706577318718, 10.027093321704625, 8.853170609207687, 14.788700579311477, 10.450087738088193, 8.771937127790302, 10.155656575187727, 10.009583109896948, 10.704847894797835, 7.979740161652198, 17.02490496114351, 24.740091959108863, 43.19618558231191, 38.874205759376245, 43.72948988000092, 77.70813917036784, 44.908963683430144, 21.747064978177786, 37.725665626012244, 41.62766076075838, 407.71374852646403, 24.217273077116833, 232.83568490364948, 31.79805023330454, 18.305475469401856, 23.936193326739136, 40.629810200514406, 15.025534263072672, 16.07095247625103, 157.49677012601254, 194.283214694872, 55.778948189676086, 51.40139308732525, 152.70399763277055, 305.9808442670279, 844.1568645350527, 851.5079029934362, 308.1322981876528, 85.237169707789, 101.96852915867741, 46.31022062572134, 284.7566082500701, 341.8148887480074, 339.2009415992975, 367.20761645895146, 189.1242089615166, 158.73707896279683, 241.48155141792398, 452.2479446538994, 536.6403633843294, 423.27419504446016, 202.1021630304371, 309.91999350397043, 1148.1858151450197, 428.65332844861416, 358.6073044769803, 272.5505878913937, 308.7792054251444, 310.8124292677825, 328.6381754884037, 1234.1663859611715, 1108.5358592966197, 21.84288705694467, 19.70231368561199, 17.04666971261966, 14.679444276278725, 14.520870934057907, 12.752648536434899, 12.143418982402315, 11.969508477125839, 11.102309791050981, 11.102321019418643, 11.080165520091276, 10.795927358806768, 11.116566045470336, 10.75792442941011, 10.74628901062263, 10.72729238931395, 10.599515972827293, 10.560857039815412, 30.096179972662917, 10.303803277109202, 9.573649359088344, 11.34049519141719, 11.34815379028352, 11.784805578121356, 7.769006611328489, 11.606128740448138, 11.628705194655298, 10.940962807422938, 13.501819015531266, 9.239410376054593, 20.665110041724006, 48.14485809322498, 20.527003925188883, 21.879020574104924, 67.6803883930485, 18.165575726280455, 27.058583525181422, 56.13223558383666, 17.550354812822903, 33.60916859572456, 29.410824045630026, 116.72114890644616, 123.99817301514696, 140.88600675625435, 46.47169291870134, 36.21572516529841, 94.85257039276102, 198.77278932008437, 141.0180814152483, 247.83653817406775, 1148.1858151450197, 423.27419504446016, 82.0509034739226, 109.18625033377667, 358.6073044769803, 340.03213437096343, 536.6403633843294, 501.44581076966045, 341.8148887480074, 399.2648404948367, 183.82162642798022, 305.9808442670279, 309.91999350397043, 428.65332844861416, 844.1568645350527, 851.5079029934362, 391.76032627115035, 149.63665962169185, 207.60174428530138, 188.45545933532173, 1108.5358592966197, 1234.1663859611715, 407.71374852646403, 374.53268872676205, 452.2479446538994, 284.7566082500701, 32.711083620809525, 18.626774334005244, 14.141191991953631, 11.855949672610231, 11.583558057301001, 10.68512249709335, 29.821622015683918, 10.259113402840216, 10.00175263487774, 9.951483526339809, 11.218943427364612, 9.99220712510947, 10.010049794247283, 9.988070913601435, 9.55059202061505, 9.547989960374167, 9.871002517308405, 9.152004316756628, 10.024094379685428, 12.46580357280553, 10.126380553417354, 10.548934952420183, 10.463285917821054, 10.691832496045707, 10.53327602939147, 10.523778475156613, 20.408830122867577, 9.988570581361579, 25.143144552219695, 5.768489390987708, 23.29971763390713, 21.458063033975414, 28.86831035556717, 101.41315975763294, 40.593843779336304, 19.573744991088265, 308.7792054251444, 102.3182553185804, 105.5817966044998, 40.7123752510396, 180.6879656926918, 340.03213437096343, 124.69951030804253, 167.3122503558462, 18.64945297405451, 42.920579767610654, 189.1242089615166, 287.2081292220342, 43.97254957940546, 328.6381754884037, 62.067143727770635, 257.5212986104933, 55.9925680699397, 851.5079029934362, 293.6224469758994, 399.2648404948367, 109.04284945850891, 1148.1858151450197, 1234.1663859611715, 119.39055752202702, 311.2305115399593, 428.65332844861416, 501.44581076966045, 85.02578945767804, 404.4946089185494, 310.8124292677825, 255.5496981772977, 219.68282132210481, 423.27419504446016, 358.6073044769803, 1108.5358592966197, 403.23600082630037, 32.00493621479848, 22.39475854767134, 21.919049747359246, 14.32182329255706, 12.576291439867507, 11.99448958427641, 12.011979723227343, 11.888319339567968, 11.996944993484494, 12.016717807218086, 11.84093715455061, 11.711353946483207, 11.639293160880525, 12.684592897873157, 11.551150599704325, 10.478061670854883, 10.939969588748259, 11.889589204505196, 12.210564208882875, 12.067145862033389, 18.4422539621136, 14.458959832673902, 24.014223979894126, 12.398818346963935, 12.442806488146434, 11.616724061130626, 12.455656148496253, 7.216084004329705, 12.783782478728117, 6.447284638889327, 12.924931536929172, 13.817751769619317, 16.22765901330662, 29.62541321383893, 208.59851536629102, 83.83244531261613, 27.236942132554542, 43.05689452249774, 52.14407084734891, 66.78259795363064, 85.08564439929698, 844.1568645350527, 24.990329025103705, 428.65332844861416, 16.855762618344023, 122.11442775217955, 161.90156302706157, 68.09997485684721, 284.7566082500701, 32.24622989026121, 98.19090038407687, 54.193148599006136, 93.82120536394301, 39.95217008953311, 407.8511603030025, 117.01580674159636, 28.42514027363304, 219.68282132210481, 124.69951030804253, 851.5079029934362, 148.3147907414463, 128.45180971509873, 309.91999350397043, 198.77278932008437, 228.22351420640487, 134.52417267432355, 168.26861322329876, 100.20341349900647, 257.5212986104933, 341.8148887480074, 1148.1858151450197, 225.1454469046571, 1234.1663859611715, 305.9808442670279, 391.76032627115035, 25.733438779929433, 22.615697589692182, 20.865891441963857, 20.21748323441327, 13.573285772720215, 12.319484250863388, 11.762074142728519, 13.2292781442402, 11.596454607284013, 24.014009398117434, 10.613480128486014, 10.613413307388791, 10.586248347288194, 10.629036687900214, 10.334875857022581, 9.938226043329962, 10.638625463217494, 10.73949351626516, 10.66657920630393, 10.662060567823527, 10.572119289564508, 21.597006760522106, 11.716835478468942, 11.034870333537295, 21.445852784100953, 11.224358172694629, 7.037472982995954, 6.961558479201094, 12.895065974490754, 7.368954981433236, 11.10103229525994, 19.346910336257256, 11.156868619419956, 87.7207549068549, 127.92439937358279, 42.79979865671094, 39.26468545420081, 19.23890723306268, 150.80237721480276, 26.972512917084728, 121.8382021200715, 29.283223503540384, 22.91698983909007, 31.960752973824192, 79.67246637158436, 87.62964045517265, 65.80838911076994, 117.8746231926026, 70.55166850881876, 121.52272582612497, 66.9612898502682, 196.91701228843806, 59.611586703335306, 132.03385035885123, 210.80274939770283, 1148.1858151450197, 219.68282132210481, 374.53268872676205, 311.2305115399593, 157.67037211331308, 309.18647202103637, 415.5921448822286, 501.44581076966045, 844.1568645350527, 851.5079029934362, 391.76032627115035, 133.6407934288311, 102.46606089764153, 367.20761645895146, 423.27419504446016, 399.2648404948367, 186.94563785341074, 308.7792054251444, 1234.1663859611715, 53.27991477389908, 34.71422546244733, 17.38645719232133, 16.426241352755486, 18.387958343546348, 16.70918194549914, 10.748964283413267, 10.486782777590713, 10.05047715983925, 9.520027885730999, 14.54630672848728, 10.12981687564635, 8.827199851386185, 8.820771599696414, 14.178698506748399, 10.592028431155656, 9.360718754933677, 8.876872348300148, 8.925664895790673, 8.925446921294311, 9.410537019101046, 8.730974797554435, 8.941623911091511, 30.297668751836866, 8.84448288200906, 8.842566676063024, 8.839047738992251, 9.296833363028473, 17.033833368647848, 7.2139562189024495, 9.005634734906646, 11.55428552157897, 25.418782564705598, 161.04076477319293, 17.825441109702886, 448.05223853168053, 28.498730230873104, 34.751680336437055, 72.95605069165615, 21.70411788098576, 31.885509918875346, 200.06598974068555, 21.720304576832206, 164.63024432031335, 23.49842481575659, 1108.5358592966197, 403.23600082630037, 31.561544404156482, 106.80561688626399, 220.52182398781758, 1234.1663859611715, 123.02004266826297, 1148.1858151450197, 263.5680967393194, 248.37481191174737, 163.12740613065475, 240.07941470734545, 851.5079029934362, 89.82210188553158, 309.18647202103637, 267.69086774636685, 142.58469906329705, 328.6381754884037, 536.6403633843294, 501.44581076966045, 166.8543695307762, 187.0421771665866, 452.2479446538994, 177.4175212108688, 255.5496981772977, 343.0623884601135, 24.736127616637592, 22.12695708835014, 21.737431486174753, 20.77846341986176, 16.625064018560007, 11.987446951340083, 9.991498167582222, 9.690429816172541, 9.569104413331504, 9.193137216752977, 9.0260489109881, 8.686804515791057, 8.61907738010458, 8.23076501250077, 9.789502775628694, 9.477039462078489, 9.07084744773316, 9.438984100863681, 4.668768314608148, 4.75729496818538, 4.464648768937165, 4.368845231340927, 12.87746452770321, 5.812976439861371, 3.7761314291475947, 19.30335186239006, 7.8497396443887055, 10.74845334952791, 3.626118298776549, 10.904646888993977, 159.06071370209952, 123.36038862872908, 21.39128005803115, 33.55630144689494, 393.1679072827028, 68.8719109803453, 415.5921448822286, 64.00509786903774, 150.1708477911505, 187.29014023323845, 142.08026671760427, 209.7670886627044, 102.07491918297828, 79.61540105062664, 127.92439937358279, 140.496044454743, 34.56181475185784, 47.83812729377961, 34.43690438900903, 42.225321125920665, 199.11354547424338, 161.90156302706157, 117.8746231926026, 305.9808442670279, 293.6224469758994, 1234.1663859611715, 851.5079029934362, 423.27419504446016, 73.188780688684, 1148.1858151450197, 339.2009415992975, 247.83653817406775], \"Category\": [\"Default\", \"Default\", \"Default\", \"Default\", \"Default\", \"Default\", \"Default\", \"Default\", \"Default\", \"Default\", \"Default\", \"Default\", \"Default\", \"Default\", \"Default\", \"Default\", \"Default\", \"Default\", \"Default\", \"Default\", \"Default\", \"Default\", \"Default\", \"Default\", \"Default\", \"Default\", \"Default\", \"Default\", \"Default\", \"Default\", \"Topic1\", \"Topic1\", \"Topic1\", \"Topic1\", \"Topic1\", \"Topic1\", \"Topic1\", \"Topic1\", \"Topic1\", \"Topic1\", \"Topic1\", \"Topic1\", \"Topic1\", \"Topic1\", \"Topic1\", \"Topic1\", \"Topic1\", \"Topic1\", \"Topic1\", \"Topic1\", \"Topic1\", \"Topic1\", \"Topic1\", \"Topic1\", \"Topic1\", \"Topic1\", \"Topic1\", \"Topic1\", \"Topic1\", \"Topic1\", \"Topic1\", \"Topic1\", \"Topic1\", \"Topic1\", \"Topic1\", \"Topic1\", \"Topic1\", \"Topic1\", \"Topic1\", \"Topic1\", \"Topic1\", \"Topic1\", \"Topic1\", \"Topic1\", \"Topic1\", \"Topic1\", \"Topic1\", \"Topic1\", \"Topic1\", \"Topic1\", \"Topic1\", \"Topic1\", \"Topic1\", \"Topic1\", \"Topic1\", \"Topic1\", \"Topic1\", \"Topic1\", \"Topic1\", \"Topic1\", \"Topic1\", \"Topic1\", \"Topic1\", \"Topic1\", \"Topic1\", \"Topic1\", \"Topic1\", \"Topic1\", \"Topic1\", \"Topic1\", \"Topic1\", \"Topic1\", \"Topic1\", \"Topic1\", \"Topic1\", \"Topic1\", \"Topic1\", \"Topic1\", \"Topic1\", \"Topic1\", \"Topic1\", \"Topic1\", \"Topic1\", \"Topic1\", \"Topic2\", \"Topic2\", \"Topic2\", \"Topic2\", \"Topic2\", \"Topic2\", \"Topic2\", \"Topic2\", \"Topic2\", \"Topic2\", \"Topic2\", \"Topic2\", \"Topic2\", \"Topic2\", \"Topic2\", \"Topic2\", \"Topic2\", \"Topic2\", \"Topic2\", \"Topic2\", \"Topic2\", \"Topic2\", \"Topic2\", \"Topic2\", \"Topic2\", \"Topic2\", \"Topic2\", \"Topic2\", \"Topic2\", \"Topic2\", \"Topic2\", \"Topic2\", \"Topic2\", \"Topic2\", \"Topic2\", \"Topic2\", \"Topic2\", \"Topic2\", \"Topic2\", \"Topic2\", \"Topic2\", \"Topic2\", \"Topic2\", \"Topic2\", \"Topic2\", \"Topic2\", \"Topic2\", \"Topic2\", \"Topic2\", \"Topic2\", \"Topic2\", \"Topic2\", \"Topic2\", \"Topic2\", \"Topic2\", \"Topic2\", \"Topic2\", \"Topic2\", \"Topic2\", \"Topic2\", \"Topic2\", \"Topic2\", \"Topic2\", \"Topic2\", \"Topic2\", \"Topic2\", \"Topic2\", \"Topic2\", \"Topic2\", \"Topic2\", \"Topic2\", \"Topic2\", \"Topic2\", \"Topic2\", \"Topic2\", \"Topic2\", \"Topic2\", \"Topic2\", \"Topic2\", \"Topic2\", \"Topic3\", \"Topic3\", \"Topic3\", \"Topic3\", \"Topic3\", \"Topic3\", \"Topic3\", \"Topic3\", \"Topic3\", \"Topic3\", \"Topic3\", \"Topic3\", \"Topic3\", \"Topic3\", \"Topic3\", \"Topic3\", \"Topic3\", \"Topic3\", \"Topic3\", \"Topic3\", \"Topic3\", \"Topic3\", \"Topic3\", \"Topic3\", \"Topic3\", \"Topic3\", \"Topic3\", \"Topic3\", \"Topic3\", \"Topic3\", \"Topic3\", \"Topic3\", \"Topic3\", \"Topic3\", \"Topic3\", \"Topic3\", \"Topic3\", \"Topic3\", \"Topic3\", \"Topic3\", \"Topic3\", \"Topic3\", \"Topic3\", \"Topic3\", \"Topic3\", \"Topic3\", \"Topic3\", \"Topic3\", \"Topic3\", \"Topic3\", \"Topic3\", \"Topic3\", \"Topic3\", \"Topic3\", \"Topic3\", \"Topic3\", \"Topic3\", \"Topic3\", \"Topic3\", \"Topic3\", \"Topic3\", \"Topic3\", \"Topic3\", \"Topic3\", \"Topic3\", \"Topic3\", \"Topic3\", \"Topic3\", \"Topic3\", \"Topic3\", \"Topic3\", \"Topic3\", \"Topic3\", \"Topic3\", \"Topic3\", \"Topic3\", \"Topic3\", \"Topic3\", \"Topic3\", \"Topic3\", \"Topic3\", \"Topic3\", \"Topic3\", \"Topic4\", \"Topic4\", \"Topic4\", \"Topic4\", \"Topic4\", \"Topic4\", \"Topic4\", \"Topic4\", \"Topic4\", \"Topic4\", \"Topic4\", \"Topic4\", \"Topic4\", \"Topic4\", \"Topic4\", \"Topic4\", \"Topic4\", \"Topic4\", \"Topic4\", \"Topic4\", \"Topic4\", \"Topic4\", \"Topic4\", \"Topic4\", \"Topic4\", \"Topic4\", \"Topic4\", \"Topic4\", \"Topic4\", \"Topic4\", \"Topic4\", \"Topic4\", \"Topic4\", \"Topic4\", \"Topic4\", \"Topic4\", \"Topic4\", \"Topic4\", \"Topic4\", \"Topic4\", \"Topic4\", \"Topic4\", \"Topic4\", \"Topic4\", \"Topic4\", \"Topic4\", \"Topic4\", \"Topic4\", \"Topic4\", \"Topic4\", \"Topic4\", \"Topic4\", \"Topic4\", \"Topic4\", \"Topic4\", \"Topic4\", \"Topic4\", \"Topic4\", \"Topic4\", \"Topic4\", \"Topic4\", \"Topic4\", \"Topic4\", \"Topic4\", \"Topic4\", \"Topic4\", \"Topic4\", \"Topic4\", \"Topic4\", \"Topic4\", \"Topic4\", \"Topic4\", \"Topic4\", \"Topic4\", \"Topic4\", \"Topic4\", \"Topic4\", \"Topic4\", \"Topic4\", \"Topic4\", \"Topic4\", \"Topic4\", \"Topic5\", \"Topic5\", \"Topic5\", \"Topic5\", \"Topic5\", \"Topic5\", \"Topic5\", \"Topic5\", \"Topic5\", \"Topic5\", \"Topic5\", \"Topic5\", \"Topic5\", \"Topic5\", \"Topic5\", \"Topic5\", \"Topic5\", \"Topic5\", \"Topic5\", \"Topic5\", \"Topic5\", \"Topic5\", \"Topic5\", \"Topic5\", \"Topic5\", \"Topic5\", \"Topic5\", \"Topic5\", \"Topic5\", \"Topic5\", \"Topic5\", \"Topic5\", \"Topic5\", \"Topic5\", \"Topic5\", \"Topic5\", \"Topic5\", \"Topic5\", \"Topic5\", \"Topic5\", \"Topic5\", \"Topic5\", \"Topic5\", \"Topic5\", \"Topic5\", \"Topic5\", \"Topic5\", \"Topic5\", \"Topic5\", \"Topic5\", \"Topic5\", \"Topic5\", \"Topic5\", \"Topic5\", \"Topic5\", \"Topic5\", \"Topic5\", \"Topic5\", \"Topic5\", \"Topic5\", \"Topic5\", \"Topic5\", \"Topic5\", \"Topic5\", \"Topic5\", \"Topic5\", \"Topic5\", \"Topic5\", \"Topic5\", \"Topic5\", \"Topic5\", \"Topic5\", \"Topic5\", \"Topic5\", \"Topic5\", \"Topic5\", \"Topic6\", \"Topic6\", \"Topic6\", \"Topic6\", \"Topic6\", \"Topic6\", \"Topic6\", \"Topic6\", \"Topic6\", \"Topic6\", \"Topic6\", \"Topic6\", \"Topic6\", \"Topic6\", \"Topic6\", \"Topic6\", \"Topic6\", \"Topic6\", \"Topic6\", \"Topic6\", \"Topic6\", \"Topic6\", \"Topic6\", \"Topic6\", \"Topic6\", \"Topic6\", \"Topic6\", \"Topic6\", \"Topic6\", \"Topic6\", \"Topic6\", \"Topic6\", \"Topic6\", \"Topic6\", \"Topic6\", \"Topic6\", \"Topic6\", \"Topic6\", \"Topic6\", \"Topic6\", \"Topic6\", \"Topic6\", \"Topic6\", \"Topic6\", \"Topic6\", \"Topic6\", \"Topic6\", \"Topic6\", \"Topic6\", \"Topic6\", \"Topic6\", \"Topic6\", \"Topic6\", \"Topic6\", \"Topic6\", \"Topic6\", \"Topic6\", \"Topic6\", \"Topic6\", \"Topic6\", \"Topic6\", \"Topic6\", \"Topic6\", \"Topic6\", \"Topic6\", \"Topic6\", \"Topic6\", \"Topic6\", \"Topic6\", \"Topic6\", \"Topic6\", \"Topic6\", \"Topic7\", \"Topic7\", \"Topic7\", \"Topic7\", \"Topic7\", \"Topic7\", \"Topic7\", \"Topic7\", \"Topic7\", \"Topic7\", \"Topic7\", \"Topic7\", \"Topic7\", \"Topic7\", \"Topic7\", \"Topic7\", \"Topic7\", \"Topic7\", \"Topic7\", \"Topic7\", \"Topic7\", \"Topic7\", \"Topic7\", \"Topic7\", \"Topic7\", \"Topic7\", \"Topic7\", \"Topic7\", \"Topic7\", \"Topic7\", \"Topic7\", \"Topic7\", \"Topic7\", \"Topic7\", \"Topic7\", \"Topic7\", \"Topic7\", \"Topic7\", \"Topic7\", \"Topic7\", \"Topic7\", \"Topic7\", \"Topic7\", \"Topic7\", \"Topic7\", \"Topic7\", \"Topic7\", \"Topic7\", \"Topic7\", \"Topic7\", \"Topic7\", \"Topic7\", \"Topic7\", \"Topic7\", \"Topic7\", \"Topic7\", \"Topic7\", \"Topic7\", \"Topic7\", \"Topic7\", \"Topic7\", \"Topic7\", \"Topic7\", \"Topic7\", \"Topic7\", \"Topic7\", \"Topic7\", \"Topic7\", \"Topic7\", \"Topic7\", \"Topic7\", \"Topic7\", \"Topic7\", \"Topic7\", \"Topic7\", \"Topic8\", \"Topic8\", \"Topic8\", \"Topic8\", \"Topic8\", \"Topic8\", \"Topic8\", \"Topic8\", \"Topic8\", \"Topic8\", \"Topic8\", \"Topic8\", \"Topic8\", \"Topic8\", \"Topic8\", \"Topic8\", \"Topic8\", \"Topic8\", \"Topic8\", \"Topic8\", \"Topic8\", \"Topic8\", \"Topic8\", \"Topic8\", \"Topic8\", \"Topic8\", \"Topic8\", \"Topic8\", \"Topic8\", \"Topic8\", \"Topic8\", \"Topic8\", \"Topic8\", \"Topic8\", \"Topic8\", \"Topic8\", \"Topic8\", \"Topic8\", \"Topic8\", \"Topic8\", \"Topic8\", \"Topic8\", \"Topic8\", \"Topic8\", \"Topic8\", \"Topic8\", \"Topic8\", \"Topic8\", \"Topic8\", \"Topic8\", \"Topic8\", \"Topic8\", \"Topic8\", \"Topic8\", \"Topic8\", \"Topic8\", \"Topic8\", \"Topic8\", \"Topic8\", \"Topic8\", \"Topic8\", \"Topic8\", \"Topic8\", \"Topic8\", \"Topic8\", \"Topic8\", \"Topic8\", \"Topic8\", \"Topic8\", \"Topic8\", \"Topic8\", \"Topic8\", \"Topic8\", \"Topic8\", \"Topic9\", \"Topic9\", \"Topic9\", \"Topic9\", \"Topic9\", \"Topic9\", \"Topic9\", \"Topic9\", \"Topic9\", \"Topic9\", \"Topic9\", \"Topic9\", \"Topic9\", \"Topic9\", \"Topic9\", \"Topic9\", \"Topic9\", \"Topic9\", \"Topic9\", \"Topic9\", \"Topic9\", \"Topic9\", \"Topic9\", \"Topic9\", \"Topic9\", \"Topic9\", \"Topic9\", \"Topic9\", \"Topic9\", \"Topic9\", \"Topic9\", \"Topic9\", \"Topic9\", \"Topic9\", \"Topic9\", \"Topic9\", \"Topic9\", \"Topic9\", \"Topic9\", \"Topic9\", \"Topic9\", \"Topic9\", \"Topic9\", \"Topic9\", \"Topic9\", \"Topic9\", \"Topic9\", \"Topic9\", \"Topic9\", \"Topic9\", \"Topic9\", \"Topic9\", \"Topic9\", \"Topic9\", \"Topic9\", \"Topic9\", \"Topic9\", \"Topic9\", \"Topic9\", \"Topic9\", \"Topic9\", \"Topic9\", \"Topic9\", \"Topic9\", \"Topic9\", \"Topic9\", \"Topic9\", \"Topic9\", \"Topic9\", \"Topic9\", \"Topic9\", \"Topic10\", \"Topic10\", \"Topic10\", \"Topic10\", \"Topic10\", \"Topic10\", \"Topic10\", \"Topic10\", \"Topic10\", \"Topic10\", \"Topic10\", \"Topic10\", \"Topic10\", \"Topic10\", \"Topic10\", \"Topic10\", \"Topic10\", \"Topic10\", \"Topic10\", \"Topic10\", \"Topic10\", \"Topic10\", \"Topic10\", \"Topic10\", \"Topic10\", \"Topic10\", \"Topic10\", \"Topic10\", \"Topic10\", \"Topic10\", \"Topic10\", \"Topic10\", \"Topic10\", \"Topic10\", \"Topic10\", \"Topic10\", \"Topic10\", \"Topic10\", \"Topic10\", \"Topic10\", \"Topic10\", \"Topic10\", \"Topic10\", \"Topic10\", \"Topic10\", \"Topic10\", \"Topic10\", \"Topic10\", \"Topic10\", \"Topic10\", \"Topic10\", \"Topic10\", \"Topic10\", \"Topic10\", \"Topic10\", \"Topic10\", \"Topic10\", \"Topic10\", \"Topic10\", \"Topic10\", \"Topic10\", \"Topic10\"], \"logprob\": [30.0, 29.0, 28.0, 27.0, 26.0, 25.0, 24.0, 23.0, 22.0, 21.0, 20.0, 19.0, 18.0, 17.0, 16.0, 15.0, 14.0, 13.0, 12.0, 11.0, 10.0, 9.0, 8.0, 7.0, 6.0, 5.0, 4.0, 3.0, 2.0, 1.0, -6.9197, -6.9234, -7.2141, -7.3026, -6.9226, -7.4547, -7.508, -7.5804, -7.5811, -7.4836, -7.5821, -7.5823, -7.1615, -7.5847, -7.5787, -7.5814, -7.5884, -7.6058, -7.5805, -7.6278, -7.6385, -7.1512, -7.5963, -7.6086, -7.6384, -7.9049, -7.1826, -7.9365, -7.6081, -7.9157, -7.6087, -6.4707, -6.9196, -5.1756, -6.0473, -6.4664, -6.16, -6.2215, -3.5523, -6.6784, -5.0017, -5.8381, -6.0905, -5.9819, -4.8791, -5.8964, -5.7009, -6.5257, -6.5423, -6.2467, -5.6406, -5.7822, -6.6626, -3.8269, -5.0742, -5.066, -5.62, -5.3948, -5.9603, -5.5395, -4.9754, -5.738, -5.8263, -4.9833, -5.8039, -5.9756, -5.669, -5.2875, -5.2218, -5.6106, -5.1973, -5.2764, -5.3246, -5.3576, -4.9615, -5.5287, -5.4861, -5.7359, -5.632, -5.4385, -5.6222, -5.5779, -5.6058, -5.6276, -5.5043, -6.8338, -6.8678, -6.8848, -6.3794, -7.2162, -7.2479, -7.3596, -7.4378, -7.4519, -7.5257, -7.5264, -7.5257, -7.5334, -7.5833, -7.5924, -7.2725, -7.5261, -7.6523, -7.5701, -7.6936, -7.598, -7.5475, -7.5458, -7.5611, -7.5497, -7.4803, -7.486, -7.8335, -7.9077, -6.4734, -7.2726, -6.3149, -6.8616, -7.1638, -7.0257, -6.4464, -6.2875, -6.9562, -5.4107, -6.6213, -6.8815, -7.2081, -6.8756, -5.9811, -5.9026, -4.9496, -5.9033, -6.4521, -5.1211, -4.124, -6.2642, -6.5128, -4.1935, -5.3957, -4.5146, -5.2602, -5.1228, -6.2587, -5.0265, -5.3534, -5.8619, -5.4642, -5.0575, -5.1862, -5.1875, -5.0352, -5.3784, -5.2625, -5.4969, -4.9122, -5.5952, -5.4463, -4.9317, -5.6044, -5.6139, -5.4556, -5.5823, -5.5521, -5.5816, -6.146, -6.1861, -6.3334, -7.1326, -6.7698, -7.3053, -7.3146, -7.4259, -7.4036, -6.8612, -7.4809, -7.4244, -7.5354, -7.5078, -7.5392, -7.5117, -7.544, -7.5477, -7.5124, -7.5084, -7.4588, -7.5616, -7.5636, -7.5618, -7.5639, -7.5705, -7.5786, -7.55, -7.5089, -7.608, -6.9931, -6.5098, -6.4402, -6.0638, -6.4484, -6.8517, -7.065, -6.5797, -7.3626, -6.1207, -6.9186, -6.8905, -6.9061, -5.7256, -5.1004, -6.4171, -7.2619, -5.7373, -6.7182, -5.6451, -5.7302, -5.7213, -4.9907, -6.0674, -5.7334, -5.5944, -4.4174, -4.6121, -5.4586, -6.2408, -5.46, -5.9546, -4.5352, -5.3639, -5.6296, -4.7453, -5.3856, -5.3318, -4.998, -5.4875, -5.5293, -5.3801, -5.7102, -5.6754, -5.535, -5.4801, -5.4097, -5.5181, -5.5469, -5.6408, -5.6558, -5.6659, -5.7182, -6.5545, -6.6783, -7.0868, -7.1718, -6.3378, -7.2428, -6.9438, -6.2053, -7.3335, -7.3364, -7.3346, -7.3625, -7.3304, -6.9778, -7.3873, -7.3922, -7.3989, -7.3365, -7.2149, -7.3859, -7.0936, -7.3916, -7.5179, -7.0053, -7.353, -7.5309, -7.3845, -7.3993, -7.335, -7.6341, -6.881, -6.5441, -6.0242, -6.1752, -6.0936, -5.6229, -6.1292, -6.7416, -6.3228, -6.2704, -4.4992, -6.6963, -4.984, -6.5038, -6.9263, -6.7391, -6.361, -7.0744, -7.027, -5.4509, -5.3191, -6.1745, -6.2315, -5.5035, -5.1032, -4.5213, -4.5504, -5.1721, -5.9791, -5.883, -6.335, -5.3496, -5.2817, -5.3005, -5.2657, -5.6107, -5.7055, -5.5195, -5.3148, -5.2749, -5.42, -5.7051, -5.5787, -5.1429, -5.4694, -5.5407, -5.6778, -5.6521, -5.731, -5.8071, -5.7211, -5.779, -6.3703, -6.4783, -6.6302, -6.7891, -6.8005, -6.9389, -6.9927, -7.0074, -7.0886, -7.0886, -7.0908, -7.1191, -7.0902, -7.123, -7.1242, -7.126, -7.1391, -7.1432, -6.0963, -7.1705, -7.2508, -7.0893, -7.0894, -7.0633, -7.4878, -7.0888, -7.0896, -7.1578, -6.9476, -7.3427, -6.5582, -5.7863, -6.5983, -6.5636, -5.6476, -6.7305, -6.4214, -5.879, -6.7698, -6.3176, -6.4228, -5.6012, -5.5686, -5.4923, -6.1941, -6.3551, -5.7892, -5.4459, -5.6689, -5.3887, -4.5922, -5.1263, -6.015, -5.8722, -5.2903, -5.3292, -5.1523, -5.1953, -5.3725, -5.3776, -5.711, -5.5556, -5.5837, -5.4747, -5.265, -5.2983, -5.5399, -5.8555, -5.7819, -5.8082, -5.4026, -5.4973, -5.7082, -5.7302, -5.7145, -5.7789, -5.9418, -6.5112, -6.7978, -6.9873, -7.0178, -7.1002, -6.0766, -7.1457, -7.1725, -7.1782, -7.0589, -7.1752, -7.1734, -7.1781, -7.2234, -7.2237, -7.1992, -7.2759, -7.1928, -6.9785, -7.1927, -7.1519, -7.1709, -7.15, -7.1715, -7.1753, -6.5165, -7.2384, -6.3223, -7.798, -6.4028, -6.5117, -6.2534, -5.1288, -6.0391, -6.649, -4.411, -5.3123, -5.2963, -6.0821, -4.9539, -4.4692, -5.2875, -5.2026, -6.7387, -6.1924, -5.2075, -4.979, -6.2631, -5.0786, -6.0791, -5.2729, -6.1449, -4.6776, -5.2712, -5.2063, -5.838, -4.9028, -4.9364, -5.8567, -5.5012, -5.4081, -5.4063, -6.0005, -5.5886, -5.7119, -5.7553, -5.8186, -5.7086, -5.7939, -5.6882, -5.7945, -5.8831, -6.2531, -6.2749, -6.7225, -6.8617, -6.9125, -6.9116, -6.9222, -6.9132, -6.9117, -6.9268, -6.9383, -6.945, -6.8612, -6.9586, -7.0591, -7.0187, -6.9355, -6.9118, -6.9248, -6.5124, -6.7568, -6.2525, -6.9189, -6.9188, -6.9944, -6.928, -7.4742, -6.9131, -7.6034, -6.9309, -6.873, -6.7253, -6.2026, -4.5389, -5.403, -6.3047, -5.9752, -5.8773, -5.6971, -5.5364, -3.9427, -6.4237, -4.5636, -6.7027, -5.4286, -5.2693, -5.8244, -4.936, -6.3171, -5.6514, -6.0239, -5.7196, -6.2349, -4.9976, -5.6676, -6.4321, -5.4566, -5.7676, -4.9772, -5.7201, -5.8252, -5.5282, -5.7069, -5.679, -5.8495, -5.8168, -5.9324, -5.7495, -5.7022, -5.5031, -5.8128, -5.6836, -5.7941, -5.8343, -6.0755, -6.207, -6.2909, -6.3239, -6.7452, -6.8493, -6.8993, -6.7823, -6.9146, -6.1896, -7.0109, -7.0109, -7.0137, -7.0104, -7.04, -7.0833, -7.02, -7.0109, -7.0253, -7.029, -7.0413, -6.3273, -6.9478, -7.0116, -6.3477, -6.9984, -7.4694, -7.4819, -6.869, -7.4312, -7.0315, -6.5352, -7.0521, -5.2525, -4.9701, -5.8913, -6.0616, -6.6035, -5.1358, -6.3803, -5.3401, -6.3472, -6.5354, -6.3266, -5.8126, -5.7949, -5.9856, -5.6676, -5.9516, -5.6566, -6.0024, -5.447, -6.1027, -5.7334, -5.5624, -4.8999, -5.5983, -5.4041, -5.4915, -5.7521, -5.5469, -5.4598, -5.4396, -5.3289, -5.3905, -5.6299, -5.877, -5.935, -5.7249, -5.7873, -5.8064, -5.8839, -5.8402, -5.7402, -5.1794, -5.6268, -6.3359, -6.3963, -6.3034, -6.4095, -6.8518, -6.8784, -6.925, -6.985, -6.5645, -6.9264, -7.0687, -7.0695, -6.5976, -6.892, -7.0166, -7.0712, -7.0683, -7.0688, -7.0197, -7.0957, -7.0721, -5.8687, -7.1038, -7.1071, -7.1084, -7.0609, -6.4598, -7.3268, -7.1064, -6.8618, -6.0992, -4.4032, -6.4931, -3.8189, -6.1247, -5.9715, -5.373, -6.3544, -6.0816, -4.6796, -6.3809, -5.0943, -6.4261, -4.1324, -4.7433, -6.2827, -5.6103, -5.2439, -4.3884, -5.5927, -4.5027, -5.2546, -5.3838, -5.6098, -5.568, -5.1828, -5.9134, -5.5732, -5.63, -5.8143, -5.6044, -5.4863, -5.5368, -5.7952, -5.8009, -5.6886, -5.852, -5.8327, -5.8515, -5.7249, -5.8408, -5.8593, -5.9066, -6.1409, -6.4906, -6.6895, -6.7232, -6.7368, -6.7817, -6.8016, -6.8446, -6.8531, -6.9097, -6.7541, -6.8021, -6.8475, -6.8594, -7.5711, -7.5545, -7.6267, -7.6541, -6.5907, -7.3945, -7.8419, -6.2152, -7.117, -6.8074, -7.8956, -6.8019, -4.1339, -4.3942, -6.135, -5.6977, -3.4899, -5.1173, -3.4989, -5.2203, -4.5458, -4.3763, -4.7319, -4.5363, -5.0685, -5.3407, -5.1418, -5.0904, -5.995, -5.8531, -6.0856, -6.0266, -5.3212, -5.4394, -5.6888, -5.3478, -5.503, -5.1159, -5.2283, -5.4893, -5.8982, -5.4582, -5.7211, -5.8585], \"loglift\": [30.0, 29.0, 28.0, 27.0, 26.0, 25.0, 24.0, 23.0, 22.0, 21.0, 20.0, 19.0, 18.0, 17.0, 16.0, 15.0, 14.0, 13.0, 12.0, 11.0, 10.0, 9.0, 8.0, 7.0, 6.0, 5.0, 4.0, 3.0, 2.0, 1.0, 1.9069, 1.9067, 1.8906, 1.8847, 1.884, 1.8738, 1.8695, 1.8633, 1.8632, 1.8632, 1.8631, 1.8631, 1.8631, 1.8629, 1.8623, 1.862, 1.8617, 1.861, 1.8609, 1.8591, 1.8579, 1.8564, 1.8468, 1.8348, 1.8323, 1.8301, 1.8291, 1.8263, 1.8182, 1.8156, 1.8109, 1.7863, 1.7953, 1.7075, 1.6847, 1.6982, 1.6431, 1.641, 1.1984, 1.6957, 1.3994, 1.532, 1.5775, 1.555, 1.2926, 1.5134, 1.4673, 1.6453, 1.64, 1.5718, 1.413, 1.4275, 1.6518, 0.8165, 1.1764, 1.1212, 1.2889, 1.1925, 1.3747, 1.1462, 0.8802, 1.2254, 1.2645, 0.7755, 1.2133, 1.3187, 1.1083, 0.7917, 0.7017, 0.9196, 0.45, 0.3802, 0.4374, 0.4782, -0.246, 0.7079, 0.4805, 1.0403, 0.7331, 0.0377, 0.6244, 0.194, 0.2735, 0.3934, 2.0272, 1.997, 1.9946, 1.9945, 1.9871, 1.975, 1.9716, 1.9643, 1.9575, 1.9566, 1.9503, 1.9502, 1.9499, 1.9482, 1.9448, 1.9434, 1.9402, 1.9387, 1.938, 1.9339, 1.9317, 1.9314, 1.9312, 1.9255, 1.9239, 1.9238, 1.9208, 1.9195, 1.9142, 1.9084, 1.8954, 1.8914, 1.8502, 1.8581, 1.884, 1.8669, 1.7987, 1.7593, 1.8496, 1.5429, 1.7611, 1.7952, 1.8512, 1.7614, 1.4926, 1.442, 1.0603, 1.3466, 1.544, 1.002, 0.5916, 1.4621, 1.5526, 0.4499, 0.9875, 0.5086, 0.8962, 0.8121, 1.3938, 0.6208, 0.8038, 1.1051, 0.8164, 0.4865, 0.5644, 0.5634, 0.441, 0.6426, 0.5283, 0.7212, 0.1022, 0.7703, 0.5812, -0.181, 0.6547, 0.6327, 0.3163, 0.44, 0.2837, 0.1192, 2.0432, 2.0422, 2.038, 2.0017, 1.9892, 1.9872, 1.9804, 1.9796, 1.977, 1.9755, 1.975, 1.9702, 1.97, 1.9699, 1.9695, 1.9692, 1.969, 1.9686, 1.9685, 1.9682, 1.9679, 1.9674, 1.9672, 1.9671, 1.967, 1.9664, 1.9656, 1.9635, 1.9621, 1.9604, 1.9177, 1.8801, 1.8085, 1.6946, 1.7423, 1.8244, 1.8556, 1.7282, 1.9194, 1.5329, 1.7732, 1.759, 1.7555, 1.3363, 1.0568, 1.5565, 1.8753, 1.2751, 1.6598, 1.2155, 1.2468, 1.2391, 0.7599, 1.2934, 1.1205, 0.9945, 0.2982, 0.4024, 0.8861, 1.3511, 0.8388, 1.1439, 0.1081, 0.6584, 0.8555, 0.0054, 0.538, 0.4554, 0.0251, 0.5435, 0.5938, 0.3788, 0.7526, 0.6558, 0.3922, 0.2333, 0.0665, 0.2137, 0.1097, -0.0968, 0.0951, 0.096, 0.683, 2.1271, 2.1209, 2.0987, 2.0915, 2.0895, 2.0873, 2.0845, 2.0817, 2.0799, 2.0796, 2.0786, 2.0774, 2.0761, 2.0753, 2.0752, 2.0746, 2.074, 2.0732, 2.0692, 2.0652, 2.0651, 2.0646, 2.0628, 2.0623, 2.0618, 2.059, 2.0589, 2.0587, 2.0558, 2.0504, 2.0459, 2.0089, 1.9715, 1.9259, 1.8899, 1.7856, 1.8277, 1.9405, 1.8083, 1.7624, 1.2517, 1.8782, 1.3272, 1.7983, 1.928, 1.847, 1.696, 1.9774, 1.9575, 1.2512, 1.1731, 1.5656, 1.5903, 1.2295, 0.9347, 0.5019, 0.4641, 0.8588, 1.337, 1.2538, 1.5912, 0.7602, 0.6456, 0.6344, 0.5899, 0.9084, 0.9888, 0.7552, 0.3325, 0.2012, 0.2935, 0.7477, 0.4465, -0.4274, 0.2314, 0.3386, 0.4758, 0.3768, 0.2913, 0.1595, -1.0778, -1.0283, 2.3074, 2.3025, 2.2953, 2.286, 2.2854, 2.2768, 2.272, 2.2717, 2.2657, 2.2657, 2.2655, 2.2632, 2.2629, 2.2628, 2.2627, 2.2627, 2.2615, 2.2611, 2.2608, 2.2585, 2.2517, 2.2438, 2.2431, 2.2314, 2.2236, 2.2211, 2.2184, 2.2112, 2.2111, 2.1953, 2.1748, 2.101, 2.1414, 2.1124, 1.8991, 2.1314, 2.0421, 1.8548, 2.1267, 1.9291, 1.9573, 1.4005, 1.3726, 1.3212, 1.7286, 1.8169, 1.4199, 1.0234, 1.1437, 0.8601, 0.1233, 0.5871, 1.3391, 1.1963, 0.5889, 0.6032, 0.3239, 0.3487, 0.5547, 0.3942, 0.8366, 0.4824, 0.4415, 0.2261, -0.2418, -0.2838, 0.2509, 0.8978, 0.644, 0.7144, -0.6519, -0.854, 0.0428, 0.1057, -0.0672, 0.3309, 2.3319, 2.3257, 2.3146, 2.3013, 2.2941, 2.2924, 2.2897, 2.2876, 2.2862, 2.2856, 2.285, 2.2845, 2.2845, 2.282, 2.2815, 2.2814, 2.2727, 2.2716, 2.2637, 2.26, 2.2536, 2.2536, 2.2427, 2.242, 2.2354, 2.2326, 2.229, 2.2217, 2.2146, 2.2111, 2.2102, 2.1837, 2.1453, 2.0135, 2.0187, 2.1383, 1.6179, 1.8211, 1.8058, 1.9729, 1.6108, 1.4633, 1.6481, 1.439, 2.097, 1.8097, 1.3116, 1.1223, 1.7148, 0.888, 1.5541, 0.9375, 1.5913, 0.3369, 0.808, 0.5656, 1.2317, -0.1872, -0.293, 1.1224, 0.5198, 0.2927, 0.1377, 1.318, 0.1702, 0.3104, 0.4628, 0.5507, 0.0049, 0.0853, -0.9375, -0.0325, 2.4125, 2.3996, 2.3992, 2.3772, 2.368, 2.3645, 2.364, 2.3637, 2.3636, 2.3635, 2.3631, 2.3627, 2.3621, 2.3599, 2.3561, 2.3531, 2.3504, 2.3503, 2.3474, 2.3462, 2.3345, 2.3333, 2.3303, 2.325, 2.3216, 2.3147, 2.3114, 2.311, 2.3002, 2.2944, 2.2715, 2.2625, 2.2495, 2.1703, 1.8822, 1.9297, 2.1522, 2.0237, 1.9302, 1.863, 1.7815, 1.0804, 2.1193, 1.1372, 2.2341, 1.5279, 1.4052, 1.7161, 1.1738, 1.971, 1.5232, 1.745, 1.5005, 1.8389, 0.753, 1.3316, 1.9821, 0.9127, 1.168, 0.0373, 1.042, 1.0808, 0.497, 0.7624, 0.6522, 1.0103, 0.8192, 1.2219, 0.4609, 0.225, -0.7876, 0.5319, -1.0403, 0.2438, -0.0435, 2.4382, 2.4359, 2.4325, 2.431, 2.4082, 2.4011, 2.3973, 2.3967, 2.3962, 2.3933, 2.3885, 2.3885, 2.3882, 2.3875, 2.386, 2.3818, 2.377, 2.3767, 2.3691, 2.3658, 2.362, 2.3617, 2.3527, 2.3488, 2.3482, 2.345, 2.3408, 2.3391, 2.3356, 2.333, 2.3229, 2.2638, 2.2974, 2.0349, 1.9399, 2.1137, 2.0296, 2.2011, 1.6098, 2.0864, 1.6187, 2.0373, 2.0943, 1.9704, 1.5709, 1.4935, 1.5892, 1.3242, 1.5535, 1.3048, 1.555, 1.0317, 1.571, 1.145, 0.8482, -0.1843, 0.771, 0.4318, 0.5295, 0.9489, 0.4807, 0.2719, 0.1044, -0.3057, -0.376, 0.1609, 0.9893, 1.197, 0.1307, -0.0738, -0.0346, 0.6468, 0.1886, -1.0969, 2.6065, 2.5875, 2.5699, 2.5663, 2.5464, 2.536, 2.5349, 2.533, 2.5288, 2.5231, 2.5197, 2.5196, 2.515, 2.5149, 2.5121, 2.5094, 2.5084, 2.5069, 2.5043, 2.5038, 2.5, 2.4989, 2.4987, 2.4818, 2.4779, 2.4748, 2.4739, 2.4709, 2.4665, 2.4587, 2.4572, 2.4526, 2.4268, 2.2766, 2.3878, 1.8377, 2.2869, 2.2417, 2.0986, 2.3296, 2.2178, 1.7832, 2.3024, 1.5635, 2.1785, 0.6183, 1.0187, 2.0269, 1.4802, 1.1216, 0.255, 1.3564, 0.2128, 0.9325, 0.8628, 1.0571, 0.7125, -0.1683, 1.3502, 0.4543, 0.5417, 0.9873, 0.3622, -0.0101, 0.0072, 0.8492, 0.7293, -0.0414, 0.731, 0.3854, 0.0721, 2.8284, 2.8239, 2.8232, 2.821, 2.8096, 2.7871, 2.7703, 2.7671, 2.7662, 2.7614, 2.7598, 2.7551, 2.7544, 2.7439, 2.7261, 2.7105, 2.709, 2.6573, 2.6495, 2.6473, 2.6386, 2.6329, 2.6153, 2.6069, 2.5909, 2.586, 2.584, 2.5794, 2.5777, 2.5704, 2.5583, 2.5522, 2.5635, 2.5505, 2.2974, 2.412, 2.2329, 2.3823, 2.2039, 2.1525, 2.0732, 1.8792, 2.0673, 2.0436, 1.7682, 1.7259, 2.2237, 2.0405, 2.1368, 1.9919, 1.1464, 1.2351, 1.3031, 0.6901, 0.5762, -0.4726, -0.2138, 0.2241, 1.5702, -0.7426, 0.2138, 0.3902]}, \"token.table\": {\"Topic\": [1, 2, 3, 6, 7, 10, 2, 3, 4, 9, 5, 3, 4, 9, 2, 4, 6, 1, 3, 4, 5, 7, 8, 9, 10, 1, 4, 5, 6, 7, 8, 10, 1, 2, 3, 4, 5, 6, 7, 8, 9, 10, 5, 5, 10, 1, 2, 3, 4, 5, 6, 7, 8, 9, 10, 1, 2, 3, 4, 5, 6, 7, 8, 9, 10, 1, 2, 3, 4, 5, 6, 7, 8, 9, 10, 10, 1, 2, 4, 5, 8, 9, 10, 5, 1, 6, 3, 8, 2, 3, 4, 5, 1, 2, 3, 4, 5, 6, 7, 8, 9, 10, 2, 1, 2, 3, 1, 2, 3, 4, 5, 7, 8, 9, 10, 1, 2, 3, 4, 5, 6, 7, 8, 9, 10, 3, 4, 5, 6, 7, 8, 9, 10, 1, 2, 4, 8, 9, 10, 1, 2, 3, 4, 5, 6, 7, 8, 9, 10, 2, 3, 4, 5, 6, 7, 8, 9, 10, 9, 4, 6, 4, 2, 8, 9, 10, 1, 2, 3, 4, 5, 6, 7, 8, 9, 10, 2, 3, 4, 5, 6, 7, 8, 9, 4, 3, 3, 8, 1, 3, 8, 4, 10, 2, 3, 4, 6, 8, 10, 4, 9, 1, 2, 4, 5, 6, 10, 1, 1, 2, 3, 4, 5, 6, 7, 8, 9, 10, 2, 5, 5, 8, 7, 1, 2, 3, 4, 5, 6, 7, 8, 9, 10, 2, 1, 2, 3, 4, 5, 6, 7, 8, 9, 10, 6, 2, 3, 7, 5, 1, 2, 3, 4, 5, 6, 7, 8, 9, 10, 6, 3, 8, 4, 6, 6, 9, 1, 2, 3, 4, 5, 7, 9, 10, 1, 1, 2, 3, 4, 5, 6, 7, 8, 9, 10, 6, 4, 7, 7, 4, 1, 2, 3, 4, 5, 6, 7, 8, 9, 10, 3, 4, 5, 3, 6, 2, 4, 8, 3, 4, 2, 6, 1, 2, 3, 4, 5, 6, 7, 8, 9, 10, 1, 2, 3, 4, 5, 6, 7, 8, 9, 10, 2, 4, 6, 10, 1, 4, 5, 1, 2, 3, 4, 5, 6, 7, 8, 9, 10, 4, 1, 2, 3, 4, 5, 6, 7, 8, 9, 10, 8, 9, 5, 7, 8, 9, 10, 5, 6, 9, 1, 2, 3, 4, 5, 6, 7, 8, 9, 10, 1, 1, 2, 3, 4, 5, 6, 7, 8, 9, 10, 2, 1, 2, 5, 6, 8, 9, 1, 2, 3, 4, 5, 6, 7, 8, 9, 10, 2, 1, 2, 3, 4, 5, 6, 7, 8, 9, 10, 2, 1, 1, 2, 4, 5, 6, 7, 8, 9, 10, 1, 4, 5, 2, 3, 5, 6, 7, 8, 9, 7, 3, 10, 1, 2, 3, 4, 5, 6, 7, 8, 9, 10, 3, 6, 1, 2, 4, 7, 10, 2, 4, 6, 7, 1, 2, 3, 4, 5, 6, 7, 8, 9, 10, 6, 6, 8, 1, 5, 9, 10, 10, 9, 1, 2, 3, 4, 5, 6, 8, 9, 10, 3, 1, 2, 3, 4, 5, 6, 7, 8, 9, 10, 1, 2, 3, 4, 5, 6, 7, 8, 9, 10, 1, 2, 3, 4, 5, 6, 7, 9, 10, 1, 2, 3, 4, 5, 6, 7, 8, 9, 10, 7, 7, 9, 7, 9, 1, 2, 3, 4, 5, 6, 7, 8, 9, 10, 3, 1, 2, 3, 4, 5, 6, 7, 8, 9, 10, 3, 4, 5, 6, 7, 8, 9, 10, 6, 1, 6, 3, 8, 2, 5, 6, 1, 2, 5, 6, 7, 1, 2, 3, 4, 5, 6, 7, 8, 9, 10, 1, 4, 5, 6, 9, 10, 1, 2, 3, 4, 5, 6, 7, 8, 9, 10, 3, 1, 2, 3, 4, 5, 6, 7, 8, 9, 10, 1, 10, 4, 5, 6, 7, 6, 3, 1, 8, 8, 1, 2, 3, 4, 7, 9, 1, 4, 1, 2, 3, 4, 5, 6, 7, 8, 9, 10, 5, 2, 4, 1, 1, 3, 10, 2, 4, 6, 3, 9, 1, 2, 3, 4, 5, 6, 7, 8, 9, 10, 1, 2, 1, 1, 4, 5, 10, 5, 1, 2, 9, 6, 10, 8, 1, 2, 3, 4, 5, 6, 7, 9, 10, 1, 3, 4, 5, 6, 7, 8, 9, 10, 1, 2, 3, 4, 6, 7, 8, 10, 7, 1, 2, 3, 4, 5, 6, 7, 8, 9, 5, 6, 10, 1, 2, 4, 7, 9, 6, 1, 4, 5, 7, 9, 10, 1, 2, 3, 4, 5, 6, 8, 9, 10, 1, 2, 4, 5, 7, 8, 9, 10, 1, 1, 2, 3, 4, 5, 6, 7, 8, 9, 10, 8, 9, 5, 1, 3, 1, 2, 3, 4, 5, 6, 7, 8, 9, 10, 6, 5, 9, 9, 1, 10, 10, 1, 1, 2, 3, 5, 7, 8, 9, 10, 7, 9, 8, 2, 7, 1, 2, 3, 4, 5, 6, 7, 8, 9, 10, 2, 5, 1, 2, 3, 4, 5, 6, 7, 8, 9, 10, 3, 4, 8, 1, 2, 3, 5, 6, 7, 8, 9, 10, 5, 1, 2, 3, 4, 5, 6, 7, 8, 9, 1, 2, 3, 5, 7, 8, 9, 10, 3, 2, 1, 5, 6, 7, 8, 10, 2, 5, 10, 2, 4, 5, 1, 2, 3, 4, 5, 6, 7, 8, 9, 10, 2, 5, 10, 10, 1, 2, 3, 5, 8, 10, 4, 8, 10, 1, 3, 6, 8, 9, 1, 2, 3, 4, 6, 7, 8, 9, 4, 2, 3, 4, 5, 6, 7, 8, 9, 10, 1, 4, 10, 7, 3, 1, 6, 7, 9, 1, 2, 3, 4, 5, 6, 7, 8, 9, 10, 3, 1, 2, 3, 4, 5, 6, 7, 8, 9, 10, 4, 1, 2, 3, 4, 5, 6, 7, 8, 9, 10, 6, 7, 8, 2, 3, 4, 5, 6, 7, 8, 10, 1, 2, 3, 9, 1, 2, 3, 4, 5, 6, 7, 8, 9, 10, 10, 5, 6, 9, 5, 5, 7, 2, 3, 4, 6, 7, 8, 10, 10, 1, 2, 3, 5, 6, 4, 2, 8, 1, 7, 1, 2, 3, 4, 5, 6, 7, 8, 9, 10, 6, 1, 2, 3, 4, 5, 6, 7, 8, 9, 10, 1, 2, 3, 4, 5, 6, 7, 8, 9, 5, 6, 1, 2, 3, 4, 5, 6, 7, 8, 9, 10, 1, 2, 3, 4, 5, 6, 7, 8, 9, 10, 1, 2, 3, 4, 5, 8, 5, 7, 10, 3, 2, 1, 2, 8, 1, 2, 3, 4, 5, 6, 7, 7, 1, 2, 3, 5, 9, 10, 1, 2, 3, 5, 6, 7, 9, 4, 2, 4, 6, 2, 6, 5, 8, 3, 3, 2, 3, 4, 5, 8, 3, 9, 4, 2, 2, 10, 5, 7, 2, 4, 7, 8, 1, 2, 3, 4, 6, 7, 8, 9, 3, 7, 1, 2, 3, 4, 5, 6, 7, 10, 1, 2, 3, 6, 9, 1, 2, 3, 4, 5, 6, 7, 8, 10, 2, 10, 5, 4, 1, 1, 2, 3, 4, 5, 6, 7, 8, 9, 10, 1, 2, 3, 4, 5, 6, 7, 8, 9, 10, 3, 1, 3, 5, 2, 8, 6, 3, 1, 2, 3, 4, 6, 7, 10, 1, 2, 3, 4, 5, 6, 7, 8, 9, 10, 1, 10, 4, 4, 9, 1, 2, 3, 4, 5, 6, 7, 8, 9, 10, 3, 9, 2, 6, 2, 5, 9, 5, 1, 2, 3, 4, 5, 6, 7, 8, 9, 10, 10, 1, 2, 3, 4, 5, 6, 7, 8, 9, 10, 1, 2, 3, 4, 5, 6, 7, 8, 9, 10, 1, 2, 3, 4, 5, 6, 7, 8, 9, 10, 3, 8, 1, 2, 3, 4, 5, 6, 7, 8, 9, 10, 1, 2, 3, 4, 5, 6, 7, 8, 9, 10, 2, 1, 2, 3, 4, 5, 6, 7, 8, 1, 2, 3, 4, 5, 6, 7, 8, 9, 10, 7, 1, 2, 3, 4, 5, 6, 7, 8, 9, 10, 1, 2, 3, 4, 5, 6, 7, 8, 9, 10, 1, 3, 8, 1, 2, 3, 4, 5, 8, 9, 10, 1, 2, 3, 4, 5, 6, 7, 8, 9, 2, 3, 5, 8, 9, 10, 1, 4, 1, 2, 3, 4, 5, 6, 7, 8, 9, 10, 9, 10, 1, 2, 3, 4, 5, 6, 7, 8, 9, 10, 2, 4, 5, 7, 9, 1, 2, 3, 5, 7, 9, 10, 1, 2, 3, 4, 5, 6, 7, 8, 9, 10, 3, 4, 7, 9, 9, 2, 6, 8, 7, 1, 2, 3, 4, 5, 6, 7, 8, 9, 10, 2, 1, 2, 3, 4, 5, 6, 7, 8, 9, 10, 2, 4, 6, 7, 8, 9, 9, 5, 1, 2, 3, 4, 5, 6, 7, 8, 9, 10, 7, 1, 2, 3, 4, 5, 6, 7, 8, 9, 10, 1, 2, 3, 4, 5, 6, 7, 8, 9, 10, 8, 2, 6, 9, 10, 3, 1, 2, 3, 4, 5, 6, 7, 8, 9, 10, 1, 2, 3, 4, 5, 6, 7, 8, 9, 10, 10, 10, 8, 1, 3, 4, 5, 6, 7, 8, 9, 10, 4, 8, 9, 10, 7, 8, 2, 8, 1, 2, 3, 5, 6, 7, 8, 9, 10, 1, 2, 3, 4, 5, 6, 7, 8, 9, 10, 1, 2, 3, 4, 5, 6, 7, 8, 9, 10, 9, 1, 1, 2, 3, 4, 5, 6, 7, 8, 9, 10, 4, 5, 6, 7, 9, 10, 5, 8, 8, 1, 2, 3, 4, 5, 6, 7, 8, 9, 10, 2, 9, 10, 8, 2, 3, 5, 2, 1, 3, 5, 6, 7, 9, 2, 3, 4, 6, 7, 8, 4, 8, 1, 2, 3, 4, 5, 6, 7, 8, 9, 10, 1, 2, 3, 4, 5, 6, 7, 8, 9, 10, 2, 5, 6, 7, 9, 10, 1, 2, 3, 4, 5, 6, 7, 8, 9, 10, 5, 1, 2, 3, 4, 8, 7, 3, 5, 6, 7, 8, 4, 2, 6, 7, 1, 2, 3, 4, 6, 8, 9, 1, 2, 3, 4, 5, 6, 7, 8, 9, 10, 1, 2, 3, 4, 5, 6, 7, 8, 9, 10, 8, 2, 3, 4, 5, 6, 7, 8, 10, 7, 1, 2, 3, 4, 5, 6, 7, 8, 9, 10, 6, 8, 1, 2, 3, 4, 5, 6, 7, 8, 9, 10, 3, 10, 4, 8, 8, 1, 2, 3, 4, 5, 6, 7, 8, 9, 10, 4, 1, 2, 3, 4, 5, 10, 1, 3, 1, 2, 3, 4, 5, 7, 8, 9, 1, 2, 3, 4, 5, 6, 7, 8, 9, 10, 1, 3, 4, 5, 9, 1, 2, 3, 4, 5, 9, 10, 3, 8, 9, 1, 2, 3, 4, 7, 8, 9, 10, 1, 2, 3, 4, 6, 7, 8, 9, 10, 1, 2, 3, 4, 5, 6, 7, 8, 9, 10, 9, 4, 1, 2, 3, 5, 7, 9, 4, 5, 4, 8, 6, 1, 2, 3, 4, 5, 6, 7, 8, 9, 10, 1, 2, 3, 5, 6, 7, 8, 9, 10, 2, 6, 7, 1, 3, 4, 5, 6, 7, 3, 1, 4, 6, 10, 1, 2, 3, 4, 5, 6, 7, 8, 9, 10, 8, 7, 1, 2, 3, 4, 5, 6, 7, 8, 9, 10, 2, 4, 6, 7, 9, 5, 6, 3, 5, 7, 8, 1, 2, 3, 4, 5, 6, 7, 8, 9, 10, 3, 4, 6, 2, 3, 9, 5, 7, 9, 1, 2, 3, 4, 5, 7, 8, 9, 10, 5, 2, 3, 4, 5, 6, 7, 8, 2, 4, 10, 3, 1, 3, 4, 7, 1, 2, 3, 4, 5, 6, 7, 8, 9, 10, 2, 5, 10, 9, 1, 8, 1, 5, 7, 1, 2, 3, 4, 5, 6, 7, 8, 9, 10, 1, 2, 3, 4, 5, 6, 7, 8, 9, 10, 1, 2, 4, 6, 7, 8, 9, 10, 6, 7, 8, 8, 9, 1, 2, 3, 8, 2, 3, 4, 5, 6, 8, 10, 1, 2, 3, 4, 5, 6, 7, 8, 9, 10, 9, 1, 2, 3, 4, 5, 6, 7, 8, 9, 10, 1, 1, 2, 3, 4, 8, 9, 4, 5, 3, 6, 8, 1, 2, 4, 5, 6, 8, 10, 2, 3, 9, 10, 4, 5, 1, 2, 3, 4, 5, 6, 8, 10, 1, 2, 3, 4, 5, 6, 7, 8, 9, 4, 6, 1, 4, 9, 6, 2, 1, 7, 9, 7, 1, 2, 3, 4, 5, 6, 7, 8, 9, 10, 2, 4, 5, 6, 9, 10, 1, 2, 3, 4, 5, 6, 7, 8, 9, 10, 3, 9, 2, 1, 2, 1, 2, 3, 4, 5, 6, 7, 8, 9, 10, 2, 4, 1, 2, 3, 4, 5, 6, 8, 10, 1, 2, 3, 4, 5, 6, 7, 8, 9, 10, 1, 2, 3, 4, 6, 7, 8, 9, 10, 2, 9, 10, 10, 3, 4, 7, 9, 10, 2, 5, 9, 1, 3, 4, 5, 7, 1, 3, 7, 8, 1, 3, 4, 6, 8, 9, 7, 2, 7, 10, 1, 2, 3, 4, 5, 6, 7, 8, 9, 10, 2, 3, 4, 5, 7, 8, 9, 10, 1, 2, 3, 4, 5, 6, 7, 8, 9, 10, 10, 2, 3, 4, 5, 6, 7, 8, 10, 1, 2, 3, 4, 6, 8, 9, 10, 1, 2, 3, 5, 8, 9, 10, 1, 2, 3, 4, 5, 6, 7, 8, 9, 10, 1, 2, 3, 4, 5, 6, 7, 8, 9, 10, 5, 1, 2, 3, 4, 7, 8, 9, 10, 1, 2, 3, 4, 5, 6, 7, 8, 9, 10, 6, 8, 1, 2, 3, 4, 5, 6, 7, 8, 9, 10, 1, 2, 3, 4, 5, 6, 7, 8, 9, 10, 9, 5, 9, 9, 1, 10, 5, 5, 6, 1, 3, 8, 1, 2, 3, 4, 5, 6, 7, 8, 10, 1, 3, 5, 6, 7, 8, 9, 1, 2, 3, 6, 2, 9, 1, 2, 3, 4, 5, 6, 7, 10, 1, 2, 3, 4, 5, 6, 7, 8, 9, 10, 1, 2, 3, 4, 5, 6, 7, 8, 9, 10, 1, 2, 3, 5, 6, 8, 2, 1, 2, 3, 4, 5, 6, 7, 8, 9, 10, 3, 6, 4, 6, 8, 2, 7, 2, 6, 5, 6, 1, 2, 3, 9, 10, 6, 7, 10, 1, 2, 3, 4, 5, 6, 7, 8, 9, 10, 1, 2, 3, 4, 5, 6, 7, 8, 9, 10, 1, 2, 3, 4, 5, 6, 7, 8, 9, 10, 3, 1, 2, 3, 4, 7, 1, 5, 1, 2, 3, 4, 9, 1, 2, 4, 5, 6, 9, 5, 1, 10, 3, 2, 9, 9, 8, 1, 2, 3, 4, 5, 6, 7, 8, 9, 10, 1, 2, 3, 4, 5, 6, 7, 8, 9, 10, 1, 2, 3, 4, 5, 6, 7, 8, 9, 10, 1, 2, 3, 4, 5, 6, 7, 8, 10, 8, 3, 8, 1, 2, 3, 4, 5, 6, 7, 8, 9, 10, 1, 2, 3, 4, 5, 6, 7, 8, 9, 10, 1, 2, 3, 4, 5, 6, 10, 1, 2, 3, 4, 5, 6, 7, 8, 9, 10, 1, 2, 3, 4, 5, 6, 7, 8, 9, 10, 1, 2, 3, 4, 5, 6, 7, 8, 9, 10, 6, 1, 7, 3, 6, 7, 1, 2, 3, 4, 5, 6, 7, 8, 9, 10, 1, 2, 3, 4, 5, 6, 7, 8, 9, 10, 3, 3, 7, 8, 4, 3, 7, 1, 2, 3, 4, 5, 6, 7, 8, 9, 10, 1, 2, 3, 4, 5, 6, 7, 8, 9, 10, 10, 2, 6, 7, 8, 10, 7, 1, 2, 3, 4, 5, 6, 7, 8, 9, 10, 1, 2, 3, 4, 5, 6, 7, 8, 9, 10, 6, 1, 2, 3, 4, 5, 6, 7, 8, 9, 10], \"Freq\": [0.03671484101017218, 0.03671484101017218, 0.03671484101017218, 0.11014452303051654, 0.7342968202034436, 0.03671484101017218, 0.05462846358028392, 0.05462846358028392, 0.7647984901239749, 0.05462846358028392, 0.9385997540713298, 0.17544641320838303, 0.10526784792502983, 0.7017856528335321, 0.08084044324918668, 0.8488246541164602, 0.04042022162459334, 0.00958779594614121, 0.2013437148689654, 0.07190846959605908, 0.00958779594614121, 0.570473858795402, 0.00958779594614121, 0.11505355135369452, 0.014381693919211815, 0.08963955331315177, 0.555765230541541, 0.03585582132526071, 0.07171164265052142, 0.2330628386141946, 0.017927910662630355, 0.017927910662630355, 0.4964062394382413, 0.17795695376087894, 0.08429539914989002, 0.11239386553318671, 0.018732310922197785, 0.018732310922197785, 0.009366155461098893, 0.04683077730549446, 0.018732310922197785, 0.018732310922197785, 0.9007125611400881, 0.8658561179112985, 0.10823201473891231, 0.09608354439263582, 0.35230632943966467, 0.2277535867084701, 0.08184894522335644, 0.04270379750783814, 0.06405569626175722, 0.024910548546238916, 0.0391451477155183, 0.04626244730015799, 0.02135189875391907, 0.09379453056415386, 0.22963488517430775, 0.10996600135107695, 0.08732594224938464, 0.07115447146246155, 0.0808573539346154, 0.04528011820338462, 0.13584035461015387, 0.11320029550846157, 0.03234294157384616, 0.07106517240286703, 0.2043123706582427, 0.30646855598736406, 0.0843898922284046, 0.10659775860430054, 0.017766293100716757, 0.14657191808091324, 0.026649439651075135, 0.022207866375895946, 0.008883146550358378, 0.850467725584256, 0.03168412759510924, 0.03168412759510924, 0.09505238278532772, 0.1584206379755462, 0.09505238278532772, 0.5386301691168571, 0.06336825519021848, 0.8734638810500474, 0.1001144249674698, 0.9010298247072283, 0.9124786712852139, 0.053675215957953756, 0.08903072697070143, 0.7122458157656114, 0.13354609045605215, 0.04451536348535071, 0.023505727835993504, 0.023505727835993504, 0.04701145567198701, 0.07051718350798052, 0.04701145567198701, 0.1527872309339578, 0.5171260123918572, 0.09402291134397402, 0.011752863917996752, 0.023505727835993504, 0.9750385484230127, 0.06705930503677189, 0.8047116604412626, 0.06705930503677189, 0.37753833034994483, 0.00943845825874862, 0.39641524686744206, 0.028315374776245864, 0.00943845825874862, 0.08494612432873759, 0.01887691651749724, 0.047192291293743104, 0.01887691651749724, 0.056306200606313826, 0.18299515197051994, 0.07742102583368152, 0.021114825227367684, 0.021114825227367684, 0.007038275075789228, 0.007038275075789228, 0.16188032674315225, 0.007038275075789228, 0.4504496048505106, 0.4662474156317753, 0.04907867532966056, 0.06134834416207569, 0.01226966883241514, 0.11042701949173625, 0.06134834416207569, 0.20858437015105735, 0.03680900649724542, 0.03124751100439288, 0.01562375550219644, 0.06249502200878576, 0.14061379951976796, 0.14061379951976796, 0.6093264645856611, 0.11360852376001329, 0.040097126032945865, 0.25394846487532385, 0.013365708677648623, 0.2338999018588509, 0.08019425206589173, 0.11360852376001329, 0.020048563016472933, 0.12029137809883761, 0.013365708677648623, 0.0940043939900451, 0.1965546419791852, 0.02563756199728503, 0.16237122598280518, 0.017091707998190018, 0.3332883059647053, 0.017091707998190018, 0.08545853999095009, 0.07691268599185508, 0.9535813043986261, 0.06706543322654117, 0.9053833485583058, 0.91199924069853, 0.02903861475769473, 0.2903861475769473, 0.17423168854616838, 0.4936564508808104, 0.04544289198332672, 0.11360722995831679, 0.11360722995831679, 0.10603341462776235, 0.06816433797499008, 0.11360722995831679, 0.053016707313881174, 0.26508353656940586, 0.04544289198332672, 0.06816433797499008, 0.04178890379223357, 0.44296238019767586, 0.11700893061825401, 0.1587978344104876, 0.18387117668582773, 0.03343112303378686, 0.01671556151689343, 0.008357780758446716, 0.8991383458419238, 0.9160748210157176, 0.04164235898393521, 0.9161318976465745, 0.09386512271650782, 0.28159536814952346, 0.5944791105378828, 0.10594360466276222, 0.8475488373020977, 0.06485063875793352, 0.1702329267395755, 0.00810632984474169, 0.00810632984474169, 0.01621265968948338, 0.7295696860267521, 0.8830378081552533, 0.9740511938427117, 0.8417529069390055, 0.030062603819250196, 0.06012520763850039, 0.030062603819250196, 0.030062603819250196, 0.030062603819250196, 0.9218274655548563, 0.07191900358226223, 0.24572326223939595, 0.02397300119408741, 0.07191900358226223, 0.10188525507487149, 0.04794600238817482, 0.10188525507487149, 0.13784475686600262, 0.16781100835861187, 0.03595950179113112, 0.8618536770897688, 0.06629643669921298, 0.9303506300611265, 0.06645361643293761, 0.9008592733166072, 0.02935968052922782, 0.14327524098263175, 0.18907634260822714, 0.18203001928121249, 0.07163762049131588, 0.1291825943286024, 0.09042781603002169, 0.057544973837286524, 0.06106813550079386, 0.0458011016255954, 0.9123949649564306, 0.15614926405713206, 0.02927798701071226, 0.05855597402142452, 0.2927798701071226, 0.04879664501785377, 0.07807463202856603, 0.019518658007141507, 0.28302054110355185, 0.019518658007141507, 0.009759329003570754, 0.9043877705448237, 0.20007739773963423, 0.04001547954792685, 0.7202786318626833, 0.9322016811960447, 0.09283673280599823, 0.05304956160342756, 0.06631195200428446, 0.059680756803856004, 0.06631195200428446, 0.17241107521113958, 0.03315597600214223, 0.41776529762699205, 0.006631195200428445, 0.03315597600214223, 0.8887677045637759, 0.7770984386724031, 0.18284669145233015, 0.886205626723217, 0.8913495343606569, 0.15736394887590197, 0.8261607315984854, 0.07559670417528873, 0.17639230974234038, 0.138593957654696, 0.3086865420490956, 0.06299725347940728, 0.1133950562629331, 0.08189642952322945, 0.05039780278352582, 0.886177221200686, 0.12037839265049757, 0.12426156660696523, 0.1708596540845772, 0.031065391651741308, 0.05824760934701496, 0.23687361134452747, 0.13979426243283588, 0.04659808747761197, 0.06989713121641794, 0.007766347912935327, 0.8772687898652497, 0.8887765358609253, 0.9140793234274603, 0.9450745717936567, 0.9129371519179762, 0.03765416255608684, 0.07530832511217368, 0.13806526270565175, 0.06275693759347807, 0.0878597126308693, 0.05020555007478245, 0.05020555007478245, 0.4016444005982596, 0.03765416255608684, 0.03765416255608684, 0.8670286725058216, 0.05780191150038811, 0.05780191150038811, 0.09502290478279174, 0.8552061430451257, 0.05197800414991699, 0.15593401244975097, 0.7796700622487549, 0.0587374791390808, 0.881062187086212, 0.9383265956298162, 0.8741254618239859, 0.016017928099493137, 0.06407171239797255, 0.21357237465990847, 0.0907682592304611, 0.021357237465990848, 0.005339309366497712, 0.016017928099493137, 0.08542894986396339, 0.005339309366497712, 0.4912164617177895, 0.0868813017322289, 0.061327977693338045, 0.2964185588511339, 0.13287728500223245, 0.09199196654000708, 0.07154930730889439, 0.035774653654447194, 0.0868813017322289, 0.12265595538667609, 0.010221329615556341, 0.747343317709478, 0.04396137162996929, 0.04396137162996929, 0.08792274325993858, 0.8898377492722974, 0.9236401049068017, 0.9010160951327868, 0.13836007231670971, 0.13836007231670971, 0.011068805785336778, 0.027672014463341943, 0.016603208678005167, 0.46488984298414465, 0.13282566942404134, 0.04427522314134711, 0.011068805785336778, 0.005534402892668389, 0.934156197105765, 0.28701562287058285, 0.16742578000783997, 0.03986328095424762, 0.16742578000783997, 0.02391796857254857, 0.09168554619476951, 0.043849609049672375, 0.03986328095424762, 0.09965820238561904, 0.03986328095424762, 0.8909195382170616, 0.08909195382170616, 0.23146932698520895, 0.028933665873151118, 0.057867331746302236, 0.11573466349260447, 0.5208059857167201, 0.07368766822130807, 0.6631890139917727, 0.2210630046639242, 0.2930939382147924, 0.24800256310482433, 0.0732734845536981, 0.11836485966366615, 0.028182109443730036, 0.016909265666238023, 0.016909265666238023, 0.03945495322122205, 0.1521833909961422, 0.011272843777492015, 0.9225400419074684, 0.1625852012628163, 0.07390236421037105, 0.38429229389392944, 0.21431685621007604, 0.02956094568414842, 0.05173165494725973, 0.007390236421037105, 0.02956094568414842, 0.036951182105185526, 0.01478047284207421, 0.9448004665132617, 0.059163919301394266, 0.09860653216899044, 0.029581959650697133, 0.6902457251829331, 0.09860653216899044, 0.009860653216899044, 0.3133275434066231, 0.05789748084687601, 0.15325803753584824, 0.04768027834448612, 0.03746307584209624, 0.20774978421526097, 0.03746307584209624, 0.03746307584209624, 0.0034057341674632946, 0.10217202502389884, 0.9344413779078385, 0.018390533333173885, 0.1348639111099418, 0.14099408888766646, 0.18390533333173884, 0.14712426666539108, 0.10421302222131867, 0.006130177777724628, 0.024520711110898513, 0.20842604444263735, 0.024520711110898513, 0.9237771145293888, 0.88401900473845, 0.02352227497982255, 0.07056682493946764, 0.0470445499596451, 0.07056682493946764, 0.34107298720742696, 0.05880568744955637, 0.14113364987893529, 0.08232796242937891, 0.16465592485875782, 0.8554148317661293, 0.09504609241845881, 0.047523046209229404, 0.08189040545064927, 0.18834793253649332, 0.008189040545064927, 0.16378081090129853, 0.4012629867081814, 0.1228356081759739, 0.040945202725324634, 0.9686005868577918, 0.9480013952089493, 0.8702143578822384, 0.2088484181013678, 0.24419199654929158, 0.06426105172349779, 0.06426105172349779, 0.022491368103224225, 0.15422652413639468, 0.025704420689399116, 0.14137431379169513, 0.04819578879262334, 0.019278315517049335, 0.8711845776371284, 0.9010749000334077, 0.06750960688932228, 0.06750960688932228, 0.03375480344466114, 0.7763604792272063, 0.03375480344466114, 0.7775952137785708, 0.04574089492815122, 0.09148178985630244, 0.04574089492815122, 0.11947201163371791, 0.08960400872528844, 0.08960400872528844, 0.02986800290842948, 0.05973600581685896, 0.0746700072710737, 0.08960400872528844, 0.40321803926379796, 0.04480200436264422, 0.01493400145421474, 0.8531666979267116, 0.9007019057264989, 0.8928945218813917, 0.7674693783762725, 0.16445772393777267, 0.027409620656295444, 0.027409620656295444, 0.856757013939708, 0.8977100165002673, 0.5280511738792775, 0.045917493380806744, 0.12627310679721854, 0.022958746690403372, 0.034438120035605056, 0.034438120035605056, 0.034438120035605056, 0.1607112268328236, 0.011479373345201686, 0.9170528648005243, 0.0527133843531729, 0.01054267687063458, 0.16868282993015327, 0.13705479931824954, 0.39007904421347944, 0.01054267687063458, 0.04217070748253832, 0.11596944557698038, 0.04217070748253832, 0.02108535374126916, 0.07636013875201118, 0.18241588701869338, 0.29271386521604287, 0.1399935877120205, 0.08484459861334576, 0.03818006937600559, 0.03818006937600559, 0.055148989098674744, 0.03818006937600559, 0.05090675916800746, 0.008659450737595782, 0.03463780295038313, 0.45029143835498064, 0.05195670442557469, 0.18184846548951142, 0.08659450737595782, 0.13855121180153251, 0.017318901475191564, 0.017318901475191564, 0.32005409035052684, 0.20256587996868788, 0.14098585245820677, 0.03889264895398808, 0.04051317599373758, 0.06887239918935388, 0.03079001375524056, 0.028359223195616304, 0.09399056830547119, 0.035651594874489066, 0.9522860865723253, 0.8840449307380199, 0.08036772097618364, 0.9153913886030199, 0.9050748718902256, 0.2698353321543741, 0.05865985481616829, 0.04692788385293463, 0.43408292563964535, 0.011731970963233657, 0.04692788385293463, 0.035195912889700975, 0.04692788385293463, 0.023463941926467315, 0.011731970963233657, 0.9246619731901706, 0.015195631035988146, 0.21273883450383405, 0.03039126207197629, 0.06078252414395258, 0.10636941725191702, 0.07597815517994073, 0.015195631035988146, 0.41028203797167995, 0.06078252414395258, 0.015195631035988146, 0.02994792148380729, 0.02994792148380729, 0.05989584296761458, 0.04492188222571094, 0.554036547450435, 0.014973960741903646, 0.08984376445142188, 0.1647135681609401, 0.9358807072843833, 0.8951555011247722, 0.06393967865176944, 0.9396272477324987, 0.8142267139801445, 0.7552961351179779, 0.21927952309876778, 0.02436439145541864, 0.8862230535177616, 0.09320505755031662, 0.04660252877515831, 0.8388455179528496, 0.9170877945835988, 0.47824308452434044, 0.181402549302336, 0.0742101338055011, 0.06596456338266765, 0.090701274651168, 0.032982281691333826, 0.016491140845666913, 0.024736711268500366, 0.008245570422833456, 0.024736711268500366, 0.04630038446771942, 0.8102567281850899, 0.04630038446771942, 0.04630038446771942, 0.02315019223385971, 0.8819462620330178, 0.12087230597500474, 0.2918623973542797, 0.05011778540427026, 0.21521166673598405, 0.03537726028536724, 0.06191020549939267, 0.04716968038048965, 0.056013995451831465, 0.05306589042805086, 0.07075452057073447, 0.8597500096439634, 0.1843139073936646, 0.3718056407768751, 0.12075738760274576, 0.06673434578046476, 0.012711303958183765, 0.08897912770728636, 0.02860043390591347, 0.03813391187455129, 0.04448956385364318, 0.03813391187455129, 0.937599095174079, 0.05208883862078217, 0.9267378527610726, 0.035643763567733557, 0.035643763567733557, 0.915752461580459, 0.9278042083302988, 0.8925817997637836, 0.9597287067243471, 0.935209204305208, 0.9585020633136027, 0.13097234067242233, 0.28813914947932917, 0.013097234067242235, 0.392917022017267, 0.1571668088069068, 0.013097234067242235, 0.06761919308846791, 0.8790495101500828, 0.0503257867456185, 0.0167752622485395, 0.0167752622485395, 0.234853671479553, 0.0838763112426975, 0.0167752622485395, 0.167752622485395, 0.402606293964948, 0.0167752622485395, 0.0167752622485395, 0.8995583671339494, 0.9604641627235264, 0.8975681896286554, 0.907129725297653, 0.058369249190190105, 0.8171694886626615, 0.11673849838038021, 0.8226943195920128, 0.13711571993200214, 0.027423143986400427, 0.8596184459444401, 0.9202564860117877, 0.2657274282041576, 0.24157038927650692, 0.040261731546084485, 0.052340251009909834, 0.08857580940138587, 0.08857580940138587, 0.012078519463825346, 0.02415703892765069, 0.1731254456481633, 0.016104692618433794, 0.9122950880394064, 0.9414650700483418, 0.9107062004137361, 0.9145852553309785, 0.9552996406941876, 0.9190018137354091, 0.9281735906521044, 0.8817957092004487, 0.033617288922654504, 0.874049511989017, 0.10085186676796351, 0.8417640290687851, 0.09352933656319834, 0.8618759747441722, 0.17070389137019568, 0.06503005385531264, 0.1625751346382816, 0.2357339452255083, 0.05690129712339856, 0.01625751346382816, 0.00812875673191408, 0.2845064856169928, 0.00812875673191408, 0.008567427663015173, 0.02570228298904552, 0.08567427663015173, 0.38553424483568277, 0.14564627027125793, 0.13707884260824277, 0.06853942130412138, 0.042837138315075865, 0.10280913195618208, 0.036905034154754365, 0.018452517077377183, 0.16607265369639462, 0.202977687851149, 0.018452517077377183, 0.4982179610891839, 0.036905034154754365, 0.018452517077377183, 0.928980523790093, 0.01065857122727093, 0.20251285331814767, 0.12790285472725116, 0.1811957108636058, 0.03197571368181279, 0.01065857122727093, 0.3943671354090244, 0.03197571368181279, 0.02131714245454186, 0.12739276018088552, 0.12739276018088552, 0.7643565610853131, 0.7254060787943175, 0.05580046759956289, 0.11160093519912578, 0.027900233799781446, 0.027900233799781446, 0.9423499590992275, 0.12306235188705597, 0.6153117594352798, 0.04922494075482239, 0.024612470377411193, 0.024612470377411193, 0.14767482226446715, 0.01780409812280719, 0.11954180168170542, 0.19838852193985154, 0.0228909833007521, 0.0076303277669173665, 0.002543442588972456, 0.06358606472431139, 0.002543442588972456, 0.5671876973408576, 0.6173155254235235, 0.13155904640173452, 0.050599633231436354, 0.0708394865240109, 0.030359779938861815, 0.040479706585149086, 0.06071955987772363, 0.010119926646287272, 0.9192263083765272, 0.009331550076787773, 0.1446390261902105, 0.07465240061430219, 0.1446390261902105, 0.11897726347904411, 0.12364303851743799, 0.2706149522268454, 0.060655075499120525, 0.030327537749560263, 0.02099598767277249, 0.9577636703212709, 0.8963136603180752, 0.9295473365347232, 0.9067376848572878, 0.06476697748980627, 0.10758327595090557, 0.08965272995908798, 0.12551382194272315, 0.04781478931151358, 0.06574533530333118, 0.3884951631560479, 0.05976848663939198, 0.06574533530333118, 0.02390739465575679, 0.011953697327878396, 0.9496218645070639, 0.8485502738004546, 0.08485502738004545, 0.9062896654303929, 0.886446655789322, 0.9193521066673387, 0.794463872958258, 0.8869962084973803, 0.3228604028544925, 0.04453246935924035, 0.2671948161554421, 0.03339935201943026, 0.011133117339810088, 0.011133117339810088, 0.2783279334952522, 0.04453246935924035, 0.07052833513062194, 0.9168683566980853, 0.906218170014005, 0.8532362089727872, 0.9460295727750203, 0.12735104668576583, 0.12204475307385891, 0.13796363390957964, 0.07428811056669672, 0.19633286364055563, 0.05306293611906909, 0.021225174447627636, 0.10081957862623127, 0.11143216585004509, 0.058369229730976004, 0.0913996343467639, 0.913996343467639, 0.14969549914732921, 0.07983759954524225, 0.07983759954524225, 0.06985789960208696, 0.05987819965893169, 0.08981729948839753, 0.29939099829465843, 0.019959399886310562, 0.0997969994315528, 0.039918799772621125, 0.9459686742207091, 0.9101375359153356, 0.851295729218993, 0.034988455604438376, 0.03998680640507243, 0.2699109432342389, 0.014995052401902161, 0.024991754003170268, 0.049983508006340535, 0.13495547161711946, 0.4298581688545286, 0.004998350800634053, 0.9614113713655502, 0.01603855536448734, 0.024057833046731012, 0.00801927768224367, 0.024057833046731012, 0.11226988755141139, 0.48115666093462023, 0.28067471887852846, 0.048115666093462024, 0.00801927768224367, 0.5733365854483996, 0.046994802085934394, 0.24907245105545228, 0.018797920834373757, 0.07989116354608847, 0.009398960417186878, 0.004699480208593439, 0.018797920834373757, 0.871493338629157, 0.9132502397544555, 0.35536508140465, 0.04180765663584118, 0.06271148495376176, 0.04180765663584118, 0.04180765663584118, 0.4389803946763324, 0.04871631552488234, 0.8281773639229999, 0.09743263104976468, 0.8935090785333872, 0.07445908987778227, 0.9262752209834488, 0.05518767803544102, 0.31640935406986187, 0.14348796289214666, 0.11037535607088204, 0.033112606821264615, 0.0809419277853135, 0.05518767803544102, 0.08830028485670563, 0.05150849949974495, 0.06622521364252923, 0.1788039724668523, 0.05960132415561744, 0.7152158898674092, 0.9660755003808169, 0.11044925876101923, 0.027612314690254807, 0.19328620283178366, 0.579858608495351, 0.027612314690254807, 0.027612314690254807, 0.07817117022997776, 0.5862837767248332, 0.33613603198890435, 0.031362208179961625, 0.15681104089980813, 0.031362208179961625, 0.09408662453988488, 0.6586063717791942, 0.09042829298184155, 0.032883015629760565, 0.43569995709432746, 0.12331130861160211, 0.12331130861160211, 0.016441507814880282, 0.16441507814880282, 0.024662261722320424, 0.9306287897876415, 0.05344522570314041, 0.05344522570314041, 0.03563015046876027, 0.6057125579689246, 0.05344522570314041, 0.08907537617190069, 0.03563015046876027, 0.05344522570314041, 0.017815075234380136, 0.8652856867592277, 0.09614285408435863, 0.962535082400865, 0.8608278846408896, 0.8648973352400184, 0.03300583976248578, 0.03300583976248578, 0.06601167952497156, 0.8581518338246301, 0.22821450943287155, 0.06694292276697565, 0.08215722339583376, 0.1338858455339513, 0.07911436327006213, 0.22517164930709993, 0.033471461383487826, 0.012171440503086483, 0.1034572442762351, 0.030428601257716206, 0.9531572551188036, 0.4567974290540262, 0.05659437174120679, 0.08084910248743826, 0.04446700636809105, 0.04042455124371913, 0.04042455124371913, 0.08084910248743826, 0.06872173711432253, 0.07680664736306636, 0.04850946149246296, 0.9490110763458462, 0.06442311455053465, 0.15461547492128314, 0.07730773746064157, 0.4294874303368976, 0.07730773746064157, 0.03435899442695181, 0.06442311455053465, 0.04724361733705874, 0.042948743033689764, 0.01288462291010693, 0.24809101799575353, 0.6202275449893838, 0.09303413174840758, 0.022741460514910647, 0.045482921029821294, 0.045482921029821294, 0.11370730257455323, 0.5230535918429449, 0.2046731446341958, 0.022741460514910647, 0.022741460514910647, 0.017682422804773258, 0.5658375297527443, 0.4066957245097849, 0.017682422804773258, 0.10074528584298457, 0.11906261054170904, 0.03663464939744893, 0.09158662349362233, 0.31139451987831596, 0.15569725993915798, 0.018317324698724467, 0.06411063644553563, 0.03663464939744893, 0.06411063644553563, 0.94906859158942, 0.9400803875751127, 0.8601504413323173, 0.09557227125914637, 0.9058404404839111, 0.06916126827742003, 0.8990964876064604, 0.10796752709104845, 0.08637402167283877, 0.5614311408734519, 0.02159350541820969, 0.17274804334567753, 0.02159350541820969, 0.02159350541820969, 0.8959271394045679, 0.14876892850708756, 0.11901514280567005, 0.029753785701417512, 0.6545832854311853, 0.029753785701417512, 0.9071699637692882, 0.9053254781106749, 0.9422039555397557, 0.08328397376798422, 0.9161237114478264, 0.10773099674885639, 0.272162518102374, 0.34020314762796755, 0.16443152135351766, 0.017010157381398376, 0.045360419683729, 0.01134010492093225, 0.01134010492093225, 0.01134010492093225, 0.0226802098418645, 0.9193001557009499, 0.019977246210744166, 0.03329541035124028, 0.21309062624793776, 0.006659082070248055, 0.019977246210744166, 0.13984072347520915, 0.019977246210744166, 0.02663632828099222, 0.006659082070248055, 0.5127493194091003, 0.04120809016895269, 0.5769132623653376, 0.013736030056317561, 0.013736030056317561, 0.027472060112635123, 0.19230442078844587, 0.013736030056317561, 0.12362427050685806, 0.013736030056317561, 0.7977046703221699, 0.17093671506903638, 0.4785633768743209, 0.10441382768167001, 0.11311497998847585, 0.026103456920417503, 0.03480460922722334, 0.11311497998847585, 0.06960921845444668, 0.026103456920417503, 0.01740230461361167, 0.026103456920417503, 0.09542294048727977, 0.16573458084632803, 0.21595718110279105, 0.1406232807180965, 0.05022260025646304, 0.03515582017952412, 0.005022260025646303, 0.06528938033340195, 0.04520034023081673, 0.18080136092326693, 0.5153444281472358, 0.007808248911321755, 0.023424746733965263, 0.28890520971890493, 0.1561649782264351, 0.007808248911321755, 0.0723706733680562, 0.8684480804166743, 0.0723706733680562, 0.8580828271249493, 0.9362375450520931, 0.7647171631573293, 0.1956253208076889, 0.035568240146852524, 0.6730350912798828, 0.13168077872867273, 0.04389359290955758, 0.04389359290955758, 0.07315598818259596, 0.014631197636519192, 0.014631197636519192, 0.9251791471341909, 0.6786704432713491, 0.019390584093467115, 0.03878116818693423, 0.19390584093467114, 0.019390584093467115, 0.019390584093467115, 0.5906838482493433, 0.22150644309350373, 0.031643777584786245, 0.021095851723190832, 0.010547925861595416, 0.06328755516957249, 0.05273962930797708, 0.9555701033019146, 0.062224065529268256, 0.8089128518804873, 0.062224065529268256, 0.9507875138453754, 0.9426067724569861, 0.8887691344548679, 0.07406409453790566, 0.9376805580552784, 0.9109825145367519, 0.03433541896331203, 0.8240500551194887, 0.03433541896331203, 0.03433541896331203, 0.06867083792662405, 0.8580174174370788, 0.8884662092596556, 0.8929907742584718, 0.8495126052600588, 0.939120458018325, 0.033540016357797325, 0.9305537930456803, 0.8314759080409755, 0.1745429931280548, 0.0872714965640274, 0.0436357482820137, 0.6981719725122192, 0.03909370803426535, 0.1563748321370614, 0.04886713504283169, 0.04886713504283169, 0.576632193505414, 0.019546854017132676, 0.10750769709422972, 0.009773427008566338, 0.8378465248462019, 0.08378465248462019, 0.07603373717967188, 0.22810121153901564, 0.1398039683626225, 0.39979029549311346, 0.10056074917311443, 0.02452701199344254, 0.026979713192786796, 0.007358103598032763, 0.7838045023780806, 0.15219504900545255, 0.007609752450272627, 0.0532682671519084, 0.007609752450272627, 0.06690247426229158, 0.08920329901638878, 0.05946886601092585, 0.20814103103824047, 0.022300824754097195, 0.11150412377048598, 0.2378754640437034, 0.1189377320218517, 0.07433608251365731, 0.1553100764282761, 0.7765503821413805, 0.9007134720795219, 0.9580466040983558, 0.887947922934851, 0.08228913507345141, 0.1810360971615931, 0.09051804858079655, 0.05760239455141599, 0.04937348104407085, 0.04937348104407085, 0.0987469620881417, 0.31269871327911536, 0.05760239455141599, 0.024686740522035424, 0.01930424730482918, 0.19947722214990152, 0.2445204658611696, 0.15443397843863343, 0.032173745508048635, 0.12547760748138967, 0.04182586916046322, 0.05791274191448754, 0.08043436377012159, 0.04826061826207295, 0.9639051646321868, 0.07249197675150992, 0.7974117442666092, 0.07249197675150992, 0.08963088426616157, 0.8066779583954542, 0.9117614937508994, 0.9199810227220909, 0.02572399822622242, 0.02572399822622242, 0.02572399822622242, 0.7717199467866727, 0.02572399822622242, 0.07717199467866727, 0.05144799645244484, 0.18105337108964614, 0.07659950315331183, 0.0661541163596784, 0.07311770755543402, 0.07311770755543402, 0.28550723902598046, 0.09052668554482307, 0.07311770755543402, 0.03133616038090029, 0.05222693396816716, 0.1834080479963632, 0.7336321919854528, 0.9036310665559351, 0.8772215458392391, 0.9759775371388903, 0.14721218415585716, 0.20125209985864018, 0.13416806657242678, 0.13975840267961123, 0.1323046212033653, 0.055903361071844494, 0.048449579595598556, 0.039132352750291144, 0.07267436939339784, 0.027951680535922247, 0.942756422574549, 0.916277985619752, 0.09799679785462326, 0.8819711806916094, 0.29789230788381327, 0.042556043983401896, 0.6383406597510284, 0.8812006062662077, 0.06863174735760062, 0.09150899647680083, 0.022877249119200208, 0.2908678816584026, 0.1536043869432014, 0.022877249119200208, 0.111118067150401, 0.07843628269440071, 0.04248631979280038, 0.11438624559600104, 0.917626584263658, 0.20291405166267693, 0.1035275773789168, 0.06625764952250675, 0.24432508261424363, 0.13665640214017016, 0.049693237141880064, 0.020705515475783358, 0.07868095880797676, 0.07039875261766342, 0.020705515475783358, 0.09280310389037943, 0.1250824443739897, 0.0806983512090256, 0.1573617848575999, 0.22595538338527169, 0.07262851608812304, 0.05648884584631792, 0.09683802145083072, 0.00806983512090256, 0.08473326876947689, 0.22770101498744053, 0.0426939403101451, 0.09961919405700523, 0.18500707467729544, 0.05218148260128845, 0.1043629652025769, 0.03320639801900174, 0.19449461696843878, 0.02371885572785839, 0.03320639801900174, 0.09325812408274645, 0.8859521787860912, 0.172817621292382, 0.17782682770665398, 0.06511968338553525, 0.08014730262835108, 0.14276238280675038, 0.16279920846383814, 0.06511968338553525, 0.08014730262835108, 0.03756904810703957, 0.015027619242815829, 0.05053031020581736, 0.07699856793267407, 0.1564033411132442, 0.03849928396633703, 0.009624820991584258, 0.0024062052478960646, 0.004812410495792129, 0.11068544140321897, 0.02165584723106458, 0.5317713597850303, 0.9154945839357992, 0.030914285916705607, 0.18548571550023363, 0.4946285746672897, 0.17002857254188083, 0.07728571479176402, 0.015457142958352803, 0.015457142958352803, 0.015457142958352803, 0.09264888935934965, 0.018529777871869928, 0.0432361483676965, 0.030882963119783214, 0.09264888935934965, 0.05558933361560978, 0.3582423721894853, 0.0432361483676965, 0.06794251886352307, 0.19765096396661258, 0.9115660095407542, 0.04615248618976283, 0.34614364642322126, 0.14307270718826479, 0.05076773480873911, 0.07384397790362053, 0.0830744751415731, 0.0276914917138577, 0.12922696133133593, 0.06922872928464424, 0.0276914917138577, 0.06528067580068714, 0.08704090106758286, 0.076160788434135, 0.17408180213516572, 0.22304230898568106, 0.14688152055154607, 0.054400563167239284, 0.059840619483963214, 0.0979210137010307, 0.010880112633447857, 0.8920944370035456, 0.046302712736467425, 0.8797515419928811, 0.049823466754289024, 0.16370567647837822, 0.2277644194481784, 0.035588190538777875, 0.007117638107755575, 0.15658803837062266, 0.042705828646533446, 0.3202937148490009, 0.08563522790685149, 0.031140082875218723, 0.17905547653250767, 0.23355062156414041, 0.0389251035940234, 0.007785020718804681, 0.25690568372055445, 0.015570041437609362, 0.1557004143760936, 0.04672919178993388, 0.02336459589496694, 0.1168229794748347, 0.7009378768490082, 0.04672919178993388, 0.07009378768490082, 0.8776981892236635, 0.9126749927328115, 0.3528615898285764, 0.13900608084156038, 0.080195815870131, 0.026731938623377, 0.026731938623377, 0.09088859131948179, 0.0160391631740262, 0.0855422035948064, 0.1496988562909112, 0.0320783263480524, 0.17202890986151118, 0.6881156394460447, 0.4325257928039412, 0.007588171803577916, 0.19349838099123687, 0.011382257705366874, 0.06829354623220124, 0.011382257705366874, 0.0720876321339902, 0.011382257705366874, 0.18591020918765894, 0.007588171803577916, 0.03400108743803062, 0.03400108743803062, 0.6800217487606124, 0.27200869950424494, 0.9045186820671156, 0.018258298652955668, 0.07303319461182267, 0.6938153488123153, 0.036516597305911336, 0.164324687876601, 0.018258298652955668, 0.9405268885415612, 0.2075650828233151, 0.020086943499030493, 0.14060860449321344, 0.031246356554047432, 0.031246356554047432, 0.04910141744207454, 0.02231882611003388, 0.013391295666020328, 0.45530405264469115, 0.026782591332040657, 0.0460742060784726, 0.0921484121569452, 0.0921484121569452, 0.7371872972555616, 0.8946920693093021, 0.851422314668014, 0.056761487644534266, 0.056761487644534266, 0.9543749897765319, 0.10636933823989785, 0.12055191667188424, 0.19146480883181613, 0.11346062745589104, 0.29783414707171396, 0.02836515686397276, 0.0709128921599319, 0.01418257843198638, 0.02127386764797957, 0.03545644607996595, 0.8575144633752051, 0.1582809590165056, 0.291570187661984, 0.13745451704064962, 0.0958016330889376, 0.058314037532396806, 0.041652883951712, 0.041652883951712, 0.024991730371027202, 0.14995038222616322, 0.0083305767903424, 0.03571902609470996, 0.32147123485238965, 0.4464878261838745, 0.053578539142064945, 0.07143805218941993, 0.053578539142064945, 0.8496956044346686, 0.9468928480235147, 0.13952930775559627, 0.032830425354257946, 0.07386845704708038, 0.08207606338564487, 0.041038031692822434, 0.016415212677128973, 0.10669888240133833, 0.42679552960535333, 0.05745324436995141, 0.02462281901569346, 0.9169000946469346, 0.01015656279138778, 0.08125250233110223, 0.10664390930957168, 0.055861095352632784, 0.16758328605789835, 0.08633078372679612, 0.1421918790794289, 0.2336009442019189, 0.01015656279138778, 0.10156562791387778, 0.19977032515903193, 0.2486936700959377, 0.14677003481071735, 0.15084698022212614, 0.00815389082281763, 0.024461672468452888, 0.08969279905099392, 0.057077235759723406, 0.06930807199394985, 0.00815389082281763, 0.9399710549614225, 0.2562873115777662, 0.5591723161696717, 0.13979307904241792, 0.023298846507069655, 0.9314380585147655, 0.029420842143673336, 0.10787642119346891, 0.06864863166857112, 0.4020848426302023, 0.09806947381224446, 0.13729726333714223, 0.039227789524897784, 0.029420842143673336, 0.08826252643102002, 0.019613894762448892, 0.2946543254599344, 0.17679259527596064, 0.09972915630951626, 0.09519601284090189, 0.009066286937228751, 0.13146116058981688, 0.02719886081168625, 0.07706343896644438, 0.07706343896644438, 0.013599430405843126, 0.9702407899875779, 0.6866803105037464, 0.8525787615096055, 0.016967180431466382, 0.0848359021573319, 0.22057334560906294, 0.025450770647199573, 0.008483590215733191, 0.008483590215733191, 0.313892837982128, 0.10180308258879829, 0.21208975539332975, 0.7102215363964867, 0.0835554748701749, 0.04177773743508745, 0.0835554748701749, 0.883132921209294, 0.08028481101902674, 0.9180639634451798, 0.9408190312659009, 0.5618930162874542, 0.2271482406268432, 0.023910341118615074, 0.023910341118615074, 0.023910341118615074, 0.05977585279653768, 0.023910341118615074, 0.04782068223723015, 0.011955170559307537, 0.19108585935478478, 0.09099326635942133, 0.48226431170493306, 0.027297979907826397, 0.027297979907826397, 0.009099326635942134, 0.018198653271884267, 0.018198653271884267, 0.018198653271884267, 0.11829124626724773, 0.30655538359713747, 0.07911106673474515, 0.18541656265955894, 0.1063054959248138, 0.04697219587375493, 0.10877771676027458, 0.06922218339290201, 0.037083312531911786, 0.05191663754467651, 0.009888883341843143, 0.8954798719371397, 0.8130099001390718, 0.13528679768179724, 0.21952197359687856, 0.10720840571010348, 0.07913001373840972, 0.12252389224011827, 0.07913001373840972, 0.08423517591508131, 0.0995506624450961, 0.033183554148365366, 0.04594645959004435, 0.6891859843573634, 0.05301430648902796, 0.02650715324451398, 0.05301430648902796, 0.02650715324451398, 0.1325357662225699, 0.9409810021593125, 0.9375076870089725, 0.9421980235455978, 0.08375871767040743, 0.12563807650561115, 0.033503487068162974, 0.10888633297152966, 0.09213458943744818, 0.2847796400793853, 0.1340139482726519, 0.033503487068162974, 0.008375871767040743, 0.10051046120448892, 0.2589802827624286, 0.6906140873664764, 0.028775586973603183, 0.9727756534039964, 0.8117750688564342, 0.04775147463861378, 0.04775147463861378, 0.9180826464072034, 0.11820263136701628, 0.08865197352526222, 0.6353391435977126, 0.014775328920877035, 0.10342730244613925, 0.02955065784175407, 0.025468178044273957, 0.15280906826564375, 0.10187271217709583, 0.025468178044273957, 0.050936356088547914, 0.6367044511068489, 0.965263142988082, 0.9055942137722203, 0.12690072905940653, 0.010575060754950544, 0.010575060754950544, 0.2855266403836647, 0.005287530377475272, 0.34368947453589266, 0.0370127126423269, 0.07931295566212908, 0.0370127126423269, 0.06345036452970326, 0.2573562522039107, 0.08235400070525142, 0.06176550052893856, 0.37059300317363136, 0.04117700035262571, 0.04117700035262571, 0.020588500176312856, 0.01544137513223464, 0.09264825079340784, 0.020588500176312856, 0.13811961012737947, 0.09207974008491965, 0.046039870042459824, 0.046039870042459824, 0.7366379206793572, 0.9624023090760918, 0.08253636111576966, 0.09170706790641074, 0.12838989506897502, 0.1375606018596161, 0.0733656543251286, 0.32097473767243756, 0.04585353395320537, 0.11004848148769289, 0.009170706790641074, 0.01834141358128215, 0.9537145777802588, 0.06289693818727433, 0.03144846909363717, 0.12579387637454867, 0.6918663200600177, 0.09434540728091151, 0.9377194201624304, 0.9336474320821228, 0.035180125423254036, 0.035180125423254036, 0.6332422576185727, 0.2814410033860323, 0.9330275441770046, 0.18580067347448628, 0.13935050510586472, 0.650302357160702, 0.8711492243464597, 0.5255890372511342, 0.016424657414097942, 0.06569862965639177, 0.22994520379737118, 0.016424657414097942, 0.13139725931278354, 0.04559924278179486, 0.0683988641726923, 0.011399810695448716, 0.05699905347724358, 0.0683988641726923, 0.02279962139089743, 0.03419943208634615, 0.6383893989451281, 0.02279962139089743, 0.011399810695448716, 0.022823327696101976, 0.07988164693635691, 0.05705831924025494, 0.13693996617661186, 0.0912933107844079, 0.0912933107844079, 0.1027049746324589, 0.3765849069856826, 0.011411663848050988, 0.034234991544152965, 0.9379050077973178, 0.09608995381673537, 0.04804497690836768, 0.6726296767171476, 0.02402248845418384, 0.02402248845418384, 0.09608995381673537, 0.02402248845418384, 0.02402248845418384, 0.9252779712426323, 0.025397346223669324, 0.1650827504538506, 0.1650827504538506, 0.40000820302279183, 0.05079469244733865, 0.025397346223669324, 0.006349336555917331, 0.05714402900325598, 0.05079469244733865, 0.06349336555917331, 0.8824140325776335, 0.0802194575070576, 0.11060927449618377, 0.2334116973620256, 0.16983313800595146, 0.0749007685564709, 0.10799645698839991, 0.07664264689499348, 0.04006320178601932, 0.06967513354090317, 0.08970673443391282, 0.026999114247099977, 0.9436236983313673, 0.04966440517533512, 0.15506351907662602, 0.8270054350753387, 0.8708377463367856, 0.5775332244941237, 0.02707186989816205, 0.0992635229599275, 0.13535934949081024, 0.009023956632720683, 0.018047913265441366, 0.02707186989816205, 0.04511978316360341, 0.009023956632720683, 0.04511978316360341, 0.87914782247395, 0.725554453468479, 0.0190935382491705, 0.076374152996682, 0.057280614747511505, 0.057280614747511505, 0.057280614747511505, 0.9343169283711658, 0.9504807801573639, 0.033926870593794914, 0.033926870593794914, 0.6785374118758983, 0.06785374118758983, 0.033926870593794914, 0.06785374118758983, 0.033926870593794914, 0.8605080555508607, 0.1263038420812782, 0.042101280693759395, 0.006477120106732215, 0.1651665627216715, 0.032385600533661074, 0.46635264768471946, 0.016192800266830537, 0.10039536165434933, 0.019431360320196645, 0.022669920373562753, 0.09010467849838366, 0.7208374279870693, 0.04505233924919183, 0.04505233924919183, 0.04505233924919183, 0.02482012782254439, 0.6205031955636098, 0.09928051129017756, 0.04964025564508878, 0.12410063911272197, 0.07446038346763317, 0.02482012782254439, 0.056099593488077665, 0.056099593488077665, 0.7853943088330874, 0.24593933428901962, 0.0683164817469499, 0.013663296349389979, 0.054653185397559916, 0.1912861488914597, 0.04098988904816994, 0.09564307444572985, 0.2732659269877996, 0.04736494469836652, 0.09472988939673305, 0.16577730644428285, 0.14209483409509957, 0.02368247234918326, 0.04736494469836652, 0.04736494469836652, 0.02368247234918326, 0.42628450228529874, 0.014174009220986782, 0.04252202766296035, 0.0850440553259207, 0.0850440553259207, 0.18426211987282817, 0.04252202766296035, 0.07087004610493391, 0.39687225818762994, 0.04252202766296035, 0.028348018441973565, 0.8546352272130285, 0.9046161857733281, 0.022642803023521247, 0.1358568181411275, 0.5887128786115524, 0.06792840907056374, 0.022642803023521247, 0.15849962116464875, 0.08616137407772609, 0.8616137407772609, 0.9293091329536924, 0.061953942196912824, 0.8667780524675415, 0.019614998751153745, 0.2280243604821623, 0.26970623282836403, 0.09562311891187451, 0.07845999500461498, 0.053941246565672805, 0.18389061329206638, 0.03677812265841327, 0.01471124906336531, 0.017163123907259527, 0.6563340070070794, 0.09906928407654028, 0.03715098152870261, 0.04953464203827014, 0.02476732101913507, 0.02476732101913507, 0.08668562356697275, 0.012383660509567535, 0.012383660509567535, 0.8573002798079529, 0.07736984889574042, 0.8510683378531446, 0.2137364247717146, 0.5918854839832096, 0.03288252688795609, 0.06576505377591219, 0.04932379033193414, 0.03288252688795609, 0.9774854669682042, 0.7773133697325696, 0.16898116733316731, 0.03379623346663346, 0.03379623346663346, 0.18725606932543407, 0.08426523119644533, 0.018725606932543406, 0.03745121386508681, 0.028088410398815107, 0.046814017331358516, 0.018725606932543406, 0.24343289012306427, 0.3183353178532379, 0.009362803466271703, 0.9714986097970912, 0.9077056555191544, 0.16640061068812012, 0.04160015267203003, 0.202057884407003, 0.13074333696923723, 0.1129147001097958, 0.08914318429720722, 0.19611500545385588, 0.011885757906294295, 0.04160015267203003, 0.011885757906294295, 0.03977227263372344, 0.03977227263372344, 0.8352177253081923, 0.03977227263372344, 0.03977227263372344, 0.8599409678556584, 0.08599409678556584, 0.03835527160614242, 0.2684869012429969, 0.5945067098952075, 0.07671054321228483, 0.044052879700855876, 0.014684293233618625, 0.044052879700855876, 0.08810575940171175, 0.13215863910256762, 0.07342146616809313, 0.4845816767094146, 0.02936858646723725, 0.07342146616809313, 0.044052879700855876, 0.13856023960988806, 0.034640059902472015, 0.7967213777568564, 0.13931449347685287, 0.7430106318765487, 0.09287632898456859, 0.07822410946556499, 0.8604652041212149, 0.8501108899271097, 0.024493880544239528, 0.6041823867579084, 0.155127910113517, 0.07348164163271859, 0.016329253696159684, 0.016329253696159684, 0.016329253696159684, 0.04082313424039921, 0.0571523879365589, 0.9434393066283215, 0.6020909562295946, 0.1852587557629522, 0.023157344470369025, 0.023157344470369025, 0.023157344470369025, 0.023157344470369025, 0.11578672235184512, 0.10360894907048379, 0.10360894907048379, 0.7770671180286284, 0.9832373535645569, 0.06860359012264647, 0.06860359012264647, 0.7546394913491112, 0.09147145349686196, 0.1721778593902829, 0.2660930554213463, 0.08217579652718048, 0.0626101306873756, 0.0626101306873756, 0.14869906038251707, 0.046957598015531704, 0.0156525326718439, 0.10565459553494633, 0.03521819851164878, 0.11009835471972215, 0.8257376603979162, 0.055049177359861076, 0.9303221907092022, 0.07754904100360693, 0.8530394510396763, 0.09678148318406671, 0.822642607064567, 0.048390741592033354, 0.18683389647547144, 0.1059654935234017, 0.14221684657088124, 0.16173680590413944, 0.172891068380287, 0.10038836228532794, 0.025097090571331984, 0.02788565619036887, 0.05019418114266397, 0.02788565619036887, 0.18409558065299803, 0.28718910581867696, 0.36450924969293613, 0.036819116130599606, 0.025773381291419727, 0.003681911613059961, 0.011045734839179882, 0.007363823226119922, 0.014727646452239843, 0.06259249742201933, 0.07414956130146758, 0.03707478065073379, 0.03707478065073379, 0.03707478065073379, 0.07414956130146758, 0.6673460517132082, 0.07414956130146758, 0.8863235817679858, 0.05932689149951045, 0.8305764809931463, 0.05932689149951045, 0.9070789705351077, 0.8317211552072402, 0.02414316591609093, 0.543221233112046, 0.3983622376155003, 0.02414316591609093, 0.05029526030533839, 0.16345959599234977, 0.012573815076334597, 0.0062869075381672985, 0.0062869075381672985, 0.03143453769083649, 0.7355681819655739, 0.08774627099280212, 0.20939451032373235, 0.11566553903596644, 0.08375780412949294, 0.13560787335251237, 0.10569437187769347, 0.063815469812947, 0.0937289712877659, 0.07378663697121997, 0.0319077349064735, 0.9453753820920591, 0.17812773233198056, 0.05937591077732685, 0.25234762080363915, 0.24245163567408465, 0.02473996282388619, 0.039583940518217904, 0.09895985129554476, 0.02473996282388619, 0.02473996282388619, 0.054427918212549616, 0.9563993135651305, 0.05490415187426372, 0.4941373668683735, 0.37334823274499335, 0.032942491124558236, 0.02196166074970549, 0.010980830374852745, 0.7986404869137771, 0.13310674781896287, 0.030570677865402133, 0.9476910138274661, 0.944621708460262, 0.644200367577515, 0.2061441176248048, 0.0257680147031006, 0.0386520220546509, 0.0257680147031006, 0.0386520220546509, 0.0128840073515503, 0.8326869442367677, 0.10408586802959596, 0.05204293401479798, 0.8408139555672239, 0.22174109721657248, 0.7391369907219082, 0.21784058180176638, 0.01894265928711012, 0.03788531857422024, 0.01894265928711012, 0.05682797786133036, 0.5588084489697486, 0.05682797786133036, 0.01894265928711012, 0.24904293964496718, 0.10326170668205957, 0.16400388708327107, 0.07896483452157496, 0.012148436080242301, 0.012148436080242301, 0.024296872160484602, 0.012148436080242301, 0.3462304282869056, 0.214483502844018, 0.750692259954063, 0.8939691937878543, 0.781714682742648, 0.1839328665276819, 0.8998422905017202, 0.9610574529446959, 0.8914998743271111, 0.06367856245193651, 0.9506189338920518, 0.8871813177820723, 0.2805350101573168, 0.12624075457079256, 0.07714712779326212, 0.01402675050786584, 0.02805350101573168, 0.2033878823640547, 0.049093626777530444, 0.01402675050786584, 0.19637450711012178, 0.01402675050786584, 0.041292840726353745, 0.7432711330743674, 0.041292840726353745, 0.12387852217906123, 0.041292840726353745, 0.9209370356449752, 0.08066598000777166, 0.10002581520963685, 0.1613319600155433, 0.17746515601709764, 0.14842540321429984, 0.05485286640528472, 0.1419721248136781, 0.07098606240683905, 0.029039752802797796, 0.035493031203419526, 0.11104159000852105, 0.8883327200681684, 0.9381940167993594, 0.9254617884341906, 0.8639602945297983, 0.08234515850038149, 0.061758868875286116, 0.09410875257186456, 0.02352718814296614, 0.1735130125543753, 0.39996219843042435, 0.017645391107224604, 0.061758868875286116, 0.061758868875286116, 0.020586289625095372, 0.9206946359641037, 0.9031597684023545, 0.1632849904471803, 0.05024153552220932, 0.20096614208883729, 0.02512076776110466, 0.037681151641656994, 0.01256038388055233, 0.07536230328331399, 0.4396134358193316, 0.10294931889259047, 0.03860599458472143, 0.012868664861573809, 0.6820392376634119, 0.025737329723147618, 0.03860599458472143, 0.03860599458472143, 0.012868664861573809, 0.012868664861573809, 0.025737329723147618, 0.1903216049931974, 0.3889180623774034, 0.13239763825613732, 0.024824557173025747, 0.08274852391008583, 0.024824557173025747, 0.03309940956403433, 0.06619881912806866, 0.05792396673706008, 0.058706691462685145, 0.8806003719402772, 0.058706691462685145, 0.9287513733374065, 0.7751056664517499, 0.08943526920597115, 0.05962351280398077, 0.029811756401990384, 0.05962351280398077, 0.9151234320667385, 0.08654797374812868, 0.8654797374812868, 0.025029929482153098, 0.25029929482153096, 0.07508978844645929, 0.07508978844645929, 0.5506584486073681, 0.7323085702650257, 0.06367900611000224, 0.09551850916500336, 0.06367900611000224, 0.6839299572230372, 0.016681218468854567, 0.0500436554065637, 0.016681218468854567, 0.21685584009510936, 0.016681218468854567, 0.9580707303486106, 0.7722911424400393, 0.1782210328707783, 0.029703505478463052, 0.21823448258506872, 0.12151692780304962, 0.138876488917771, 0.08927774287570993, 0.05703855794837023, 0.08927774287570993, 0.022319435718927482, 0.04959874604206107, 0.20087492147034733, 0.009919749208412215, 0.007439985589062887, 0.4240791785765845, 0.022319956767188658, 0.17111966854844637, 0.007439985589062887, 0.1041597982468804, 0.13391974060313194, 0.11903976942500619, 0.14965490316884997, 0.05986196126753999, 0.06734470642598249, 0.07482745158442498, 0.16462039348573496, 0.13468941285196498, 0.08231019674286748, 0.22448235475327497, 0.014965490316884997, 0.022448235475327497, 0.9007658160015308, 0.019454725639461, 0.116728353836766, 0.564187043544369, 0.077818902557844, 0.058364176918383, 0.058364176918383, 0.077818902557844, 0.019454725639461, 0.02226726956001805, 0.02226726956001805, 0.02226726956001805, 0.7125526259205776, 0.0890690782400722, 0.06680180868005414, 0.02226726956001805, 0.0445345391200361, 0.027413764602649146, 0.013706882301324573, 0.2604307637251669, 0.013706882301324573, 0.013706882301324573, 0.5893959389569566, 0.08224129380794744, 0.2238116617980195, 0.08805704726479456, 0.17244505089355602, 0.18345218180165532, 0.06604278544859592, 0.047697567268430385, 0.036690436360331063, 0.047697567268430385, 0.09172609090082766, 0.040359479996364175, 0.4434682270110177, 0.13741269005975196, 0.0811984077625807, 0.024984125465409446, 0.04996825093081889, 0.018738094099057086, 0.10618253322799014, 0.006246031366352362, 0.062460313663523614, 0.062460313663523614, 0.9643537456149188, 0.04771422311592802, 0.011928555778982004, 0.02385711155796401, 0.2504996713586221, 0.5964277889491002, 0.03578566733694601, 0.02385711155796401, 0.02385711155796401, 0.22694948280472044, 0.17087961058237774, 0.1174797322753847, 0.08543980529118887, 0.1067997566139861, 0.021359951322797218, 0.029369933068846176, 0.1281597079367833, 0.061409860053042005, 0.04805989047629374, 0.3073432130486552, 0.6488356719916054, 0.28566232643539724, 0.1049371811395337, 0.21570420567570814, 0.1049371811395337, 0.0582984339664076, 0.046638747173126084, 0.0029149216983203803, 0.06704319906136874, 0.07870288585465027, 0.034979060379844565, 0.08113398091353274, 0.15577724335398285, 0.21743906884826775, 0.2693648166329287, 0.051925747784660956, 0.029208233128871785, 0.0356989516019544, 0.05517110702120226, 0.05517110702120226, 0.045435029311578334, 0.893697640414868, 0.05438341665326709, 0.9245180831055405, 0.9012183217360265, 0.23374010280992036, 0.7479683289917451, 0.9025135934898582, 0.15326653133398185, 0.7663326566699092, 0.8844054485739165, 0.08534727673164116, 0.8534727673164116, 0.4312577839913183, 0.07529897815721431, 0.21220621117033123, 0.17113404126639617, 0.05476289320524677, 0.006845361650655846, 0.006845361650655846, 0.027381446602623385, 0.006845361650655846, 0.028132918006196293, 0.7314558681611036, 0.028132918006196293, 0.05626583601239259, 0.14066459003098147, 0.028132918006196293, 0.028132918006196293, 0.03163146115943149, 0.18978876695658894, 0.6958921455074928, 0.06326292231886298, 0.952197216781762, 0.9069501357767088, 0.06451707961070331, 0.10484025436739289, 0.18548660388077204, 0.17742196892943413, 0.379037842712882, 0.008064634951337914, 0.016129269902675828, 0.06451707961070331, 0.02250766510139662, 0.21441512543962044, 0.1291229208448543, 0.18835361848010856, 0.07463067902042038, 0.02724612091221696, 0.2570612277370035, 0.06159992554066444, 0.01776920929057628, 0.0059230697635254265, 0.061343372301849795, 0.05258003340158554, 0.24537348920739918, 0.05258003340158554, 0.14897676130449236, 0.10516006680317108, 0.16650343910502088, 0.1270684140538317, 0.035053355601057025, 0.008763338900264256, 0.021518475811703765, 0.10759237905851883, 0.021518475811703765, 0.5379618952925941, 0.10759237905851883, 0.17214780649363012, 0.8584435040702008, 0.46420603127667787, 0.07925468826674988, 0.028305245809553528, 0.03962734413337494, 0.192475671504964, 0.03962734413337494, 0.033966294971464236, 0.09057678659057129, 0.016983147485732118, 0.011322098323821412, 0.12875692517553183, 0.8583795011702123, 0.8612367882038968, 0.8978367181218054, 0.931142607875764, 0.9112543451168098, 0.9541763609230116, 0.9160938619623467, 0.8544350280849851, 0.7892847025619838, 0.20770650067420626, 0.09796725855911892, 0.29390177567735676, 0.06857708099138324, 0.08817053270320702, 0.450649389371947, 0.09303664141073112, 0.09303664141073112, 0.744293131285849, 0.5155200144173501, 0.08965565468127829, 0.07844869784611849, 0.02988521822709276, 0.041092175062252545, 0.04482782734063914, 0.026149565948706165, 0.02241391367031957, 0.12327652518675764, 0.02988521822709276, 0.2222002299541425, 0.2811513113705476, 0.02267349285246352, 0.10883276569182489, 0.018138794281970815, 0.02267349285246352, 0.054416382845912444, 0.004534698570492704, 0.2222002299541425, 0.04534698570492704, 0.46908721593358893, 0.10825089598467437, 0.12719480278199238, 0.04059408599425289, 0.04961499399297575, 0.03608363199489146, 0.00992299879859515, 0.016237634397701154, 0.13441152918097068, 0.008118817198850577, 0.9200232005346488, 0.7294365866217458, 0.08104850962463842, 0.020262127406159604, 0.10131063703079803, 0.020262127406159604, 0.18282354031579592, 0.7770000463421327, 0.4034330546780503, 0.28035178375932307, 0.0615406354593636, 0.15043266445622214, 0.10256772576560601, 0.31687646203997394, 0.15843823101998697, 0.08531289362614683, 0.3656266869692007, 0.02437511246461338, 0.03656266869692007, 0.9641294977124111, 0.7448070649890567, 0.24826902166301892, 0.9500350025591521, 0.9444857748618062, 0.8962917713584324, 0.9047146934900852, 0.9397806729800608, 0.12776286598243672, 0.10646905498536394, 0.08517524398829115, 0.1135669919843882, 0.3548968499512131, 0.09937111798633969, 0.02839174799609705, 0.03548968499512131, 0.014195873998048525, 0.03548968499512131, 0.284197997483672, 0.16377511719398047, 0.12042288028969153, 0.019267660846350645, 0.18304277804033112, 0.028901491269525965, 0.028901491269525965, 0.10115521944334088, 0.05780298253905193, 0.009633830423175322, 0.07313900249216614, 0.12579908428652575, 0.18723584637994528, 0.2194170074764984, 0.1667569256821388, 0.04973452169467297, 0.10824572368840588, 0.0321811610965531, 0.029255600996866454, 0.008776680299059935, 0.06976580224022445, 0.10781987618943778, 0.06976580224022445, 0.1649009871132578, 0.15221629579685333, 0.057081110923820004, 0.10781987618943778, 0.21563975237887556, 0.057081110923820004, 0.9485657791555218, 0.09008171252929269, 0.9008171252929269, 0.11812673814133193, 0.04961323001935941, 0.1606523638722114, 0.1535647595837315, 0.1724650376863446, 0.0921388557502389, 0.06615097335914588, 0.07796364717327907, 0.03780055620522622, 0.07087604288479915, 0.057206304747335436, 0.0715078809341693, 0.2335924110516197, 0.08580945712100316, 0.01906876824911181, 0.023835960311389764, 0.01906876824911181, 0.10011103330783701, 0.009534384124555905, 0.37184098085768036, 0.0435591223954297, 0.15971678211657558, 0.0435591223954297, 0.014519707465143234, 0.0435591223954297, 0.05807882986057294, 0.6388671284663023, 0.020227247633244006, 0.07416657465522802, 0.013484831755496005, 0.12136348579946404, 0.16856039694370006, 0.04045449526648801, 0.2494693874766761, 0.16856039694370006, 0.10787865404396804, 0.02696966351099201, 0.08552478464557266, 0.08552478464557266, 0.11067913307074108, 0.050308696850336856, 0.26663609330678534, 0.0352160877952358, 0.18614217834624636, 0.0352160877952358, 0.07546304527550528, 0.0704321755904716, 0.13661137309540491, 0.0124192157359459, 0.031048039339864754, 0.04346725507581065, 0.0124192157359459, 0.0124192157359459, 0.0124192157359459, 0.0248384314718918, 0.7078952969489164, 0.00620960786797295, 0.8990964265904299, 0.8858831629614882, 0.9392594613967056, 0.17243994035280902, 0.6897597614112361, 0.12317138596629217, 0.07738429385461208, 0.06828025928348125, 0.05007219014121958, 0.07738429385461208, 0.10924841485357, 0.1593206049947896, 0.21849682970714, 0.18208069142261668, 0.03186412099895792, 0.022760086427827085, 0.04214125204589364, 0.12291198513385646, 0.09130604609943622, 0.2458239702677129, 0.13344729814532985, 0.01755885501912235, 0.2809416803059576, 0.03862948104206917, 0.02107062602294682, 0.00351177100382447, 0.8972435658941547, 0.12324636587199715, 0.8011013781679814, 0.061623182935998576, 0.9520442017683729, 0.054223307088945086, 0.9217962205120664, 0.0855863778567866, 0.058840634776540786, 0.2728065794185073, 0.0427931889283933, 0.058840634776540786, 0.11768126955308157, 0.09628467508888493, 0.16047445848147487, 0.037444040312344135, 0.06953893200863911, 0.22111764394314481, 0.24101823189802785, 0.07960235181953214, 0.15920470363906428, 0.08844705757725793, 0.030956470152040276, 0.03316764659147172, 0.05085705810692331, 0.0685464696223749, 0.02653411727317738, 0.8441454772886904, 0.7496718662981647, 0.03407599392264385, 0.03407599392264385, 0.1363039756905754, 0.8273309784218014, 0.9306243381606957, 0.34040688263875707, 0.14705577329994304, 0.07897439677219163, 0.2069673846443643, 0.027232550611100564, 0.019062785427770394, 0.040848825916650844, 0.09531392713885198, 0.02178604048888045, 0.019062785427770394, 0.8878095199258684, 0.0322231680061208, 0.0483347520091812, 0.161115840030604, 0.0322231680061208, 0.4350127680826308, 0.0644463360122416, 0.0483347520091812, 0.0161115840030604, 0.161115840030604, 0.9663508923892958, 0.20368486205716982, 0.1323951603371604, 0.020368486205716983, 0.09165818792572641, 0.020368486205716983, 0.010184243102858492, 0.39718548101148116, 0.040736972411433967, 0.07128970172000944, 0.010184243102858492], \"Term\": [\"abbott\", \"abbott\", \"abbott\", \"abbott\", \"abbott\", \"abbott\", \"active\", \"active\", \"active\", \"active\", \"adams\", \"advice\", \"advice\", \"advice\", \"afford\", \"afford\", \"afford\", \"afghanistan\", \"afghanistan\", \"afghanistan\", \"afghanistan\", \"afghanistan\", \"afghanistan\", \"afghanistan\", \"afghanistan\", \"agency\", \"agency\", \"agency\", \"agency\", \"agency\", \"agency\", \"agency\", \"ago\", \"ago\", \"ago\", \"ago\", \"ago\", \"ago\", \"ago\", \"ago\", \"ago\", \"ago\", \"algorithm\", \"ambassador\", \"ambassador\", \"america\", \"america\", \"america\", \"america\", \"america\", \"america\", \"america\", \"america\", \"america\", \"america\", \"american\", \"american\", \"american\", \"american\", \"american\", \"american\", \"american\", \"american\", \"american\", \"american\", \"americans\", \"americans\", \"americans\", \"americans\", \"americans\", \"americans\", \"americans\", \"americans\", \"americans\", \"americans\", \"amigo\", \"analysis\", \"analysis\", \"analysis\", \"analysis\", \"analysis\", \"analysis\", \"analysis\", \"ancestor\", \"annual\", \"annual\", \"anon\", \"anon\", \"anonymous\", \"anonymous\", \"anonymous\", \"anonymous\", \"antifa\", \"antifa\", \"antifa\", \"antifa\", \"antifa\", \"antifa\", \"antifa\", \"antifa\", \"antifa\", \"antifa\", \"antisemitism\", \"apartheid\", \"apartheid\", \"apartheid\", \"approve\", \"approve\", \"approve\", \"approve\", \"approve\", \"approve\", \"approve\", \"approve\", \"approve\", \"area\", \"area\", \"area\", \"area\", \"area\", \"area\", \"area\", \"area\", \"area\", \"area\", \"arizona\", \"arizona\", \"arizona\", \"arizona\", \"arizona\", \"arizona\", \"arizona\", \"arizona\", \"ashli\", \"ashli\", \"ashli\", \"ashli\", \"ashli\", \"ashli\", \"ask\", \"ask\", \"ask\", \"ask\", \"ask\", \"ask\", \"ask\", \"ask\", \"ask\", \"ask\", \"audit\", \"audit\", \"audit\", \"audit\", \"audit\", \"audit\", \"audit\", \"audit\", \"audit\", \"aunt\", \"australian\", \"australian\", \"babbit\", \"babbitt\", \"babbitt\", \"babbitt\", \"babbitt\", \"bad\", \"bad\", \"bad\", \"bad\", \"bad\", \"bad\", \"bad\", \"bad\", \"bad\", \"bad\", \"ballot\", \"ballot\", \"ballot\", \"ballot\", \"ballot\", \"ballot\", \"ballot\", \"ballot\", \"bangladesh\", \"bankrupt\", \"barack\", \"barack\", \"barr\", \"barr\", \"barr\", \"basement\", \"basement\", \"bay\", \"bay\", \"bay\", \"bay\", \"bay\", \"bay\", \"bday\", \"beauty\", \"bed\", \"bed\", \"bed\", \"bed\", \"bed\", \"bed\", \"belief\", \"believe\", \"believe\", \"believe\", \"believe\", \"believe\", \"believe\", \"believe\", \"believe\", \"believe\", \"believe\", \"bennett\", \"bennett\", \"berenson\", \"berenson\", \"beto\", \"biden\", \"biden\", \"biden\", \"biden\", \"biden\", \"biden\", \"biden\", \"biden\", \"biden\", \"biden\", \"bidenbordercrisis\", \"bill\", \"bill\", \"bill\", \"bill\", \"bill\", \"bill\", \"bill\", \"bill\", \"bill\", \"bill\", \"bird\", \"birth\", \"birth\", \"birth\", \"bishop\", \"black\", \"black\", \"black\", \"black\", \"black\", \"black\", \"black\", \"black\", \"black\", \"black\", \"bodycam\", \"bombshell\", \"bombshell\", \"bone\", \"bonus\", \"booster\", \"booster\", \"border\", \"border\", \"border\", \"border\", \"border\", \"border\", \"border\", \"border\", \"boyland\", \"break\", \"break\", \"break\", \"break\", \"break\", \"break\", \"break\", \"break\", \"break\", \"break\", \"breakdown\", \"breakthrough\", \"breanna\", \"brick\", \"brief\", \"bring\", \"bring\", \"bring\", \"bring\", \"bring\", \"bring\", \"bring\", \"bring\", \"bring\", \"bring\", \"british\", \"british\", \"british\", \"bully\", \"bully\", \"bus\", \"bus\", \"bus\", \"bush\", \"bush\", \"businessman\", \"cada\", \"california\", \"california\", \"california\", \"california\", \"california\", \"california\", \"california\", \"california\", \"california\", \"california\", \"call\", \"call\", \"call\", \"call\", \"call\", \"call\", \"call\", \"call\", \"call\", \"call\", \"canada\", \"canada\", \"canada\", \"canada\", \"canadas\", \"cancellation\", \"cap\", \"capitol\", \"capitol\", \"capitol\", \"capitol\", \"capitol\", \"capitol\", \"capitol\", \"capitol\", \"capitol\", \"capitol\", \"carb\", \"case\", \"case\", \"case\", \"case\", \"case\", \"case\", \"case\", \"case\", \"case\", \"case\", \"castro\", \"castro\", \"catholic\", \"catholic\", \"catholic\", \"catholic\", \"catholic\", \"ccp\", \"ccp\", \"ccp\", \"cdc\", \"cdc\", \"cdc\", \"cdc\", \"cdc\", \"cdc\", \"cdc\", \"cdc\", \"cdc\", \"cdc\", \"champion\", \"change\", \"change\", \"change\", \"change\", \"change\", \"change\", \"change\", \"change\", \"change\", \"change\", \"cheater\", \"chicago\", \"chicago\", \"chicago\", \"chicago\", \"chicago\", \"chicago\", \"child\", \"child\", \"child\", \"child\", \"child\", \"child\", \"child\", \"child\", \"child\", \"child\", \"childhood\", \"china\", \"china\", \"china\", \"china\", \"china\", \"china\", \"china\", \"china\", \"china\", \"china\", \"chuckcallesto\", \"cigarette\", \"city\", \"city\", \"city\", \"city\", \"city\", \"city\", \"city\", \"city\", \"city\", \"cnbc\", \"cnbc\", \"cnbc\", \"cnn\", \"cnn\", \"cnn\", \"cnn\", \"cnn\", \"cnn\", \"cnn\", \"cnnopinion\", \"coach\", \"cohen\", \"come\", \"come\", \"come\", \"come\", \"come\", \"come\", \"come\", \"come\", \"come\", \"come\", \"complicity\", \"conceive\", \"concerned\", \"concerned\", \"concerned\", \"concerned\", \"concerned\", \"conclude\", \"conclude\", \"conclude\", \"conclude\", \"congress\", \"congress\", \"congress\", \"congress\", \"congress\", \"congress\", \"congress\", \"congress\", \"congress\", \"congress\", \"consideration\", \"constitutionally\", \"consume\", \"contact\", \"contact\", \"contact\", \"contact\", \"cooper\", \"coordinate\", \"coronavirus\", \"coronavirus\", \"coronavirus\", \"coronavirus\", \"coronavirus\", \"coronavirus\", \"coronavirus\", \"coronavirus\", \"coronavirus\", \"correction\", \"count\", \"count\", \"count\", \"count\", \"count\", \"count\", \"count\", \"count\", \"count\", \"count\", \"country\", \"country\", \"country\", \"country\", \"country\", \"country\", \"country\", \"country\", \"country\", \"country\", \"county\", \"county\", \"county\", \"county\", \"county\", \"county\", \"county\", \"county\", \"county\", \"covid\", \"covid\", \"covid\", \"covid\", \"covid\", \"covid\", \"covid\", \"covid\", \"covid\", \"covid\", \"covidcritical\", \"cow\", \"cow\", \"coworker\", \"crawl\", \"create\", \"create\", \"create\", \"create\", \"create\", \"create\", \"create\", \"create\", \"create\", \"create\", \"creation\", \"criminal\", \"criminal\", \"criminal\", \"criminal\", \"criminal\", \"criminal\", \"criminal\", \"criminal\", \"criminal\", \"criminal\", \"critical\", \"critical\", \"critical\", \"critical\", \"critical\", \"critical\", \"critical\", \"critical\", \"crop\", \"cuba\", \"cuba\", \"cuban\", \"cubas\", \"cure\", \"cure\", \"cure\", \"cvid\", \"dallas\", \"dallas\", \"dallas\", \"dammit\", \"datum\", \"datum\", \"datum\", \"datum\", \"datum\", \"datum\", \"datum\", \"datum\", \"datum\", \"datum\", \"daughter\", \"daughter\", \"daughter\", \"daughter\", \"daughter\", \"davidfrum\", \"day\", \"day\", \"day\", \"day\", \"day\", \"day\", \"day\", \"day\", \"day\", \"day\", \"daysweek\", \"death\", \"death\", \"death\", \"death\", \"death\", \"death\", \"death\", \"death\", \"death\", \"death\", \"deathsantis\", \"deathsantis\", \"debt\", \"debt\", \"debt\", \"decent\", \"decrease\", \"dedicate\", \"defendant\", \"degenerate\", \"dehumanize\", \"delta\", \"delta\", \"delta\", \"delta\", \"delta\", \"delta\", \"dementia\", \"dementia\", \"democrat\", \"democrat\", \"democrat\", \"democrat\", \"democrat\", \"democrat\", \"democrat\", \"democrat\", \"democrat\", \"democrat\", \"demographic\", \"demonize\", \"demonstration\", \"detect\", \"determine\", \"determine\", \"determine\", \"dewormer\", \"dewormer\", \"dewormer\", \"diabete\", \"diabetes\", \"die\", \"die\", \"die\", \"die\", \"die\", \"die\", \"die\", \"die\", \"die\", \"die\", \"digital\", \"dirtbag\", \"disapprove\", \"discharge\", \"disclose\", \"discord\", \"discount\", \"dish\", \"dismiss\", \"dismiss\", \"dismiss\", \"dnc\", \"dnc\", \"doc\", \"doctor\", \"doctor\", \"doctor\", \"doctor\", \"doctor\", \"doctor\", \"doctor\", \"doctor\", \"doctor\", \"dog\", \"dog\", \"dog\", \"dog\", \"dog\", \"dog\", \"dog\", \"dog\", \"dog\", \"dollar\", \"dollar\", \"dollar\", \"dollar\", \"dollar\", \"dollar\", \"dollar\", \"dollar\", \"domino\", \"donald\", \"donald\", \"donald\", \"donald\", \"donald\", \"donald\", \"donald\", \"donald\", \"donald\", \"donation\", \"donation\", \"donation\", \"dose\", \"dose\", \"dose\", \"dose\", \"dose\", \"drsimonegold\", \"duty\", \"duty\", \"duty\", \"duty\", \"duty\", \"duty\", \"earthquake\", \"earthquake\", \"earthquake\", \"earthquake\", \"earthquake\", \"earthquake\", \"earthquake\", \"earthquake\", \"earthquake\", \"effect\", \"effect\", \"effect\", \"effect\", \"effect\", \"effect\", \"effect\", \"effect\", \"effectiveness\", \"election\", \"election\", \"election\", \"election\", \"election\", \"election\", \"election\", \"election\", \"election\", \"election\", \"elector\", \"embassy\", \"emily_burns_v\", \"emoji\", \"emoji\", \"end\", \"end\", \"end\", \"end\", \"end\", \"end\", \"end\", \"end\", \"end\", \"end\", \"enormous\", \"episode\", \"episode\", \"estos\", \"eugenicist\", \"eureka\", \"execution\", \"expectation\", \"experimental\", \"experimental\", \"experimental\", \"experimental\", \"experimental\", \"experimental\", \"experimental\", \"experimental\", \"explode\", \"explode\", \"explosion\", \"fabricate\", \"facemask\", \"fact\", \"fact\", \"fact\", \"fact\", \"fact\", \"fact\", \"fact\", \"fact\", \"fact\", \"fact\", \"factcheck\", \"factcheck\", \"fall\", \"fall\", \"fall\", \"fall\", \"fall\", \"fall\", \"fall\", \"fall\", \"fall\", \"fall\", \"fallen\", \"farmer\", \"fascinating\", \"fauci\", \"fauci\", \"fauci\", \"fauci\", \"fauci\", \"fauci\", \"fauci\", \"fauci\", \"fauci\", \"faucis\", \"fbi\", \"fbi\", \"fbi\", \"fbi\", \"fbi\", \"fbi\", \"fbi\", \"fbi\", \"fbi\", \"fda\", \"fda\", \"fda\", \"fda\", \"fda\", \"fda\", \"fda\", \"fda\", \"fearmongere\", \"fighting\", \"file\", \"file\", \"file\", \"file\", \"file\", \"file\", \"flee\", \"flee\", \"flee\", \"flow\", \"flow\", \"flulike\", \"force\", \"force\", \"force\", \"force\", \"force\", \"force\", \"force\", \"force\", \"force\", \"force\", \"forecast\", \"forecast\", \"forecast\", \"foreshock\", \"fox\", \"fox\", \"fox\", \"fox\", \"fox\", \"fox\", \"french\", \"french\", \"french\", \"function\", \"function\", \"function\", \"function\", \"function\", \"fund\", \"fund\", \"fund\", \"fund\", \"fund\", \"fund\", \"fund\", \"fund\", \"gala\", \"game\", \"game\", \"game\", \"game\", \"game\", \"game\", \"game\", \"game\", \"game\", \"gaslight\", \"gaslight\", \"gear\", \"gen\", \"genome\", \"germany\", \"germany\", \"germany\", \"germany\", \"get\", \"get\", \"get\", \"get\", \"get\", \"get\", \"get\", \"get\", \"get\", \"get\", \"gfy\", \"good\", \"good\", \"good\", \"good\", \"good\", \"good\", \"good\", \"good\", \"good\", \"good\", \"gore\", \"government\", \"government\", \"government\", \"government\", \"government\", \"government\", \"government\", \"government\", \"government\", \"government\", \"govrondesantis\", \"govrondesantis\", \"govrondesantis\", \"govt\", \"govt\", \"govt\", \"govt\", \"govt\", \"govt\", \"govt\", \"govt\", \"graph\", \"graph\", \"graph\", \"graph\", \"gun\", \"gun\", \"gun\", \"gun\", \"gun\", \"gun\", \"gun\", \"gun\", \"gun\", \"gun\", \"haitian\", \"handgun\", \"handler\", \"handler\", \"hannity\", \"harmless\", \"harmless\", \"harris\", \"harris\", \"harris\", \"harris\", \"harris\", \"harris\", \"harris\", \"harvard\", \"healthcare\", \"healthcare\", \"healthcare\", \"healthcare\", \"healthcare\", \"heartbreake\", \"heel\", \"het\", \"hhs\", \"hhs\", \"high\", \"high\", \"high\", \"high\", \"high\", \"high\", \"high\", \"high\", \"high\", \"high\", \"hillary\", \"hit\", \"hit\", \"hit\", \"hit\", \"hit\", \"hit\", \"hit\", \"hit\", \"hit\", \"hit\", \"hoax\", \"hoax\", \"hoax\", \"hoax\", \"hoax\", \"hoax\", \"hoax\", \"hoax\", \"hoax\", \"holiday\", \"holiday\", \"hospital\", \"hospital\", \"hospital\", \"hospital\", \"hospital\", \"hospital\", \"hospital\", \"hospital\", \"hospital\", \"hospital\", \"hour\", \"hour\", \"hour\", \"hour\", \"hour\", \"hour\", \"hour\", \"hour\", \"hour\", \"hour\", \"hydroxychloroquine\", \"hydroxychloroquine\", \"hydroxychloroquine\", \"hydroxychloroquine\", \"hydroxychloroquine\", \"hydroxychloroquine\", \"hype\", \"hype\", \"hype\", \"hypertension\", \"hysteria\", \"icu\", \"icu\", \"icu\", \"imagine\", \"imagine\", \"imagine\", \"imagine\", \"imagine\", \"imagine\", \"imagine\", \"immediate\", \"immune\", \"immune\", \"immune\", \"immune\", \"immune\", \"immune\", \"immunity\", \"immunity\", \"immunity\", \"immunity\", \"immunity\", \"immunity\", \"immunity\", \"impeachable\", \"impossible\", \"impossible\", \"impossible\", \"incidence\", \"indefinitely\", \"indiana\", \"indiana\", \"induce\", \"inflate\", \"inflation\", \"inflation\", \"inflation\", \"inflation\", \"inflation\", \"infographic\", \"initial\", \"inperson\", \"install\", \"instruction\", \"instruction\", \"interpretation\", \"inventor\", \"invite\", \"invite\", \"invite\", \"invite\", \"israeli\", \"israeli\", \"israeli\", \"israeli\", \"israeli\", \"israeli\", \"israeli\", \"israeli\", \"israels\", \"israels\", \"ivermectin\", \"ivermectin\", \"ivermectin\", \"ivermectin\", \"ivermectin\", \"ivermectin\", \"ivermectin\", \"ivermectin\", \"jab\", \"jab\", \"jab\", \"jab\", \"jab\", \"january\", \"january\", \"january\", \"january\", \"january\", \"january\", \"january\", \"january\", \"january\", \"japan\", \"japan\", \"jealous\", \"jenna\", \"jerrys\", \"job\", \"job\", \"job\", \"job\", \"job\", \"job\", \"job\", \"job\", \"job\", \"job\", \"joe\", \"joe\", \"joe\", \"joe\", \"joe\", \"joe\", \"joe\", \"joe\", \"joe\", \"joe\", \"jonathan\", \"journalism\", \"journalism\", \"journalism\", \"journey\", \"journey\", \"julie_kelly\", \"justintrudeau\", \"kamala\", \"kamala\", \"kamala\", \"kamala\", \"kamala\", \"kamala\", \"kamala\", \"kill\", \"kill\", \"kill\", \"kill\", \"kill\", \"kill\", \"kill\", \"kill\", \"kill\", \"kill\", \"kit\", \"kit\", \"klan\", \"klux\", \"kneel\", \"know\", \"know\", \"know\", \"know\", \"know\", \"know\", \"know\", \"know\", \"know\", \"know\", \"koreas\", \"kslcom\", \"laptop\", \"laptop\", \"las\", \"las\", \"las\", \"lazy\", \"leave\", \"leave\", \"leave\", \"leave\", \"leave\", \"leave\", \"leave\", \"leave\", \"leave\", \"leave\", \"legalize\", \"let\", \"let\", \"let\", \"let\", \"let\", \"let\", \"let\", \"let\", \"let\", \"let\", \"lie\", \"lie\", \"lie\", \"lie\", \"lie\", \"lie\", \"lie\", \"lie\", \"lie\", \"lie\", \"life\", \"life\", \"life\", \"life\", \"life\", \"life\", \"life\", \"life\", \"life\", \"life\", \"lightfoot\", \"lightfoot\", \"like\", \"like\", \"like\", \"like\", \"like\", \"like\", \"like\", \"like\", \"like\", \"like\", \"likely\", \"likely\", \"likely\", \"likely\", \"likely\", \"likely\", \"likely\", \"likely\", \"likely\", \"likely\", \"likeminded\", \"list\", \"list\", \"list\", \"list\", \"list\", \"list\", \"list\", \"list\", \"live\", \"live\", \"live\", \"live\", \"live\", \"live\", \"live\", \"live\", \"live\", \"live\", \"livestock\", \"long\", \"long\", \"long\", \"long\", \"long\", \"long\", \"long\", \"long\", \"long\", \"long\", \"look\", \"look\", \"look\", \"look\", \"look\", \"look\", \"look\", \"look\", \"look\", \"look\", \"loose\", \"lori\", \"lori\", \"los angeles\", \"los angeles\", \"los angeles\", \"los angeles\", \"los angeles\", \"los angeles\", \"los angeles\", \"los angeles\", \"lose\", \"lose\", \"lose\", \"lose\", \"lose\", \"lose\", \"lose\", \"lose\", \"lose\", \"loss\", \"loss\", \"loss\", \"loss\", \"loss\", \"loss\", \"louisville\", \"lsferguson\", \"man\", \"man\", \"man\", \"man\", \"man\", \"man\", \"man\", \"man\", \"man\", \"man\", \"management\", \"management\", \"mandate\", \"mandate\", \"mandate\", \"mandate\", \"mandate\", \"mandate\", \"mandate\", \"mandate\", \"mandate\", \"mandate\", \"mandatory\", \"mandatory\", \"mandatory\", \"mandatory\", \"mantener\", \"maricopa\", \"maricopa\", \"maricopa\", \"maricopa\", \"maricopa\", \"maricopa\", \"martial\", \"mask\", \"mask\", \"mask\", \"mask\", \"mask\", \"mask\", \"mask\", \"mask\", \"mask\", \"mask\", \"maskless\", \"maskless\", \"maskless\", \"maskless\", \"mat\", \"match\", \"match\", \"match\", \"mcallen\", \"mean\", \"mean\", \"mean\", \"mean\", \"mean\", \"mean\", \"mean\", \"mean\", \"mean\", \"mean\", \"meaningful\", \"medium\", \"medium\", \"medium\", \"medium\", \"medium\", \"medium\", \"medium\", \"medium\", \"medium\", \"medium\", \"meeting\", \"meeting\", \"meeting\", \"meeting\", \"meeting\", \"meeting\", \"megan\", \"meltdown\", \"member\", \"member\", \"member\", \"member\", \"member\", \"member\", \"member\", \"member\", \"member\", \"member\", \"metro\", \"military\", \"military\", \"military\", \"military\", \"military\", \"military\", \"military\", \"military\", \"military\", \"military\", \"million\", \"million\", \"million\", \"million\", \"million\", \"million\", \"million\", \"million\", \"million\", \"million\", \"minaj\", \"minister\", \"minister\", \"minister\", \"minister\", \"ministry\", \"money\", \"money\", \"money\", \"money\", \"money\", \"money\", \"money\", \"money\", \"money\", \"money\", \"month\", \"month\", \"month\", \"month\", \"month\", \"month\", \"month\", \"month\", \"month\", \"month\", \"monthold\", \"mortality\", \"moscow\", \"mother\", \"mother\", \"mother\", \"mother\", \"mother\", \"mother\", \"mother\", \"mother\", \"mother\", \"movie\", \"movie\", \"movie\", \"movie\", \"muy\", \"muy\", \"muzzle\", \"narrowly\", \"natural\", \"natural\", \"natural\", \"natural\", \"natural\", \"natural\", \"natural\", \"natural\", \"natural\", \"near\", \"near\", \"near\", \"near\", \"near\", \"near\", \"near\", \"near\", \"near\", \"near\", \"need\", \"need\", \"need\", \"need\", \"need\", \"need\", \"need\", \"need\", \"need\", \"need\", \"needle\", \"negotiate\", \"new\", \"new\", \"new\", \"new\", \"new\", \"new\", \"new\", \"new\", \"new\", \"new\", \"newsom\", \"newsom\", \"newsom\", \"newsom\", \"newsom\", \"newsom\", \"niaid\", \"nicki\", \"niet\", \"night\", \"night\", \"night\", \"night\", \"night\", \"night\", \"night\", \"night\", \"night\", \"night\", \"nih\", \"nih\", \"nih\", \"nose\", \"nov\", \"nov\", \"nov\", \"nuremberg\", \"nurse\", \"nurse\", \"nurse\", \"nurse\", \"nurse\", \"nurse\", \"obama\", \"obama\", \"obama\", \"obama\", \"obama\", \"obama\", \"obamas\", \"obsolete\", \"officer\", \"officer\", \"officer\", \"officer\", \"officer\", \"officer\", \"officer\", \"officer\", \"officer\", \"officer\", \"old\", \"old\", \"old\", \"old\", \"old\", \"old\", \"old\", \"old\", \"old\", \"old\", \"olympic\", \"olympic\", \"olympic\", \"olympic\", \"olympic\", \"opener\", \"order\", \"order\", \"order\", \"order\", \"order\", \"order\", \"order\", \"order\", \"order\", \"order\", \"organ\", \"organization\", \"organization\", \"organization\", \"organization\", \"organization\", \"outstanding\", \"overreach\", \"overturn\", \"overturn\", \"overturn\", \"overturn\", \"para\", \"parade\", \"parade\", \"parade\", \"participant\", \"partner\", \"partner\", \"partner\", \"partner\", \"partner\", \"partner\", \"party\", \"party\", \"party\", \"party\", \"party\", \"party\", \"party\", \"party\", \"party\", \"party\", \"pass\", \"pass\", \"pass\", \"pass\", \"pass\", \"pass\", \"pass\", \"pass\", \"pass\", \"pass\", \"paste\", \"patriot\", \"patriot\", \"patriot\", \"patriot\", \"patriot\", \"patriot\", \"patriot\", \"patriot\", \"pave\", \"pay\", \"pay\", \"pay\", \"pay\", \"pay\", \"pay\", \"pay\", \"pay\", \"pay\", \"pay\", \"pen\", \"pen\", \"people\", \"people\", \"people\", \"people\", \"people\", \"people\", \"people\", \"people\", \"people\", \"people\", \"percentage\", \"percentage\", \"perpetuate\", \"perpetuate\", \"persona\", \"pfizer\", \"pfizer\", \"pfizer\", \"pfizer\", \"pfizer\", \"pfizer\", \"pfizer\", \"pfizer\", \"pfizer\", \"pfizer\", \"pharmacist\", \"phone\", \"phone\", \"phone\", \"phone\", \"phone\", \"phone\", \"physicist\", \"pierre\", \"poison\", \"poison\", \"poison\", \"poison\", \"poison\", \"poison\", \"poison\", \"pol\", \"police\", \"police\", \"police\", \"police\", \"police\", \"police\", \"police\", \"police\", \"police\", \"police\", \"polio\", \"polio\", \"polio\", \"polio\", \"polio\", \"population\", \"population\", \"population\", \"population\", \"population\", \"population\", \"population\", \"por\", \"por\", \"por\", \"positive\", \"positive\", \"positive\", \"positive\", \"positive\", \"positive\", \"positive\", \"positive\", \"possible\", \"possible\", \"possible\", \"possible\", \"possible\", \"possible\", \"possible\", \"possible\", \"possible\", \"power\", \"power\", \"power\", \"power\", \"power\", \"power\", \"power\", \"power\", \"power\", \"power\", \"predator\", \"predictable\", \"pregnant\", \"pregnant\", \"pregnant\", \"pregnant\", \"pregnant\", \"pregnant\", \"preorder\", \"preorder\", \"prescription\", \"prescription\", \"preserve\", \"president\", \"president\", \"president\", \"president\", \"president\", \"president\", \"president\", \"president\", \"president\", \"president\", \"prevent\", \"prevent\", \"prevent\", \"prevent\", \"prevent\", \"prevent\", \"prevent\", \"prevent\", \"prevent\", \"programme\", \"prop\", \"prop\", \"propaganda\", \"propaganda\", \"propaganda\", \"propaganda\", \"propaganda\", \"propaganda\", \"prophylaxis\", \"publish\", \"publish\", \"publish\", \"publish\", \"push\", \"push\", \"push\", \"push\", \"push\", \"push\", \"push\", \"push\", \"push\", \"push\", \"quake\", \"qualified\", \"question\", \"question\", \"question\", \"question\", \"question\", \"question\", \"question\", \"question\", \"question\", \"question\", \"quick\", \"quick\", \"quick\", \"quick\", \"quick\", \"quiet\", \"quiet\", \"quit\", \"quit\", \"quit\", \"quit\", \"race\", \"race\", \"race\", \"race\", \"race\", \"race\", \"race\", \"race\", \"race\", \"race\", \"raid\", \"raid\", \"raid\", \"randpaul\", \"randpaul\", \"randpaul\", \"ransom\", \"ransom\", \"rapinoe\", \"rate\", \"rate\", \"rate\", \"rate\", \"rate\", \"rate\", \"rate\", \"rate\", \"rate\", \"realpnavarro\", \"recommend\", \"recommend\", \"recommend\", \"recommend\", \"recommend\", \"recommend\", \"recommend\", \"recovery\", \"recovery\", \"recovery\", \"reef\", \"reinstate\", \"reinstate\", \"reinstate\", \"reinstate\", \"report\", \"report\", \"report\", \"report\", \"report\", \"report\", \"report\", \"report\", \"report\", \"report\", \"requirement\", \"requirement\", \"requirement\", \"rick\", \"ridgecrest\", \"ridgecrest\", \"rifle\", \"rifle\", \"rifle\", \"right\", \"right\", \"right\", \"right\", \"right\", \"right\", \"right\", \"right\", \"right\", \"right\", \"risk\", \"risk\", \"risk\", \"risk\", \"risk\", \"risk\", \"risk\", \"risk\", \"risk\", \"risk\", \"robert\", \"robert\", \"robert\", \"robert\", \"robert\", \"robert\", \"robert\", \"rochelle\", \"rocket\", \"rocket\", \"rocket\", \"ruling\", \"salary\", \"salton\", \"salton\", \"salton\", \"salton\", \"san francisco\", \"san francisco\", \"san francisco\", \"san francisco\", \"san francisco\", \"san francisco\", \"san francisco\", \"say\", \"say\", \"say\", \"say\", \"say\", \"say\", \"say\", \"say\", \"say\", \"say\", \"sayin\", \"school\", \"school\", \"school\", \"school\", \"school\", \"school\", \"school\", \"school\", \"school\", \"school\", \"scottgottliebmd\", \"sea\", \"sea\", \"sea\", \"sea\", \"sea\", \"sea\", \"search\", \"search\", \"secret\", \"secret\", \"selling\", \"sense\", \"sense\", \"sense\", \"sense\", \"sense\", \"sense\", \"sense\", \"servant\", \"servant\", \"servant\", \"shelter\", \"shocking\", \"shocking\", \"shoot\", \"shoot\", \"shoot\", \"shoot\", \"shoot\", \"shoot\", \"shoot\", \"shoot\", \"shot\", \"shot\", \"shot\", \"shot\", \"shot\", \"shot\", \"shot\", \"shot\", \"shot\", \"shove\", \"shove\", \"showcase\", \"sht\", \"sht\", \"skull\", \"slap\", \"smoke\", \"smoke\", \"soccer\", \"software\", \"spread\", \"spread\", \"spread\", \"spread\", \"spread\", \"spread\", \"spread\", \"spread\", \"spread\", \"spread\", \"spreader\", \"spreader\", \"spreader\", \"spreader\", \"spreader\", \"stair\", \"state\", \"state\", \"state\", \"state\", \"state\", \"state\", \"state\", \"state\", \"state\", \"state\", \"statewide\", \"statewide\", \"statistic\", \"steam\", \"sting\", \"stop\", \"stop\", \"stop\", \"stop\", \"stop\", \"stop\", \"stop\", \"stop\", \"stop\", \"stop\", \"strategic\", \"stroll\", \"strong\", \"strong\", \"strong\", \"strong\", \"strong\", \"strong\", \"strong\", \"strong\", \"student\", \"student\", \"student\", \"student\", \"student\", \"student\", \"student\", \"student\", \"student\", \"student\", \"study\", \"study\", \"study\", \"study\", \"study\", \"study\", \"study\", \"study\", \"study\", \"stunning\", \"stunning\", \"stunning\", \"substance\", \"success\", \"success\", \"success\", \"success\", \"success\", \"succumb\", \"sudden\", \"sudden\", \"sue\", \"sue\", \"sue\", \"sue\", \"sue\", \"survive\", \"survive\", \"survive\", \"survive\", \"suspend\", \"suspend\", \"suspend\", \"suspend\", \"suspend\", \"suspend\", \"swarm\", \"switch\", \"switch\", \"switch\", \"take\", \"take\", \"take\", \"take\", \"take\", \"take\", \"take\", \"take\", \"take\", \"take\", \"taliban\", \"taliban\", \"taliban\", \"taliban\", \"taliban\", \"taliban\", \"taliban\", \"taliban\", \"talk\", \"talk\", \"talk\", \"talk\", \"talk\", \"talk\", \"talk\", \"talk\", \"talk\", \"talk\", \"tara\", \"tax\", \"tax\", \"tax\", \"tax\", \"tax\", \"tax\", \"tax\", \"tax\", \"taxis\", \"taxis\", \"taxis\", \"taxis\", \"taxis\", \"taxis\", \"taxis\", \"taxis\", \"team\", \"team\", \"team\", \"team\", \"team\", \"team\", \"team\", \"tell\", \"tell\", \"tell\", \"tell\", \"tell\", \"tell\", \"tell\", \"tell\", \"tell\", \"tell\", \"test\", \"test\", \"test\", \"test\", \"test\", \"test\", \"test\", \"test\", \"test\", \"test\", \"thefirstontv\", \"theory\", \"theory\", \"theory\", \"theory\", \"theory\", \"theory\", \"theory\", \"theory\", \"think\", \"think\", \"think\", \"think\", \"think\", \"think\", \"think\", \"think\", \"think\", \"think\", \"thug\", \"thug\", \"time\", \"time\", \"time\", \"time\", \"time\", \"time\", \"time\", \"time\", \"time\", \"time\", \"today\", \"today\", \"today\", \"today\", \"today\", \"today\", \"today\", \"today\", \"today\", \"today\", \"tokyo\", \"tony\", \"tony\", \"topic\", \"torture\", \"torture\", \"toss\", \"trafficking\", \"trafficking\", \"transmissible\", \"transport\", \"transport\", \"treatment\", \"treatment\", \"treatment\", \"treatment\", \"treatment\", \"treatment\", \"treatment\", \"treatment\", \"treatment\", \"troop\", \"troop\", \"troop\", \"troop\", \"troop\", \"troop\", \"troop\", \"truck\", \"truck\", \"truck\", \"truck\", \"trucker\", \"trudeaus\", \"true\", \"true\", \"true\", \"true\", \"true\", \"true\", \"true\", \"true\", \"trump\", \"trump\", \"trump\", \"trump\", \"trump\", \"trump\", \"trump\", \"trump\", \"trump\", \"trump\", \"try\", \"try\", \"try\", \"try\", \"try\", \"try\", \"try\", \"try\", \"try\", \"try\", \"tucker\", \"tucker\", \"tucker\", \"tucker\", \"tucker\", \"tucker\", \"twisted\", \"twitter\", \"twitter\", \"twitter\", \"twitter\", \"twitter\", \"twitter\", \"twitter\", \"twitter\", \"twitter\", \"twitter\", \"tyranny\", \"tyranny\", \"uae\", \"ugh\", \"unaware\", \"unconscionable\", \"unforgivable\", \"unite\", \"unsafe\", \"unvaccinate\", \"unvaccinate\", \"unvaccinated\", \"unvaccinated\", \"unvaccinated\", \"unvaccinated\", \"unvaccinated\", \"uscp\", \"uscp\", \"uscp\", \"vaccinate\", \"vaccinate\", \"vaccinate\", \"vaccinate\", \"vaccinate\", \"vaccinate\", \"vaccinate\", \"vaccinate\", \"vaccinate\", \"vaccinate\", \"vaccinated\", \"vaccinated\", \"vaccinated\", \"vaccinated\", \"vaccinated\", \"vaccinated\", \"vaccinated\", \"vaccinated\", \"vaccinated\", \"vaccinated\", \"vaccine\", \"vaccine\", \"vaccine\", \"vaccine\", \"vaccine\", \"vaccine\", \"vaccine\", \"vaccine\", \"vaccine\", \"vaccine\", \"vaccineinduced\", \"vaer\", \"vaer\", \"vaer\", \"vaer\", \"vaer\", \"valid\", \"valid\", \"variant\", \"variant\", \"variant\", \"variant\", \"variant\", \"vax\", \"vax\", \"vax\", \"vax\", \"vax\", \"vax\", \"vaxx\", \"vaxxed\", \"vaxxed\", \"vccine\", \"vehicle\", \"ventilator\", \"ver\", \"versus\", \"video\", \"video\", \"video\", \"video\", \"video\", \"video\", \"video\", \"video\", \"video\", \"video\", \"virus\", \"virus\", \"virus\", \"virus\", \"virus\", \"virus\", \"virus\", \"virus\", \"virus\", \"virus\", \"vote\", \"vote\", \"vote\", \"vote\", \"vote\", \"vote\", \"vote\", \"vote\", \"vote\", \"vote\", \"voter\", \"voter\", \"voter\", \"voter\", \"voter\", \"voter\", \"voter\", \"voter\", \"voter\", \"walgreen\", \"walker\", \"walker\", \"want\", \"want\", \"want\", \"want\", \"want\", \"want\", \"want\", \"want\", \"want\", \"want\", \"warn\", \"warn\", \"warn\", \"warn\", \"warn\", \"warn\", \"warn\", \"warn\", \"warn\", \"warn\", \"warning\", \"warning\", \"warning\", \"warning\", \"warning\", \"warning\", \"warning\", \"watch\", \"watch\", \"watch\", \"watch\", \"watch\", \"watch\", \"watch\", \"watch\", \"watch\", \"watch\", \"way\", \"way\", \"way\", \"way\", \"way\", \"way\", \"way\", \"way\", \"way\", \"way\", \"wear\", \"wear\", \"wear\", \"wear\", \"wear\", \"wear\", \"wear\", \"wear\", \"wear\", \"wear\", \"web\", \"wellbeing\", \"welp\", \"whistleblower\", \"whistleblower\", \"whistleblower\", \"white\", \"white\", \"white\", \"white\", \"white\", \"white\", \"white\", \"white\", \"white\", \"white\", \"win\", \"win\", \"win\", \"win\", \"win\", \"win\", \"win\", \"win\", \"win\", \"win\", \"wine\", \"winner\", \"winner\", \"winner\", \"wipe\", \"wisconsin\", \"wisconsin\", \"woman\", \"woman\", \"woman\", \"woman\", \"woman\", \"woman\", \"woman\", \"woman\", \"woman\", \"woman\", \"work\", \"work\", \"work\", \"work\", \"work\", \"work\", \"work\", \"work\", \"work\", \"work\", \"workplace\", \"worried\", \"worried\", \"worried\", \"worried\", \"worsen\", \"wwii\", \"year\", \"year\", \"year\", \"year\", \"year\", \"year\", \"year\", \"year\", \"year\", \"year\", \"yearly\", \"yearold\", \"yearold\", \"yearold\", \"yearold\", \"yearold\", \"yearold\", \"yearold\", \"yearold\", \"yearold\", \"yellow\", \"you\", \"you\", \"you\", \"you\", \"you\", \"you\", \"you\", \"you\", \"you\", \"you\"]}, \"R\": 30, \"lambda.step\": 0.01, \"plot.opts\": {\"xlab\": \"PC1\", \"ylab\": \"PC2\"}, \"topic.order\": [10, 1, 2, 6, 7, 8, 4, 9, 3, 5]};\n\nfunction LDAvis_load_lib(url, callback){\n  var s = document.createElement('script');\n  s.src = url;\n  s.async = true;\n  s.onreadystatechange = s.onload = callback;\n  s.onerror = function(){console.warn(\"failed to load library \" + url);};\n  document.getElementsByTagName(\"head\")[0].appendChild(s);\n}\n\nif(typeof(LDAvis) !== \"undefined\"){\n   // already loaded: just create the visualization\n   !function(LDAvis){\n       new LDAvis(\"#\" + \"ldavis_el4001407181747510888346870897\", ldavis_el4001407181747510888346870897_data);\n   }(LDAvis);\n}else if(typeof define === \"function\" && define.amd){\n   // require.js is available: use it to load d3/LDAvis\n   require.config({paths: {d3: \"https://d3js.org/d3.v5\"}});\n   require([\"d3\"], function(d3){\n      window.d3 = d3;\n      LDAvis_load_lib(\"https://cdn.jsdelivr.net/gh/bmabey/pyLDAvis@3.3.1/pyLDAvis/js/ldavis.v3.0.0.js\", function(){\n        new LDAvis(\"#\" + \"ldavis_el4001407181747510888346870897\", ldavis_el4001407181747510888346870897_data);\n      });\n    });\n}else{\n    // require.js not available: dynamically load d3 & LDAvis\n    LDAvis_load_lib(\"https://d3js.org/d3.v5.js\", function(){\n         LDAvis_load_lib(\"https://cdn.jsdelivr.net/gh/bmabey/pyLDAvis@3.3.1/pyLDAvis/js/ldavis.v3.0.0.js\", function(){\n                 new LDAvis(\"#\" + \"ldavis_el4001407181747510888346870897\", ldavis_el4001407181747510888346870897_data);\n            })\n         });\n}\n</script>"
     },
     "metadata": {}
    }
   ]
  },
  {
   "cell_type": "markdown",
   "source": "## Unfinished Explorations",
   "metadata": {
    "tags": [],
    "is_collapsed": false,
    "cell_id": "00012-394b7f88-4673-487d-b538-8ad79a74cc73",
    "deepnote_cell_type": "text-cell-h2",
    "deepnote_cell_height": 70
   }
  },
  {
   "cell_type": "markdown",
   "source": "Suspiciously common vector analysis",
   "metadata": {
    "tags": [],
    "cell_id": "00001-c7de2384-3161-4d1e-b99a-d22c424821ca",
    "deepnote_cell_type": "markdown",
    "deepnote_cell_height": 52.399993896484375
   }
  },
  {
   "cell_type": "code",
   "metadata": {
    "tags": [],
    "cell_id": "00000-a3df4c07-b276-4e22-9db2-042c38ed8edc",
    "deepnote_to_be_reexecuted": false,
    "source_hash": "45dc19bf",
    "execution_start": 1646094499601,
    "execution_millis": 19662,
    "deepnote_cell_type": "code",
    "deepnote_cell_height": 185.39999389648438
   },
   "source": "# nums = '0.5165612 -0.2748843 0.23414916 -0.03353653 0.14822118 -0.2140591 -0.273715 0.31182715 -0.28392965 0.03833102 0.71412915 -0.12623966 0.01060359 -0.22177511 -0.48231328 0.29029948 0.19768755 0.23107074 -0.6973527 -0.02526714 -0.32837042 0.12478355 0.01376466 -0.16914183 0.3283727 -0.45044652 0.17814918 -0.49533963 0.1848702 -0.14078267 0.21354735 0.33570722 -0.16036382 -0.24869299 0.11315513 -0.35369763 -0.1663535 0.5083657 -0.04987437 0.4141711 0.10442343 0.41257355 -0.41149414 0.26209757 0.26663744 -0.21748962 0.08647469 -0.06590172 -0.24378727 -0.27255812 0.5440032 -0.27095118 -0.1553473 0.0673851 -0.03265667 -0.22625995 0.43378648 -0.0917755 0.10038939 0.04093109 0.349573 -0.41145465 0.2382577 -0.36835834 0.02527652 -0.21686192 -0.7478197 0.04894651 -0.07372946 0.07308427 0.12849472 0.21438135 -0.24230045 -0.23281254 -0.04018355 0.17432278 0.01564372 -0.08756901 -0.4357647 0.07869332 0.11019602 0.4734359 0.3662394 0.40063536 -0.2054153 -0.12328431 -0.03628931 -0.60807943 0.04818559 0.3079439 -0.5035178 0.02922824 0.45156133 -0.10860304 -0.133015 0.27818713'\n\nnums = '0.5165612 -0.2748843 0.23414916 -0.03353653 0.14822118 -0.2140591 -0.273715 0.31182715 -0.28392965 0.03833102 0.71412915 -0.12623966 0.01060359 -0.22177511 -0.48231328 0.29029948 0.19768755 0.23107074 -0.6973527 -0.02526714 -0.32837042 0.12478355 0.01376466 -0.16914183 0.3283727 -0.45044652 0.17814918 -0.49533963 0.1848702 -0.14078267 0.21354735 0.33570722 -0.16036382 -0.24869299 0.11315513 -0.35369763 -0.1663535 0.5083657 -0.04987437 0.4141711 0.10442343 0.41257355 -0.41149414 0.26209757 0.26663744 -0.21748962 0.08647469 -0.06590172 -0.24378727 -0.27255812 0.5440032 -0.27095118 -0.1553473 0.0673851 -0.03265667 -0.22625995 0.43378648 -0.0917755 0.10038939 0.04093109 0.349573 -0.41145465 0.2382577 -0.36835834 0.02527652 -0.21686192 -0.7478197 0.04894651 -0.07372946 0.07308427 0.12849472 0.21438135 -0.24230045 -0.23281254 -0.04018355 0.17432278 0.01564372 -0.08756901 -0.4357647 0.07869332 0.11019602 0.4734359 0.3662394 0.40063536 -0.2054153 -0.12328431 -0.03628931 -0.60807943 0.04818559 0.3079439 -0.5035178 0.02922824 0.45156133 -0.10860304 -0.133015 0.27818713'.split()\nnums = [float(x) for x in nums]",
   "execution_count": null,
   "outputs": [
    {
     "name": "stderr",
     "text": "/shared-libs/python3.8/py-core/lib/python3.8/site-packages/ipykernel/ipkernel.py:283: DeprecationWarning: `should_run_async` will not call `transform_cell` automatically in the future. Please pass the result to `transformed_cell` argument and any exception that happen during thetransform in `preprocessing_exc_tuple` in IPython 7.17 and above.\n  and should_run_async(code)\n",
     "output_type": "stream"
    }
   ]
  },
  {
   "cell_type": "code",
   "metadata": {
    "tags": [],
    "cell_id": "00002-d8e2e359-994e-425e-8fd0-0a94c68fb64e",
    "deepnote_to_be_reexecuted": false,
    "source_hash": "bb85a136",
    "execution_start": 1646094499609,
    "execution_millis": 19661,
    "deepnote_cell_type": "code",
    "deepnote_cell_height": 203.39999389648438
   },
   "source": "def my_helpful_vector_comparison(row):\n    try:\n        return np.allclose(row.vector, nums)\n    except:\n        return False",
   "execution_count": null,
   "outputs": [
    {
     "name": "stderr",
     "text": "/shared-libs/python3.8/py-core/lib/python3.8/site-packages/ipykernel/ipkernel.py:283: DeprecationWarning: `should_run_async` will not call `transform_cell` automatically in the future. Please pass the result to `transformed_cell` argument and any exception that happen during thetransform in `preprocessing_exc_tuple` in IPython 7.17 and above.\n  and should_run_async(code)\n",
     "output_type": "stream"
    }
   ]
  },
  {
   "cell_type": "code",
   "metadata": {
    "tags": [],
    "cell_id": "00003-899caa17-867c-4b44-92c1-a17f5a819a7a",
    "deepnote_to_be_reexecuted": false,
    "source_hash": "cf6dda86",
    "execution_start": 1646094499630,
    "execution_millis": 4,
    "deepnote_cell_type": "code",
    "deepnote_cell_height": 227.60000610351562
   },
   "source": "suspicious_vector_mask = X_notes.apply(axis=1, func=my_helpful_vector_comparison)\nsuspicious_vector_mask",
   "execution_count": null,
   "outputs": [
    {
     "name": "stderr",
     "text": "/shared-libs/python3.8/py-core/lib/python3.8/site-packages/ipykernel/ipkernel.py:283: DeprecationWarning: `should_run_async` will not call `transform_cell` automatically in the future. Please pass the result to `transformed_cell` argument and any exception that happen during thetransform in `preprocessing_exc_tuple` in IPython 7.17 and above.\n  and should_run_async(code)\n",
     "output_type": "stream"
    },
    {
     "output_type": "error",
     "ename": "NameError",
     "evalue": "name 'X_notes' is not defined",
     "traceback": [
      "\u001b[0;31m---------------------------------------------------------------------------\u001b[0m",
      "\u001b[0;31mNameError\u001b[0m                                 Traceback (most recent call last)",
      "\u001b[0;32m<ipython-input-103-ae2c3ea607e7>\u001b[0m in \u001b[0;36m<module>\u001b[0;34m\u001b[0m\n\u001b[0;32m----> 1\u001b[0;31m \u001b[0msuspicious_vector_mask\u001b[0m \u001b[0;34m=\u001b[0m \u001b[0mX_notes\u001b[0m\u001b[0;34m.\u001b[0m\u001b[0mapply\u001b[0m\u001b[0;34m(\u001b[0m\u001b[0maxis\u001b[0m\u001b[0;34m=\u001b[0m\u001b[0;36m1\u001b[0m\u001b[0;34m,\u001b[0m \u001b[0mfunc\u001b[0m\u001b[0;34m=\u001b[0m\u001b[0mmy_helpful_vector_comparison\u001b[0m\u001b[0;34m)\u001b[0m\u001b[0;34m\u001b[0m\u001b[0;34m\u001b[0m\u001b[0m\n\u001b[0m\u001b[1;32m      2\u001b[0m \u001b[0msuspicious_vector_mask\u001b[0m\u001b[0;34m\u001b[0m\u001b[0;34m\u001b[0m\u001b[0m\n",
      "\u001b[0;31mNameError\u001b[0m: name 'X_notes' is not defined"
     ]
    }
   ]
  },
  {
   "cell_type": "code",
   "metadata": {
    "tags": [],
    "cell_id": "00004-23376c05-9d03-4d86-8cb9-c33d391c3995",
    "deepnote_to_be_reexecuted": true,
    "source_hash": "23a2df22",
    "deepnote_cell_type": "code",
    "deepnote_cell_height": 81
   },
   "source": "X_notes[suspicious_vector_mask]",
   "execution_count": null,
   "outputs": []
  },
  {
   "cell_type": "code",
   "metadata": {
    "tags": [],
    "cell_id": "00005-ee9f303a-1c98-42e0-8a5c-a1310dfbd70c",
    "deepnote_to_be_reexecuted": true,
    "source_hash": "9e7100df",
    "deepnote_cell_type": "code",
    "deepnote_cell_height": 66
   },
   "source": "notes.merge(X_notes[suspicious_vector_mask], left_on='noteId', right_index=True)",
   "execution_count": null,
   "outputs": []
  },
  {
   "cell_type": "markdown",
   "source": "Look at empty tweets.\n",
   "metadata": {
    "tags": [],
    "cell_id": "00007-340b5d12-4e96-442b-8041-1e94c3665502",
    "deepnote_cell_type": "markdown",
    "deepnote_cell_height": 55
   }
  },
  {
   "cell_type": "code",
   "metadata": {
    "tags": [],
    "cell_id": "00009-08c2a05a-a7cd-4c4c-a309-acfb1d638c29",
    "deepnote_to_be_reexecuted": true,
    "source_hash": "ba2ff95",
    "deepnote_cell_type": "code",
    "deepnote_cell_height": 66
   },
   "source": "test = X_notes[X_notes['vector'].apply(lambda x: len(x) == 0)]",
   "execution_count": null,
   "outputs": []
  },
  {
   "cell_type": "code",
   "metadata": {
    "tags": [],
    "cell_id": "00008-9725ebb6-5ea4-4592-8aed-e2bf257f231b",
    "deepnote_to_be_reexecuted": true,
    "source_hash": "ac2d1ca8",
    "deepnote_cell_type": "code",
    "deepnote_cell_height": 66
   },
   "source": "X_notes['vector'].apply(lambda x: len(x)).value_counts()",
   "execution_count": null,
   "outputs": []
  },
  {
   "cell_type": "code",
   "metadata": {
    "tags": [],
    "cell_id": "00007-a606d8f8-afc7-4a0a-993b-a6a485e30f3b",
    "deepnote_to_be_reexecuted": true,
    "source_hash": "2c91a834",
    "deepnote_cell_type": "code",
    "deepnote_cell_height": 66
   },
   "source": "test.merge(notes, left_index=True, right_on='noteId')",
   "execution_count": null,
   "outputs": []
  },
  {
   "cell_type": "code",
   "metadata": {
    "tags": [],
    "cell_id": "00012-19e66f4a-b267-4430-9ef6-11744f9c8959",
    "deepnote_to_be_reexecuted": true,
    "source_hash": "f14d72df",
    "execution_start": 1632801512985,
    "execution_millis": 269,
    "deepnote_cell_type": "code",
    "deepnote_cell_height": 102
   },
   "source": "import pandas as pd\nnotes = pd.read_csv('notes-2.tsv', sep=\"\\t\")\nratings = pd.read_csv('ratings-2.tsv', sep=\"\\t\")",
   "execution_count": null,
   "outputs": []
  },
  {
   "cell_type": "code",
   "metadata": {
    "tags": [],
    "cell_id": "00013-7dc01810-49bf-4ece-aaa1-59bd26a496a0",
    "deepnote_to_be_reexecuted": true,
    "source_hash": "1827ce95",
    "execution_start": 1632801735237,
    "execution_millis": 76,
    "deepnote_cell_type": "code",
    "deepnote_cell_height": 84
   },
   "source": "ratings.head()\n",
   "execution_count": null,
   "outputs": [
    {
     "output_type": "execute_result",
     "execution_count": 18,
     "data": {
      "application/vnd.deepnote.dataframe.v2+json": {
       "row_count": 5,
       "column_count": 28,
       "columns": [
        {
         "name": "noteId",
         "dtype": "int64",
         "stats": {
          "unique_count": 1,
          "nan_count": 0,
          "min": "1352796878438424576",
          "max": "1352796878438424576",
          "histogram": null
         }
        },
        {
         "name": "participantId",
         "dtype": "object",
         "stats": {
          "unique_count": 5,
          "nan_count": 0,
          "categories": [
           {
            "name": "7585B8804A32416E91E51837F351F249",
            "count": 1
           },
           {
            "name": "7644DF3FD853416F0C96933CCC1BA9B7",
            "count": 1
           },
           {
            "name": "3 others",
            "count": 3
           }
          ]
         }
        },
        {
         "name": "createdAtMillis",
         "dtype": "int64",
         "stats": {
          "unique_count": 5,
          "nan_count": 0,
          "min": "1611388222120",
          "max": "1611852744990",
          "histogram": [
           {
            "bin_start": 1611388222120,
            "bin_end": 1611434674407,
            "count": 1
           },
           {
            "bin_start": 1611434674407,
            "bin_end": 1611481126694,
            "count": 0
           },
           {
            "bin_start": 1611481126694,
            "bin_end": 1611527578981,
            "count": 1
           },
           {
            "bin_start": 1611527578981,
            "bin_end": 1611574031268,
            "count": 0
           },
           {
            "bin_start": 1611574031268,
            "bin_end": 1611620483555,
            "count": 0
           },
           {
            "bin_start": 1611620483555,
            "bin_end": 1611666935842,
            "count": 0
           },
           {
            "bin_start": 1611666935842,
            "bin_end": 1611713388129,
            "count": 1
           },
           {
            "bin_start": 1611713388129,
            "bin_end": 1611759840416,
            "count": 0
           },
           {
            "bin_start": 1611759840416,
            "bin_end": 1611806292703,
            "count": 1
           },
           {
            "bin_start": 1611806292703,
            "bin_end": 1611852744990,
            "count": 1
           }
          ]
         }
        },
        {
         "name": "version",
         "dtype": "int64",
         "stats": {
          "unique_count": 1,
          "nan_count": 0,
          "min": "1",
          "max": "1",
          "histogram": [
           {
            "bin_start": 0.5,
            "bin_end": 0.6,
            "count": 0
           },
           {
            "bin_start": 0.6,
            "bin_end": 0.7,
            "count": 0
           },
           {
            "bin_start": 0.7,
            "bin_end": 0.8,
            "count": 0
           },
           {
            "bin_start": 0.8,
            "bin_end": 0.9,
            "count": 0
           },
           {
            "bin_start": 0.9,
            "bin_end": 1,
            "count": 0
           },
           {
            "bin_start": 1,
            "bin_end": 1.1,
            "count": 5
           },
           {
            "bin_start": 1.1,
            "bin_end": 1.2000000000000002,
            "count": 0
           },
           {
            "bin_start": 1.2000000000000002,
            "bin_end": 1.3,
            "count": 0
           },
           {
            "bin_start": 1.3,
            "bin_end": 1.4,
            "count": 0
           },
           {
            "bin_start": 1.4,
            "bin_end": 1.5,
            "count": 0
           }
          ]
         }
        },
        {
         "name": "agree",
         "dtype": "int64",
         "stats": {
          "unique_count": 2,
          "nan_count": 0,
          "min": "0",
          "max": "1",
          "histogram": [
           {
            "bin_start": 0,
            "bin_end": 0.1,
            "count": 1
           },
           {
            "bin_start": 0.1,
            "bin_end": 0.2,
            "count": 0
           },
           {
            "bin_start": 0.2,
            "bin_end": 0.30000000000000004,
            "count": 0
           },
           {
            "bin_start": 0.30000000000000004,
            "bin_end": 0.4,
            "count": 0
           },
           {
            "bin_start": 0.4,
            "bin_end": 0.5,
            "count": 0
           },
           {
            "bin_start": 0.5,
            "bin_end": 0.6000000000000001,
            "count": 0
           },
           {
            "bin_start": 0.6000000000000001,
            "bin_end": 0.7000000000000001,
            "count": 0
           },
           {
            "bin_start": 0.7000000000000001,
            "bin_end": 0.8,
            "count": 0
           },
           {
            "bin_start": 0.8,
            "bin_end": 0.9,
            "count": 0
           },
           {
            "bin_start": 0.9,
            "bin_end": 1,
            "count": 4
           }
          ]
         }
        },
        {
         "name": "disagree",
         "dtype": "int64",
         "stats": {
          "unique_count": 2,
          "nan_count": 0,
          "min": "0",
          "max": "1",
          "histogram": [
           {
            "bin_start": 0,
            "bin_end": 0.1,
            "count": 4
           },
           {
            "bin_start": 0.1,
            "bin_end": 0.2,
            "count": 0
           },
           {
            "bin_start": 0.2,
            "bin_end": 0.30000000000000004,
            "count": 0
           },
           {
            "bin_start": 0.30000000000000004,
            "bin_end": 0.4,
            "count": 0
           },
           {
            "bin_start": 0.4,
            "bin_end": 0.5,
            "count": 0
           },
           {
            "bin_start": 0.5,
            "bin_end": 0.6000000000000001,
            "count": 0
           },
           {
            "bin_start": 0.6000000000000001,
            "bin_end": 0.7000000000000001,
            "count": 0
           },
           {
            "bin_start": 0.7000000000000001,
            "bin_end": 0.8,
            "count": 0
           },
           {
            "bin_start": 0.8,
            "bin_end": 0.9,
            "count": 0
           },
           {
            "bin_start": 0.9,
            "bin_end": 1,
            "count": 1
           }
          ]
         }
        },
        {
         "name": "helpful",
         "dtype": "int64",
         "stats": {
          "unique_count": 2,
          "nan_count": 0,
          "min": "0",
          "max": "1",
          "histogram": [
           {
            "bin_start": 0,
            "bin_end": 0.1,
            "count": 2
           },
           {
            "bin_start": 0.1,
            "bin_end": 0.2,
            "count": 0
           },
           {
            "bin_start": 0.2,
            "bin_end": 0.30000000000000004,
            "count": 0
           },
           {
            "bin_start": 0.30000000000000004,
            "bin_end": 0.4,
            "count": 0
           },
           {
            "bin_start": 0.4,
            "bin_end": 0.5,
            "count": 0
           },
           {
            "bin_start": 0.5,
            "bin_end": 0.6000000000000001,
            "count": 0
           },
           {
            "bin_start": 0.6000000000000001,
            "bin_end": 0.7000000000000001,
            "count": 0
           },
           {
            "bin_start": 0.7000000000000001,
            "bin_end": 0.8,
            "count": 0
           },
           {
            "bin_start": 0.8,
            "bin_end": 0.9,
            "count": 0
           },
           {
            "bin_start": 0.9,
            "bin_end": 1,
            "count": 3
           }
          ]
         }
        },
        {
         "name": "notHelpful",
         "dtype": "int64",
         "stats": {
          "unique_count": 2,
          "nan_count": 0,
          "min": "0",
          "max": "1",
          "histogram": [
           {
            "bin_start": 0,
            "bin_end": 0.1,
            "count": 3
           },
           {
            "bin_start": 0.1,
            "bin_end": 0.2,
            "count": 0
           },
           {
            "bin_start": 0.2,
            "bin_end": 0.30000000000000004,
            "count": 0
           },
           {
            "bin_start": 0.30000000000000004,
            "bin_end": 0.4,
            "count": 0
           },
           {
            "bin_start": 0.4,
            "bin_end": 0.5,
            "count": 0
           },
           {
            "bin_start": 0.5,
            "bin_end": 0.6000000000000001,
            "count": 0
           },
           {
            "bin_start": 0.6000000000000001,
            "bin_end": 0.7000000000000001,
            "count": 0
           },
           {
            "bin_start": 0.7000000000000001,
            "bin_end": 0.8,
            "count": 0
           },
           {
            "bin_start": 0.8,
            "bin_end": 0.9,
            "count": 0
           },
           {
            "bin_start": 0.9,
            "bin_end": 1,
            "count": 2
           }
          ]
         }
        },
        {
         "name": "helpfulnessLevel",
         "dtype": "object",
         "stats": {
          "unique_count": 0,
          "nan_count": 5,
          "categories": [
           {
            "name": "Missing",
            "count": 5
           }
          ]
         }
        },
        {
         "name": "helpfulOther",
         "dtype": "int64",
         "stats": {
          "unique_count": 1,
          "nan_count": 0,
          "min": "0",
          "max": "0",
          "histogram": [
           {
            "bin_start": -0.5,
            "bin_end": -0.4,
            "count": 0
           },
           {
            "bin_start": -0.4,
            "bin_end": -0.3,
            "count": 0
           },
           {
            "bin_start": -0.3,
            "bin_end": -0.19999999999999996,
            "count": 0
           },
           {
            "bin_start": -0.19999999999999996,
            "bin_end": -0.09999999999999998,
            "count": 0
           },
           {
            "bin_start": -0.09999999999999998,
            "bin_end": 0,
            "count": 0
           },
           {
            "bin_start": 0,
            "bin_end": 0.10000000000000009,
            "count": 5
           },
           {
            "bin_start": 0.10000000000000009,
            "bin_end": 0.20000000000000007,
            "count": 0
           },
           {
            "bin_start": 0.20000000000000007,
            "bin_end": 0.30000000000000004,
            "count": 0
           },
           {
            "bin_start": 0.30000000000000004,
            "bin_end": 0.4,
            "count": 0
           },
           {
            "bin_start": 0.4,
            "bin_end": 0.5,
            "count": 0
           }
          ]
         }
        },
        {
         "name": "helpfulInformative",
         "dtype": "int64",
         "stats": {
          "unique_count": 2,
          "nan_count": 0,
          "min": "0",
          "max": "1",
          "histogram": [
           {
            "bin_start": 0,
            "bin_end": 0.1,
            "count": 2
           },
           {
            "bin_start": 0.1,
            "bin_end": 0.2,
            "count": 0
           },
           {
            "bin_start": 0.2,
            "bin_end": 0.30000000000000004,
            "count": 0
           },
           {
            "bin_start": 0.30000000000000004,
            "bin_end": 0.4,
            "count": 0
           },
           {
            "bin_start": 0.4,
            "bin_end": 0.5,
            "count": 0
           },
           {
            "bin_start": 0.5,
            "bin_end": 0.6000000000000001,
            "count": 0
           },
           {
            "bin_start": 0.6000000000000001,
            "bin_end": 0.7000000000000001,
            "count": 0
           },
           {
            "bin_start": 0.7000000000000001,
            "bin_end": 0.8,
            "count": 0
           },
           {
            "bin_start": 0.8,
            "bin_end": 0.9,
            "count": 0
           },
           {
            "bin_start": 0.9,
            "bin_end": 1,
            "count": 3
           }
          ]
         }
        },
        {
         "name": "helpfulClear",
         "dtype": "int64",
         "stats": {
          "unique_count": 2,
          "nan_count": 0,
          "min": "0",
          "max": "1",
          "histogram": [
           {
            "bin_start": 0,
            "bin_end": 0.1,
            "count": 3
           },
           {
            "bin_start": 0.1,
            "bin_end": 0.2,
            "count": 0
           },
           {
            "bin_start": 0.2,
            "bin_end": 0.30000000000000004,
            "count": 0
           },
           {
            "bin_start": 0.30000000000000004,
            "bin_end": 0.4,
            "count": 0
           },
           {
            "bin_start": 0.4,
            "bin_end": 0.5,
            "count": 0
           },
           {
            "bin_start": 0.5,
            "bin_end": 0.6000000000000001,
            "count": 0
           },
           {
            "bin_start": 0.6000000000000001,
            "bin_end": 0.7000000000000001,
            "count": 0
           },
           {
            "bin_start": 0.7000000000000001,
            "bin_end": 0.8,
            "count": 0
           },
           {
            "bin_start": 0.8,
            "bin_end": 0.9,
            "count": 0
           },
           {
            "bin_start": 0.9,
            "bin_end": 1,
            "count": 2
           }
          ]
         }
        },
        {
         "name": "helpfulEmpathetic",
         "dtype": "int64",
         "stats": {
          "unique_count": 2,
          "nan_count": 0,
          "min": "0",
          "max": "1",
          "histogram": [
           {
            "bin_start": 0,
            "bin_end": 0.1,
            "count": 3
           },
           {
            "bin_start": 0.1,
            "bin_end": 0.2,
            "count": 0
           },
           {
            "bin_start": 0.2,
            "bin_end": 0.30000000000000004,
            "count": 0
           },
           {
            "bin_start": 0.30000000000000004,
            "bin_end": 0.4,
            "count": 0
           },
           {
            "bin_start": 0.4,
            "bin_end": 0.5,
            "count": 0
           },
           {
            "bin_start": 0.5,
            "bin_end": 0.6000000000000001,
            "count": 0
           },
           {
            "bin_start": 0.6000000000000001,
            "bin_end": 0.7000000000000001,
            "count": 0
           },
           {
            "bin_start": 0.7000000000000001,
            "bin_end": 0.8,
            "count": 0
           },
           {
            "bin_start": 0.8,
            "bin_end": 0.9,
            "count": 0
           },
           {
            "bin_start": 0.9,
            "bin_end": 1,
            "count": 2
           }
          ]
         }
        },
        {
         "name": "helpfulGoodSources",
         "dtype": "int64",
         "stats": {
          "unique_count": 2,
          "nan_count": 0,
          "min": "0",
          "max": "1",
          "histogram": [
           {
            "bin_start": 0,
            "bin_end": 0.1,
            "count": 4
           },
           {
            "bin_start": 0.1,
            "bin_end": 0.2,
            "count": 0
           },
           {
            "bin_start": 0.2,
            "bin_end": 0.30000000000000004,
            "count": 0
           },
           {
            "bin_start": 0.30000000000000004,
            "bin_end": 0.4,
            "count": 0
           },
           {
            "bin_start": 0.4,
            "bin_end": 0.5,
            "count": 0
           },
           {
            "bin_start": 0.5,
            "bin_end": 0.6000000000000001,
            "count": 0
           },
           {
            "bin_start": 0.6000000000000001,
            "bin_end": 0.7000000000000001,
            "count": 0
           },
           {
            "bin_start": 0.7000000000000001,
            "bin_end": 0.8,
            "count": 0
           },
           {
            "bin_start": 0.8,
            "bin_end": 0.9,
            "count": 0
           },
           {
            "bin_start": 0.9,
            "bin_end": 1,
            "count": 1
           }
          ]
         }
        },
        {
         "name": "helpfulUniqueContext",
         "dtype": "int64",
         "stats": {
          "unique_count": 1,
          "nan_count": 0,
          "min": "0",
          "max": "0",
          "histogram": [
           {
            "bin_start": -0.5,
            "bin_end": -0.4,
            "count": 0
           },
           {
            "bin_start": -0.4,
            "bin_end": -0.3,
            "count": 0
           },
           {
            "bin_start": -0.3,
            "bin_end": -0.19999999999999996,
            "count": 0
           },
           {
            "bin_start": -0.19999999999999996,
            "bin_end": -0.09999999999999998,
            "count": 0
           },
           {
            "bin_start": -0.09999999999999998,
            "bin_end": 0,
            "count": 0
           },
           {
            "bin_start": 0,
            "bin_end": 0.10000000000000009,
            "count": 5
           },
           {
            "bin_start": 0.10000000000000009,
            "bin_end": 0.20000000000000007,
            "count": 0
           },
           {
            "bin_start": 0.20000000000000007,
            "bin_end": 0.30000000000000004,
            "count": 0
           },
           {
            "bin_start": 0.30000000000000004,
            "bin_end": 0.4,
            "count": 0
           },
           {
            "bin_start": 0.4,
            "bin_end": 0.5,
            "count": 0
           }
          ]
         }
        },
        {
         "name": "helpfulAddressesClaim",
         "dtype": "int64",
         "stats": {
          "unique_count": 1,
          "nan_count": 0,
          "min": "0",
          "max": "0",
          "histogram": [
           {
            "bin_start": -0.5,
            "bin_end": -0.4,
            "count": 0
           },
           {
            "bin_start": -0.4,
            "bin_end": -0.3,
            "count": 0
           },
           {
            "bin_start": -0.3,
            "bin_end": -0.19999999999999996,
            "count": 0
           },
           {
            "bin_start": -0.19999999999999996,
            "bin_end": -0.09999999999999998,
            "count": 0
           },
           {
            "bin_start": -0.09999999999999998,
            "bin_end": 0,
            "count": 0
           },
           {
            "bin_start": 0,
            "bin_end": 0.10000000000000009,
            "count": 5
           },
           {
            "bin_start": 0.10000000000000009,
            "bin_end": 0.20000000000000007,
            "count": 0
           },
           {
            "bin_start": 0.20000000000000007,
            "bin_end": 0.30000000000000004,
            "count": 0
           },
           {
            "bin_start": 0.30000000000000004,
            "bin_end": 0.4,
            "count": 0
           },
           {
            "bin_start": 0.4,
            "bin_end": 0.5,
            "count": 0
           }
          ]
         }
        },
        {
         "name": "helpfulImportantContext",
         "dtype": "int64",
         "stats": {
          "unique_count": 1,
          "nan_count": 0,
          "min": "0",
          "max": "0",
          "histogram": [
           {
            "bin_start": -0.5,
            "bin_end": -0.4,
            "count": 0
           },
           {
            "bin_start": -0.4,
            "bin_end": -0.3,
            "count": 0
           },
           {
            "bin_start": -0.3,
            "bin_end": -0.19999999999999996,
            "count": 0
           },
           {
            "bin_start": -0.19999999999999996,
            "bin_end": -0.09999999999999998,
            "count": 0
           },
           {
            "bin_start": -0.09999999999999998,
            "bin_end": 0,
            "count": 0
           },
           {
            "bin_start": 0,
            "bin_end": 0.10000000000000009,
            "count": 5
           },
           {
            "bin_start": 0.10000000000000009,
            "bin_end": 0.20000000000000007,
            "count": 0
           },
           {
            "bin_start": 0.20000000000000007,
            "bin_end": 0.30000000000000004,
            "count": 0
           },
           {
            "bin_start": 0.30000000000000004,
            "bin_end": 0.4,
            "count": 0
           },
           {
            "bin_start": 0.4,
            "bin_end": 0.5,
            "count": 0
           }
          ]
         }
        },
        {
         "name": "notHelpfulOther",
         "dtype": "int64",
         "stats": {
          "unique_count": 2,
          "nan_count": 0,
          "min": "0",
          "max": "1",
          "histogram": [
           {
            "bin_start": 0,
            "bin_end": 0.1,
            "count": 4
           },
           {
            "bin_start": 0.1,
            "bin_end": 0.2,
            "count": 0
           },
           {
            "bin_start": 0.2,
            "bin_end": 0.30000000000000004,
            "count": 0
           },
           {
            "bin_start": 0.30000000000000004,
            "bin_end": 0.4,
            "count": 0
           },
           {
            "bin_start": 0.4,
            "bin_end": 0.5,
            "count": 0
           },
           {
            "bin_start": 0.5,
            "bin_end": 0.6000000000000001,
            "count": 0
           },
           {
            "bin_start": 0.6000000000000001,
            "bin_end": 0.7000000000000001,
            "count": 0
           },
           {
            "bin_start": 0.7000000000000001,
            "bin_end": 0.8,
            "count": 0
           },
           {
            "bin_start": 0.8,
            "bin_end": 0.9,
            "count": 0
           },
           {
            "bin_start": 0.9,
            "bin_end": 1,
            "count": 1
           }
          ]
         }
        },
        {
         "name": "notHelpfulIncorrect",
         "dtype": "int64",
         "stats": {
          "unique_count": 1,
          "nan_count": 0,
          "min": "0",
          "max": "0",
          "histogram": [
           {
            "bin_start": -0.5,
            "bin_end": -0.4,
            "count": 0
           },
           {
            "bin_start": -0.4,
            "bin_end": -0.3,
            "count": 0
           },
           {
            "bin_start": -0.3,
            "bin_end": -0.19999999999999996,
            "count": 0
           },
           {
            "bin_start": -0.19999999999999996,
            "bin_end": -0.09999999999999998,
            "count": 0
           },
           {
            "bin_start": -0.09999999999999998,
            "bin_end": 0,
            "count": 0
           },
           {
            "bin_start": 0,
            "bin_end": 0.10000000000000009,
            "count": 5
           },
           {
            "bin_start": 0.10000000000000009,
            "bin_end": 0.20000000000000007,
            "count": 0
           },
           {
            "bin_start": 0.20000000000000007,
            "bin_end": 0.30000000000000004,
            "count": 0
           },
           {
            "bin_start": 0.30000000000000004,
            "bin_end": 0.4,
            "count": 0
           },
           {
            "bin_start": 0.4,
            "bin_end": 0.5,
            "count": 0
           }
          ]
         }
        },
        {
         "name": "notHelpfulSourcesMissingOrUnreliable",
         "dtype": "int64",
         "stats": {
          "unique_count": 2,
          "nan_count": 0,
          "min": "0",
          "max": "1",
          "histogram": [
           {
            "bin_start": 0,
            "bin_end": 0.1,
            "count": 4
           },
           {
            "bin_start": 0.1,
            "bin_end": 0.2,
            "count": 0
           },
           {
            "bin_start": 0.2,
            "bin_end": 0.30000000000000004,
            "count": 0
           },
           {
            "bin_start": 0.30000000000000004,
            "bin_end": 0.4,
            "count": 0
           },
           {
            "bin_start": 0.4,
            "bin_end": 0.5,
            "count": 0
           },
           {
            "bin_start": 0.5,
            "bin_end": 0.6000000000000001,
            "count": 0
           },
           {
            "bin_start": 0.6000000000000001,
            "bin_end": 0.7000000000000001,
            "count": 0
           },
           {
            "bin_start": 0.7000000000000001,
            "bin_end": 0.8,
            "count": 0
           },
           {
            "bin_start": 0.8,
            "bin_end": 0.9,
            "count": 0
           },
           {
            "bin_start": 0.9,
            "bin_end": 1,
            "count": 1
           }
          ]
         }
        },
        {
         "name": "notHelpfulOpinionSpeculationOrBias",
         "dtype": "int64",
         "stats": {
          "unique_count": 1,
          "nan_count": 0,
          "min": "0",
          "max": "0",
          "histogram": [
           {
            "bin_start": -0.5,
            "bin_end": -0.4,
            "count": 0
           },
           {
            "bin_start": -0.4,
            "bin_end": -0.3,
            "count": 0
           },
           {
            "bin_start": -0.3,
            "bin_end": -0.19999999999999996,
            "count": 0
           },
           {
            "bin_start": -0.19999999999999996,
            "bin_end": -0.09999999999999998,
            "count": 0
           },
           {
            "bin_start": -0.09999999999999998,
            "bin_end": 0,
            "count": 0
           },
           {
            "bin_start": 0,
            "bin_end": 0.10000000000000009,
            "count": 5
           },
           {
            "bin_start": 0.10000000000000009,
            "bin_end": 0.20000000000000007,
            "count": 0
           },
           {
            "bin_start": 0.20000000000000007,
            "bin_end": 0.30000000000000004,
            "count": 0
           },
           {
            "bin_start": 0.30000000000000004,
            "bin_end": 0.4,
            "count": 0
           },
           {
            "bin_start": 0.4,
            "bin_end": 0.5,
            "count": 0
           }
          ]
         }
        },
        {
         "name": "notHelpfulMissingKeyPoints",
         "dtype": "int64",
         "stats": {
          "unique_count": 1,
          "nan_count": 0,
          "min": "0",
          "max": "0",
          "histogram": [
           {
            "bin_start": -0.5,
            "bin_end": -0.4,
            "count": 0
           },
           {
            "bin_start": -0.4,
            "bin_end": -0.3,
            "count": 0
           },
           {
            "bin_start": -0.3,
            "bin_end": -0.19999999999999996,
            "count": 0
           },
           {
            "bin_start": -0.19999999999999996,
            "bin_end": -0.09999999999999998,
            "count": 0
           },
           {
            "bin_start": -0.09999999999999998,
            "bin_end": 0,
            "count": 0
           },
           {
            "bin_start": 0,
            "bin_end": 0.10000000000000009,
            "count": 5
           },
           {
            "bin_start": 0.10000000000000009,
            "bin_end": 0.20000000000000007,
            "count": 0
           },
           {
            "bin_start": 0.20000000000000007,
            "bin_end": 0.30000000000000004,
            "count": 0
           },
           {
            "bin_start": 0.30000000000000004,
            "bin_end": 0.4,
            "count": 0
           },
           {
            "bin_start": 0.4,
            "bin_end": 0.5,
            "count": 0
           }
          ]
         }
        },
        {
         "name": "notHelpfulOutdated",
         "dtype": "int64",
         "stats": {
          "unique_count": 1,
          "nan_count": 0,
          "min": "0",
          "max": "0",
          "histogram": [
           {
            "bin_start": -0.5,
            "bin_end": -0.4,
            "count": 0
           },
           {
            "bin_start": -0.4,
            "bin_end": -0.3,
            "count": 0
           },
           {
            "bin_start": -0.3,
            "bin_end": -0.19999999999999996,
            "count": 0
           },
           {
            "bin_start": -0.19999999999999996,
            "bin_end": -0.09999999999999998,
            "count": 0
           },
           {
            "bin_start": -0.09999999999999998,
            "bin_end": 0,
            "count": 0
           },
           {
            "bin_start": 0,
            "bin_end": 0.10000000000000009,
            "count": 5
           },
           {
            "bin_start": 0.10000000000000009,
            "bin_end": 0.20000000000000007,
            "count": 0
           },
           {
            "bin_start": 0.20000000000000007,
            "bin_end": 0.30000000000000004,
            "count": 0
           },
           {
            "bin_start": 0.30000000000000004,
            "bin_end": 0.4,
            "count": 0
           },
           {
            "bin_start": 0.4,
            "bin_end": 0.5,
            "count": 0
           }
          ]
         }
        },
        {
         "name": "notHelpfulHardToUnderstand",
         "dtype": "int64",
         "stats": {
          "unique_count": 1,
          "nan_count": 0,
          "min": "0",
          "max": "0",
          "histogram": [
           {
            "bin_start": -0.5,
            "bin_end": -0.4,
            "count": 0
           },
           {
            "bin_start": -0.4,
            "bin_end": -0.3,
            "count": 0
           },
           {
            "bin_start": -0.3,
            "bin_end": -0.19999999999999996,
            "count": 0
           },
           {
            "bin_start": -0.19999999999999996,
            "bin_end": -0.09999999999999998,
            "count": 0
           },
           {
            "bin_start": -0.09999999999999998,
            "bin_end": 0,
            "count": 0
           },
           {
            "bin_start": 0,
            "bin_end": 0.10000000000000009,
            "count": 5
           },
           {
            "bin_start": 0.10000000000000009,
            "bin_end": 0.20000000000000007,
            "count": 0
           },
           {
            "bin_start": 0.20000000000000007,
            "bin_end": 0.30000000000000004,
            "count": 0
           },
           {
            "bin_start": 0.30000000000000004,
            "bin_end": 0.4,
            "count": 0
           },
           {
            "bin_start": 0.4,
            "bin_end": 0.5,
            "count": 0
           }
          ]
         }
        },
        {
         "name": "notHelpfulArgumentativeOrInflammatory",
         "dtype": "int64",
         "stats": {
          "unique_count": 1,
          "nan_count": 0,
          "min": "0",
          "max": "0",
          "histogram": [
           {
            "bin_start": -0.5,
            "bin_end": -0.4,
            "count": 0
           },
           {
            "bin_start": -0.4,
            "bin_end": -0.3,
            "count": 0
           },
           {
            "bin_start": -0.3,
            "bin_end": -0.19999999999999996,
            "count": 0
           },
           {
            "bin_start": -0.19999999999999996,
            "bin_end": -0.09999999999999998,
            "count": 0
           },
           {
            "bin_start": -0.09999999999999998,
            "bin_end": 0,
            "count": 0
           },
           {
            "bin_start": 0,
            "bin_end": 0.10000000000000009,
            "count": 5
           },
           {
            "bin_start": 0.10000000000000009,
            "bin_end": 0.20000000000000007,
            "count": 0
           },
           {
            "bin_start": 0.20000000000000007,
            "bin_end": 0.30000000000000004,
            "count": 0
           },
           {
            "bin_start": 0.30000000000000004,
            "bin_end": 0.4,
            "count": 0
           },
           {
            "bin_start": 0.4,
            "bin_end": 0.5,
            "count": 0
           }
          ]
         }
        },
        {
         "name": "notHelpfulOffTopic",
         "dtype": "int64",
         "stats": {
          "unique_count": 1,
          "nan_count": 0,
          "min": "0",
          "max": "0",
          "histogram": [
           {
            "bin_start": -0.5,
            "bin_end": -0.4,
            "count": 0
           },
           {
            "bin_start": -0.4,
            "bin_end": -0.3,
            "count": 0
           },
           {
            "bin_start": -0.3,
            "bin_end": -0.19999999999999996,
            "count": 0
           },
           {
            "bin_start": -0.19999999999999996,
            "bin_end": -0.09999999999999998,
            "count": 0
           },
           {
            "bin_start": -0.09999999999999998,
            "bin_end": 0,
            "count": 0
           },
           {
            "bin_start": 0,
            "bin_end": 0.10000000000000009,
            "count": 5
           },
           {
            "bin_start": 0.10000000000000009,
            "bin_end": 0.20000000000000007,
            "count": 0
           },
           {
            "bin_start": 0.20000000000000007,
            "bin_end": 0.30000000000000004,
            "count": 0
           },
           {
            "bin_start": 0.30000000000000004,
            "bin_end": 0.4,
            "count": 0
           },
           {
            "bin_start": 0.4,
            "bin_end": 0.5,
            "count": 0
           }
          ]
         }
        },
        {
         "name": "notHelpfulSpamHarassmentOrAbuse",
         "dtype": "int64",
         "stats": {
          "unique_count": 2,
          "nan_count": 0,
          "min": "0",
          "max": "1",
          "histogram": [
           {
            "bin_start": 0,
            "bin_end": 0.1,
            "count": 4
           },
           {
            "bin_start": 0.1,
            "bin_end": 0.2,
            "count": 0
           },
           {
            "bin_start": 0.2,
            "bin_end": 0.30000000000000004,
            "count": 0
           },
           {
            "bin_start": 0.30000000000000004,
            "bin_end": 0.4,
            "count": 0
           },
           {
            "bin_start": 0.4,
            "bin_end": 0.5,
            "count": 0
           },
           {
            "bin_start": 0.5,
            "bin_end": 0.6000000000000001,
            "count": 0
           },
           {
            "bin_start": 0.6000000000000001,
            "bin_end": 0.7000000000000001,
            "count": 0
           },
           {
            "bin_start": 0.7000000000000001,
            "bin_end": 0.8,
            "count": 0
           },
           {
            "bin_start": 0.8,
            "bin_end": 0.9,
            "count": 0
           },
           {
            "bin_start": 0.9,
            "bin_end": 1,
            "count": 1
           }
          ]
         }
        },
        {
         "name": "notHelpfulIrrelevantSources",
         "dtype": "int64",
         "stats": {
          "unique_count": 1,
          "nan_count": 0,
          "min": "0",
          "max": "0",
          "histogram": [
           {
            "bin_start": -0.5,
            "bin_end": -0.4,
            "count": 0
           },
           {
            "bin_start": -0.4,
            "bin_end": -0.3,
            "count": 0
           },
           {
            "bin_start": -0.3,
            "bin_end": -0.19999999999999996,
            "count": 0
           },
           {
            "bin_start": -0.19999999999999996,
            "bin_end": -0.09999999999999998,
            "count": 0
           },
           {
            "bin_start": -0.09999999999999998,
            "bin_end": 0,
            "count": 0
           },
           {
            "bin_start": 0,
            "bin_end": 0.10000000000000009,
            "count": 5
           },
           {
            "bin_start": 0.10000000000000009,
            "bin_end": 0.20000000000000007,
            "count": 0
           },
           {
            "bin_start": 0.20000000000000007,
            "bin_end": 0.30000000000000004,
            "count": 0
           },
           {
            "bin_start": 0.30000000000000004,
            "bin_end": 0.4,
            "count": 0
           },
           {
            "bin_start": 0.4,
            "bin_end": 0.5,
            "count": 0
           }
          ]
         }
        },
        {
         "name": "_deepnote_index_column",
         "dtype": "int64"
        }
       ],
       "rows_top": [
        {
         "noteId": 1352796878438424600,
         "participantId": "7585B8804A32416E91E51837F351F249",
         "createdAtMillis": 1611388222120,
         "version": 1,
         "agree": 1,
         "disagree": 0,
         "helpful": 1,
         "notHelpful": 0,
         "helpfulnessLevel": "nan",
         "helpfulOther": 0,
         "helpfulInformative": 1,
         "helpfulClear": 0,
         "helpfulEmpathetic": 1,
         "helpfulGoodSources": 1,
         "helpfulUniqueContext": 0,
         "helpfulAddressesClaim": 0,
         "helpfulImportantContext": 0,
         "notHelpfulOther": 0,
         "notHelpfulIncorrect": 0,
         "notHelpfulSourcesMissingOrUnreliable": 0,
         "notHelpfulOpinionSpeculationOrBias": 0,
         "notHelpfulMissingKeyPoints": 0,
         "notHelpfulOutdated": 0,
         "notHelpfulHardToUnderstand": 0,
         "notHelpfulArgumentativeOrInflammatory": 0,
         "notHelpfulOffTopic": 0,
         "notHelpfulSpamHarassmentOrAbuse": 0,
         "notHelpfulIrrelevantSources": 0,
         "_deepnote_index_column": 0
        },
        {
         "noteId": 1352796878438424600,
         "participantId": "7644DF3FD853416F0C96933CCC1BA9B7",
         "createdAtMillis": 1611796572477,
         "version": 1,
         "agree": 0,
         "disagree": 1,
         "helpful": 0,
         "notHelpful": 1,
         "helpfulnessLevel": "nan",
         "helpfulOther": 0,
         "helpfulInformative": 0,
         "helpfulClear": 0,
         "helpfulEmpathetic": 0,
         "helpfulGoodSources": 0,
         "helpfulUniqueContext": 0,
         "helpfulAddressesClaim": 0,
         "helpfulImportantContext": 0,
         "notHelpfulOther": 1,
         "notHelpfulIncorrect": 0,
         "notHelpfulSourcesMissingOrUnreliable": 0,
         "notHelpfulOpinionSpeculationOrBias": 0,
         "notHelpfulMissingKeyPoints": 0,
         "notHelpfulOutdated": 0,
         "notHelpfulHardToUnderstand": 0,
         "notHelpfulArgumentativeOrInflammatory": 0,
         "notHelpfulOffTopic": 0,
         "notHelpfulSpamHarassmentOrAbuse": 1,
         "notHelpfulIrrelevantSources": 0,
         "_deepnote_index_column": 1
        },
        {
         "noteId": 1352796878438424600,
         "participantId": "EFD7E04E740224D2DDB42A2C910B62C1",
         "createdAtMillis": 1611852744990,
         "version": 1,
         "agree": 1,
         "disagree": 0,
         "helpful": 1,
         "notHelpful": 0,
         "helpfulnessLevel": "nan",
         "helpfulOther": 0,
         "helpfulInformative": 1,
         "helpfulClear": 1,
         "helpfulEmpathetic": 0,
         "helpfulGoodSources": 0,
         "helpfulUniqueContext": 0,
         "helpfulAddressesClaim": 0,
         "helpfulImportantContext": 0,
         "notHelpfulOther": 0,
         "notHelpfulIncorrect": 0,
         "notHelpfulSourcesMissingOrUnreliable": 0,
         "notHelpfulOpinionSpeculationOrBias": 0,
         "notHelpfulMissingKeyPoints": 0,
         "notHelpfulOutdated": 0,
         "notHelpfulHardToUnderstand": 0,
         "notHelpfulArgumentativeOrInflammatory": 0,
         "notHelpfulOffTopic": 0,
         "notHelpfulSpamHarassmentOrAbuse": 0,
         "notHelpfulIrrelevantSources": 0,
         "_deepnote_index_column": 2
        },
        {
         "noteId": 1352796878438424600,
         "participantId": "3C9A15EEA8FD238754BE28C15B26709A",
         "createdAtMillis": 1611673955881,
         "version": 1,
         "agree": 1,
         "disagree": 0,
         "helpful": 0,
         "notHelpful": 1,
         "helpfulnessLevel": "nan",
         "helpfulOther": 0,
         "helpfulInformative": 0,
         "helpfulClear": 0,
         "helpfulEmpathetic": 0,
         "helpfulGoodSources": 0,
         "helpfulUniqueContext": 0,
         "helpfulAddressesClaim": 0,
         "helpfulImportantContext": 0,
         "notHelpfulOther": 0,
         "notHelpfulIncorrect": 0,
         "notHelpfulSourcesMissingOrUnreliable": 1,
         "notHelpfulOpinionSpeculationOrBias": 0,
         "notHelpfulMissingKeyPoints": 0,
         "notHelpfulOutdated": 0,
         "notHelpfulHardToUnderstand": 0,
         "notHelpfulArgumentativeOrInflammatory": 0,
         "notHelpfulOffTopic": 0,
         "notHelpfulSpamHarassmentOrAbuse": 0,
         "notHelpfulIrrelevantSources": 0,
         "_deepnote_index_column": 3
        },
        {
         "noteId": 1352796878438424600,
         "participantId": "0466BA47B23AAAB301AA767C4C780E8D",
         "createdAtMillis": 1611523319844,
         "version": 1,
         "agree": 1,
         "disagree": 0,
         "helpful": 1,
         "notHelpful": 0,
         "helpfulnessLevel": "nan",
         "helpfulOther": 0,
         "helpfulInformative": 1,
         "helpfulClear": 1,
         "helpfulEmpathetic": 1,
         "helpfulGoodSources": 0,
         "helpfulUniqueContext": 0,
         "helpfulAddressesClaim": 0,
         "helpfulImportantContext": 0,
         "notHelpfulOther": 0,
         "notHelpfulIncorrect": 0,
         "notHelpfulSourcesMissingOrUnreliable": 0,
         "notHelpfulOpinionSpeculationOrBias": 0,
         "notHelpfulMissingKeyPoints": 0,
         "notHelpfulOutdated": 0,
         "notHelpfulHardToUnderstand": 0,
         "notHelpfulArgumentativeOrInflammatory": 0,
         "notHelpfulOffTopic": 0,
         "notHelpfulSpamHarassmentOrAbuse": 0,
         "notHelpfulIrrelevantSources": 0,
         "_deepnote_index_column": 4
        }
       ],
       "rows_bottom": null
      },
      "text/plain": "                noteId                     participantId  createdAtMillis  \\\n0  1352796878438424576  7585B8804A32416E91E51837F351F249    1611388222120   \n1  1352796878438424576  7644DF3FD853416F0C96933CCC1BA9B7    1611796572477   \n2  1352796878438424576  EFD7E04E740224D2DDB42A2C910B62C1    1611852744990   \n3  1352796878438424576  3C9A15EEA8FD238754BE28C15B26709A    1611673955881   \n4  1352796878438424576  0466BA47B23AAAB301AA767C4C780E8D    1611523319844   \n\n   version  agree  disagree  helpful  notHelpful helpfulnessLevel  \\\n0        1      1         0        1           0              NaN   \n1        1      0         1        0           1              NaN   \n2        1      1         0        1           0              NaN   \n3        1      1         0        0           1              NaN   \n4        1      1         0        1           0              NaN   \n\n   helpfulOther  ...  notHelpfulIncorrect  \\\n0             0  ...                    0   \n1             0  ...                    0   \n2             0  ...                    0   \n3             0  ...                    0   \n4             0  ...                    0   \n\n   notHelpfulSourcesMissingOrUnreliable  notHelpfulOpinionSpeculationOrBias  \\\n0                                     0                                   0   \n1                                     0                                   0   \n2                                     0                                   0   \n3                                     1                                   0   \n4                                     0                                   0   \n\n   notHelpfulMissingKeyPoints  notHelpfulOutdated  notHelpfulHardToUnderstand  \\\n0                           0                   0                           0   \n1                           0                   0                           0   \n2                           0                   0                           0   \n3                           0                   0                           0   \n4                           0                   0                           0   \n\n   notHelpfulArgumentativeOrInflammatory  notHelpfulOffTopic  \\\n0                                      0                   0   \n1                                      0                   0   \n2                                      0                   0   \n3                                      0                   0   \n4                                      0                   0   \n\n   notHelpfulSpamHarassmentOrAbuse  notHelpfulIrrelevantSources  \n0                                0                            0  \n1                                1                            0  \n2                                0                            0  \n3                                0                            0  \n4                                0                            0  \n\n[5 rows x 28 columns]",
      "text/html": "<div>\n<style scoped>\n    .dataframe tbody tr th:only-of-type {\n        vertical-align: middle;\n    }\n\n    .dataframe tbody tr th {\n        vertical-align: top;\n    }\n\n    .dataframe thead th {\n        text-align: right;\n    }\n</style>\n<table border=\"1\" class=\"dataframe\">\n  <thead>\n    <tr style=\"text-align: right;\">\n      <th></th>\n      <th>noteId</th>\n      <th>participantId</th>\n      <th>createdAtMillis</th>\n      <th>version</th>\n      <th>agree</th>\n      <th>disagree</th>\n      <th>helpful</th>\n      <th>notHelpful</th>\n      <th>helpfulnessLevel</th>\n      <th>helpfulOther</th>\n      <th>...</th>\n      <th>notHelpfulIncorrect</th>\n      <th>notHelpfulSourcesMissingOrUnreliable</th>\n      <th>notHelpfulOpinionSpeculationOrBias</th>\n      <th>notHelpfulMissingKeyPoints</th>\n      <th>notHelpfulOutdated</th>\n      <th>notHelpfulHardToUnderstand</th>\n      <th>notHelpfulArgumentativeOrInflammatory</th>\n      <th>notHelpfulOffTopic</th>\n      <th>notHelpfulSpamHarassmentOrAbuse</th>\n      <th>notHelpfulIrrelevantSources</th>\n    </tr>\n  </thead>\n  <tbody>\n    <tr>\n      <th>0</th>\n      <td>1352796878438424576</td>\n      <td>7585B8804A32416E91E51837F351F249</td>\n      <td>1611388222120</td>\n      <td>1</td>\n      <td>1</td>\n      <td>0</td>\n      <td>1</td>\n      <td>0</td>\n      <td>NaN</td>\n      <td>0</td>\n      <td>...</td>\n      <td>0</td>\n      <td>0</td>\n      <td>0</td>\n      <td>0</td>\n      <td>0</td>\n      <td>0</td>\n      <td>0</td>\n      <td>0</td>\n      <td>0</td>\n      <td>0</td>\n    </tr>\n    <tr>\n      <th>1</th>\n      <td>1352796878438424576</td>\n      <td>7644DF3FD853416F0C96933CCC1BA9B7</td>\n      <td>1611796572477</td>\n      <td>1</td>\n      <td>0</td>\n      <td>1</td>\n      <td>0</td>\n      <td>1</td>\n      <td>NaN</td>\n      <td>0</td>\n      <td>...</td>\n      <td>0</td>\n      <td>0</td>\n      <td>0</td>\n      <td>0</td>\n      <td>0</td>\n      <td>0</td>\n      <td>0</td>\n      <td>0</td>\n      <td>1</td>\n      <td>0</td>\n    </tr>\n    <tr>\n      <th>2</th>\n      <td>1352796878438424576</td>\n      <td>EFD7E04E740224D2DDB42A2C910B62C1</td>\n      <td>1611852744990</td>\n      <td>1</td>\n      <td>1</td>\n      <td>0</td>\n      <td>1</td>\n      <td>0</td>\n      <td>NaN</td>\n      <td>0</td>\n      <td>...</td>\n      <td>0</td>\n      <td>0</td>\n      <td>0</td>\n      <td>0</td>\n      <td>0</td>\n      <td>0</td>\n      <td>0</td>\n      <td>0</td>\n      <td>0</td>\n      <td>0</td>\n    </tr>\n    <tr>\n      <th>3</th>\n      <td>1352796878438424576</td>\n      <td>3C9A15EEA8FD238754BE28C15B26709A</td>\n      <td>1611673955881</td>\n      <td>1</td>\n      <td>1</td>\n      <td>0</td>\n      <td>0</td>\n      <td>1</td>\n      <td>NaN</td>\n      <td>0</td>\n      <td>...</td>\n      <td>0</td>\n      <td>1</td>\n      <td>0</td>\n      <td>0</td>\n      <td>0</td>\n      <td>0</td>\n      <td>0</td>\n      <td>0</td>\n      <td>0</td>\n      <td>0</td>\n    </tr>\n    <tr>\n      <th>4</th>\n      <td>1352796878438424576</td>\n      <td>0466BA47B23AAAB301AA767C4C780E8D</td>\n      <td>1611523319844</td>\n      <td>1</td>\n      <td>1</td>\n      <td>0</td>\n      <td>1</td>\n      <td>0</td>\n      <td>NaN</td>\n      <td>0</td>\n      <td>...</td>\n      <td>0</td>\n      <td>0</td>\n      <td>0</td>\n      <td>0</td>\n      <td>0</td>\n      <td>0</td>\n      <td>0</td>\n      <td>0</td>\n      <td>0</td>\n      <td>0</td>\n    </tr>\n  </tbody>\n</table>\n<p>5 rows × 28 columns</p>\n</div>"
     },
     "metadata": {}
    }
   ]
  },
  {
   "cell_type": "markdown",
   "source": "## Tweet Response Rundown",
   "metadata": {
    "tags": [],
    "is_collapsed": false,
    "cell_id": "00022-5f2d39dc-1e8d-4b36-bb5d-d4654087c6a3",
    "deepnote_cell_type": "text-cell-h2",
    "deepnote_cell_height": 70
   }
  },
  {
   "cell_type": "code",
   "metadata": {
    "tags": [],
    "cell_id": "00023-7a33df2e-956b-43e5-8b5a-cf37ae1c9aba",
    "deepnote_to_be_reexecuted": true,
    "source_hash": "881176df",
    "execution_start": 1646093344075,
    "execution_millis": 6,
    "deepnote_cell_type": "code",
    "deepnote_cell_height": 66
   },
   "source": "tweets['username'].value_counts().nlargest(21)",
   "execution_count": null,
   "outputs": [
    {
     "name": "stderr",
     "text": "/shared-libs/python3.8/py-core/lib/python3.8/site-packages/ipykernel/ipkernel.py:283: DeprecationWarning: `should_run_async` will not call `transform_cell` automatically in the future. Please pass the result to `transformed_cell` argument and any exception that happen during thetransform in `preprocessing_exc_tuple` in IPython 7.17 and above.\n  and should_run_async(code)\n",
     "output_type": "stream"
    },
    {
     "output_type": "execute_result",
     "execution_count": 57,
     "data": {
      "text/plain": "Quakeprediction    379\nearthquakejapan    158\nmtgreenee          154\nNotAlexSheppard    105\nlaurenboebert       83\ndioncini            68\nChicago1Ray         62\nthehill             58\nEmeraldRobinson     49\nPOTUS               46\nJackPosobiec        44\nAOC                 39\nAlexBerenson        37\nEWoodhouse7         37\nJim_Jordan          34\nrealLizUSA          34\nRealCandaceO        34\nMcKaylaRoseJ        33\nP8R1OT              33\natrupar             30\nDonaldJTrumpJr      30\nName: username, dtype: int64"
     },
     "metadata": {}
    }
   ]
  },
  {
   "cell_type": "code",
   "metadata": {
    "cell_id": "5c962893-490d-4d77-9837-f241e955e2e5",
    "tags": [],
    "deepnote_to_be_reexecuted": true,
    "source_hash": "6a77453d",
    "execution_start": 1646093459774,
    "execution_millis": 647,
    "deepnote_cell_type": "code",
    "deepnote_cell_height": 66
   },
   "source": "import matplotlib.pyplot as plt",
   "execution_count": null,
   "outputs": [
    {
     "name": "stderr",
     "text": "/shared-libs/python3.8/py-core/lib/python3.8/site-packages/ipykernel/ipkernel.py:283: DeprecationWarning: `should_run_async` will not call `transform_cell` automatically in the future. Please pass the result to `transformed_cell` argument and any exception that happen during thetransform in `preprocessing_exc_tuple` in IPython 7.17 and above.\n  and should_run_async(code)\n",
     "output_type": "stream"
    }
   ]
  },
  {
   "cell_type": "code",
   "metadata": {
    "cell_id": "ac9ea89f-27a5-4b2f-bcd3-3ebdc2d64502",
    "tags": [],
    "deepnote_to_be_reexecuted": true,
    "source_hash": "86dcc32e",
    "execution_start": 1646093503734,
    "execution_millis": 979,
    "deepnote_cell_type": "code",
    "deepnote_cell_height": 424
   },
   "source": "tweets['username'].value_counts().nlargest(21).plot.bar()",
   "execution_count": null,
   "outputs": [
    {
     "name": "stderr",
     "text": "/shared-libs/python3.8/py-core/lib/python3.8/site-packages/ipykernel/ipkernel.py:283: DeprecationWarning: `should_run_async` will not call `transform_cell` automatically in the future. Please pass the result to `transformed_cell` argument and any exception that happen during thetransform in `preprocessing_exc_tuple` in IPython 7.17 and above.\n  and should_run_async(code)\n",
     "output_type": "stream"
    },
    {
     "output_type": "execute_result",
     "execution_count": 66,
     "data": {
      "text/plain": "<AxesSubplot:>"
     },
     "metadata": {}
    },
    {
     "data": {
      "text/plain": "<Figure size 432x288 with 1 Axes>",
      "image/png": "[encoded data removed]"
     },
     "metadata": {
      "needs_background": "light",
      "image/png": {
       "width": 375,
       "height": 325
      }
     },
     "output_type": "display_data"
    }
   ]
  },
  {
   "cell_type": "code",
   "metadata": {
    "cell_id": "b29e9b3d-a500-4da8-aa58-4267aa919eaa",
    "tags": [],
    "deepnote_to_be_reexecuted": true,
    "source_hash": "ba3661a5",
    "execution_start": 1646094211308,
    "execution_millis": 20,
    "deepnote_cell_type": "code",
    "deepnote_cell_height": 66
   },
   "source": "tweets[tweets.clean_text.apply(helper)]",
   "execution_count": null,
   "outputs": [
    {
     "name": "stderr",
     "text": "/shared-libs/python3.8/py-core/lib/python3.8/site-packages/ipykernel/ipkernel.py:283: DeprecationWarning: `should_run_async` will not call `transform_cell` automatically in the future. Please pass the result to `transformed_cell` argument and any exception that happen during thetransform in `preprocessing_exc_tuple` in IPython 7.17 and above.\n  and should_run_async(code)\n",
     "output_type": "stream"
    },
    {
     "output_type": "error",
     "ename": "AttributeError",
     "evalue": "'list' object has no attribute 'contains'",
     "traceback": [
      "\u001b[0;31m---------------------------------------------------------------------------\u001b[0m",
      "\u001b[0;31mAttributeError\u001b[0m                            Traceback (most recent call last)",
      "\u001b[0;32m<ipython-input-73-b6592a1d4c75>\u001b[0m in \u001b[0;36m<module>\u001b[0;34m\u001b[0m\n\u001b[0;32m----> 1\u001b[0;31m \u001b[0mtweets\u001b[0m\u001b[0;34m[\u001b[0m\u001b[0mtweets\u001b[0m\u001b[0;34m.\u001b[0m\u001b[0mclean_text\u001b[0m\u001b[0;34m.\u001b[0m\u001b[0mapply\u001b[0m\u001b[0;34m(\u001b[0m\u001b[0mhelper\u001b[0m\u001b[0;34m)\u001b[0m\u001b[0;34m]\u001b[0m\u001b[0;34m\u001b[0m\u001b[0;34m\u001b[0m\u001b[0m\n\u001b[0m",
      "\u001b[0;32m/shared-libs/python3.8/py/lib/python3.8/site-packages/pandas/core/series.py\u001b[0m in \u001b[0;36mapply\u001b[0;34m(self, func, convert_dtype, args, **kwds)\u001b[0m\n\u001b[1;32m   4136\u001b[0m             \u001b[0;32melse\u001b[0m\u001b[0;34m:\u001b[0m\u001b[0;34m\u001b[0m\u001b[0;34m\u001b[0m\u001b[0m\n\u001b[1;32m   4137\u001b[0m                 \u001b[0mvalues\u001b[0m \u001b[0;34m=\u001b[0m \u001b[0mself\u001b[0m\u001b[0;34m.\u001b[0m\u001b[0mastype\u001b[0m\u001b[0;34m(\u001b[0m\u001b[0mobject\u001b[0m\u001b[0;34m)\u001b[0m\u001b[0;34m.\u001b[0m\u001b[0m_values\u001b[0m\u001b[0;34m\u001b[0m\u001b[0;34m\u001b[0m\u001b[0m\n\u001b[0;32m-> 4138\u001b[0;31m                 \u001b[0mmapped\u001b[0m \u001b[0;34m=\u001b[0m \u001b[0mlib\u001b[0m\u001b[0;34m.\u001b[0m\u001b[0mmap_infer\u001b[0m\u001b[0;34m(\u001b[0m\u001b[0mvalues\u001b[0m\u001b[0;34m,\u001b[0m \u001b[0mf\u001b[0m\u001b[0;34m,\u001b[0m \u001b[0mconvert\u001b[0m\u001b[0;34m=\u001b[0m\u001b[0mconvert_dtype\u001b[0m\u001b[0;34m)\u001b[0m\u001b[0;34m\u001b[0m\u001b[0;34m\u001b[0m\u001b[0m\n\u001b[0m\u001b[1;32m   4139\u001b[0m \u001b[0;34m\u001b[0m\u001b[0m\n\u001b[1;32m   4140\u001b[0m         \u001b[0;32mif\u001b[0m \u001b[0mlen\u001b[0m\u001b[0;34m(\u001b[0m\u001b[0mmapped\u001b[0m\u001b[0;34m)\u001b[0m \u001b[0;32mand\u001b[0m \u001b[0misinstance\u001b[0m\u001b[0;34m(\u001b[0m\u001b[0mmapped\u001b[0m\u001b[0;34m[\u001b[0m\u001b[0;36m0\u001b[0m\u001b[0;34m]\u001b[0m\u001b[0;34m,\u001b[0m \u001b[0mSeries\u001b[0m\u001b[0;34m)\u001b[0m\u001b[0;34m:\u001b[0m\u001b[0;34m\u001b[0m\u001b[0;34m\u001b[0m\u001b[0m\n",
      "\u001b[0;32mpandas/_libs/lib.pyx\u001b[0m in \u001b[0;36mpandas._libs.lib.map_infer\u001b[0;34m()\u001b[0m\n",
      "\u001b[0;32m<ipython-input-72-0510232df4d4>\u001b[0m in \u001b[0;36mhelper\u001b[0;34m(arr)\u001b[0m\n\u001b[1;32m      1\u001b[0m \u001b[0;32mdef\u001b[0m \u001b[0mhelper\u001b[0m\u001b[0;34m(\u001b[0m\u001b[0marr\u001b[0m\u001b[0;34m)\u001b[0m\u001b[0;34m:\u001b[0m\u001b[0;34m\u001b[0m\u001b[0;34m\u001b[0m\u001b[0m\n\u001b[0;32m----> 2\u001b[0;31m     \u001b[0;32mreturn\u001b[0m \u001b[0marr\u001b[0m\u001b[0;34m.\u001b[0m\u001b[0mcontains\u001b[0m\u001b[0;34m(\u001b[0m\u001b[0;34m'rightwe'\u001b[0m\u001b[0;34m)\u001b[0m\u001b[0;34m\u001b[0m\u001b[0;34m\u001b[0m\u001b[0m\n\u001b[0m",
      "\u001b[0;31mAttributeError\u001b[0m: 'list' object has no attribute 'contains'"
     ]
    }
   ]
  },
  {
   "cell_type": "code",
   "metadata": {
    "cell_id": "d0ad37b0-189b-47a1-bb85-4a9a4b8363f5",
    "tags": [],
    "deepnote_to_be_reexecuted": true,
    "source_hash": "223359a1",
    "execution_start": 1646094282508,
    "execution_millis": 0,
    "deepnote_cell_type": "code",
    "deepnote_cell_height": 84
   },
   "source": "def helper(arr):\n    return 'rightwe' in arr",
   "execution_count": null,
   "outputs": [
    {
     "name": "stderr",
     "text": "/shared-libs/python3.8/py-core/lib/python3.8/site-packages/ipykernel/ipkernel.py:283: DeprecationWarning: `should_run_async` will not call `transform_cell` automatically in the future. Please pass the result to `transformed_cell` argument and any exception that happen during thetransform in `preprocessing_exc_tuple` in IPython 7.17 and above.\n  and should_run_async(code)\n",
     "output_type": "stream"
    }
   ]
  },
  {
   "cell_type": "code",
   "metadata": {
    "cell_id": "4ed013e5-d60b-4b55-a5f2-1849d9beca4e",
    "tags": [],
    "deepnote_to_be_reexecuted": true,
    "source_hash": "d9859c48",
    "execution_start": 1646094283849,
    "execution_millis": 168,
    "deepnote_cell_type": "code",
    "deepnote_cell_height": 66
   },
   "source": "tweets['mask'] = tweets['clean_text'].apply(helper)",
   "execution_count": null,
   "outputs": [
    {
     "name": "stderr",
     "text": "/shared-libs/python3.8/py-core/lib/python3.8/site-packages/ipykernel/ipkernel.py:283: DeprecationWarning: `should_run_async` will not call `transform_cell` automatically in the future. Please pass the result to `transformed_cell` argument and any exception that happen during thetransform in `preprocessing_exc_tuple` in IPython 7.17 and above.\n  and should_run_async(code)\n",
     "output_type": "stream"
    }
   ]
  },
  {
   "cell_type": "code",
   "metadata": {
    "cell_id": "a56360dc-7041-477a-915e-1f385e3ae5fb",
    "tags": [],
    "deepnote_to_be_reexecuted": true,
    "source_hash": "988ad3f2",
    "execution_start": 1646094391239,
    "execution_millis": 10,
    "deepnote_cell_type": "code",
    "deepnote_cell_height": 84
   },
   "source": "print(tweets[tweets['mask'] == True].clean_text.iloc[0])\nprint(tweets[tweets['mask'] == True].text.iloc[0])",
   "execution_count": null,
   "outputs": [
    {
     "name": "stdout",
     "text": "['antisemitism', 'rise', 'truly', 'wokeness', 'contain', 'leftwe', 'antisemitism', 'normal', 'rightwing', 'antisemitism', 'flare', 'condition', 'identity', 'politic', 'extra', 'rightwe', 'antisemitism', 'arise', 'lot', 'progressive', 'jews', 'nonsensically', 'woke']\nAnti-Semitism is on the rise again, truly. Wokeness contains left-wing anti-Semitism. Normal right-wing anti-Semitism is flared up because of conditions and identity politics. Extra right-wing anti-Semitism is arising because lots of progressive Jews are nonsensically Woke.\n/shared-libs/python3.8/py-core/lib/python3.8/site-packages/ipykernel/ipkernel.py:283: DeprecationWarning: `should_run_async` will not call `transform_cell` automatically in the future. Please pass the result to `transformed_cell` argument and any exception that happen during thetransform in `preprocessing_exc_tuple` in IPython 7.17 and above.\n  and should_run_async(code)\n",
     "output_type": "stream"
    }
   ]
  },
  {
   "cell_type": "code",
   "metadata": {
    "tags": [],
    "cell_id": "00024-cc09d9f2-7adf-4311-ad0d-f38cad70f2d4",
    "deepnote_to_be_reexecuted": true,
    "source_hash": "850e50b5",
    "execution_start": 1646090780644,
    "execution_millis": 11,
    "deepnote_cell_type": "code",
    "deepnote_cell_height": 118.18333435058594
   },
   "source": "len(tweets)",
   "execution_count": null,
   "outputs": [
    {
     "name": "stderr",
     "text": "/shared-libs/python3.8/py-core/lib/python3.8/site-packages/ipykernel/ipkernel.py:283: DeprecationWarning: `should_run_async` will not call `transform_cell` automatically in the future. Please pass the result to `transformed_cell` argument and any exception that happen during thetransform in `preprocessing_exc_tuple` in IPython 7.17 and above.\n  and should_run_async(code)\n",
     "output_type": "stream"
    },
    {
     "output_type": "execute_result",
     "execution_count": 16,
     "data": {
      "text/plain": "11326"
     },
     "metadata": {}
    }
   ]
  },
  {
   "cell_type": "code",
   "metadata": {
    "cell_id": "987bfb84-cd94-472a-babc-41ecc70aee93",
    "tags": [],
    "deepnote_to_be_reexecuted": true,
    "source_hash": "90d4421",
    "execution_start": 1646091987266,
    "execution_millis": 312,
    "deepnote_cell_type": "code",
    "deepnote_cell_height": 66
   },
   "source": "tweets[tweets.username == 'birdwatch']",
   "execution_count": null,
   "outputs": [
    {
     "name": "stderr",
     "text": "/shared-libs/python3.8/py-core/lib/python3.8/site-packages/ipykernel/ipkernel.py:283: DeprecationWarning: `should_run_async` will not call `transform_cell` automatically in the future. Please pass the result to `transformed_cell` argument and any exception that happen during thetransform in `preprocessing_exc_tuple` in IPython 7.17 and above.\n  and should_run_async(code)\n",
     "output_type": "stream"
    },
    {
     "output_type": "execute_result",
     "execution_count": 18,
     "data": {
      "application/vnd.deepnote.dataframe.v3+json": {
       "column_count": 15,
       "row_count": 837,
       "columns": [
        {
         "name": "Unnamed: 0",
         "dtype": "int64",
         "stats": {
          "unique_count": 710,
          "nan_count": 0,
          "min": "1",
          "max": "6811",
          "histogram": [
           {
            "bin_start": 1,
            "bin_end": 682,
            "count": 238
           },
           {
            "bin_start": 682,
            "bin_end": 1363,
            "count": 40
           },
           {
            "bin_start": 1363,
            "bin_end": 2044,
            "count": 77
           },
           {
            "bin_start": 2044,
            "bin_end": 2725,
            "count": 58
           },
           {
            "bin_start": 2725,
            "bin_end": 3406,
            "count": 84
           },
           {
            "bin_start": 3406,
            "bin_end": 4087,
            "count": 65
           },
           {
            "bin_start": 4087,
            "bin_end": 4768,
            "count": 39
           },
           {
            "bin_start": 4768,
            "bin_end": 5449,
            "count": 57
           },
           {
            "bin_start": 5449,
            "bin_end": 6130,
            "count": 107
           },
           {
            "bin_start": 6130,
            "bin_end": 6811,
            "count": 72
           }
          ]
         }
        },
        {
         "name": "tweetId",
         "dtype": "int64",
         "stats": {
          "unique_count": 837,
          "nan_count": 0,
          "min": "1354584088594669572",
          "max": "1430268977909927936",
          "histogram": [
           {
            "bin_start": 1354584088594669600,
            "bin_end": 1362152577526195500,
            "count": 432
           },
           {
            "bin_start": 1362152577526195500,
            "bin_end": 1369721066457721300,
            "count": 1
           },
           {
            "bin_start": 1369721066457721300,
            "bin_end": 1377289555389247000,
            "count": 153
           },
           {
            "bin_start": 1377289555389247000,
            "bin_end": 1384858044320772900,
            "count": 1
           },
           {
            "bin_start": 1384858044320772900,
            "bin_end": 1392426533252298800,
            "count": 57
           },
           {
            "bin_start": 1392426533252298800,
            "bin_end": 1399995022183824600,
            "count": 0
           },
           {
            "bin_start": 1399995022183824600,
            "bin_end": 1407563511115350500,
            "count": 63
           },
           {
            "bin_start": 1407563511115350500,
            "bin_end": 1415132000046876200,
            "count": 0
           },
           {
            "bin_start": 1415132000046876200,
            "bin_end": 1422700488978402000,
            "count": 0
           },
           {
            "bin_start": 1422700488978402000,
            "bin_end": 1430268977909928000,
            "count": 130
           }
          ]
         }
        },
        {
         "name": "username",
         "dtype": "object",
         "stats": {
          "unique_count": 1,
          "nan_count": 0,
          "categories": [
           {
            "name": "birdwatch",
            "count": 837
           }
          ]
         }
        },
        {
         "name": "userId",
         "dtype": "float64",
         "stats": {
          "unique_count": 1,
          "nan_count": 0,
          "min": "1.3190368289644544e+18",
          "max": "1.3190368289644544e+18",
          "histogram": null
         }
        },
        {
         "name": "text",
         "dtype": "object",
         "stats": {
          "unique_count": 165,
          "nan_count": 0,
          "categories": [
           {
            "name": "If you want to add helpful context to any Tweet that might be misleading, open the ••• menu and then hit \"Contribute to Birdwatch\". Try it on this Tweet! https://t.co/fk57uFse7E",
            "count": 662
           },
           {
            "name": "We can't wait to see where this pilot takes us, and we can't do it without you. To stay up-to-date, give us feedback, and talk directly with the team building Birdwatch, follow (and feel free to DM) us @birdwatch",
            "count": 6
           },
           {
            "name": "163 others",
            "count": 169
           }
          ]
         }
        },
        {
         "name": "time",
         "dtype": "object",
         "stats": {
          "unique_count": 227,
          "nan_count": 0,
          "categories": [
           {
            "name": "2021-01-28 18:38:23",
            "count": 71
           },
           {
            "name": "2021-01-28 16:36:49",
            "count": 45
           },
           {
            "name": "225 others",
            "count": 721
           }
          ]
         }
        },
        {
         "name": "link",
         "dtype": "object",
         "stats": {
          "unique_count": 837,
          "nan_count": 0,
          "categories": [
           {
            "name": "https://twitter.com/birdwatch/status/1370127482641260544",
            "count": 1
           },
           {
            "name": "https://twitter.com/birdwatch/status/1362116397673799681",
            "count": 1
           },
           {
            "name": "835 others",
            "count": 835
           }
          ]
         }
        },
        {
         "name": "links",
         "dtype": "object",
         "stats": {
          "unique_count": 837,
          "nan_count": 0,
          "categories": [
           {
            "name": "['https://t.co/fk57uFse7E']",
            "count": 663
           },
           {
            "name": "['https://t.co/ldtHFVYFZv']",
            "count": 153
           },
           {
            "name": "6 others",
            "count": 21
           }
          ]
         }
        },
        {
         "name": "clean_text",
         "dtype": "object",
         "stats": {
          "unique_count": 837,
          "nan_count": 0,
          "categories": [
           {
            "name": "['want', 'add', 'helpful', 'context', 'tweet', 'mislead', 'open', 'menu', 'hit', 'contribute', 'birdwatch', 'try', 'tweet']",
            "count": 662
           },
           {
            "name": "['wait', 'pilot', 'take', 'not', 'stay', 'uptodate', 'feedback', 'talk', 'directly', 'team', 'build', 'birdwatch', 'follow', 'feel', 'free', 'birdwatch']",
            "count": 8
           },
           {
            "name": "162 others",
            "count": 167
           }
          ]
         }
        },
        {
         "name": "word_count",
         "dtype": "int64",
         "stats": {
          "unique_count": 34,
          "nan_count": 0,
          "min": "26",
          "max": "269",
          "histogram": [
           {
            "bin_start": 26,
            "bin_end": 50.3,
            "count": 1
           },
           {
            "bin_start": 50.3,
            "bin_end": 74.6,
            "count": 0
           },
           {
            "bin_start": 74.6,
            "bin_end": 98.9,
            "count": 0
           },
           {
            "bin_start": 98.9,
            "bin_end": 123.2,
            "count": 1
           },
           {
            "bin_start": 123.2,
            "bin_end": 147.5,
            "count": 668
           },
           {
            "bin_start": 147.5,
            "bin_end": 171.8,
            "count": 0
           },
           {
            "bin_start": 171.8,
            "bin_end": 196.1,
            "count": 0
           },
           {
            "bin_start": 196.1,
            "bin_end": 220.4,
            "count": 157
           },
           {
            "bin_start": 220.4,
            "bin_end": 244.70000000000002,
            "count": 6
           },
           {
            "bin_start": 244.70000000000002,
            "bin_end": 269,
            "count": 4
           }
          ]
         }
        },
        {
         "name": "num_links",
         "dtype": "int64",
         "stats": {
          "unique_count": 2,
          "nan_count": 0,
          "min": "0",
          "max": "1",
          "histogram": [
           {
            "bin_start": 0,
            "bin_end": 0.1,
            "count": 11
           },
           {
            "bin_start": 0.1,
            "bin_end": 0.2,
            "count": 0
           },
           {
            "bin_start": 0.2,
            "bin_end": 0.30000000000000004,
            "count": 0
           },
           {
            "bin_start": 0.30000000000000004,
            "bin_end": 0.4,
            "count": 0
           },
           {
            "bin_start": 0.4,
            "bin_end": 0.5,
            "count": 0
           },
           {
            "bin_start": 0.5,
            "bin_end": 0.6000000000000001,
            "count": 0
           },
           {
            "bin_start": 0.6000000000000001,
            "bin_end": 0.7000000000000001,
            "count": 0
           },
           {
            "bin_start": 0.7000000000000001,
            "bin_end": 0.8,
            "count": 0
           },
           {
            "bin_start": 0.8,
            "bin_end": 0.9,
            "count": 0
           },
           {
            "bin_start": 0.9,
            "bin_end": 1,
            "count": 826
           }
          ]
         }
        },
        {
         "name": "has_links",
         "dtype": "int64",
         "stats": {
          "unique_count": 2,
          "nan_count": 0,
          "min": "0",
          "max": "1",
          "histogram": [
           {
            "bin_start": 0,
            "bin_end": 0.1,
            "count": 11
           },
           {
            "bin_start": 0.1,
            "bin_end": 0.2,
            "count": 0
           },
           {
            "bin_start": 0.2,
            "bin_end": 0.30000000000000004,
            "count": 0
           },
           {
            "bin_start": 0.30000000000000004,
            "bin_end": 0.4,
            "count": 0
           },
           {
            "bin_start": 0.4,
            "bin_end": 0.5,
            "count": 0
           },
           {
            "bin_start": 0.5,
            "bin_end": 0.6000000000000001,
            "count": 0
           },
           {
            "bin_start": 0.6000000000000001,
            "bin_end": 0.7000000000000001,
            "count": 0
           },
           {
            "bin_start": 0.7000000000000001,
            "bin_end": 0.8,
            "count": 0
           },
           {
            "bin_start": 0.8,
            "bin_end": 0.9,
            "count": 0
           },
           {
            "bin_start": 0.9,
            "bin_end": 1,
            "count": 826
           }
          ]
         }
        },
        {
         "name": "polarity",
         "dtype": "float64",
         "stats": {
          "unique_count": 10,
          "nan_count": 0,
          "min": "0.0",
          "max": "0.8",
          "histogram": [
           {
            "bin_start": 0,
            "bin_end": 0.08,
            "count": 668
           },
           {
            "bin_start": 0.08,
            "bin_end": 0.16,
            "count": 1
           },
           {
            "bin_start": 0.16,
            "bin_end": 0.24,
            "count": 1
           },
           {
            "bin_start": 0.24,
            "bin_end": 0.32,
            "count": 12
           },
           {
            "bin_start": 0.32,
            "bin_end": 0.4,
            "count": 0
           },
           {
            "bin_start": 0.4,
            "bin_end": 0.48,
            "count": 1
           },
           {
            "bin_start": 0.48,
            "bin_end": 0.56,
            "count": 1
           },
           {
            "bin_start": 0.56,
            "bin_end": 0.64,
            "count": 0
           },
           {
            "bin_start": 0.64,
            "bin_end": 0.72,
            "count": 0
           },
           {
            "bin_start": 0.72,
            "bin_end": 0.8,
            "count": 153
           }
          ]
         }
        },
        {
         "name": "subjectivity",
         "dtype": "float64",
         "stats": {
          "unique_count": 12,
          "nan_count": 0,
          "min": "0.0",
          "max": "1.0",
          "histogram": [
           {
            "bin_start": 0,
            "bin_end": 0.1,
            "count": 6
           },
           {
            "bin_start": 0.1,
            "bin_end": 0.2,
            "count": 0
           },
           {
            "bin_start": 0.2,
            "bin_end": 0.30000000000000004,
            "count": 0
           },
           {
            "bin_start": 0.30000000000000004,
            "bin_end": 0.4,
            "count": 0
           },
           {
            "bin_start": 0.4,
            "bin_end": 0.5,
            "count": 1
           },
           {
            "bin_start": 0.5,
            "bin_end": 0.6000000000000001,
            "count": 663
           },
           {
            "bin_start": 0.6000000000000001,
            "bin_end": 0.7000000000000001,
            "count": 10
           },
           {
            "bin_start": 0.7000000000000001,
            "bin_end": 0.8,
            "count": 3
           },
           {
            "bin_start": 0.8,
            "bin_end": 0.9,
            "count": 0
           },
           {
            "bin_start": 0.9,
            "bin_end": 1,
            "count": 154
           }
          ]
         }
        },
        {
         "name": "clean_text_as_str",
         "dtype": "object",
         "stats": {
          "unique_count": 164,
          "nan_count": 0,
          "categories": [
           {
            "name": "want add helpful context tweet mislead open menu hit contribute birdwatch try tweet",
            "count": 662
           },
           {
            "name": "not wait pilot take not stay uptodate feedback talk directly team build birdwatch follow feel free dm birdwatch",
            "count": 8
           },
           {
            "name": "162 others",
            "count": 167
           }
          ]
         }
        },
        {
         "name": "_deepnote_index_column",
         "dtype": "int64"
        }
       ],
       "rows": [
        {
         "Unnamed: 0": 10,
         "tweetId": 1370127482641260500,
         "username": "birdwatch",
         "userId": 1319036828964454400,
         "text": "If you want to add helpful context to any Tweet that might be misleading, open the ••• menu and the…",
         "time": "2021-03-11 21:40:22",
         "link": "https://twitter.com/birdwatch/status/1370127482641260544",
         "links": "['https://t.co/fk57uFse7E']",
         "clean_text": "['want', 'add', 'helpful', 'context', 'tweet', 'mislead', 'open', 'menu', 'hit', 'contribute', 'bir…",
         "word_count": 144,
         "num_links": 1,
         "has_links": 1,
         "polarity": 0,
         "subjectivity": 0.5,
         "clean_text_as_str": "want add helpful context tweet mislead open menu hit contribute birdwatch try tweet",
         "_deepnote_index_column": 10
        },
        {
         "Unnamed: 0": 21,
         "tweetId": 1362116397673799700,
         "username": "birdwatch",
         "userId": 1319036828964454400,
         "text": "@ngerakines Welcome to Birdwatch! 🎉 You can now add context to Tweets, and rate notes on the Birdwa…",
         "time": "2021-02-17 19:07:10",
         "link": "https://twitter.com/birdwatch/status/1362116397673799681",
         "links": "['https://t.co/ldtHFVYFZv']",
         "clean_text": "['ngerakine', 'welcome', 'birdwatch', 'add', 'context', 'tweet', 'rate', 'note', 'birdwatch', 'site…",
         "word_count": 217,
         "num_links": 1,
         "has_links": 1,
         "polarity": 0.8,
         "subjectivity": 0.9,
         "clean_text_as_str": "ngerakine welcome birdwatch add context tweet rate note birdwatch site check howto guide help go d …",
         "_deepnote_index_column": 21
        },
        {
         "Unnamed: 0": 24,
         "tweetId": 1387842855519998000,
         "username": "birdwatch",
         "userId": 1319036828964454400,
         "text": "If you want to add helpful context to any Tweet that might be misleading, open the ••• menu and the…",
         "time": "2021-04-29 18:54:56",
         "link": "https://twitter.com/birdwatch/status/1387842855519997954",
         "links": "['https://t.co/fk57uFse7E']",
         "clean_text": "['want', 'add', 'helpful', 'context', 'tweet', 'mislead', 'open', 'menu', 'hit', 'contribute', 'bir…",
         "word_count": 144,
         "num_links": 1,
         "has_links": 1,
         "polarity": 0,
         "subjectivity": 0.5,
         "clean_text_as_str": "want add helpful context tweet mislead open menu hit contribute birdwatch try tweet",
         "_deepnote_index_column": 24
        },
        {
         "Unnamed: 0": 30,
         "tweetId": 1357421548269756400,
         "username": "birdwatch",
         "userId": 1319036828964454400,
         "text": "If you want to add helpful context to any Tweet that might be misleading, open the ••• menu and the…",
         "time": "2021-02-04 20:11:31",
         "link": "https://twitter.com/birdwatch/status/1357421548269756418",
         "links": "['https://t.co/fk57uFse7E']",
         "clean_text": "['want', 'add', 'helpful', 'context', 'tweet', 'mislead', 'open', 'menu', 'hit', 'contribute', 'bir…",
         "word_count": 144,
         "num_links": 1,
         "has_links": 1,
         "polarity": 0,
         "subjectivity": 0.5,
         "clean_text_as_str": "want add helpful context tweet mislead open menu hit contribute birdwatch try tweet",
         "_deepnote_index_column": 30
        },
        {
         "Unnamed: 0": 37,
         "tweetId": 1354861396891033600,
         "username": "birdwatch",
         "userId": 1319036828964454400,
         "text": "@ginevra Welcome to Birdwatch! 🎉 You can now help identify and add valuable context to misleading T…",
         "time": "2021-01-28 18:38:23",
         "link": "https://twitter.com/birdwatch/status/1354861396891033602",
         "links": "['https://t.co/ldtHFVYFZv']",
         "clean_text": "['ginevra', 'welcome', 'birdwatch', 'help', 'identify', 'add', 'valuable', 'context', 'mislead', 't…",
         "word_count": 202,
         "num_links": 1,
         "has_links": 1,
         "polarity": 0.8,
         "subjectivity": 0.9,
         "clean_text_as_str": "ginevra welcome birdwatch help identify add valuable context mislead tweet write guide start d like…",
         "_deepnote_index_column": 37
        },
        {
         "Unnamed: 0": 38,
         "tweetId": 1362116842156818400,
         "username": "birdwatch",
         "userId": 1319036828964454400,
         "text": "@anildash Welcome to Birdwatch! 🎉 You can now add context to Tweets, and rate notes on the Birdwatc…",
         "time": "2021-02-17 19:08:56",
         "link": "https://twitter.com/birdwatch/status/1362116842156818432",
         "links": "['https://t.co/ldtHFVYFZv']",
         "clean_text": "['anildash', 'welcome', 'birdwatch', 'add', 'context', 'tweet', 'rate', 'note', 'birdwatch', 'site'…",
         "word_count": 215,
         "num_links": 1,
         "has_links": 1,
         "polarity": 0.8,
         "subjectivity": 0.9,
         "clean_text_as_str": "anildash welcome birdwatch add context tweet rate note birdwatch site check howto guide help go d l…",
         "_deepnote_index_column": 38
        },
        {
         "Unnamed: 0": 39,
         "tweetId": 1357422309921804300,
         "username": "birdwatch",
         "userId": 1319036828964454400,
         "text": "If you want to add helpful context to any Tweet that might be misleading, open the ••• menu and the…",
         "time": "2021-02-04 20:14:33",
         "link": "https://twitter.com/birdwatch/status/1357422309921804288",
         "links": "['https://t.co/fk57uFse7E']",
         "clean_text": "['want', 'add', 'helpful', 'context', 'tweet', 'mislead', 'open', 'menu', 'hit', 'contribute', 'bir…",
         "word_count": 144,
         "num_links": 1,
         "has_links": 1,
         "polarity": 0,
         "subjectivity": 0.5,
         "clean_text_as_str": "want add helpful context tweet mislead open menu hit contribute birdwatch try tweet",
         "_deepnote_index_column": 39
        },
        {
         "Unnamed: 0": 45,
         "tweetId": 1354861397125910500,
         "username": "birdwatch",
         "userId": 1319036828964454400,
         "text": "@dbwilldo Welcome to Birdwatch! 🎉 You can now help identify and add valuable context to misleading …",
         "time": "2021-01-28 18:38:23",
         "link": "https://twitter.com/birdwatch/status/1354861397125910529",
         "links": "['https://t.co/ldtHFVYFZv']",
         "clean_text": "['dbwilldo', 'welcome', 'birdwatch', 'help', 'identify', 'add', 'valuable', 'context', 'mislead', '…",
         "word_count": 203,
         "num_links": 1,
         "has_links": 1,
         "polarity": 0.8,
         "subjectivity": 0.9,
         "clean_text_as_str": "dbwilldo welcome birdwatch help identify add valuable context mislead tweet write guide start d lik…",
         "_deepnote_index_column": 45
        },
        {
         "Unnamed: 0": 47,
         "tweetId": 1387843549136228400,
         "username": "birdwatch",
         "userId": 1319036828964454400,
         "text": "@paulfabretti Welcome to Birdwatch! 🎉 You can now add context to Tweets, and rate notes on the Bird…",
         "time": "2021-04-29 18:57:41",
         "link": "https://twitter.com/birdwatch/status/1387843549136228358",
         "links": "['https://t.co/ldtHFVYFZv']",
         "clean_text": "['paulfabretti', 'welcome', 'birdwatch', 'add', 'context', 'tweet', 'rate', 'note', 'birdwatch', 's…",
         "word_count": 219,
         "num_links": 1,
         "has_links": 1,
         "polarity": 0.8,
         "subjectivity": 0.9,
         "clean_text_as_str": "paulfabretti welcome birdwatch add context tweet rate note birdwatch site check howto guide help go…",
         "_deepnote_index_column": 47
        },
        {
         "Unnamed: 0": 50,
         "tweetId": 1375205784175353900,
         "username": "birdwatch",
         "userId": 1319036828964454400,
         "text": "If you want to add helpful context to any Tweet that might be misleading, open the ••• menu and the…",
         "time": "2021-03-25 21:59:43",
         "link": "https://twitter.com/birdwatch/status/1375205784175353857",
         "links": "['https://t.co/fk57uFse7E']",
         "clean_text": "['want', 'add', 'helpful', 'context', 'tweet', 'mislead', 'open', 'menu', 'hit', 'contribute', 'bir…",
         "word_count": 144,
         "num_links": 1,
         "has_links": 1,
         "polarity": 0,
         "subjectivity": 0.5,
         "clean_text_as_str": "want add helpful context tweet mislead open menu hit contribute birdwatch try tweet",
         "_deepnote_index_column": 50
        }
       ]
      },
      "text/plain": "       Unnamed: 0              tweetId   username        userId  \\\n10             10  1370127482641260544  birdwatch  1.319037e+18   \n21             21  1362116397673799681  birdwatch  1.319037e+18   \n24             24  1387842855519997954  birdwatch  1.319037e+18   \n30             30  1357421548269756418  birdwatch  1.319037e+18   \n37             37  1354861396891033602  birdwatch  1.319037e+18   \n...           ...                  ...        ...           ...   \n11667          64  1404846965431554050  birdwatch  1.319037e+18   \n11762          59  1428163517232947202  birdwatch  1.319037e+18   \n11804           1  1404846716709261322  birdwatch  1.319037e+18   \n11899          96  1387842566976991235  birdwatch  1.319037e+18   \n12111           8  1430267592397115392  birdwatch  1.319037e+18   \n\n                                                    text  \\\n10     If you want to add helpful context to any Twee...   \n21     @ngerakines Welcome to Birdwatch! 🎉 You can no...   \n24     If you want to add helpful context to any Twee...   \n30     If you want to add helpful context to any Twee...   \n37     @ginevra Welcome to Birdwatch! 🎉 You can now h...   \n...                                                  ...   \n11667  If you want to add helpful context to any Twee...   \n11762                      Everything’s back to normal ✨   \n11804  @deepseaposter Welcome to Birdwatch! 🎉 You can...   \n11899  If you want to add helpful context to any Twee...   \n12111  If you want to add helpful context to any Twee...   \n\n                            time  \\\n10           2021-03-11 21:40:22   \n21           2021-02-17 19:07:10   \n24           2021-04-29 18:54:56   \n30           2021-02-04 20:11:31   \n37           2021-01-28 18:38:23   \n...                          ...   \n11667  2021-06-15 17:03:12+00:00   \n11762  2021-08-19 01:14:51+00:00   \n11804  2021-06-15 17:02:12+00:00   \n11899  2021-04-29 18:53:47+00:00   \n12111  2021-08-24 20:35:41+00:00   \n\n                                                    link  \\\n10     https://twitter.com/birdwatch/status/137012748...   \n21     https://twitter.com/birdwatch/status/136211639...   \n24     https://twitter.com/birdwatch/status/138784285...   \n30     https://twitter.com/birdwatch/status/135742154...   \n37     https://twitter.com/birdwatch/status/135486139...   \n...                                                  ...   \n11667  https://twitter.com/birdwatch/status/140484696...   \n11762  https://twitter.com/birdwatch/status/142816351...   \n11804  https://twitter.com/birdwatch/status/140484671...   \n11899  https://twitter.com/birdwatch/status/138784256...   \n12111  https://twitter.com/birdwatch/status/143026759...   \n\n                           links  \\\n10     [https://t.co/fk57uFse7E]   \n21     [https://t.co/ldtHFVYFZv]   \n24     [https://t.co/fk57uFse7E]   \n30     [https://t.co/fk57uFse7E]   \n37     [https://t.co/ldtHFVYFZv]   \n...                          ...   \n11667  [https://t.co/fk57uFse7E]   \n11762                         []   \n11804  [https://t.co/ldtHFVYFZv]   \n11899  [https://t.co/fk57uFse7E]   \n12111  [https://t.co/fk57uFse7E]   \n\n                                              clean_text  word_count  \\\n10     [want, add, helpful, context, tweet, mislead, ...         144   \n21     [ngerakine, welcome, birdwatch, add, context, ...         217   \n24     [want, add, helpful, context, tweet, mislead, ...         144   \n30     [want, add, helpful, context, tweet, mislead, ...         144   \n37     [ginevra, welcome, birdwatch, help, identify, ...         202   \n...                                                  ...         ...   \n11667  [want, add, helpful, context, tweet, mislead, ...         144   \n11762                               [everything, normal]          26   \n11804  [deepseaposter, welcome, birdwatch, add, conte...         220   \n11899  [want, add, helpful, context, tweet, mislead, ...         144   \n12111  [want, add, helpful, context, tweet, mislead, ...         144   \n\n       num_links  has_links  polarity  subjectivity  \\\n10             1          1      0.00          0.50   \n21             1          1      0.80          0.90   \n24             1          1      0.00          0.50   \n30             1          1      0.00          0.50   \n37             1          1      0.80          0.90   \n...          ...        ...       ...           ...   \n11667          1          1      0.00          0.50   \n11762          0          0      0.15          0.65   \n11804          1          1      0.80          0.90   \n11899          1          1      0.00          0.50   \n12111          1          1      0.00          0.50   \n\n                                       clean_text_as_str  \n10     want add helpful context tweet mislead open me...  \n21     ngerakine welcome birdwatch add context tweet ...  \n24     want add helpful context tweet mislead open me...  \n30     want add helpful context tweet mislead open me...  \n37     ginevra welcome birdwatch help identify add va...  \n...                                                  ...  \n11667  want add helpful context tweet mislead open me...  \n11762                                  everything normal  \n11804  deepseaposter welcome birdwatch add context tw...  \n11899  want add helpful context tweet mislead open me...  \n12111  want add helpful context tweet mislead open me...  \n\n[837 rows x 15 columns]",
      "text/html": "<div>\n<style scoped>\n    .dataframe tbody tr th:only-of-type {\n        vertical-align: middle;\n    }\n\n    .dataframe tbody tr th {\n        vertical-align: top;\n    }\n\n    .dataframe thead th {\n        text-align: right;\n    }\n</style>\n<table border=\"1\" class=\"dataframe\">\n  <thead>\n    <tr style=\"text-align: right;\">\n      <th></th>\n      <th>Unnamed: 0</th>\n      <th>tweetId</th>\n      <th>username</th>\n      <th>userId</th>\n      <th>text</th>\n      <th>time</th>\n      <th>link</th>\n      <th>links</th>\n      <th>clean_text</th>\n      <th>word_count</th>\n      <th>num_links</th>\n      <th>has_links</th>\n      <th>polarity</th>\n      <th>subjectivity</th>\n      <th>clean_text_as_str</th>\n    </tr>\n  </thead>\n  <tbody>\n    <tr>\n      <th>10</th>\n      <td>10</td>\n      <td>1370127482641260544</td>\n      <td>birdwatch</td>\n      <td>1.319037e+18</td>\n      <td>If you want to add helpful context to any Twee...</td>\n      <td>2021-03-11 21:40:22</td>\n      <td>https://twitter.com/birdwatch/status/137012748...</td>\n      <td>[https://t.co/fk57uFse7E]</td>\n      <td>[want, add, helpful, context, tweet, mislead, ...</td>\n      <td>144</td>\n      <td>1</td>\n      <td>1</td>\n      <td>0.00</td>\n      <td>0.50</td>\n      <td>want add helpful context tweet mislead open me...</td>\n    </tr>\n    <tr>\n      <th>21</th>\n      <td>21</td>\n      <td>1362116397673799681</td>\n      <td>birdwatch</td>\n      <td>1.319037e+18</td>\n      <td>@ngerakines Welcome to Birdwatch! 🎉 You can no...</td>\n      <td>2021-02-17 19:07:10</td>\n      <td>https://twitter.com/birdwatch/status/136211639...</td>\n      <td>[https://t.co/ldtHFVYFZv]</td>\n      <td>[ngerakine, welcome, birdwatch, add, context, ...</td>\n      <td>217</td>\n      <td>1</td>\n      <td>1</td>\n      <td>0.80</td>\n      <td>0.90</td>\n      <td>ngerakine welcome birdwatch add context tweet ...</td>\n    </tr>\n    <tr>\n      <th>24</th>\n      <td>24</td>\n      <td>1387842855519997954</td>\n      <td>birdwatch</td>\n      <td>1.319037e+18</td>\n      <td>If you want to add helpful context to any Twee...</td>\n      <td>2021-04-29 18:54:56</td>\n      <td>https://twitter.com/birdwatch/status/138784285...</td>\n      <td>[https://t.co/fk57uFse7E]</td>\n      <td>[want, add, helpful, context, tweet, mislead, ...</td>\n      <td>144</td>\n      <td>1</td>\n      <td>1</td>\n      <td>0.00</td>\n      <td>0.50</td>\n      <td>want add helpful context tweet mislead open me...</td>\n    </tr>\n    <tr>\n      <th>30</th>\n      <td>30</td>\n      <td>1357421548269756418</td>\n      <td>birdwatch</td>\n      <td>1.319037e+18</td>\n      <td>If you want to add helpful context to any Twee...</td>\n      <td>2021-02-04 20:11:31</td>\n      <td>https://twitter.com/birdwatch/status/135742154...</td>\n      <td>[https://t.co/fk57uFse7E]</td>\n      <td>[want, add, helpful, context, tweet, mislead, ...</td>\n      <td>144</td>\n      <td>1</td>\n      <td>1</td>\n      <td>0.00</td>\n      <td>0.50</td>\n      <td>want add helpful context tweet mislead open me...</td>\n    </tr>\n    <tr>\n      <th>37</th>\n      <td>37</td>\n      <td>1354861396891033602</td>\n      <td>birdwatch</td>\n      <td>1.319037e+18</td>\n      <td>@ginevra Welcome to Birdwatch! 🎉 You can now h...</td>\n      <td>2021-01-28 18:38:23</td>\n      <td>https://twitter.com/birdwatch/status/135486139...</td>\n      <td>[https://t.co/ldtHFVYFZv]</td>\n      <td>[ginevra, welcome, birdwatch, help, identify, ...</td>\n      <td>202</td>\n      <td>1</td>\n      <td>1</td>\n      <td>0.80</td>\n      <td>0.90</td>\n      <td>ginevra welcome birdwatch help identify add va...</td>\n    </tr>\n    <tr>\n      <th>...</th>\n      <td>...</td>\n      <td>...</td>\n      <td>...</td>\n      <td>...</td>\n      <td>...</td>\n      <td>...</td>\n      <td>...</td>\n      <td>...</td>\n      <td>...</td>\n      <td>...</td>\n      <td>...</td>\n      <td>...</td>\n      <td>...</td>\n      <td>...</td>\n      <td>...</td>\n    </tr>\n    <tr>\n      <th>11667</th>\n      <td>64</td>\n      <td>1404846965431554050</td>\n      <td>birdwatch</td>\n      <td>1.319037e+18</td>\n      <td>If you want to add helpful context to any Twee...</td>\n      <td>2021-06-15 17:03:12+00:00</td>\n      <td>https://twitter.com/birdwatch/status/140484696...</td>\n      <td>[https://t.co/fk57uFse7E]</td>\n      <td>[want, add, helpful, context, tweet, mislead, ...</td>\n      <td>144</td>\n      <td>1</td>\n      <td>1</td>\n      <td>0.00</td>\n      <td>0.50</td>\n      <td>want add helpful context tweet mislead open me...</td>\n    </tr>\n    <tr>\n      <th>11762</th>\n      <td>59</td>\n      <td>1428163517232947202</td>\n      <td>birdwatch</td>\n      <td>1.319037e+18</td>\n      <td>Everything’s back to normal ✨</td>\n      <td>2021-08-19 01:14:51+00:00</td>\n      <td>https://twitter.com/birdwatch/status/142816351...</td>\n      <td>[]</td>\n      <td>[everything, normal]</td>\n      <td>26</td>\n      <td>0</td>\n      <td>0</td>\n      <td>0.15</td>\n      <td>0.65</td>\n      <td>everything normal</td>\n    </tr>\n    <tr>\n      <th>11804</th>\n      <td>1</td>\n      <td>1404846716709261322</td>\n      <td>birdwatch</td>\n      <td>1.319037e+18</td>\n      <td>@deepseaposter Welcome to Birdwatch! 🎉 You can...</td>\n      <td>2021-06-15 17:02:12+00:00</td>\n      <td>https://twitter.com/birdwatch/status/140484671...</td>\n      <td>[https://t.co/ldtHFVYFZv]</td>\n      <td>[deepseaposter, welcome, birdwatch, add, conte...</td>\n      <td>220</td>\n      <td>1</td>\n      <td>1</td>\n      <td>0.80</td>\n      <td>0.90</td>\n      <td>deepseaposter welcome birdwatch add context tw...</td>\n    </tr>\n    <tr>\n      <th>11899</th>\n      <td>96</td>\n      <td>1387842566976991235</td>\n      <td>birdwatch</td>\n      <td>1.319037e+18</td>\n      <td>If you want to add helpful context to any Twee...</td>\n      <td>2021-04-29 18:53:47+00:00</td>\n      <td>https://twitter.com/birdwatch/status/138784256...</td>\n      <td>[https://t.co/fk57uFse7E]</td>\n      <td>[want, add, helpful, context, tweet, mislead, ...</td>\n      <td>144</td>\n      <td>1</td>\n      <td>1</td>\n      <td>0.00</td>\n      <td>0.50</td>\n      <td>want add helpful context tweet mislead open me...</td>\n    </tr>\n    <tr>\n      <th>12111</th>\n      <td>8</td>\n      <td>1430267592397115392</td>\n      <td>birdwatch</td>\n      <td>1.319037e+18</td>\n      <td>If you want to add helpful context to any Twee...</td>\n      <td>2021-08-24 20:35:41+00:00</td>\n      <td>https://twitter.com/birdwatch/status/143026759...</td>\n      <td>[https://t.co/fk57uFse7E]</td>\n      <td>[want, add, helpful, context, tweet, mislead, ...</td>\n      <td>144</td>\n      <td>1</td>\n      <td>1</td>\n      <td>0.00</td>\n      <td>0.50</td>\n      <td>want add helpful context tweet mislead open me...</td>\n    </tr>\n  </tbody>\n</table>\n<p>837 rows × 15 columns</p>\n</div>"
     },
     "metadata": {}
    }
   ]
  },
  {
   "cell_type": "code",
   "metadata": {
    "cell_id": "35271f3d-4708-4f5e-b36f-f761313ae2bb",
    "tags": [],
    "deepnote_to_be_reexecuted": false,
    "source_hash": "53ba9007",
    "execution_start": 1646815129764,
    "execution_millis": 11,
    "deepnote_cell_type": "code",
    "deepnote_cell_height": 118.18333435058594
   },
   "source": "len(tweets[tweets.username.isnull()])",
   "execution_count": null,
   "outputs": [
    {
     "name": "stderr",
     "text": "/shared-libs/python3.8/py-core/lib/python3.8/site-packages/ipykernel/ipkernel.py:283: DeprecationWarning: `should_run_async` will not call `transform_cell` automatically in the future. Please pass the result to `transformed_cell` argument and any exception that happen during thetransform in `preprocessing_exc_tuple` in IPython 7.17 and above.\n  and should_run_async(code)\n",
     "output_type": "stream"
    },
    {
     "output_type": "execute_result",
     "execution_count": 4,
     "data": {
      "text/plain": "2299"
     },
     "metadata": {}
    }
   ]
  },
  {
   "cell_type": "code",
   "metadata": {
    "cell_id": "d6f11f5f-5831-44c9-9a69-61467778af5d",
    "tags": [],
    "deepnote_to_be_reexecuted": false,
    "source_hash": "dbe1356c",
    "execution_start": 1646815235692,
    "execution_millis": 13,
    "deepnote_cell_type": "code",
    "deepnote_cell_height": 290.8833312988281
   },
   "source": "notes.columns",
   "execution_count": null,
   "outputs": [
    {
     "name": "stderr",
     "text": "/shared-libs/python3.8/py-core/lib/python3.8/site-packages/ipykernel/ipkernel.py:283: DeprecationWarning: `should_run_async` will not call `transform_cell` automatically in the future. Please pass the result to `transformed_cell` argument and any exception that happen during thetransform in `preprocessing_exc_tuple` in IPython 7.17 and above.\n  and should_run_async(code)\n",
     "output_type": "stream"
    },
    {
     "output_type": "execute_result",
     "execution_count": 7,
     "data": {
      "text/plain": "Index(['noteId', 'participantId', 'createdAtMillis', 'tweetId',\n       'classification', 'believable', 'harmful', 'validationDifficulty',\n       'misleadingOther', 'misleadingFactualError',\n       'misleadingManipulatedMedia', 'misleadingOutdatedInformation',\n       'misleadingMissingImportantContext', 'misleadingUnverifiedClaimAsFact',\n       'misleadingSatire', 'notMisleadingOther',\n       'notMisleadingFactuallyCorrect',\n       'notMisleadingOutdatedButNotWhenWritten', 'notMisleadingClearlySatire',\n       'notMisleadingPersonalOpinion', 'trustworthySources', 'summary'],\n      dtype='object')"
     },
     "metadata": {}
    }
   ]
  },
  {
   "cell_type": "code",
   "metadata": {
    "cell_id": "8749cd00-1ab8-4110-a3a1-55b186e859af",
    "tags": [],
    "deepnote_to_be_reexecuted": false,
    "source_hash": "2dd7e4e8",
    "execution_start": 1646815264728,
    "execution_millis": 6,
    "deepnote_cell_type": "code",
    "deepnote_cell_height": 118.18333435058594
   },
   "source": "len(ratings.columns)",
   "execution_count": null,
   "outputs": [
    {
     "name": "stderr",
     "text": "/shared-libs/python3.8/py-core/lib/python3.8/site-packages/ipykernel/ipkernel.py:283: DeprecationWarning: `should_run_async` will not call `transform_cell` automatically in the future. Please pass the result to `transformed_cell` argument and any exception that happen during thetransform in `preprocessing_exc_tuple` in IPython 7.17 and above.\n  and should_run_async(code)\n",
     "output_type": "stream"
    },
    {
     "output_type": "execute_result",
     "execution_count": 9,
     "data": {
      "text/plain": "31"
     },
     "metadata": {}
    }
   ]
  },
  {
   "cell_type": "code",
   "metadata": {
    "cell_id": "414562ef-138d-4b7a-9f17-ee475c650819",
    "tags": [],
    "deepnote_to_be_reexecuted": false,
    "source_hash": "de4d5512",
    "execution_start": 1646815336669,
    "execution_millis": 9,
    "deepnote_cell_type": "code",
    "deepnote_cell_height": 329.25
   },
   "source": "ratings.columns",
   "execution_count": null,
   "outputs": [
    {
     "name": "stderr",
     "text": "/shared-libs/python3.8/py-core/lib/python3.8/site-packages/ipykernel/ipkernel.py:283: DeprecationWarning: `should_run_async` will not call `transform_cell` automatically in the future. Please pass the result to `transformed_cell` argument and any exception that happen during thetransform in `preprocessing_exc_tuple` in IPython 7.17 and above.\n  and should_run_async(code)\n",
     "output_type": "stream"
    },
    {
     "output_type": "execute_result",
     "execution_count": 10,
     "data": {
      "text/plain": "Index(['noteId', 'participantId', 'createdAtMillis', 'version', 'agree',\n       'disagree', 'helpful', 'notHelpful', 'helpfulnessLevel', 'helpfulOther',\n       'helpfulInformative', 'helpfulClear', 'helpfulEmpathetic',\n       'helpfulGoodSources', 'helpfulUniqueContext', 'helpfulAddressesClaim',\n       'helpfulImportantContext', 'helpfulUnbiasedLanguage', 'notHelpfulOther',\n       'notHelpfulIncorrect', 'notHelpfulSourcesMissingOrUnreliable',\n       'notHelpfulOpinionSpeculationOrBias', 'notHelpfulMissingKeyPoints',\n       'notHelpfulOutdated', 'notHelpfulHardToUnderstand',\n       'notHelpfulArgumentativeOrBiased', 'notHelpfulOffTopic',\n       'notHelpfulSpamHarassmentOrAbuse', 'notHelpfulIrrelevantSources',\n       'notHelpfulOpinionSpeculation', 'notHelpfulNoteNotNeeded'],\n      dtype='object')"
     },
     "metadata": {}
    }
   ]
  },
  {
   "cell_type": "code",
   "metadata": {
    "cell_id": "bef2ec94-71e3-40ec-8fcf-afd1ba8ac82c",
    "tags": [],
    "deepnote_to_be_reexecuted": false,
    "source_hash": "bd221adb",
    "execution_start": 1646815346487,
    "execution_millis": 15,
    "deepnote_cell_type": "code",
    "deepnote_cell_height": 329.25
   },
   "source": "ratings.version",
   "execution_count": null,
   "outputs": [
    {
     "name": "stderr",
     "text": "/shared-libs/python3.8/py-core/lib/python3.8/site-packages/ipykernel/ipkernel.py:283: DeprecationWarning: `should_run_async` will not call `transform_cell` automatically in the future. Please pass the result to `transformed_cell` argument and any exception that happen during thetransform in `preprocessing_exc_tuple` in IPython 7.17 and above.\n  and should_run_async(code)\n",
     "output_type": "stream"
    },
    {
     "output_type": "execute_result",
     "execution_count": 11,
     "data": {
      "text/plain": "0         1\n1         1\n2         1\n3         1\n4         1\n         ..\n189739    2\n189740    2\n189741    2\n189742    2\n189743    2\nName: version, Length: 189744, dtype: int64"
     },
     "metadata": {}
    }
   ]
  },
  {
   "cell_type": "markdown",
   "source": "<a style='text-decoration:none;line-height:16px;display:flex;color:#5B5B62;padding:10px;justify-content:end;' href='https://deepnote.com?utm_source=created-in-deepnote-cell&projectId=c0e62a2c-7f45-414e-8164-5bf51e09d482' target=\"_blank\">\n<img alt='Created in deepnote.com' style='display:inline;max-height:16px;margin:0px;margin-right:7.5px;' src='data:image/svg+xml;base64,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' > </img>\nCreated in <span style='font-weight:600;margin-left:4px;'>Deepnote</span></a>",
   "metadata": {
    "tags": [],
    "created_in_deepnote_cell": true,
    "deepnote_cell_type": "markdown"
   }
  }
 ],
 "nbformat": 4,
 "nbformat_minor": 2,
 "metadata": {
  "orig_nbformat": 2,
  "deepnote": {
   "is_reactive": false
  },
  "deepnote_notebook_id": "5abbe80f-41fd-43c9-b6af-e4d95ecd5d62",
  "deepnote_execution_queue": []
 }
}