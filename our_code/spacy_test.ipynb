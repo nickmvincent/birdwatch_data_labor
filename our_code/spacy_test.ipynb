{
 "cells": [
  {
   "cell_type": "code",
   "metadata": {
    "tags": [],
    "cell_id": "69c78cca-7d9c-4da2-911b-4acd5c466e58",
    "deepnote_to_be_reexecuted": false,
    "source_hash": "ed37a529",
    "execution_start": 1646844433903,
    "execution_millis": 1348,
    "deepnote_cell_type": "code",
    "deepnote_cell_height": 99
   },
   "source": "import spacy\nnlp = spacy.load(\"en_core_web_sm\")",
   "execution_count": null,
   "outputs": []
  },
  {
   "cell_type": "code",
   "metadata": {
    "cell_id": "45bd9e84-1b66-44c4-8224-e2aa34aff51c",
    "tags": [],
    "deepnote_to_be_reexecuted": false,
    "source_hash": "9ea6679f",
    "execution_start": 1646844805287,
    "execution_millis": 0,
    "deepnote_cell_type": "code",
    "deepnote_cell_height": 81
   },
   "source": "posts = [\"I am quite hungry today\", \"He was cold\"]",
   "execution_count": null,
   "outputs": []
  },
  {
   "cell_type": "code",
   "metadata": {
    "cell_id": "eb3c845f-636f-4797-85a0-0e0ae76592d7",
    "tags": [],
    "deepnote_to_be_reexecuted": false,
    "source_hash": "e1e613b0",
    "execution_start": 1646844502945,
    "execution_millis": 2,
    "deepnote_cell_type": "code",
    "deepnote_cell_height": 81,
    "deepnote_output_heights": [
     21
    ]
   },
   "source": "docs = nlp.pipe(posts)",
   "execution_count": null,
   "outputs": []
  },
  {
   "cell_type": "code",
   "metadata": {
    "cell_id": "21255c42-f69e-4e40-bd06-28ff2a1d6aac",
    "tags": [],
    "deepnote_to_be_reexecuted": false,
    "source_hash": "2aca9739",
    "execution_start": 1646844511225,
    "execution_millis": 94,
    "deepnote_cell_type": "code",
    "deepnote_cell_height": 708,
    "deepnote_output_heights": [
     611
    ]
   },
   "source": "[x.vector for x in docs]",
   "execution_count": null,
   "outputs": [
    {
     "output_type": "execute_result",
     "execution_count": 8,
     "data": {
      "text/plain": "[array([-0.2248867 , -0.06580822, -0.32730067, -0.11719434,  0.5553546 ,\n         0.20754889, -0.5513443 , -0.13028716,  0.20155302, -0.78067607,\n        -0.44311547, -0.2598716 ,  0.04305595, -0.30941218,  0.6129429 ,\n        -0.72196805,  0.14244063, -0.04614295, -0.6242477 ,  0.05701043,\n         0.46753484, -0.34523264, -0.3909025 ,  0.3554648 , -0.5992044 ,\n        -0.25333327, -0.49056458,  0.12729844, -0.15364322,  0.1230242 ,\n         0.2427983 , -0.61136544,  0.39332995, -0.0671669 ,  0.6718082 ,\n        -0.9119667 ,  0.3423599 , -0.49720135,  0.2974032 ,  0.20153555,\n        -0.5529611 , -0.27202666,  0.3141654 ,  0.34475535,  0.7162162 ,\n        -0.07140958,  0.53247964, -0.2629053 ,  0.01585202, -0.03868135,\n         0.42212373,  0.01649043,  0.57065105, -0.08095895,  0.6807825 ,\n        -0.1151292 ,  0.11019228,  0.43245673,  0.16120909, -0.38805738,\n        -0.14828762, -0.00123932,  0.1611633 ,  0.5298959 ,  0.37522393,\n        -0.72200656,  0.22248873, -1.111399  , -0.01030318, -0.35867494,\n         0.4082923 , -0.10706525,  0.0551476 ,  0.19135137,  1.018055  ,\n        -0.14099257, -0.3901477 ,  0.1923157 ,  0.13322127,  0.17549375,\n         0.21038139, -0.21421191, -0.32178554,  0.8651762 , -0.09259058,\n        -0.5153117 , -0.12447344, -0.3703387 , -0.59800804,  0.64749634,\n         0.31547457,  0.13413441, -0.0396377 ,  0.3609172 ,  0.3217593 ,\n         0.3510941 ], dtype=float32),\n array([-4.68444318e-01,  4.28318113e-01, -7.18368828e-01,  1.34229958e-02,\n         6.03923023e-01,  6.36402309e-01, -6.30751371e-01,  5.83649158e-01,\n        -1.96982622e-01, -6.85107529e-01, -3.29595834e-01, -2.37021446e-01,\n        -9.83861312e-02, -5.53301275e-02,  3.28789622e-01, -9.51313019e-01,\n        -7.34905675e-02, -1.10345401e-01, -1.99465886e-01, -2.49441221e-01,\n        -3.29069085e-02,  1.88189551e-01, -1.23925410e-01,  5.28719008e-01,\n        -1.20103085e+00, -6.30901098e-01, -5.19831956e-04,  4.65848416e-01,\n         6.58223808e-01, -5.05078077e-01,  1.13978267e-01, -8.45942795e-01,\n        -1.03829384e-01,  5.65492392e-01, -7.97191799e-01, -5.01665831e-01,\n        -4.61192220e-01,  3.47316027e-01,  3.16314012e-01,  6.64833700e-03,\n        -6.95087910e-01, -4.53763872e-01,  2.11225018e-01, -1.40081286e-01,\n         5.59979856e-01, -3.04580182e-01, -1.92581579e-01,  1.47399858e-01,\n        -2.94796735e-01,  1.33496523e-02, -1.20739184e-01,  3.50383431e-01,\n         5.31400621e-01,  1.57000750e-01,  4.50788170e-01,  6.39851093e-01,\n         3.32362205e-01,  6.46641970e-01, -1.87149629e-01, -7.30339050e-01,\n         1.99008390e-01,  4.67417151e-01,  3.31045240e-01, -5.07330775e-01,\n         9.12392512e-02,  8.97046700e-02,  4.80980486e-01, -7.73502409e-01,\n         1.73892036e-01, -3.77702624e-01,  7.38773286e-01,  3.20943326e-01,\n        -3.17083269e-01,  3.42079878e-01,  2.83317864e-01, -4.64326382e-01,\n        -6.16317093e-01,  3.74622345e-02,  1.18581331e+00, -2.77245790e-01,\n         4.80467916e-01,  4.40418832e-02, -2.05445409e-01,  7.55495071e-01,\n        -1.11835159e-01, -3.22426647e-01, -4.73793834e-01, -3.67333323e-01,\n        -5.79010069e-01,  6.32069767e-01,  2.82341629e-01,  5.77655017e-01,\n        -3.12023550e-01,  1.11071609e-01,  1.53048471e-01, -2.55813688e-01],\n       dtype=float32)]"
     },
     "metadata": {}
    }
   ]
  },
  {
   "cell_type": "code",
   "metadata": {
    "cell_id": "f7216d72-6423-48e2-a830-5f9fb4c029ab",
    "tags": [],
    "deepnote_cell_type": "code",
    "deepnote_cell_height": 66
   },
   "source": "",
   "execution_count": null,
   "outputs": []
  },
  {
   "cell_type": "code",
   "metadata": {
    "cell_id": "c2cb949e-87a6-4e47-afaf-197e3544c8e1",
    "tags": [],
    "deepnote_to_be_reexecuted": false,
    "source_hash": "a1870f95",
    "execution_start": 1646844771482,
    "execution_millis": 2093,
    "deepnote_cell_type": "code",
    "deepnote_cell_height": 81
   },
   "source": "nlp2 = spacy.load(\"en_core_web_md\")",
   "execution_count": null,
   "outputs": []
  },
  {
   "cell_type": "code",
   "metadata": {
    "cell_id": "f3240f86-6ff9-49d3-864c-4dc02cdae38f",
    "tags": [],
    "deepnote_to_be_reexecuted": false,
    "source_hash": "239e6f0b",
    "execution_start": 1646844844126,
    "execution_millis": 1,
    "deepnote_cell_type": "code",
    "deepnote_cell_height": 81
   },
   "source": "docs2 = nlp2.pipe(posts)",
   "execution_count": null,
   "outputs": []
  },
  {
   "cell_type": "code",
   "metadata": {
    "cell_id": "e86fb1d9-8c15-43b7-9ab8-5b40bb6303ba",
    "tags": [],
    "deepnote_to_be_reexecuted": false,
    "source_hash": "42be65f",
    "execution_start": 1646844848113,
    "execution_millis": 35,
    "deepnote_cell_type": "code",
    "deepnote_cell_height": 118,
    "deepnote_output_heights": [
     21
    ]
   },
   "source": "[x.vector.shape for x in docs2]",
   "execution_count": null,
   "outputs": [
    {
     "output_type": "execute_result",
     "execution_count": 20,
     "data": {
      "text/plain": "[(300,), (300,)]"
     },
     "metadata": {}
    }
   ]
  },
  {
   "cell_type": "code",
   "metadata": {
    "cell_id": "22fd3a59-70ba-4e9b-aecf-5c6f1c38de9a",
    "tags": [],
    "deepnote_to_be_reexecuted": false,
    "source_hash": "2d31fb44",
    "execution_start": 1646845546706,
    "execution_millis": 2074,
    "deepnote_cell_type": "code",
    "deepnote_cell_height": 117
   },
   "source": "import pickle\nwith open('../data/processed.pickle', 'rb') as handle:\n    dictionary = pickle.load(handle)",
   "execution_count": null,
   "outputs": []
  },
  {
   "cell_type": "code",
   "metadata": {
    "cell_id": "5164ee5f-9602-4582-968a-2a4cabbf6d40",
    "tags": [],
    "deepnote_to_be_reexecuted": false,
    "source_hash": "eea2dcfd",
    "execution_start": 1646845562092,
    "execution_millis": 2,
    "deepnote_cell_type": "code",
    "deepnote_cell_height": 99
   },
   "source": "tweets = dictionary['tweets 12/01/2021']\nnotes = dictionary['notes 12/01/2021']",
   "execution_count": null,
   "outputs": []
  },
  {
   "cell_type": "code",
   "metadata": {
    "cell_id": "f9924f0a-4b3d-4d8c-8ce3-2ec65b2dd249",
    "tags": [],
    "deepnote_to_be_reexecuted": false,
    "source_hash": "b6ec19fd",
    "execution_start": 1646845575180,
    "execution_millis": 489,
    "deepnote_cell_type": "code",
    "deepnote_cell_height": 118,
    "deepnote_output_heights": [
     21
    ]
   },
   "source": "dictionary.keys()",
   "execution_count": null,
   "outputs": [
    {
     "output_type": "execute_result",
     "execution_count": 25,
     "data": {
      "text/plain": "dict_keys(['notes 02/01/2021', 'tweets 02/01/2021', 'notes 03/01/2021', 'tweets 03/01/2021', 'notes 03/15/2021', 'tweets 03/15/2021', 'notes 04/01/2021', 'tweets 04/01/2021', 'notes 04/15/2021', 'tweets 04/15/2021', 'notes 05/01/2021', 'tweets 05/01/2021', 'notes 05/15/2021', 'tweets 05/15/2021', 'notes 06/01/2021', 'tweets 06/01/2021', 'notes 06/15/2021', 'tweets 06/15/2021', 'notes 07/01/2021', 'tweets 07/01/2021', 'notes 07/15/2021', 'tweets 07/15/2021', 'notes 08/01/2021', 'tweets 08/01/2021', 'notes 08/15/2021', 'tweets 08/15/2021', 'notes 09/01/2021', 'tweets 09/01/2021', 'notes 09/15/2021', 'tweets 09/15/2021', 'notes 10/01/2021', 'tweets 10/01/2021', 'notes 10/15/2021', 'tweets 10/15/2021', 'notes 11/01/2021', 'tweets 11/01/2021', 'notes 11/15/2021', 'tweets 11/15/2021', 'notes 12/01/2021', 'tweets 12/01/2021', 'notes 12/15/2021', 'tweets 12/15/2021', 'notes 01/01/2022', 'tweets 01/01/2022', 'notes 01/15/2022', 'tweets 01/15/2022', 'notes 02/01/2022', 'tweets 02/01/2022', 'notes 02/15/2022', 'tweets 02/15/2022'])"
     },
     "metadata": {}
    }
   ]
  },
  {
   "cell_type": "code",
   "metadata": {
    "cell_id": "f80125b5-01d3-4b34-b29f-d197f0c3cdc1",
    "tags": [],
    "deepnote_to_be_reexecuted": false,
    "source_hash": "f91b7ad2",
    "execution_start": 1646846074627,
    "execution_millis": 1,
    "deepnote_cell_type": "code",
    "deepnote_cell_height": 81,
    "deepnote_output_heights": [
     252
    ]
   },
   "source": "link_rows = notes.links[[len(x) != 0 for x in notes.links]]",
   "execution_count": null,
   "outputs": []
  },
  {
   "cell_type": "code",
   "metadata": {
    "cell_id": "1c609835-80de-46bf-bb9a-ca7e91253716",
    "tags": [],
    "deepnote_to_be_reexecuted": false,
    "source_hash": "315be94d",
    "execution_start": 1646846078127,
    "execution_millis": 4,
    "deepnote_cell_type": "code",
    "deepnote_cell_height": 349,
    "deepnote_output_heights": [
     252
    ]
   },
   "source": "link_rows",
   "execution_count": null,
   "outputs": [
    {
     "output_type": "execute_result",
     "execution_count": 41,
     "data": {
      "text/plain": "noteId\n1354870745806086150    [https://twitter.com/search?q=i%27m%20starting...\n1355716996760023041    [https://acleddata.com/2020/09/03/demonstratio...\n1355989178622816256    [https://www.washingtonpost.com/politics/2020/...\n1356735932087611399    [https://www.usatoday.com/story/news/factcheck...\n1356747779113177095    [https://www.snopes.com/fact-check/trump-mob-c...\n                                             ...                        \n1441550385357811719     [https://www.bbc.com/news/world-europe-58659627]\n1441551497670524933    [https://www.wilsoncenter.org/article/who-are-...\n1441627211849613315    [https://www.reuters.com/world/us/arizona-repu...\n1442034001456230405    [https://www.cdc.gov/coronavirus/2019-ncov/vac...\n1436173412213268480    [https://mershoncenter.osu.edu/news/what-cause...\nName: links, Length: 14391, dtype: object"
     },
     "metadata": {}
    }
   ]
  },
  {
   "cell_type": "code",
   "metadata": {
    "cell_id": "64d41a41-829f-422e-ae29-0b4c85f5b60e",
    "tags": [],
    "deepnote_to_be_reexecuted": false,
    "source_hash": "bd261f99",
    "execution_start": 1646846094631,
    "execution_millis": 0,
    "deepnote_cell_type": "code",
    "deepnote_cell_height": 81
   },
   "source": "from urllib.parse import urlparse",
   "execution_count": null,
   "outputs": []
  },
  {
   "cell_type": "code",
   "metadata": {
    "cell_id": "feb4d7c5-8f8e-47c5-b1c5-d286d4123697",
    "tags": [],
    "deepnote_to_be_reexecuted": false,
    "source_hash": "712dbe78",
    "execution_start": 1646846100525,
    "execution_millis": 352,
    "deepnote_cell_type": "code",
    "deepnote_cell_height": 153
   },
   "source": "all_domains = []\nfor links in link_rows:\n    for link in links:\n        domain = urlparse(link).netloc\n        all_links.append(domain)",
   "execution_count": null,
   "outputs": []
  },
  {
   "cell_type": "code",
   "metadata": {
    "cell_id": "d925fe5a-1159-477d-a343-d147774a3221",
    "tags": [],
    "deepnote_to_be_reexecuted": false,
    "source_hash": "47ae7071",
    "execution_start": 1646846112564,
    "execution_millis": 62,
    "deepnote_cell_type": "code",
    "deepnote_cell_height": 520,
    "deepnote_output_heights": [
     405
    ]
   },
   "source": "import pandas as pd\npd.Series(all_links).value_counts()[:20]",
   "execution_count": null,
   "outputs": [
    {
     "output_type": "execute_result",
     "execution_count": 45,
     "data": {
      "text/plain": "t.co                      10414\ntwitter.com                1033\nwww.politifact.com          921\nwww.usgs.gov                856\nwww.cdc.gov                 682\nwww.reuters.com             483\nen.wikipedia.org            469\napnews.com                  451\nwww.nytimes.com             399\nwww.washingtonpost.com      356\nwww.google.com              313\nwww.usatoday.com            313\nwww.mayoclinic.org          312\nwww.npr.org                 295\nwww.cnn.com                 245\nen.m.wikipedia.org          235\nwww.snopes.com              221\nwww.factcheck.org           220\nwww.fda.gov                 195\nwww.forbes.com              189\ndtype: int64"
     },
     "metadata": {}
    }
   ]
  },
  {
   "cell_type": "code",
   "metadata": {
    "cell_id": "0aab46cc-60b4-4271-aef2-821781011261",
    "tags": [],
    "deepnote_to_be_reexecuted": false,
    "source_hash": "8c65a382",
    "execution_start": 1646846137085,
    "execution_millis": 14,
    "deepnote_cell_type": "code",
    "deepnote_cell_height": 118,
    "deepnote_output_heights": [
     21
    ]
   },
   "source": "len(pd.Series(all_links).value_counts())",
   "execution_count": null,
   "outputs": [
    {
     "output_type": "execute_result",
     "execution_count": 46,
     "data": {
      "text/plain": "2614"
     },
     "metadata": {}
    }
   ]
  },
  {
   "cell_type": "code",
   "metadata": {
    "cell_id": "4e0b7455-584a-4176-be27-5fa7e095042a",
    "tags": [],
    "deepnote_cell_type": "code",
    "deepnote_cell_height": 66
   },
   "source": "",
   "execution_count": null,
   "outputs": []
  },
  {
   "cell_type": "markdown",
   "source": "<a style='text-decoration:none;line-height:16px;display:flex;color:#5B5B62;padding:10px;justify-content:end;' href='https://deepnote.com?utm_source=created-in-deepnote-cell&projectId=c0e62a2c-7f45-414e-8164-5bf51e09d482' target=\"_blank\">\n<img alt='Created in deepnote.com' style='display:inline;max-height:16px;margin:0px;margin-right:7.5px;' src='data:image/svg+xml;base64,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' > </img>\nCreated in <span style='font-weight:600;margin-left:4px;'>Deepnote</span></a>",
   "metadata": {
    "tags": [],
    "created_in_deepnote_cell": true,
    "deepnote_cell_type": "markdown"
   }
  }
 ],
 "nbformat": 4,
 "nbformat_minor": 2,
 "metadata": {
  "orig_nbformat": 2,
  "deepnote": {
   "is_reactive": false
  },
  "deepnote_notebook_id": "1e30892f-4c1d-42b0-b591-a183fb4a7445",
  "deepnote_execution_queue": []
 }
}