{
 "cells": [
  {
   "cell_type": "markdown",
   "source": "## Tweet Scraper",
   "metadata": {
    "tags": [],
    "cell_id": "00000-e5e699ef-e44c-401c-af26-08c245ae5538",
    "is_collapsed": false,
    "deepnote_cell_type": "text-cell-h2"
   }
  },
  {
   "cell_type": "code",
   "metadata": {
    "tags": [],
    "cell_id": "00000-a8302323-1233-4f3f-b802-1fdd854a5516",
    "deepnote_to_be_reexecuted": false,
    "source_hash": "901fe483",
    "execution_start": 1645481055784,
    "execution_millis": 532,
    "deepnote_cell_type": "code"
   },
   "source": "from typing import NamedTuple\nimport tweepy as tw\nimport os\nimport pandas as pd\n\nauth = tw.OAuthHandler(os.environ[\"TWITTERAPIKEY\"], os.environ[\"TWITTERAPISECRET\"])\nauth.set_access_token(os.environ[\"ACCESSTOKEN\"], os.environ[\"ACCESSTOKENSECRET\"])\n\napi = tw.API(auth, wait_on_rate_limit=True) \n\nnotes = pd.read_csv('../data/notes-2022-02-21.tsv', sep=\"\\t\")\n\nseen_tweets = pd.read_csv('../data/noted-tweets.csv', sep=\",\")",
   "execution_count": null,
   "outputs": []
  },
  {
   "cell_type": "code",
   "metadata": {
    "tags": [],
    "cell_id": "00001-2a46a2ce-6643-4f21-976c-28d84d0ee594",
    "deepnote_to_be_reexecuted": false,
    "source_hash": "5762c9ab",
    "execution_start": 1645481056344,
    "execution_millis": 103,
    "deepnote_cell_type": "code",
    "deepnote_output_heights": [
     21.1875
    ]
   },
   "source": "len(seen_tweets)",
   "execution_count": null,
   "outputs": [
    {
     "output_type": "execute_result",
     "execution_count": 2,
     "data": {
      "text/plain": "16657"
     },
     "metadata": {}
    }
   ]
  },
  {
   "cell_type": "code",
   "metadata": {
    "tags": [],
    "cell_id": "00000-5fca53f9-213e-4a34-9aa1-53b034dac1b8",
    "deepnote_to_be_reexecuted": false,
    "source_hash": "576fec6a",
    "execution_start": 1645481056373,
    "execution_millis": 8,
    "deepnote_cell_type": "code"
   },
   "source": "class Tweet(NamedTuple):\n    id: str\n    username: str\n    text: str\n    time: str\n    link: str\n\ndef getTweet(id):\n    try:\n        tweet = api.get_status(id, tweet_mode=\"extended\")\n        username = tweet.user.screen_name\n        link = \"https://twitter.com/\" + username + \"/status/\" + tweet.id_str\n        output = [tweet.id_str, username, tweet.user.id, tweet.full_text.replace('\\n', ' ').replace('\\t', ''), tweet.created_at, link]\n    except tw.TooManyRequests:\n        time.sleep(15 * 60)\n    except Exception as e:\n        print(\"error: \", e, \" \" + str(id))\n        output = [id, None, None, None, None, None]\n\n    return output\n\n\ndef getTweets(df, batch_size = 100):\n    arr = []   \n    for id in notes[(~notes.tweetId.isin(seen_tweets.tweetId))].tweetId.unique():\n        tweet = getTweet(id)\n        arr.append(tweet)\n        print(len(arr))\n        if len(arr) == batch_size:\n            output = pd.DataFrame(arr, columns=[\"tweetId\", \"username\", \"userId\", \"text\", \"time\", \"link\"])\n            output.to_csv('../data/noted-tweets.csv', mode='a', header=False)\n            arr = []\n    output = pd.DataFrame(arr, columns=[\"tweetId\", \"username\", \"userId\", \"text\", \"time\", \"link\"])\n    # output.to_csv('noted-tweets.csv')\n    output.to_csv('../data/noted-tweets.csv', mode='a', header=False)",
   "execution_count": null,
   "outputs": []
  },
  {
   "cell_type": "code",
   "metadata": {
    "tags": [],
    "cell_id": "00004-95d911f4-ae45-4a0a-b190-936e5e871b02",
    "deepnote_to_be_reexecuted": false,
    "source_hash": "a8954893",
    "execution_start": 1645481056396,
    "execution_millis": 56,
    "deepnote_cell_type": "code",
    "deepnote_output_heights": [
     21.1875
    ]
   },
   "source": "len(notes.tweetId.unique())",
   "execution_count": null,
   "outputs": [
    {
     "output_type": "execute_result",
     "execution_count": 4,
     "data": {
      "text/plain": "19429"
     },
     "metadata": {}
    }
   ]
  },
  {
   "cell_type": "code",
   "metadata": {
    "cell_id": "2515718b-68c9-48e9-ab8d-45d4f497ad99",
    "tags": [],
    "deepnote_to_be_reexecuted": false,
    "source_hash": "5762c9ab",
    "execution_start": 1645481056456,
    "execution_millis": 6,
    "deepnote_cell_type": "code",
    "deepnote_output_heights": [
     21.1875
    ]
   },
   "source": "len(seen_tweets)",
   "execution_count": null,
   "outputs": [
    {
     "output_type": "execute_result",
     "execution_count": 5,
     "data": {
      "text/plain": "16657"
     },
     "metadata": {}
    }
   ]
  },
  {
   "cell_type": "code",
   "metadata": {
    "cell_id": "132b7372-b18e-44db-8f7d-275d29d452cd",
    "tags": [],
    "deepnote_to_be_reexecuted": false,
    "source_hash": "542293e",
    "execution_start": 1645481056457,
    "execution_millis": 5,
    "deepnote_cell_type": "code",
    "deepnote_output_heights": [
     21.1875
    ]
   },
   "source": "len(notes[(~notes.tweetId.isin(seen_tweets.tweetId))].tweetId.unique())",
   "execution_count": null,
   "outputs": [
    {
     "output_type": "execute_result",
     "execution_count": 6,
     "data": {
      "text/plain": "2846"
     },
     "metadata": {}
    }
   ]
  },
  {
   "cell_type": "code",
   "metadata": {
    "tags": [],
    "cell_id": "00003-dced9abc-5971-4c29-832f-1b6aecc323da",
    "deepnote_to_be_reexecuted": false,
    "source_hash": "f59787f0",
    "execution_start": 1645481056458,
    "execution_millis": 2721823,
    "deepnote_cell_type": "code",
    "deepnote_output_heights": [
     null,
     606.1875
    ]
   },
   "source": "getTweets(notes)",
   "execution_count": null,
   "outputs": [
    {
     "name": "stdout",
     "text": "error:  404 Not Found\n144 - No status found with that ID.  1469451310344851471\n23\n24\n25\n26\n27\n28\n29\n30\n31\n32\n33\n34\n35\n36\n37\n38\nerror:  404 Not Found\n144 - No status found with that ID.  1480647034281545732\n39\n40\n41\n42\n43\n44\n45\n46\n47\n48\n49\n50\n51\n52\n53\n54\n55\n56\n57\nerror:  404 Not Found\n144 - No status found with that ID.  1487842108597682177\n58\nerror:  404 Not Found\n144 - No status found with that ID.  1488109495440093188\n59\n60\n61\n62\n63\n64\n65\n66\n67\nerror:  403 Forbidden\n63 - User has been suspended.  1469677612486254594\n68\nerror:  403 Forbidden\n63 - User has been suspended.  1476561830025777158\n69\n70\n71\n72\n73\n74\n75\n76\n77\n78\n79\n80\n81\n82\n83\n84\nerror:  404 Not Found\n144 - No status found with that ID.  1484115134607814660\n85\n86\n87\n88\n89\nerror:  404 Not Found\n144 - No status found with that ID.  1476139220913819650\n90\n91\n92\n93\n94\n95\n96\n97\n98\n99\n100\nerror:  403 Forbidden\n63 - User has been suspended.  1479193998870777859\n1\n2\n3\nerror:  403 Forbidden\n63 - User has been suspended.  1470470435804532736\n4\n5\nerror:  403 Forbidden\n63 - User has been suspended.  1471835527540264964\n6\nerror:  403 Forbidden\n63 - User has been suspended.  1471835529570402312\n7\n8\n9\n10\n11\n12\n13\n14\nerror:  403 Forbidden\n63 - User has been suspended.  1481386270819557376\n15\n16\nerror:  403 Forbidden\n63 - User has been suspended.  1481130054029557760\n17\n18\n19\n20\n21\n22\n23\n24\n25\n26\n27\n28\n29\n30\n31\n32\n33\n34\n35\nerror:  404 Not Found\n144 - No status found with that ID.  1485647811685363713\n36\n37\n38\n39\n40\nerror:  404 Not Found\n144 - No status found with that ID.  1483008965499703299\n41\nerror:  404 Not Found\n144 - No status found with that ID.  1483010131394580481\n42\n43\nerror:  404 Not Found\n144 - No status found with that ID.  1482955332515074050\n44\n45\nerror:  404 Not Found\n144 - No status found with that ID.  1483259460160143361\n46\nerror:  404 Not Found\n144 - No status found with that ID.  1476722168104902656\n47\n48\n49\nerror:  404 Not Found\n144 - No status found with that ID.  1491809933217599493\n50\n51\n52\n53\n54\n55\n56\n57\n58\n59\n60\n61\n62\n63\n64\n65\n66\n67\n68\n69\n70\n71\n72\n73\nerror:  404 Not Found\n144 - No status found with that ID.  1476958867657568257\n74\n75\n76\nerror:  404 Not Found\n144 - No status found with that ID.  1475553356064202754\n77\n78\n79\n80\n81\n82\n83\n84\n85\n86\n87\n88\n89\n90\nerror:  403 Forbidden\n63 - User has been suspended.  1470563831420108804\n91\n92\n93\n94\n95\n96\n97\n98\n99\n100\n1\n2\n3\n4\n5\n6\n7\n8\n9\n10\n11\n12\n13\n14\n15\n16\n17\n18\n19\nerror:  404 Not Found\n144 - No status found with that ID.  1481675347405918209\n20\n21\n22\n23\n24\n25\n26\n27\n28\nerror:  403 Forbidden\n63 - User has been suspended.  1473881266286125057\n29\n30\n31\nerror:  403 Forbidden\n63 - User has been suspended.  1481692592387633153\n32\n33\n34\n35\n36\n37\n38\n39\n40\n41\n42\nerror:  404 Not Found\n144 - No status found with that ID.  1476902127356321801\n43\n44\n45\n46\n47\n48\n49\n50\n51\n52\n53\n54\nerror:  403 Forbidden\n63 - User has been suspended.  1484960758488207362\n55\n56\n57\n58\n59\n60\n61\n62\nerror:  404 Not Found\n144 - No status found with that ID.  1486710010918932480\n63\n64\n65\n66\n67\n68\n69\n70\n71\n72\n73\n74\n75\n76\n77\n78\n79\nerror:  403 Forbidden\n63 - User has been suspended.  1478381424000573450\n80\n81\nerror:  403 Forbidden\n63 - User has been suspended.  1478762668777517060\n82\n83\n84\n85\n86\n87\n88\n89\n90\n91\n92\n93\n94\n95\n96\n97\n98\nerror:  403 Forbidden\n63 - User has been suspended.  1476040405439422465\n99\n100\nerror:  404 Not Found\n144 - No status found with that ID.  1479878204630482958\n1\nerror:  404 Not Found\n144 - No status found with that ID.  1479839896609112064\n2\n3\nerror:  403 Forbidden\n63 - User has been suspended.  1482532874934968323\n4\n5\n6\n7\n8\n9\n10\n11\n12\n13\n14\n15\n16\n17\n18\n19\n20\n21\n22\n23\n24\n25\n26\n27\n28\n29\nerror:  404 Not Found\n144 - No status found with that ID.  1474064332900155402\n30\n31\n32\n33\n34\n35\n36\n37\n38\n39\n40\n41\n42\n43\n44\n45\n46\n47\n48\n49\nerror:  404 Not Found\n144 - No status found with that ID.  1492239202649583621\n50\n51\n52\n53\n54\n55\n56\n57\n58\n59\n60\n61\n62\n63\n64\nerror:  404 Not Found\n144 - No status found with that ID.  1484575671988932611\n65\n66\n67\n68\nerror:  404 Not Found\n144 - No status found with that ID.  1471570991155277824\n69\n70\n71\n72\n73\n74\n75\n76\n77\n78\n79\nerror:  403 Forbidden\n63 - User has been suspended.  1469378587178455043\n80\n81\n82\n83\n84\n85\n86\n87\n88\n89\n90\nerror:  404 Not Found\n144 - No status found with that ID.  1466841833326235666\n91\n92\n93\n94\nerror:  403 Forbidden\n63 - User has been suspended.  1470088960512778251\n95\n96\n97\n98\n99\n100\n1\n2\n3\n4\nerror:  403 Forbidden\n63 - User has been suspended.  1470541701097926657\n5\n6\nerror:  403 Forbidden\n63 - User has been suspended.  1469316776488017925\n7\n8\n9\n10\n11\nerror:  403 Forbidden\n63 - User has been suspended.  1470499860239507460\n12\n13\n14\n15\n16\nerror:  403 Forbidden\n63 - User has been suspended.  1470527349917724677\n17\n18\n19\n20\n21\n22\n23\n24\n25\n26\nerror:  403 Forbidden\n63 - User has been suspended.  1470934779247972360\n27\n28\n29\n30\n31\n32\n33\n34\n35\n36\n37\n38\n39\n40\n41\n42\n43\n44\n45\n46\n47\n48\n49\n50\n51\n52\n53\n54\n55\n56\n57\nerror:  403 Forbidden\n63 - User has been suspended.  1473024396415619073\n58\nerror:  403 Forbidden\n63 - User has been suspended.  1473366570210668554\n59\n60\nerror:  403 Forbidden\n63 - User has been suspended.  1473033495173734404\n61\n62\n63\n64\n65\nerror:  404 Not Found\n144 - No status found with that ID.  1473416336667820032\n66\n67\nerror:  404 Not Found\n144 - No status found with that ID.  1474098646383742979\n68\n69\n70\n71\n72\n73\n74\n75\n76\n77\n78\n79\n80\n81\n82\n83\n84\n85\n86\n87\n88\n89\n90\n91\nerror:  403 Forbidden\n63 - User has been suspended.  1475301216724922375\n92\nerror:  403 Forbidden\n63 - User has been suspended.  1475167351494496256\n93\n94\n95\n96\nerror:  404 Not Found\n144 - No status found with that ID.  1474894098830086147\n97\n98\n99\nerror:  403 Forbidden\n63 - User has been suspended.  1474913581988814851\n100\n1\n2\nerror:  404 Not Found\n144 - No status found with that ID.  1475570550751862786\n3\nerror:  404 Not Found\n144 - No status found with that ID.  1475538540951973893\n4\nerror:  404 Not Found\n144 - No status found with that ID.  1469808921485488129\n5\n6\n7\nerror:  403 Forbidden\n63 - User has been suspended.  1475249990297473024\n8\n9\n10\nerror:  404 Not Found\n144 - No status found with that ID.  1475539059032395780\n11\n12\n13\n14\n15\nerror:  403 Forbidden\n63 - User has been suspended.  1475663229074374656\n16\n17\n18\nerror:  403 Forbidden\n63 - User has been suspended.  1475509915607351300\n19\n20\n21\n22\n23\n24\nerror:  403 Forbidden\n63 - User has been suspended.  1476045195250737152\n25\nerror:  403 Forbidden\n63 - User has been suspended.  1475635150327193600\n26\n27\n28\n29\n30\nerror:  403 Forbidden\n63 - User has been suspended.  1475513375601963023\n31\n32\n33\nerror:  403 Forbidden\n63 - User has been suspended.  1476247651934896128\n34\n35\n36\n37\n38\n39\n40\nerror:  403 Forbidden\n63 - User has been suspended.  1474903801727524872\n41\nerror:  404 Not Found\n144 - No status found with that ID.  1474184938874408963\n42\n43\n44\n45\nerror:  403 Forbidden\n63 - User has been suspended.  1472926969465552907\n46\n47\n48\n49\n50\n51\nerror:  403 Forbidden\n63 - User has been suspended.  1476690321618657295\n52\nerror:  403 Forbidden\n63 - User has been suspended.  1476895243127644160\n53\n54\n55\n56\nerror:  403 Forbidden\n63 - User has been suspended.  1476315343106678785\n57\n58\n59\n60\nerror:  403 Forbidden\n63 - User has been suspended.  1476442605114302467\n61\n62\n63\n64\n65\n66\n67\n68\n69\n70\n71\n72\n73\n74\nerror:  403 Forbidden\n63 - User has been suspended.  1477320312538771461\n75\n76\n77\n78\n79\n80\nerror:  403 Forbidden\n63 - User has been suspended.  1476388771142803456\n81\n82\n83\n84\n85\n86\n87\n88\n89\n90\n91\n92\n93\n94\n95\n96\n97\n98\n99\n100\n1\n2\n3\n4\n5\n6\n7\nerror:  404 Not Found\n34 - Sorry, that page does not exist.  1478569233911058444\n8\n9\n10\n11\n12\n13\n14\n15\n16\n17\n18\n19\n20\n21\n22\n23\n24\n25\n26\n27\nerror:  403 Forbidden\n63 - User has been suspended.  1479466333838393344\n28\nerror:  403 Forbidden\n63 - User has been suspended.  1479837670406856704\n29\n30\n31\n32\n33\n34\n35\n36\n37\n38\n39\n40\n41\n42\n43\n44\n45\n46\n47\n48\n49\n50\n51\n52\n53\n54\n55\n56\n57\n58\n59\n60\n61\n62\n63\n64\n65\n66\n67\n68\n69\n70\n71\n72\n73\n74\n75\n76\n77\n78\n79\n80\n81\n82\n83\n84\n85\n86\n87\n88\nerror:  404 Not Found\n144 - No status found with that ID.  1482434197696311297\n89\n90\n91\n92\n93\n94\n95\n96\n97\n98\n99\n100\nRate limit reached. Sleeping for: 788\n1\n2\n3\n4\n5\n6\n7\n8\n9\n10\n11\n12\n13\n14\n15\n16\n17\n18\n19\n20\n21\n22\n23\n24\n25\n26\n27\n28\n29\n30\n31\n32\n33\n34\n35\n36\n37\n38\n39\n40\n41\n42\n43\n44\n45\n46\n47\n48\n49\n50\n51\n52\n53\n54\n55\n56\n57\nerror:  403 Forbidden\n63 - User has been suspended.  1488065905024192512\n58\n59\n60\n61\n62\n63\n64\n65\n66\n67\n68\nerror:  403 Forbidden\n63 - User has been suspended.  1487628841623298051\n69\n70\n71\n72\n73\n74\n75\n76\n77\n78\n79\n80\n81\n82\n83\n84\n85\n86\nerror:  403 Forbidden\n63 - User has been suspended.  1490034424271958020\n87\n88\n89\n90\n91\n92\n93\n94\n95\n96\n97\n98\n99\n100\n1\n2\n3\n4\n5\n6\n7\n8\n9\n10\n11\n12\n13\n14\n15\n16\n17\n18\n19\n20\n21\n22\n23\n24\n25\n26\n27\n28\n29\n30\nerror:  404 Not Found\n144 - No status found with that ID.  1474938979828973568\n31\n32\n33\nerror:  403 Forbidden\n63 - User has been suspended.  1481856765851492353\n34\nerror:  404 Not Found\n144 - No status found with that ID.  1481854353732513794\n35\n36\n37\n38\n39\n40\n41\n42\n43\n44\n45\n46\n",
     "output_type": "stream"
    }
   ]
  },
  {
   "cell_type": "code",
   "metadata": {
    "tags": [],
    "cell_id": "00009-b06316f4-d619-448a-beb6-62068163373a",
    "deepnote_to_be_reexecuted": false,
    "source_hash": "67629c9",
    "execution_start": 1645483778297,
    "execution_millis": 120,
    "deepnote_cell_type": "code",
    "deepnote_output_heights": [
     21.1875
    ]
   },
   "source": "\ncolumns=[\"tweetId\", \"username\", \"userId\", \"text\", \"time\", \"link\"]\nnoted_tweets = pd.read_csv('../data/noted-tweets.csv', sep=\",\")\nlen(noted_tweets)",
   "execution_count": null,
   "outputs": [
    {
     "output_type": "execute_result",
     "execution_count": 8,
     "data": {
      "text/plain": "19503"
     },
     "metadata": {}
    }
   ]
  },
  {
   "cell_type": "code",
   "metadata": {
    "cell_id": "e81bd546-9f4b-4a52-b150-1f4f472c373c",
    "tags": [],
    "deepnote_to_be_reexecuted": false,
    "source_hash": "78389edd",
    "execution_start": 1645483778428,
    "execution_millis": 127,
    "deepnote_cell_type": "code",
    "deepnote_output_heights": [
     21.1875
    ]
   },
   "source": "noted_tweets",
   "execution_count": null,
   "outputs": [
    {
     "output_type": "execute_result",
     "execution_count": 9,
     "data": {
      "application/vnd.deepnote.dataframe.v3+json": {
       "column_count": 7,
       "row_count": 19503,
       "columns": [
        {
         "name": "Unnamed: 0",
         "dtype": "int64",
         "stats": {
          "unique_count": 14260,
          "nan_count": 0,
          "min": "0",
          "max": "14580",
          "histogram": [
           {
            "bin_start": 0,
            "bin_end": 1458,
            "count": 6696
           },
           {
            "bin_start": 1458,
            "bin_end": 2916,
            "count": 1437
           },
           {
            "bin_start": 2916,
            "bin_end": 4374,
            "count": 1343
           },
           {
            "bin_start": 4374,
            "bin_end": 5832,
            "count": 1354
           },
           {
            "bin_start": 5832,
            "bin_end": 7290,
            "count": 1424
           },
           {
            "bin_start": 7290,
            "bin_end": 8748,
            "count": 1452
           },
           {
            "bin_start": 8748,
            "bin_end": 10206,
            "count": 1449
           },
           {
            "bin_start": 10206,
            "bin_end": 11664,
            "count": 1453
           },
           {
            "bin_start": 11664,
            "bin_end": 13122,
            "count": 1436
           },
           {
            "bin_start": 13122,
            "bin_end": 14580,
            "count": 1459
           }
          ]
         }
        },
        {
         "name": "tweetId",
         "dtype": "int64",
         "stats": {
          "unique_count": 19503,
          "nan_count": 0,
          "min": "690",
          "max": "1493715081875628040",
          "histogram": [
           {
            "bin_start": 690,
            "bin_end": 149371508187563420,
            "count": 4
           },
           {
            "bin_start": 149371508187563420,
            "bin_end": 298743016375126140,
            "count": 0
           },
           {
            "bin_start": 298743016375126140,
            "bin_end": 448114524562688830,
            "count": 2
           },
           {
            "bin_start": 448114524562688830,
            "bin_end": 597486032750251500,
            "count": 0
           },
           {
            "bin_start": 597486032750251500,
            "bin_end": 746857540937814300,
            "count": 7
           },
           {
            "bin_start": 746857540937814300,
            "bin_end": 896229049125376900,
            "count": 11
           },
           {
            "bin_start": 896229049125376900,
            "bin_end": 1045600557312939600,
            "count": 8
           },
           {
            "bin_start": 1045600557312939600,
            "bin_end": 1194972065500502500,
            "count": 26
           },
           {
            "bin_start": 1194972065500502500,
            "bin_end": 1344343573688065300,
            "count": 121
           },
           {
            "bin_start": 1344343573688065300,
            "bin_end": 1493715081875628000,
            "count": 19324
           }
          ]
         }
        },
        {
         "name": "username",
         "dtype": "object",
         "stats": {
          "unique_count": 8099,
          "nan_count": 2299,
          "categories": [
           {
            "name": "birdwatch",
            "count": 824
           },
           {
            "name": "8098 others",
            "count": 16380
           },
           {
            "name": "Missing",
            "count": 2299
           }
          ]
         }
        },
        {
         "name": "userId",
         "dtype": "float64",
         "stats": {
          "unique_count": 8092,
          "nan_count": 2299,
          "min": "12.0",
          "max": "1.489189886670381e+18",
          "histogram": [
           {
            "bin_start": 12,
            "bin_end": 148918988667038100,
            "count": 10998
           },
           {
            "bin_start": 148918988667038100,
            "bin_end": 297837977334076200,
            "count": 0
           },
           {
            "bin_start": 297837977334076200,
            "bin_end": 446756966001114400,
            "count": 0
           },
           {
            "bin_start": 446756966001114400,
            "bin_end": 595675954668152400,
            "count": 0
           },
           {
            "bin_start": 595675954668152400,
            "bin_end": 744594943335190500,
            "count": 185
           },
           {
            "bin_start": 744594943335190500,
            "bin_end": 893513932002228700,
            "count": 1122
           },
           {
            "bin_start": 893513932002228700,
            "bin_end": 1042432920669266800,
            "count": 609
           },
           {
            "bin_start": 1042432920669266800,
            "bin_end": 1191351909336305000,
            "count": 832
           },
           {
            "bin_start": 1191351909336305000,
            "bin_end": 1340270898003343000,
            "count": 2200
           },
           {
            "bin_start": 1340270898003343000,
            "bin_end": 1489189886670381000,
            "count": 1258
           }
          ]
         }
        },
        {
         "name": "text",
         "dtype": "object",
         "stats": {
          "unique_count": 16510,
          "nan_count": 2299,
          "categories": [
           {
            "name": "If you want to add helpful context to any Tweet that might be misleading, open the ••• menu and then hit \"Contribute to Birdwatch\". Try it on this Tweet! https://t.co/fk57uFse7E",
            "count": 652
           },
           {
            "name": "16509 others",
            "count": 16552
           },
           {
            "name": "Missing",
            "count": 2299
           }
          ]
         }
        },
        {
         "name": "time",
         "dtype": "object"
        },
        {
         "name": "link",
         "dtype": "object"
        },
        {
         "name": "_deepnote_index_column",
         "dtype": "int64"
        }
       ],
       "rows": [
        {
         "Unnamed: 0": 0,
         "tweetId": 1353031711349739500,
         "username": "nan",
         "userId": "nan",
         "text": "nan",
         "time": "nan",
         "link": "nan",
         "_deepnote_index_column": 0
        },
        {
         "Unnamed: 0": 1,
         "tweetId": 1355643797280084000,
         "username": "rjnln02",
         "userId": 1629330452,
         "text": "@AF632 @alwsbord1 Black Lives Matter is a racist, domestic terror organization and should be dealt …",
         "time": "2021-01-30 22:27:22",
         "link": "https://twitter.com/rjnln02/status/1355643797280083973",
         "_deepnote_index_column": 1
        },
        {
         "Unnamed: 0": 2,
         "tweetId": 1355529775197130800,
         "username": "luscsmoothie",
         "userId": 307579230,
         "text": "@nobelprize To remind u what BLM did. Disqualify! RT @NextLAMayor: #BlackLivesMatter movement nomin…",
         "time": "2021-01-30 14:54:17",
         "link": "https://twitter.com/luscsmoothie/status/1355529775197130753",
         "_deepnote_index_column": 2
        },
        {
         "Unnamed: 0": 3,
         "tweetId": 1352754599590035500,
         "username": "DonaldJTrumpJr",
         "userId": 39344374,
         "text": "Donald Trump is the first president in modern history did not start a new war.",
         "time": "2021-01-22 23:06:44",
         "link": "https://twitter.com/DonaldJTrumpJr/status/1352754599590035459",
         "_deepnote_index_column": 3
        },
        {
         "Unnamed: 0": 4,
         "tweetId": 1356441140959064000,
         "username": "FionaRamshackle",
         "userId": 866404250431230000,
         "text": "@dcexaminer Go get those Antifa bastards! And the random anarchists. And the Boogaloo Boys. And the…",
         "time": "2021-02-02 03:15:44",
         "link": "https://twitter.com/FionaRamshackle/status/1356441140959064064",
         "_deepnote_index_column": 4
        },
        {
         "Unnamed: 0": 5,
         "tweetId": 1361810447431827500,
         "username": "DanCrenshawTX",
         "userId": 930552552302792800,
         "text": "This raises the obvious question: can we ever rely on renewables to power the grid during extreme w…",
         "time": "2021-02-16 22:51:26",
         "link": "https://twitter.com/DanCrenshawTX/status/1361810447431827459",
         "_deepnote_index_column": 5
        },
        {
         "Unnamed: 0": 6,
         "tweetId": 1380905193781387300,
         "username": "WeirdHistoryPlX",
         "userId": 1331858749275910000,
         "text": "Prince Philip pranking The Queen by dressing as a Palace Guard. https://t.co/ub8xtOnlkG",
         "time": "2021-04-10 15:27:08",
         "link": "https://twitter.com/WeirdHistoryPlX/status/1380905193781387264",
         "_deepnote_index_column": 6
        },
        {
         "Unnamed: 0": 7,
         "tweetId": 1354865702889533400,
         "username": "CawthornforNC",
         "userId": 1207874097251639300,
         "text": "First they came for our Free Speech, then they came for our Free Markets, next they’ll come for our…",
         "time": "2021-01-28 18:55:30",
         "link": "https://twitter.com/CawthornforNC/status/1354865702889533442",
         "_deepnote_index_column": 7
        },
        {
         "Unnamed: 0": 8,
         "tweetId": 1354905286264430600,
         "username": "nan",
         "userId": "nan",
         "text": "nan",
         "time": "nan",
         "link": "nan",
         "_deepnote_index_column": 8
        },
        {
         "Unnamed: 0": 9,
         "tweetId": 1362511518055694300,
         "username": "mikepompeo",
         "userId": 1163992520252154000,
         "text": "Ben Rhodes told @J_Insider that @netanyahu — and all Jews — are “corrupt and cruel.” While this vie…",
         "time": "2021-02-18 21:17:14",
         "link": "https://twitter.com/mikepompeo/status/1362511518055694345",
         "_deepnote_index_column": 9
        }
       ]
      },
      "text/plain": "       Unnamed: 0              tweetId         username        userId  \\\n0               0  1353031711349739523              NaN           NaN   \n1               1  1355643797280083973          rjnln02  1.629330e+09   \n2               2  1355529775197130753     luscsmoothie  3.075792e+08   \n3               3  1352754599590035459   DonaldJTrumpJr  3.934437e+07   \n4               4  1356441140959064064  FionaRamshackle  8.664043e+17   \n...           ...                  ...              ...           ...   \n19498          41  1480912946364653568  TaylorPopielarz  8.590164e+08   \n19499          42  1480897040951484418           ddale8  2.252656e+08   \n19500          43  1480709905405427712  JamesSurowiecki  1.219580e+09   \n19501          44  1480890505156337666     brianstelter  1.451580e+07   \n19502          45  1476000150162186243     RealCandaceO  8.782476e+17   \n\n                                                    text  \\\n0                                                    NaN   \n1      @AF632 @alwsbord1 Black Lives Matter is a raci...   \n2      @nobelprize To remind u what BLM did. Disquali...   \n3      Donald Trump is the first president in modern ...   \n4      @dcexaminer Go get those Antifa bastards! And ...   \n...                                                  ...   \n19498  If you’ve seen folks online declaring the CDC ...   \n19499  Top: Edited Walensky comments that aired on Go...   \n19500  Here is the unedited version of Rochelle Walen...   \n19501  Days and days of distortions, all based on a b...   \n19502  Any adult who encourages transgenderism in chi...   \n\n                            time  \\\n0                            NaN   \n1            2021-01-30 22:27:22   \n2            2021-01-30 14:54:17   \n3            2021-01-22 23:06:44   \n4            2021-02-02 03:15:44   \n...                          ...   \n19498  2022-01-11 14:42:15+00:00   \n19499  2022-01-11 13:39:02+00:00   \n19500  2022-01-11 01:15:26+00:00   \n19501  2022-01-11 13:13:04+00:00   \n19502  2021-12-29 01:20:33+00:00   \n\n                                                    link  \n0                                                    NaN  \n1      https://twitter.com/rjnln02/status/13556437972...  \n2      https://twitter.com/luscsmoothie/status/135552...  \n3      https://twitter.com/DonaldJTrumpJr/status/1352...  \n4      https://twitter.com/FionaRamshackle/status/135...  \n...                                                  ...  \n19498  https://twitter.com/TaylorPopielarz/status/148...  \n19499  https://twitter.com/ddale8/status/148089704095...  \n19500  https://twitter.com/JamesSurowiecki/status/148...  \n19501  https://twitter.com/brianstelter/status/148089...  \n19502  https://twitter.com/RealCandaceO/status/147600...  \n\n[19503 rows x 7 columns]",
      "text/html": "<div>\n<style scoped>\n    .dataframe tbody tr th:only-of-type {\n        vertical-align: middle;\n    }\n\n    .dataframe tbody tr th {\n        vertical-align: top;\n    }\n\n    .dataframe thead th {\n        text-align: right;\n    }\n</style>\n<table border=\"1\" class=\"dataframe\">\n  <thead>\n    <tr style=\"text-align: right;\">\n      <th></th>\n      <th>Unnamed: 0</th>\n      <th>tweetId</th>\n      <th>username</th>\n      <th>userId</th>\n      <th>text</th>\n      <th>time</th>\n      <th>link</th>\n    </tr>\n  </thead>\n  <tbody>\n    <tr>\n      <th>0</th>\n      <td>0</td>\n      <td>1353031711349739523</td>\n      <td>NaN</td>\n      <td>NaN</td>\n      <td>NaN</td>\n      <td>NaN</td>\n      <td>NaN</td>\n    </tr>\n    <tr>\n      <th>1</th>\n      <td>1</td>\n      <td>1355643797280083973</td>\n      <td>rjnln02</td>\n      <td>1.629330e+09</td>\n      <td>@AF632 @alwsbord1 Black Lives Matter is a raci...</td>\n      <td>2021-01-30 22:27:22</td>\n      <td>https://twitter.com/rjnln02/status/13556437972...</td>\n    </tr>\n    <tr>\n      <th>2</th>\n      <td>2</td>\n      <td>1355529775197130753</td>\n      <td>luscsmoothie</td>\n      <td>3.075792e+08</td>\n      <td>@nobelprize To remind u what BLM did. Disquali...</td>\n      <td>2021-01-30 14:54:17</td>\n      <td>https://twitter.com/luscsmoothie/status/135552...</td>\n    </tr>\n    <tr>\n      <th>3</th>\n      <td>3</td>\n      <td>1352754599590035459</td>\n      <td>DonaldJTrumpJr</td>\n      <td>3.934437e+07</td>\n      <td>Donald Trump is the first president in modern ...</td>\n      <td>2021-01-22 23:06:44</td>\n      <td>https://twitter.com/DonaldJTrumpJr/status/1352...</td>\n    </tr>\n    <tr>\n      <th>4</th>\n      <td>4</td>\n      <td>1356441140959064064</td>\n      <td>FionaRamshackle</td>\n      <td>8.664043e+17</td>\n      <td>@dcexaminer Go get those Antifa bastards! And ...</td>\n      <td>2021-02-02 03:15:44</td>\n      <td>https://twitter.com/FionaRamshackle/status/135...</td>\n    </tr>\n    <tr>\n      <th>...</th>\n      <td>...</td>\n      <td>...</td>\n      <td>...</td>\n      <td>...</td>\n      <td>...</td>\n      <td>...</td>\n      <td>...</td>\n    </tr>\n    <tr>\n      <th>19498</th>\n      <td>41</td>\n      <td>1480912946364653568</td>\n      <td>TaylorPopielarz</td>\n      <td>8.590164e+08</td>\n      <td>If you’ve seen folks online declaring the CDC ...</td>\n      <td>2022-01-11 14:42:15+00:00</td>\n      <td>https://twitter.com/TaylorPopielarz/status/148...</td>\n    </tr>\n    <tr>\n      <th>19499</th>\n      <td>42</td>\n      <td>1480897040951484418</td>\n      <td>ddale8</td>\n      <td>2.252656e+08</td>\n      <td>Top: Edited Walensky comments that aired on Go...</td>\n      <td>2022-01-11 13:39:02+00:00</td>\n      <td>https://twitter.com/ddale8/status/148089704095...</td>\n    </tr>\n    <tr>\n      <th>19500</th>\n      <td>43</td>\n      <td>1480709905405427712</td>\n      <td>JamesSurowiecki</td>\n      <td>1.219580e+09</td>\n      <td>Here is the unedited version of Rochelle Walen...</td>\n      <td>2022-01-11 01:15:26+00:00</td>\n      <td>https://twitter.com/JamesSurowiecki/status/148...</td>\n    </tr>\n    <tr>\n      <th>19501</th>\n      <td>44</td>\n      <td>1480890505156337666</td>\n      <td>brianstelter</td>\n      <td>1.451580e+07</td>\n      <td>Days and days of distortions, all based on a b...</td>\n      <td>2022-01-11 13:13:04+00:00</td>\n      <td>https://twitter.com/brianstelter/status/148089...</td>\n    </tr>\n    <tr>\n      <th>19502</th>\n      <td>45</td>\n      <td>1476000150162186243</td>\n      <td>RealCandaceO</td>\n      <td>8.782476e+17</td>\n      <td>Any adult who encourages transgenderism in chi...</td>\n      <td>2021-12-29 01:20:33+00:00</td>\n      <td>https://twitter.com/RealCandaceO/status/147600...</td>\n    </tr>\n  </tbody>\n</table>\n<p>19503 rows × 7 columns</p>\n</div>"
     },
     "metadata": {}
    }
   ]
  },
  {
   "cell_type": "code",
   "metadata": {
    "cell_id": "a6c5e836-2e03-4d76-9390-c3e723657fb5",
    "tags": [],
    "deepnote_to_be_reexecuted": false,
    "source_hash": "e39d0893",
    "execution_start": 1645483778559,
    "execution_millis": 48,
    "deepnote_cell_type": "code",
    "deepnote_output_heights": [
     21.1875
    ]
   },
   "source": "len(seen_tweets[(~noted_tweets.tweetId.isin(notes.tweetId))].tweetId.unique())",
   "execution_count": null,
   "outputs": [
    {
     "name": "stderr",
     "text": "<ipython-input-10-73ac19c5b9e7>:1: UserWarning: Boolean Series key will be reindexed to match DataFrame index.\n  len(seen_tweets[(~noted_tweets.tweetId.isin(notes.tweetId))].tweetId.unique())\n",
     "output_type": "stream"
    },
    {
     "output_type": "execute_result",
     "execution_count": 10,
     "data": {
      "text/plain": "74"
     },
     "metadata": {}
    }
   ]
  },
  {
   "cell_type": "code",
   "metadata": {
    "cell_id": "8a68c115-8345-4f33-acca-13e5948daa43",
    "tags": [],
    "deepnote_to_be_reexecuted": false,
    "source_hash": "8aa10a4b",
    "execution_start": 1645483778606,
    "execution_millis": 2,
    "deepnote_cell_type": "code",
    "deepnote_output_heights": [
     21.1875
    ]
   },
   "source": "len(seen_tweets[seen_tweets.username.isna()])",
   "execution_count": null,
   "outputs": [
    {
     "output_type": "execute_result",
     "execution_count": 11,
     "data": {
      "text/plain": "1988"
     },
     "metadata": {}
    }
   ]
  },
  {
   "cell_type": "markdown",
   "source": "<a style='text-decoration:none;line-height:16px;display:flex;color:#5B5B62;padding:10px;justify-content:end;' href='https://deepnote.com?utm_source=created-in-deepnote-cell&projectId=c0e62a2c-7f45-414e-8164-5bf51e09d482' target=\"_blank\">\n<img alt='Created in deepnote.com' style='display:inline;max-height:16px;margin:0px;margin-right:7.5px;' src='data:image/svg+xml;base64,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' > </img>\nCreated in <span style='font-weight:600;margin-left:4px;'>Deepnote</span></a>",
   "metadata": {
    "tags": [],
    "created_in_deepnote_cell": true,
    "deepnote_cell_type": "markdown"
   }
  }
 ],
 "nbformat": 4,
 "nbformat_minor": 2,
 "metadata": {
  "orig_nbformat": 2,
  "deepnote": {
   "is_reactive": false
  },
  "deepnote_notebook_id": "0c7c864d-7c44-49b3-ac81-abc8bf9b3bbf",
  "deepnote_execution_queue": []
 }
}